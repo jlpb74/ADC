{
 "cells": [
  {
   "cell_type": "code",
   "execution_count": 217,
   "metadata": {
    "ExecuteTime": {
     "end_time": "2023-10-08T21:50:08.504126500Z",
     "start_time": "2023-10-08T21:50:05.574106200Z"
    }
   },
   "outputs": [],
   "source": [
    "# Import necessary libraries\n",
    "import pandas as pd\n",
    "import numpy as np\n",
    "import matplotlib.pyplot as plt\n",
    "import seaborn as sns\n",
    "from collections import defaultdict\n",
    "import os\n",
    "import os.path\n",
    "import math\n",
    "from surprise import (Reader, Dataset, NormalPredictor, BaselineOnly,\n",
    "                      accuracy, SVD, SVDpp, NMF, KNNBasic, KNNWithMeans,\n",
    "                      KNNWithZScore, KNNBaseline)\n",
    "from surprise.model_selection import (cross_validate, KFold,\n",
    "                                      train_test_split, GridSearchCV,\n",
    "                                      RandomizedSearchCV)\n",
    "\n",
    "# Always make it pretty.\n",
    "plt.style.use('ggplot')\n",
    "%matplotlib inline\n",
    "sns.set_style(style=\"whitegrid\")"
   ]
  },
  {
   "cell_type": "code",
   "execution_count": 218,
   "outputs": [],
   "source": [
    "# Load Data\n",
    "business_df = pd.read_csv('../datasets/filter_data/tucson_business.csv')\n",
    "review_df = pd.read_csv('../datasets/filter_data/tucson_reviews.csv')\n",
    "user_df = pd.read_csv('../datasets/filter_data/tucson_users.csv')\n",
    "tucson_df=pd.read_csv('../datasets/filter_data/tucson_df.csv')\n",
    "all_df= pd.read_csv('../datasets/filter_data/all_df.csv')"
   ],
   "metadata": {
    "collapsed": false,
    "ExecuteTime": {
     "end_time": "2023-10-08T21:50:11.788073Z",
     "start_time": "2023-10-08T21:50:05.592068800Z"
    }
   }
  },
  {
   "cell_type": "code",
   "execution_count": 219,
   "outputs": [],
   "source": [
    "# Drop unneeded columns for users\n",
    "user_df.drop(columns=['useful', 'funny', 'cool', 'fans', 'elite',\n",
    "                      'friends', 'compliment_hot', 'compliment_more',\n",
    "                      'compliment_profile', 'compliment_cute',\n",
    "                      'compliment_list', 'compliment_note',\n",
    "                      'compliment_plain', 'compliment_cool',\n",
    "                      'compliment_funny', 'compliment_writer',\n",
    "                      'compliment_photos'],\n",
    "             axis=1, inplace=True)"
   ],
   "metadata": {
    "collapsed": false,
    "ExecuteTime": {
     "end_time": "2023-10-08T21:50:11.819321Z",
     "start_time": "2023-10-08T21:50:11.772501300Z"
    }
   }
  },
  {
   "cell_type": "code",
   "execution_count": 220,
   "outputs": [],
   "source": [
    "# Drop unneeded columns for businesses\n",
    "business_df.drop(columns=['address', 'postal_code', 'latitude', 'longitude',\n",
    "                          'attributes', 'hours'],\n",
    "                 axis=1, inplace=True)"
   ],
   "metadata": {
    "collapsed": false,
    "ExecuteTime": {
     "end_time": "2023-10-08T21:50:11.834945600Z",
     "start_time": "2023-10-08T21:50:11.803724200Z"
    }
   }
  },
  {
   "cell_type": "code",
   "execution_count": 221,
   "outputs": [],
   "source": [
    "# Drop unneeded columns for reviews\n",
    "review_df.drop(columns=['useful', 'funny', 'cool'], axis=1, inplace=True)"
   ],
   "metadata": {
    "collapsed": false,
    "ExecuteTime": {
     "end_time": "2023-10-08T21:50:11.872831600Z",
     "start_time": "2023-10-08T21:50:11.834945600Z"
    }
   }
  },
  {
   "cell_type": "code",
   "execution_count": 222,
   "outputs": [
    {
     "name": "stdout",
     "output_type": "stream",
     "text": [
      "(702, 8)\n",
      "(68783, 5)\n",
      "(191113, 6)\n"
     ]
    }
   ],
   "source": [
    "# Look at the shapes of dataframes after removing columns\n",
    "print(business_df.shape)\n",
    "print(user_df.shape)\n",
    "print(review_df.shape)"
   ],
   "metadata": {
    "collapsed": false,
    "ExecuteTime": {
     "end_time": "2023-10-08T21:50:11.919727500Z",
     "start_time": "2023-10-08T21:50:11.850969800Z"
    }
   }
  },
  {
   "cell_type": "code",
   "execution_count": 223,
   "outputs": [],
   "source": [
    "# Rename columns to avoid mix-ups\n",
    "review_df.rename(columns={'stars': 'review_stars'}, inplace=True)\n",
    "business_df.rename(columns={'stars': 'business_stars',\n",
    "                            'name': 'business_name'}, inplace=True)\n",
    "user_df.rename(columns={'name': 'user_name'}, inplace=True)"
   ],
   "metadata": {
    "collapsed": false,
    "ExecuteTime": {
     "end_time": "2023-10-08T21:50:11.919727500Z",
     "start_time": "2023-10-08T21:50:11.866600300Z"
    }
   }
  },
  {
   "cell_type": "code",
   "execution_count": 224,
   "outputs": [
    {
     "data": {
      "text/plain": "                  user_id             business_id  review_stars\n0  4Uh27DgGzsp6PqrH913giQ  otQS34_MymijPTdNBoBdCw             4\n1  4Uh27DgGzsp6PqrH913giQ  RhuYqAT45uIR2NNdDsolXQ             3\n2  4Uh27DgGzsp6PqrH913giQ  RhuYqAT45uIR2NNdDsolXQ             4\n3  4Uh27DgGzsp6PqrH913giQ  8QJTzIaR5FceGds8HBSIig             4\n4  4Uh27DgGzsp6PqrH913giQ  Y3ZCO17N1_T_Ms1JmswwzA             4",
      "text/html": "<div>\n<style scoped>\n    .dataframe tbody tr th:only-of-type {\n        vertical-align: middle;\n    }\n\n    .dataframe tbody tr th {\n        vertical-align: top;\n    }\n\n    .dataframe thead th {\n        text-align: right;\n    }\n</style>\n<table border=\"1\" class=\"dataframe\">\n  <thead>\n    <tr style=\"text-align: right;\">\n      <th></th>\n      <th>user_id</th>\n      <th>business_id</th>\n      <th>review_stars</th>\n    </tr>\n  </thead>\n  <tbody>\n    <tr>\n      <th>0</th>\n      <td>4Uh27DgGzsp6PqrH913giQ</td>\n      <td>otQS34_MymijPTdNBoBdCw</td>\n      <td>4</td>\n    </tr>\n    <tr>\n      <th>1</th>\n      <td>4Uh27DgGzsp6PqrH913giQ</td>\n      <td>RhuYqAT45uIR2NNdDsolXQ</td>\n      <td>3</td>\n    </tr>\n    <tr>\n      <th>2</th>\n      <td>4Uh27DgGzsp6PqrH913giQ</td>\n      <td>RhuYqAT45uIR2NNdDsolXQ</td>\n      <td>4</td>\n    </tr>\n    <tr>\n      <th>3</th>\n      <td>4Uh27DgGzsp6PqrH913giQ</td>\n      <td>8QJTzIaR5FceGds8HBSIig</td>\n      <td>4</td>\n    </tr>\n    <tr>\n      <th>4</th>\n      <td>4Uh27DgGzsp6PqrH913giQ</td>\n      <td>Y3ZCO17N1_T_Ms1JmswwzA</td>\n      <td>4</td>\n    </tr>\n  </tbody>\n</table>\n</div>"
     },
     "execution_count": 224,
     "metadata": {},
     "output_type": "execute_result"
    }
   ],
   "source": [
    "# Create a utility matrix of user ids, business ids, and reviews\n",
    "utility = tucson_df[['user_id', 'business_id', 'review_stars']]\n",
    "utility.head()"
   ],
   "metadata": {
    "collapsed": false,
    "ExecuteTime": {
     "end_time": "2023-10-08T21:50:11.919727500Z",
     "start_time": "2023-10-08T21:50:11.872831600Z"
    }
   }
  },
  {
   "cell_type": "code",
   "execution_count": 225,
   "metadata": {
    "ExecuteTime": {
     "end_time": "2023-10-08T21:50:12.123653100Z",
     "start_time": "2023-10-08T21:50:11.888458900Z"
    }
   },
   "outputs": [
    {
     "data": {
      "text/plain": "<AxesSubplot:>"
     },
     "execution_count": 225,
     "metadata": {},
     "output_type": "execute_result"
    },
    {
     "data": {
      "text/plain": "<Figure size 640x480 with 1 Axes>",
      "image/png": "[encoded data removed]"
     },
     "metadata": {},
     "output_type": "display_data"
    }
   ],
   "source": [
    "utility['review_stars'].hist()"
   ]
  },
  {
   "cell_type": "code",
   "execution_count": 226,
   "metadata": {
    "ExecuteTime": {
     "end_time": "2023-10-08T21:50:12.470519200Z",
     "start_time": "2023-10-08T21:50:12.061110200Z"
    }
   },
   "outputs": [],
   "source": [
    "# Prepare data to run models\n",
    "reader = Reader(rating_scale=(1,5))\n",
    "data = Dataset.load_from_df(utility, reader)\n",
    "trainset, testset = train_test_split(data, test_size=0.2)"
   ]
  },
  {
   "cell_type": "code",
   "execution_count": 227,
   "metadata": {
    "ExecuteTime": {
     "end_time": "2023-10-08T21:55:23.601859900Z",
     "start_time": "2023-10-08T21:50:12.470519200Z"
    }
   },
   "outputs": [
    {
     "data": {
      "text/plain": "   uid    iid  rating\n0  0.0    0.0     4.0\n1  0.0  238.0     4.0",
      "text/html": "<div>\n<style scoped>\n    .dataframe tbody tr th:only-of-type {\n        vertical-align: middle;\n    }\n\n    .dataframe tbody tr th {\n        vertical-align: top;\n    }\n\n    .dataframe thead th {\n        text-align: right;\n    }\n</style>\n<table border=\"1\" class=\"dataframe\">\n  <thead>\n    <tr style=\"text-align: right;\">\n      <th></th>\n      <th>uid</th>\n      <th>iid</th>\n      <th>rating</th>\n    </tr>\n  </thead>\n  <tbody>\n    <tr>\n      <th>0</th>\n      <td>0.0</td>\n      <td>0.0</td>\n      <td>4.0</td>\n    </tr>\n    <tr>\n      <th>1</th>\n      <td>0.0</td>\n      <td>238.0</td>\n      <td>4.0</td>\n    </tr>\n  </tbody>\n</table>\n</div>"
     },
     "execution_count": 227,
     "metadata": {},
     "output_type": "execute_result"
    }
   ],
   "source": [
    "# Looking at the trainset in a dataframe\n",
    "iterator = trainset.all_ratings()\n",
    "trainset_df = pd.DataFrame(columns=['uid', 'iid', 'rating'])\n",
    "i = 0\n",
    "for (uid, iid, rating) in iterator:\n",
    "    trainset_df.loc[i] = [uid, iid, rating]\n",
    "    i = i+1\n",
    "\n",
    "trainset_df.head(2)"
   ]
  },
  {
   "cell_type": "code",
   "execution_count": 228,
   "metadata": {
    "ExecuteTime": {
     "end_time": "2023-10-08T21:55:23.633116200Z",
     "start_time": "2023-10-08T21:55:23.601859900Z"
    }
   },
   "outputs": [],
   "source": [
    "def inner_to_raw_iid(row):\n",
    "    '''\n",
    "    Returns the raw item id associated with a given Surprise inner id\n",
    "    \n",
    "    Parameters:\n",
    "    row: corresponds to a row in a dataframe\n",
    "    \n",
    "    Returns:\n",
    "    output (float): raw item id\n",
    "    '''\n",
    "    output = trainset.to_raw_iid(row['iid'])\n",
    "    return output"
   ]
  },
  {
   "cell_type": "code",
   "execution_count": 229,
   "metadata": {
    "ExecuteTime": {
     "end_time": "2023-10-08T21:55:23.633116200Z",
     "start_time": "2023-10-08T21:55:23.617492100Z"
    }
   },
   "outputs": [],
   "source": [
    "def inner_to_raw_uid(row):\n",
    "    '''\n",
    "    Returns the raw user id associated with a given Surprise inner id\n",
    "    \n",
    "    Parameters:\n",
    "    row: corresponds to a row in a dataframe\n",
    "    \n",
    "    Returns:\n",
    "    output (float): raw user id\n",
    "    '''\n",
    "    output = trainset.to_raw_uid(row['uid'])\n",
    "    return output"
   ]
  },
  {
   "cell_type": "code",
   "execution_count": 230,
   "metadata": {
    "ExecuteTime": {
     "end_time": "2023-10-08T21:56:06.695016800Z",
     "start_time": "2023-10-08T21:55:23.648742100Z"
    }
   },
   "outputs": [
    {
     "data": {
      "text/plain": "                      uid                     iid  rating\n0  TBUk--BjeXPESdZM5PXx8g  gfLsBY-xsNE9-ktiTvTvGA     5.0\n1  0mWo3YRsvcPcOIuDDgP66Q  zZ01WQlcpI1_n806WKV3bA     5.0",
      "text/html": "<div>\n<style scoped>\n    .dataframe tbody tr th:only-of-type {\n        vertical-align: middle;\n    }\n\n    .dataframe tbody tr th {\n        vertical-align: top;\n    }\n\n    .dataframe thead th {\n        text-align: right;\n    }\n</style>\n<table border=\"1\" class=\"dataframe\">\n  <thead>\n    <tr style=\"text-align: right;\">\n      <th></th>\n      <th>uid</th>\n      <th>iid</th>\n      <th>rating</th>\n    </tr>\n  </thead>\n  <tbody>\n    <tr>\n      <th>0</th>\n      <td>TBUk--BjeXPESdZM5PXx8g</td>\n      <td>gfLsBY-xsNE9-ktiTvTvGA</td>\n      <td>5.0</td>\n    </tr>\n    <tr>\n      <th>1</th>\n      <td>0mWo3YRsvcPcOIuDDgP66Q</td>\n      <td>zZ01WQlcpI1_n806WKV3bA</td>\n      <td>5.0</td>\n    </tr>\n  </tbody>\n</table>\n</div>"
     },
     "execution_count": 230,
     "metadata": {},
     "output_type": "execute_result"
    }
   ],
   "source": [
    "# Place testset into a dataframe\n",
    "testset_df = pd.DataFrame(columns=['uid', 'iid', 'rating'])\n",
    "i = 0\n",
    "for (uid, iid, rating) in testset:\n",
    "    testset_df.loc[i] = [uid, iid, rating]\n",
    "    i = i+1\n",
    "\n",
    "testset_df.head(2)"
   ]
  },
  {
   "cell_type": "code",
   "execution_count": 231,
   "metadata": {
    "ExecuteTime": {
     "end_time": "2023-10-08T21:56:09.207901400Z",
     "start_time": "2023-10-08T21:56:06.695016800Z"
    }
   },
   "outputs": [],
   "source": [
    "# Convert Surprise inner ids into raw ids\n",
    "trainset_df['iid'] = trainset_df.apply(inner_to_raw_iid, axis=1)\n",
    "trainset_df['uid'] = trainset_df.apply(inner_to_raw_uid, axis=1)"
   ]
  },
  {
   "cell_type": "code",
   "execution_count": 232,
   "metadata": {
    "ExecuteTime": {
     "end_time": "2023-10-08T21:56:09.255079200Z",
     "start_time": "2023-10-08T21:56:09.207901400Z"
    }
   },
   "outputs": [
    {
     "data": {
      "text/plain": "                      uid                     iid  rating\n0  k-sJ26E2KUEbYk6Q8G3I5g  5p4p5DknrjuxIUDokYZE9w     4.0\n1  k-sJ26E2KUEbYk6Q8G3I5g  OuaqRGlscxMIqUoN4Vw41A     4.0\n2  k-sJ26E2KUEbYk6Q8G3I5g  8QJTzIaR5FceGds8HBSIig     5.0\n3  9_iMgkDKw4HnPKsC4Sv-ZA  UjQnH-pElJZ9jD51vOt5Rw     5.0\n4  CiWY9nanf5Cv55Q01Pxrpg  wj8XtPyuREj8_0GQz3LZ6w     5.0",
      "text/html": "<div>\n<style scoped>\n    .dataframe tbody tr th:only-of-type {\n        vertical-align: middle;\n    }\n\n    .dataframe tbody tr th {\n        vertical-align: top;\n    }\n\n    .dataframe thead th {\n        text-align: right;\n    }\n</style>\n<table border=\"1\" class=\"dataframe\">\n  <thead>\n    <tr style=\"text-align: right;\">\n      <th></th>\n      <th>uid</th>\n      <th>iid</th>\n      <th>rating</th>\n    </tr>\n  </thead>\n  <tbody>\n    <tr>\n      <th>0</th>\n      <td>k-sJ26E2KUEbYk6Q8G3I5g</td>\n      <td>5p4p5DknrjuxIUDokYZE9w</td>\n      <td>4.0</td>\n    </tr>\n    <tr>\n      <th>1</th>\n      <td>k-sJ26E2KUEbYk6Q8G3I5g</td>\n      <td>OuaqRGlscxMIqUoN4Vw41A</td>\n      <td>4.0</td>\n    </tr>\n    <tr>\n      <th>2</th>\n      <td>k-sJ26E2KUEbYk6Q8G3I5g</td>\n      <td>8QJTzIaR5FceGds8HBSIig</td>\n      <td>5.0</td>\n    </tr>\n    <tr>\n      <th>3</th>\n      <td>9_iMgkDKw4HnPKsC4Sv-ZA</td>\n      <td>UjQnH-pElJZ9jD51vOt5Rw</td>\n      <td>5.0</td>\n    </tr>\n    <tr>\n      <th>4</th>\n      <td>CiWY9nanf5Cv55Q01Pxrpg</td>\n      <td>wj8XtPyuREj8_0GQz3LZ6w</td>\n      <td>5.0</td>\n    </tr>\n  </tbody>\n</table>\n</div>"
     },
     "execution_count": 232,
     "metadata": {},
     "output_type": "execute_result"
    }
   ],
   "source": [
    "trainset_df.head()"
   ]
  },
  {
   "cell_type": "code",
   "execution_count": 233,
   "metadata": {
    "ExecuteTime": {
     "end_time": "2023-10-08T21:56:29.516543200Z",
     "start_time": "2023-10-08T21:56:09.223786900Z"
    }
   },
   "outputs": [
    {
     "data": {
      "text/plain": "8441"
     },
     "execution_count": 233,
     "metadata": {},
     "output_type": "execute_result"
    }
   ],
   "source": [
    "# Number of users that are in train and not test\n",
    "len(np.setdiff1d(testset_df['uid'].unique(), trainset_df['uid'].unique()))"
   ]
  },
  {
   "cell_type": "code",
   "execution_count": 234,
   "metadata": {
    "ExecuteTime": {
     "end_time": "2023-10-08T21:56:29.540563700Z",
     "start_time": "2023-10-08T21:56:29.514486100Z"
    }
   },
   "outputs": [
    {
     "data": {
      "text/plain": "0"
     },
     "execution_count": 234,
     "metadata": {},
     "output_type": "execute_result"
    }
   ],
   "source": [
    "# Number of restaurants that are in train and not test\n",
    "len(np.setdiff1d(testset_df['iid'].unique(), trainset_df['iid'].unique()))"
   ]
  },
  {
   "cell_type": "code",
   "execution_count": 235,
   "metadata": {
    "ExecuteTime": {
     "end_time": "2023-10-08T21:56:29.905626200Z",
     "start_time": "2023-10-08T21:56:29.556199Z"
    }
   },
   "outputs": [
    {
     "name": "stdout",
     "output_type": "stream",
     "text": [
      "MAE:  1.3777\n",
      "1.3777162842472583\n",
      "MSE: 3.0931\n",
      "3.093124275932938\n",
      "RMSE: 1.7587\n",
      "1.758728027846528\n"
     ]
    }
   ],
   "source": [
    "# Random ratings based on distribution of the training set\n",
    "normal_predictor = NormalPredictor()\n",
    "normal_predictor.fit(trainset)\n",
    "predictions = normal_predictor.test(testset)\n",
    "print(accuracy.mae(predictions))\n",
    "print(accuracy.mse(predictions))\n",
    "print(accuracy.rmse(predictions))"
   ]
  },
  {
   "cell_type": "code",
   "execution_count": 236,
   "metadata": {
    "ExecuteTime": {
     "end_time": "2023-10-08T21:56:30.545498300Z",
     "start_time": "2023-10-08T21:56:29.905626200Z"
    }
   },
   "outputs": [
    {
     "name": "stdout",
     "output_type": "stream",
     "text": [
      "Estimating biases using als...\n",
      "MAE:  1.0103\n",
      "1.0102679635098186\n",
      "MSE: 1.5659\n",
      "1.5659204740027735\n",
      "RMSE: 1.2514\n",
      "1.2513674416424512\n"
     ]
    }
   ],
   "source": [
    "# Baseline ratings\n",
    "baseline_only = BaselineOnly()\n",
    "baseline_only.fit(trainset)\n",
    "predictions = baseline_only.test(testset)\n",
    "print(accuracy.mae(predictions))\n",
    "print(accuracy.mse(predictions))\n",
    "print(accuracy.rmse(predictions))"
   ]
  },
  {
   "cell_type": "code",
   "execution_count": 237,
   "metadata": {
    "ExecuteTime": {
     "end_time": "2023-10-08T21:56:36.144942200Z",
     "start_time": "2023-10-08T21:56:30.543424100Z"
    }
   },
   "outputs": [
    {
     "name": "stdout",
     "output_type": "stream",
     "text": [
      "MAE:  1.0106\n",
      "1.0106287867295225\n",
      "MSE: 1.5948\n",
      "1.5947843192273845\n",
      "RMSE: 1.2628\n",
      "1.2628477023091045\n"
     ]
    }
   ],
   "source": [
    "# Funk SVD (defaults)\n",
    "svd = SVD()\n",
    "svd.fit(trainset)\n",
    "predictions = svd.test(testset)\n",
    "print(accuracy.mae(predictions))\n",
    "print(accuracy.mse(predictions))\n",
    "print(accuracy.rmse(predictions))"
   ]
  },
  {
   "cell_type": "code",
   "execution_count": 238,
   "outputs": [
    {
     "name": "stdout",
     "output_type": "stream",
     "text": [
      "MAE:  1.0126\n",
      "1.0125762173762576\n",
      "MSE: 1.6114\n",
      "1.6114243629219223\n",
      "RMSE: 1.2694\n",
      "1.2694189075801268\n"
     ]
    }
   ],
   "source": [
    "# SVD++ (defaults)\n",
    "svdpp = SVDpp()\n",
    "svdpp.fit(trainset)\n",
    "predictions = svdpp.test(testset)\n",
    "print(accuracy.mae(predictions))\n",
    "print(accuracy.mse(predictions))\n",
    "print(accuracy.rmse(predictions))"
   ],
   "metadata": {
    "collapsed": false,
    "ExecuteTime": {
     "end_time": "2023-10-08T21:57:00.915636500Z",
     "start_time": "2023-10-08T21:56:36.136673800Z"
    }
   }
  },
  {
   "cell_type": "code",
   "execution_count": 239,
   "metadata": {
    "ExecuteTime": {
     "end_time": "2023-10-08T21:57:09.749218600Z",
     "start_time": "2023-10-08T21:57:00.915636500Z"
    }
   },
   "outputs": [
    {
     "name": "stdout",
     "output_type": "stream",
     "text": [
      "MAE:  1.1092\n",
      "1.1092397236876992\n",
      "MSE: 1.9807\n",
      "1.980727740343776\n",
      "RMSE: 1.4074\n",
      "1.407383295461395\n"
     ]
    }
   ],
   "source": [
    "# NMF (defaults)\n",
    "nmf = NMF()\n",
    "nmf.fit(trainset)\n",
    "predictions = nmf.test(testset)\n",
    "print(accuracy.mae(predictions))\n",
    "print(accuracy.mse(predictions))\n",
    "print(accuracy.rmse(predictions))"
   ]
  },
  {
   "cell_type": "code",
   "execution_count": 240,
   "outputs": [
    {
     "name": "stdout",
     "output_type": "stream",
     "text": [
      "Computing the msd similarity matrix...\n",
      "Done computing similarity matrix.\n",
      "MAE:  1.0525\n",
      "1.0524837012855033\n",
      "MSE: 1.7758\n",
      "1.7758294884779298\n",
      "RMSE: 1.3326\n",
      "1.3326025245653446\n"
     ]
    }
   ],
   "source": [
    "# KNN (defaults)\n",
    "knnbasic = KNNBasic()\n",
    "knnbasic.fit(trainset)\n",
    "predictions = knnbasic.test(testset)\n",
    "print(accuracy.mae(predictions))\n",
    "print(accuracy.mse(predictions))\n",
    "print(accuracy.rmse(predictions))"
   ],
   "metadata": {
    "collapsed": false,
    "ExecuteTime": {
     "end_time": "2023-10-08T21:59:53.373804800Z",
     "start_time": "2023-10-08T21:57:09.894759200Z"
    }
   }
  },
  {
   "cell_type": "code",
   "execution_count": 241,
   "metadata": {
    "ExecuteTime": {
     "end_time": "2023-10-08T21:59:53.468029900Z",
     "start_time": "2023-10-08T21:59:53.389457400Z"
    }
   },
   "outputs": [
    {
     "data": {
      "text/plain": "I06gY9An4o81XpejLWD9DA    277\n6ObFF8-uKnOAlXuSH4TlyQ    250\n9Y1YkloHk2MAE3hkwYdFKA    225\n2YKkLFeOx-0zRcWp0KUv_Q    192\nW67nXodRWTIa-d1NJlncvA    183\n                         ... \nFfNBj0lwSR5DnrWN0qDyMg      1\nkUnllSW1mI7PkO6XTOEOvQ      1\nMeu2vlUP5RxJduk3C2Fj-Q      1\nLarM0K7oMiYFEiTxVAiIoQ      1\n49wfP6O738V9k7zarB3wXQ      1\nName: user_id, Length: 62880, dtype: int64"
     },
     "execution_count": 241,
     "metadata": {},
     "output_type": "execute_result"
    }
   ],
   "source": [
    "utility['user_id'].value_counts()"
   ]
  },
  {
   "cell_type": "code",
   "execution_count": 242,
   "outputs": [],
   "source": [
    "#preds = preds.sort_values('user_id', ascending=True)"
   ],
   "metadata": {
    "collapsed": false,
    "ExecuteTime": {
     "end_time": "2023-10-08T21:59:53.483654400Z",
     "start_time": "2023-10-08T21:59:53.468029900Z"
    }
   }
  },
  {
   "cell_type": "code",
   "execution_count": 243,
   "metadata": {
    "ExecuteTime": {
     "end_time": "2023-10-08T21:59:53.611954400Z",
     "start_time": "2023-10-08T21:59:53.499278900Z"
    }
   },
   "outputs": [],
   "source": [
    "# Trim utility matrix to users, restaurants with at least 3 reviews\n",
    "utility_3 = utility[utility['user_id'].map(utility['user_id']\n",
    "                                           .value_counts()) >= 3]\n",
    "utility_3 = utility_3[utility_3['business_id'].map(utility_3['business_id']\n",
    "                                                   .value_counts()) >= 3]"
   ]
  },
  {
   "cell_type": "code",
   "execution_count": 244,
   "metadata": {
    "ExecuteTime": {
     "end_time": "2023-10-08T21:59:53.627400900Z",
     "start_time": "2023-10-08T21:59:53.611954400Z"
    }
   },
   "outputs": [
    {
     "data": {
      "text/plain": "(103722, 3)"
     },
     "execution_count": 244,
     "metadata": {},
     "output_type": "execute_result"
    }
   ],
   "source": [
    "utility_3.shape"
   ]
  },
  {
   "cell_type": "code",
   "execution_count": 245,
   "outputs": [
    {
     "data": {
      "text/plain": "                  user_id             business_id  review_stars\n0  4Uh27DgGzsp6PqrH913giQ  otQS34_MymijPTdNBoBdCw             4\n1  4Uh27DgGzsp6PqrH913giQ  RhuYqAT45uIR2NNdDsolXQ             3\n2  4Uh27DgGzsp6PqrH913giQ  RhuYqAT45uIR2NNdDsolXQ             4\n3  4Uh27DgGzsp6PqrH913giQ  8QJTzIaR5FceGds8HBSIig             4\n4  4Uh27DgGzsp6PqrH913giQ  Y3ZCO17N1_T_Ms1JmswwzA             4",
      "text/html": "<div>\n<style scoped>\n    .dataframe tbody tr th:only-of-type {\n        vertical-align: middle;\n    }\n\n    .dataframe tbody tr th {\n        vertical-align: top;\n    }\n\n    .dataframe thead th {\n        text-align: right;\n    }\n</style>\n<table border=\"1\" class=\"dataframe\">\n  <thead>\n    <tr style=\"text-align: right;\">\n      <th></th>\n      <th>user_id</th>\n      <th>business_id</th>\n      <th>review_stars</th>\n    </tr>\n  </thead>\n  <tbody>\n    <tr>\n      <th>0</th>\n      <td>4Uh27DgGzsp6PqrH913giQ</td>\n      <td>otQS34_MymijPTdNBoBdCw</td>\n      <td>4</td>\n    </tr>\n    <tr>\n      <th>1</th>\n      <td>4Uh27DgGzsp6PqrH913giQ</td>\n      <td>RhuYqAT45uIR2NNdDsolXQ</td>\n      <td>3</td>\n    </tr>\n    <tr>\n      <th>2</th>\n      <td>4Uh27DgGzsp6PqrH913giQ</td>\n      <td>RhuYqAT45uIR2NNdDsolXQ</td>\n      <td>4</td>\n    </tr>\n    <tr>\n      <th>3</th>\n      <td>4Uh27DgGzsp6PqrH913giQ</td>\n      <td>8QJTzIaR5FceGds8HBSIig</td>\n      <td>4</td>\n    </tr>\n    <tr>\n      <th>4</th>\n      <td>4Uh27DgGzsp6PqrH913giQ</td>\n      <td>Y3ZCO17N1_T_Ms1JmswwzA</td>\n      <td>4</td>\n    </tr>\n  </tbody>\n</table>\n</div>"
     },
     "execution_count": 245,
     "metadata": {},
     "output_type": "execute_result"
    }
   ],
   "source": [
    "utility_3.head()"
   ],
   "metadata": {
    "collapsed": false,
    "ExecuteTime": {
     "end_time": "2023-10-08T21:59:53.659044800Z",
     "start_time": "2023-10-08T21:59:53.627400900Z"
    }
   }
  },
  {
   "cell_type": "code",
   "execution_count": 246,
   "metadata": {
    "ExecuteTime": {
     "end_time": "2023-10-08T21:59:53.721542800Z",
     "start_time": "2023-10-08T21:59:53.643412400Z"
    }
   },
   "outputs": [
    {
     "data": {
      "text/plain": "0.013958024996386756"
     },
     "execution_count": 246,
     "metadata": {},
     "output_type": "execute_result"
    }
   ],
   "source": [
    "# Get updated density (roughly four times higher now)\n",
    "utility_users = len(utility_3['user_id'].unique())\n",
    "utility_businesses = len(utility_3['business_id'].unique())\n",
    "utility_reviews = utility_3.shape[0]\n",
    "utility_reviews / (utility_businesses * utility_users)"
   ]
  },
  {
   "cell_type": "code",
   "execution_count": 247,
   "metadata": {
    "ExecuteTime": {
     "end_time": "2023-10-08T21:59:53.752679300Z",
     "start_time": "2023-10-08T21:59:53.674668500Z"
    }
   },
   "outputs": [
    {
     "name": "stdout",
     "output_type": "stream",
     "text": [
      "13014\n",
      "571\n",
      "103722\n"
     ]
    }
   ],
   "source": [
    "# Examine dimensions post-trimming\n",
    "print(utility_users)\n",
    "print(utility_businesses)\n",
    "print(utility_reviews)"
   ]
  },
  {
   "cell_type": "code",
   "execution_count": 248,
   "metadata": {
    "ExecuteTime": {
     "end_time": "2023-10-08T21:59:53.972056600Z",
     "start_time": "2023-10-08T21:59:53.705917500Z"
    }
   },
   "outputs": [
    {
     "data": {
      "text/plain": "<AxesSubplot:>"
     },
     "execution_count": 248,
     "metadata": {},
     "output_type": "execute_result"
    },
    {
     "data": {
      "text/plain": "<Figure size 640x480 with 1 Axes>",
      "image/png": "[encoded data removed]"
     },
     "metadata": {},
     "output_type": "display_data"
    }
   ],
   "source": [
    "utility_3['review_stars'].hist()"
   ]
  },
  {
   "cell_type": "code",
   "execution_count": 249,
   "metadata": {
    "ExecuteTime": {
     "end_time": "2023-10-08T21:59:54.470195800Z",
     "start_time": "2023-10-08T21:59:53.987682Z"
    }
   },
   "outputs": [
    {
     "data": {
      "text/plain": "<Figure size 1600x800 with 2 Axes>",
      "image/png": "[encoded data removed]"
     },
     "metadata": {},
     "output_type": "display_data"
    }
   ],
   "source": [
    "# Examining review distributions on the same scale\n",
    "utility_user_ratings = utility_3.groupby('user_id').count()['business_id']\n",
    "utility_rest_ratings = utility_3.groupby('business_id').count()['review_stars']\n",
    "fig,ax = plt.subplots(1,2,figsize=(16,8),sharey=True,sharex=True)\n",
    "ax[0].hist(utility_user_ratings,label='User Rating Counts', color='b')\n",
    "ax[1].hist(utility_rest_ratings,label='Restaurant Rating Counts', color='r')\n",
    "ax[0].legend()\n",
    "ax[1].legend();"
   ]
  },
  {
   "cell_type": "code",
   "execution_count": 250,
   "metadata": {
    "ExecuteTime": {
     "end_time": "2023-10-08T21:59:54.485851500Z",
     "start_time": "2023-10-08T21:59:54.470195800Z"
    }
   },
   "outputs": [
    {
     "data": {
      "text/plain": "(277, 1354)"
     },
     "execution_count": 250,
     "metadata": {},
     "output_type": "execute_result"
    }
   ],
   "source": [
    "# Max values for reviews by user and restaurant\n",
    "utility_user_ratings.max(), utility_rest_ratings.max()"
   ]
  },
  {
   "cell_type": "code",
   "execution_count": 251,
   "metadata": {
    "ExecuteTime": {
     "end_time": "2023-10-08T21:59:54.548365300Z",
     "start_time": "2023-10-08T21:59:54.485851500Z"
    }
   },
   "outputs": [
    {
     "data": {
      "text/plain": "(3, 32)"
     },
     "execution_count": 251,
     "metadata": {},
     "output_type": "execute_result"
    }
   ],
   "source": [
    "# Minimum values for reviews by user and restaurant\n",
    "utility_user_ratings.min(), utility_rest_ratings.min()"
   ]
  },
  {
   "cell_type": "code",
   "execution_count": 252,
   "metadata": {
    "ExecuteTime": {
     "end_time": "2023-10-08T21:59:54.783523600Z",
     "start_time": "2023-10-08T21:59:54.563996400Z"
    }
   },
   "outputs": [],
   "source": [
    "# Prepare data for models with adjusted utility matrix\n",
    "reader = Reader(rating_scale=(1,5))\n",
    "data_3 = Dataset.load_from_df(utility_3, reader)\n",
    "trainset_3, testset_3 = train_test_split(data_3, test_size=0.2)"
   ]
  },
  {
   "cell_type": "code",
   "execution_count": 253,
   "metadata": {
    "ExecuteTime": {
     "end_time": "2023-10-08T21:59:54.814774500Z",
     "start_time": "2023-10-08T21:59:54.783523600Z"
    }
   },
   "outputs": [],
   "source": [
    "def inner_to_raw_iid_3(row):\n",
    "    '''\n",
    "    Returns the raw item id associated with a given Surprise inner id.\n",
    "    Slightly adjusted from previous function for new trainset.\n",
    "    \n",
    "    Parameters:\n",
    "    row: corresponds to a row in a dataframe\n",
    "    \n",
    "    Returns:\n",
    "    output (float): raw item id\n",
    "    '''\n",
    "    output = trainset_3.to_raw_iid(row['iid'])\n",
    "    return output\n",
    "\n",
    "def inner_to_raw_uid_3(row):\n",
    "    '''\n",
    "    Returns the raw user id associated with a given Surprise inner id\n",
    "    Slightly adjusted from previous function for new trainset.\n",
    "    \n",
    "    Parameters:\n",
    "    row: corresponds to a row in a dataframe\n",
    "    \n",
    "    Returns:\n",
    "    output (float): raw user id\n",
    "    '''\n",
    "    output = trainset_3.to_raw_uid(row['uid'])\n",
    "    return output"
   ]
  },
  {
   "cell_type": "code",
   "execution_count": 254,
   "metadata": {
    "ExecuteTime": {
     "end_time": "2023-10-08T22:02:36.337389Z",
     "start_time": "2023-10-08T21:59:54.830401800Z"
    }
   },
   "outputs": [],
   "source": [
    "# Place trainset/testset into dataframes\n",
    "iterator_3 = trainset_3.all_ratings()\n",
    "trainset_3_df = pd.DataFrame(columns=['uid', 'iid', 'rating'])\n",
    "i = 0\n",
    "for (uid, iid, rating) in iterator_3:\n",
    "    trainset_3_df.loc[i] = [uid, iid, rating]\n",
    "    i = i+1\n",
    "\n",
    "testset_3_df = pd.DataFrame(columns=['uid', 'iid', 'rating'])\n",
    "i = 0\n",
    "for (uid, iid, rating) in testset_3:\n",
    "    testset_3_df.loc[i] = [uid, iid, rating]\n",
    "    i = i+1\n",
    "\n",
    "trainset_3_df['iid'] = trainset_3_df.apply(inner_to_raw_iid_3, axis=1)\n",
    "trainset_3_df['uid'] = trainset_3_df.apply(inner_to_raw_uid_3, axis=1)"
   ]
  },
  {
   "cell_type": "code",
   "execution_count": 255,
   "metadata": {
    "ExecuteTime": {
     "end_time": "2023-10-08T22:02:38.180650100Z",
     "start_time": "2023-10-08T22:02:36.337389Z"
    }
   },
   "outputs": [
    {
     "data": {
      "text/plain": "31"
     },
     "execution_count": 255,
     "metadata": {},
     "output_type": "execute_result"
    }
   ],
   "source": [
    "# Number of users that are in train and not test\n",
    "len(np.setdiff1d(testset_3_df['uid'].unique(), trainset_3_df['uid'].unique()))"
   ]
  },
  {
   "cell_type": "code",
   "execution_count": 256,
   "metadata": {
    "ExecuteTime": {
     "end_time": "2023-10-08T22:02:38.237063200Z",
     "start_time": "2023-10-08T22:02:38.181695100Z"
    }
   },
   "outputs": [
    {
     "data": {
      "text/plain": "0"
     },
     "execution_count": 256,
     "metadata": {},
     "output_type": "execute_result"
    }
   ],
   "source": [
    "# Number of restaurants that are in train and not test\n",
    "len(np.setdiff1d(testset_3_df['iid'].unique(), trainset_3_df['iid'].unique()))"
   ]
  },
  {
   "cell_type": "code",
   "execution_count": 257,
   "metadata": {
    "ExecuteTime": {
     "end_time": "2023-10-08T22:02:38.440978100Z",
     "start_time": "2023-10-08T22:02:38.220985300Z"
    }
   },
   "outputs": [
    {
     "name": "stdout",
     "output_type": "stream",
     "text": [
      "MAE:  1.2957\n",
      "1.2957325408955567\n",
      "MSE: 2.7336\n",
      "2.733598815654605\n",
      "RMSE: 1.6534\n",
      "1.6533598566720449\n"
     ]
    }
   ],
   "source": [
    "# Random ratings based on distribution of the training set\n",
    "normal_predictor = NormalPredictor()\n",
    "normal_predictor.fit(trainset_3)\n",
    "predictions = normal_predictor.test(testset_3)\n",
    "print(accuracy.mae(predictions))\n",
    "print(accuracy.mse(predictions))\n",
    "print(accuracy.rmse(predictions))"
   ]
  },
  {
   "cell_type": "code",
   "execution_count": 258,
   "metadata": {
    "ExecuteTime": {
     "end_time": "2023-10-08T22:02:38.722743100Z",
     "start_time": "2023-10-08T22:02:38.440978100Z"
    }
   },
   "outputs": [
    {
     "name": "stdout",
     "output_type": "stream",
     "text": [
      "Estimating biases using als...\n",
      "MAE:  0.9155\n",
      "0.9154981845349297\n",
      "MSE: 1.3144\n",
      "1.3143879531641034\n",
      "RMSE: 1.1465\n",
      "1.1464675979564811\n"
     ]
    }
   ],
   "source": [
    "# Baseline ratings\n",
    "baseline_only = BaselineOnly()\n",
    "baseline_only.fit(trainset_3)\n",
    "predictions = baseline_only.test(testset_3)\n",
    "print(accuracy.mae(predictions))\n",
    "print(accuracy.mse(predictions))\n",
    "print(accuracy.rmse(predictions))"
   ]
  },
  {
   "cell_type": "code",
   "execution_count": 259,
   "metadata": {
    "ExecuteTime": {
     "end_time": "2023-10-08T22:02:42.769225900Z",
     "start_time": "2023-10-08T22:02:38.691496100Z"
    }
   },
   "outputs": [
    {
     "name": "stdout",
     "output_type": "stream",
     "text": [
      "MAE:  0.9798\n",
      "0.97978645047325\n",
      "MSE: 1.6283\n",
      "1.628256909005355\n",
      "RMSE: 1.2760\n",
      "1.2760317037618443\n"
     ]
    }
   ],
   "source": [
    "# NMF (defaults)\n",
    "nmf = NMF()\n",
    "nmf.fit(trainset_3)\n",
    "predictions = nmf.test(testset_3)\n",
    "print(accuracy.mae(predictions))\n",
    "print(accuracy.mse(predictions))\n",
    "print(accuracy.rmse(predictions))"
   ]
  },
  {
   "cell_type": "code",
   "execution_count": 260,
   "metadata": {
    "ExecuteTime": {
     "end_time": "2023-10-08T22:02:46.093657400Z",
     "start_time": "2023-10-08T22:02:42.769225900Z"
    }
   },
   "outputs": [
    {
     "name": "stdout",
     "output_type": "stream",
     "text": [
      "MAE:  0.9070\n",
      "0.9069641996936642\n",
      "MSE: 1.3161\n",
      "1.3160589153607576\n",
      "RMSE: 1.1472\n",
      "1.1471961102447819\n"
     ]
    }
   ],
   "source": [
    "# Funk SVD (defaults)\n",
    "svd = SVD()\n",
    "svd.fit(trainset_3)\n",
    "predictions = svd.test(testset_3)\n",
    "print(accuracy.mae(predictions))\n",
    "print(accuracy.mse(predictions))\n",
    "print(accuracy.rmse(predictions))"
   ]
  },
  {
   "cell_type": "code",
   "execution_count": 261,
   "metadata": {
    "ExecuteTime": {
     "end_time": "2023-10-08T22:03:05.943135200Z",
     "start_time": "2023-10-08T22:02:46.093657400Z"
    }
   },
   "outputs": [
    {
     "name": "stdout",
     "output_type": "stream",
     "text": [
      "MAE:  0.9036\n",
      "0.9035843161961881\n",
      "MSE: 1.3250\n",
      "1.3249748887128028\n",
      "RMSE: 1.1511\n",
      "1.1510755356243145\n"
     ]
    }
   ],
   "source": [
    "# SVD++ (defaults)\n",
    "svdpp = SVDpp()\n",
    "svdpp.fit(trainset_3)\n",
    "predictions = svdpp.test(testset_3)\n",
    "print(accuracy.mae(predictions))\n",
    "print(accuracy.mse(predictions))\n",
    "print(accuracy.rmse(predictions))"
   ]
  },
  {
   "cell_type": "code",
   "execution_count": 262,
   "metadata": {
    "ExecuteTime": {
     "end_time": "2023-10-08T22:03:14.761073500Z",
     "start_time": "2023-10-08T22:03:05.943135200Z"
    }
   },
   "outputs": [
    {
     "name": "stdout",
     "output_type": "stream",
     "text": [
      "Computing the msd similarity matrix...\n",
      "Done computing similarity matrix.\n",
      "MAE:  0.9325\n",
      "0.9325351026036794\n",
      "MSE: 1.4569\n",
      "1.4569190825313392\n",
      "RMSE: 1.2070\n",
      "1.2070290313539849\n"
     ]
    }
   ],
   "source": [
    "# KNN (defaults)\n",
    "knnbasic = KNNBasic()\n",
    "knnbasic.fit(trainset_3)\n",
    "predictions = knnbasic.test(testset_3)\n",
    "print(accuracy.mae(predictions))\n",
    "print(accuracy.mse(predictions))\n",
    "print(accuracy.rmse(predictions))"
   ]
  },
  {
   "cell_type": "code",
   "execution_count": 263,
   "metadata": {
    "ExecuteTime": {
     "end_time": "2023-10-08T22:03:22.401884700Z",
     "start_time": "2023-10-08T22:03:14.761073500Z"
    }
   },
   "outputs": [
    {
     "name": "stdout",
     "output_type": "stream",
     "text": [
      "Computing the msd similarity matrix...\n",
      "Done computing similarity matrix.\n",
      "MAE:  0.9082\n",
      "0.9082201464294066\n",
      "MSE: 1.4965\n",
      "1.4964794754653015\n",
      "RMSE: 1.2233\n",
      "1.2233067789664624\n"
     ]
    }
   ],
   "source": [
    "# KNN with means (defaults)\n",
    "knnwithmeans = KNNWithMeans()\n",
    "knnwithmeans.fit(trainset_3)\n",
    "predictions = knnwithmeans.test(testset_3)\n",
    "print(accuracy.mae(predictions))\n",
    "print(accuracy.mse(predictions))\n",
    "print(accuracy.rmse(predictions))"
   ]
  },
  {
   "cell_type": "code",
   "execution_count": 264,
   "metadata": {
    "ExecuteTime": {
     "end_time": "2023-10-08T22:03:30.554907800Z",
     "start_time": "2023-10-08T22:03:22.401884700Z"
    }
   },
   "outputs": [
    {
     "name": "stdout",
     "output_type": "stream",
     "text": [
      "Computing the msd similarity matrix...\n",
      "Done computing similarity matrix.\n",
      "MAE:  0.9064\n",
      "0.9064072532421761\n",
      "MSE: 1.5095\n",
      "1.5095436540718683\n",
      "RMSE: 1.2286\n",
      "1.2286348741883686\n"
     ]
    }
   ],
   "source": [
    "# KNN with z-score (defaults)\n",
    "knnwithzscore = KNNWithZScore()\n",
    "knnwithzscore.fit(trainset_3)\n",
    "predictions = knnwithzscore.test(testset_3)\n",
    "print(accuracy.mae(predictions))\n",
    "print(accuracy.mse(predictions))\n",
    "print(accuracy.rmse(predictions))"
   ]
  },
  {
   "cell_type": "code",
   "execution_count": 265,
   "metadata": {
    "ExecuteTime": {
     "end_time": "2023-10-08T22:03:30.749938100Z",
     "start_time": "2023-10-08T22:03:30.554907800Z"
    }
   },
   "outputs": [],
   "source": [
    "# Save utility matrix to text file in order to explore percentiles\n",
    "utility_3.to_csv('../datasets/filter_data/utility.txt', sep='\\t', header=False, index=False)"
   ]
  },
  {
   "cell_type": "code",
   "execution_count": 266,
   "metadata": {
    "ExecuteTime": {
     "end_time": "2023-10-08T22:03:30.797274200Z",
     "start_time": "2023-10-08T22:03:30.781683400Z"
    }
   },
   "outputs": [
    {
     "name": "stderr",
     "output_type": "stream",
     "text": [
      "<>:22: SyntaxWarning: \"is\" with a literal. Did you mean \"==\"?\n",
      "<>:24: SyntaxWarning: \"is\" with a literal. Did you mean \"==\"?\n",
      "<>:36: SyntaxWarning: \"is\" with a literal. Did you mean \"==\"?\n",
      "<>:60: SyntaxWarning: \"is\" with a literal. Did you mean \"==\"?\n",
      "<>:86: SyntaxWarning: \"is\" with a literal. Did you mean \"==\"?\n",
      "<>:112: SyntaxWarning: \"is\" with a literal. Did you mean \"==\"?\n",
      "<>:135: SyntaxWarning: \"is\" with a literal. Did you mean \"==\"?\n",
      "<>:154: SyntaxWarning: \"is\" with a literal. Did you mean \"==\"?\n",
      "<>:156: SyntaxWarning: \"is\" with a literal. Did you mean \"==\"?\n",
      "<>:158: SyntaxWarning: \"is\" with a literal. Did you mean \"==\"?\n",
      "<>:160: SyntaxWarning: \"is\" with a literal. Did you mean \"==\"?\n",
      "<>:162: SyntaxWarning: \"is\" with a literal. Did you mean \"==\"?\n",
      "<>:22: SyntaxWarning: \"is\" with a literal. Did you mean \"==\"?\n",
      "<>:24: SyntaxWarning: \"is\" with a literal. Did you mean \"==\"?\n",
      "<>:36: SyntaxWarning: \"is\" with a literal. Did you mean \"==\"?\n",
      "<>:60: SyntaxWarning: \"is\" with a literal. Did you mean \"==\"?\n",
      "<>:86: SyntaxWarning: \"is\" with a literal. Did you mean \"==\"?\n",
      "<>:112: SyntaxWarning: \"is\" with a literal. Did you mean \"==\"?\n",
      "<>:135: SyntaxWarning: \"is\" with a literal. Did you mean \"==\"?\n",
      "<>:154: SyntaxWarning: \"is\" with a literal. Did you mean \"==\"?\n",
      "<>:156: SyntaxWarning: \"is\" with a literal. Did you mean \"==\"?\n",
      "<>:158: SyntaxWarning: \"is\" with a literal. Did you mean \"==\"?\n",
      "<>:160: SyntaxWarning: \"is\" with a literal. Did you mean \"==\"?\n",
      "<>:162: SyntaxWarning: \"is\" with a literal. Did you mean \"==\"?\n",
      "C:\\Users\\joaqu\\AppData\\Local\\Temp\\ipykernel_9036\\3803659616.py:22: SyntaxWarning: \"is\" with a literal. Did you mean \"==\"?\n",
      "  if self.transformation_type is \"user\":\n",
      "C:\\Users\\joaqu\\AppData\\Local\\Temp\\ipykernel_9036\\3803659616.py:24: SyntaxWarning: \"is\" with a literal. Did you mean \"==\"?\n",
      "  elif self.transformation_type is \"item\":\n",
      "C:\\Users\\joaqu\\AppData\\Local\\Temp\\ipykernel_9036\\3803659616.py:36: SyntaxWarning: \"is\" with a literal. Did you mean \"==\"?\n",
      "  if self.transformation_type is \"item\":\n",
      "C:\\Users\\joaqu\\AppData\\Local\\Temp\\ipykernel_9036\\3803659616.py:60: SyntaxWarning: \"is\" with a literal. Did you mean \"==\"?\n",
      "  if self.transformation_type is \"item\":\n",
      "C:\\Users\\joaqu\\AppData\\Local\\Temp\\ipykernel_9036\\3803659616.py:86: SyntaxWarning: \"is\" with a literal. Did you mean \"==\"?\n",
      "  if self.transformation_type is \"item\":\n",
      "C:\\Users\\joaqu\\AppData\\Local\\Temp\\ipykernel_9036\\3803659616.py:112: SyntaxWarning: \"is\" with a literal. Did you mean \"==\"?\n",
      "  if self.transformation_type is \"item\":\n",
      "C:\\Users\\joaqu\\AppData\\Local\\Temp\\ipykernel_9036\\3803659616.py:135: SyntaxWarning: \"is\" with a literal. Did you mean \"==\"?\n",
      "  if self.transformation_type is \"item\":\n",
      "C:\\Users\\joaqu\\AppData\\Local\\Temp\\ipykernel_9036\\3803659616.py:154: SyntaxWarning: \"is\" with a literal. Did you mean \"==\"?\n",
      "  if(self.percentile_position is \"first\"):\n",
      "C:\\Users\\joaqu\\AppData\\Local\\Temp\\ipykernel_9036\\3803659616.py:156: SyntaxWarning: \"is\" with a literal. Did you mean \"==\"?\n",
      "  elif (self.percentile_position is \"floormedian\"):\n",
      "C:\\Users\\joaqu\\AppData\\Local\\Temp\\ipykernel_9036\\3803659616.py:158: SyntaxWarning: \"is\" with a literal. Did you mean \"==\"?\n",
      "  elif (self.percentile_position is \"ceilmedian\"):\n",
      "C:\\Users\\joaqu\\AppData\\Local\\Temp\\ipykernel_9036\\3803659616.py:160: SyntaxWarning: \"is\" with a literal. Did you mean \"==\"?\n",
      "  elif (self.percentile_position is \"last\"):\n",
      "C:\\Users\\joaqu\\AppData\\Local\\Temp\\ipykernel_9036\\3803659616.py:162: SyntaxWarning: \"is\" with a literal. Did you mean \"==\"?\n",
      "  elif (self.percentile_position is \"zscore\"):\n"
     ]
    }
   ],
   "source": [
    "# NOT MY CODE - ADAPTED FROM MANSOURY ET AL'S \"FLATTER IS BETTER\"\n",
    "# https://github.com/masoudmansoury/percentile/blob/master/percentile.py\n",
    "\n",
    "class Percentile:\n",
    "    def __init__(self):\n",
    "        # self.fold = 1\n",
    "\n",
    "        self.transformation_type = \"user\" # possible values: user and item\n",
    "        self.percentile_position = \"first\" # possible values: first, floormedian, ceilmedian, last, and zscore\n",
    "        self.percentile_smoothed = True # possible values: True and False\n",
    "        self.percentile_smoothedparam = 5 # a paramter related to smoothing. It's an integer value and will be applied when self.smoothed is True\n",
    "        self.input = \"../datasets/filter_data/utility.txt\"\n",
    "        self.output = \"../datasets/filter_data/percentile.txt\"\n",
    "        self.dictionary = {}\n",
    "        self.rating_scale = []\n",
    "\n",
    "    # creating user/item profile, it would be like <userid/itemid, [rate1, rate2, rate3, ...]>\n",
    "    def create_profile(self):\n",
    "        with open(self.input) as f:\n",
    "            for line in f:\n",
    "                data = line.split(\"\\t\")\n",
    "                if self.transformation_type is \"user\":\n",
    "                    per.dictionary.setdefault(data[0].rstrip(), []).append(data[2].rstrip())\n",
    "                elif self.transformation_type is \"item\":\n",
    "                    per.dictionary.setdefault(data[1].rstrip(), []).append(data[2].rstrip())\n",
    "\n",
    "    # percentile computation for first index\n",
    "    def compute_firstindex_percentile(self):\n",
    "        self.delete_outputfile()\n",
    "        out = open(self.output,\"w\")\n",
    "        with open(self.input) as f:\n",
    "            for line in f:\n",
    "                data = line.split(\"\\t\")\n",
    "                # sorting the values correspoding to the key e.g., ratings\n",
    "                i = 0\n",
    "                if self.transformation_type is \"item\":\n",
    "                    i = 1\n",
    "                values = sorted(map(float,list(per.dictionary.get(data[i].rstrip()))))\n",
    "                # find the index of the first occurrence of repeated numbers e.g., repeated ratings\n",
    "                position = values.index(float(data[2].rstrip())) + 1\n",
    "                # percentile computation\n",
    "                p = 0.0\n",
    "                if(self.percentile_smoothed):\n",
    "                    p = 100 * float(position + ((self.getRatePosition(float(data[2].rstrip())) -1 ) * self.percentile_smoothedparam)) / (len(values) + 1 + (len(self.rating_scale) * self.percentile_smoothedparam))\n",
    "                else:\n",
    "                    p = float(100 * position) / float(len(values) + 1)\n",
    "                out.write(data[0].rstrip() + '\\t' + data[1].rstrip() + '\\t' + str(p) + '\\n')\n",
    "\n",
    "        out.close()\n",
    "\n",
    "    # percentile computation for floor median index\n",
    "    def compute_floormedianindex_percentile(self):\n",
    "        self.delete_outputfile()\n",
    "        out = open(self.output,\"w\")\n",
    "        with open(self.input) as f:\n",
    "            for line in f:\n",
    "                data = line.split(\"\\t\")\n",
    "                # sorting the values correspoding to the key e.g., ratings\n",
    "                i = 0\n",
    "                if self.transformation_type is \"item\":\n",
    "                    i = 1\n",
    "                values = sorted(map(float,list(per.dictionary.get(data[i].rstrip()))))\n",
    "                # find the index of the floor median occurrence of repeated numbers e.g., repeated ratings\n",
    "                last = len(values) - 1 - values[::-1].index(float(data[2].rstrip())) + 1\n",
    "                first = values.index(float(data[2].rstrip())) + 1\n",
    "                position = int(math.floor(float(last+first))/2)\n",
    "                # percentile computation\n",
    "                p = 0.0\n",
    "                if(self.percentile_smoothed):\n",
    "                    p = 100 * float(position + ((self.getRatePosition(float(data[2].rstrip()))-1) * self.percentile_smoothedparam) + (int(math.floor(float(self.percentile_smoothedparam/2))))) / (len(values) + 1 + (len(self.rating_scale) * self.percentile_smoothedparam))\n",
    "                else:\n",
    "                    p = float(100 * position) / float(len(values) + 1)\n",
    "                out.write(data[0].rstrip() + '\\t' + data[1].rstrip() + '\\t' + str(p) + '\\n')\n",
    "\n",
    "        out.close()\n",
    "\n",
    "    # percentile computation for ceil median index\n",
    "    def compute_ceilmedianindex_percentile(self):\n",
    "        self.delete_outputfile()\n",
    "        out = open(self.output,\"w\")\n",
    "        with open(self.input) as f:\n",
    "            for line in f:\n",
    "                data = line.split(\"\\t\")\n",
    "                # sorting the values correspoding to the key e.g., ratings\n",
    "                i = 0\n",
    "                if self.transformation_type is \"item\":\n",
    "                    i = 1\n",
    "                values = sorted(map(float,list(per.dictionary.get(data[i].rstrip()))))\n",
    "                # find the index of the ceil median occurrence of repeated numbers e.g., repeated ratings\n",
    "                last = len(values) - 1 - values[::-1].index(float(data[2].rstrip())) + 2\n",
    "                first = values.index(float(data[2].rstrip())) + 1\n",
    "                position = int(math.ceil(float(last+first))/2)\n",
    "                # percentile computation\n",
    "                p = 0.0\n",
    "                if(self.percentile_smoothed):\n",
    "                    p = 100 * float(position + ((self.getRatePosition(float(data[2].rstrip()))-1) * self.percentile_smoothedparam) + (int(math.ceil(float(self.percentile_smoothedparam/2))))) / (len(values) + 1 + (len(self.rating_scale) * self.percentile_smoothedparam))\n",
    "                else:\n",
    "                    p = float(100 * position) / float(len(values) + 1)\n",
    "                out.write(data[0].rstrip() + '\\t' + data[1].rstrip() + '\\t' + str(p) + '\\n')\n",
    "\n",
    "        out.close()\n",
    "\n",
    "    # percentile computation for last index\n",
    "    def compute_lastindex_percentile(self):\n",
    "        self.delete_outputfile()\n",
    "        out = open(self.output,\"w\")\n",
    "        with open(self.input) as f:\n",
    "            for line in f:\n",
    "                data = line.split(\"\\t\")\n",
    "                # sorting the values correspoding to the key e.g., ratings\n",
    "                i = 0\n",
    "                if self.transformation_type is \"item\":\n",
    "                    i = 1\n",
    "                values = sorted(map(float,list(per.dictionary.get(data[i].rstrip()))))\n",
    "                # find the index of the last occurrence of repeated numbers e.g., repeated ratings\n",
    "                position = len(values) - 1 - values[::-1].index(float(data[2].rstrip())) + 1\n",
    "                # percentile computation\n",
    "                p = 0.0\n",
    "                if(self.percentile_smoothed):\n",
    "                    p = 100 * float(position + (self.getRatePosition(float(data[2].rstrip())) * self.percentile_smoothedparam)) / (len(values) + 1 + (len(self.rating_scale) * self.percentile_smoothedparam))\n",
    "                else:\n",
    "                    p = float(100 * position) / float(len(values) + 1)\n",
    "                out.write(data[0].rstrip() + '\\t' + data[1].rstrip() + '\\t' + str(p) + '\\n')\n",
    "\n",
    "        out.close()\n",
    "\n",
    "    def compute_zscore(self):\n",
    "        self.delete_outputfile()\n",
    "        out = open(self.output,\"w\")\n",
    "        with open(self.input) as f:\n",
    "            for line in f:\n",
    "                data = line.split(\"\\t\")\n",
    "                # sorting the values correspoding to the key e.g., ratings\n",
    "                i = 0\n",
    "                if self.transformation_type is \"item\":\n",
    "                    i = 1\n",
    "                values = sorted(map(float,list(per.dictionary.get(data[i].rstrip()))))\n",
    "                # compute mean of rating profile\n",
    "                mean = float(sum(values)) / max(len(values),1)\n",
    "                # compute standard deviation of rating profile\n",
    "                nominator = 0.0\n",
    "                for j in range(len(values)):\n",
    "                    nominator += math.pow(float(values[j]-mean),2)\n",
    "                std = math.sqrt(nominator/float(len(values)))\n",
    "                # zscore computation\n",
    "                z = 0.0\n",
    "                if(std != 0.0):\n",
    "                    z = float(float(data[2].rstrip())-mean)/std\n",
    "                out.write(data[0].rstrip() + '\\t' + data[1].rstrip() + '\\t' + str(z) + '\\n')\n",
    "\n",
    "        out.close()\n",
    "\n",
    "    def transform(self):\n",
    "        if(self.percentile_position is \"first\"):\n",
    "            self.compute_firstindex_percentile()\n",
    "        elif (self.percentile_position is \"floormedian\"):\n",
    "            self.compute_floormedianindex_percentile()\n",
    "        elif (self.percentile_position is \"ceilmedian\"):\n",
    "            self.compute_ceilmedianindex_percentile()\n",
    "        elif (self.percentile_position is \"last\"):\n",
    "            self.compute_lastindex_percentile()\n",
    "        elif (self.percentile_position is \"zscore\"):\n",
    "            self.compute_zscore()\n",
    "\n",
    "    # delete output file if exists\n",
    "    def delete_outputfile(self):\n",
    "        try:\n",
    "            if os.path.exists(self.output):\n",
    "                os.remove(self.output)\n",
    "        except OSError:\n",
    "            print(\"error\")\n",
    "            pass\n",
    "\n",
    "    def getRatePosition(self, rate):\n",
    "        for i in range(len(self.rating_scale)):\n",
    "            if rate == self.rating_scale[i]:\n",
    "                return i + 1\n",
    "        return 0\n",
    "\n",
    "    def create_ratingscale(self):\n",
    "        with open(self.input) as f:\n",
    "            for line in f:\n",
    "                rate = line.split(\"\\t\")[2]\n",
    "                if(float(rate) not in self.rating_scale):\n",
    "                    self.rating_scale.append(float(rate))\n",
    "        self.rating_scale.sort()"
   ]
  },
  {
   "cell_type": "code",
   "execution_count": 267,
   "metadata": {
    "ExecuteTime": {
     "end_time": "2023-10-08T22:03:31.838122700Z",
     "start_time": "2023-10-08T22:03:30.797274200Z"
    }
   },
   "outputs": [],
   "source": [
    "# Convert utility matrix to percentile-based ratings\n",
    "per = Percentile()\n",
    "per.create_ratingscale()\n",
    "per.create_profile()\n",
    "per.transform()"
   ]
  },
  {
   "cell_type": "code",
   "execution_count": 268,
   "metadata": {
    "ExecuteTime": {
     "end_time": "2023-10-08T22:03:31.911875100Z",
     "start_time": "2023-10-08T22:03:31.840354600Z"
    }
   },
   "outputs": [],
   "source": [
    "percentile_df = pd.read_csv('../datasets/filter_data/percentile.txt',\n",
    "                            sep='\\t',\n",
    "                            names=utility_3.columns.values)"
   ]
  },
  {
   "cell_type": "code",
   "execution_count": 269,
   "metadata": {
    "ExecuteTime": {
     "end_time": "2023-10-08T22:03:31.990339900Z",
     "start_time": "2023-10-08T22:03:31.911875100Z"
    }
   },
   "outputs": [
    {
     "data": {
      "text/plain": "                  user_id             business_id  review_stars\n0  4Uh27DgGzsp6PqrH913giQ  otQS34_MymijPTdNBoBdCw     51.351351\n1  4Uh27DgGzsp6PqrH913giQ  RhuYqAT45uIR2NNdDsolXQ     29.729730\n2  4Uh27DgGzsp6PqrH913giQ  RhuYqAT45uIR2NNdDsolXQ     51.351351\n3  4Uh27DgGzsp6PqrH913giQ  8QJTzIaR5FceGds8HBSIig     51.351351\n4  4Uh27DgGzsp6PqrH913giQ  Y3ZCO17N1_T_Ms1JmswwzA     51.351351",
      "text/html": "<div>\n<style scoped>\n    .dataframe tbody tr th:only-of-type {\n        vertical-align: middle;\n    }\n\n    .dataframe tbody tr th {\n        vertical-align: top;\n    }\n\n    .dataframe thead th {\n        text-align: right;\n    }\n</style>\n<table border=\"1\" class=\"dataframe\">\n  <thead>\n    <tr style=\"text-align: right;\">\n      <th></th>\n      <th>user_id</th>\n      <th>business_id</th>\n      <th>review_stars</th>\n    </tr>\n  </thead>\n  <tbody>\n    <tr>\n      <th>0</th>\n      <td>4Uh27DgGzsp6PqrH913giQ</td>\n      <td>otQS34_MymijPTdNBoBdCw</td>\n      <td>51.351351</td>\n    </tr>\n    <tr>\n      <th>1</th>\n      <td>4Uh27DgGzsp6PqrH913giQ</td>\n      <td>RhuYqAT45uIR2NNdDsolXQ</td>\n      <td>29.729730</td>\n    </tr>\n    <tr>\n      <th>2</th>\n      <td>4Uh27DgGzsp6PqrH913giQ</td>\n      <td>RhuYqAT45uIR2NNdDsolXQ</td>\n      <td>51.351351</td>\n    </tr>\n    <tr>\n      <th>3</th>\n      <td>4Uh27DgGzsp6PqrH913giQ</td>\n      <td>8QJTzIaR5FceGds8HBSIig</td>\n      <td>51.351351</td>\n    </tr>\n    <tr>\n      <th>4</th>\n      <td>4Uh27DgGzsp6PqrH913giQ</td>\n      <td>Y3ZCO17N1_T_Ms1JmswwzA</td>\n      <td>51.351351</td>\n    </tr>\n  </tbody>\n</table>\n</div>"
     },
     "execution_count": 269,
     "metadata": {},
     "output_type": "execute_result"
    }
   ],
   "source": [
    "percentile_df.head()"
   ]
  },
  {
   "cell_type": "code",
   "execution_count": 270,
   "metadata": {
    "ExecuteTime": {
     "end_time": "2023-10-08T22:03:32.037230500Z",
     "start_time": "2023-10-08T22:03:31.943082300Z"
    }
   },
   "outputs": [
    {
     "data": {
      "text/plain": "(0.33003300330033, 94.40993788819875)"
     },
     "execution_count": 270,
     "metadata": {},
     "output_type": "execute_result"
    }
   ],
   "source": [
    "percentile_df['review_stars'].min(), percentile_df['review_stars'].max()"
   ]
  },
  {
   "cell_type": "code",
   "execution_count": 271,
   "metadata": {
    "ExecuteTime": {
     "end_time": "2023-10-08T22:03:32.166227100Z",
     "start_time": "2023-10-08T22:03:31.965677700Z"
    }
   },
   "outputs": [
    {
     "data": {
      "text/plain": "<AxesSubplot:>"
     },
     "execution_count": 271,
     "metadata": {},
     "output_type": "execute_result"
    },
    {
     "data": {
      "text/plain": "<Figure size 640x480 with 1 Axes>",
      "image/png": "[encoded data removed]"
     },
     "metadata": {},
     "output_type": "display_data"
    }
   ],
   "source": [
    "percentile_df['review_stars'].hist(bins=25)"
   ]
  },
  {
   "cell_type": "code",
   "execution_count": 272,
   "metadata": {
    "ExecuteTime": {
     "end_time": "2023-10-08T22:03:32.166227100Z",
     "start_time": "2023-10-08T22:03:32.100188200Z"
    }
   },
   "outputs": [],
   "source": [
    "def get_top_n(predictions, n=10):\n",
    "    '''Return the top-N recommendation for each user from a set of predictions.\n",
    "\n",
    "    Args:\n",
    "        predictions(list of Prediction objects): The list of predictions, as\n",
    "            returned by the test method of an algorithm.\n",
    "        n(int): The number of recommendation to output for each user. Default\n",
    "            is 10.\n",
    "\n",
    "    Returns:\n",
    "    A dict where keys are user (raw) ids and values are lists of tuples:\n",
    "        [(raw item id, rating estimation), ...] of size n.\n",
    "    '''\n",
    "\n",
    "    # First map the predictions to each user.\n",
    "    top_n = defaultdict(list)\n",
    "    for uid, iid, true_r, est, _ in predictions:\n",
    "        top_n[uid].append((iid, est))\n",
    "\n",
    "    # Then sort the predictions for each user and retrieve the k highest ones.\n",
    "    for uid, user_ratings in top_n.items():\n",
    "        user_ratings.sort(key=lambda x: x[1], reverse=True)\n",
    "        top_n[uid] = user_ratings[:n]\n",
    "\n",
    "    return top_n"
   ]
  },
  {
   "cell_type": "code",
   "execution_count": 273,
   "metadata": {
    "ExecuteTime": {
     "end_time": "2023-10-08T22:03:53.154503100Z",
     "start_time": "2023-10-08T22:03:32.115776400Z"
    }
   },
   "outputs": [
    {
     "name": "stdout",
     "output_type": "stream",
     "text": [
      "MAE:  0.9053\n",
      "0.9053193133210207\n",
      "MSE: 1.3279\n",
      "1.3278917821909437\n",
      "RMSE: 1.1523\n",
      "1.152341868627077\n"
     ]
    }
   ],
   "source": [
    "# SVD \n",
    "svd = SVD(n_factors=20,\n",
    "              n_epochs=25,\n",
    "              lr_all=0.006,\n",
    "              reg_all=0.08)\n",
    "svdpp.fit(trainset_3)\n",
    "predictions = svdpp.test(testset_3)\n",
    "print(accuracy.mae(predictions))\n",
    "print(accuracy.mse(predictions))\n",
    "print(accuracy.rmse(predictions))"
   ]
  },
  {
   "cell_type": "code",
   "execution_count": 274,
   "metadata": {
    "ExecuteTime": {
     "end_time": "2023-10-08T22:04:19.987850200Z",
     "start_time": "2023-10-08T22:03:53.154503100Z"
    }
   },
   "outputs": [],
   "source": [
    "# Place predictions into df\n",
    "predictions_df = pd.DataFrame(columns=['uid', 'iid', 'true', 'predicted'])\n",
    "i = 0\n",
    "for uid, iid, true_r, est, _ in predictions:\n",
    "    predictions_df.loc[i] = [uid, iid, true_r, est]\n",
    "    i += 1"
   ]
  },
  {
   "cell_type": "code",
   "execution_count": 275,
   "metadata": {
    "ExecuteTime": {
     "end_time": "2023-10-08T22:04:20.003483200Z",
     "start_time": "2023-10-08T22:04:19.987850200Z"
    }
   },
   "outputs": [
    {
     "data": {
      "text/plain": "(20745, 4)"
     },
     "execution_count": 275,
     "metadata": {},
     "output_type": "execute_result"
    }
   ],
   "source": [
    "predictions_df.shape"
   ]
  },
  {
   "cell_type": "code",
   "execution_count": 276,
   "metadata": {
    "ExecuteTime": {
     "end_time": "2023-10-08T22:04:20.050356900Z",
     "start_time": "2023-10-08T22:04:20.003483200Z"
    }
   },
   "outputs": [],
   "source": [
    "# Look at prediction distributions in relation to true ratings\n",
    "predictions_df_1 = predictions_df[predictions_df['true'] == 1]\n",
    "predictions_df_2 = predictions_df[predictions_df['true'] == 2]\n",
    "predictions_df_3 = predictions_df[predictions_df['true'] == 3]\n",
    "predictions_df_4 = predictions_df[predictions_df['true'] == 4]\n",
    "predictions_df_5 = predictions_df[predictions_df['true'] == 5]"
   ]
  },
  {
   "cell_type": "code",
   "execution_count": 277,
   "metadata": {
    "ExecuteTime": {
     "end_time": "2023-10-08T22:04:20.050356900Z",
     "start_time": "2023-10-08T22:04:20.034731700Z"
    }
   },
   "outputs": [
    {
     "data": {
      "text/plain": "(3.368495057621788, 0.6817585883947545)"
     },
     "execution_count": 277,
     "metadata": {},
     "output_type": "execute_result"
    }
   ],
   "source": [
    "predictions_df_1['predicted'].mean(), predictions_df_1['predicted'].std()"
   ]
  },
  {
   "cell_type": "code",
   "execution_count": 278,
   "metadata": {
    "ExecuteTime": {
     "end_time": "2023-10-08T22:04:20.097623300Z",
     "start_time": "2023-10-08T22:04:20.050356900Z"
    }
   },
   "outputs": [
    {
     "data": {
      "text/plain": "(3.5101758525508058, 0.630490317056978)"
     },
     "execution_count": 278,
     "metadata": {},
     "output_type": "execute_result"
    }
   ],
   "source": [
    "predictions_df_2['predicted'].mean(), predictions_df_2['predicted'].std()"
   ]
  },
  {
   "cell_type": "code",
   "execution_count": 279,
   "metadata": {
    "ExecuteTime": {
     "end_time": "2023-10-08T22:04:20.097623300Z",
     "start_time": "2023-10-08T22:04:20.065981600Z"
    }
   },
   "outputs": [
    {
     "data": {
      "text/plain": "(3.7033865414552034, 0.5731408752637459)"
     },
     "execution_count": 279,
     "metadata": {},
     "output_type": "execute_result"
    }
   ],
   "source": [
    "predictions_df_3['predicted'].mean(), predictions_df_3['predicted'].std()"
   ]
  },
  {
   "cell_type": "code",
   "execution_count": 280,
   "metadata": {
    "ExecuteTime": {
     "end_time": "2023-10-08T22:04:20.159883900Z",
     "start_time": "2023-10-08T22:04:20.081992900Z"
    }
   },
   "outputs": [
    {
     "data": {
      "text/plain": "(3.8825450263614005, 0.523393688198982)"
     },
     "execution_count": 280,
     "metadata": {},
     "output_type": "execute_result"
    }
   ],
   "source": [
    "predictions_df_4['predicted'].mean(), predictions_df_4['predicted'].std()"
   ]
  },
  {
   "cell_type": "code",
   "execution_count": 281,
   "metadata": {
    "ExecuteTime": {
     "end_time": "2023-10-08T22:04:20.238245100Z",
     "start_time": "2023-10-08T22:04:20.097623300Z"
    }
   },
   "outputs": [
    {
     "data": {
      "text/plain": "(4.133268068666733, 0.5082333076132018)"
     },
     "execution_count": 281,
     "metadata": {},
     "output_type": "execute_result"
    }
   ],
   "source": [
    "predictions_df_5['predicted'].mean(), predictions_df_5['predicted'].std()"
   ]
  },
  {
   "cell_type": "code",
   "execution_count": 282,
   "metadata": {
    "ExecuteTime": {
     "end_time": "2023-10-08T22:04:20.347997500Z",
     "start_time": "2023-10-08T22:04:20.113249500Z"
    }
   },
   "outputs": [
    {
     "data": {
      "text/plain": "<AxesSubplot:>"
     },
     "execution_count": 282,
     "metadata": {},
     "output_type": "execute_result"
    },
    {
     "data": {
      "text/plain": "<Figure size 640x480 with 1 Axes>",
      "image/png": "[encoded data removed]"
     },
     "metadata": {},
     "output_type": "display_data"
    }
   ],
   "source": [
    "predictions_df_1['predicted'].hist(bins=20)"
   ]
  },
  {
   "cell_type": "code",
   "execution_count": 283,
   "metadata": {
    "ExecuteTime": {
     "end_time": "2023-10-08T22:04:20.457806Z",
     "start_time": "2023-10-08T22:04:20.301129700Z"
    }
   },
   "outputs": [
    {
     "data": {
      "text/plain": "<AxesSubplot:>"
     },
     "execution_count": 283,
     "metadata": {},
     "output_type": "execute_result"
    },
    {
     "data": {
      "text/plain": "<Figure size 640x480 with 1 Axes>",
      "image/png": "[encoded data removed]"
     },
     "metadata": {},
     "output_type": "display_data"
    }
   ],
   "source": [
    "predictions_df_2['predicted'].hist(bins=20)"
   ]
  },
  {
   "cell_type": "code",
   "execution_count": 284,
   "metadata": {
    "ExecuteTime": {
     "end_time": "2023-10-08T22:04:20.616844800Z",
     "start_time": "2023-10-08T22:04:20.457806Z"
    }
   },
   "outputs": [
    {
     "data": {
      "text/plain": "<AxesSubplot:>"
     },
     "execution_count": 284,
     "metadata": {},
     "output_type": "execute_result"
    },
    {
     "data": {
      "text/plain": "<Figure size 640x480 with 1 Axes>",
      "image/png": "[encoded data removed]"
     },
     "metadata": {},
     "output_type": "display_data"
    }
   ],
   "source": [
    "predictions_df_3['predicted'].hist(bins=20)"
   ]
  },
  {
   "cell_type": "code",
   "execution_count": 285,
   "metadata": {
    "ExecuteTime": {
     "end_time": "2023-10-08T22:04:20.773407Z",
     "start_time": "2023-10-08T22:04:20.616844800Z"
    }
   },
   "outputs": [
    {
     "data": {
      "text/plain": "<AxesSubplot:>"
     },
     "execution_count": 285,
     "metadata": {},
     "output_type": "execute_result"
    },
    {
     "data": {
      "text/plain": "<Figure size 640x480 with 1 Axes>",
      "image/png": "[encoded data removed]"
     },
     "metadata": {},
     "output_type": "display_data"
    }
   ],
   "source": [
    "predictions_df_4['predicted'].hist(bins=20)"
   ]
  },
  {
   "cell_type": "code",
   "execution_count": 286,
   "metadata": {
    "ExecuteTime": {
     "end_time": "2023-10-08T22:04:20.930113400Z",
     "start_time": "2023-10-08T22:04:20.773407Z"
    }
   },
   "outputs": [
    {
     "data": {
      "text/plain": "<AxesSubplot:>"
     },
     "execution_count": 286,
     "metadata": {},
     "output_type": "execute_result"
    },
    {
     "data": {
      "text/plain": "<Figure size 640x480 with 1 Axes>",
      "image/png": "[encoded data removed]"
     },
     "metadata": {},
     "output_type": "display_data"
    }
   ],
   "source": [
    "predictions_df_5['predicted'].hist(bins=20)"
   ]
  },
  {
   "cell_type": "code",
   "execution_count": 287,
   "metadata": {
    "ExecuteTime": {
     "end_time": "2023-10-08T22:05:10.670366100Z",
     "start_time": "2023-10-08T22:04:20.945724200Z"
    }
   },
   "outputs": [
    {
     "name": "stderr",
     "output_type": "stream",
     "text": [
      "IOPub data rate exceeded.\n",
      "The notebook server will temporarily stop sending output\n",
      "to the client in order to avoid crashing it.\n",
      "To change this limit, set the config variable\n",
      "`--NotebookApp.iopub_data_rate_limit`.\n",
      "\n",
      "Current values:\n",
      "NotebookApp.iopub_data_rate_limit=1000000.0 (bytes/sec)\n",
      "NotebookApp.rate_limit_window=3.0 (secs)\n",
      "\n"
     ]
    }
   ],
   "source": [
    "# Build out anti-testset in order to generate recommendations\n",
    "full_trainset = data_3.build_full_trainset()\n",
    "algo = SVD(n_factors=20,\n",
    "             n_epochs=25,\n",
    "             lr_all=0.006,\n",
    "             reg_all=0.08)\n",
    "algo.fit(full_trainset)\n",
    "full_testset = full_trainset.build_anti_testset()\n",
    "full_predictions = algo.test(full_testset)\n",
    "top_n = get_top_n(full_predictions, n=10)\n",
    "\n",
    "# Print the recommended items for each user\n",
    "for uid, user_ratings in top_n.items():\n",
    "    print(uid, [iid for (iid, _) in user_ratings])"
   ]
  },
  {
   "cell_type": "code",
   "execution_count": 288,
   "metadata": {
    "ExecuteTime": {
     "end_time": "2023-10-08T22:05:10.686378200Z",
     "start_time": "2023-10-08T22:05:10.686378200Z"
    }
   },
   "outputs": [
    {
     "data": {
      "text/plain": "[('jh8j-DWqgWkbRe_a2XtKFQ', 4.727377044817604),\n ('eGi7CE2YaN6YMiGyXNi8XQ', 4.649442214044189),\n ('elP0Xn9HyP6cRBuzbJdTpw', 4.642398802972641),\n ('6OwxdpajDSJi3DkMqkr2sw', 4.6126689130788145),\n ('3qsHL1xuMPlPqQciHNYkeg', 4.581338084206804),\n ('DVBJRvnCpkqaYl6nHroaMg', 4.571035372467144),\n ('-OX0MJDPRHV0RCRvwYnvBQ', 4.515595584559981),\n ('gciMEyy9sIcwSMREEvNiXA', 4.513769707879305),\n ('ZHcfV3d7ZW8bmwgKCsz-RA', 4.50377181584189),\n ('CJoO4HYD0tZRXlZqA04wmw', 4.502039561666783)]"
     },
     "execution_count": 288,
     "metadata": {},
     "output_type": "execute_result"
    }
   ],
   "source": [
    "top_n['4Uh27DgGzsp6PqrH913giQ']"
   ]
  },
  {
   "cell_type": "code",
   "execution_count": 289,
   "metadata": {
    "ExecuteTime": {
     "end_time": "2023-10-08T22:05:10.764510400Z",
     "start_time": "2023-10-08T22:05:10.686378200Z"
    }
   },
   "outputs": [
    {
     "data": {
      "text/plain": "                   user_id             business_id  review_stars\n0   4Uh27DgGzsp6PqrH913giQ  otQS34_MymijPTdNBoBdCw             4\n1   4Uh27DgGzsp6PqrH913giQ  RhuYqAT45uIR2NNdDsolXQ             3\n2   4Uh27DgGzsp6PqrH913giQ  RhuYqAT45uIR2NNdDsolXQ             4\n3   4Uh27DgGzsp6PqrH913giQ  8QJTzIaR5FceGds8HBSIig             4\n4   4Uh27DgGzsp6PqrH913giQ  Y3ZCO17N1_T_Ms1JmswwzA             4\n5   4Uh27DgGzsp6PqrH913giQ  E3QSrua1cXWaurPitBhKGQ             4\n6   4Uh27DgGzsp6PqrH913giQ  0bLvKEwQaFYovyfpZ0HdJA             3\n7   4Uh27DgGzsp6PqrH913giQ  IKMAgK2m6WRIViVFB2vAFQ             4\n8   4Uh27DgGzsp6PqrH913giQ  E2l9h35n-BpwWpV5RVye-w             5\n9   4Uh27DgGzsp6PqrH913giQ  BTblqXsOHMXjcgcYkdzuqg             4\n10  4Uh27DgGzsp6PqrH913giQ  NQ6v9hMwtfS5mn2a0vQr1Q             3",
      "text/html": "<div>\n<style scoped>\n    .dataframe tbody tr th:only-of-type {\n        vertical-align: middle;\n    }\n\n    .dataframe tbody tr th {\n        vertical-align: top;\n    }\n\n    .dataframe thead th {\n        text-align: right;\n    }\n</style>\n<table border=\"1\" class=\"dataframe\">\n  <thead>\n    <tr style=\"text-align: right;\">\n      <th></th>\n      <th>user_id</th>\n      <th>business_id</th>\n      <th>review_stars</th>\n    </tr>\n  </thead>\n  <tbody>\n    <tr>\n      <th>0</th>\n      <td>4Uh27DgGzsp6PqrH913giQ</td>\n      <td>otQS34_MymijPTdNBoBdCw</td>\n      <td>4</td>\n    </tr>\n    <tr>\n      <th>1</th>\n      <td>4Uh27DgGzsp6PqrH913giQ</td>\n      <td>RhuYqAT45uIR2NNdDsolXQ</td>\n      <td>3</td>\n    </tr>\n    <tr>\n      <th>2</th>\n      <td>4Uh27DgGzsp6PqrH913giQ</td>\n      <td>RhuYqAT45uIR2NNdDsolXQ</td>\n      <td>4</td>\n    </tr>\n    <tr>\n      <th>3</th>\n      <td>4Uh27DgGzsp6PqrH913giQ</td>\n      <td>8QJTzIaR5FceGds8HBSIig</td>\n      <td>4</td>\n    </tr>\n    <tr>\n      <th>4</th>\n      <td>4Uh27DgGzsp6PqrH913giQ</td>\n      <td>Y3ZCO17N1_T_Ms1JmswwzA</td>\n      <td>4</td>\n    </tr>\n    <tr>\n      <th>5</th>\n      <td>4Uh27DgGzsp6PqrH913giQ</td>\n      <td>E3QSrua1cXWaurPitBhKGQ</td>\n      <td>4</td>\n    </tr>\n    <tr>\n      <th>6</th>\n      <td>4Uh27DgGzsp6PqrH913giQ</td>\n      <td>0bLvKEwQaFYovyfpZ0HdJA</td>\n      <td>3</td>\n    </tr>\n    <tr>\n      <th>7</th>\n      <td>4Uh27DgGzsp6PqrH913giQ</td>\n      <td>IKMAgK2m6WRIViVFB2vAFQ</td>\n      <td>4</td>\n    </tr>\n    <tr>\n      <th>8</th>\n      <td>4Uh27DgGzsp6PqrH913giQ</td>\n      <td>E2l9h35n-BpwWpV5RVye-w</td>\n      <td>5</td>\n    </tr>\n    <tr>\n      <th>9</th>\n      <td>4Uh27DgGzsp6PqrH913giQ</td>\n      <td>BTblqXsOHMXjcgcYkdzuqg</td>\n      <td>4</td>\n    </tr>\n    <tr>\n      <th>10</th>\n      <td>4Uh27DgGzsp6PqrH913giQ</td>\n      <td>NQ6v9hMwtfS5mn2a0vQr1Q</td>\n      <td>3</td>\n    </tr>\n  </tbody>\n</table>\n</div>"
     },
     "execution_count": 289,
     "metadata": {},
     "output_type": "execute_result"
    }
   ],
   "source": [
    "utility_3[utility_3['user_id'] == '4Uh27DgGzsp6PqrH913giQ']"
   ]
  },
  {
   "cell_type": "code",
   "execution_count": 290,
   "metadata": {
    "ExecuteTime": {
     "end_time": "2023-10-08T22:05:10.764510400Z",
     "start_time": "2023-10-08T22:05:10.717646500Z"
    }
   },
   "outputs": [],
   "source": [
    "def find_and_compare(user_id, top_n):\n",
    "    '''\n",
    "    Returns the raw user id associated with a given Surprise inner id\n",
    "\n",
    "    Arguments:\n",
    "    user_id (string): user_id string\n",
    "    top_n (dict): top_n dictionary generated from get_top_n\n",
    "\n",
    "    Returns:\n",
    "    reviewed_businesses_df (dataframe): dataframe of businesses reviewed by\n",
    "    the given user\n",
    "    recommended_df (dataframe): dataframe of recommended restaurants\n",
    "    '''\n",
    "    reviewed_df = utility_3[utility_3['user_id'] == user_id]\n",
    "    merged_reviewed_df = reviewed_df.merge(right=business_df,\n",
    "                                           how='left',\n",
    "                                           left_on='business_id',\n",
    "                                           right_on='business_id')\n",
    "    reviewed_businesses_df = merged_reviewed_df[['business_name',\n",
    "                                                 'review_stars',\n",
    "                                                 'categories']]\n",
    "\n",
    "    top_n_df = pd.DataFrame(columns=['business_id', 'predicted'])\n",
    "    i = 0\n",
    "    for business, predicted in top_n[user_id]:\n",
    "        top_n_df.loc[i] = [business, predicted]\n",
    "        i += 1\n",
    "    top_n_businesses_df = top_n_df.merge(right=business_df,\n",
    "                                         how='left',\n",
    "                                         left_on='business_id',\n",
    "                                         right_on='business_id')\n",
    "    recommended_df = top_n_businesses_df[['business_name',\n",
    "                                          'predicted',\n",
    "                                          'categories']]\n",
    "\n",
    "    return reviewed_businesses_df, recommended_df"
   ]
  },
  {
   "cell_type": "code",
   "execution_count": 291,
   "metadata": {
    "ExecuteTime": {
     "end_time": "2023-10-08T22:05:10.764510400Z",
     "start_time": "2023-10-08T22:05:10.733264300Z"
    }
   },
   "outputs": [
    {
     "data": {
      "text/plain": "7.970032272936837"
     },
     "execution_count": 291,
     "metadata": {},
     "output_type": "execute_result"
    }
   ],
   "source": [
    "# Average number of reviews left by a user\n",
    "utility_3['user_id'].value_counts().mean()"
   ]
  },
  {
   "cell_type": "code",
   "execution_count": 292,
   "metadata": {
    "ExecuteTime": {
     "end_time": "2023-10-08T22:05:10.796180300Z",
     "start_time": "2023-10-08T22:05:10.748885200Z"
    }
   },
   "outputs": [],
   "source": [
    "# Compare/contrast recommended restaurants and actual reviews provided\n",
    "actual_df, recommended_df = find_and_compare('4Uh27DgGzsp6PqrH913giQ', top_n)"
   ]
  },
  {
   "cell_type": "code",
   "execution_count": 293,
   "metadata": {
    "ExecuteTime": {
     "end_time": "2023-10-08T22:05:10.843063Z",
     "start_time": "2023-10-08T22:05:10.781639400Z"
    }
   },
   "outputs": [
    {
     "data": {
      "text/plain": "                         business_name  review_stars  \\\n0                             BK Tacos             4   \n1               St Mary's Mexican Food             3   \n2               St Mary's Mexican Food             4   \n3                       Barrio Brewing             4   \n4               Taqueria Pico De Gallo             4   \n5                    El Sur Restaurant             4   \n6                            Five Guys             3   \n7                          Miss Saigon             4   \n8   Lee Lee International Supermarkets             5   \n9                             47 Scott             4   \n10                Teresa's Mosaic Cafe             3   \n\n                                           categories  \n0   Restaurants, Tacos, Mexican, Hot Dogs, Breakfa...  \n1                                Restaurants, Mexican  \n2                                Restaurants, Mexican  \n3   Nightlife, Sports Bars, Bars, Breweries, Pubs,...  \n4                                Mexican, Restaurants  \n5   Restaurants, Mexican, Comfort Food, New Mexica...  \n6     Restaurants, Burgers, American (New), Fast Food  \n7        Vegetarian, Vietnamese, Restaurants, Noodles  \n8   Ethnic Grocery, Food, Ethnic Food, Grocery, Sp...  \n9   Restaurants, Nightlife, Breakfast & Brunch, Am...  \n10                               Restaurants, Mexican  ",
      "text/html": "<div>\n<style scoped>\n    .dataframe tbody tr th:only-of-type {\n        vertical-align: middle;\n    }\n\n    .dataframe tbody tr th {\n        vertical-align: top;\n    }\n\n    .dataframe thead th {\n        text-align: right;\n    }\n</style>\n<table border=\"1\" class=\"dataframe\">\n  <thead>\n    <tr style=\"text-align: right;\">\n      <th></th>\n      <th>business_name</th>\n      <th>review_stars</th>\n      <th>categories</th>\n    </tr>\n  </thead>\n  <tbody>\n    <tr>\n      <th>0</th>\n      <td>BK Tacos</td>\n      <td>4</td>\n      <td>Restaurants, Tacos, Mexican, Hot Dogs, Breakfa...</td>\n    </tr>\n    <tr>\n      <th>1</th>\n      <td>St Mary's Mexican Food</td>\n      <td>3</td>\n      <td>Restaurants, Mexican</td>\n    </tr>\n    <tr>\n      <th>2</th>\n      <td>St Mary's Mexican Food</td>\n      <td>4</td>\n      <td>Restaurants, Mexican</td>\n    </tr>\n    <tr>\n      <th>3</th>\n      <td>Barrio Brewing</td>\n      <td>4</td>\n      <td>Nightlife, Sports Bars, Bars, Breweries, Pubs,...</td>\n    </tr>\n    <tr>\n      <th>4</th>\n      <td>Taqueria Pico De Gallo</td>\n      <td>4</td>\n      <td>Mexican, Restaurants</td>\n    </tr>\n    <tr>\n      <th>5</th>\n      <td>El Sur Restaurant</td>\n      <td>4</td>\n      <td>Restaurants, Mexican, Comfort Food, New Mexica...</td>\n    </tr>\n    <tr>\n      <th>6</th>\n      <td>Five Guys</td>\n      <td>3</td>\n      <td>Restaurants, Burgers, American (New), Fast Food</td>\n    </tr>\n    <tr>\n      <th>7</th>\n      <td>Miss Saigon</td>\n      <td>4</td>\n      <td>Vegetarian, Vietnamese, Restaurants, Noodles</td>\n    </tr>\n    <tr>\n      <th>8</th>\n      <td>Lee Lee International Supermarkets</td>\n      <td>5</td>\n      <td>Ethnic Grocery, Food, Ethnic Food, Grocery, Sp...</td>\n    </tr>\n    <tr>\n      <th>9</th>\n      <td>47 Scott</td>\n      <td>4</td>\n      <td>Restaurants, Nightlife, Breakfast &amp; Brunch, Am...</td>\n    </tr>\n    <tr>\n      <th>10</th>\n      <td>Teresa's Mosaic Cafe</td>\n      <td>3</td>\n      <td>Restaurants, Mexican</td>\n    </tr>\n  </tbody>\n</table>\n</div>"
     },
     "execution_count": 293,
     "metadata": {},
     "output_type": "execute_result"
    }
   ],
   "source": [
    "actual_df"
   ]
  },
  {
   "cell_type": "code",
   "execution_count": 294,
   "metadata": {
    "ExecuteTime": {
     "end_time": "2023-10-08T22:05:10.890361100Z",
     "start_time": "2023-10-08T22:05:10.796180300Z"
    }
   },
   "outputs": [
    {
     "data": {
      "text/plain": "                 business_name  predicted  \\\n0                 Barrio Bread   4.727377   \n1  Spice Garden Indian Cuisine   4.649442   \n2                  Urban Fresh   4.642399   \n3           Barista Del Barrio   4.612669   \n4                       Anello   4.581338   \n5                     Tumerico   4.571035   \n6                   NI HAO TEA   4.515596   \n7                 Roma Imports   4.513770   \n8                   Pizza Luna   4.503772   \n9             Crave Coffee Bar   4.502040   \n\n                                          categories  \n0        Food, Specialty Food, Bakeries, Restaurants  \n1                    Restaurants, Indian, Vegetarian  \n2  Vegan, Live/Raw Food, Food, Juice Bars & Smoot...  \n3  Restaurants, Food, Breakfast & Brunch, Coffee ...  \n4                                 Pizza, Restaurants  \n5  Mexican, Gluten-Free, Vegetarian, Restaurants,...  \n6  Tea Rooms, Restaurants, Vegan, Bubble Tea, Foo...  \n7  Cheese Shops, Delis, Specialty Food, Restauran...  \n8                          Salad, Restaurants, Pizza  \n9                    Food, Coffee & Tea, Restaurants  ",
      "text/html": "<div>\n<style scoped>\n    .dataframe tbody tr th:only-of-type {\n        vertical-align: middle;\n    }\n\n    .dataframe tbody tr th {\n        vertical-align: top;\n    }\n\n    .dataframe thead th {\n        text-align: right;\n    }\n</style>\n<table border=\"1\" class=\"dataframe\">\n  <thead>\n    <tr style=\"text-align: right;\">\n      <th></th>\n      <th>business_name</th>\n      <th>predicted</th>\n      <th>categories</th>\n    </tr>\n  </thead>\n  <tbody>\n    <tr>\n      <th>0</th>\n      <td>Barrio Bread</td>\n      <td>4.727377</td>\n      <td>Food, Specialty Food, Bakeries, Restaurants</td>\n    </tr>\n    <tr>\n      <th>1</th>\n      <td>Spice Garden Indian Cuisine</td>\n      <td>4.649442</td>\n      <td>Restaurants, Indian, Vegetarian</td>\n    </tr>\n    <tr>\n      <th>2</th>\n      <td>Urban Fresh</td>\n      <td>4.642399</td>\n      <td>Vegan, Live/Raw Food, Food, Juice Bars &amp; Smoot...</td>\n    </tr>\n    <tr>\n      <th>3</th>\n      <td>Barista Del Barrio</td>\n      <td>4.612669</td>\n      <td>Restaurants, Food, Breakfast &amp; Brunch, Coffee ...</td>\n    </tr>\n    <tr>\n      <th>4</th>\n      <td>Anello</td>\n      <td>4.581338</td>\n      <td>Pizza, Restaurants</td>\n    </tr>\n    <tr>\n      <th>5</th>\n      <td>Tumerico</td>\n      <td>4.571035</td>\n      <td>Mexican, Gluten-Free, Vegetarian, Restaurants,...</td>\n    </tr>\n    <tr>\n      <th>6</th>\n      <td>NI HAO TEA</td>\n      <td>4.515596</td>\n      <td>Tea Rooms, Restaurants, Vegan, Bubble Tea, Foo...</td>\n    </tr>\n    <tr>\n      <th>7</th>\n      <td>Roma Imports</td>\n      <td>4.513770</td>\n      <td>Cheese Shops, Delis, Specialty Food, Restauran...</td>\n    </tr>\n    <tr>\n      <th>8</th>\n      <td>Pizza Luna</td>\n      <td>4.503772</td>\n      <td>Salad, Restaurants, Pizza</td>\n    </tr>\n    <tr>\n      <th>9</th>\n      <td>Crave Coffee Bar</td>\n      <td>4.502040</td>\n      <td>Food, Coffee &amp; Tea, Restaurants</td>\n    </tr>\n  </tbody>\n</table>\n</div>"
     },
     "execution_count": 294,
     "metadata": {},
     "output_type": "execute_result"
    }
   ],
   "source": [
    "recommended_df"
   ]
  },
  {
   "cell_type": "code",
   "execution_count": 295,
   "metadata": {
    "ExecuteTime": {
     "end_time": "2023-10-08T22:05:10.968527500Z",
     "start_time": "2023-10-08T22:05:10.811821900Z"
    }
   },
   "outputs": [],
   "source": [
    "def get_user_totals(uid):\n",
    "    '''\n",
    "    Returns the number of items rated by given user\n",
    "    \n",
    "    Arguments: \n",
    "    uid (string): the id of the user\n",
    "    \n",
    "    Returns: \n",
    "    (int): the number of items rated by the user\n",
    "    '''\n",
    "    try:\n",
    "        return len(trainset_3.ur[trainset_3.to_inner_uid(uid)])\n",
    "    except ValueError: # user was not part of the trainset\n",
    "        return 0\n",
    "    \n",
    "def get_item_totals(iid):\n",
    "    '''\n",
    "    Returns the number of users that have rated a given item\n",
    "    \n",
    "    Arguments:\n",
    "    iid (string): the raw id of the item\n",
    "      \n",
    "    Returns:\n",
    "    (int): the number of users that have rated the item.\n",
    "    '''\n",
    "    try: \n",
    "        return len(trainset_3.ir[trainset_3.to_inner_iid(iid)])\n",
    "    except ValueError:\n",
    "        return 0"
   ]
  },
  {
   "cell_type": "code",
   "execution_count": 296,
   "metadata": {
    "ExecuteTime": {
     "end_time": "2023-10-08T22:05:11.078711500Z",
     "start_time": "2023-10-08T22:05:10.827437100Z"
    }
   },
   "outputs": [],
   "source": [
    "# Generate the best/worst predictions by absolute error\n",
    "predictions_df['user_totals'] = predictions_df['uid'].apply(get_user_totals)\n",
    "predictions_df['item_totals'] = predictions_df['iid'].apply(get_item_totals)\n",
    "predictions_df['err'] = abs(predictions_df['predicted'] -\n",
    "                            predictions_df['true'])\n",
    "best_predictions = predictions_df.sort_values(by='err')[:50]\n",
    "worst_predictions = predictions_df.sort_values(by='err')[-50:]"
   ]
  },
  {
   "cell_type": "code",
   "execution_count": 297,
   "metadata": {
    "ExecuteTime": {
     "end_time": "2023-10-08T22:05:11.298207100Z",
     "start_time": "2023-10-08T22:05:10.890361100Z"
    }
   },
   "outputs": [
    {
     "name": "stderr",
     "output_type": "stream",
     "text": [
      "C:\\ProgramData\\Anaconda3\\lib\\site-packages\\seaborn\\distributions.py:2619: FutureWarning: `distplot` is a deprecated function and will be removed in a future version. Please adapt your code to use either `displot` (a figure-level function with similar flexibility) or `histplot` (an axes-level function for histograms).\n",
      "  warnings.warn(msg, FutureWarning)\n"
     ]
    },
    {
     "data": {
      "text/plain": "[Text(0, 0, '1'),\n Text(1, 0, '2'),\n Text(2, 0, '3'),\n Text(3, 0, '4'),\n Text(4, 0, '5')]"
     },
     "execution_count": 297,
     "metadata": {},
     "output_type": "execute_result"
    },
    {
     "data": {
      "text/plain": "<Figure size 1000x500 with 2 Axes>",
      "image/png": "[encoded data removed]"
     },
     "metadata": {},
     "output_type": "display_data"
    }
   ],
   "source": [
    "# Plot prediction distributions via histogram & violin plot\n",
    "fig, axs = plt.subplots(1, 2, figsize=(10, 5))\n",
    "\n",
    "sns.distplot(predictions_df['predicted'], bins=25, norm_hist=False,\n",
    "             color='coral', ax=axs[0], kde=False)\n",
    "axs[0].set_title('Distribution of Predicted Ratings')\n",
    "axs[0].set_xlabel('Predicted Ratings')\n",
    "axs[0].set_ylabel('Count')\n",
    "\n",
    "pred_data = ([predictions_df['predicted'][predictions_df['true'] == rating]\n",
    "              .values for rating in range(1, 6)])\n",
    "sns.violinplot(data=pred_data, ax=axs[1], color='coral')\n",
    "axs[1].set_title('Actual vs. Recommender Predicted Ratings')\n",
    "axs[1].set_xlabel('Actual Ratings')\n",
    "axs[1].set_ylabel('Predicted Ratings')\n",
    "axs[1].set_xticklabels(np.arange(1,6))\n"
   ]
  },
  {
   "cell_type": "code",
   "execution_count": 298,
   "metadata": {
    "scrolled": true,
    "ExecuteTime": {
     "end_time": "2023-10-08T22:05:11.392390500Z",
     "start_time": "2023-10-08T22:05:11.282540900Z"
    }
   },
   "outputs": [
    {
     "data": {
      "text/plain": "                          uid                     iid  true  predicted  \\\n12218  1h40OGNNcZ0nrrdJh4PEww  Tj-sKlbJR5M7Rpe9Cykk9w   5.0        5.0   \n466    GvLB4-XP2yeQELVW2F_7pw  LRr-aw58xVMkUu0OSL_BpQ   5.0        5.0   \n17817  aHiQYaTXrmQTeG6106l5wg  ZYxGiEyHD17kd80zUzaOQA   5.0        5.0   \n8491   hj4mHoNIFUnZV11dLMMfTw  j8feOxyJqlIJWOi8su2qzw   5.0        5.0   \n17837  lb6GPCR-ecVuOC57TIgYNg  LmZWlvPJBwj5WG2KHV-v1Q   5.0        5.0   \n17854  -6ULgMBfzqbgOPcE5PrRWQ  K6ORcbEU1vpC0E7F3qes3Q   5.0        5.0   \n8381   YYxpnIDbdRmc3AFesUcOPA  QO4E57PptMqNMrSS9sefUw   5.0        5.0   \n8353   o_tZOSJl0qCHGKHCWrg_-A  Ei5HBqe012ImhqEr2ZH2gg   5.0        5.0   \n17883  es1aTwAQpxxf9dUP_bGGIQ  XYFu64UPMMfoOlGTz3J4fw   1.0        1.0   \n1854   EOSSBrLfVE07nIv-WcalwA  rLMRRaLhgxH2cU2XuJf_BQ   5.0        5.0   \n8587   d65wI1aSNfLtydZH1-kzzw  UCMSWPqzXjd7QHq7v8PJjQ   5.0        5.0   \n17894  TIlbuLIsGLISCoI9pWlwyQ  LRr-aw58xVMkUu0OSL_BpQ   5.0        5.0   \n443    pKcLedHiUpYcie8eR0_aTg  oIA-gfxJAM0gjb0C39d24Q   5.0        5.0   \n8241   yQno7qmGT7wKwwrxYfdAiA  hyeo7JQr5uLp-St1MibYAA   5.0        5.0   \n8127   2jDq1qdBpMexpsf0iDu_rg  5YFqjdNj7HCkDwYjvwG50g   5.0        5.0   \n8060   ywcEVNoVg80cRW8vPdGW9A  DVBJRvnCpkqaYl6nHroaMg   5.0        5.0   \n18082  j33oNmDKsuicerZUp9w2Rg  RIQ5ALCz1-oi98ViCO7kgQ   5.0        5.0   \n18091  k9E3YPbXMzGvA6IaLX1wAQ  LZzDvgfpkd4nI3E4L9wF1w   5.0        5.0   \n7764   rrvfQfJcq-VrttVf3YEhXg  KZA_HEOsBXf8dtrk9rqNJA   5.0        5.0   \n7608   08RQ3m9TjajleexxPxwtQQ  2VPX222bhizLlWZrLQL3PQ   5.0        5.0   \n7584   Q5iadRpYz03RAS_LRWgf3A  6OwxdpajDSJi3DkMqkr2sw   5.0        5.0   \n8339   5jmVfpLgfi-544_zrF3skQ  DVBJRvnCpkqaYl6nHroaMg   5.0        5.0   \n1970   5-UCzJL2ZdZHwqD7J1Tu1Q  k_AcP_k0CqjstNNe5QrJSg   5.0        5.0   \n8592   iGTVUik7Qs045GzMly4L6w  UCMSWPqzXjd7QHq7v8PJjQ   5.0        5.0   \n8676   aX3vDE1UmbdrWeOsgeyBKg  SbdL-8NSmTWgSwdGZBa7WQ   5.0        5.0   \n17393  o_tZOSJl0qCHGKHCWrg_-A  ZHcfV3d7ZW8bmwgKCsz-RA   5.0        5.0   \n9433   FvuREyQJqxnTS3Oy731AIA  VwADinB-DonoikE35VtkCA   5.0        5.0   \n9347   F8cmuTfQUxjNS_lHIXIWnQ  6Cs52T0ItZ5TQ5Qx-UGaMw   5.0        5.0   \n17452  NMq2mXfWTldxR9-JTSJa6A  jh8j-DWqgWkbRe_a2XtKFQ   5.0        5.0   \n9234   f01RRoEzPSqfihNLb71muQ  X4kLBCoQeS-x6zVH7fnOvw   5.0        5.0   \n9190   K8D22KUbpfCxvK91lt5sxw  jh8j-DWqgWkbRe_a2XtKFQ   5.0        5.0   \n515    lWp1kZwk22u4jbY0IgCEKg  mE16tq2q9kIAeI1wnPkKXQ   5.0        5.0   \n17559  j33oNmDKsuicerZUp9w2Rg  jZ1rUspubgkuZjwKJMhEEw   5.0        5.0   \n9123   v6YcuAF8vegxISJynbF1yg  4kTeF5mHEkXzO-q1sxHZ2A   5.0        5.0   \n8599   PB12rXSugGTOAiLYPA08mA  Nggy_QUDxaLlrcQAQf7GnQ   5.0        5.0   \n9121   g_UvMS8irByyP7h3KEmmxQ  JFteGsQlrJeJjur6cA1RhA   5.0        5.0   \n1754   gZ-kBiIRGJWERCn8ng6rvw  CJoO4HYD0tZRXlZqA04wmw   5.0        5.0   \n1756   7l_Z_XGi-dDyepA0EsjDHQ  X_87Bx1bAwGPjPmSuiHWHQ   5.0        5.0   \n8987   CBw_Dfsb_FeaY56UK7eVbw  BJOGo_upuBElDT_xOaurIA   5.0        5.0   \n17611  kV4eLnU5fm-ieJCEeqNiIQ  535HzcJ9JTj6tCaZbA0uBA   5.0        5.0   \n8982   9wvTBpKH0RKeXjhf7A36ig  UCMSWPqzXjd7QHq7v8PJjQ   5.0        5.0   \n17624  Xf5hPJl9P4r9rRAy-NR46g  UCMSWPqzXjd7QHq7v8PJjQ   5.0        5.0   \n8868   lb6GPCR-ecVuOC57TIgYNg  LmZWlvPJBwj5WG2KHV-v1Q   5.0        5.0   \n8690   No2Zqb_yKsEbc3L_BxTukA  tkyHFPJ3dBsjE2hA_tk_sQ   5.0        5.0   \n17723  d7Hm6S1Mc0IP9CBF9qq-fw  JFteGsQlrJeJjur6cA1RhA   5.0        5.0   \n1746   Mh27mMGoqIvakbNHleCz0w  gciMEyy9sIcwSMREEvNiXA   5.0        5.0   \n17364  lv8VhfYvNpDuHYsFMTf_Tw  UCMSWPqzXjd7QHq7v8PJjQ   5.0        5.0   \n7502   IJN-45eOGi1gUihoYAc5jQ  LF8AY2hrISeZ-YWxgu1fAg   5.0        5.0   \n7466   Vo70pntttiU9mX1jAKSBUQ  wj8XtPyuREj8_0GQz3LZ6w   5.0        5.0   \n18879  CBw_Dfsb_FeaY56UK7eVbw  tpvHimO4BBn1QMPQL02B7A   5.0        5.0   \n\n       user_totals  item_totals  err  \n12218           15          251  0.0  \n466              4          201  0.0  \n17817           94          214  0.0  \n8491            23          519  0.0  \n17837           17          340  0.0  \n17854           25           89  0.0  \n8381             9          149  0.0  \n8353             7          198  0.0  \n17883            9           52  0.0  \n1854             6          266  0.0  \n8587            11         1099  0.0  \n17894           34          201  0.0  \n443             16           84  0.0  \n8241            15          514  0.0  \n8127            34          246  0.0  \n8060             4          291  0.0  \n18082           30           54  0.0  \n18091           48          557  0.0  \n7764            35          354  0.0  \n7608            25          120  0.0  \n7584            13          162  0.0  \n8339             3          291  0.0  \n1970             3          107  0.0  \n8592            16         1099  0.0  \n8676            30          142  0.0  \n17393            7          125  0.0  \n9433             9           56  0.0  \n9347             8          377  0.0  \n17452           10          127  0.0  \n9234             8          123  0.0  \n9190             3          127  0.0  \n515             11          153  0.0  \n17559           30           92  0.0  \n9123             4           75  0.0  \n8599            40          172  0.0  \n9121            25          175  0.0  \n1754             3          236  0.0  \n1756             8           57  0.0  \n8987            18          270  0.0  \n17611           43          101  0.0  \n8982             9         1099  0.0  \n17624            8         1099  0.0  \n8868            17          340  0.0  \n8690            21          207  0.0  \n17723            9          175  0.0  \n1746             5          207  0.0  \n17364            6         1099  0.0  \n7502            18          211  0.0  \n7466             1          480  0.0  \n18879           18           69  0.0  ",
      "text/html": "<div>\n<style scoped>\n    .dataframe tbody tr th:only-of-type {\n        vertical-align: middle;\n    }\n\n    .dataframe tbody tr th {\n        vertical-align: top;\n    }\n\n    .dataframe thead th {\n        text-align: right;\n    }\n</style>\n<table border=\"1\" class=\"dataframe\">\n  <thead>\n    <tr style=\"text-align: right;\">\n      <th></th>\n      <th>uid</th>\n      <th>iid</th>\n      <th>true</th>\n      <th>predicted</th>\n      <th>user_totals</th>\n      <th>item_totals</th>\n      <th>err</th>\n    </tr>\n  </thead>\n  <tbody>\n    <tr>\n      <th>12218</th>\n      <td>1h40OGNNcZ0nrrdJh4PEww</td>\n      <td>Tj-sKlbJR5M7Rpe9Cykk9w</td>\n      <td>5.0</td>\n      <td>5.0</td>\n      <td>15</td>\n      <td>251</td>\n      <td>0.0</td>\n    </tr>\n    <tr>\n      <th>466</th>\n      <td>GvLB4-XP2yeQELVW2F_7pw</td>\n      <td>LRr-aw58xVMkUu0OSL_BpQ</td>\n      <td>5.0</td>\n      <td>5.0</td>\n      <td>4</td>\n      <td>201</td>\n      <td>0.0</td>\n    </tr>\n    <tr>\n      <th>17817</th>\n      <td>aHiQYaTXrmQTeG6106l5wg</td>\n      <td>ZYxGiEyHD17kd80zUzaOQA</td>\n      <td>5.0</td>\n      <td>5.0</td>\n      <td>94</td>\n      <td>214</td>\n      <td>0.0</td>\n    </tr>\n    <tr>\n      <th>8491</th>\n      <td>hj4mHoNIFUnZV11dLMMfTw</td>\n      <td>j8feOxyJqlIJWOi8su2qzw</td>\n      <td>5.0</td>\n      <td>5.0</td>\n      <td>23</td>\n      <td>519</td>\n      <td>0.0</td>\n    </tr>\n    <tr>\n      <th>17837</th>\n      <td>lb6GPCR-ecVuOC57TIgYNg</td>\n      <td>LmZWlvPJBwj5WG2KHV-v1Q</td>\n      <td>5.0</td>\n      <td>5.0</td>\n      <td>17</td>\n      <td>340</td>\n      <td>0.0</td>\n    </tr>\n    <tr>\n      <th>17854</th>\n      <td>-6ULgMBfzqbgOPcE5PrRWQ</td>\n      <td>K6ORcbEU1vpC0E7F3qes3Q</td>\n      <td>5.0</td>\n      <td>5.0</td>\n      <td>25</td>\n      <td>89</td>\n      <td>0.0</td>\n    </tr>\n    <tr>\n      <th>8381</th>\n      <td>YYxpnIDbdRmc3AFesUcOPA</td>\n      <td>QO4E57PptMqNMrSS9sefUw</td>\n      <td>5.0</td>\n      <td>5.0</td>\n      <td>9</td>\n      <td>149</td>\n      <td>0.0</td>\n    </tr>\n    <tr>\n      <th>8353</th>\n      <td>o_tZOSJl0qCHGKHCWrg_-A</td>\n      <td>Ei5HBqe012ImhqEr2ZH2gg</td>\n      <td>5.0</td>\n      <td>5.0</td>\n      <td>7</td>\n      <td>198</td>\n      <td>0.0</td>\n    </tr>\n    <tr>\n      <th>17883</th>\n      <td>es1aTwAQpxxf9dUP_bGGIQ</td>\n      <td>XYFu64UPMMfoOlGTz3J4fw</td>\n      <td>1.0</td>\n      <td>1.0</td>\n      <td>9</td>\n      <td>52</td>\n      <td>0.0</td>\n    </tr>\n    <tr>\n      <th>1854</th>\n      <td>EOSSBrLfVE07nIv-WcalwA</td>\n      <td>rLMRRaLhgxH2cU2XuJf_BQ</td>\n      <td>5.0</td>\n      <td>5.0</td>\n      <td>6</td>\n      <td>266</td>\n      <td>0.0</td>\n    </tr>\n    <tr>\n      <th>8587</th>\n      <td>d65wI1aSNfLtydZH1-kzzw</td>\n      <td>UCMSWPqzXjd7QHq7v8PJjQ</td>\n      <td>5.0</td>\n      <td>5.0</td>\n      <td>11</td>\n      <td>1099</td>\n      <td>0.0</td>\n    </tr>\n    <tr>\n      <th>17894</th>\n      <td>TIlbuLIsGLISCoI9pWlwyQ</td>\n      <td>LRr-aw58xVMkUu0OSL_BpQ</td>\n      <td>5.0</td>\n      <td>5.0</td>\n      <td>34</td>\n      <td>201</td>\n      <td>0.0</td>\n    </tr>\n    <tr>\n      <th>443</th>\n      <td>pKcLedHiUpYcie8eR0_aTg</td>\n      <td>oIA-gfxJAM0gjb0C39d24Q</td>\n      <td>5.0</td>\n      <td>5.0</td>\n      <td>16</td>\n      <td>84</td>\n      <td>0.0</td>\n    </tr>\n    <tr>\n      <th>8241</th>\n      <td>yQno7qmGT7wKwwrxYfdAiA</td>\n      <td>hyeo7JQr5uLp-St1MibYAA</td>\n      <td>5.0</td>\n      <td>5.0</td>\n      <td>15</td>\n      <td>514</td>\n      <td>0.0</td>\n    </tr>\n    <tr>\n      <th>8127</th>\n      <td>2jDq1qdBpMexpsf0iDu_rg</td>\n      <td>5YFqjdNj7HCkDwYjvwG50g</td>\n      <td>5.0</td>\n      <td>5.0</td>\n      <td>34</td>\n      <td>246</td>\n      <td>0.0</td>\n    </tr>\n    <tr>\n      <th>8060</th>\n      <td>ywcEVNoVg80cRW8vPdGW9A</td>\n      <td>DVBJRvnCpkqaYl6nHroaMg</td>\n      <td>5.0</td>\n      <td>5.0</td>\n      <td>4</td>\n      <td>291</td>\n      <td>0.0</td>\n    </tr>\n    <tr>\n      <th>18082</th>\n      <td>j33oNmDKsuicerZUp9w2Rg</td>\n      <td>RIQ5ALCz1-oi98ViCO7kgQ</td>\n      <td>5.0</td>\n      <td>5.0</td>\n      <td>30</td>\n      <td>54</td>\n      <td>0.0</td>\n    </tr>\n    <tr>\n      <th>18091</th>\n      <td>k9E3YPbXMzGvA6IaLX1wAQ</td>\n      <td>LZzDvgfpkd4nI3E4L9wF1w</td>\n      <td>5.0</td>\n      <td>5.0</td>\n      <td>48</td>\n      <td>557</td>\n      <td>0.0</td>\n    </tr>\n    <tr>\n      <th>7764</th>\n      <td>rrvfQfJcq-VrttVf3YEhXg</td>\n      <td>KZA_HEOsBXf8dtrk9rqNJA</td>\n      <td>5.0</td>\n      <td>5.0</td>\n      <td>35</td>\n      <td>354</td>\n      <td>0.0</td>\n    </tr>\n    <tr>\n      <th>7608</th>\n      <td>08RQ3m9TjajleexxPxwtQQ</td>\n      <td>2VPX222bhizLlWZrLQL3PQ</td>\n      <td>5.0</td>\n      <td>5.0</td>\n      <td>25</td>\n      <td>120</td>\n      <td>0.0</td>\n    </tr>\n    <tr>\n      <th>7584</th>\n      <td>Q5iadRpYz03RAS_LRWgf3A</td>\n      <td>6OwxdpajDSJi3DkMqkr2sw</td>\n      <td>5.0</td>\n      <td>5.0</td>\n      <td>13</td>\n      <td>162</td>\n      <td>0.0</td>\n    </tr>\n    <tr>\n      <th>8339</th>\n      <td>5jmVfpLgfi-544_zrF3skQ</td>\n      <td>DVBJRvnCpkqaYl6nHroaMg</td>\n      <td>5.0</td>\n      <td>5.0</td>\n      <td>3</td>\n      <td>291</td>\n      <td>0.0</td>\n    </tr>\n    <tr>\n      <th>1970</th>\n      <td>5-UCzJL2ZdZHwqD7J1Tu1Q</td>\n      <td>k_AcP_k0CqjstNNe5QrJSg</td>\n      <td>5.0</td>\n      <td>5.0</td>\n      <td>3</td>\n      <td>107</td>\n      <td>0.0</td>\n    </tr>\n    <tr>\n      <th>8592</th>\n      <td>iGTVUik7Qs045GzMly4L6w</td>\n      <td>UCMSWPqzXjd7QHq7v8PJjQ</td>\n      <td>5.0</td>\n      <td>5.0</td>\n      <td>16</td>\n      <td>1099</td>\n      <td>0.0</td>\n    </tr>\n    <tr>\n      <th>8676</th>\n      <td>aX3vDE1UmbdrWeOsgeyBKg</td>\n      <td>SbdL-8NSmTWgSwdGZBa7WQ</td>\n      <td>5.0</td>\n      <td>5.0</td>\n      <td>30</td>\n      <td>142</td>\n      <td>0.0</td>\n    </tr>\n    <tr>\n      <th>17393</th>\n      <td>o_tZOSJl0qCHGKHCWrg_-A</td>\n      <td>ZHcfV3d7ZW8bmwgKCsz-RA</td>\n      <td>5.0</td>\n      <td>5.0</td>\n      <td>7</td>\n      <td>125</td>\n      <td>0.0</td>\n    </tr>\n    <tr>\n      <th>9433</th>\n      <td>FvuREyQJqxnTS3Oy731AIA</td>\n      <td>VwADinB-DonoikE35VtkCA</td>\n      <td>5.0</td>\n      <td>5.0</td>\n      <td>9</td>\n      <td>56</td>\n      <td>0.0</td>\n    </tr>\n    <tr>\n      <th>9347</th>\n      <td>F8cmuTfQUxjNS_lHIXIWnQ</td>\n      <td>6Cs52T0ItZ5TQ5Qx-UGaMw</td>\n      <td>5.0</td>\n      <td>5.0</td>\n      <td>8</td>\n      <td>377</td>\n      <td>0.0</td>\n    </tr>\n    <tr>\n      <th>17452</th>\n      <td>NMq2mXfWTldxR9-JTSJa6A</td>\n      <td>jh8j-DWqgWkbRe_a2XtKFQ</td>\n      <td>5.0</td>\n      <td>5.0</td>\n      <td>10</td>\n      <td>127</td>\n      <td>0.0</td>\n    </tr>\n    <tr>\n      <th>9234</th>\n      <td>f01RRoEzPSqfihNLb71muQ</td>\n      <td>X4kLBCoQeS-x6zVH7fnOvw</td>\n      <td>5.0</td>\n      <td>5.0</td>\n      <td>8</td>\n      <td>123</td>\n      <td>0.0</td>\n    </tr>\n    <tr>\n      <th>9190</th>\n      <td>K8D22KUbpfCxvK91lt5sxw</td>\n      <td>jh8j-DWqgWkbRe_a2XtKFQ</td>\n      <td>5.0</td>\n      <td>5.0</td>\n      <td>3</td>\n      <td>127</td>\n      <td>0.0</td>\n    </tr>\n    <tr>\n      <th>515</th>\n      <td>lWp1kZwk22u4jbY0IgCEKg</td>\n      <td>mE16tq2q9kIAeI1wnPkKXQ</td>\n      <td>5.0</td>\n      <td>5.0</td>\n      <td>11</td>\n      <td>153</td>\n      <td>0.0</td>\n    </tr>\n    <tr>\n      <th>17559</th>\n      <td>j33oNmDKsuicerZUp9w2Rg</td>\n      <td>jZ1rUspubgkuZjwKJMhEEw</td>\n      <td>5.0</td>\n      <td>5.0</td>\n      <td>30</td>\n      <td>92</td>\n      <td>0.0</td>\n    </tr>\n    <tr>\n      <th>9123</th>\n      <td>v6YcuAF8vegxISJynbF1yg</td>\n      <td>4kTeF5mHEkXzO-q1sxHZ2A</td>\n      <td>5.0</td>\n      <td>5.0</td>\n      <td>4</td>\n      <td>75</td>\n      <td>0.0</td>\n    </tr>\n    <tr>\n      <th>8599</th>\n      <td>PB12rXSugGTOAiLYPA08mA</td>\n      <td>Nggy_QUDxaLlrcQAQf7GnQ</td>\n      <td>5.0</td>\n      <td>5.0</td>\n      <td>40</td>\n      <td>172</td>\n      <td>0.0</td>\n    </tr>\n    <tr>\n      <th>9121</th>\n      <td>g_UvMS8irByyP7h3KEmmxQ</td>\n      <td>JFteGsQlrJeJjur6cA1RhA</td>\n      <td>5.0</td>\n      <td>5.0</td>\n      <td>25</td>\n      <td>175</td>\n      <td>0.0</td>\n    </tr>\n    <tr>\n      <th>1754</th>\n      <td>gZ-kBiIRGJWERCn8ng6rvw</td>\n      <td>CJoO4HYD0tZRXlZqA04wmw</td>\n      <td>5.0</td>\n      <td>5.0</td>\n      <td>3</td>\n      <td>236</td>\n      <td>0.0</td>\n    </tr>\n    <tr>\n      <th>1756</th>\n      <td>7l_Z_XGi-dDyepA0EsjDHQ</td>\n      <td>X_87Bx1bAwGPjPmSuiHWHQ</td>\n      <td>5.0</td>\n      <td>5.0</td>\n      <td>8</td>\n      <td>57</td>\n      <td>0.0</td>\n    </tr>\n    <tr>\n      <th>8987</th>\n      <td>CBw_Dfsb_FeaY56UK7eVbw</td>\n      <td>BJOGo_upuBElDT_xOaurIA</td>\n      <td>5.0</td>\n      <td>5.0</td>\n      <td>18</td>\n      <td>270</td>\n      <td>0.0</td>\n    </tr>\n    <tr>\n      <th>17611</th>\n      <td>kV4eLnU5fm-ieJCEeqNiIQ</td>\n      <td>535HzcJ9JTj6tCaZbA0uBA</td>\n      <td>5.0</td>\n      <td>5.0</td>\n      <td>43</td>\n      <td>101</td>\n      <td>0.0</td>\n    </tr>\n    <tr>\n      <th>8982</th>\n      <td>9wvTBpKH0RKeXjhf7A36ig</td>\n      <td>UCMSWPqzXjd7QHq7v8PJjQ</td>\n      <td>5.0</td>\n      <td>5.0</td>\n      <td>9</td>\n      <td>1099</td>\n      <td>0.0</td>\n    </tr>\n    <tr>\n      <th>17624</th>\n      <td>Xf5hPJl9P4r9rRAy-NR46g</td>\n      <td>UCMSWPqzXjd7QHq7v8PJjQ</td>\n      <td>5.0</td>\n      <td>5.0</td>\n      <td>8</td>\n      <td>1099</td>\n      <td>0.0</td>\n    </tr>\n    <tr>\n      <th>8868</th>\n      <td>lb6GPCR-ecVuOC57TIgYNg</td>\n      <td>LmZWlvPJBwj5WG2KHV-v1Q</td>\n      <td>5.0</td>\n      <td>5.0</td>\n      <td>17</td>\n      <td>340</td>\n      <td>0.0</td>\n    </tr>\n    <tr>\n      <th>8690</th>\n      <td>No2Zqb_yKsEbc3L_BxTukA</td>\n      <td>tkyHFPJ3dBsjE2hA_tk_sQ</td>\n      <td>5.0</td>\n      <td>5.0</td>\n      <td>21</td>\n      <td>207</td>\n      <td>0.0</td>\n    </tr>\n    <tr>\n      <th>17723</th>\n      <td>d7Hm6S1Mc0IP9CBF9qq-fw</td>\n      <td>JFteGsQlrJeJjur6cA1RhA</td>\n      <td>5.0</td>\n      <td>5.0</td>\n      <td>9</td>\n      <td>175</td>\n      <td>0.0</td>\n    </tr>\n    <tr>\n      <th>1746</th>\n      <td>Mh27mMGoqIvakbNHleCz0w</td>\n      <td>gciMEyy9sIcwSMREEvNiXA</td>\n      <td>5.0</td>\n      <td>5.0</td>\n      <td>5</td>\n      <td>207</td>\n      <td>0.0</td>\n    </tr>\n    <tr>\n      <th>17364</th>\n      <td>lv8VhfYvNpDuHYsFMTf_Tw</td>\n      <td>UCMSWPqzXjd7QHq7v8PJjQ</td>\n      <td>5.0</td>\n      <td>5.0</td>\n      <td>6</td>\n      <td>1099</td>\n      <td>0.0</td>\n    </tr>\n    <tr>\n      <th>7502</th>\n      <td>IJN-45eOGi1gUihoYAc5jQ</td>\n      <td>LF8AY2hrISeZ-YWxgu1fAg</td>\n      <td>5.0</td>\n      <td>5.0</td>\n      <td>18</td>\n      <td>211</td>\n      <td>0.0</td>\n    </tr>\n    <tr>\n      <th>7466</th>\n      <td>Vo70pntttiU9mX1jAKSBUQ</td>\n      <td>wj8XtPyuREj8_0GQz3LZ6w</td>\n      <td>5.0</td>\n      <td>5.0</td>\n      <td>1</td>\n      <td>480</td>\n      <td>0.0</td>\n    </tr>\n    <tr>\n      <th>18879</th>\n      <td>CBw_Dfsb_FeaY56UK7eVbw</td>\n      <td>tpvHimO4BBn1QMPQL02B7A</td>\n      <td>5.0</td>\n      <td>5.0</td>\n      <td>18</td>\n      <td>69</td>\n      <td>0.0</td>\n    </tr>\n  </tbody>\n</table>\n</div>"
     },
     "execution_count": 298,
     "metadata": {},
     "output_type": "execute_result"
    }
   ],
   "source": [
    "best_predictions"
   ]
  },
  {
   "cell_type": "code",
   "execution_count": 299,
   "metadata": {
    "ExecuteTime": {
     "end_time": "2023-10-08T22:05:11.392390500Z",
     "start_time": "2023-10-08T22:05:11.313832700Z"
    }
   },
   "outputs": [
    {
     "data": {
      "text/plain": "                          uid                     iid  true  predicted  \\\n13381  Z_FzGGu5vggFwelcMy17oA  Ei5HBqe012ImhqEr2ZH2gg   1.0   4.517224   \n1346   4b2rcgbPMsYm785lV28H3A  wj8XtPyuREj8_0GQz3LZ6w   1.0   4.520401   \n1191   kDBTf_z0-xVm7MfWZ8OVJg  3cyjdxvskRcADylzLI32cQ   1.0   4.524068   \n12650  zMgwLH29hbo-p1n2e-THNA  Tj-sKlbJR5M7Rpe9Cykk9w   1.0   4.525381   \n13499  aSpI5FySfpU4vR1NKNsvIQ  uSIGgRScZmpWlEcHtoaWlA   1.0   4.528758   \n1562   -CJuOmq1GYYgndjqncSF3g  QMo3URjgmyY_jU9GtYfxtA   1.0   4.535424   \n13636  PM7Y1hRf00UicxpP8Rb6tQ  YSRM9nWQn40eg49tSiI-_Q   1.0   4.535901   \n17407  TBUk--BjeXPESdZM5PXx8g  EmBa8UWYRwM_3hagkqwtIg   1.0   4.542688   \n10992  -bHnkg9mGmFk3xJNW1uDsQ  3XRHR2IZ7yd3FDAogps20A   1.0   4.550711   \n13262  Y3aSrTddfpfErLKuqneo-g  MfkMUNwur9huBERrx0k5lg   1.0   4.553928   \n9507   YRbkq4vzeF_6smTMrxx_ug  wexGsdw5Wz85-hOBx9r2Tg   1.0   4.556766   \n15528  aX3vDE1UmbdrWeOsgeyBKg  IJ5N0TNgDDFP0UauRmepDg   1.0   4.556961   \n919    ZUYvNrpUbyycigA8cbpH3w  SCPXVj5VXRvXWU6r8tDLRg   1.0   4.561684   \n2573   hXLn6MGByTNItZZl8TSdjw  yVB7Usr55NnaUKs7K6xDTQ   1.0   4.570881   \n18707  VGbV7fVFN1XN5LSVaBRr7Q  qmiz3iYOn4pZylOe27OTUQ   1.0   4.571433   \n16360  -p-Ry1j3E7FrQ6bAafz9mQ  UCMSWPqzXjd7QHq7v8PJjQ   1.0   4.600218   \n769    g1Yv31RGk2htNRZf9cmPEw  OMnPtRGmbY8qH_wIILfYKA   1.0   4.605370   \n14134  0sFn-EV4hAoMLXUoDUd-3A  Klpb4jqrgCBX9_BnBmkz8g   1.0   4.606855   \n20211  R-mJpfKNf5-ZDy8L9tdmDA  HoKH4Rk7wHfVT-60aYIYwA   1.0   4.608462   \n186    JobFYX4bc3mOrucw8B4aYw  wexGsdw5Wz85-hOBx9r2Tg   1.0   4.618720   \n8001   PX3hdE00M_If16Y1wSKINg  njNxIjW06NxED_1DWrJwKQ   1.0   4.619808   \n2182   n16TKobVCByzupi1-g90gw  yVB7Usr55NnaUKs7K6xDTQ   1.0   4.667799   \n6307   ecGLcYkcEPYf6FkwcW3__g  UjQnH-pElJZ9jD51vOt5Rw   1.0   4.668612   \n5740   ZHiTQYXx-QxuNrDY20W9jA  u6P6I5PZnSlnILY5nFWBJA   1.0   4.673947   \n8608   VHnROc4dY4sFdRWulx2-lw  d-e9OJzjy-_bWs3r6fKIbQ   1.0   4.680468   \n16466  WaPzpXPSgaOh66Xt_09SLQ  UjQnH-pElJZ9jD51vOt5Rw   1.0   4.682399   \n20679  2puPZX4xSHgSisoBhPTRAw  ocjotK9u5F3E4CVXD_iNPw   1.0   4.694220   \n6521   O5IPoolTMnBBNf5XfpgINQ  EIKbEHnsVg6dcsWopW4lkg   1.0   4.704865   \n18531  NJLUeMnk-PoYwSP1RReZSg  2VPX222bhizLlWZrLQL3PQ   1.0   4.705398   \n16457  n2kJxqcpYN0P5T8m1-Q5hA  X_87Bx1bAwGPjPmSuiHWHQ   1.0   4.706567   \n4732   DptkW6k27z80g__V6MhDnA  1ipr4W2ApXdAyOmRE4AIkQ   1.0   4.714974   \n16754  bXJuhxsCv12MiFbNZMPWNg  OuaqRGlscxMIqUoN4Vw41A   1.0   4.717184   \n16228  25uC2MSAyUd3nCfedSyXug  wj8XtPyuREj8_0GQz3LZ6w   1.0   4.717700   \n16439  HKIFN7bin1aKtQZ9k9tRlQ  5YFqjdNj7HCkDwYjvwG50g   1.0   4.723009   \n12275  PB12rXSugGTOAiLYPA08mA  jZ1rUspubgkuZjwKJMhEEw   1.0   4.737115   \n14607  eT-QYWNMG6DhQq59aZtUZg  Rv8bW3pkzpi5dZu5ckbgtA   1.0   4.746688   \n8494   TSS3SRBqqHZNOGU9nEdC9w  uSIGgRScZmpWlEcHtoaWlA   1.0   4.747302   \n7280   1QDM7pBp7yJXWVc7MtT1Mw  x_OCBGTbSzwslCV8XyvkyA   1.0   4.750312   \n20302  y9DA292eaFqXwuaBSqSs1Q  UjQnH-pElJZ9jD51vOt5Rw   1.0   4.765419   \n2023   PeNrvlkLW9V-EDlviUmzdA  u6P6I5PZnSlnILY5nFWBJA   1.0   4.825723   \n11999  o3B-Csnb88k7BXkDHehuMg  UCMSWPqzXjd7QHq7v8PJjQ   1.0   4.856179   \n10537  X1qPn_PwyFrwOD9_zKJ2JA  GNo1zeiPKErB7Ww_j3IlOg   1.0   4.861653   \n9470   DBC6sVnKfUAOimwj5JOmag  YSRM9nWQn40eg49tSiI-_Q   1.0   4.863968   \n2013   DBC6sVnKfUAOimwj5JOmag  YSRM9nWQn40eg49tSiI-_Q   1.0   4.863968   \n14952  _OV7Vpjqtnl1qqdI52hlsw  wYYsmF6begc6ZcnPGwF9NQ   1.0   4.869767   \n7186   Co5TGBilFHvMkUNsgksJ9Q  IKMAgK2m6WRIViVFB2vAFQ   1.0   4.901368   \n19247  D7bhAk9IPs9X25utdOOZUQ  hyeo7JQr5uLp-St1MibYAA   1.0   4.935465   \n6649   Ld0BvBjyABEa7i-u8mNDDw  UCMSWPqzXjd7QHq7v8PJjQ   1.0   4.941651   \n5544   BbDE6GvqFgE_lJNg_WU4fg  asuAMmOFQb8KeKEU7bO0Rg   1.0   5.000000   \n5770   lWp1kZwk22u4jbY0IgCEKg  c4xAYwO_s8HEmOfCLVAhCA   1.0   5.000000   \n\n       user_totals  item_totals       err  \n13381            2          198  3.517224  \n1346             8          480  3.520401  \n1191            14          106  3.524068  \n12650            4          251  3.525381  \n13499            7          403  3.528758  \n1562             2          109  3.535424  \n13636            3          355  3.535901  \n17407           23          253  3.542688  \n10992            4           84  3.550711  \n13262            2          203  3.553928  \n9507             6          326  3.556766  \n15528           30          119  3.556961  \n919             52          129  3.561684  \n2573             2          172  3.570881  \n18707            9          153  3.571433  \n16360            4         1099  3.600218  \n769              2          136  3.605370  \n14134           34          139  3.606855  \n20211            6          134  3.608462  \n186              2          326  3.618720  \n8001            11          105  3.619808  \n2182             4          172  3.667799  \n6307            17          423  3.668612  \n5740            22          399  3.673947  \n8608             7           84  3.680468  \n16466            9          423  3.682399  \n20679           27          175  3.694220  \n6521            15          316  3.704865  \n18531            2          120  3.705398  \n16457            1           57  3.706567  \n4732             3          156  3.714974  \n16754            4          244  3.717184  \n16228            7          480  3.717700  \n16439           84          246  3.723009  \n12275           40           92  3.737115  \n14607            7          509  3.746688  \n8494            11          403  3.747302  \n7280             1          177  3.750312  \n20302            5          423  3.765419  \n2023             4          399  3.825723  \n11999           26         1099  3.856179  \n10537            4           72  3.861653  \n9470             1          355  3.863968  \n2013             1          355  3.863968  \n14952            3          220  3.869767  \n7186            24          405  3.901368  \n19247            3          514  3.935465  \n6649             2         1099  3.941651  \n5544            13          114  4.000000  \n5770            11          146  4.000000  ",
      "text/html": "<div>\n<style scoped>\n    .dataframe tbody tr th:only-of-type {\n        vertical-align: middle;\n    }\n\n    .dataframe tbody tr th {\n        vertical-align: top;\n    }\n\n    .dataframe thead th {\n        text-align: right;\n    }\n</style>\n<table border=\"1\" class=\"dataframe\">\n  <thead>\n    <tr style=\"text-align: right;\">\n      <th></th>\n      <th>uid</th>\n      <th>iid</th>\n      <th>true</th>\n      <th>predicted</th>\n      <th>user_totals</th>\n      <th>item_totals</th>\n      <th>err</th>\n    </tr>\n  </thead>\n  <tbody>\n    <tr>\n      <th>13381</th>\n      <td>Z_FzGGu5vggFwelcMy17oA</td>\n      <td>Ei5HBqe012ImhqEr2ZH2gg</td>\n      <td>1.0</td>\n      <td>4.517224</td>\n      <td>2</td>\n      <td>198</td>\n      <td>3.517224</td>\n    </tr>\n    <tr>\n      <th>1346</th>\n      <td>4b2rcgbPMsYm785lV28H3A</td>\n      <td>wj8XtPyuREj8_0GQz3LZ6w</td>\n      <td>1.0</td>\n      <td>4.520401</td>\n      <td>8</td>\n      <td>480</td>\n      <td>3.520401</td>\n    </tr>\n    <tr>\n      <th>1191</th>\n      <td>kDBTf_z0-xVm7MfWZ8OVJg</td>\n      <td>3cyjdxvskRcADylzLI32cQ</td>\n      <td>1.0</td>\n      <td>4.524068</td>\n      <td>14</td>\n      <td>106</td>\n      <td>3.524068</td>\n    </tr>\n    <tr>\n      <th>12650</th>\n      <td>zMgwLH29hbo-p1n2e-THNA</td>\n      <td>Tj-sKlbJR5M7Rpe9Cykk9w</td>\n      <td>1.0</td>\n      <td>4.525381</td>\n      <td>4</td>\n      <td>251</td>\n      <td>3.525381</td>\n    </tr>\n    <tr>\n      <th>13499</th>\n      <td>aSpI5FySfpU4vR1NKNsvIQ</td>\n      <td>uSIGgRScZmpWlEcHtoaWlA</td>\n      <td>1.0</td>\n      <td>4.528758</td>\n      <td>7</td>\n      <td>403</td>\n      <td>3.528758</td>\n    </tr>\n    <tr>\n      <th>1562</th>\n      <td>-CJuOmq1GYYgndjqncSF3g</td>\n      <td>QMo3URjgmyY_jU9GtYfxtA</td>\n      <td>1.0</td>\n      <td>4.535424</td>\n      <td>2</td>\n      <td>109</td>\n      <td>3.535424</td>\n    </tr>\n    <tr>\n      <th>13636</th>\n      <td>PM7Y1hRf00UicxpP8Rb6tQ</td>\n      <td>YSRM9nWQn40eg49tSiI-_Q</td>\n      <td>1.0</td>\n      <td>4.535901</td>\n      <td>3</td>\n      <td>355</td>\n      <td>3.535901</td>\n    </tr>\n    <tr>\n      <th>17407</th>\n      <td>TBUk--BjeXPESdZM5PXx8g</td>\n      <td>EmBa8UWYRwM_3hagkqwtIg</td>\n      <td>1.0</td>\n      <td>4.542688</td>\n      <td>23</td>\n      <td>253</td>\n      <td>3.542688</td>\n    </tr>\n    <tr>\n      <th>10992</th>\n      <td>-bHnkg9mGmFk3xJNW1uDsQ</td>\n      <td>3XRHR2IZ7yd3FDAogps20A</td>\n      <td>1.0</td>\n      <td>4.550711</td>\n      <td>4</td>\n      <td>84</td>\n      <td>3.550711</td>\n    </tr>\n    <tr>\n      <th>13262</th>\n      <td>Y3aSrTddfpfErLKuqneo-g</td>\n      <td>MfkMUNwur9huBERrx0k5lg</td>\n      <td>1.0</td>\n      <td>4.553928</td>\n      <td>2</td>\n      <td>203</td>\n      <td>3.553928</td>\n    </tr>\n    <tr>\n      <th>9507</th>\n      <td>YRbkq4vzeF_6smTMrxx_ug</td>\n      <td>wexGsdw5Wz85-hOBx9r2Tg</td>\n      <td>1.0</td>\n      <td>4.556766</td>\n      <td>6</td>\n      <td>326</td>\n      <td>3.556766</td>\n    </tr>\n    <tr>\n      <th>15528</th>\n      <td>aX3vDE1UmbdrWeOsgeyBKg</td>\n      <td>IJ5N0TNgDDFP0UauRmepDg</td>\n      <td>1.0</td>\n      <td>4.556961</td>\n      <td>30</td>\n      <td>119</td>\n      <td>3.556961</td>\n    </tr>\n    <tr>\n      <th>919</th>\n      <td>ZUYvNrpUbyycigA8cbpH3w</td>\n      <td>SCPXVj5VXRvXWU6r8tDLRg</td>\n      <td>1.0</td>\n      <td>4.561684</td>\n      <td>52</td>\n      <td>129</td>\n      <td>3.561684</td>\n    </tr>\n    <tr>\n      <th>2573</th>\n      <td>hXLn6MGByTNItZZl8TSdjw</td>\n      <td>yVB7Usr55NnaUKs7K6xDTQ</td>\n      <td>1.0</td>\n      <td>4.570881</td>\n      <td>2</td>\n      <td>172</td>\n      <td>3.570881</td>\n    </tr>\n    <tr>\n      <th>18707</th>\n      <td>VGbV7fVFN1XN5LSVaBRr7Q</td>\n      <td>qmiz3iYOn4pZylOe27OTUQ</td>\n      <td>1.0</td>\n      <td>4.571433</td>\n      <td>9</td>\n      <td>153</td>\n      <td>3.571433</td>\n    </tr>\n    <tr>\n      <th>16360</th>\n      <td>-p-Ry1j3E7FrQ6bAafz9mQ</td>\n      <td>UCMSWPqzXjd7QHq7v8PJjQ</td>\n      <td>1.0</td>\n      <td>4.600218</td>\n      <td>4</td>\n      <td>1099</td>\n      <td>3.600218</td>\n    </tr>\n    <tr>\n      <th>769</th>\n      <td>g1Yv31RGk2htNRZf9cmPEw</td>\n      <td>OMnPtRGmbY8qH_wIILfYKA</td>\n      <td>1.0</td>\n      <td>4.605370</td>\n      <td>2</td>\n      <td>136</td>\n      <td>3.605370</td>\n    </tr>\n    <tr>\n      <th>14134</th>\n      <td>0sFn-EV4hAoMLXUoDUd-3A</td>\n      <td>Klpb4jqrgCBX9_BnBmkz8g</td>\n      <td>1.0</td>\n      <td>4.606855</td>\n      <td>34</td>\n      <td>139</td>\n      <td>3.606855</td>\n    </tr>\n    <tr>\n      <th>20211</th>\n      <td>R-mJpfKNf5-ZDy8L9tdmDA</td>\n      <td>HoKH4Rk7wHfVT-60aYIYwA</td>\n      <td>1.0</td>\n      <td>4.608462</td>\n      <td>6</td>\n      <td>134</td>\n      <td>3.608462</td>\n    </tr>\n    <tr>\n      <th>186</th>\n      <td>JobFYX4bc3mOrucw8B4aYw</td>\n      <td>wexGsdw5Wz85-hOBx9r2Tg</td>\n      <td>1.0</td>\n      <td>4.618720</td>\n      <td>2</td>\n      <td>326</td>\n      <td>3.618720</td>\n    </tr>\n    <tr>\n      <th>8001</th>\n      <td>PX3hdE00M_If16Y1wSKINg</td>\n      <td>njNxIjW06NxED_1DWrJwKQ</td>\n      <td>1.0</td>\n      <td>4.619808</td>\n      <td>11</td>\n      <td>105</td>\n      <td>3.619808</td>\n    </tr>\n    <tr>\n      <th>2182</th>\n      <td>n16TKobVCByzupi1-g90gw</td>\n      <td>yVB7Usr55NnaUKs7K6xDTQ</td>\n      <td>1.0</td>\n      <td>4.667799</td>\n      <td>4</td>\n      <td>172</td>\n      <td>3.667799</td>\n    </tr>\n    <tr>\n      <th>6307</th>\n      <td>ecGLcYkcEPYf6FkwcW3__g</td>\n      <td>UjQnH-pElJZ9jD51vOt5Rw</td>\n      <td>1.0</td>\n      <td>4.668612</td>\n      <td>17</td>\n      <td>423</td>\n      <td>3.668612</td>\n    </tr>\n    <tr>\n      <th>5740</th>\n      <td>ZHiTQYXx-QxuNrDY20W9jA</td>\n      <td>u6P6I5PZnSlnILY5nFWBJA</td>\n      <td>1.0</td>\n      <td>4.673947</td>\n      <td>22</td>\n      <td>399</td>\n      <td>3.673947</td>\n    </tr>\n    <tr>\n      <th>8608</th>\n      <td>VHnROc4dY4sFdRWulx2-lw</td>\n      <td>d-e9OJzjy-_bWs3r6fKIbQ</td>\n      <td>1.0</td>\n      <td>4.680468</td>\n      <td>7</td>\n      <td>84</td>\n      <td>3.680468</td>\n    </tr>\n    <tr>\n      <th>16466</th>\n      <td>WaPzpXPSgaOh66Xt_09SLQ</td>\n      <td>UjQnH-pElJZ9jD51vOt5Rw</td>\n      <td>1.0</td>\n      <td>4.682399</td>\n      <td>9</td>\n      <td>423</td>\n      <td>3.682399</td>\n    </tr>\n    <tr>\n      <th>20679</th>\n      <td>2puPZX4xSHgSisoBhPTRAw</td>\n      <td>ocjotK9u5F3E4CVXD_iNPw</td>\n      <td>1.0</td>\n      <td>4.694220</td>\n      <td>27</td>\n      <td>175</td>\n      <td>3.694220</td>\n    </tr>\n    <tr>\n      <th>6521</th>\n      <td>O5IPoolTMnBBNf5XfpgINQ</td>\n      <td>EIKbEHnsVg6dcsWopW4lkg</td>\n      <td>1.0</td>\n      <td>4.704865</td>\n      <td>15</td>\n      <td>316</td>\n      <td>3.704865</td>\n    </tr>\n    <tr>\n      <th>18531</th>\n      <td>NJLUeMnk-PoYwSP1RReZSg</td>\n      <td>2VPX222bhizLlWZrLQL3PQ</td>\n      <td>1.0</td>\n      <td>4.705398</td>\n      <td>2</td>\n      <td>120</td>\n      <td>3.705398</td>\n    </tr>\n    <tr>\n      <th>16457</th>\n      <td>n2kJxqcpYN0P5T8m1-Q5hA</td>\n      <td>X_87Bx1bAwGPjPmSuiHWHQ</td>\n      <td>1.0</td>\n      <td>4.706567</td>\n      <td>1</td>\n      <td>57</td>\n      <td>3.706567</td>\n    </tr>\n    <tr>\n      <th>4732</th>\n      <td>DptkW6k27z80g__V6MhDnA</td>\n      <td>1ipr4W2ApXdAyOmRE4AIkQ</td>\n      <td>1.0</td>\n      <td>4.714974</td>\n      <td>3</td>\n      <td>156</td>\n      <td>3.714974</td>\n    </tr>\n    <tr>\n      <th>16754</th>\n      <td>bXJuhxsCv12MiFbNZMPWNg</td>\n      <td>OuaqRGlscxMIqUoN4Vw41A</td>\n      <td>1.0</td>\n      <td>4.717184</td>\n      <td>4</td>\n      <td>244</td>\n      <td>3.717184</td>\n    </tr>\n    <tr>\n      <th>16228</th>\n      <td>25uC2MSAyUd3nCfedSyXug</td>\n      <td>wj8XtPyuREj8_0GQz3LZ6w</td>\n      <td>1.0</td>\n      <td>4.717700</td>\n      <td>7</td>\n      <td>480</td>\n      <td>3.717700</td>\n    </tr>\n    <tr>\n      <th>16439</th>\n      <td>HKIFN7bin1aKtQZ9k9tRlQ</td>\n      <td>5YFqjdNj7HCkDwYjvwG50g</td>\n      <td>1.0</td>\n      <td>4.723009</td>\n      <td>84</td>\n      <td>246</td>\n      <td>3.723009</td>\n    </tr>\n    <tr>\n      <th>12275</th>\n      <td>PB12rXSugGTOAiLYPA08mA</td>\n      <td>jZ1rUspubgkuZjwKJMhEEw</td>\n      <td>1.0</td>\n      <td>4.737115</td>\n      <td>40</td>\n      <td>92</td>\n      <td>3.737115</td>\n    </tr>\n    <tr>\n      <th>14607</th>\n      <td>eT-QYWNMG6DhQq59aZtUZg</td>\n      <td>Rv8bW3pkzpi5dZu5ckbgtA</td>\n      <td>1.0</td>\n      <td>4.746688</td>\n      <td>7</td>\n      <td>509</td>\n      <td>3.746688</td>\n    </tr>\n    <tr>\n      <th>8494</th>\n      <td>TSS3SRBqqHZNOGU9nEdC9w</td>\n      <td>uSIGgRScZmpWlEcHtoaWlA</td>\n      <td>1.0</td>\n      <td>4.747302</td>\n      <td>11</td>\n      <td>403</td>\n      <td>3.747302</td>\n    </tr>\n    <tr>\n      <th>7280</th>\n      <td>1QDM7pBp7yJXWVc7MtT1Mw</td>\n      <td>x_OCBGTbSzwslCV8XyvkyA</td>\n      <td>1.0</td>\n      <td>4.750312</td>\n      <td>1</td>\n      <td>177</td>\n      <td>3.750312</td>\n    </tr>\n    <tr>\n      <th>20302</th>\n      <td>y9DA292eaFqXwuaBSqSs1Q</td>\n      <td>UjQnH-pElJZ9jD51vOt5Rw</td>\n      <td>1.0</td>\n      <td>4.765419</td>\n      <td>5</td>\n      <td>423</td>\n      <td>3.765419</td>\n    </tr>\n    <tr>\n      <th>2023</th>\n      <td>PeNrvlkLW9V-EDlviUmzdA</td>\n      <td>u6P6I5PZnSlnILY5nFWBJA</td>\n      <td>1.0</td>\n      <td>4.825723</td>\n      <td>4</td>\n      <td>399</td>\n      <td>3.825723</td>\n    </tr>\n    <tr>\n      <th>11999</th>\n      <td>o3B-Csnb88k7BXkDHehuMg</td>\n      <td>UCMSWPqzXjd7QHq7v8PJjQ</td>\n      <td>1.0</td>\n      <td>4.856179</td>\n      <td>26</td>\n      <td>1099</td>\n      <td>3.856179</td>\n    </tr>\n    <tr>\n      <th>10537</th>\n      <td>X1qPn_PwyFrwOD9_zKJ2JA</td>\n      <td>GNo1zeiPKErB7Ww_j3IlOg</td>\n      <td>1.0</td>\n      <td>4.861653</td>\n      <td>4</td>\n      <td>72</td>\n      <td>3.861653</td>\n    </tr>\n    <tr>\n      <th>9470</th>\n      <td>DBC6sVnKfUAOimwj5JOmag</td>\n      <td>YSRM9nWQn40eg49tSiI-_Q</td>\n      <td>1.0</td>\n      <td>4.863968</td>\n      <td>1</td>\n      <td>355</td>\n      <td>3.863968</td>\n    </tr>\n    <tr>\n      <th>2013</th>\n      <td>DBC6sVnKfUAOimwj5JOmag</td>\n      <td>YSRM9nWQn40eg49tSiI-_Q</td>\n      <td>1.0</td>\n      <td>4.863968</td>\n      <td>1</td>\n      <td>355</td>\n      <td>3.863968</td>\n    </tr>\n    <tr>\n      <th>14952</th>\n      <td>_OV7Vpjqtnl1qqdI52hlsw</td>\n      <td>wYYsmF6begc6ZcnPGwF9NQ</td>\n      <td>1.0</td>\n      <td>4.869767</td>\n      <td>3</td>\n      <td>220</td>\n      <td>3.869767</td>\n    </tr>\n    <tr>\n      <th>7186</th>\n      <td>Co5TGBilFHvMkUNsgksJ9Q</td>\n      <td>IKMAgK2m6WRIViVFB2vAFQ</td>\n      <td>1.0</td>\n      <td>4.901368</td>\n      <td>24</td>\n      <td>405</td>\n      <td>3.901368</td>\n    </tr>\n    <tr>\n      <th>19247</th>\n      <td>D7bhAk9IPs9X25utdOOZUQ</td>\n      <td>hyeo7JQr5uLp-St1MibYAA</td>\n      <td>1.0</td>\n      <td>4.935465</td>\n      <td>3</td>\n      <td>514</td>\n      <td>3.935465</td>\n    </tr>\n    <tr>\n      <th>6649</th>\n      <td>Ld0BvBjyABEa7i-u8mNDDw</td>\n      <td>UCMSWPqzXjd7QHq7v8PJjQ</td>\n      <td>1.0</td>\n      <td>4.941651</td>\n      <td>2</td>\n      <td>1099</td>\n      <td>3.941651</td>\n    </tr>\n    <tr>\n      <th>5544</th>\n      <td>BbDE6GvqFgE_lJNg_WU4fg</td>\n      <td>asuAMmOFQb8KeKEU7bO0Rg</td>\n      <td>1.0</td>\n      <td>5.000000</td>\n      <td>13</td>\n      <td>114</td>\n      <td>4.000000</td>\n    </tr>\n    <tr>\n      <th>5770</th>\n      <td>lWp1kZwk22u4jbY0IgCEKg</td>\n      <td>c4xAYwO_s8HEmOfCLVAhCA</td>\n      <td>1.0</td>\n      <td>5.000000</td>\n      <td>11</td>\n      <td>146</td>\n      <td>4.000000</td>\n    </tr>\n  </tbody>\n</table>\n</div>"
     },
     "execution_count": 299,
     "metadata": {},
     "output_type": "execute_result"
    }
   ],
   "source": [
    "worst_predictions"
   ]
  },
  {
   "cell_type": "code",
   "execution_count": 300,
   "metadata": {
    "ExecuteTime": {
     "end_time": "2023-10-08T22:05:12.026986700Z",
     "start_time": "2023-10-08T22:05:11.345049200Z"
    }
   },
   "outputs": [
    {
     "name": "stderr",
     "output_type": "stream",
     "text": [
      "C:\\ProgramData\\Anaconda3\\lib\\site-packages\\seaborn\\distributions.py:2619: FutureWarning: `distplot` is a deprecated function and will be removed in a future version. Please adapt your code to use either `displot` (a figure-level function with similar flexibility) or `histplot` (an axes-level function for histograms).\n",
      "  warnings.warn(msg, FutureWarning)\n"
     ]
    },
    {
     "data": {
      "text/plain": "Text(0, 0.5, 'Counts (Log)')"
     },
     "execution_count": 300,
     "metadata": {},
     "output_type": "execute_result"
    },
    {
     "data": {
      "text/plain": "<Figure size 1000x500 with 2 Axes>",
      "image/png": "[encoded data removed]"
     },
     "metadata": {},
     "output_type": "display_data"
    }
   ],
   "source": [
    "# Plots of user/restaurant review counts\n",
    "fig, axs = plt.subplots(1,2,figsize=(10,5), sharey=True)\n",
    "\n",
    "sns.distplot(utility_user_ratings, kde=False, color='red', norm_hist=False,\n",
    "             ax=axs[0], bins=40)\n",
    "axs[0].set_title('Distribution of User Review Counts')\n",
    "axs[0].set_yscale('log')\n",
    "axs[0].set_xlabel('Number of Ratings by User')\n",
    "axs[0].set_ylabel('Counts (Log)')\n",
    "\n",
    "sns.distplot(utility_rest_ratings, color='darkorange', norm_hist=False,\n",
    "             kde=False, ax=axs[1], bins=40)\n",
    "axs[1].set_yscale('log')\n",
    "axs[1].set_title('Distribution of Restaurant Review Counts')\n",
    "axs[1].set_xlabel('Number of Reviews per Restaurant')\n",
    "axs[1].set_ylabel('Counts (Log)')\n",
    "\n"
   ]
  },
  {
   "cell_type": "code",
   "execution_count": 301,
   "metadata": {
    "ExecuteTime": {
     "end_time": "2023-10-08T22:05:12.199759Z",
     "start_time": "2023-10-08T22:05:12.026986700Z"
    }
   },
   "outputs": [
    {
     "data": {
      "text/plain": "<Figure size 1000x800 with 1 Axes>",
      "image/png": "[encoded data removed]"
     },
     "metadata": {},
     "output_type": "display_data"
    }
   ],
   "source": [
    "# Bar plot of counts of review stars\n",
    "fig, ax = plt.subplots(figsize=(10, 8))\n",
    "utility_review_stars = (utility_3['review_stars']\n",
    "                        .value_counts(ascending=True))\n",
    "sns.barplot(x='index', y='review_stars',\n",
    "            data=utility_review_stars.reset_index(), palette='Oranges',\n",
    "            ax=ax)\n",
    "ax.set_title('Distribution of Review Stars')\n",
    "ax.set_xlabel('Stars')\n",
    "ax.set_ylabel('Counts')\n",
    "\n",
    "fig.savefig('reviewcounts.png')"
   ]
  },
  {
   "cell_type": "code",
   "execution_count": 302,
   "metadata": {
    "ExecuteTime": {
     "end_time": "2023-10-08T22:05:12.262223700Z",
     "start_time": "2023-10-08T22:05:12.199759Z"
    }
   },
   "outputs": [
    {
     "data": {
      "text/plain": "                          uid                     iid  true  predicted  \\\n12018  4Uh27DgGzsp6PqrH913giQ  BTblqXsOHMXjcgcYkdzuqg   4.0   3.996422   \n\n       user_totals  item_totals       err  \n12018           10          282  0.003578  ",
      "text/html": "<div>\n<style scoped>\n    .dataframe tbody tr th:only-of-type {\n        vertical-align: middle;\n    }\n\n    .dataframe tbody tr th {\n        vertical-align: top;\n    }\n\n    .dataframe thead th {\n        text-align: right;\n    }\n</style>\n<table border=\"1\" class=\"dataframe\">\n  <thead>\n    <tr style=\"text-align: right;\">\n      <th></th>\n      <th>uid</th>\n      <th>iid</th>\n      <th>true</th>\n      <th>predicted</th>\n      <th>user_totals</th>\n      <th>item_totals</th>\n      <th>err</th>\n    </tr>\n  </thead>\n  <tbody>\n    <tr>\n      <th>12018</th>\n      <td>4Uh27DgGzsp6PqrH913giQ</td>\n      <td>BTblqXsOHMXjcgcYkdzuqg</td>\n      <td>4.0</td>\n      <td>3.996422</td>\n      <td>10</td>\n      <td>282</td>\n      <td>0.003578</td>\n    </tr>\n  </tbody>\n</table>\n</div>"
     },
     "execution_count": 302,
     "metadata": {},
     "output_type": "execute_result"
    }
   ],
   "source": [
    "# The following cells evaluate predictions on a user by user basis\n",
    "# Looking to see how error changes depending on presence in testset\n",
    "predictions_df[predictions_df['uid'] == '4Uh27DgGzsp6PqrH913giQ']"
   ]
  },
  {
   "cell_type": "code",
   "execution_count": 303,
   "metadata": {
    "ExecuteTime": {
     "end_time": "2023-10-08T22:05:12.262223700Z",
     "start_time": "2023-10-08T22:05:12.215347900Z"
    }
   },
   "outputs": [
    {
     "data": {
      "text/plain": "                          uid                     iid  true  predicted  \\\n12018  4Uh27DgGzsp6PqrH913giQ  BTblqXsOHMXjcgcYkdzuqg   4.0   3.996422   \n\n       user_totals  item_totals       err  \n12018           10          282  0.003578  ",
      "text/html": "<div>\n<style scoped>\n    .dataframe tbody tr th:only-of-type {\n        vertical-align: middle;\n    }\n\n    .dataframe tbody tr th {\n        vertical-align: top;\n    }\n\n    .dataframe thead th {\n        text-align: right;\n    }\n</style>\n<table border=\"1\" class=\"dataframe\">\n  <thead>\n    <tr style=\"text-align: right;\">\n      <th></th>\n      <th>uid</th>\n      <th>iid</th>\n      <th>true</th>\n      <th>predicted</th>\n      <th>user_totals</th>\n      <th>item_totals</th>\n      <th>err</th>\n    </tr>\n  </thead>\n  <tbody>\n    <tr>\n      <th>12018</th>\n      <td>4Uh27DgGzsp6PqrH913giQ</td>\n      <td>BTblqXsOHMXjcgcYkdzuqg</td>\n      <td>4.0</td>\n      <td>3.996422</td>\n      <td>10</td>\n      <td>282</td>\n      <td>0.003578</td>\n    </tr>\n  </tbody>\n</table>\n</div>"
     },
     "execution_count": 303,
     "metadata": {},
     "output_type": "execute_result"
    }
   ],
   "source": [
    "calc_rmse = predictions_df[predictions_df['uid'] == '4Uh27DgGzsp6PqrH913giQ']\n",
    "predictions_df[predictions_df['uid'] == '4Uh27DgGzsp6PqrH913giQ']"
   ]
  },
  {
   "cell_type": "code",
   "execution_count": 304,
   "metadata": {
    "ExecuteTime": {
     "end_time": "2023-10-08T22:05:12.262223700Z",
     "start_time": "2023-10-08T22:05:12.230972800Z"
    }
   },
   "outputs": [
    {
     "data": {
      "text/plain": "(1, 7)"
     },
     "execution_count": 304,
     "metadata": {},
     "output_type": "execute_result"
    }
   ],
   "source": [
    "predictions_df[predictions_df['uid'] == '4Uh27DgGzsp6PqrH913giQ'].shape"
   ]
  },
  {
   "cell_type": "code",
   "execution_count": 305,
   "metadata": {
    "ExecuteTime": {
     "end_time": "2023-10-08T22:05:12.293876700Z",
     "start_time": "2023-10-08T22:05:12.246600400Z"
    }
   },
   "outputs": [
    {
     "data": {
      "text/plain": "0.003578407049049215"
     },
     "execution_count": 305,
     "metadata": {},
     "output_type": "execute_result"
    }
   ],
   "source": [
    "predictions_df[predictions_df['uid'] == '4Uh27DgGzsp6PqrH913giQ']['err'].mean()"
   ]
  },
  {
   "cell_type": "code",
   "execution_count": 306,
   "metadata": {
    "ExecuteTime": {
     "end_time": "2023-10-08T22:05:12.388055800Z",
     "start_time": "2023-10-08T22:05:12.262223700Z"
    }
   },
   "outputs": [
    {
     "data": {
      "text/plain": "0.003578407049049215"
     },
     "execution_count": 306,
     "metadata": {},
     "output_type": "execute_result"
    }
   ],
   "source": [
    "((calc_rmse.true - calc_rmse.predicted) ** 2).mean() ** .5"
   ]
  },
  {
   "cell_type": "code",
   "execution_count": 307,
   "metadata": {
    "ExecuteTime": {
     "end_time": "2023-10-08T22:05:12.484861400Z",
     "start_time": "2023-10-08T22:05:12.277849500Z"
    }
   },
   "outputs": [
    {
     "data": {
      "text/plain": "                   user_id user_name  review_count        yelping_since  \\\n74  4Uh27DgGzsp6PqrH913giQ    Goldie            50  2009-09-29 22:24:04   \n\n    average_stars  \n74           4.27  ",
      "text/html": "<div>\n<style scoped>\n    .dataframe tbody tr th:only-of-type {\n        vertical-align: middle;\n    }\n\n    .dataframe tbody tr th {\n        vertical-align: top;\n    }\n\n    .dataframe thead th {\n        text-align: right;\n    }\n</style>\n<table border=\"1\" class=\"dataframe\">\n  <thead>\n    <tr style=\"text-align: right;\">\n      <th></th>\n      <th>user_id</th>\n      <th>user_name</th>\n      <th>review_count</th>\n      <th>yelping_since</th>\n      <th>average_stars</th>\n    </tr>\n  </thead>\n  <tbody>\n    <tr>\n      <th>74</th>\n      <td>4Uh27DgGzsp6PqrH913giQ</td>\n      <td>Goldie</td>\n      <td>50</td>\n      <td>2009-09-29 22:24:04</td>\n      <td>4.27</td>\n    </tr>\n  </tbody>\n</table>\n</div>"
     },
     "execution_count": 307,
     "metadata": {},
     "output_type": "execute_result"
    }
   ],
   "source": [
    "user_df[user_df['user_id'] == '4Uh27DgGzsp6PqrH913giQ']"
   ]
  },
  {
   "cell_type": "code",
   "execution_count": 308,
   "metadata": {
    "ExecuteTime": {
     "end_time": "2023-10-08T22:05:12.654556400Z",
     "start_time": "2023-10-08T22:05:12.325167100Z"
    }
   },
   "outputs": [
    {
     "name": "stderr",
     "output_type": "stream",
     "text": [
      "C:\\ProgramData\\Anaconda3\\lib\\site-packages\\seaborn\\distributions.py:2619: FutureWarning: `distplot` is a deprecated function and will be removed in a future version. Please adapt your code to use either `displot` (a figure-level function with similar flexibility) or `histplot` (an axes-level function for histograms).\n",
      "  warnings.warn(msg, FutureWarning)\n"
     ]
    },
    {
     "data": {
      "text/plain": "<matplotlib.legend.Legend at 0x2a6c7879ee0>"
     },
     "execution_count": 308,
     "metadata": {},
     "output_type": "execute_result"
    },
    {
     "data": {
      "text/plain": "<Figure size 900x700 with 1 Axes>",
      "image/png": "[encoded data removed]"
     },
     "metadata": {},
     "output_type": "display_data"
    }
   ],
   "source": [
    "fig, ax = plt.subplots(figsize=(9,7))\n",
    "user_under = predictions_df[predictions_df['user_totals'] <= 10]\n",
    "user_over = predictions_df[predictions_df['user_totals'] >= 50]\n",
    "sns.distplot(user_under['err'], label='<= 10 Reviews in Testset',\n",
    "             bins=25, ax=ax, norm_hist=True, kde=False)\n",
    "sns.distplot(user_over['err'], label='>= 50 Reviews in Testset',\n",
    "             bins=25, ax=ax, norm_hist=True, kde=False)\n",
    "ax.set_title('Distribution of Prediction Errors')\n",
    "ax.set_xlabel('Absolute Error')\n",
    "ax.set_ylabel('Density')\n",
    "ax.legend()\n"
   ]
  },
  {
   "cell_type": "code",
   "execution_count": 309,
   "metadata": {
    "ExecuteTime": {
     "end_time": "2023-10-08T22:05:13.116909200Z",
     "start_time": "2023-10-08T22:05:12.592049200Z"
    }
   },
   "outputs": [
    {
     "data": {
      "text/plain": "(0.0, 1.03)"
     },
     "execution_count": 309,
     "metadata": {},
     "output_type": "execute_result"
    },
    {
     "data": {
      "text/plain": "<Figure size 900x700 with 1 Axes>",
      "image/png": "[encoded data removed]"
     },
     "metadata": {},
     "output_type": "display_data"
    }
   ],
   "source": [
    "fig, ax = plt.subplots(figsize=(9,7))\n",
    "sns.distplot(user_under['err'], label='<= 10 Reviews in Testset',\n",
    "             bins=25, ax=ax, norm_hist=True, kde=False)\n",
    "ax.set_title('Distribution of Prediction Errors')\n",
    "ax.set_xlabel('Absolute Error')\n",
    "ax.set_ylabel('Density')\n",
    "ax.legend()\n",
    "ax.set_ylim(0, 1.03)"
   ]
  }
 ],
 "metadata": {
  "kernelspec": {
   "display_name": "Python 3",
   "language": "python",
   "name": "python3"
  },
  "language_info": {
   "codemirror_mode": {
    "name": "ipython",
    "version": 3
   },
   "file_extension": ".py",
   "mimetype": "text/x-python",
   "name": "python",
   "nbconvert_exporter": "python",
   "pygments_lexer": "ipython3",
   "version": "3.7.6"
  },
  "toc": {
   "base_numbering": 1,
   "nav_menu": {},
   "number_sections": true,
   "sideBar": true,
   "skip_h1_title": false,
   "title_cell": "Table of Contents",
   "title_sidebar": "Contents",
   "toc_cell": false,
   "toc_position": {},
   "toc_section_display": true,
   "toc_window_display": false
  },
  "varInspector": {
   "cols": {
    "lenName": 16,
    "lenType": 16,
    "lenVar": 40
   },
   "kernels_config": {
    "python": {
     "delete_cmd_postfix": "",
     "delete_cmd_prefix": "del ",
     "library": "var_list.py",
     "varRefreshCmd": "print(var_dic_list())"
    },
    "r": {
     "delete_cmd_postfix": ") ",
     "delete_cmd_prefix": "rm(",
     "library": "var_list.r",
     "varRefreshCmd": "cat(var_dic_list()) "
    }
   },
   "types_to_exclude": [
    "module",
    "function",
    "builtin_function_or_method",
    "instance",
    "_Feature"
   ],
   "window_display": false
  }
 },
 "nbformat": 4,
 "nbformat_minor": 4
}
