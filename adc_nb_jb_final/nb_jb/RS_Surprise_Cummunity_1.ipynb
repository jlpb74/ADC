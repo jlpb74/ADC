{
 "cells": [
  {
   "cell_type": "code",
   "execution_count": 149,
   "metadata": {
    "ExecuteTime": {
     "end_time": "2023-10-08T21:02:36.810834300Z",
     "start_time": "2023-10-08T21:02:33.577821800Z"
    }
   },
   "outputs": [],
   "source": [
    "# Import necessary libraries\n",
    "import pandas as pd\n",
    "import numpy as np\n",
    "import matplotlib.pyplot as plt\n",
    "import seaborn as sns\n",
    "from collections import defaultdict\n",
    "import os\n",
    "import os.path\n",
    "import math\n",
    "from surprise import (Reader, Dataset, NormalPredictor, BaselineOnly,\n",
    "                      accuracy, SVD, SVDpp, NMF, KNNBasic, KNNWithMeans,\n",
    "                      KNNWithZScore, KNNBaseline)\n",
    "from surprise.model_selection import (cross_validate, KFold,\n",
    "                                      train_test_split, GridSearchCV,\n",
    "                                      RandomizedSearchCV)\n",
    "\n",
    "# Always make it pretty.\n",
    "plt.style.use('ggplot')\n",
    "%matplotlib inline\n",
    "sns.set_style(style=\"whitegrid\")"
   ]
  },
  {
   "cell_type": "code",
   "execution_count": 150,
   "outputs": [],
   "source": [
    "# Load Data\n",
    "business_df = pd.read_csv('../datasets/comunidades/business_community_1.csv')\n",
    "review_df = pd.read_csv('../datasets/comunidades/review_community_1.csv')\n",
    "user_df = pd.read_csv('../datasets/comunidades/user_community_1.csv')\n"
   ],
   "metadata": {
    "collapsed": false,
    "ExecuteTime": {
     "end_time": "2023-10-08T21:02:36.810834300Z",
     "start_time": "2023-10-08T21:02:33.593474200Z"
    }
   }
  },
  {
   "cell_type": "code",
   "execution_count": 151,
   "outputs": [],
   "source": [
    "# Drop unneeded columns for users\n",
    "user_df.drop(columns=['useful', 'funny', 'cool', 'fans', 'elite',\n",
    "                      'friends', 'compliment_hot', 'compliment_more',\n",
    "                      'compliment_profile', 'compliment_cute',\n",
    "                      'compliment_list', 'compliment_note',\n",
    "                      'compliment_plain', 'compliment_cool',\n",
    "                      'compliment_funny', 'compliment_writer',\n",
    "                      'compliment_photos'],\n",
    "             axis=1, inplace=True)"
   ],
   "metadata": {
    "collapsed": false,
    "ExecuteTime": {
     "end_time": "2023-10-08T21:02:36.810834300Z",
     "start_time": "2023-10-08T21:02:33.735169800Z"
    }
   }
  },
  {
   "cell_type": "code",
   "execution_count": 152,
   "outputs": [],
   "source": [
    "# Drop unneeded columns for businesses\n",
    "business_df.drop(columns=['address', 'postal_code', 'latitude', 'longitude',\n",
    "                          'attributes', 'hours'],\n",
    "                 axis=1, inplace=True)"
   ],
   "metadata": {
    "collapsed": false,
    "ExecuteTime": {
     "end_time": "2023-10-08T21:02:36.810834300Z",
     "start_time": "2023-10-08T21:02:33.750804700Z"
    }
   }
  },
  {
   "cell_type": "code",
   "execution_count": 153,
   "outputs": [],
   "source": [
    "# Drop unneeded columns for reviews\n",
    "review_df.drop(columns=['useful', 'funny', 'cool'], axis=1, inplace=True)"
   ],
   "metadata": {
    "collapsed": false,
    "ExecuteTime": {
     "end_time": "2023-10-08T21:02:36.810834300Z",
     "start_time": "2023-10-08T21:02:33.766458100Z"
    }
   }
  },
  {
   "cell_type": "code",
   "execution_count": 154,
   "outputs": [
    {
     "name": "stdout",
     "output_type": "stream",
     "text": [
      "(34, 8)\n",
      "(5597, 5)\n",
      "(7189, 6)\n"
     ]
    }
   ],
   "source": [
    "# Look at the shapes of dataframes after removing columns\n",
    "print(business_df.shape)\n",
    "print(user_df.shape)\n",
    "print(review_df.shape)"
   ],
   "metadata": {
    "collapsed": false,
    "ExecuteTime": {
     "end_time": "2023-10-08T21:02:36.810834300Z",
     "start_time": "2023-10-08T21:02:33.782084500Z"
    }
   }
  },
  {
   "cell_type": "code",
   "execution_count": 155,
   "outputs": [],
   "source": [
    "# Rename columns to avoid mix-ups\n",
    "review_df.rename(columns={'stars': 'review_stars'}, inplace=True)\n",
    "business_df.rename(columns={'stars': 'business_stars',\n",
    "                            'name': 'business_name'}, inplace=True)\n",
    "user_df.rename(columns={'name': 'user_name'}, inplace=True)"
   ],
   "metadata": {
    "collapsed": false,
    "ExecuteTime": {
     "end_time": "2023-10-08T21:02:36.810834300Z",
     "start_time": "2023-10-08T21:02:33.797708800Z"
    }
   }
  },
  {
   "cell_type": "code",
   "execution_count": 156,
   "outputs": [],
   "source": [
    "# Combine review/user/business dfs, specifically for tucson restaraunts\n",
    "review_business_df = review_df.merge(business_df, on='business_id')\n",
    "all_df = review_business_df.merge(user_df, on='user_id')\n",
    "tucson_df = (all_df[(all_df['city'] == 'Tucson') &\n",
    "                    (all_df['is_open'] == 1)])\n",
    "tucson_df = tucson_df[tucson_df['categories'].str.contains(\n",
    "    'Restaurants', case=False, na=False)]"
   ],
   "metadata": {
    "collapsed": false,
    "ExecuteTime": {
     "end_time": "2023-10-08T21:02:36.810834300Z",
     "start_time": "2023-10-08T21:02:33.813336400Z"
    }
   }
  },
  {
   "cell_type": "code",
   "execution_count": 157,
   "outputs": [],
   "source": [
    "# Rename columns to avoid mix-ups\n",
    "all_df.rename(columns={'review_count_x': 'business_review_count',\n",
    "                       'review_count_y': 'user_review_count'},\n",
    "              inplace=True)\n",
    "tucson_df.rename(columns={'review_count_x': 'business_review_count',\n",
    "                          'review_count_y': 'user_review_count'},\n",
    "                 inplace=True)\n",
    "tucson_df.reset_index(drop=True, inplace=True)"
   ],
   "metadata": {
    "collapsed": false,
    "ExecuteTime": {
     "end_time": "2023-10-08T21:02:36.810834300Z",
     "start_time": "2023-10-08T21:02:33.845014300Z"
    }
   }
  },
  {
   "cell_type": "code",
   "execution_count": 158,
   "outputs": [
    {
     "data": {
      "text/plain": "                review_id                 user_id             business_id  \\\n0  ymhbOMW63B_vGaRFR3XT0A  yZdAhQ_KmKuCZmbBy9YDQg  5Ce3lZksYVkCbrihqylVHQ   \n1  jT0mpPypQH_eFoyIHhuM6A  To1Pq4io8oCT8f6ryRdPeQ  5Ce3lZksYVkCbrihqylVHQ   \n2  RkpAuBy0Oi-zqGvfh76Tuw  fGYAraOy6CFZeg8-YRyMxw  5Ce3lZksYVkCbrihqylVHQ   \n3  VI3-W_oNX1ROBHgUZWs2cw  pHmgeQkvhJPDGdqVw7AmtQ  5Ce3lZksYVkCbrihqylVHQ   \n4  7HtOcNgZXEmikXjB3bFfhA  Gu5NAzjgp6hwuxMHgQL0ng  5Ce3lZksYVkCbrihqylVHQ   \n5  HVXgyuEYfpPzG9vZ-rTpGQ  LUrY9f-pEudeBwTkbw4JWw  5Ce3lZksYVkCbrihqylVHQ   \n6  KJ1TrX11MTRsz8OhhGLdiQ  dmsz__xB7hIh2KPhUfSPBw  5Ce3lZksYVkCbrihqylVHQ   \n7  6nyPiHlFJSR91pcQzSfHDg  cJmzXpTlAgTyTx4YFC1MKg  5Ce3lZksYVkCbrihqylVHQ   \n8  Nf3jZC1jYKkQS1ohnBeEuQ  fRdb00MgeCElpJule1YLhQ  5Ce3lZksYVkCbrihqylVHQ   \n9  JSBIDtK_XifkMl2AMmbY6Q  Po4BCvGrKtP_OfZwMUp87g  5Ce3lZksYVkCbrihqylVHQ   \n\n   review_stars                                               text  \\\n0             5  I just started going to Sushi Nara this month ...   \n1             5  My kitty and I love this sushi place!! We love...   \n2             5  Great bang for your buck, sushi was fresh and ...   \n3             5  Good service and nice a quit at lunch time eve...   \n4             4  A welcome addition to the growing number of ex...   \n5             3  ....meh....\\n\\n my husband and I are big sushi...   \n6             4  Based on the exceptional reviews, my wife and ...   \n7             5  Sushi Nara is awesome- always fresh, well prep...   \n8             5  Great little sushi place, especially for a nov...   \n9             4  Great sushi. Nice service. Long wait if it's a...   \n\n                  date business_name    city state  business_stars  \\\n0  2014-07-25 17:56:26    Sushi Nara  Tucson    AZ             4.5   \n1  2015-10-07 23:33:00    Sushi Nara  Tucson    AZ             4.5   \n2  2018-06-09 03:48:32    Sushi Nara  Tucson    AZ             4.5   \n3  2018-07-17 20:19:21    Sushi Nara  Tucson    AZ             4.5   \n4  2014-12-01 22:58:17    Sushi Nara  Tucson    AZ             4.5   \n5  2015-05-17 02:29:56    Sushi Nara  Tucson    AZ             4.5   \n6  2015-02-07 04:31:33    Sushi Nara  Tucson    AZ             4.5   \n7  2016-04-26 05:14:03    Sushi Nara  Tucson    AZ             4.5   \n8  2015-09-26 03:33:45    Sushi Nara  Tucson    AZ             4.5   \n9  2017-03-17 02:56:09    Sushi Nara  Tucson    AZ             4.5   \n\n   business_review_count  is_open                         categories  \\\n0                    159        1  Sushi Bars, Japanese, Restaurants   \n1                    159        1  Sushi Bars, Japanese, Restaurants   \n2                    159        1  Sushi Bars, Japanese, Restaurants   \n3                    159        1  Sushi Bars, Japanese, Restaurants   \n4                    159        1  Sushi Bars, Japanese, Restaurants   \n5                    159        1  Sushi Bars, Japanese, Restaurants   \n6                    159        1  Sushi Bars, Japanese, Restaurants   \n7                    159        1  Sushi Bars, Japanese, Restaurants   \n8                    159        1  Sushi Bars, Japanese, Restaurants   \n9                    159        1  Sushi Bars, Japanese, Restaurants   \n\n  user_name  user_review_count        yelping_since  average_stars  \n0  Kathleen                  3  2011-07-16 14:37:43           5.00  \n1      Mike                 25  2013-09-16 22:08:11           3.59  \n2   Richard                  4  2017-06-03 22:48:38           3.00  \n3    Lauren                 18  2017-06-29 21:39:55           4.47  \n4        Ed                  9  2012-07-18 03:19:26           4.50  \n5      Erin                 13  2011-11-01 01:51:13           4.15  \n6      Jack                  9  2012-11-09 00:07:17           3.10  \n7         K                 41  2013-01-17 23:07:50           4.00  \n8   Nichole                 18  2012-11-22 20:54:54           3.94  \n9   Preston                 40  2015-12-07 02:28:47           2.60  ",
      "text/html": "<div>\n<style scoped>\n    .dataframe tbody tr th:only-of-type {\n        vertical-align: middle;\n    }\n\n    .dataframe tbody tr th {\n        vertical-align: top;\n    }\n\n    .dataframe thead th {\n        text-align: right;\n    }\n</style>\n<table border=\"1\" class=\"dataframe\">\n  <thead>\n    <tr style=\"text-align: right;\">\n      <th></th>\n      <th>review_id</th>\n      <th>user_id</th>\n      <th>business_id</th>\n      <th>review_stars</th>\n      <th>text</th>\n      <th>date</th>\n      <th>business_name</th>\n      <th>city</th>\n      <th>state</th>\n      <th>business_stars</th>\n      <th>business_review_count</th>\n      <th>is_open</th>\n      <th>categories</th>\n      <th>user_name</th>\n      <th>user_review_count</th>\n      <th>yelping_since</th>\n      <th>average_stars</th>\n    </tr>\n  </thead>\n  <tbody>\n    <tr>\n      <th>0</th>\n      <td>ymhbOMW63B_vGaRFR3XT0A</td>\n      <td>yZdAhQ_KmKuCZmbBy9YDQg</td>\n      <td>5Ce3lZksYVkCbrihqylVHQ</td>\n      <td>5</td>\n      <td>I just started going to Sushi Nara this month ...</td>\n      <td>2014-07-25 17:56:26</td>\n      <td>Sushi Nara</td>\n      <td>Tucson</td>\n      <td>AZ</td>\n      <td>4.5</td>\n      <td>159</td>\n      <td>1</td>\n      <td>Sushi Bars, Japanese, Restaurants</td>\n      <td>Kathleen</td>\n      <td>3</td>\n      <td>2011-07-16 14:37:43</td>\n      <td>5.00</td>\n    </tr>\n    <tr>\n      <th>1</th>\n      <td>jT0mpPypQH_eFoyIHhuM6A</td>\n      <td>To1Pq4io8oCT8f6ryRdPeQ</td>\n      <td>5Ce3lZksYVkCbrihqylVHQ</td>\n      <td>5</td>\n      <td>My kitty and I love this sushi place!! We love...</td>\n      <td>2015-10-07 23:33:00</td>\n      <td>Sushi Nara</td>\n      <td>Tucson</td>\n      <td>AZ</td>\n      <td>4.5</td>\n      <td>159</td>\n      <td>1</td>\n      <td>Sushi Bars, Japanese, Restaurants</td>\n      <td>Mike</td>\n      <td>25</td>\n      <td>2013-09-16 22:08:11</td>\n      <td>3.59</td>\n    </tr>\n    <tr>\n      <th>2</th>\n      <td>RkpAuBy0Oi-zqGvfh76Tuw</td>\n      <td>fGYAraOy6CFZeg8-YRyMxw</td>\n      <td>5Ce3lZksYVkCbrihqylVHQ</td>\n      <td>5</td>\n      <td>Great bang for your buck, sushi was fresh and ...</td>\n      <td>2018-06-09 03:48:32</td>\n      <td>Sushi Nara</td>\n      <td>Tucson</td>\n      <td>AZ</td>\n      <td>4.5</td>\n      <td>159</td>\n      <td>1</td>\n      <td>Sushi Bars, Japanese, Restaurants</td>\n      <td>Richard</td>\n      <td>4</td>\n      <td>2017-06-03 22:48:38</td>\n      <td>3.00</td>\n    </tr>\n    <tr>\n      <th>3</th>\n      <td>VI3-W_oNX1ROBHgUZWs2cw</td>\n      <td>pHmgeQkvhJPDGdqVw7AmtQ</td>\n      <td>5Ce3lZksYVkCbrihqylVHQ</td>\n      <td>5</td>\n      <td>Good service and nice a quit at lunch time eve...</td>\n      <td>2018-07-17 20:19:21</td>\n      <td>Sushi Nara</td>\n      <td>Tucson</td>\n      <td>AZ</td>\n      <td>4.5</td>\n      <td>159</td>\n      <td>1</td>\n      <td>Sushi Bars, Japanese, Restaurants</td>\n      <td>Lauren</td>\n      <td>18</td>\n      <td>2017-06-29 21:39:55</td>\n      <td>4.47</td>\n    </tr>\n    <tr>\n      <th>4</th>\n      <td>7HtOcNgZXEmikXjB3bFfhA</td>\n      <td>Gu5NAzjgp6hwuxMHgQL0ng</td>\n      <td>5Ce3lZksYVkCbrihqylVHQ</td>\n      <td>4</td>\n      <td>A welcome addition to the growing number of ex...</td>\n      <td>2014-12-01 22:58:17</td>\n      <td>Sushi Nara</td>\n      <td>Tucson</td>\n      <td>AZ</td>\n      <td>4.5</td>\n      <td>159</td>\n      <td>1</td>\n      <td>Sushi Bars, Japanese, Restaurants</td>\n      <td>Ed</td>\n      <td>9</td>\n      <td>2012-07-18 03:19:26</td>\n      <td>4.50</td>\n    </tr>\n    <tr>\n      <th>5</th>\n      <td>HVXgyuEYfpPzG9vZ-rTpGQ</td>\n      <td>LUrY9f-pEudeBwTkbw4JWw</td>\n      <td>5Ce3lZksYVkCbrihqylVHQ</td>\n      <td>3</td>\n      <td>....meh....\\n\\n my husband and I are big sushi...</td>\n      <td>2015-05-17 02:29:56</td>\n      <td>Sushi Nara</td>\n      <td>Tucson</td>\n      <td>AZ</td>\n      <td>4.5</td>\n      <td>159</td>\n      <td>1</td>\n      <td>Sushi Bars, Japanese, Restaurants</td>\n      <td>Erin</td>\n      <td>13</td>\n      <td>2011-11-01 01:51:13</td>\n      <td>4.15</td>\n    </tr>\n    <tr>\n      <th>6</th>\n      <td>KJ1TrX11MTRsz8OhhGLdiQ</td>\n      <td>dmsz__xB7hIh2KPhUfSPBw</td>\n      <td>5Ce3lZksYVkCbrihqylVHQ</td>\n      <td>4</td>\n      <td>Based on the exceptional reviews, my wife and ...</td>\n      <td>2015-02-07 04:31:33</td>\n      <td>Sushi Nara</td>\n      <td>Tucson</td>\n      <td>AZ</td>\n      <td>4.5</td>\n      <td>159</td>\n      <td>1</td>\n      <td>Sushi Bars, Japanese, Restaurants</td>\n      <td>Jack</td>\n      <td>9</td>\n      <td>2012-11-09 00:07:17</td>\n      <td>3.10</td>\n    </tr>\n    <tr>\n      <th>7</th>\n      <td>6nyPiHlFJSR91pcQzSfHDg</td>\n      <td>cJmzXpTlAgTyTx4YFC1MKg</td>\n      <td>5Ce3lZksYVkCbrihqylVHQ</td>\n      <td>5</td>\n      <td>Sushi Nara is awesome- always fresh, well prep...</td>\n      <td>2016-04-26 05:14:03</td>\n      <td>Sushi Nara</td>\n      <td>Tucson</td>\n      <td>AZ</td>\n      <td>4.5</td>\n      <td>159</td>\n      <td>1</td>\n      <td>Sushi Bars, Japanese, Restaurants</td>\n      <td>K</td>\n      <td>41</td>\n      <td>2013-01-17 23:07:50</td>\n      <td>4.00</td>\n    </tr>\n    <tr>\n      <th>8</th>\n      <td>Nf3jZC1jYKkQS1ohnBeEuQ</td>\n      <td>fRdb00MgeCElpJule1YLhQ</td>\n      <td>5Ce3lZksYVkCbrihqylVHQ</td>\n      <td>5</td>\n      <td>Great little sushi place, especially for a nov...</td>\n      <td>2015-09-26 03:33:45</td>\n      <td>Sushi Nara</td>\n      <td>Tucson</td>\n      <td>AZ</td>\n      <td>4.5</td>\n      <td>159</td>\n      <td>1</td>\n      <td>Sushi Bars, Japanese, Restaurants</td>\n      <td>Nichole</td>\n      <td>18</td>\n      <td>2012-11-22 20:54:54</td>\n      <td>3.94</td>\n    </tr>\n    <tr>\n      <th>9</th>\n      <td>JSBIDtK_XifkMl2AMmbY6Q</td>\n      <td>Po4BCvGrKtP_OfZwMUp87g</td>\n      <td>5Ce3lZksYVkCbrihqylVHQ</td>\n      <td>4</td>\n      <td>Great sushi. Nice service. Long wait if it's a...</td>\n      <td>2017-03-17 02:56:09</td>\n      <td>Sushi Nara</td>\n      <td>Tucson</td>\n      <td>AZ</td>\n      <td>4.5</td>\n      <td>159</td>\n      <td>1</td>\n      <td>Sushi Bars, Japanese, Restaurants</td>\n      <td>Preston</td>\n      <td>40</td>\n      <td>2015-12-07 02:28:47</td>\n      <td>2.60</td>\n    </tr>\n  </tbody>\n</table>\n</div>"
     },
     "execution_count": 158,
     "metadata": {},
     "output_type": "execute_result"
    }
   ],
   "source": [
    "tucson_df.head(10)"
   ],
   "metadata": {
    "collapsed": false,
    "ExecuteTime": {
     "end_time": "2023-10-08T21:02:36.810834300Z",
     "start_time": "2023-10-08T21:02:33.860638600Z"
    }
   }
  },
  {
   "cell_type": "code",
   "execution_count": 159,
   "outputs": [],
   "source": [
    "all_df.to_csv('../datasets/comunidades/tucson_com_df.csv')\n",
    "tucson_df.to_csv('../datasets/comunidades/all_df.csv')"
   ],
   "metadata": {
    "collapsed": false,
    "ExecuteTime": {
     "end_time": "2023-10-08T21:02:36.810834300Z",
     "start_time": "2023-10-08T21:02:33.876266600Z"
    }
   }
  },
  {
   "cell_type": "code",
   "execution_count": 160,
   "outputs": [
    {
     "data": {
      "text/plain": "                  user_id             business_id  review_stars\n0  yZdAhQ_KmKuCZmbBy9YDQg  5Ce3lZksYVkCbrihqylVHQ             5\n1  To1Pq4io8oCT8f6ryRdPeQ  5Ce3lZksYVkCbrihqylVHQ             5\n2  fGYAraOy6CFZeg8-YRyMxw  5Ce3lZksYVkCbrihqylVHQ             5\n3  pHmgeQkvhJPDGdqVw7AmtQ  5Ce3lZksYVkCbrihqylVHQ             5\n4  Gu5NAzjgp6hwuxMHgQL0ng  5Ce3lZksYVkCbrihqylVHQ             4",
      "text/html": "<div>\n<style scoped>\n    .dataframe tbody tr th:only-of-type {\n        vertical-align: middle;\n    }\n\n    .dataframe tbody tr th {\n        vertical-align: top;\n    }\n\n    .dataframe thead th {\n        text-align: right;\n    }\n</style>\n<table border=\"1\" class=\"dataframe\">\n  <thead>\n    <tr style=\"text-align: right;\">\n      <th></th>\n      <th>user_id</th>\n      <th>business_id</th>\n      <th>review_stars</th>\n    </tr>\n  </thead>\n  <tbody>\n    <tr>\n      <th>0</th>\n      <td>yZdAhQ_KmKuCZmbBy9YDQg</td>\n      <td>5Ce3lZksYVkCbrihqylVHQ</td>\n      <td>5</td>\n    </tr>\n    <tr>\n      <th>1</th>\n      <td>To1Pq4io8oCT8f6ryRdPeQ</td>\n      <td>5Ce3lZksYVkCbrihqylVHQ</td>\n      <td>5</td>\n    </tr>\n    <tr>\n      <th>2</th>\n      <td>fGYAraOy6CFZeg8-YRyMxw</td>\n      <td>5Ce3lZksYVkCbrihqylVHQ</td>\n      <td>5</td>\n    </tr>\n    <tr>\n      <th>3</th>\n      <td>pHmgeQkvhJPDGdqVw7AmtQ</td>\n      <td>5Ce3lZksYVkCbrihqylVHQ</td>\n      <td>5</td>\n    </tr>\n    <tr>\n      <th>4</th>\n      <td>Gu5NAzjgp6hwuxMHgQL0ng</td>\n      <td>5Ce3lZksYVkCbrihqylVHQ</td>\n      <td>4</td>\n    </tr>\n  </tbody>\n</table>\n</div>"
     },
     "execution_count": 160,
     "metadata": {},
     "output_type": "execute_result"
    }
   ],
   "source": [
    "# Create a utility matrix of user ids, business ids, and reviews\n",
    "utility = tucson_df[['user_id', 'business_id', 'review_stars']]\n",
    "utility.head()"
   ],
   "metadata": {
    "collapsed": false,
    "ExecuteTime": {
     "end_time": "2023-10-08T21:02:36.810834300Z",
     "start_time": "2023-10-08T21:02:34.099544400Z"
    }
   }
  },
  {
   "cell_type": "code",
   "execution_count": 161,
   "metadata": {
    "ExecuteTime": {
     "end_time": "2023-10-08T21:02:36.810834300Z",
     "start_time": "2023-10-08T21:02:34.131189200Z"
    }
   },
   "outputs": [
    {
     "data": {
      "text/plain": "<AxesSubplot:>"
     },
     "execution_count": 161,
     "metadata": {},
     "output_type": "execute_result"
    },
    {
     "data": {
      "text/plain": "<Figure size 640x480 with 1 Axes>",
      "image/png": "[encoded data removed]"
     },
     "metadata": {},
     "output_type": "display_data"
    }
   ],
   "source": [
    "utility['review_stars'].hist()"
   ]
  },
  {
   "cell_type": "code",
   "execution_count": 162,
   "metadata": {
    "ExecuteTime": {
     "end_time": "2023-10-08T21:02:36.810834300Z",
     "start_time": "2023-10-08T21:02:34.266079100Z"
    }
   },
   "outputs": [],
   "source": [
    "# Prepare data to run models\n",
    "reader = Reader(rating_scale=(1,5))\n",
    "data = Dataset.load_from_df(utility, reader)\n",
    "trainset, testset = train_test_split(data, test_size=0.2)"
   ]
  },
  {
   "cell_type": "code",
   "execution_count": 163,
   "metadata": {
    "ExecuteTime": {
     "end_time": "2023-10-08T21:02:38.479994700Z",
     "start_time": "2023-10-08T21:02:34.297364700Z"
    }
   },
   "outputs": [
    {
     "data": {
      "text/plain": "   uid  iid  rating\n0  0.0  0.0     5.0\n1  1.0  1.0     4.0",
      "text/html": "<div>\n<style scoped>\n    .dataframe tbody tr th:only-of-type {\n        vertical-align: middle;\n    }\n\n    .dataframe tbody tr th {\n        vertical-align: top;\n    }\n\n    .dataframe thead th {\n        text-align: right;\n    }\n</style>\n<table border=\"1\" class=\"dataframe\">\n  <thead>\n    <tr style=\"text-align: right;\">\n      <th></th>\n      <th>uid</th>\n      <th>iid</th>\n      <th>rating</th>\n    </tr>\n  </thead>\n  <tbody>\n    <tr>\n      <th>0</th>\n      <td>0.0</td>\n      <td>0.0</td>\n      <td>5.0</td>\n    </tr>\n    <tr>\n      <th>1</th>\n      <td>1.0</td>\n      <td>1.0</td>\n      <td>4.0</td>\n    </tr>\n  </tbody>\n</table>\n</div>"
     },
     "execution_count": 163,
     "metadata": {},
     "output_type": "execute_result"
    }
   ],
   "source": [
    "# Looking at the trainset in a dataframe\n",
    "iterator = trainset.all_ratings()\n",
    "trainset_df = pd.DataFrame(columns=['uid', 'iid', 'rating'])\n",
    "i = 0\n",
    "for (uid, iid, rating) in iterator:\n",
    "    trainset_df.loc[i] = [uid, iid, rating]\n",
    "    i = i+1\n",
    "\n",
    "trainset_df.head(2)"
   ]
  },
  {
   "cell_type": "code",
   "execution_count": 164,
   "metadata": {
    "ExecuteTime": {
     "end_time": "2023-10-08T21:02:38.558622800Z",
     "start_time": "2023-10-08T21:02:38.466494100Z"
    }
   },
   "outputs": [],
   "source": [
    "def inner_to_raw_iid(row):\n",
    "    '''\n",
    "    Returns the raw item id associated with a given Surprise inner id\n",
    "    \n",
    "    Parameters:\n",
    "    row: corresponds to a row in a dataframe\n",
    "    \n",
    "    Returns:\n",
    "    output (float): raw item id\n",
    "    '''\n",
    "    output = trainset.to_raw_iid(row['iid'])\n",
    "    return output"
   ]
  },
  {
   "cell_type": "code",
   "execution_count": 165,
   "metadata": {
    "ExecuteTime": {
     "end_time": "2023-10-08T21:02:38.589839Z",
     "start_time": "2023-10-08T21:02:38.479994700Z"
    }
   },
   "outputs": [],
   "source": [
    "def inner_to_raw_uid(row):\n",
    "    '''\n",
    "    Returns the raw user id associated with a given Surprise inner id\n",
    "    \n",
    "    Parameters:\n",
    "    row: corresponds to a row in a dataframe\n",
    "    \n",
    "    Returns:\n",
    "    output (float): raw user id\n",
    "    '''\n",
    "    output = trainset.to_raw_uid(row['uid'])\n",
    "    return output"
   ]
  },
  {
   "cell_type": "code",
   "execution_count": 166,
   "metadata": {
    "ExecuteTime": {
     "end_time": "2023-10-08T21:02:40.136908400Z",
     "start_time": "2023-10-08T21:02:38.528396700Z"
    }
   },
   "outputs": [
    {
     "data": {
      "text/plain": "                      uid                     iid  rating\n0  xyFtRXaTjhStZB3Zb9uFvA  eaNouTpxnIu7M80xdeLxFw     5.0\n1  00USBTqdUmOwBSvJ0PzXIw  SVJJIoAiW3vHwoSpVnUcLQ     2.0",
      "text/html": "<div>\n<style scoped>\n    .dataframe tbody tr th:only-of-type {\n        vertical-align: middle;\n    }\n\n    .dataframe tbody tr th {\n        vertical-align: top;\n    }\n\n    .dataframe thead th {\n        text-align: right;\n    }\n</style>\n<table border=\"1\" class=\"dataframe\">\n  <thead>\n    <tr style=\"text-align: right;\">\n      <th></th>\n      <th>uid</th>\n      <th>iid</th>\n      <th>rating</th>\n    </tr>\n  </thead>\n  <tbody>\n    <tr>\n      <th>0</th>\n      <td>xyFtRXaTjhStZB3Zb9uFvA</td>\n      <td>eaNouTpxnIu7M80xdeLxFw</td>\n      <td>5.0</td>\n    </tr>\n    <tr>\n      <th>1</th>\n      <td>00USBTqdUmOwBSvJ0PzXIw</td>\n      <td>SVJJIoAiW3vHwoSpVnUcLQ</td>\n      <td>2.0</td>\n    </tr>\n  </tbody>\n</table>\n</div>"
     },
     "execution_count": 166,
     "metadata": {},
     "output_type": "execute_result"
    }
   ],
   "source": [
    "# Place testset into a dataframe\n",
    "testset_df = pd.DataFrame(columns=['uid', 'iid', 'rating'])\n",
    "i = 0\n",
    "for (uid, iid, rating) in testset:\n",
    "    testset_df.loc[i] = [uid, iid, rating]\n",
    "    i = i+1\n",
    "\n",
    "testset_df.head(2)"
   ]
  },
  {
   "cell_type": "code",
   "execution_count": 167,
   "metadata": {
    "ExecuteTime": {
     "end_time": "2023-10-08T21:02:40.262392300Z",
     "start_time": "2023-10-08T21:02:40.120604300Z"
    }
   },
   "outputs": [],
   "source": [
    "# Convert Surprise inner ids into raw ids\n",
    "trainset_df['iid'] = trainset_df.apply(inner_to_raw_iid, axis=1)\n",
    "trainset_df['uid'] = trainset_df.apply(inner_to_raw_uid, axis=1)"
   ]
  },
  {
   "cell_type": "code",
   "execution_count": 168,
   "metadata": {
    "ExecuteTime": {
     "end_time": "2023-10-08T21:02:40.262392300Z",
     "start_time": "2023-10-08T21:02:40.215119600Z"
    }
   },
   "outputs": [
    {
     "data": {
      "text/plain": "                      uid                     iid  rating\n0  qde7cw7YIJutTmRiFTEmfg  CJoO4HYD0tZRXlZqA04wmw     5.0\n1  aKQS69MIMJpT-UpxieaHRQ  nEaTbGFlU7d9eLU2kl6KBw     4.0\n2  uiBi3V6n_zef4W3Y4qbudw  5CX7rtnwYnmqFCihOyWivg     4.0\n3  uiBi3V6n_zef4W3Y4qbudw  KZA_HEOsBXf8dtrk9rqNJA     4.0\n4  uiBi3V6n_zef4W3Y4qbudw  RHdEScVIAQ7xzFFMiQEnAQ     4.0",
      "text/html": "<div>\n<style scoped>\n    .dataframe tbody tr th:only-of-type {\n        vertical-align: middle;\n    }\n\n    .dataframe tbody tr th {\n        vertical-align: top;\n    }\n\n    .dataframe thead th {\n        text-align: right;\n    }\n</style>\n<table border=\"1\" class=\"dataframe\">\n  <thead>\n    <tr style=\"text-align: right;\">\n      <th></th>\n      <th>uid</th>\n      <th>iid</th>\n      <th>rating</th>\n    </tr>\n  </thead>\n  <tbody>\n    <tr>\n      <th>0</th>\n      <td>qde7cw7YIJutTmRiFTEmfg</td>\n      <td>CJoO4HYD0tZRXlZqA04wmw</td>\n      <td>5.0</td>\n    </tr>\n    <tr>\n      <th>1</th>\n      <td>aKQS69MIMJpT-UpxieaHRQ</td>\n      <td>nEaTbGFlU7d9eLU2kl6KBw</td>\n      <td>4.0</td>\n    </tr>\n    <tr>\n      <th>2</th>\n      <td>uiBi3V6n_zef4W3Y4qbudw</td>\n      <td>5CX7rtnwYnmqFCihOyWivg</td>\n      <td>4.0</td>\n    </tr>\n    <tr>\n      <th>3</th>\n      <td>uiBi3V6n_zef4W3Y4qbudw</td>\n      <td>KZA_HEOsBXf8dtrk9rqNJA</td>\n      <td>4.0</td>\n    </tr>\n    <tr>\n      <th>4</th>\n      <td>uiBi3V6n_zef4W3Y4qbudw</td>\n      <td>RHdEScVIAQ7xzFFMiQEnAQ</td>\n      <td>4.0</td>\n    </tr>\n  </tbody>\n</table>\n</div>"
     },
     "execution_count": 168,
     "metadata": {},
     "output_type": "execute_result"
    }
   ],
   "source": [
    "trainset_df.head()"
   ]
  },
  {
   "cell_type": "code",
   "execution_count": 169,
   "metadata": {
    "ExecuteTime": {
     "end_time": "2023-10-08T21:02:40.403448400Z",
     "start_time": "2023-10-08T21:02:40.231135400Z"
    }
   },
   "outputs": [
    {
     "data": {
      "text/plain": "857"
     },
     "execution_count": 169,
     "metadata": {},
     "output_type": "execute_result"
    }
   ],
   "source": [
    "# Number of users that are in train and not test\n",
    "len(np.setdiff1d(testset_df['uid'].unique(), trainset_df['uid'].unique()))"
   ]
  },
  {
   "cell_type": "code",
   "execution_count": 170,
   "metadata": {
    "ExecuteTime": {
     "end_time": "2023-10-08T21:02:40.435086600Z",
     "start_time": "2023-10-08T21:02:40.340909100Z"
    }
   },
   "outputs": [
    {
     "data": {
      "text/plain": "0"
     },
     "execution_count": 170,
     "metadata": {},
     "output_type": "execute_result"
    }
   ],
   "source": [
    "# Number of restaurants that are in train and not test\n",
    "len(np.setdiff1d(testset_df['iid'].unique(), trainset_df['iid'].unique()))"
   ]
  },
  {
   "cell_type": "code",
   "execution_count": 171,
   "metadata": {
    "ExecuteTime": {
     "end_time": "2023-10-08T21:02:40.482028300Z",
     "start_time": "2023-10-08T21:02:40.372165400Z"
    }
   },
   "outputs": [
    {
     "name": "stdout",
     "output_type": "stream",
     "text": [
      "MAE:  1.1711\n",
      "1.1711137380649768\n",
      "MSE: 2.4035\n",
      "2.403477240994979\n",
      "RMSE: 1.5503\n",
      "1.5503152069804964\n"
     ]
    }
   ],
   "source": [
    "# Random ratings based on distribution of the training set\n",
    "normal_predictor = NormalPredictor()\n",
    "normal_predictor.fit(trainset)\n",
    "predictions = normal_predictor.test(testset)\n",
    "print(accuracy.mae(predictions))\n",
    "print(accuracy.mse(predictions))\n",
    "print(accuracy.rmse(predictions))"
   ]
  },
  {
   "cell_type": "code",
   "execution_count": 172,
   "metadata": {
    "ExecuteTime": {
     "end_time": "2023-10-08T21:02:40.576144200Z",
     "start_time": "2023-10-08T21:02:40.387790100Z"
    }
   },
   "outputs": [
    {
     "name": "stdout",
     "output_type": "stream",
     "text": [
      "Estimating biases using als...\n",
      "MAE:  0.9045\n",
      "0.9045215565441793\n",
      "MSE: 1.3116\n",
      "1.3116203193986873\n",
      "RMSE: 1.1453\n",
      "1.14525993529796\n"
     ]
    }
   ],
   "source": [
    "# Baseline ratings\n",
    "baseline_only = BaselineOnly()\n",
    "baseline_only.fit(trainset)\n",
    "predictions = baseline_only.test(testset)\n",
    "print(accuracy.mae(predictions))\n",
    "print(accuracy.mse(predictions))\n",
    "print(accuracy.rmse(predictions))"
   ]
  },
  {
   "cell_type": "code",
   "execution_count": 173,
   "metadata": {
    "ExecuteTime": {
     "end_time": "2023-10-08T21:02:40.760161Z",
     "start_time": "2023-10-08T21:02:40.419074100Z"
    }
   },
   "outputs": [
    {
     "name": "stdout",
     "output_type": "stream",
     "text": [
      "MAE:  0.9035\n",
      "0.9034802629444926\n",
      "MSE: 1.3170\n",
      "1.3169537697413156\n",
      "RMSE: 1.1476\n",
      "1.147586062019453\n"
     ]
    }
   ],
   "source": [
    "# Funk SVD (defaults)\n",
    "svd = SVD()\n",
    "svd.fit(trainset)\n",
    "predictions = svd.test(testset)\n",
    "print(accuracy.mae(predictions))\n",
    "print(accuracy.mse(predictions))\n",
    "print(accuracy.rmse(predictions))"
   ]
  },
  {
   "cell_type": "code",
   "execution_count": 174,
   "outputs": [
    {
     "name": "stdout",
     "output_type": "stream",
     "text": [
      "MAE:  0.9199\n",
      "0.9198696051904565\n",
      "MSE: 1.3459\n",
      "1.345936361961456\n",
      "RMSE: 1.1601\n",
      "1.1601449745447574\n"
     ]
    }
   ],
   "source": [
    "# SVD++ (defaults)\n",
    "svdpp = SVDpp()\n",
    "svdpp.fit(trainset)\n",
    "predictions = svdpp.test(testset)\n",
    "print(accuracy.mae(predictions))\n",
    "print(accuracy.mse(predictions))\n",
    "print(accuracy.rmse(predictions))"
   ],
   "metadata": {
    "collapsed": false,
    "ExecuteTime": {
     "end_time": "2023-10-08T21:02:41.052673200Z",
     "start_time": "2023-10-08T21:02:40.654761200Z"
    }
   }
  },
  {
   "cell_type": "code",
   "execution_count": 175,
   "metadata": {
    "ExecuteTime": {
     "end_time": "2023-10-08T21:02:41.518604Z",
     "start_time": "2023-10-08T21:02:41.052673200Z"
    }
   },
   "outputs": [
    {
     "name": "stdout",
     "output_type": "stream",
     "text": [
      "MAE:  1.0190\n",
      "1.01898657416753\n",
      "MSE: 1.6521\n",
      "1.6520600072170484\n",
      "RMSE: 1.2853\n",
      "1.2853248644669752\n"
     ]
    }
   ],
   "source": [
    "# NMF (defaults)\n",
    "nmf = NMF()\n",
    "nmf.fit(trainset)\n",
    "predictions = nmf.test(testset)\n",
    "print(accuracy.mae(predictions))\n",
    "print(accuracy.mse(predictions))\n",
    "print(accuracy.rmse(predictions))"
   ]
  },
  {
   "cell_type": "code",
   "execution_count": 176,
   "outputs": [
    {
     "name": "stdout",
     "output_type": "stream",
     "text": [
      "Computing the msd similarity matrix...\n",
      "Done computing similarity matrix.\n",
      "MAE:  0.9532\n",
      "0.953219850362894\n",
      "MSE: 1.4859\n",
      "1.485889662221753\n",
      "RMSE: 1.2190\n",
      "1.2189707388701967\n"
     ]
    }
   ],
   "source": [
    "# KNN (defaults)\n",
    "knnbasic = KNNBasic()\n",
    "knnbasic.fit(trainset)\n",
    "predictions = knnbasic.test(testset)\n",
    "print(accuracy.mae(predictions))\n",
    "print(accuracy.mse(predictions))\n",
    "print(accuracy.rmse(predictions))"
   ],
   "metadata": {
    "collapsed": false,
    "ExecuteTime": {
     "end_time": "2023-10-08T21:02:41.919165700Z",
     "start_time": "2023-10-08T21:02:41.487291300Z"
    }
   }
  },
  {
   "cell_type": "code",
   "execution_count": 177,
   "metadata": {
    "ExecuteTime": {
     "end_time": "2023-10-08T21:02:41.966431300Z",
     "start_time": "2023-10-08T21:02:41.887947900Z"
    }
   },
   "outputs": [
    {
     "data": {
      "text/plain": "EnFRwa9xPq9QaE4jBjFhlw    16\n9Y1YkloHk2MAE3hkwYdFKA    16\nI06gY9An4o81XpejLWD9DA    16\n1viszljzsa8W7VnYPuWosw    11\n0yrF14nWVAFeI0fG29a63g    10\n                          ..\nDK57YibC5ShBmqQl97CKog     1\n-n4YtwxACJo8HFe4FingTg     1\noC6-n3vx_5Tbk7TccGNJfA     1\nx2uo_JKTVK6miyMAPb1rdA     1\njjj-rTey-q2XN1oRNHpD7A     1\nName: user_id, Length: 4966, dtype: int64"
     },
     "execution_count": 177,
     "metadata": {},
     "output_type": "execute_result"
    }
   ],
   "source": [
    "utility['user_id'].value_counts()"
   ]
  },
  {
   "cell_type": "code",
   "execution_count": 178,
   "outputs": [],
   "source": [
    "#preds = preds.sort_values('user_id', ascending=True)"
   ],
   "metadata": {
    "collapsed": false,
    "ExecuteTime": {
     "end_time": "2023-10-08T21:02:41.966431300Z",
     "start_time": "2023-10-08T21:02:41.903552800Z"
    }
   }
  },
  {
   "cell_type": "code",
   "execution_count": 179,
   "metadata": {
    "ExecuteTime": {
     "end_time": "2023-10-08T21:02:42.040366700Z",
     "start_time": "2023-10-08T21:02:41.919165700Z"
    }
   },
   "outputs": [],
   "source": [
    "# Trim utility matrix to users, restaurants with at least 3 reviews\n",
    "utility_3 = utility[utility['user_id'].map(utility['user_id']\n",
    "                                           .value_counts()) >= 3]\n",
    "utility_3 = utility_3[utility_3['business_id'].map(utility_3['business_id']\n",
    "                                                   .value_counts()) >= 3]"
   ]
  },
  {
   "cell_type": "code",
   "execution_count": 180,
   "metadata": {
    "ExecuteTime": {
     "end_time": "2023-10-08T21:02:42.040366700Z",
     "start_time": "2023-10-08T21:02:41.935175200Z"
    }
   },
   "outputs": [
    {
     "data": {
      "text/plain": "(953, 3)"
     },
     "execution_count": 180,
     "metadata": {},
     "output_type": "execute_result"
    }
   ],
   "source": [
    "utility_3.shape"
   ]
  },
  {
   "cell_type": "code",
   "execution_count": 181,
   "outputs": [
    {
     "data": {
      "text/plain": "                   user_id             business_id  review_stars\n9   Po4BCvGrKtP_OfZwMUp87g  5Ce3lZksYVkCbrihqylVHQ             4\n10  Po4BCvGrKtP_OfZwMUp87g  p7tSGmWpFV246aYhwODgBg             5\n11  Po4BCvGrKtP_OfZwMUp87g  KZA_HEOsBXf8dtrk9rqNJA             5\n18  lYu0e98ZSNeXIjcLpkjhhA  5Ce3lZksYVkCbrihqylVHQ             3\n19  lYu0e98ZSNeXIjcLpkjhhA  RHdEScVIAQ7xzFFMiQEnAQ             5",
      "text/html": "<div>\n<style scoped>\n    .dataframe tbody tr th:only-of-type {\n        vertical-align: middle;\n    }\n\n    .dataframe tbody tr th {\n        vertical-align: top;\n    }\n\n    .dataframe thead th {\n        text-align: right;\n    }\n</style>\n<table border=\"1\" class=\"dataframe\">\n  <thead>\n    <tr style=\"text-align: right;\">\n      <th></th>\n      <th>user_id</th>\n      <th>business_id</th>\n      <th>review_stars</th>\n    </tr>\n  </thead>\n  <tbody>\n    <tr>\n      <th>9</th>\n      <td>Po4BCvGrKtP_OfZwMUp87g</td>\n      <td>5Ce3lZksYVkCbrihqylVHQ</td>\n      <td>4</td>\n    </tr>\n    <tr>\n      <th>10</th>\n      <td>Po4BCvGrKtP_OfZwMUp87g</td>\n      <td>p7tSGmWpFV246aYhwODgBg</td>\n      <td>5</td>\n    </tr>\n    <tr>\n      <th>11</th>\n      <td>Po4BCvGrKtP_OfZwMUp87g</td>\n      <td>KZA_HEOsBXf8dtrk9rqNJA</td>\n      <td>5</td>\n    </tr>\n    <tr>\n      <th>18</th>\n      <td>lYu0e98ZSNeXIjcLpkjhhA</td>\n      <td>5Ce3lZksYVkCbrihqylVHQ</td>\n      <td>3</td>\n    </tr>\n    <tr>\n      <th>19</th>\n      <td>lYu0e98ZSNeXIjcLpkjhhA</td>\n      <td>RHdEScVIAQ7xzFFMiQEnAQ</td>\n      <td>5</td>\n    </tr>\n  </tbody>\n</table>\n</div>"
     },
     "execution_count": 181,
     "metadata": {},
     "output_type": "execute_result"
    }
   ],
   "source": [
    "utility_3.head()"
   ],
   "metadata": {
    "collapsed": false,
    "ExecuteTime": {
     "end_time": "2023-10-08T21:02:42.040366700Z",
     "start_time": "2023-10-08T21:02:41.950839500Z"
    }
   }
  },
  {
   "cell_type": "code",
   "execution_count": 182,
   "metadata": {
    "ExecuteTime": {
     "end_time": "2023-10-08T21:02:42.106952Z",
     "start_time": "2023-10-08T21:02:41.966431300Z"
    }
   },
   "outputs": [
    {
     "data": {
      "text/plain": "0.14300720288115246"
     },
     "execution_count": 182,
     "metadata": {},
     "output_type": "execute_result"
    }
   ],
   "source": [
    "# Get updated density (roughly four times higher now)\n",
    "utility_users = len(utility_3['user_id'].unique())\n",
    "utility_businesses = len(utility_3['business_id'].unique())\n",
    "utility_reviews = utility_3.shape[0]\n",
    "utility_reviews / (utility_businesses * utility_users)"
   ]
  },
  {
   "cell_type": "code",
   "execution_count": 183,
   "metadata": {
    "ExecuteTime": {
     "end_time": "2023-10-08T21:02:42.106952Z",
     "start_time": "2023-10-08T21:02:41.982056Z"
    }
   },
   "outputs": [
    {
     "name": "stdout",
     "output_type": "stream",
     "text": [
      "238\n",
      "28\n",
      "953\n"
     ]
    }
   ],
   "source": [
    "# Examine dimensions post-trimming\n",
    "print(utility_users)\n",
    "print(utility_businesses)\n",
    "print(utility_reviews)"
   ]
  },
  {
   "cell_type": "code",
   "execution_count": 184,
   "metadata": {
    "ExecuteTime": {
     "end_time": "2023-10-08T21:02:42.276089900Z",
     "start_time": "2023-10-08T21:02:41.997682Z"
    }
   },
   "outputs": [
    {
     "data": {
      "text/plain": "<AxesSubplot:>"
     },
     "execution_count": 184,
     "metadata": {},
     "output_type": "execute_result"
    },
    {
     "data": {
      "text/plain": "<Figure size 640x480 with 1 Axes>",
      "image/png": "[encoded data removed]"
     },
     "metadata": {},
     "output_type": "display_data"
    }
   ],
   "source": [
    "utility_3['review_stars'].hist()"
   ]
  },
  {
   "cell_type": "code",
   "execution_count": 185,
   "metadata": {
    "ExecuteTime": {
     "end_time": "2023-10-08T21:02:42.480113100Z",
     "start_time": "2023-10-08T21:02:42.135033800Z"
    }
   },
   "outputs": [
    {
     "data": {
      "text/plain": "<Figure size 1600x800 with 2 Axes>",
      "image/png": "[encoded data removed]"
     },
     "metadata": {},
     "output_type": "display_data"
    }
   ],
   "source": [
    "# Examining review distributions on the same scale\n",
    "utility_user_ratings = utility_3.groupby('user_id').count()['business_id']\n",
    "utility_rest_ratings = utility_3.groupby('business_id').count()['review_stars']\n",
    "fig,ax = plt.subplots(1,2,figsize=(16,8),sharey=True,sharex=True)\n",
    "ax[0].hist(utility_user_ratings,label='User Rating Counts', color='b')\n",
    "ax[1].hist(utility_rest_ratings,label='Restaurant Rating Counts', color='r')\n",
    "ax[0].legend()\n",
    "ax[1].legend();"
   ]
  },
  {
   "cell_type": "code",
   "execution_count": 186,
   "metadata": {
    "ExecuteTime": {
     "end_time": "2023-10-08T21:02:42.480113100Z",
     "start_time": "2023-10-08T21:02:42.433850600Z"
    }
   },
   "outputs": [
    {
     "data": {
      "text/plain": "(16, 83)"
     },
     "execution_count": 186,
     "metadata": {},
     "output_type": "execute_result"
    }
   ],
   "source": [
    "# Max values for reviews by user and restaurant\n",
    "utility_user_ratings.max(), utility_rest_ratings.max()"
   ]
  },
  {
   "cell_type": "code",
   "execution_count": 187,
   "metadata": {
    "ExecuteTime": {
     "end_time": "2023-10-08T21:02:42.526987900Z",
     "start_time": "2023-10-08T21:02:42.448856300Z"
    }
   },
   "outputs": [
    {
     "data": {
      "text/plain": "(3, 8)"
     },
     "execution_count": 187,
     "metadata": {},
     "output_type": "execute_result"
    }
   ],
   "source": [
    "# Minimum values for reviews by user and restaurant\n",
    "utility_user_ratings.min(), utility_rest_ratings.min()"
   ]
  },
  {
   "cell_type": "code",
   "execution_count": 188,
   "metadata": {
    "ExecuteTime": {
     "end_time": "2023-10-08T21:02:42.589884100Z",
     "start_time": "2023-10-08T21:02:42.464533600Z"
    }
   },
   "outputs": [],
   "source": [
    "# Prepare data for models with adjusted utility matrix\n",
    "reader = Reader(rating_scale=(1,5))\n",
    "data_3 = Dataset.load_from_df(utility_3, reader)\n",
    "trainset_3, testset_3 = train_test_split(data_3, test_size=0.2)"
   ]
  },
  {
   "cell_type": "code",
   "execution_count": 189,
   "metadata": {
    "ExecuteTime": {
     "end_time": "2023-10-08T21:02:42.652822400Z",
     "start_time": "2023-10-08T21:02:42.480113100Z"
    }
   },
   "outputs": [],
   "source": [
    "def inner_to_raw_iid_3(row):\n",
    "    '''\n",
    "    Returns the raw item id associated with a given Surprise inner id.\n",
    "    Slightly adjusted from previous function for new trainset.\n",
    "    \n",
    "    Parameters:\n",
    "    row: corresponds to a row in a dataframe\n",
    "    \n",
    "    Returns:\n",
    "    output (float): raw item id\n",
    "    '''\n",
    "    output = trainset_3.to_raw_iid(row['iid'])\n",
    "    return output\n",
    "\n",
    "def inner_to_raw_uid_3(row):\n",
    "    '''\n",
    "    Returns the raw user id associated with a given Surprise inner id\n",
    "    Slightly adjusted from previous function for new trainset.\n",
    "    \n",
    "    Parameters:\n",
    "    row: corresponds to a row in a dataframe\n",
    "    \n",
    "    Returns:\n",
    "    output (float): raw user id\n",
    "    '''\n",
    "    output = trainset_3.to_raw_uid(row['uid'])\n",
    "    return output"
   ]
  },
  {
   "cell_type": "code",
   "execution_count": 190,
   "metadata": {
    "ExecuteTime": {
     "end_time": "2023-10-08T21:02:43.421989300Z",
     "start_time": "2023-10-08T21:02:42.543001400Z"
    }
   },
   "outputs": [],
   "source": [
    "# Place trainset/testset into dataframes\n",
    "iterator_3 = trainset_3.all_ratings()\n",
    "trainset_3_df = pd.DataFrame(columns=['uid', 'iid', 'rating'])\n",
    "i = 0\n",
    "for (uid, iid, rating) in iterator_3:\n",
    "    trainset_3_df.loc[i] = [uid, iid, rating]\n",
    "    i = i+1\n",
    "\n",
    "testset_3_df = pd.DataFrame(columns=['uid', 'iid', 'rating'])\n",
    "i = 0\n",
    "for (uid, iid, rating) in testset_3:\n",
    "    testset_3_df.loc[i] = [uid, iid, rating]\n",
    "    i = i+1\n",
    "\n",
    "trainset_3_df['iid'] = trainset_3_df.apply(inner_to_raw_iid_3, axis=1)\n",
    "trainset_3_df['uid'] = trainset_3_df.apply(inner_to_raw_uid_3, axis=1)"
   ]
  },
  {
   "cell_type": "code",
   "execution_count": 191,
   "metadata": {
    "ExecuteTime": {
     "end_time": "2023-10-08T21:02:43.437500900Z",
     "start_time": "2023-10-08T21:02:43.406207500Z"
    }
   },
   "outputs": [
    {
     "data": {
      "text/plain": "3"
     },
     "execution_count": 191,
     "metadata": {},
     "output_type": "execute_result"
    }
   ],
   "source": [
    "# Number of users that are in train and not test\n",
    "len(np.setdiff1d(testset_3_df['uid'].unique(), trainset_3_df['uid'].unique()))"
   ]
  },
  {
   "cell_type": "code",
   "execution_count": 192,
   "metadata": {
    "ExecuteTime": {
     "end_time": "2023-10-08T21:02:43.437500900Z",
     "start_time": "2023-10-08T21:02:43.421989300Z"
    }
   },
   "outputs": [
    {
     "data": {
      "text/plain": "0"
     },
     "execution_count": 192,
     "metadata": {},
     "output_type": "execute_result"
    }
   ],
   "source": [
    "# Number of restaurants that are in train and not test\n",
    "len(np.setdiff1d(testset_3_df['iid'].unique(), trainset_3_df['iid'].unique()))"
   ]
  },
  {
   "cell_type": "code",
   "execution_count": 193,
   "metadata": {
    "ExecuteTime": {
     "end_time": "2023-10-08T21:02:43.562945100Z",
     "start_time": "2023-10-08T21:02:43.437500900Z"
    }
   },
   "outputs": [
    {
     "name": "stdout",
     "output_type": "stream",
     "text": [
      "MAE:  1.0307\n",
      "1.0306913414253172\n",
      "MSE: 1.7741\n",
      "1.7740864873106001\n",
      "RMSE: 1.3319\n",
      "1.331948380122368\n"
     ]
    }
   ],
   "source": [
    "# Random ratings based on distribution of the training set\n",
    "normal_predictor = NormalPredictor()\n",
    "normal_predictor.fit(trainset_3)\n",
    "predictions = normal_predictor.test(testset_3)\n",
    "print(accuracy.mae(predictions))\n",
    "print(accuracy.mse(predictions))\n",
    "print(accuracy.rmse(predictions))"
   ]
  },
  {
   "cell_type": "code",
   "execution_count": 194,
   "metadata": {
    "ExecuteTime": {
     "end_time": "2023-10-08T21:02:43.594195800Z",
     "start_time": "2023-10-08T21:02:43.453132100Z"
    }
   },
   "outputs": [
    {
     "name": "stdout",
     "output_type": "stream",
     "text": [
      "Estimating biases using als...\n",
      "MAE:  0.7385\n",
      "0.7385074845147901\n",
      "MSE: 0.8982\n",
      "0.8981814736659011\n",
      "RMSE: 0.9477\n",
      "0.9477243658711646\n"
     ]
    }
   ],
   "source": [
    "# Baseline ratings\n",
    "baseline_only = BaselineOnly()\n",
    "baseline_only.fit(trainset_3)\n",
    "predictions = baseline_only.test(testset_3)\n",
    "print(accuracy.mae(predictions))\n",
    "print(accuracy.mse(predictions))\n",
    "print(accuracy.rmse(predictions))"
   ]
  },
  {
   "cell_type": "code",
   "execution_count": 195,
   "metadata": {
    "ExecuteTime": {
     "end_time": "2023-10-08T21:02:43.594195800Z",
     "start_time": "2023-10-08T21:02:43.468791300Z"
    }
   },
   "outputs": [
    {
     "name": "stdout",
     "output_type": "stream",
     "text": [
      "MAE:  0.8126\n",
      "0.8125500656345327\n",
      "MSE: 1.1062\n",
      "1.1062228102498772\n",
      "RMSE: 1.0518\n",
      "1.0517712727821944\n"
     ]
    }
   ],
   "source": [
    "# NMF (defaults)\n",
    "nmf = NMF()\n",
    "nmf.fit(trainset_3)\n",
    "predictions = nmf.test(testset_3)\n",
    "print(accuracy.mae(predictions))\n",
    "print(accuracy.mse(predictions))\n",
    "print(accuracy.rmse(predictions))"
   ]
  },
  {
   "cell_type": "code",
   "execution_count": 196,
   "metadata": {
    "ExecuteTime": {
     "end_time": "2023-10-08T21:02:43.635522500Z",
     "start_time": "2023-10-08T21:02:43.535274200Z"
    }
   },
   "outputs": [
    {
     "name": "stdout",
     "output_type": "stream",
     "text": [
      "MAE:  0.7039\n",
      "0.7039354458547226\n",
      "MSE: 0.7934\n",
      "0.7933815513782283\n",
      "RMSE: 0.8907\n",
      "0.8907196817058823\n"
     ]
    }
   ],
   "source": [
    "# Funk SVD (defaults)\n",
    "svd = SVD()\n",
    "svd.fit(trainset_3)\n",
    "predictions = svd.test(testset_3)\n",
    "print(accuracy.mae(predictions))\n",
    "print(accuracy.mse(predictions))\n",
    "print(accuracy.rmse(predictions))"
   ]
  },
  {
   "cell_type": "code",
   "execution_count": 197,
   "metadata": {
    "ExecuteTime": {
     "end_time": "2023-10-08T21:02:43.813873Z",
     "start_time": "2023-10-08T21:02:43.578609100Z"
    }
   },
   "outputs": [
    {
     "name": "stdout",
     "output_type": "stream",
     "text": [
      "MAE:  0.7160\n",
      "0.7160444271354912\n",
      "MSE: 0.8271\n",
      "0.8271163880544826\n",
      "RMSE: 0.9095\n",
      "0.9094593932960848\n"
     ]
    }
   ],
   "source": [
    "# SVD++ (defaults)\n",
    "svdpp = SVDpp()\n",
    "svdpp.fit(trainset_3)\n",
    "predictions = svdpp.test(testset_3)\n",
    "print(accuracy.mae(predictions))\n",
    "print(accuracy.mse(predictions))\n",
    "print(accuracy.rmse(predictions))"
   ]
  },
  {
   "cell_type": "code",
   "execution_count": 198,
   "metadata": {
    "ExecuteTime": {
     "end_time": "2023-10-08T21:02:43.813873Z",
     "start_time": "2023-10-08T21:02:43.672815500Z"
    }
   },
   "outputs": [
    {
     "name": "stdout",
     "output_type": "stream",
     "text": [
      "Computing the msd similarity matrix...\n",
      "Done computing similarity matrix.\n",
      "MAE:  0.7514\n",
      "0.7513672109748607\n",
      "MSE: 0.9437\n",
      "0.9437425391237639\n",
      "RMSE: 0.9715\n",
      "0.971464121377503\n"
     ]
    }
   ],
   "source": [
    "# KNN (defaults)\n",
    "knnbasic = KNNBasic()\n",
    "knnbasic.fit(trainset_3)\n",
    "predictions = knnbasic.test(testset_3)\n",
    "print(accuracy.mae(predictions))\n",
    "print(accuracy.mse(predictions))\n",
    "print(accuracy.rmse(predictions))"
   ]
  },
  {
   "cell_type": "code",
   "execution_count": 199,
   "metadata": {
    "ExecuteTime": {
     "end_time": "2023-10-08T21:02:43.813873Z",
     "start_time": "2023-10-08T21:02:43.704072900Z"
    }
   },
   "outputs": [
    {
     "name": "stdout",
     "output_type": "stream",
     "text": [
      "Computing the msd similarity matrix...\n",
      "Done computing similarity matrix.\n",
      "MAE:  0.7214\n",
      "0.7214403769938235\n",
      "MSE: 0.9824\n",
      "0.9824384074066023\n",
      "RMSE: 0.9912\n",
      "0.991180310239566\n"
     ]
    }
   ],
   "source": [
    "# KNN with means (defaults)\n",
    "knnwithmeans = KNNWithMeans()\n",
    "knnwithmeans.fit(trainset_3)\n",
    "predictions = knnwithmeans.test(testset_3)\n",
    "print(accuracy.mae(predictions))\n",
    "print(accuracy.mse(predictions))\n",
    "print(accuracy.rmse(predictions))"
   ]
  },
  {
   "cell_type": "code",
   "execution_count": 200,
   "metadata": {
    "ExecuteTime": {
     "end_time": "2023-10-08T21:02:43.813873Z",
     "start_time": "2023-10-08T21:02:43.735861900Z"
    }
   },
   "outputs": [
    {
     "name": "stdout",
     "output_type": "stream",
     "text": [
      "Computing the msd similarity matrix...\n",
      "Done computing similarity matrix.\n",
      "MAE:  0.7221\n",
      "0.7220737485416876\n",
      "MSE: 0.9878\n",
      "0.9878283430739098\n",
      "RMSE: 0.9939\n",
      "0.9938955393168387\n"
     ]
    }
   ],
   "source": [
    "# KNN with z-score (defaults)\n",
    "knnwithzscore = KNNWithZScore()\n",
    "knnwithzscore.fit(trainset_3)\n",
    "predictions = knnwithzscore.test(testset_3)\n",
    "print(accuracy.mae(predictions))\n",
    "print(accuracy.mse(predictions))\n",
    "print(accuracy.rmse(predictions))"
   ]
  },
  {
   "cell_type": "code",
   "execution_count": 201,
   "metadata": {
    "ExecuteTime": {
     "end_time": "2023-10-08T21:02:54.314755100Z",
     "start_time": "2023-10-08T21:02:43.767028700Z"
    }
   },
   "outputs": [],
   "source": [
    "# Run grid searches to find optimal SVD++ parameters\n",
    "param_grid = {'n_factors': [10, 20, 50],\n",
    "              'n_epochs': [20, 30, 40],\n",
    "              'lr_all': [0.002, 0.007, 0.01],\n",
    "              'reg_all': [0.01, 0.03, 0.05]}\n",
    "gs = GridSearchCV(algo_class=SVDpp,\n",
    "                  param_grid=param_grid,\n",
    "                  measures = ['rmse', 'mae'],\n",
    "                  cv=5,\n",
    "                  n_jobs=-1)\n",
    "gs.fit(data_3)"
   ]
  },
  {
   "cell_type": "code",
   "execution_count": 202,
   "metadata": {
    "ExecuteTime": {
     "end_time": "2023-10-08T21:02:54.314755100Z",
     "start_time": "2023-10-08T21:02:54.267864200Z"
    }
   },
   "outputs": [
    {
     "data": {
      "text/plain": "0.9596073022055995"
     },
     "execution_count": 202,
     "metadata": {},
     "output_type": "execute_result"
    }
   ],
   "source": [
    "gs.best_score['rmse']"
   ]
  },
  {
   "cell_type": "code",
   "execution_count": 203,
   "metadata": {
    "ExecuteTime": {
     "end_time": "2023-10-08T21:02:54.314755100Z",
     "start_time": "2023-10-08T21:02:54.299163900Z"
    }
   },
   "outputs": [
    {
     "data": {
      "text/plain": "{'n_factors': 50, 'n_epochs': 30, 'lr_all': 0.002, 'reg_all': 0.05}"
     },
     "execution_count": 203,
     "metadata": {},
     "output_type": "execute_result"
    }
   ],
   "source": [
    "gs.best_params['rmse']"
   ]
  },
  {
   "cell_type": "code",
   "execution_count": 204,
   "metadata": {
    "ExecuteTime": {
     "end_time": "2023-10-08T21:02:54.424525100Z",
     "start_time": "2023-10-08T21:02:54.314755100Z"
    }
   },
   "outputs": [
    {
     "data": {
      "text/plain": "0.7513784905858273"
     },
     "execution_count": 204,
     "metadata": {},
     "output_type": "execute_result"
    }
   ],
   "source": [
    "gs.best_score['mae']"
   ]
  },
  {
   "cell_type": "code",
   "execution_count": 205,
   "metadata": {
    "ExecuteTime": {
     "end_time": "2023-10-08T21:02:54.424525100Z",
     "start_time": "2023-10-08T21:02:54.330349900Z"
    }
   },
   "outputs": [
    {
     "data": {
      "text/plain": "{'n_factors': 50, 'n_epochs': 40, 'lr_all': 0.01, 'reg_all': 0.05}"
     },
     "execution_count": 205,
     "metadata": {},
     "output_type": "execute_result"
    }
   ],
   "source": [
    "gs.best_params['mae']"
   ]
  },
  {
   "cell_type": "code",
   "execution_count": 206,
   "metadata": {
    "ExecuteTime": {
     "end_time": "2023-10-08T21:03:09.608119800Z",
     "start_time": "2023-10-08T21:02:54.350514600Z"
    }
   },
   "outputs": [],
   "source": [
    "param_grid2 = {'n_factors': [10, 12, 14, 16, 20],\n",
    "               'n_epochs': [15, 20, 25, 30],\n",
    "               'lr_all': [0.006, 0.007, 0.008],\n",
    "               'reg_all': [0.04, 0.05, 0.06, 0.07]}\n",
    "gs2 = GridSearchCV(algo_class=SVDpp,\n",
    "                   param_grid=param_grid2,\n",
    "                   measures = ['rmse', 'mae'],\n",
    "                   cv=5,\n",
    "                   n_jobs=-1)\n",
    "gs2.fit(data_3)"
   ]
  },
  {
   "cell_type": "code",
   "execution_count": 207,
   "metadata": {
    "ExecuteTime": {
     "end_time": "2023-10-08T21:03:09.623737300Z",
     "start_time": "2023-10-08T21:03:09.608119800Z"
    }
   },
   "outputs": [
    {
     "data": {
      "text/plain": "{'n_factors': 12, 'n_epochs': 15, 'lr_all': 0.007, 'reg_all': 0.04}"
     },
     "execution_count": 207,
     "metadata": {},
     "output_type": "execute_result"
    }
   ],
   "source": [
    "gs2.best_params['rmse']"
   ]
  },
  {
   "cell_type": "code",
   "execution_count": 208,
   "metadata": {
    "ExecuteTime": {
     "end_time": "2023-10-08T21:03:09.686634700Z",
     "start_time": "2023-10-08T21:03:09.623737300Z"
    }
   },
   "outputs": [
    {
     "data": {
      "text/plain": "0.9592257892534469"
     },
     "execution_count": 208,
     "metadata": {},
     "output_type": "execute_result"
    }
   ],
   "source": [
    "gs2.best_score['rmse']"
   ]
  },
  {
   "cell_type": "code",
   "execution_count": 209,
   "metadata": {
    "ExecuteTime": {
     "end_time": "2023-10-08T21:03:09.717890900Z",
     "start_time": "2023-10-08T21:03:09.639397900Z"
    }
   },
   "outputs": [
    {
     "data": {
      "text/plain": "{'n_factors': 16, 'n_epochs': 30, 'lr_all': 0.008, 'reg_all': 0.06}"
     },
     "execution_count": 209,
     "metadata": {},
     "output_type": "execute_result"
    }
   ],
   "source": [
    "gs2.best_params['mae']"
   ]
  },
  {
   "cell_type": "code",
   "execution_count": 210,
   "metadata": {
    "ExecuteTime": {
     "end_time": "2023-10-08T21:03:09.717890900Z",
     "start_time": "2023-10-08T21:03:09.655023200Z"
    }
   },
   "outputs": [
    {
     "data": {
      "text/plain": "0.7497111097154805"
     },
     "execution_count": 210,
     "metadata": {},
     "output_type": "execute_result"
    }
   ],
   "source": [
    "gs2.best_score['mae']"
   ]
  },
  {
   "cell_type": "code",
   "execution_count": 211,
   "metadata": {
    "ExecuteTime": {
     "end_time": "2023-10-08T21:03:12.463600200Z",
     "start_time": "2023-10-08T21:03:09.674127800Z"
    }
   },
   "outputs": [],
   "source": [
    "param_grid3 = {'n_factors': [20],\n",
    "               'n_epochs': [20, 25],\n",
    "               'lr_all': [0.004, 0.006, 0.007, 0.009],\n",
    "               'reg_all': [0.02, 0.04, 0.05, 0.06, 0.08]}\n",
    "gs3 = GridSearchCV(algo_class=SVDpp,\n",
    "                   param_grid=param_grid3,\n",
    "                   measures = ['rmse', 'mae'],\n",
    "                   cv=5,\n",
    "                   n_jobs=-1)\n",
    "gs3.fit(data_3)"
   ]
  },
  {
   "cell_type": "code",
   "execution_count": 212,
   "metadata": {
    "ExecuteTime": {
     "end_time": "2023-10-08T21:03:12.479616Z",
     "start_time": "2023-10-08T21:03:12.463600200Z"
    }
   },
   "outputs": [
    {
     "data": {
      "text/plain": "0.9486992630991382"
     },
     "execution_count": 212,
     "metadata": {},
     "output_type": "execute_result"
    }
   ],
   "source": [
    "gs3.best_score['rmse']"
   ]
  },
  {
   "cell_type": "code",
   "execution_count": 213,
   "metadata": {
    "ExecuteTime": {
     "end_time": "2023-10-08T21:03:12.526497800Z",
     "start_time": "2023-10-08T21:03:12.479616Z"
    }
   },
   "outputs": [
    {
     "data": {
      "text/plain": "{'n_factors': 20, 'n_epochs': 25, 'lr_all': 0.007, 'reg_all': 0.02}"
     },
     "execution_count": 213,
     "metadata": {},
     "output_type": "execute_result"
    }
   ],
   "source": [
    "gs3.best_params['rmse']"
   ]
  },
  {
   "cell_type": "code",
   "execution_count": 214,
   "metadata": {
    "ExecuteTime": {
     "end_time": "2023-10-08T21:03:12.526497800Z",
     "start_time": "2023-10-08T21:03:12.495247200Z"
    }
   },
   "outputs": [
    {
     "data": {
      "text/plain": "{'n_factors': 20, 'n_epochs': 25, 'lr_all': 0.009, 'reg_all': 0.06}"
     },
     "execution_count": 214,
     "metadata": {},
     "output_type": "execute_result"
    }
   ],
   "source": [
    "gs3.best_params['mae']"
   ]
  },
  {
   "cell_type": "code",
   "execution_count": 215,
   "metadata": {
    "ExecuteTime": {
     "end_time": "2023-10-08T21:03:12.526497800Z",
     "start_time": "2023-10-08T21:03:12.510872500Z"
    }
   },
   "outputs": [],
   "source": [
    "# Save utility matrix to text file in order to explore percentiles\n",
    "utility_3.to_csv('../datasets/comunidades/utility.txt', sep='\\t', header=False, index=False)"
   ]
  },
  {
   "cell_type": "code",
   "execution_count": 216,
   "metadata": {
    "ExecuteTime": {
     "end_time": "2023-10-08T21:03:12.578417300Z",
     "start_time": "2023-10-08T21:03:12.542156Z"
    }
   },
   "outputs": [
    {
     "name": "stderr",
     "output_type": "stream",
     "text": [
      "<>:22: SyntaxWarning: \"is\" with a literal. Did you mean \"==\"?\n",
      "<>:24: SyntaxWarning: \"is\" with a literal. Did you mean \"==\"?\n",
      "<>:36: SyntaxWarning: \"is\" with a literal. Did you mean \"==\"?\n",
      "<>:60: SyntaxWarning: \"is\" with a literal. Did you mean \"==\"?\n",
      "<>:86: SyntaxWarning: \"is\" with a literal. Did you mean \"==\"?\n",
      "<>:112: SyntaxWarning: \"is\" with a literal. Did you mean \"==\"?\n",
      "<>:135: SyntaxWarning: \"is\" with a literal. Did you mean \"==\"?\n",
      "<>:154: SyntaxWarning: \"is\" with a literal. Did you mean \"==\"?\n",
      "<>:156: SyntaxWarning: \"is\" with a literal. Did you mean \"==\"?\n",
      "<>:158: SyntaxWarning: \"is\" with a literal. Did you mean \"==\"?\n",
      "<>:160: SyntaxWarning: \"is\" with a literal. Did you mean \"==\"?\n",
      "<>:162: SyntaxWarning: \"is\" with a literal. Did you mean \"==\"?\n",
      "<>:22: SyntaxWarning: \"is\" with a literal. Did you mean \"==\"?\n",
      "<>:24: SyntaxWarning: \"is\" with a literal. Did you mean \"==\"?\n",
      "<>:36: SyntaxWarning: \"is\" with a literal. Did you mean \"==\"?\n",
      "<>:60: SyntaxWarning: \"is\" with a literal. Did you mean \"==\"?\n",
      "<>:86: SyntaxWarning: \"is\" with a literal. Did you mean \"==\"?\n",
      "<>:112: SyntaxWarning: \"is\" with a literal. Did you mean \"==\"?\n",
      "<>:135: SyntaxWarning: \"is\" with a literal. Did you mean \"==\"?\n",
      "<>:154: SyntaxWarning: \"is\" with a literal. Did you mean \"==\"?\n",
      "<>:156: SyntaxWarning: \"is\" with a literal. Did you mean \"==\"?\n",
      "<>:158: SyntaxWarning: \"is\" with a literal. Did you mean \"==\"?\n",
      "<>:160: SyntaxWarning: \"is\" with a literal. Did you mean \"==\"?\n",
      "<>:162: SyntaxWarning: \"is\" with a literal. Did you mean \"==\"?\n",
      "C:\\Users\\joaqu\\AppData\\Local\\Temp\\ipykernel_15072\\3803659616.py:22: SyntaxWarning: \"is\" with a literal. Did you mean \"==\"?\n",
      "  if self.transformation_type is \"user\":\n",
      "C:\\Users\\joaqu\\AppData\\Local\\Temp\\ipykernel_15072\\3803659616.py:24: SyntaxWarning: \"is\" with a literal. Did you mean \"==\"?\n",
      "  elif self.transformation_type is \"item\":\n",
      "C:\\Users\\joaqu\\AppData\\Local\\Temp\\ipykernel_15072\\3803659616.py:36: SyntaxWarning: \"is\" with a literal. Did you mean \"==\"?\n",
      "  if self.transformation_type is \"item\":\n",
      "C:\\Users\\joaqu\\AppData\\Local\\Temp\\ipykernel_15072\\3803659616.py:60: SyntaxWarning: \"is\" with a literal. Did you mean \"==\"?\n",
      "  if self.transformation_type is \"item\":\n",
      "C:\\Users\\joaqu\\AppData\\Local\\Temp\\ipykernel_15072\\3803659616.py:86: SyntaxWarning: \"is\" with a literal. Did you mean \"==\"?\n",
      "  if self.transformation_type is \"item\":\n",
      "C:\\Users\\joaqu\\AppData\\Local\\Temp\\ipykernel_15072\\3803659616.py:112: SyntaxWarning: \"is\" with a literal. Did you mean \"==\"?\n",
      "  if self.transformation_type is \"item\":\n",
      "C:\\Users\\joaqu\\AppData\\Local\\Temp\\ipykernel_15072\\3803659616.py:135: SyntaxWarning: \"is\" with a literal. Did you mean \"==\"?\n",
      "  if self.transformation_type is \"item\":\n",
      "C:\\Users\\joaqu\\AppData\\Local\\Temp\\ipykernel_15072\\3803659616.py:154: SyntaxWarning: \"is\" with a literal. Did you mean \"==\"?\n",
      "  if(self.percentile_position is \"first\"):\n",
      "C:\\Users\\joaqu\\AppData\\Local\\Temp\\ipykernel_15072\\3803659616.py:156: SyntaxWarning: \"is\" with a literal. Did you mean \"==\"?\n",
      "  elif (self.percentile_position is \"floormedian\"):\n",
      "C:\\Users\\joaqu\\AppData\\Local\\Temp\\ipykernel_15072\\3803659616.py:158: SyntaxWarning: \"is\" with a literal. Did you mean \"==\"?\n",
      "  elif (self.percentile_position is \"ceilmedian\"):\n",
      "C:\\Users\\joaqu\\AppData\\Local\\Temp\\ipykernel_15072\\3803659616.py:160: SyntaxWarning: \"is\" with a literal. Did you mean \"==\"?\n",
      "  elif (self.percentile_position is \"last\"):\n",
      "C:\\Users\\joaqu\\AppData\\Local\\Temp\\ipykernel_15072\\3803659616.py:162: SyntaxWarning: \"is\" with a literal. Did you mean \"==\"?\n",
      "  elif (self.percentile_position is \"zscore\"):\n"
     ]
    }
   ],
   "source": [
    "# NOT MY CODE - ADAPTED FROM MANSOURY ET AL'S \"FLATTER IS BETTER\"\n",
    "# https://github.com/masoudmansoury/percentile/blob/master/percentile.py\n",
    "\n",
    "class Percentile:\n",
    "    def __init__(self):\n",
    "        # self.fold = 1\n",
    "\n",
    "        self.transformation_type = \"user\" # possible values: user and item\n",
    "        self.percentile_position = \"first\" # possible values: first, floormedian, ceilmedian, last, and zscore\n",
    "        self.percentile_smoothed = True # possible values: True and False\n",
    "        self.percentile_smoothedparam = 5 # a paramter related to smoothing. It's an integer value and will be applied when self.smoothed is True\n",
    "        self.input = \"../datasets/filter_data/utility.txt\"\n",
    "        self.output = \"../datasets/filter_data/percentile.txt\"\n",
    "        self.dictionary = {}\n",
    "        self.rating_scale = []\n",
    "\n",
    "    # creating user/item profile, it would be like <userid/itemid, [rate1, rate2, rate3, ...]>\n",
    "    def create_profile(self):\n",
    "        with open(self.input) as f:\n",
    "            for line in f:\n",
    "                data = line.split(\"\\t\")\n",
    "                if self.transformation_type is \"user\":\n",
    "                    per.dictionary.setdefault(data[0].rstrip(), []).append(data[2].rstrip())\n",
    "                elif self.transformation_type is \"item\":\n",
    "                    per.dictionary.setdefault(data[1].rstrip(), []).append(data[2].rstrip())\n",
    "\n",
    "    # percentile computation for first index\n",
    "    def compute_firstindex_percentile(self):\n",
    "        self.delete_outputfile()\n",
    "        out = open(self.output,\"w\")\n",
    "        with open(self.input) as f:\n",
    "            for line in f:\n",
    "                data = line.split(\"\\t\")\n",
    "                # sorting the values correspoding to the key e.g., ratings\n",
    "                i = 0\n",
    "                if self.transformation_type is \"item\":\n",
    "                    i = 1\n",
    "                values = sorted(map(float,list(per.dictionary.get(data[i].rstrip()))))\n",
    "                # find the index of the first occurrence of repeated numbers e.g., repeated ratings\n",
    "                position = values.index(float(data[2].rstrip())) + 1\n",
    "                # percentile computation\n",
    "                p = 0.0\n",
    "                if(self.percentile_smoothed):\n",
    "                    p = 100 * float(position + ((self.getRatePosition(float(data[2].rstrip())) -1 ) * self.percentile_smoothedparam)) / (len(values) + 1 + (len(self.rating_scale) * self.percentile_smoothedparam))\n",
    "                else:\n",
    "                    p = float(100 * position) / float(len(values) + 1)\n",
    "                out.write(data[0].rstrip() + '\\t' + data[1].rstrip() + '\\t' + str(p) + '\\n')\n",
    "\n",
    "        out.close()\n",
    "\n",
    "    # percentile computation for floor median index\n",
    "    def compute_floormedianindex_percentile(self):\n",
    "        self.delete_outputfile()\n",
    "        out = open(self.output,\"w\")\n",
    "        with open(self.input) as f:\n",
    "            for line in f:\n",
    "                data = line.split(\"\\t\")\n",
    "                # sorting the values correspoding to the key e.g., ratings\n",
    "                i = 0\n",
    "                if self.transformation_type is \"item\":\n",
    "                    i = 1\n",
    "                values = sorted(map(float,list(per.dictionary.get(data[i].rstrip()))))\n",
    "                # find the index of the floor median occurrence of repeated numbers e.g., repeated ratings\n",
    "                last = len(values) - 1 - values[::-1].index(float(data[2].rstrip())) + 1\n",
    "                first = values.index(float(data[2].rstrip())) + 1\n",
    "                position = int(math.floor(float(last+first))/2)\n",
    "                # percentile computation\n",
    "                p = 0.0\n",
    "                if(self.percentile_smoothed):\n",
    "                    p = 100 * float(position + ((self.getRatePosition(float(data[2].rstrip()))-1) * self.percentile_smoothedparam) + (int(math.floor(float(self.percentile_smoothedparam/2))))) / (len(values) + 1 + (len(self.rating_scale) * self.percentile_smoothedparam))\n",
    "                else:\n",
    "                    p = float(100 * position) / float(len(values) + 1)\n",
    "                out.write(data[0].rstrip() + '\\t' + data[1].rstrip() + '\\t' + str(p) + '\\n')\n",
    "\n",
    "        out.close()\n",
    "\n",
    "    # percentile computation for ceil median index\n",
    "    def compute_ceilmedianindex_percentile(self):\n",
    "        self.delete_outputfile()\n",
    "        out = open(self.output,\"w\")\n",
    "        with open(self.input) as f:\n",
    "            for line in f:\n",
    "                data = line.split(\"\\t\")\n",
    "                # sorting the values correspoding to the key e.g., ratings\n",
    "                i = 0\n",
    "                if self.transformation_type is \"item\":\n",
    "                    i = 1\n",
    "                values = sorted(map(float,list(per.dictionary.get(data[i].rstrip()))))\n",
    "                # find the index of the ceil median occurrence of repeated numbers e.g., repeated ratings\n",
    "                last = len(values) - 1 - values[::-1].index(float(data[2].rstrip())) + 2\n",
    "                first = values.index(float(data[2].rstrip())) + 1\n",
    "                position = int(math.ceil(float(last+first))/2)\n",
    "                # percentile computation\n",
    "                p = 0.0\n",
    "                if(self.percentile_smoothed):\n",
    "                    p = 100 * float(position + ((self.getRatePosition(float(data[2].rstrip()))-1) * self.percentile_smoothedparam) + (int(math.ceil(float(self.percentile_smoothedparam/2))))) / (len(values) + 1 + (len(self.rating_scale) * self.percentile_smoothedparam))\n",
    "                else:\n",
    "                    p = float(100 * position) / float(len(values) + 1)\n",
    "                out.write(data[0].rstrip() + '\\t' + data[1].rstrip() + '\\t' + str(p) + '\\n')\n",
    "\n",
    "        out.close()\n",
    "\n",
    "    # percentile computation for last index\n",
    "    def compute_lastindex_percentile(self):\n",
    "        self.delete_outputfile()\n",
    "        out = open(self.output,\"w\")\n",
    "        with open(self.input) as f:\n",
    "            for line in f:\n",
    "                data = line.split(\"\\t\")\n",
    "                # sorting the values correspoding to the key e.g., ratings\n",
    "                i = 0\n",
    "                if self.transformation_type is \"item\":\n",
    "                    i = 1\n",
    "                values = sorted(map(float,list(per.dictionary.get(data[i].rstrip()))))\n",
    "                # find the index of the last occurrence of repeated numbers e.g., repeated ratings\n",
    "                position = len(values) - 1 - values[::-1].index(float(data[2].rstrip())) + 1\n",
    "                # percentile computation\n",
    "                p = 0.0\n",
    "                if(self.percentile_smoothed):\n",
    "                    p = 100 * float(position + (self.getRatePosition(float(data[2].rstrip())) * self.percentile_smoothedparam)) / (len(values) + 1 + (len(self.rating_scale) * self.percentile_smoothedparam))\n",
    "                else:\n",
    "                    p = float(100 * position) / float(len(values) + 1)\n",
    "                out.write(data[0].rstrip() + '\\t' + data[1].rstrip() + '\\t' + str(p) + '\\n')\n",
    "\n",
    "        out.close()\n",
    "\n",
    "    def compute_zscore(self):\n",
    "        self.delete_outputfile()\n",
    "        out = open(self.output,\"w\")\n",
    "        with open(self.input) as f:\n",
    "            for line in f:\n",
    "                data = line.split(\"\\t\")\n",
    "                # sorting the values correspoding to the key e.g., ratings\n",
    "                i = 0\n",
    "                if self.transformation_type is \"item\":\n",
    "                    i = 1\n",
    "                values = sorted(map(float,list(per.dictionary.get(data[i].rstrip()))))\n",
    "                # compute mean of rating profile\n",
    "                mean = float(sum(values)) / max(len(values),1)\n",
    "                # compute standard deviation of rating profile\n",
    "                nominator = 0.0\n",
    "                for j in range(len(values)):\n",
    "                    nominator += math.pow(float(values[j]-mean),2)\n",
    "                std = math.sqrt(nominator/float(len(values)))\n",
    "                # zscore computation\n",
    "                z = 0.0\n",
    "                if(std != 0.0):\n",
    "                    z = float(float(data[2].rstrip())-mean)/std\n",
    "                out.write(data[0].rstrip() + '\\t' + data[1].rstrip() + '\\t' + str(z) + '\\n')\n",
    "\n",
    "        out.close()\n",
    "\n",
    "    def transform(self):\n",
    "        if(self.percentile_position is \"first\"):\n",
    "            self.compute_firstindex_percentile()\n",
    "        elif (self.percentile_position is \"floormedian\"):\n",
    "            self.compute_floormedianindex_percentile()\n",
    "        elif (self.percentile_position is \"ceilmedian\"):\n",
    "            self.compute_ceilmedianindex_percentile()\n",
    "        elif (self.percentile_position is \"last\"):\n",
    "            self.compute_lastindex_percentile()\n",
    "        elif (self.percentile_position is \"zscore\"):\n",
    "            self.compute_zscore()\n",
    "\n",
    "    # delete output file if exists\n",
    "    def delete_outputfile(self):\n",
    "        try:\n",
    "            if os.path.exists(self.output):\n",
    "                os.remove(self.output)\n",
    "        except OSError:\n",
    "            print(\"error\")\n",
    "            pass\n",
    "\n",
    "    def getRatePosition(self, rate):\n",
    "        for i in range(len(self.rating_scale)):\n",
    "            if rate == self.rating_scale[i]:\n",
    "                return i + 1\n",
    "        return 0\n",
    "\n",
    "    def create_ratingscale(self):\n",
    "        with open(self.input) as f:\n",
    "            for line in f:\n",
    "                rate = line.split(\"\\t\")[2]\n",
    "                if(float(rate) not in self.rating_scale):\n",
    "                    self.rating_scale.append(float(rate))\n",
    "        self.rating_scale.sort()"
   ]
  },
  {
   "cell_type": "code",
   "execution_count": 217,
   "metadata": {
    "ExecuteTime": {
     "end_time": "2023-10-08T21:03:13.671730700Z",
     "start_time": "2023-10-08T21:03:12.557782400Z"
    }
   },
   "outputs": [],
   "source": [
    "# Convert utility matrix to percentile-based ratings\n",
    "per = Percentile()\n",
    "per.create_ratingscale()\n",
    "per.create_profile()\n",
    "per.transform()"
   ]
  },
  {
   "cell_type": "code",
   "execution_count": 218,
   "metadata": {
    "ExecuteTime": {
     "end_time": "2023-10-08T21:03:13.687742Z",
     "start_time": "2023-10-08T21:03:13.671730700Z"
    }
   },
   "outputs": [],
   "source": [
    "percentile_df = pd.read_csv('../datasets/comunidades/percentile.txt',\n",
    "                            sep='\\t',\n",
    "                            names=utility_3.columns.values)"
   ]
  },
  {
   "cell_type": "code",
   "execution_count": 219,
   "metadata": {
    "ExecuteTime": {
     "end_time": "2023-10-08T21:03:13.703408700Z",
     "start_time": "2023-10-08T21:03:13.687742Z"
    }
   },
   "outputs": [
    {
     "data": {
      "text/plain": "                  user_id             business_id  review_stars\n0  Po4BCvGrKtP_OfZwMUp87g  5Ce3lZksYVkCbrihqylVHQ     55.172414\n1  Po4BCvGrKtP_OfZwMUp87g  p7tSGmWpFV246aYhwODgBg     75.862069\n2  Po4BCvGrKtP_OfZwMUp87g  KZA_HEOsBXf8dtrk9rqNJA     75.862069\n3  lYu0e98ZSNeXIjcLpkjhhA  5Ce3lZksYVkCbrihqylVHQ     34.375000\n4  lYu0e98ZSNeXIjcLpkjhhA  RHdEScVIAQ7xzFFMiQEnAQ     71.875000",
      "text/html": "<div>\n<style scoped>\n    .dataframe tbody tr th:only-of-type {\n        vertical-align: middle;\n    }\n\n    .dataframe tbody tr th {\n        vertical-align: top;\n    }\n\n    .dataframe thead th {\n        text-align: right;\n    }\n</style>\n<table border=\"1\" class=\"dataframe\">\n  <thead>\n    <tr style=\"text-align: right;\">\n      <th></th>\n      <th>user_id</th>\n      <th>business_id</th>\n      <th>review_stars</th>\n    </tr>\n  </thead>\n  <tbody>\n    <tr>\n      <th>0</th>\n      <td>Po4BCvGrKtP_OfZwMUp87g</td>\n      <td>5Ce3lZksYVkCbrihqylVHQ</td>\n      <td>55.172414</td>\n    </tr>\n    <tr>\n      <th>1</th>\n      <td>Po4BCvGrKtP_OfZwMUp87g</td>\n      <td>p7tSGmWpFV246aYhwODgBg</td>\n      <td>75.862069</td>\n    </tr>\n    <tr>\n      <th>2</th>\n      <td>Po4BCvGrKtP_OfZwMUp87g</td>\n      <td>KZA_HEOsBXf8dtrk9rqNJA</td>\n      <td>75.862069</td>\n    </tr>\n    <tr>\n      <th>3</th>\n      <td>lYu0e98ZSNeXIjcLpkjhhA</td>\n      <td>5Ce3lZksYVkCbrihqylVHQ</td>\n      <td>34.375000</td>\n    </tr>\n    <tr>\n      <th>4</th>\n      <td>lYu0e98ZSNeXIjcLpkjhhA</td>\n      <td>RHdEScVIAQ7xzFFMiQEnAQ</td>\n      <td>71.875000</td>\n    </tr>\n  </tbody>\n</table>\n</div>"
     },
     "execution_count": 219,
     "metadata": {},
     "output_type": "execute_result"
    }
   ],
   "source": [
    "percentile_df.head()"
   ]
  },
  {
   "cell_type": "code",
   "execution_count": 220,
   "metadata": {
    "ExecuteTime": {
     "end_time": "2023-10-08T21:03:13.765873800Z",
     "start_time": "2023-10-08T21:03:13.703408700Z"
    }
   },
   "outputs": [
    {
     "data": {
      "text/plain": "(2.380952380952381, 83.33333333333333)"
     },
     "execution_count": 220,
     "metadata": {},
     "output_type": "execute_result"
    }
   ],
   "source": [
    "percentile_df['review_stars'].min(), percentile_df['review_stars'].max()"
   ]
  },
  {
   "cell_type": "code",
   "execution_count": 221,
   "metadata": {
    "ExecuteTime": {
     "end_time": "2023-10-08T21:03:13.908785600Z",
     "start_time": "2023-10-08T21:03:13.719034200Z"
    }
   },
   "outputs": [
    {
     "data": {
      "text/plain": "<AxesSubplot:>"
     },
     "execution_count": 221,
     "metadata": {},
     "output_type": "execute_result"
    },
    {
     "data": {
      "text/plain": "<Figure size 640x480 with 1 Axes>",
      "image/png": "[encoded data removed]"
     },
     "metadata": {},
     "output_type": "display_data"
    }
   ],
   "source": [
    "percentile_df['review_stars'].hist(bins=25)"
   ]
  },
  {
   "cell_type": "code",
   "execution_count": 222,
   "metadata": {
    "ExecuteTime": {
     "end_time": "2023-10-08T21:03:13.923447800Z",
     "start_time": "2023-10-08T21:03:13.893153900Z"
    }
   },
   "outputs": [],
   "source": [
    "def get_top_n(predictions, n=10):\n",
    "    '''Return the top-N recommendation for each user from a set of predictions.\n",
    "\n",
    "    Args:\n",
    "        predictions(list of Prediction objects): The list of predictions, as\n",
    "            returned by the test method of an algorithm.\n",
    "        n(int): The number of recommendation to output for each user. Default\n",
    "            is 10.\n",
    "\n",
    "    Returns:\n",
    "    A dict where keys are user (raw) ids and values are lists of tuples:\n",
    "        [(raw item id, rating estimation), ...] of size n.\n",
    "    '''\n",
    "\n",
    "    # First map the predictions to each user.\n",
    "    top_n = defaultdict(list)\n",
    "    for uid, iid, true_r, est, _ in predictions:\n",
    "        top_n[uid].append((iid, est))\n",
    "\n",
    "    # Then sort the predictions for each user and retrieve the k highest ones.\n",
    "    for uid, user_ratings in top_n.items():\n",
    "        user_ratings.sort(key=lambda x: x[1], reverse=True)\n",
    "        top_n[uid] = user_ratings[:n]\n",
    "\n",
    "    return top_n"
   ]
  },
  {
   "cell_type": "code",
   "execution_count": 223,
   "metadata": {
    "ExecuteTime": {
     "end_time": "2023-10-08T21:03:14.002140200Z",
     "start_time": "2023-10-08T21:03:13.908785600Z"
    }
   },
   "outputs": [
    {
     "name": "stdout",
     "output_type": "stream",
     "text": [
      "MAE:  0.7137\n",
      "0.7136654377481958\n",
      "MSE: 0.8179\n",
      "0.8179163145852841\n",
      "RMSE: 0.9044\n",
      "0.9043872591900464\n"
     ]
    }
   ],
   "source": [
    "# SVD \n",
    "svd = SVD(n_factors=20,\n",
    "              n_epochs=25,\n",
    "              lr_all=0.006,\n",
    "              reg_all=0.08)\n",
    "svdpp.fit(trainset_3)\n",
    "predictions = svdpp.test(testset_3)\n",
    "print(accuracy.mae(predictions))\n",
    "print(accuracy.mse(predictions))\n",
    "print(accuracy.rmse(predictions))"
   ]
  },
  {
   "cell_type": "code",
   "execution_count": 224,
   "metadata": {
    "ExecuteTime": {
     "end_time": "2023-10-08T21:03:14.236275300Z",
     "start_time": "2023-10-08T21:03:14.002140200Z"
    }
   },
   "outputs": [],
   "source": [
    "# Place predictions into df\n",
    "predictions_df = pd.DataFrame(columns=['uid', 'iid', 'true', 'predicted'])\n",
    "i = 0\n",
    "for uid, iid, true_r, est, _ in predictions:\n",
    "    predictions_df.loc[i] = [uid, iid, true_r, est]\n",
    "    i += 1"
   ]
  },
  {
   "cell_type": "code",
   "execution_count": 225,
   "metadata": {
    "ExecuteTime": {
     "end_time": "2023-10-08T21:03:14.236275300Z",
     "start_time": "2023-10-08T21:03:14.220644400Z"
    }
   },
   "outputs": [
    {
     "data": {
      "text/plain": "(191, 4)"
     },
     "execution_count": 225,
     "metadata": {},
     "output_type": "execute_result"
    }
   ],
   "source": [
    "predictions_df.shape"
   ]
  },
  {
   "cell_type": "code",
   "execution_count": 226,
   "metadata": {
    "ExecuteTime": {
     "end_time": "2023-10-08T21:03:14.283538200Z",
     "start_time": "2023-10-08T21:03:14.236275300Z"
    }
   },
   "outputs": [],
   "source": [
    "# Look at prediction distributions in relation to true ratings\n",
    "predictions_df_1 = predictions_df[predictions_df['true'] == 1]\n",
    "predictions_df_2 = predictions_df[predictions_df['true'] == 2]\n",
    "predictions_df_3 = predictions_df[predictions_df['true'] == 3]\n",
    "predictions_df_4 = predictions_df[predictions_df['true'] == 4]\n",
    "predictions_df_5 = predictions_df[predictions_df['true'] == 5]"
   ]
  },
  {
   "cell_type": "code",
   "execution_count": 227,
   "metadata": {
    "ExecuteTime": {
     "end_time": "2023-10-08T21:03:14.299575300Z",
     "start_time": "2023-10-08T21:03:14.251913600Z"
    }
   },
   "outputs": [
    {
     "data": {
      "text/plain": "(3.446168974293263, 0.5802352605899967)"
     },
     "execution_count": 227,
     "metadata": {},
     "output_type": "execute_result"
    }
   ],
   "source": [
    "predictions_df_1['predicted'].mean(), predictions_df_1['predicted'].std()"
   ]
  },
  {
   "cell_type": "code",
   "execution_count": 228,
   "metadata": {
    "ExecuteTime": {
     "end_time": "2023-10-08T21:03:14.315200500Z",
     "start_time": "2023-10-08T21:03:14.267526400Z"
    }
   },
   "outputs": [
    {
     "data": {
      "text/plain": "(3.736170094708582, 0.3952866002047123)"
     },
     "execution_count": 228,
     "metadata": {},
     "output_type": "execute_result"
    }
   ],
   "source": [
    "predictions_df_2['predicted'].mean(), predictions_df_2['predicted'].std()"
   ]
  },
  {
   "cell_type": "code",
   "execution_count": 229,
   "metadata": {
    "ExecuteTime": {
     "end_time": "2023-10-08T21:03:14.330825600Z",
     "start_time": "2023-10-08T21:03:14.283940200Z"
    }
   },
   "outputs": [
    {
     "data": {
      "text/plain": "(3.923853759046357, 0.3603478734871095)"
     },
     "execution_count": 229,
     "metadata": {},
     "output_type": "execute_result"
    }
   ],
   "source": [
    "predictions_df_3['predicted'].mean(), predictions_df_3['predicted'].std()"
   ]
  },
  {
   "cell_type": "code",
   "execution_count": 230,
   "metadata": {
    "ExecuteTime": {
     "end_time": "2023-10-08T21:03:14.346451800Z",
     "start_time": "2023-10-08T21:03:14.299575300Z"
    }
   },
   "outputs": [
    {
     "data": {
      "text/plain": "(4.136846791671505, 0.37058921350111307)"
     },
     "execution_count": 230,
     "metadata": {},
     "output_type": "execute_result"
    }
   ],
   "source": [
    "predictions_df_4['predicted'].mean(), predictions_df_4['predicted'].std()"
   ]
  },
  {
   "cell_type": "code",
   "execution_count": 231,
   "metadata": {
    "ExecuteTime": {
     "end_time": "2023-10-08T21:03:14.381243Z",
     "start_time": "2023-10-08T21:03:14.315200500Z"
    }
   },
   "outputs": [
    {
     "data": {
      "text/plain": "(4.30125260742414, 0.3253065002398131)"
     },
     "execution_count": 231,
     "metadata": {},
     "output_type": "execute_result"
    }
   ],
   "source": [
    "predictions_df_5['predicted'].mean(), predictions_df_5['predicted'].std()"
   ]
  },
  {
   "cell_type": "code",
   "execution_count": 232,
   "metadata": {
    "ExecuteTime": {
     "end_time": "2023-10-08T21:03:14.488041700Z",
     "start_time": "2023-10-08T21:03:14.330825600Z"
    }
   },
   "outputs": [
    {
     "data": {
      "text/plain": "<AxesSubplot:>"
     },
     "execution_count": 232,
     "metadata": {},
     "output_type": "execute_result"
    },
    {
     "data": {
      "text/plain": "<Figure size 640x480 with 1 Axes>",
      "image/png": "[encoded data removed]"
     },
     "metadata": {},
     "output_type": "display_data"
    }
   ],
   "source": [
    "predictions_df_1['predicted'].hist(bins=20)"
   ]
  },
  {
   "cell_type": "code",
   "execution_count": 233,
   "metadata": {
    "ExecuteTime": {
     "end_time": "2023-10-08T21:03:14.707223Z",
     "start_time": "2023-10-08T21:03:14.488041700Z"
    }
   },
   "outputs": [
    {
     "data": {
      "text/plain": "<AxesSubplot:>"
     },
     "execution_count": 233,
     "metadata": {},
     "output_type": "execute_result"
    },
    {
     "data": {
      "text/plain": "<Figure size 640x480 with 1 Axes>",
      "image/png": "[encoded data removed]"
     },
     "metadata": {},
     "output_type": "display_data"
    }
   ],
   "source": [
    "predictions_df_2['predicted'].hist(bins=20)"
   ]
  },
  {
   "cell_type": "code",
   "execution_count": 234,
   "metadata": {
    "ExecuteTime": {
     "end_time": "2023-10-08T21:03:14.867889600Z",
     "start_time": "2023-10-08T21:03:14.707223Z"
    }
   },
   "outputs": [
    {
     "data": {
      "text/plain": "<AxesSubplot:>"
     },
     "execution_count": 234,
     "metadata": {},
     "output_type": "execute_result"
    },
    {
     "data": {
      "text/plain": "<Figure size 640x480 with 1 Axes>",
      "image/png": "[encoded data removed]"
     },
     "metadata": {},
     "output_type": "display_data"
    }
   ],
   "source": [
    "predictions_df_3['predicted'].hist(bins=20)"
   ]
  },
  {
   "cell_type": "code",
   "execution_count": 235,
   "metadata": {
    "ExecuteTime": {
     "end_time": "2023-10-08T21:03:15.006399100Z",
     "start_time": "2023-10-08T21:03:14.864716600Z"
    }
   },
   "outputs": [
    {
     "data": {
      "text/plain": "<AxesSubplot:>"
     },
     "execution_count": 235,
     "metadata": {},
     "output_type": "execute_result"
    },
    {
     "data": {
      "text/plain": "<Figure size 640x480 with 1 Axes>",
      "image/png": "[encoded data removed]"
     },
     "metadata": {},
     "output_type": "display_data"
    }
   ],
   "source": [
    "predictions_df_4['predicted'].hist(bins=20)"
   ]
  },
  {
   "cell_type": "code",
   "execution_count": 236,
   "metadata": {
    "ExecuteTime": {
     "end_time": "2023-10-08T21:03:15.147491800Z",
     "start_time": "2023-10-08T21:03:15.006399100Z"
    }
   },
   "outputs": [
    {
     "data": {
      "text/plain": "<AxesSubplot:>"
     },
     "execution_count": 236,
     "metadata": {},
     "output_type": "execute_result"
    },
    {
     "data": {
      "text/plain": "<Figure size 640x480 with 1 Axes>",
      "image/png": "[encoded data removed]"
     },
     "metadata": {},
     "output_type": "display_data"
    }
   ],
   "source": [
    "predictions_df_5['predicted'].hist(bins=20)"
   ]
  },
  {
   "cell_type": "code",
   "execution_count": 237,
   "metadata": {
    "ExecuteTime": {
     "end_time": "2023-10-08T21:03:15.210467Z",
     "start_time": "2023-10-08T21:03:15.147491800Z"
    }
   },
   "outputs": [
    {
     "name": "stdout",
     "output_type": "stream",
     "text": [
      "Po4BCvGrKtP_OfZwMUp87g ['eGi7CE2YaN6YMiGyXNi8XQ', 'RIQ5ALCz1-oi98ViCO7kgQ', 'a_oRfgkNFnulTada--P_Tg', 'CJoO4HYD0tZRXlZqA04wmw', 'RHdEScVIAQ7xzFFMiQEnAQ', 'o3woQWQ-0HxFftItIEeNdw', 'AL89lQXFfE0HpbTvpxuSkA', 'XyGRDrgCK0z4CiA6nhwEaw', 'xwKYBPO0ByGlkvNcr8FdqQ', 'jZ1rUspubgkuZjwKJMhEEw']\n",
      "lYu0e98ZSNeXIjcLpkjhhA ['eGi7CE2YaN6YMiGyXNi8XQ', 'RIQ5ALCz1-oi98ViCO7kgQ', 'CJoO4HYD0tZRXlZqA04wmw', 'p7tSGmWpFV246aYhwODgBg', 'o3woQWQ-0HxFftItIEeNdw', 'XyGRDrgCK0z4CiA6nhwEaw', 'AL89lQXFfE0HpbTvpxuSkA', 'dlOTtFJbcyN1m5PR2IDxOg', 'xwKYBPO0ByGlkvNcr8FdqQ', 'jZ1rUspubgkuZjwKJMhEEw']\n",
      "mNMkTmGkVeA-Hq2FwAO_LQ ['eGi7CE2YaN6YMiGyXNi8XQ', 'RIQ5ALCz1-oi98ViCO7kgQ', 'a_oRfgkNFnulTada--P_Tg', 'RHdEScVIAQ7xzFFMiQEnAQ', 'CJoO4HYD0tZRXlZqA04wmw', 'p7tSGmWpFV246aYhwODgBg', 'AL89lQXFfE0HpbTvpxuSkA', 'o3woQWQ-0HxFftItIEeNdw', 'XyGRDrgCK0z4CiA6nhwEaw', 'dlOTtFJbcyN1m5PR2IDxOg']\n",
      "Y7ns5C9DSYNBJDI0GVv3aw ['eGi7CE2YaN6YMiGyXNi8XQ', 'RIQ5ALCz1-oi98ViCO7kgQ', 'a_oRfgkNFnulTada--P_Tg', 'CJoO4HYD0tZRXlZqA04wmw', 'XyGRDrgCK0z4CiA6nhwEaw', 'p7tSGmWpFV246aYhwODgBg', 'AL89lQXFfE0HpbTvpxuSkA', 'o3woQWQ-0HxFftItIEeNdw', 'dlOTtFJbcyN1m5PR2IDxOg', '5CX7rtnwYnmqFCihOyWivg']\n",
      "glv7NwPTYMEuq90lQhhnlw ['eGi7CE2YaN6YMiGyXNi8XQ', 'a_oRfgkNFnulTada--P_Tg', 'RIQ5ALCz1-oi98ViCO7kgQ', 'CJoO4HYD0tZRXlZqA04wmw', 'o3woQWQ-0HxFftItIEeNdw', 'AL89lQXFfE0HpbTvpxuSkA', 'RHdEScVIAQ7xzFFMiQEnAQ', 'p7tSGmWpFV246aYhwODgBg', 'dlOTtFJbcyN1m5PR2IDxOg', 'jZ1rUspubgkuZjwKJMhEEw']\n",
      "ig0NAzZ9J_6cF0gChtvJuA ['eGi7CE2YaN6YMiGyXNi8XQ', 'RIQ5ALCz1-oi98ViCO7kgQ', 'a_oRfgkNFnulTada--P_Tg', 'RHdEScVIAQ7xzFFMiQEnAQ', 'CJoO4HYD0tZRXlZqA04wmw', 'p7tSGmWpFV246aYhwODgBg', 'o3woQWQ-0HxFftItIEeNdw', 'AL89lQXFfE0HpbTvpxuSkA', 'XyGRDrgCK0z4CiA6nhwEaw', 'dlOTtFJbcyN1m5PR2IDxOg']\n",
      "_Y28vILK64Nh5FpKom-GHA ['eGi7CE2YaN6YMiGyXNi8XQ', 'RIQ5ALCz1-oi98ViCO7kgQ', 'a_oRfgkNFnulTada--P_Tg', 'o3woQWQ-0HxFftItIEeNdw', 'RHdEScVIAQ7xzFFMiQEnAQ', 'CJoO4HYD0tZRXlZqA04wmw', 'p7tSGmWpFV246aYhwODgBg', 'XyGRDrgCK0z4CiA6nhwEaw', 'AL89lQXFfE0HpbTvpxuSkA', 'xwKYBPO0ByGlkvNcr8FdqQ']\n",
      "ZZPaQmmnEiL1fyN-4qtvJg ['eGi7CE2YaN6YMiGyXNi8XQ', 'RHdEScVIAQ7xzFFMiQEnAQ', 'p7tSGmWpFV246aYhwODgBg', 'a_oRfgkNFnulTada--P_Tg', 'o3woQWQ-0HxFftItIEeNdw', 'AL89lQXFfE0HpbTvpxuSkA', 'XyGRDrgCK0z4CiA6nhwEaw', 'jZ1rUspubgkuZjwKJMhEEw', 'xwKYBPO0ByGlkvNcr8FdqQ', '5CX7rtnwYnmqFCihOyWivg']\n",
      "PeYXmSr3Yx-xQ3ohKJQo5A ['eGi7CE2YaN6YMiGyXNi8XQ', 'a_oRfgkNFnulTada--P_Tg', 'RIQ5ALCz1-oi98ViCO7kgQ', 'RHdEScVIAQ7xzFFMiQEnAQ', 'CJoO4HYD0tZRXlZqA04wmw', 'AL89lQXFfE0HpbTvpxuSkA', 'XyGRDrgCK0z4CiA6nhwEaw', 'o3woQWQ-0HxFftItIEeNdw', 'p7tSGmWpFV246aYhwODgBg', 'dlOTtFJbcyN1m5PR2IDxOg']\n",
      "TmQ8Y7B4DfMAJucfG9tvPg ['eGi7CE2YaN6YMiGyXNi8XQ', 'a_oRfgkNFnulTada--P_Tg', 'RIQ5ALCz1-oi98ViCO7kgQ', 'RHdEScVIAQ7xzFFMiQEnAQ', 'p7tSGmWpFV246aYhwODgBg', 'CJoO4HYD0tZRXlZqA04wmw', 'AL89lQXFfE0HpbTvpxuSkA', 'o3woQWQ-0HxFftItIEeNdw', 'XyGRDrgCK0z4CiA6nhwEaw', 'dlOTtFJbcyN1m5PR2IDxOg']\n",
      "ABaDXhzUa0UFFB9YSrbGhQ ['eGi7CE2YaN6YMiGyXNi8XQ', 'a_oRfgkNFnulTada--P_Tg', 'RIQ5ALCz1-oi98ViCO7kgQ', 'CJoO4HYD0tZRXlZqA04wmw', 'XyGRDrgCK0z4CiA6nhwEaw', 'p7tSGmWpFV246aYhwODgBg', 'o3woQWQ-0HxFftItIEeNdw', 'dlOTtFJbcyN1m5PR2IDxOg', 'xwKYBPO0ByGlkvNcr8FdqQ', 'jZ1rUspubgkuZjwKJMhEEw']\n",
      "HjCfLjX6pbL-RSVuxRnHGA ['eGi7CE2YaN6YMiGyXNi8XQ', 'a_oRfgkNFnulTada--P_Tg', 'p7tSGmWpFV246aYhwODgBg', 'RHdEScVIAQ7xzFFMiQEnAQ', 'CJoO4HYD0tZRXlZqA04wmw', 'AL89lQXFfE0HpbTvpxuSkA', 'o3woQWQ-0HxFftItIEeNdw', 'dlOTtFJbcyN1m5PR2IDxOg', 'XyGRDrgCK0z4CiA6nhwEaw', 'jZ1rUspubgkuZjwKJMhEEw']\n",
      "Poipwd6qlVQCEbutr6gxaA ['eGi7CE2YaN6YMiGyXNi8XQ', 'RHdEScVIAQ7xzFFMiQEnAQ', 'RIQ5ALCz1-oi98ViCO7kgQ', 'a_oRfgkNFnulTada--P_Tg', 'CJoO4HYD0tZRXlZqA04wmw', 'p7tSGmWpFV246aYhwODgBg', 'o3woQWQ-0HxFftItIEeNdw', 'AL89lQXFfE0HpbTvpxuSkA', 'XyGRDrgCK0z4CiA6nhwEaw', 'jZ1rUspubgkuZjwKJMhEEw']\n",
      "IRc32xCXlHDQjezcG5jj2Q ['eGi7CE2YaN6YMiGyXNi8XQ', 'a_oRfgkNFnulTada--P_Tg', 'RIQ5ALCz1-oi98ViCO7kgQ', 'RHdEScVIAQ7xzFFMiQEnAQ', 'p7tSGmWpFV246aYhwODgBg', 'o3woQWQ-0HxFftItIEeNdw', 'AL89lQXFfE0HpbTvpxuSkA', 'dlOTtFJbcyN1m5PR2IDxOg', 'xwKYBPO0ByGlkvNcr8FdqQ', 'XyGRDrgCK0z4CiA6nhwEaw']\n",
      "8eC6EOsLTmfVk_35t3ZQqg ['eGi7CE2YaN6YMiGyXNi8XQ', 'RHdEScVIAQ7xzFFMiQEnAQ', 'a_oRfgkNFnulTada--P_Tg', 'o3woQWQ-0HxFftItIEeNdw', 'AL89lQXFfE0HpbTvpxuSkA', 'p7tSGmWpFV246aYhwODgBg', 'jZ1rUspubgkuZjwKJMhEEw', 'xwKYBPO0ByGlkvNcr8FdqQ', 'XyGRDrgCK0z4CiA6nhwEaw', 'dlOTtFJbcyN1m5PR2IDxOg']\n",
      "0yrF14nWVAFeI0fG29a63g ['eGi7CE2YaN6YMiGyXNi8XQ', 'RIQ5ALCz1-oi98ViCO7kgQ', 'CJoO4HYD0tZRXlZqA04wmw', 'RHdEScVIAQ7xzFFMiQEnAQ', 'o3woQWQ-0HxFftItIEeNdw', 'p7tSGmWpFV246aYhwODgBg', 'XyGRDrgCK0z4CiA6nhwEaw', 'jZ1rUspubgkuZjwKJMhEEw', '5CX7rtnwYnmqFCihOyWivg', 'dlOTtFJbcyN1m5PR2IDxOg']\n",
      "uyzkjkddBxkNO6YJvcUuwQ ['eGi7CE2YaN6YMiGyXNi8XQ', 'RIQ5ALCz1-oi98ViCO7kgQ', 'CJoO4HYD0tZRXlZqA04wmw', 'a_oRfgkNFnulTada--P_Tg', 'RHdEScVIAQ7xzFFMiQEnAQ', 'XyGRDrgCK0z4CiA6nhwEaw', 'AL89lQXFfE0HpbTvpxuSkA', 'p7tSGmWpFV246aYhwODgBg', 'o3woQWQ-0HxFftItIEeNdw', 'dlOTtFJbcyN1m5PR2IDxOg']\n",
      "Mu5xg6ZESWCp3rnryAz56Q ['eGi7CE2YaN6YMiGyXNi8XQ', 'CJoO4HYD0tZRXlZqA04wmw', 'RHdEScVIAQ7xzFFMiQEnAQ', 'o3woQWQ-0HxFftItIEeNdw', 'dlOTtFJbcyN1m5PR2IDxOg', 'XyGRDrgCK0z4CiA6nhwEaw', 'AL89lQXFfE0HpbTvpxuSkA', 'jZ1rUspubgkuZjwKJMhEEw', 'xwKYBPO0ByGlkvNcr8FdqQ', '5CX7rtnwYnmqFCihOyWivg']\n",
      "-WKOdr26Clxm5pIZ_HLSSA ['eGi7CE2YaN6YMiGyXNi8XQ', 'a_oRfgkNFnulTada--P_Tg', 'RIQ5ALCz1-oi98ViCO7kgQ', 'CJoO4HYD0tZRXlZqA04wmw', 'p7tSGmWpFV246aYhwODgBg', 'o3woQWQ-0HxFftItIEeNdw', 'AL89lQXFfE0HpbTvpxuSkA', 'KZA_HEOsBXf8dtrk9rqNJA', 'dlOTtFJbcyN1m5PR2IDxOg', 'jZ1rUspubgkuZjwKJMhEEw']\n",
      "luoidj4uPysXg2rbQCEcjQ ['eGi7CE2YaN6YMiGyXNi8XQ', 'a_oRfgkNFnulTada--P_Tg', 'RHdEScVIAQ7xzFFMiQEnAQ', 'CJoO4HYD0tZRXlZqA04wmw', 'o3woQWQ-0HxFftItIEeNdw', 'XyGRDrgCK0z4CiA6nhwEaw', 'AL89lQXFfE0HpbTvpxuSkA', 'p7tSGmWpFV246aYhwODgBg', 'dlOTtFJbcyN1m5PR2IDxOg', 'xwKYBPO0ByGlkvNcr8FdqQ']\n",
      "yamCDZmpEdv3Wi9L79_FdQ ['eGi7CE2YaN6YMiGyXNi8XQ', 'RIQ5ALCz1-oi98ViCO7kgQ', 'a_oRfgkNFnulTada--P_Tg', 'RHdEScVIAQ7xzFFMiQEnAQ', 'p7tSGmWpFV246aYhwODgBg', 'CJoO4HYD0tZRXlZqA04wmw', 'AL89lQXFfE0HpbTvpxuSkA', 'dlOTtFJbcyN1m5PR2IDxOg', 'o3woQWQ-0HxFftItIEeNdw', 'XyGRDrgCK0z4CiA6nhwEaw']\n",
      "Fz8uo7UVvueCbx48qAI5fw ['eGi7CE2YaN6YMiGyXNi8XQ', 'RIQ5ALCz1-oi98ViCO7kgQ', 'RHdEScVIAQ7xzFFMiQEnAQ', 'a_oRfgkNFnulTada--P_Tg', 'CJoO4HYD0tZRXlZqA04wmw', 'o3woQWQ-0HxFftItIEeNdw', 'AL89lQXFfE0HpbTvpxuSkA', 'xwKYBPO0ByGlkvNcr8FdqQ', 'jZ1rUspubgkuZjwKJMhEEw', 'XyGRDrgCK0z4CiA6nhwEaw']\n",
      "uL_O5y1kWF9fKfqm3WI1bg ['eGi7CE2YaN6YMiGyXNi8XQ', 'RIQ5ALCz1-oi98ViCO7kgQ', 'CJoO4HYD0tZRXlZqA04wmw', 'a_oRfgkNFnulTada--P_Tg', 'RHdEScVIAQ7xzFFMiQEnAQ', 'XyGRDrgCK0z4CiA6nhwEaw', 'o3woQWQ-0HxFftItIEeNdw', 'p7tSGmWpFV246aYhwODgBg', 'AL89lQXFfE0HpbTvpxuSkA', 'xwKYBPO0ByGlkvNcr8FdqQ']\n",
      "P-7VidyXqOGd6zBnT85pDA ['eGi7CE2YaN6YMiGyXNi8XQ', 'RIQ5ALCz1-oi98ViCO7kgQ', 'CJoO4HYD0tZRXlZqA04wmw', 'a_oRfgkNFnulTada--P_Tg', 'RHdEScVIAQ7xzFFMiQEnAQ', 'p7tSGmWpFV246aYhwODgBg', 'o3woQWQ-0HxFftItIEeNdw', 'XyGRDrgCK0z4CiA6nhwEaw', 'AL89lQXFfE0HpbTvpxuSkA', 'xwKYBPO0ByGlkvNcr8FdqQ']\n",
      "8dUbErn76KcD2Sj_iMOWag ['eGi7CE2YaN6YMiGyXNi8XQ', 'RIQ5ALCz1-oi98ViCO7kgQ', 'a_oRfgkNFnulTada--P_Tg', 'p7tSGmWpFV246aYhwODgBg', 'RHdEScVIAQ7xzFFMiQEnAQ', 'CJoO4HYD0tZRXlZqA04wmw', 'AL89lQXFfE0HpbTvpxuSkA', 'o3woQWQ-0HxFftItIEeNdw', 'XyGRDrgCK0z4CiA6nhwEaw', 'dlOTtFJbcyN1m5PR2IDxOg']\n",
      "MFH9CK5wuxg7SWZjOtDjEQ ['RIQ5ALCz1-oi98ViCO7kgQ', 'eGi7CE2YaN6YMiGyXNi8XQ', 'RHdEScVIAQ7xzFFMiQEnAQ', 'AL89lQXFfE0HpbTvpxuSkA', 'p7tSGmWpFV246aYhwODgBg', 'CJoO4HYD0tZRXlZqA04wmw', 'o3woQWQ-0HxFftItIEeNdw', 'XyGRDrgCK0z4CiA6nhwEaw', 'dlOTtFJbcyN1m5PR2IDxOg', 'jZ1rUspubgkuZjwKJMhEEw']\n",
      "jvIISCRUSoSafUx9Ak1oew ['eGi7CE2YaN6YMiGyXNi8XQ', 'CJoO4HYD0tZRXlZqA04wmw', 'p7tSGmWpFV246aYhwODgBg', 'XyGRDrgCK0z4CiA6nhwEaw', 'RHdEScVIAQ7xzFFMiQEnAQ', 'AL89lQXFfE0HpbTvpxuSkA', 'o3woQWQ-0HxFftItIEeNdw', 'jZ1rUspubgkuZjwKJMhEEw', 'xwKYBPO0ByGlkvNcr8FdqQ', 'KZA_HEOsBXf8dtrk9rqNJA']\n",
      "ETWISuSphgjc3puFAplnJg ['eGi7CE2YaN6YMiGyXNi8XQ', 'RIQ5ALCz1-oi98ViCO7kgQ', 'a_oRfgkNFnulTada--P_Tg', 'o3woQWQ-0HxFftItIEeNdw', 'AL89lQXFfE0HpbTvpxuSkA', 'p7tSGmWpFV246aYhwODgBg', 'RHdEScVIAQ7xzFFMiQEnAQ', 'CJoO4HYD0tZRXlZqA04wmw', 'xwKYBPO0ByGlkvNcr8FdqQ', 'jZ1rUspubgkuZjwKJMhEEw']\n",
      "HB52HJAcW7zCcLRw2Oq8tw ['eGi7CE2YaN6YMiGyXNi8XQ', 'RIQ5ALCz1-oi98ViCO7kgQ', 'CJoO4HYD0tZRXlZqA04wmw', 'RHdEScVIAQ7xzFFMiQEnAQ', 'o3woQWQ-0HxFftItIEeNdw', 'a_oRfgkNFnulTada--P_Tg', 'AL89lQXFfE0HpbTvpxuSkA', 'p7tSGmWpFV246aYhwODgBg', 'jZ1rUspubgkuZjwKJMhEEw', '5CX7rtnwYnmqFCihOyWivg']\n",
      "rVONIZ9xbSCcN7W0qYwPQA ['eGi7CE2YaN6YMiGyXNi8XQ', 'RIQ5ALCz1-oi98ViCO7kgQ', 'a_oRfgkNFnulTada--P_Tg', 'p7tSGmWpFV246aYhwODgBg', 'RHdEScVIAQ7xzFFMiQEnAQ', 'CJoO4HYD0tZRXlZqA04wmw', 'AL89lQXFfE0HpbTvpxuSkA', 'o3woQWQ-0HxFftItIEeNdw', 'xwKYBPO0ByGlkvNcr8FdqQ', 'dlOTtFJbcyN1m5PR2IDxOg']\n",
      "srhTOSgTBtvHeISgwd_mgw ['eGi7CE2YaN6YMiGyXNi8XQ', 'a_oRfgkNFnulTada--P_Tg', 'RIQ5ALCz1-oi98ViCO7kgQ', 'CJoO4HYD0tZRXlZqA04wmw', 'RHdEScVIAQ7xzFFMiQEnAQ', 'p7tSGmWpFV246aYhwODgBg', 'xwKYBPO0ByGlkvNcr8FdqQ', 'jZ1rUspubgkuZjwKJMhEEw', 'KZA_HEOsBXf8dtrk9rqNJA', 'AL89lQXFfE0HpbTvpxuSkA']\n",
      "9Y1YkloHk2MAE3hkwYdFKA ['eGi7CE2YaN6YMiGyXNi8XQ', 'RIQ5ALCz1-oi98ViCO7kgQ', 'RHdEScVIAQ7xzFFMiQEnAQ', 'a_oRfgkNFnulTada--P_Tg', 'AL89lQXFfE0HpbTvpxuSkA', 'o3woQWQ-0HxFftItIEeNdw', 'p7tSGmWpFV246aYhwODgBg', 'dlOTtFJbcyN1m5PR2IDxOg', '5Ce3lZksYVkCbrihqylVHQ', 'vtbAuFCR8ugUaajtF_wDEQ']\n",
      "1viszljzsa8W7VnYPuWosw ['RHdEScVIAQ7xzFFMiQEnAQ', 'a_oRfgkNFnulTada--P_Tg', 'RIQ5ALCz1-oi98ViCO7kgQ', 'p7tSGmWpFV246aYhwODgBg', 'o3woQWQ-0HxFftItIEeNdw', 'CJoO4HYD0tZRXlZqA04wmw', 'xwKYBPO0ByGlkvNcr8FdqQ', 'AL89lQXFfE0HpbTvpxuSkA', 'KZA_HEOsBXf8dtrk9rqNJA', 'g9DDXMuDwaW-GtD2f6xl6A']\n",
      "hGU0kjPcqbHv_ZtvLhi5iQ ['eGi7CE2YaN6YMiGyXNi8XQ', 'a_oRfgkNFnulTada--P_Tg', 'RIQ5ALCz1-oi98ViCO7kgQ', 'CJoO4HYD0tZRXlZqA04wmw', 'RHdEScVIAQ7xzFFMiQEnAQ', 'o3woQWQ-0HxFftItIEeNdw', 'AL89lQXFfE0HpbTvpxuSkA', 'xwKYBPO0ByGlkvNcr8FdqQ', 'jZ1rUspubgkuZjwKJMhEEw', 'dlOTtFJbcyN1m5PR2IDxOg']\n",
      "WjsZSsBbUTwkGUIkv7TpjQ ['eGi7CE2YaN6YMiGyXNi8XQ', 'RIQ5ALCz1-oi98ViCO7kgQ', 'a_oRfgkNFnulTada--P_Tg', 'p7tSGmWpFV246aYhwODgBg', 'o3woQWQ-0HxFftItIEeNdw', 'RHdEScVIAQ7xzFFMiQEnAQ', 'xwKYBPO0ByGlkvNcr8FdqQ', 'AL89lQXFfE0HpbTvpxuSkA', 'KZA_HEOsBXf8dtrk9rqNJA', '5CX7rtnwYnmqFCihOyWivg']\n",
      "rp4ctJtEe8_TnG81B7VKPQ ['eGi7CE2YaN6YMiGyXNi8XQ', 'RIQ5ALCz1-oi98ViCO7kgQ', 'a_oRfgkNFnulTada--P_Tg', 'p7tSGmWpFV246aYhwODgBg', 'RHdEScVIAQ7xzFFMiQEnAQ', 'o3woQWQ-0HxFftItIEeNdw', 'jZ1rUspubgkuZjwKJMhEEw', 'AL89lQXFfE0HpbTvpxuSkA', 'xwKYBPO0ByGlkvNcr8FdqQ', '5CX7rtnwYnmqFCihOyWivg']\n",
      "jSnUCjKdazQn_IKSKDV_hg ['eGi7CE2YaN6YMiGyXNi8XQ', 'RIQ5ALCz1-oi98ViCO7kgQ', 'p7tSGmWpFV246aYhwODgBg', 'CJoO4HYD0tZRXlZqA04wmw', 'a_oRfgkNFnulTada--P_Tg', 'o3woQWQ-0HxFftItIEeNdw', 'RHdEScVIAQ7xzFFMiQEnAQ', 'jZ1rUspubgkuZjwKJMhEEw', 'AL89lQXFfE0HpbTvpxuSkA', 'dlOTtFJbcyN1m5PR2IDxOg']\n",
      "yKnvm0qz7OhRg8ynor1O_A ['eGi7CE2YaN6YMiGyXNi8XQ', 'RIQ5ALCz1-oi98ViCO7kgQ', 'a_oRfgkNFnulTada--P_Tg', 'o3woQWQ-0HxFftItIEeNdw', 'RHdEScVIAQ7xzFFMiQEnAQ', 'AL89lQXFfE0HpbTvpxuSkA', 'p7tSGmWpFV246aYhwODgBg', 'dlOTtFJbcyN1m5PR2IDxOg', 'jZ1rUspubgkuZjwKJMhEEw', 'KZA_HEOsBXf8dtrk9rqNJA']\n",
      "bv00T6Bw4BQJXW01UomhsA ['eGi7CE2YaN6YMiGyXNi8XQ', 'RHdEScVIAQ7xzFFMiQEnAQ', 'RIQ5ALCz1-oi98ViCO7kgQ', 'CJoO4HYD0tZRXlZqA04wmw', 'a_oRfgkNFnulTada--P_Tg', 'p7tSGmWpFV246aYhwODgBg', 'o3woQWQ-0HxFftItIEeNdw', 'AL89lQXFfE0HpbTvpxuSkA', 'dlOTtFJbcyN1m5PR2IDxOg', 'jZ1rUspubgkuZjwKJMhEEw']\n",
      "o3B-Csnb88k7BXkDHehuMg ['eGi7CE2YaN6YMiGyXNi8XQ', 'RIQ5ALCz1-oi98ViCO7kgQ', 'a_oRfgkNFnulTada--P_Tg', 'p7tSGmWpFV246aYhwODgBg', 'RHdEScVIAQ7xzFFMiQEnAQ', 'CJoO4HYD0tZRXlZqA04wmw', 'o3woQWQ-0HxFftItIEeNdw', 'dlOTtFJbcyN1m5PR2IDxOg', 'AL89lQXFfE0HpbTvpxuSkA', 'xwKYBPO0ByGlkvNcr8FdqQ']\n",
      "GeevUN6zyegsAUeugWS6tw ['eGi7CE2YaN6YMiGyXNi8XQ', 'a_oRfgkNFnulTada--P_Tg', 'RIQ5ALCz1-oi98ViCO7kgQ', 'CJoO4HYD0tZRXlZqA04wmw', 'RHdEScVIAQ7xzFFMiQEnAQ', 'o3woQWQ-0HxFftItIEeNdw', 'p7tSGmWpFV246aYhwODgBg', 'AL89lQXFfE0HpbTvpxuSkA', 'jZ1rUspubgkuZjwKJMhEEw', 'dlOTtFJbcyN1m5PR2IDxOg']\n",
      "I06gY9An4o81XpejLWD9DA ['eGi7CE2YaN6YMiGyXNi8XQ', 'a_oRfgkNFnulTada--P_Tg', 'RIQ5ALCz1-oi98ViCO7kgQ', 'RHdEScVIAQ7xzFFMiQEnAQ', 'p7tSGmWpFV246aYhwODgBg', 'o3woQWQ-0HxFftItIEeNdw', 'AL89lQXFfE0HpbTvpxuSkA', 'jZ1rUspubgkuZjwKJMhEEw', 'xwKYBPO0ByGlkvNcr8FdqQ', 'nEaTbGFlU7d9eLU2kl6KBw']\n",
      "6ObFF8-uKnOAlXuSH4TlyQ ['eGi7CE2YaN6YMiGyXNi8XQ', 'RIQ5ALCz1-oi98ViCO7kgQ', 'p7tSGmWpFV246aYhwODgBg', 'a_oRfgkNFnulTada--P_Tg', 'xwKYBPO0ByGlkvNcr8FdqQ', 'jZ1rUspubgkuZjwKJMhEEw', 'AL89lQXFfE0HpbTvpxuSkA', 'KZA_HEOsBXf8dtrk9rqNJA', '5CX7rtnwYnmqFCihOyWivg', '5Ce3lZksYVkCbrihqylVHQ']\n",
      "iFE_KyHoG2k1bU_9h02CLQ ['eGi7CE2YaN6YMiGyXNi8XQ', 'a_oRfgkNFnulTada--P_Tg', 'RIQ5ALCz1-oi98ViCO7kgQ', 'CJoO4HYD0tZRXlZqA04wmw', 'p7tSGmWpFV246aYhwODgBg', 'RHdEScVIAQ7xzFFMiQEnAQ', 'o3woQWQ-0HxFftItIEeNdw', 'AL89lQXFfE0HpbTvpxuSkA', 'xwKYBPO0ByGlkvNcr8FdqQ', 'jZ1rUspubgkuZjwKJMhEEw']\n",
      "a2DGFEIov1L7X9rKdVmN6A ['eGi7CE2YaN6YMiGyXNi8XQ', 'RIQ5ALCz1-oi98ViCO7kgQ', 'CJoO4HYD0tZRXlZqA04wmw', 'a_oRfgkNFnulTada--P_Tg', 'RHdEScVIAQ7xzFFMiQEnAQ', 'o3woQWQ-0HxFftItIEeNdw', 'p7tSGmWpFV246aYhwODgBg', 'AL89lQXFfE0HpbTvpxuSkA', 'jZ1rUspubgkuZjwKJMhEEw', 'xwKYBPO0ByGlkvNcr8FdqQ']\n",
      "i9ka8QjB_dlk80v8Bw2yqQ ['eGi7CE2YaN6YMiGyXNi8XQ', 'RIQ5ALCz1-oi98ViCO7kgQ', 'a_oRfgkNFnulTada--P_Tg', 'CJoO4HYD0tZRXlZqA04wmw', 'o3woQWQ-0HxFftItIEeNdw', 'p7tSGmWpFV246aYhwODgBg', 'AL89lQXFfE0HpbTvpxuSkA', 'xwKYBPO0ByGlkvNcr8FdqQ', '5CX7rtnwYnmqFCihOyWivg', 'dlOTtFJbcyN1m5PR2IDxOg']\n",
      "II-2MvTLjnZycYOYsrkdVw ['eGi7CE2YaN6YMiGyXNi8XQ', 'a_oRfgkNFnulTada--P_Tg', 'RIQ5ALCz1-oi98ViCO7kgQ', 'RHdEScVIAQ7xzFFMiQEnAQ', 'CJoO4HYD0tZRXlZqA04wmw', 'o3woQWQ-0HxFftItIEeNdw', 'p7tSGmWpFV246aYhwODgBg', 'AL89lQXFfE0HpbTvpxuSkA', 'xwKYBPO0ByGlkvNcr8FdqQ', 'KZA_HEOsBXf8dtrk9rqNJA']\n",
      "e-lnkltoLKcVtXvipOFIDg ['eGi7CE2YaN6YMiGyXNi8XQ', 'a_oRfgkNFnulTada--P_Tg', 'RIQ5ALCz1-oi98ViCO7kgQ', 'RHdEScVIAQ7xzFFMiQEnAQ', 'CJoO4HYD0tZRXlZqA04wmw', 'p7tSGmWpFV246aYhwODgBg', 'o3woQWQ-0HxFftItIEeNdw', 'AL89lQXFfE0HpbTvpxuSkA', 'dlOTtFJbcyN1m5PR2IDxOg', 'KZA_HEOsBXf8dtrk9rqNJA']\n",
      "fMYygvyJPr11HYfCdm3tWQ ['eGi7CE2YaN6YMiGyXNi8XQ', 'RIQ5ALCz1-oi98ViCO7kgQ', 'a_oRfgkNFnulTada--P_Tg', 'p7tSGmWpFV246aYhwODgBg', 'o3woQWQ-0HxFftItIEeNdw', 'CJoO4HYD0tZRXlZqA04wmw', 'AL89lQXFfE0HpbTvpxuSkA', 'xwKYBPO0ByGlkvNcr8FdqQ', 'KZA_HEOsBXf8dtrk9rqNJA', '5CX7rtnwYnmqFCihOyWivg']\n",
      "pZnEkggl5gBXhvL918Hoew ['eGi7CE2YaN6YMiGyXNi8XQ', 'a_oRfgkNFnulTada--P_Tg', 'RIQ5ALCz1-oi98ViCO7kgQ', 'CJoO4HYD0tZRXlZqA04wmw', 'p7tSGmWpFV246aYhwODgBg', 'o3woQWQ-0HxFftItIEeNdw', 'RHdEScVIAQ7xzFFMiQEnAQ', 'xwKYBPO0ByGlkvNcr8FdqQ', 'AL89lQXFfE0HpbTvpxuSkA', 'jZ1rUspubgkuZjwKJMhEEw']\n",
      "O5y7KlfBdqV6Ih8yhjZLsg ['eGi7CE2YaN6YMiGyXNi8XQ', 'RIQ5ALCz1-oi98ViCO7kgQ', 'RHdEScVIAQ7xzFFMiQEnAQ', 'a_oRfgkNFnulTada--P_Tg', 'CJoO4HYD0tZRXlZqA04wmw', 'p7tSGmWpFV246aYhwODgBg', 'o3woQWQ-0HxFftItIEeNdw', 'AL89lQXFfE0HpbTvpxuSkA', 'xwKYBPO0ByGlkvNcr8FdqQ', '5CX7rtnwYnmqFCihOyWivg']\n",
      "njCfRb0aMh9sv45-VKwqJA ['eGi7CE2YaN6YMiGyXNi8XQ', 'RIQ5ALCz1-oi98ViCO7kgQ', 'a_oRfgkNFnulTada--P_Tg', 'RHdEScVIAQ7xzFFMiQEnAQ', 'o3woQWQ-0HxFftItIEeNdw', 'p7tSGmWpFV246aYhwODgBg', 'AL89lQXFfE0HpbTvpxuSkA', 'jZ1rUspubgkuZjwKJMhEEw', 'xwKYBPO0ByGlkvNcr8FdqQ', 'KZA_HEOsBXf8dtrk9rqNJA']\n",
      "A66EvH_nWJJb7d-F9FlJUw ['eGi7CE2YaN6YMiGyXNi8XQ', 'RIQ5ALCz1-oi98ViCO7kgQ', 'a_oRfgkNFnulTada--P_Tg', 'RHdEScVIAQ7xzFFMiQEnAQ', 'CJoO4HYD0tZRXlZqA04wmw', 'AL89lQXFfE0HpbTvpxuSkA', 'p7tSGmWpFV246aYhwODgBg', 'XyGRDrgCK0z4CiA6nhwEaw', 'o3woQWQ-0HxFftItIEeNdw', 'jZ1rUspubgkuZjwKJMhEEw']\n",
      "P2FNLDMpSpdo92ydQlw7-g ['eGi7CE2YaN6YMiGyXNi8XQ', 'a_oRfgkNFnulTada--P_Tg', 'RIQ5ALCz1-oi98ViCO7kgQ', 'CJoO4HYD0tZRXlZqA04wmw', 'o3woQWQ-0HxFftItIEeNdw', 'p7tSGmWpFV246aYhwODgBg', 'XyGRDrgCK0z4CiA6nhwEaw', 'AL89lQXFfE0HpbTvpxuSkA', 'jZ1rUspubgkuZjwKJMhEEw', 'dlOTtFJbcyN1m5PR2IDxOg']\n",
      "Dp28gTTUp-YL7V_8Wx7wNw ['eGi7CE2YaN6YMiGyXNi8XQ', 'a_oRfgkNFnulTada--P_Tg', 'RHdEScVIAQ7xzFFMiQEnAQ', 'RIQ5ALCz1-oi98ViCO7kgQ', 'CJoO4HYD0tZRXlZqA04wmw', 'o3woQWQ-0HxFftItIEeNdw', 'p7tSGmWpFV246aYhwODgBg', 'XyGRDrgCK0z4CiA6nhwEaw', 'dlOTtFJbcyN1m5PR2IDxOg', 'AL89lQXFfE0HpbTvpxuSkA']\n",
      "fgGm3h80eQRXZuQttD-jPQ ['eGi7CE2YaN6YMiGyXNi8XQ', 'a_oRfgkNFnulTada--P_Tg', 'RIQ5ALCz1-oi98ViCO7kgQ', 'CJoO4HYD0tZRXlZqA04wmw', 'p7tSGmWpFV246aYhwODgBg', 'XyGRDrgCK0z4CiA6nhwEaw', 'o3woQWQ-0HxFftItIEeNdw', 'dlOTtFJbcyN1m5PR2IDxOg', 'AL89lQXFfE0HpbTvpxuSkA', 'jZ1rUspubgkuZjwKJMhEEw']\n",
      "8COO0Lgd3v14VeB9Jyyxqw ['eGi7CE2YaN6YMiGyXNi8XQ', 'RIQ5ALCz1-oi98ViCO7kgQ', 'RHdEScVIAQ7xzFFMiQEnAQ', 'CJoO4HYD0tZRXlZqA04wmw', 'a_oRfgkNFnulTada--P_Tg', 'p7tSGmWpFV246aYhwODgBg', 'AL89lQXFfE0HpbTvpxuSkA', 'o3woQWQ-0HxFftItIEeNdw', 'jZ1rUspubgkuZjwKJMhEEw', 'dlOTtFJbcyN1m5PR2IDxOg']\n",
      "p-zRQit6dxFd-c8ifyGiTg ['eGi7CE2YaN6YMiGyXNi8XQ', 'RHdEScVIAQ7xzFFMiQEnAQ', 'RIQ5ALCz1-oi98ViCO7kgQ', 'CJoO4HYD0tZRXlZqA04wmw', 'o3woQWQ-0HxFftItIEeNdw', 'a_oRfgkNFnulTada--P_Tg', 'AL89lQXFfE0HpbTvpxuSkA', 'XyGRDrgCK0z4CiA6nhwEaw', 'dlOTtFJbcyN1m5PR2IDxOg', 'jZ1rUspubgkuZjwKJMhEEw']\n",
      "RTz_E92YRqSdtbNmd-yxoA ['eGi7CE2YaN6YMiGyXNi8XQ', 'RIQ5ALCz1-oi98ViCO7kgQ', 'a_oRfgkNFnulTada--P_Tg', 'CJoO4HYD0tZRXlZqA04wmw', 'p7tSGmWpFV246aYhwODgBg', 'o3woQWQ-0HxFftItIEeNdw', 'XyGRDrgCK0z4CiA6nhwEaw', 'AL89lQXFfE0HpbTvpxuSkA', 'jZ1rUspubgkuZjwKJMhEEw', 'dlOTtFJbcyN1m5PR2IDxOg']\n",
      "-wd41HcxuwQwZJRW9HoO1A ['eGi7CE2YaN6YMiGyXNi8XQ', 'RIQ5ALCz1-oi98ViCO7kgQ', 'a_oRfgkNFnulTada--P_Tg', 'CJoO4HYD0tZRXlZqA04wmw', 'o3woQWQ-0HxFftItIEeNdw', 'AL89lQXFfE0HpbTvpxuSkA', 'RHdEScVIAQ7xzFFMiQEnAQ', 'p7tSGmWpFV246aYhwODgBg', 'dlOTtFJbcyN1m5PR2IDxOg', 'XyGRDrgCK0z4CiA6nhwEaw']\n",
      "XzgLFg8r_BvwEYJeZB0t-w ['eGi7CE2YaN6YMiGyXNi8XQ', 'RIQ5ALCz1-oi98ViCO7kgQ', 'a_oRfgkNFnulTada--P_Tg', 'RHdEScVIAQ7xzFFMiQEnAQ', 'o3woQWQ-0HxFftItIEeNdw', 'AL89lQXFfE0HpbTvpxuSkA', 'p7tSGmWpFV246aYhwODgBg', 'XyGRDrgCK0z4CiA6nhwEaw', 'jZ1rUspubgkuZjwKJMhEEw', 'dlOTtFJbcyN1m5PR2IDxOg']\n",
      "ZUjtrujFUynsLY7lHc2zow ['eGi7CE2YaN6YMiGyXNi8XQ', 'RIQ5ALCz1-oi98ViCO7kgQ', 'RHdEScVIAQ7xzFFMiQEnAQ', 'CJoO4HYD0tZRXlZqA04wmw', 'XyGRDrgCK0z4CiA6nhwEaw', 'p7tSGmWpFV246aYhwODgBg', 'o3woQWQ-0HxFftItIEeNdw', 'dlOTtFJbcyN1m5PR2IDxOg', 'AL89lQXFfE0HpbTvpxuSkA', 'jZ1rUspubgkuZjwKJMhEEw']\n",
      "whLn2WLjAad7sBkcog-wsA ['eGi7CE2YaN6YMiGyXNi8XQ', 'a_oRfgkNFnulTada--P_Tg', 'RIQ5ALCz1-oi98ViCO7kgQ', 'o3woQWQ-0HxFftItIEeNdw', 'CJoO4HYD0tZRXlZqA04wmw', 'p7tSGmWpFV246aYhwODgBg', 'AL89lQXFfE0HpbTvpxuSkA', 'dlOTtFJbcyN1m5PR2IDxOg', 'XyGRDrgCK0z4CiA6nhwEaw', 'jZ1rUspubgkuZjwKJMhEEw']\n",
      "Qaa2sxNfZyTUcmu2hpGTgw ['eGi7CE2YaN6YMiGyXNi8XQ', 'RIQ5ALCz1-oi98ViCO7kgQ', 'a_oRfgkNFnulTada--P_Tg', 'RHdEScVIAQ7xzFFMiQEnAQ', 'o3woQWQ-0HxFftItIEeNdw', 'XyGRDrgCK0z4CiA6nhwEaw', 'AL89lQXFfE0HpbTvpxuSkA', 'p7tSGmWpFV246aYhwODgBg', 'dlOTtFJbcyN1m5PR2IDxOg', 'KZA_HEOsBXf8dtrk9rqNJA']\n",
      "PVjbDq2pLawIcLZ4K4tsiQ ['eGi7CE2YaN6YMiGyXNi8XQ', 'a_oRfgkNFnulTada--P_Tg', 'RIQ5ALCz1-oi98ViCO7kgQ', 'CJoO4HYD0tZRXlZqA04wmw', 'p7tSGmWpFV246aYhwODgBg', 'XyGRDrgCK0z4CiA6nhwEaw', 'o3woQWQ-0HxFftItIEeNdw', 'AL89lQXFfE0HpbTvpxuSkA', 'dlOTtFJbcyN1m5PR2IDxOg', '5CX7rtnwYnmqFCihOyWivg']\n",
      "HUI8Jqyh2RrrsbfeOovw_Q ['eGi7CE2YaN6YMiGyXNi8XQ', 'RIQ5ALCz1-oi98ViCO7kgQ', 'a_oRfgkNFnulTada--P_Tg', 'CJoO4HYD0tZRXlZqA04wmw', 'p7tSGmWpFV246aYhwODgBg', 'o3woQWQ-0HxFftItIEeNdw', 'XyGRDrgCK0z4CiA6nhwEaw', 'AL89lQXFfE0HpbTvpxuSkA', 'dlOTtFJbcyN1m5PR2IDxOg', 'jZ1rUspubgkuZjwKJMhEEw']\n",
      "JWB2yDhROu39MsnlOIPz2g ['eGi7CE2YaN6YMiGyXNi8XQ', 'RIQ5ALCz1-oi98ViCO7kgQ', 'p7tSGmWpFV246aYhwODgBg', 'RHdEScVIAQ7xzFFMiQEnAQ', 'a_oRfgkNFnulTada--P_Tg', 'o3woQWQ-0HxFftItIEeNdw', 'AL89lQXFfE0HpbTvpxuSkA', 'CJoO4HYD0tZRXlZqA04wmw', 'dlOTtFJbcyN1m5PR2IDxOg', 'XyGRDrgCK0z4CiA6nhwEaw']\n",
      "vp5WGQhdv9JmaR2VapdH9Q ['eGi7CE2YaN6YMiGyXNi8XQ', 'RIQ5ALCz1-oi98ViCO7kgQ', 'RHdEScVIAQ7xzFFMiQEnAQ', 'o3woQWQ-0HxFftItIEeNdw', 'p7tSGmWpFV246aYhwODgBg', 'CJoO4HYD0tZRXlZqA04wmw', 'AL89lQXFfE0HpbTvpxuSkA', 'dlOTtFJbcyN1m5PR2IDxOg', 'XyGRDrgCK0z4CiA6nhwEaw', 'jZ1rUspubgkuZjwKJMhEEw']\n",
      "jL41h4Ez98PZfqiKzbbY1w ['p7tSGmWpFV246aYhwODgBg', 'RHdEScVIAQ7xzFFMiQEnAQ', 'CJoO4HYD0tZRXlZqA04wmw', 'a_oRfgkNFnulTada--P_Tg', 'o3woQWQ-0HxFftItIEeNdw', 'XyGRDrgCK0z4CiA6nhwEaw', 'AL89lQXFfE0HpbTvpxuSkA', 'dlOTtFJbcyN1m5PR2IDxOg', 'jZ1rUspubgkuZjwKJMhEEw', '5Ce3lZksYVkCbrihqylVHQ']\n",
      "ZsmLWcqUD5Z8x4CNT9pPTQ ['eGi7CE2YaN6YMiGyXNi8XQ', 'RIQ5ALCz1-oi98ViCO7kgQ', 'RHdEScVIAQ7xzFFMiQEnAQ', 'p7tSGmWpFV246aYhwODgBg', 'CJoO4HYD0tZRXlZqA04wmw', 'o3woQWQ-0HxFftItIEeNdw', 'AL89lQXFfE0HpbTvpxuSkA', 'jZ1rUspubgkuZjwKJMhEEw', 'dlOTtFJbcyN1m5PR2IDxOg', 'XyGRDrgCK0z4CiA6nhwEaw']\n",
      "mJy-5ShuwwYRayxRtl6xxA ['eGi7CE2YaN6YMiGyXNi8XQ', 'RIQ5ALCz1-oi98ViCO7kgQ', 'a_oRfgkNFnulTada--P_Tg', 'RHdEScVIAQ7xzFFMiQEnAQ', 'o3woQWQ-0HxFftItIEeNdw', 'p7tSGmWpFV246aYhwODgBg', 'XyGRDrgCK0z4CiA6nhwEaw', 'dlOTtFJbcyN1m5PR2IDxOg', 'xwKYBPO0ByGlkvNcr8FdqQ', 'AL89lQXFfE0HpbTvpxuSkA']\n",
      "JUT0U3HTSB3kz9Wh7N0GqA ['eGi7CE2YaN6YMiGyXNi8XQ', 'RHdEScVIAQ7xzFFMiQEnAQ', 'RIQ5ALCz1-oi98ViCO7kgQ', 'p7tSGmWpFV246aYhwODgBg', 'a_oRfgkNFnulTada--P_Tg', 'o3woQWQ-0HxFftItIEeNdw', 'XyGRDrgCK0z4CiA6nhwEaw', 'dlOTtFJbcyN1m5PR2IDxOg', 'KZA_HEOsBXf8dtrk9rqNJA', 'xwKYBPO0ByGlkvNcr8FdqQ']\n",
      "kA6H0FTukkmTXv5H3S9XCg ['eGi7CE2YaN6YMiGyXNi8XQ', 'RIQ5ALCz1-oi98ViCO7kgQ', 'a_oRfgkNFnulTada--P_Tg', 'o3woQWQ-0HxFftItIEeNdw', 'p7tSGmWpFV246aYhwODgBg', 'CJoO4HYD0tZRXlZqA04wmw', 'XyGRDrgCK0z4CiA6nhwEaw', 'jZ1rUspubgkuZjwKJMhEEw', 'xwKYBPO0ByGlkvNcr8FdqQ', '5CX7rtnwYnmqFCihOyWivg']\n",
      "AFLID_qyrrbEepehgVvbSg ['eGi7CE2YaN6YMiGyXNi8XQ', 'RIQ5ALCz1-oi98ViCO7kgQ', 'a_oRfgkNFnulTada--P_Tg', 'RHdEScVIAQ7xzFFMiQEnAQ', 'p7tSGmWpFV246aYhwODgBg', 'CJoO4HYD0tZRXlZqA04wmw', 'AL89lQXFfE0HpbTvpxuSkA', 'dlOTtFJbcyN1m5PR2IDxOg', 'XyGRDrgCK0z4CiA6nhwEaw', 'o3woQWQ-0HxFftItIEeNdw']\n",
      "DB5uuOamJ5N2RZ5ylqOFQw ['eGi7CE2YaN6YMiGyXNi8XQ', 'RIQ5ALCz1-oi98ViCO7kgQ', 'a_oRfgkNFnulTada--P_Tg', 'p7tSGmWpFV246aYhwODgBg', 'RHdEScVIAQ7xzFFMiQEnAQ', 'CJoO4HYD0tZRXlZqA04wmw', 'o3woQWQ-0HxFftItIEeNdw', 'AL89lQXFfE0HpbTvpxuSkA', 'XyGRDrgCK0z4CiA6nhwEaw', 'xwKYBPO0ByGlkvNcr8FdqQ']\n",
      "WA7WBW_7fDsevBZz8pT8Aw ['RIQ5ALCz1-oi98ViCO7kgQ', 'CJoO4HYD0tZRXlZqA04wmw', 'a_oRfgkNFnulTada--P_Tg', 'RHdEScVIAQ7xzFFMiQEnAQ', 'p7tSGmWpFV246aYhwODgBg', 'o3woQWQ-0HxFftItIEeNdw', 'XyGRDrgCK0z4CiA6nhwEaw', 'jZ1rUspubgkuZjwKJMhEEw', 'AL89lQXFfE0HpbTvpxuSkA', 'KZA_HEOsBXf8dtrk9rqNJA']\n",
      "hT3KOrgNpGjOrs9mfIZsPA ['eGi7CE2YaN6YMiGyXNi8XQ', 'RIQ5ALCz1-oi98ViCO7kgQ', 'a_oRfgkNFnulTada--P_Tg', 'RHdEScVIAQ7xzFFMiQEnAQ', 'CJoO4HYD0tZRXlZqA04wmw', 'p7tSGmWpFV246aYhwODgBg', 'o3woQWQ-0HxFftItIEeNdw', 'AL89lQXFfE0HpbTvpxuSkA', 'XyGRDrgCK0z4CiA6nhwEaw', 'jZ1rUspubgkuZjwKJMhEEw']\n",
      "iIZxL_saR2aRXzIdWLsbmQ ['eGi7CE2YaN6YMiGyXNi8XQ', 'a_oRfgkNFnulTada--P_Tg', 'CJoO4HYD0tZRXlZqA04wmw', 'RIQ5ALCz1-oi98ViCO7kgQ', 'RHdEScVIAQ7xzFFMiQEnAQ', 'p7tSGmWpFV246aYhwODgBg', 'XyGRDrgCK0z4CiA6nhwEaw', 'o3woQWQ-0HxFftItIEeNdw', 'AL89lQXFfE0HpbTvpxuSkA', 'jZ1rUspubgkuZjwKJMhEEw']\n",
      "SLPbVvPRywGVCh58tfNrBg ['eGi7CE2YaN6YMiGyXNi8XQ', 'RIQ5ALCz1-oi98ViCO7kgQ', 'RHdEScVIAQ7xzFFMiQEnAQ', 'CJoO4HYD0tZRXlZqA04wmw', 'o3woQWQ-0HxFftItIEeNdw', 'XyGRDrgCK0z4CiA6nhwEaw', 'AL89lQXFfE0HpbTvpxuSkA', 'jZ1rUspubgkuZjwKJMhEEw', 'dlOTtFJbcyN1m5PR2IDxOg', 'KZA_HEOsBXf8dtrk9rqNJA']\n",
      "6Dwh99zbe_lhfOD4MiAM1g ['eGi7CE2YaN6YMiGyXNi8XQ', 'RIQ5ALCz1-oi98ViCO7kgQ', 'CJoO4HYD0tZRXlZqA04wmw', 'p7tSGmWpFV246aYhwODgBg', 'RHdEScVIAQ7xzFFMiQEnAQ', 'AL89lQXFfE0HpbTvpxuSkA', 'o3woQWQ-0HxFftItIEeNdw', 'dlOTtFJbcyN1m5PR2IDxOg', 'XyGRDrgCK0z4CiA6nhwEaw', 'xwKYBPO0ByGlkvNcr8FdqQ']\n",
      "ow1YVonkr8G-8kFUKo-bJg ['eGi7CE2YaN6YMiGyXNi8XQ', 'a_oRfgkNFnulTada--P_Tg', 'RIQ5ALCz1-oi98ViCO7kgQ', 'RHdEScVIAQ7xzFFMiQEnAQ', 'o3woQWQ-0HxFftItIEeNdw', 'p7tSGmWpFV246aYhwODgBg', 'AL89lQXFfE0HpbTvpxuSkA', 'dlOTtFJbcyN1m5PR2IDxOg', 'XyGRDrgCK0z4CiA6nhwEaw', 'xwKYBPO0ByGlkvNcr8FdqQ']\n",
      "PB12rXSugGTOAiLYPA08mA ['eGi7CE2YaN6YMiGyXNi8XQ', 'a_oRfgkNFnulTada--P_Tg', 'RIQ5ALCz1-oi98ViCO7kgQ', 'RHdEScVIAQ7xzFFMiQEnAQ', 'CJoO4HYD0tZRXlZqA04wmw', 'o3woQWQ-0HxFftItIEeNdw', 'XyGRDrgCK0z4CiA6nhwEaw', 'p7tSGmWpFV246aYhwODgBg', 'AL89lQXFfE0HpbTvpxuSkA', 'dlOTtFJbcyN1m5PR2IDxOg']\n",
      "W67nXodRWTIa-d1NJlncvA ['eGi7CE2YaN6YMiGyXNi8XQ', 'RIQ5ALCz1-oi98ViCO7kgQ', 'a_oRfgkNFnulTada--P_Tg', 'CJoO4HYD0tZRXlZqA04wmw', 'o3woQWQ-0HxFftItIEeNdw', 'RHdEScVIAQ7xzFFMiQEnAQ', 'p7tSGmWpFV246aYhwODgBg', 'xwKYBPO0ByGlkvNcr8FdqQ', 'AL89lQXFfE0HpbTvpxuSkA', 'XyGRDrgCK0z4CiA6nhwEaw']\n",
      "Z6WD4uMWjx93wo4EzJZDQA ['eGi7CE2YaN6YMiGyXNi8XQ', 'RIQ5ALCz1-oi98ViCO7kgQ', 'a_oRfgkNFnulTada--P_Tg', 'CJoO4HYD0tZRXlZqA04wmw', 'XyGRDrgCK0z4CiA6nhwEaw', 'RHdEScVIAQ7xzFFMiQEnAQ', 'jZ1rUspubgkuZjwKJMhEEw', 'o3woQWQ-0HxFftItIEeNdw', 'p7tSGmWpFV246aYhwODgBg', 'xwKYBPO0ByGlkvNcr8FdqQ']\n",
      "lHqA_D7nAK9xw_Xg08dM_w ['eGi7CE2YaN6YMiGyXNi8XQ', 'RIQ5ALCz1-oi98ViCO7kgQ', 'CJoO4HYD0tZRXlZqA04wmw', 'a_oRfgkNFnulTada--P_Tg', 'p7tSGmWpFV246aYhwODgBg', 'XyGRDrgCK0z4CiA6nhwEaw', 'RHdEScVIAQ7xzFFMiQEnAQ', 'o3woQWQ-0HxFftItIEeNdw', 'xwKYBPO0ByGlkvNcr8FdqQ', 'AL89lQXFfE0HpbTvpxuSkA']\n",
      "Js1FsZ6oP_9tO5tbJN-d2g ['eGi7CE2YaN6YMiGyXNi8XQ', 'RIQ5ALCz1-oi98ViCO7kgQ', 'a_oRfgkNFnulTada--P_Tg', 'CJoO4HYD0tZRXlZqA04wmw', 'RHdEScVIAQ7xzFFMiQEnAQ', 'p7tSGmWpFV246aYhwODgBg', 'o3woQWQ-0HxFftItIEeNdw', 'XyGRDrgCK0z4CiA6nhwEaw', 'AL89lQXFfE0HpbTvpxuSkA', 'dlOTtFJbcyN1m5PR2IDxOg']\n",
      "G-DzOxoh7tniSa5K7apy-g ['eGi7CE2YaN6YMiGyXNi8XQ', 'RIQ5ALCz1-oi98ViCO7kgQ', 'a_oRfgkNFnulTada--P_Tg', 'RHdEScVIAQ7xzFFMiQEnAQ', 'p7tSGmWpFV246aYhwODgBg', 'CJoO4HYD0tZRXlZqA04wmw', 'o3woQWQ-0HxFftItIEeNdw', 'dlOTtFJbcyN1m5PR2IDxOg', 'AL89lQXFfE0HpbTvpxuSkA', 'XyGRDrgCK0z4CiA6nhwEaw']\n",
      "1ZfTuwipogg1pL4ICvHHoQ ['eGi7CE2YaN6YMiGyXNi8XQ', 'RIQ5ALCz1-oi98ViCO7kgQ', 'a_oRfgkNFnulTada--P_Tg', 'CJoO4HYD0tZRXlZqA04wmw', 'RHdEScVIAQ7xzFFMiQEnAQ', 'AL89lQXFfE0HpbTvpxuSkA', 'o3woQWQ-0HxFftItIEeNdw', 'p7tSGmWpFV246aYhwODgBg', 'XyGRDrgCK0z4CiA6nhwEaw', 'xwKYBPO0ByGlkvNcr8FdqQ']\n",
      "J0HY6uvoRL2Rh7bc8mvfqA ['a_oRfgkNFnulTada--P_Tg', 'p7tSGmWpFV246aYhwODgBg', 'RIQ5ALCz1-oi98ViCO7kgQ', 'dlOTtFJbcyN1m5PR2IDxOg', 'o3woQWQ-0HxFftItIEeNdw', 'CJoO4HYD0tZRXlZqA04wmw', 'AL89lQXFfE0HpbTvpxuSkA', 'xwKYBPO0ByGlkvNcr8FdqQ', 'XyGRDrgCK0z4CiA6nhwEaw', 'jZ1rUspubgkuZjwKJMhEEw']\n",
      "beZ0SrnhnDpyDKlKos7Veg ['eGi7CE2YaN6YMiGyXNi8XQ', 'RHdEScVIAQ7xzFFMiQEnAQ', 'RIQ5ALCz1-oi98ViCO7kgQ', 'a_oRfgkNFnulTada--P_Tg', 'o3woQWQ-0HxFftItIEeNdw', 'p7tSGmWpFV246aYhwODgBg', 'CJoO4HYD0tZRXlZqA04wmw', 'AL89lQXFfE0HpbTvpxuSkA', 'dlOTtFJbcyN1m5PR2IDxOg', 'xwKYBPO0ByGlkvNcr8FdqQ']\n",
      "AjaC09DfJ8h5__fgqOMvGA ['eGi7CE2YaN6YMiGyXNi8XQ', 'RIQ5ALCz1-oi98ViCO7kgQ', 'RHdEScVIAQ7xzFFMiQEnAQ', 'CJoO4HYD0tZRXlZqA04wmw', 'AL89lQXFfE0HpbTvpxuSkA', 'a_oRfgkNFnulTada--P_Tg', 'o3woQWQ-0HxFftItIEeNdw', 'XyGRDrgCK0z4CiA6nhwEaw', 'dlOTtFJbcyN1m5PR2IDxOg', 'jZ1rUspubgkuZjwKJMhEEw']\n",
      "WgNjNDBGbwJ5HHguxFrZow ['eGi7CE2YaN6YMiGyXNi8XQ', 'RIQ5ALCz1-oi98ViCO7kgQ', 'a_oRfgkNFnulTada--P_Tg', 'CJoO4HYD0tZRXlZqA04wmw', 'o3woQWQ-0HxFftItIEeNdw', 'dlOTtFJbcyN1m5PR2IDxOg', 'xwKYBPO0ByGlkvNcr8FdqQ', 'AL89lQXFfE0HpbTvpxuSkA', 'XyGRDrgCK0z4CiA6nhwEaw', 'jZ1rUspubgkuZjwKJMhEEw']\n",
      "A6X7x_LtRBtfxW8ka42qgQ ['eGi7CE2YaN6YMiGyXNi8XQ', 'RHdEScVIAQ7xzFFMiQEnAQ', 'RIQ5ALCz1-oi98ViCO7kgQ', 'CJoO4HYD0tZRXlZqA04wmw', 'o3woQWQ-0HxFftItIEeNdw', 'XyGRDrgCK0z4CiA6nhwEaw', 'AL89lQXFfE0HpbTvpxuSkA', 'dlOTtFJbcyN1m5PR2IDxOg', 'xwKYBPO0ByGlkvNcr8FdqQ', 'jZ1rUspubgkuZjwKJMhEEw']\n",
      "Ge8XDw5E2VZOQ2SYYfxV9w ['eGi7CE2YaN6YMiGyXNi8XQ', 'RIQ5ALCz1-oi98ViCO7kgQ', 'a_oRfgkNFnulTada--P_Tg', 'CJoO4HYD0tZRXlZqA04wmw', 'XyGRDrgCK0z4CiA6nhwEaw', 'AL89lQXFfE0HpbTvpxuSkA', 'dlOTtFJbcyN1m5PR2IDxOg', 'o3woQWQ-0HxFftItIEeNdw', 'xwKYBPO0ByGlkvNcr8FdqQ', 'jZ1rUspubgkuZjwKJMhEEw']\n",
      "db3nJLBCnVZx9H-wDcYdew ['eGi7CE2YaN6YMiGyXNi8XQ', 'a_oRfgkNFnulTada--P_Tg', 'RHdEScVIAQ7xzFFMiQEnAQ', 'RIQ5ALCz1-oi98ViCO7kgQ', 'CJoO4HYD0tZRXlZqA04wmw', 'XyGRDrgCK0z4CiA6nhwEaw', 'AL89lQXFfE0HpbTvpxuSkA', 'xwKYBPO0ByGlkvNcr8FdqQ', '5CX7rtnwYnmqFCihOyWivg', 'jZ1rUspubgkuZjwKJMhEEw']\n",
      "ZTkuKoOt2vp584A-8hDvBA ['eGi7CE2YaN6YMiGyXNi8XQ', 'a_oRfgkNFnulTada--P_Tg', 'RIQ5ALCz1-oi98ViCO7kgQ', 'CJoO4HYD0tZRXlZqA04wmw', 'o3woQWQ-0HxFftItIEeNdw', 'XyGRDrgCK0z4CiA6nhwEaw', 'dlOTtFJbcyN1m5PR2IDxOg', 'AL89lQXFfE0HpbTvpxuSkA', 'xwKYBPO0ByGlkvNcr8FdqQ', 'KZA_HEOsBXf8dtrk9rqNJA']\n",
      "WjsmbGm4U66qPhvAKwcWoA ['eGi7CE2YaN6YMiGyXNi8XQ', 'a_oRfgkNFnulTada--P_Tg', 'CJoO4HYD0tZRXlZqA04wmw', 'o3woQWQ-0HxFftItIEeNdw', 'XyGRDrgCK0z4CiA6nhwEaw', 'RHdEScVIAQ7xzFFMiQEnAQ', 'AL89lQXFfE0HpbTvpxuSkA', 'xwKYBPO0ByGlkvNcr8FdqQ', 'jZ1rUspubgkuZjwKJMhEEw', 'dlOTtFJbcyN1m5PR2IDxOg']\n",
      "paLJY4aAvDztGJ81FouxXw ['eGi7CE2YaN6YMiGyXNi8XQ', 'a_oRfgkNFnulTada--P_Tg', 'RIQ5ALCz1-oi98ViCO7kgQ', 'RHdEScVIAQ7xzFFMiQEnAQ', 'o3woQWQ-0HxFftItIEeNdw', 'xwKYBPO0ByGlkvNcr8FdqQ', 'XyGRDrgCK0z4CiA6nhwEaw', 'AL89lQXFfE0HpbTvpxuSkA', 'jZ1rUspubgkuZjwKJMhEEw', 'dlOTtFJbcyN1m5PR2IDxOg']\n",
      "_gdvMOSn8jiZ4wAQQACPdQ ['eGi7CE2YaN6YMiGyXNi8XQ', 'RIQ5ALCz1-oi98ViCO7kgQ', 'a_oRfgkNFnulTada--P_Tg', 'o3woQWQ-0HxFftItIEeNdw', 'RHdEScVIAQ7xzFFMiQEnAQ', 'AL89lQXFfE0HpbTvpxuSkA', 'XyGRDrgCK0z4CiA6nhwEaw', 'jZ1rUspubgkuZjwKJMhEEw', 'dlOTtFJbcyN1m5PR2IDxOg', '5CX7rtnwYnmqFCihOyWivg']\n",
      "tzhNRZH08WA6nt4sRqX0Ew ['eGi7CE2YaN6YMiGyXNi8XQ', 'RIQ5ALCz1-oi98ViCO7kgQ', 'a_oRfgkNFnulTada--P_Tg', 'CJoO4HYD0tZRXlZqA04wmw', 'o3woQWQ-0HxFftItIEeNdw', 'dlOTtFJbcyN1m5PR2IDxOg', 'AL89lQXFfE0HpbTvpxuSkA', 'jZ1rUspubgkuZjwKJMhEEw', 'XyGRDrgCK0z4CiA6nhwEaw', '5Ce3lZksYVkCbrihqylVHQ']\n",
      "fdFgZQQYQJeEAshH4lxSfQ ['eGi7CE2YaN6YMiGyXNi8XQ', 'RIQ5ALCz1-oi98ViCO7kgQ', 'a_oRfgkNFnulTada--P_Tg', 'CJoO4HYD0tZRXlZqA04wmw', 'dlOTtFJbcyN1m5PR2IDxOg', 'AL89lQXFfE0HpbTvpxuSkA', 'xwKYBPO0ByGlkvNcr8FdqQ', 'XyGRDrgCK0z4CiA6nhwEaw', '5CX7rtnwYnmqFCihOyWivg', 'KZA_HEOsBXf8dtrk9rqNJA']\n",
      "X8XtgHQP0ZbwGryabs0aSg ['eGi7CE2YaN6YMiGyXNi8XQ', 'RIQ5ALCz1-oi98ViCO7kgQ', 'a_oRfgkNFnulTada--P_Tg', 'CJoO4HYD0tZRXlZqA04wmw', 'o3woQWQ-0HxFftItIEeNdw', 'AL89lQXFfE0HpbTvpxuSkA', 'XyGRDrgCK0z4CiA6nhwEaw', 'dlOTtFJbcyN1m5PR2IDxOg', 'jZ1rUspubgkuZjwKJMhEEw', 'xwKYBPO0ByGlkvNcr8FdqQ']\n",
      "_HHDVMWWjKlQu4H3_PhoIA ['eGi7CE2YaN6YMiGyXNi8XQ', 'RIQ5ALCz1-oi98ViCO7kgQ', 'a_oRfgkNFnulTada--P_Tg', 'o3woQWQ-0HxFftItIEeNdw', 'AL89lQXFfE0HpbTvpxuSkA', 'XyGRDrgCK0z4CiA6nhwEaw', 'xwKYBPO0ByGlkvNcr8FdqQ', 'jZ1rUspubgkuZjwKJMhEEw', 'dlOTtFJbcyN1m5PR2IDxOg', 'KZA_HEOsBXf8dtrk9rqNJA']\n",
      "UUnDp9btygUEsR1jFId54w ['eGi7CE2YaN6YMiGyXNi8XQ', 'RIQ5ALCz1-oi98ViCO7kgQ', 'RHdEScVIAQ7xzFFMiQEnAQ', 'a_oRfgkNFnulTada--P_Tg', 'CJoO4HYD0tZRXlZqA04wmw', 'o3woQWQ-0HxFftItIEeNdw', 'dlOTtFJbcyN1m5PR2IDxOg', 'XyGRDrgCK0z4CiA6nhwEaw', 'AL89lQXFfE0HpbTvpxuSkA', 'jZ1rUspubgkuZjwKJMhEEw']\n",
      "3EMhDUcXIu5j7fj_M8sfnQ ['eGi7CE2YaN6YMiGyXNi8XQ', 'RIQ5ALCz1-oi98ViCO7kgQ', 'a_oRfgkNFnulTada--P_Tg', 'RHdEScVIAQ7xzFFMiQEnAQ', 'CJoO4HYD0tZRXlZqA04wmw', 'XyGRDrgCK0z4CiA6nhwEaw', 'AL89lQXFfE0HpbTvpxuSkA', 'o3woQWQ-0HxFftItIEeNdw', 'xwKYBPO0ByGlkvNcr8FdqQ', 'dlOTtFJbcyN1m5PR2IDxOg']\n",
      "_6j6uCisr8DNewdBlZKAdQ ['eGi7CE2YaN6YMiGyXNi8XQ', 'RIQ5ALCz1-oi98ViCO7kgQ', 'a_oRfgkNFnulTada--P_Tg', 'RHdEScVIAQ7xzFFMiQEnAQ', 'XyGRDrgCK0z4CiA6nhwEaw', 'CJoO4HYD0tZRXlZqA04wmw', 'AL89lQXFfE0HpbTvpxuSkA', 'jZ1rUspubgkuZjwKJMhEEw', 'xwKYBPO0ByGlkvNcr8FdqQ', '5CX7rtnwYnmqFCihOyWivg']\n",
      "L2U4I05dvNsgCpm0NIxkJA ['eGi7CE2YaN6YMiGyXNi8XQ', 'RIQ5ALCz1-oi98ViCO7kgQ', 'o3woQWQ-0HxFftItIEeNdw', 'AL89lQXFfE0HpbTvpxuSkA', 'jZ1rUspubgkuZjwKJMhEEw', 'XyGRDrgCK0z4CiA6nhwEaw', '5CX7rtnwYnmqFCihOyWivg', 'dlOTtFJbcyN1m5PR2IDxOg', 'xwKYBPO0ByGlkvNcr8FdqQ', '5Ce3lZksYVkCbrihqylVHQ']\n",
      "2jDq1qdBpMexpsf0iDu_rg ['eGi7CE2YaN6YMiGyXNi8XQ', 'CJoO4HYD0tZRXlZqA04wmw', 'o3woQWQ-0HxFftItIEeNdw', 'AL89lQXFfE0HpbTvpxuSkA', 'jZ1rUspubgkuZjwKJMhEEw', 'dlOTtFJbcyN1m5PR2IDxOg', 'xwKYBPO0ByGlkvNcr8FdqQ', 'XyGRDrgCK0z4CiA6nhwEaw', '5CX7rtnwYnmqFCihOyWivg', '5Ce3lZksYVkCbrihqylVHQ']\n",
      "S5x563AQNAQl3nX6w_4OFQ ['eGi7CE2YaN6YMiGyXNi8XQ', 'a_oRfgkNFnulTada--P_Tg', 'RIQ5ALCz1-oi98ViCO7kgQ', 'CJoO4HYD0tZRXlZqA04wmw', 'XyGRDrgCK0z4CiA6nhwEaw', 'AL89lQXFfE0HpbTvpxuSkA', 'dlOTtFJbcyN1m5PR2IDxOg', 'o3woQWQ-0HxFftItIEeNdw', 'xwKYBPO0ByGlkvNcr8FdqQ', 'jZ1rUspubgkuZjwKJMhEEw']\n",
      "UCXxqX1TXzv-cnAG5fYiJA ['eGi7CE2YaN6YMiGyXNi8XQ', 'RHdEScVIAQ7xzFFMiQEnAQ', 'a_oRfgkNFnulTada--P_Tg', 'RIQ5ALCz1-oi98ViCO7kgQ', 'CJoO4HYD0tZRXlZqA04wmw', 'dlOTtFJbcyN1m5PR2IDxOg', 'o3woQWQ-0HxFftItIEeNdw', 'AL89lQXFfE0HpbTvpxuSkA', 'XyGRDrgCK0z4CiA6nhwEaw', 'xwKYBPO0ByGlkvNcr8FdqQ']\n",
      "IJN-45eOGi1gUihoYAc5jQ ['RIQ5ALCz1-oi98ViCO7kgQ', 'eGi7CE2YaN6YMiGyXNi8XQ', 'CJoO4HYD0tZRXlZqA04wmw', 'o3woQWQ-0HxFftItIEeNdw', 'a_oRfgkNFnulTada--P_Tg', 'AL89lQXFfE0HpbTvpxuSkA', 'xwKYBPO0ByGlkvNcr8FdqQ', 'jZ1rUspubgkuZjwKJMhEEw', 'dlOTtFJbcyN1m5PR2IDxOg', 'KZA_HEOsBXf8dtrk9rqNJA']\n",
      "EbTcQEy1NT7ZY9WZSkhLWA ['eGi7CE2YaN6YMiGyXNi8XQ', 'RIQ5ALCz1-oi98ViCO7kgQ', 'a_oRfgkNFnulTada--P_Tg', 'CJoO4HYD0tZRXlZqA04wmw', 'RHdEScVIAQ7xzFFMiQEnAQ', 'o3woQWQ-0HxFftItIEeNdw', 'dlOTtFJbcyN1m5PR2IDxOg', 'xwKYBPO0ByGlkvNcr8FdqQ', 'XyGRDrgCK0z4CiA6nhwEaw', 'jZ1rUspubgkuZjwKJMhEEw']\n",
      "z0PW5YguGTOTv8ulStY-dA ['eGi7CE2YaN6YMiGyXNi8XQ', 'RIQ5ALCz1-oi98ViCO7kgQ', 'a_oRfgkNFnulTada--P_Tg', 'CJoO4HYD0tZRXlZqA04wmw', 'o3woQWQ-0HxFftItIEeNdw', 'xwKYBPO0ByGlkvNcr8FdqQ', 'dlOTtFJbcyN1m5PR2IDxOg', 'AL89lQXFfE0HpbTvpxuSkA', 'jZ1rUspubgkuZjwKJMhEEw', 'XyGRDrgCK0z4CiA6nhwEaw']\n",
      "nATWwNpLTTLaBgnnnBHHQQ ['eGi7CE2YaN6YMiGyXNi8XQ', 'a_oRfgkNFnulTada--P_Tg', 'RIQ5ALCz1-oi98ViCO7kgQ', 'CJoO4HYD0tZRXlZqA04wmw', 'o3woQWQ-0HxFftItIEeNdw', 'AL89lQXFfE0HpbTvpxuSkA', 'XyGRDrgCK0z4CiA6nhwEaw', 'xwKYBPO0ByGlkvNcr8FdqQ', 'KZA_HEOsBXf8dtrk9rqNJA', 'jZ1rUspubgkuZjwKJMhEEw']\n",
      "AFzZG0uEtCYb_PbE1z1S1Q ['eGi7CE2YaN6YMiGyXNi8XQ', 'RIQ5ALCz1-oi98ViCO7kgQ', 'a_oRfgkNFnulTada--P_Tg', 'RHdEScVIAQ7xzFFMiQEnAQ', 'o3woQWQ-0HxFftItIEeNdw', 'p7tSGmWpFV246aYhwODgBg', 'AL89lQXFfE0HpbTvpxuSkA', 'xwKYBPO0ByGlkvNcr8FdqQ', 'XyGRDrgCK0z4CiA6nhwEaw', 'KZA_HEOsBXf8dtrk9rqNJA']\n",
      "UgnyVIliPX42Q4E0ydISUA ['eGi7CE2YaN6YMiGyXNi8XQ', 'RIQ5ALCz1-oi98ViCO7kgQ', 'p7tSGmWpFV246aYhwODgBg', 'RHdEScVIAQ7xzFFMiQEnAQ', 'CJoO4HYD0tZRXlZqA04wmw', 'a_oRfgkNFnulTada--P_Tg', 'o3woQWQ-0HxFftItIEeNdw', 'AL89lQXFfE0HpbTvpxuSkA', 'KZA_HEOsBXf8dtrk9rqNJA', 'dlOTtFJbcyN1m5PR2IDxOg']\n",
      "dF_BjVwbe-PUr8jIZo6c_Q ['RIQ5ALCz1-oi98ViCO7kgQ', 'eGi7CE2YaN6YMiGyXNi8XQ', 'RHdEScVIAQ7xzFFMiQEnAQ', 'p7tSGmWpFV246aYhwODgBg', 'dlOTtFJbcyN1m5PR2IDxOg', 'CJoO4HYD0tZRXlZqA04wmw', 'XyGRDrgCK0z4CiA6nhwEaw', 'o3woQWQ-0HxFftItIEeNdw', 'AL89lQXFfE0HpbTvpxuSkA', 'xwKYBPO0ByGlkvNcr8FdqQ']\n",
      "LQLdM-gdZFA7sOK_AUebjw ['eGi7CE2YaN6YMiGyXNi8XQ', 'RIQ5ALCz1-oi98ViCO7kgQ', 'CJoO4HYD0tZRXlZqA04wmw', 'XyGRDrgCK0z4CiA6nhwEaw', 'RHdEScVIAQ7xzFFMiQEnAQ', 'o3woQWQ-0HxFftItIEeNdw', 'xwKYBPO0ByGlkvNcr8FdqQ', 'p7tSGmWpFV246aYhwODgBg', 'dlOTtFJbcyN1m5PR2IDxOg', 'AL89lQXFfE0HpbTvpxuSkA']\n",
      "9cLyJWjfIc-xnWOmmHHt-Q ['eGi7CE2YaN6YMiGyXNi8XQ', 'RIQ5ALCz1-oi98ViCO7kgQ', 'RHdEScVIAQ7xzFFMiQEnAQ', 'p7tSGmWpFV246aYhwODgBg', 'a_oRfgkNFnulTada--P_Tg', 'CJoO4HYD0tZRXlZqA04wmw', 'o3woQWQ-0HxFftItIEeNdw', 'XyGRDrgCK0z4CiA6nhwEaw', 'AL89lQXFfE0HpbTvpxuSkA', 'dlOTtFJbcyN1m5PR2IDxOg']\n",
      "BCPkiYf2aSkdPIlXeYyBRQ ['eGi7CE2YaN6YMiGyXNi8XQ', 'RIQ5ALCz1-oi98ViCO7kgQ', 'p7tSGmWpFV246aYhwODgBg', 'CJoO4HYD0tZRXlZqA04wmw', 'RHdEScVIAQ7xzFFMiQEnAQ', 'o3woQWQ-0HxFftItIEeNdw', 'XyGRDrgCK0z4CiA6nhwEaw', 'AL89lQXFfE0HpbTvpxuSkA', 'xwKYBPO0ByGlkvNcr8FdqQ', 'dlOTtFJbcyN1m5PR2IDxOg']\n",
      "oK6BTmNydLPxpaHBnKex1g ['eGi7CE2YaN6YMiGyXNi8XQ', 'RIQ5ALCz1-oi98ViCO7kgQ', 'RHdEScVIAQ7xzFFMiQEnAQ', 'p7tSGmWpFV246aYhwODgBg', 'a_oRfgkNFnulTada--P_Tg', 'CJoO4HYD0tZRXlZqA04wmw', 'o3woQWQ-0HxFftItIEeNdw', 'xwKYBPO0ByGlkvNcr8FdqQ', 'dlOTtFJbcyN1m5PR2IDxOg', 'XyGRDrgCK0z4CiA6nhwEaw']\n",
      "EnFRwa9xPq9QaE4jBjFhlw ['RHdEScVIAQ7xzFFMiQEnAQ', 'RIQ5ALCz1-oi98ViCO7kgQ', 'p7tSGmWpFV246aYhwODgBg', 'CJoO4HYD0tZRXlZqA04wmw', 'o3woQWQ-0HxFftItIEeNdw', 'AL89lQXFfE0HpbTvpxuSkA', 'XyGRDrgCK0z4CiA6nhwEaw', 'dlOTtFJbcyN1m5PR2IDxOg', 'xwKYBPO0ByGlkvNcr8FdqQ', 'jZ1rUspubgkuZjwKJMhEEw']\n",
      "5xheXFAZ3IrZDnojUbvMlQ ['eGi7CE2YaN6YMiGyXNi8XQ', 'RIQ5ALCz1-oi98ViCO7kgQ', 'a_oRfgkNFnulTada--P_Tg', 'RHdEScVIAQ7xzFFMiQEnAQ', 'p7tSGmWpFV246aYhwODgBg', 'o3woQWQ-0HxFftItIEeNdw', 'AL89lQXFfE0HpbTvpxuSkA', 'XyGRDrgCK0z4CiA6nhwEaw', 'KZA_HEOsBXf8dtrk9rqNJA', 'dlOTtFJbcyN1m5PR2IDxOg']\n",
      "uLVmAXe6FO5YmVHee9zTwA ['eGi7CE2YaN6YMiGyXNi8XQ', 'RIQ5ALCz1-oi98ViCO7kgQ', 'a_oRfgkNFnulTada--P_Tg', 'RHdEScVIAQ7xzFFMiQEnAQ', 'CJoO4HYD0tZRXlZqA04wmw', 'p7tSGmWpFV246aYhwODgBg', 'XyGRDrgCK0z4CiA6nhwEaw', 'AL89lQXFfE0HpbTvpxuSkA', 'o3woQWQ-0HxFftItIEeNdw', 'xwKYBPO0ByGlkvNcr8FdqQ']\n",
      "xdEEatG19QPNdRw_ovDeFg ['eGi7CE2YaN6YMiGyXNi8XQ', 'RIQ5ALCz1-oi98ViCO7kgQ', 'a_oRfgkNFnulTada--P_Tg', 'p7tSGmWpFV246aYhwODgBg', 'RHdEScVIAQ7xzFFMiQEnAQ', 'dlOTtFJbcyN1m5PR2IDxOg', 'CJoO4HYD0tZRXlZqA04wmw', 'xwKYBPO0ByGlkvNcr8FdqQ', 'AL89lQXFfE0HpbTvpxuSkA', 'XyGRDrgCK0z4CiA6nhwEaw']\n",
      "ejAkVmcQR4KI-AX8lZ0MxQ ['eGi7CE2YaN6YMiGyXNi8XQ', 'RIQ5ALCz1-oi98ViCO7kgQ', 'a_oRfgkNFnulTada--P_Tg', 'p7tSGmWpFV246aYhwODgBg', 'RHdEScVIAQ7xzFFMiQEnAQ', 'CJoO4HYD0tZRXlZqA04wmw', 'dlOTtFJbcyN1m5PR2IDxOg', 'o3woQWQ-0HxFftItIEeNdw', 'AL89lQXFfE0HpbTvpxuSkA', 'xwKYBPO0ByGlkvNcr8FdqQ']\n",
      "W487y_f0gsGpzVSuzBOq2A ['eGi7CE2YaN6YMiGyXNi8XQ', 'RIQ5ALCz1-oi98ViCO7kgQ', 'CJoO4HYD0tZRXlZqA04wmw', 'p7tSGmWpFV246aYhwODgBg', 'o3woQWQ-0HxFftItIEeNdw', 'a_oRfgkNFnulTada--P_Tg', 'AL89lQXFfE0HpbTvpxuSkA', 'xwKYBPO0ByGlkvNcr8FdqQ', 'dlOTtFJbcyN1m5PR2IDxOg', 'XyGRDrgCK0z4CiA6nhwEaw']\n",
      "E3R01ki3iaic1nonV83yng ['eGi7CE2YaN6YMiGyXNi8XQ', 'RIQ5ALCz1-oi98ViCO7kgQ', 'a_oRfgkNFnulTada--P_Tg', 'RHdEScVIAQ7xzFFMiQEnAQ', 'p7tSGmWpFV246aYhwODgBg', 'XyGRDrgCK0z4CiA6nhwEaw', 'AL89lQXFfE0HpbTvpxuSkA', 'o3woQWQ-0HxFftItIEeNdw', 'dlOTtFJbcyN1m5PR2IDxOg', 'jZ1rUspubgkuZjwKJMhEEw']\n",
      "2YKkLFeOx-0zRcWp0KUv_Q ['eGi7CE2YaN6YMiGyXNi8XQ', 'RIQ5ALCz1-oi98ViCO7kgQ', 'a_oRfgkNFnulTada--P_Tg', 'CJoO4HYD0tZRXlZqA04wmw', 'o3woQWQ-0HxFftItIEeNdw', 'RHdEScVIAQ7xzFFMiQEnAQ', 'XyGRDrgCK0z4CiA6nhwEaw', 'AL89lQXFfE0HpbTvpxuSkA', 'p7tSGmWpFV246aYhwODgBg', 'xwKYBPO0ByGlkvNcr8FdqQ']\n",
      "H9UDyc6ztdw6LSINhJMqzQ ['eGi7CE2YaN6YMiGyXNi8XQ', 'RIQ5ALCz1-oi98ViCO7kgQ', 'a_oRfgkNFnulTada--P_Tg', 'CJoO4HYD0tZRXlZqA04wmw', 'o3woQWQ-0HxFftItIEeNdw', 'AL89lQXFfE0HpbTvpxuSkA', 'p7tSGmWpFV246aYhwODgBg', 'xwKYBPO0ByGlkvNcr8FdqQ', 'XyGRDrgCK0z4CiA6nhwEaw', 'dlOTtFJbcyN1m5PR2IDxOg']\n",
      "064Z_GuIr54fgJdmDXqnGA ['eGi7CE2YaN6YMiGyXNi8XQ', 'RIQ5ALCz1-oi98ViCO7kgQ', 'a_oRfgkNFnulTada--P_Tg', 'RHdEScVIAQ7xzFFMiQEnAQ', 'o3woQWQ-0HxFftItIEeNdw', 'p7tSGmWpFV246aYhwODgBg', 'xwKYBPO0ByGlkvNcr8FdqQ', 'XyGRDrgCK0z4CiA6nhwEaw', 'jZ1rUspubgkuZjwKJMhEEw', 'KZA_HEOsBXf8dtrk9rqNJA']\n",
      "srx_nUpba8cwwzdcZunaCA ['eGi7CE2YaN6YMiGyXNi8XQ', 'a_oRfgkNFnulTada--P_Tg', 'RIQ5ALCz1-oi98ViCO7kgQ', 'CJoO4HYD0tZRXlZqA04wmw', 'o3woQWQ-0HxFftItIEeNdw', 'XyGRDrgCK0z4CiA6nhwEaw', 'p7tSGmWpFV246aYhwODgBg', 'AL89lQXFfE0HpbTvpxuSkA', 'jZ1rUspubgkuZjwKJMhEEw', 'xwKYBPO0ByGlkvNcr8FdqQ']\n",
      "Crl7HrLxzRlyFSjbtKbrVA ['eGi7CE2YaN6YMiGyXNi8XQ', 'a_oRfgkNFnulTada--P_Tg', 'RIQ5ALCz1-oi98ViCO7kgQ', 'o3woQWQ-0HxFftItIEeNdw', 'CJoO4HYD0tZRXlZqA04wmw', 'p7tSGmWpFV246aYhwODgBg', 'AL89lQXFfE0HpbTvpxuSkA', 'XyGRDrgCK0z4CiA6nhwEaw', 'xwKYBPO0ByGlkvNcr8FdqQ', 'dlOTtFJbcyN1m5PR2IDxOg']\n",
      "sb3zO7uWR164lMqIOAkHXA ['eGi7CE2YaN6YMiGyXNi8XQ', 'a_oRfgkNFnulTada--P_Tg', 'RHdEScVIAQ7xzFFMiQEnAQ', 'CJoO4HYD0tZRXlZqA04wmw', 'p7tSGmWpFV246aYhwODgBg', 'o3woQWQ-0HxFftItIEeNdw', 'XyGRDrgCK0z4CiA6nhwEaw', 'xwKYBPO0ByGlkvNcr8FdqQ', 'dlOTtFJbcyN1m5PR2IDxOg', 'AL89lQXFfE0HpbTvpxuSkA']\n",
      "VlKNRnmHXQ3rtQb3HPlVag ['eGi7CE2YaN6YMiGyXNi8XQ', 'RIQ5ALCz1-oi98ViCO7kgQ', 'a_oRfgkNFnulTada--P_Tg', 'CJoO4HYD0tZRXlZqA04wmw', 'RHdEScVIAQ7xzFFMiQEnAQ', 'p7tSGmWpFV246aYhwODgBg', 'XyGRDrgCK0z4CiA6nhwEaw', 'AL89lQXFfE0HpbTvpxuSkA', 'o3woQWQ-0HxFftItIEeNdw', 'xwKYBPO0ByGlkvNcr8FdqQ']\n",
      "644ayOUQsX2VGUJHlFemIw ['eGi7CE2YaN6YMiGyXNi8XQ', 'a_oRfgkNFnulTada--P_Tg', 'RIQ5ALCz1-oi98ViCO7kgQ', 'RHdEScVIAQ7xzFFMiQEnAQ', 'p7tSGmWpFV246aYhwODgBg', 'CJoO4HYD0tZRXlZqA04wmw', 'XyGRDrgCK0z4CiA6nhwEaw', 'AL89lQXFfE0HpbTvpxuSkA', 'dlOTtFJbcyN1m5PR2IDxOg', 'jZ1rUspubgkuZjwKJMhEEw']\n",
      "2BBFzoiSwHAzoAB8TYLPDQ ['eGi7CE2YaN6YMiGyXNi8XQ', 'RHdEScVIAQ7xzFFMiQEnAQ', 'RIQ5ALCz1-oi98ViCO7kgQ', 'CJoO4HYD0tZRXlZqA04wmw', 'p7tSGmWpFV246aYhwODgBg', 'XyGRDrgCK0z4CiA6nhwEaw', 'AL89lQXFfE0HpbTvpxuSkA', 'dlOTtFJbcyN1m5PR2IDxOg', 'o3woQWQ-0HxFftItIEeNdw', 'xwKYBPO0ByGlkvNcr8FdqQ']\n",
      "FBepvOKdCoLvg2ufO8Xxew ['eGi7CE2YaN6YMiGyXNi8XQ', 'a_oRfgkNFnulTada--P_Tg', 'RIQ5ALCz1-oi98ViCO7kgQ', 'p7tSGmWpFV246aYhwODgBg', 'RHdEScVIAQ7xzFFMiQEnAQ', 'o3woQWQ-0HxFftItIEeNdw', 'jZ1rUspubgkuZjwKJMhEEw', 'AL89lQXFfE0HpbTvpxuSkA', 'KZA_HEOsBXf8dtrk9rqNJA', 'dlOTtFJbcyN1m5PR2IDxOg']\n",
      "9HQLEChkam3GMBQn0SmvVw ['eGi7CE2YaN6YMiGyXNi8XQ', 'RIQ5ALCz1-oi98ViCO7kgQ', 'a_oRfgkNFnulTada--P_Tg', 'CJoO4HYD0tZRXlZqA04wmw', 'p7tSGmWpFV246aYhwODgBg', 'jZ1rUspubgkuZjwKJMhEEw', 'AL89lQXFfE0HpbTvpxuSkA', 'xwKYBPO0ByGlkvNcr8FdqQ', 'XyGRDrgCK0z4CiA6nhwEaw', 'dlOTtFJbcyN1m5PR2IDxOg']\n",
      "6yZKAnIU1v_JGhZT1W3R6Q ['eGi7CE2YaN6YMiGyXNi8XQ', 'RIQ5ALCz1-oi98ViCO7kgQ', 'CJoO4HYD0tZRXlZqA04wmw', 'RHdEScVIAQ7xzFFMiQEnAQ', 'p7tSGmWpFV246aYhwODgBg', 'a_oRfgkNFnulTada--P_Tg', 'o3woQWQ-0HxFftItIEeNdw', 'XyGRDrgCK0z4CiA6nhwEaw', 'dlOTtFJbcyN1m5PR2IDxOg', 'xwKYBPO0ByGlkvNcr8FdqQ']\n",
      "9ZX9_DKuModmgksJ91j9Gg ['eGi7CE2YaN6YMiGyXNi8XQ', 'RIQ5ALCz1-oi98ViCO7kgQ', 'CJoO4HYD0tZRXlZqA04wmw', 'p7tSGmWpFV246aYhwODgBg', 'jZ1rUspubgkuZjwKJMhEEw', 'XyGRDrgCK0z4CiA6nhwEaw', 'xwKYBPO0ByGlkvNcr8FdqQ', 'AL89lQXFfE0HpbTvpxuSkA', 'dlOTtFJbcyN1m5PR2IDxOg', '5Ce3lZksYVkCbrihqylVHQ']\n",
      "1lTOxVtP12J6rtdRmfiMPQ ['eGi7CE2YaN6YMiGyXNi8XQ', 'RIQ5ALCz1-oi98ViCO7kgQ', 'CJoO4HYD0tZRXlZqA04wmw', 'p7tSGmWpFV246aYhwODgBg', 'RHdEScVIAQ7xzFFMiQEnAQ', 'o3woQWQ-0HxFftItIEeNdw', 'AL89lQXFfE0HpbTvpxuSkA', 'XyGRDrgCK0z4CiA6nhwEaw', 'jZ1rUspubgkuZjwKJMhEEw', 'xwKYBPO0ByGlkvNcr8FdqQ']\n",
      "_2y8U7uvmp2HKT5dFrVenQ ['eGi7CE2YaN6YMiGyXNi8XQ', 'RIQ5ALCz1-oi98ViCO7kgQ', 'a_oRfgkNFnulTada--P_Tg', 'RHdEScVIAQ7xzFFMiQEnAQ', 'p7tSGmWpFV246aYhwODgBg', 'CJoO4HYD0tZRXlZqA04wmw', 'xwKYBPO0ByGlkvNcr8FdqQ', 'AL89lQXFfE0HpbTvpxuSkA', 'XyGRDrgCK0z4CiA6nhwEaw', 'jZ1rUspubgkuZjwKJMhEEw']\n",
      "08RQ3m9TjajleexxPxwtQQ ['eGi7CE2YaN6YMiGyXNi8XQ', 'RIQ5ALCz1-oi98ViCO7kgQ', 'a_oRfgkNFnulTada--P_Tg', 'RHdEScVIAQ7xzFFMiQEnAQ', 'p7tSGmWpFV246aYhwODgBg', 'o3woQWQ-0HxFftItIEeNdw', 'dlOTtFJbcyN1m5PR2IDxOg', 'AL89lQXFfE0HpbTvpxuSkA', 'XyGRDrgCK0z4CiA6nhwEaw', 'jZ1rUspubgkuZjwKJMhEEw']\n",
      "UqA28T4JXvnMLWHMlQNHOg ['eGi7CE2YaN6YMiGyXNi8XQ', 'a_oRfgkNFnulTada--P_Tg', 'RIQ5ALCz1-oi98ViCO7kgQ', 'CJoO4HYD0tZRXlZqA04wmw', 'RHdEScVIAQ7xzFFMiQEnAQ', 'o3woQWQ-0HxFftItIEeNdw', 'p7tSGmWpFV246aYhwODgBg', 'XyGRDrgCK0z4CiA6nhwEaw', 'AL89lQXFfE0HpbTvpxuSkA', 'xwKYBPO0ByGlkvNcr8FdqQ']\n",
      "jOmykVsmYxE9N_ATjCLEmQ ['eGi7CE2YaN6YMiGyXNi8XQ', 'RIQ5ALCz1-oi98ViCO7kgQ', 'a_oRfgkNFnulTada--P_Tg', 'RHdEScVIAQ7xzFFMiQEnAQ', 'o3woQWQ-0HxFftItIEeNdw', 'CJoO4HYD0tZRXlZqA04wmw', 'p7tSGmWpFV246aYhwODgBg', 'dlOTtFJbcyN1m5PR2IDxOg', 'XyGRDrgCK0z4CiA6nhwEaw', 'AL89lQXFfE0HpbTvpxuSkA']\n",
      "qjU6v-3jCJ7B4y9or3hVxw ['eGi7CE2YaN6YMiGyXNi8XQ', 'a_oRfgkNFnulTada--P_Tg', 'RIQ5ALCz1-oi98ViCO7kgQ', 'RHdEScVIAQ7xzFFMiQEnAQ', 'p7tSGmWpFV246aYhwODgBg', 'CJoO4HYD0tZRXlZqA04wmw', 'o3woQWQ-0HxFftItIEeNdw', 'dlOTtFJbcyN1m5PR2IDxOg', 'XyGRDrgCK0z4CiA6nhwEaw', 'xwKYBPO0ByGlkvNcr8FdqQ']\n",
      "uiBi3V6n_zef4W3Y4qbudw ['eGi7CE2YaN6YMiGyXNi8XQ', 'RIQ5ALCz1-oi98ViCO7kgQ', 'a_oRfgkNFnulTada--P_Tg', 'CJoO4HYD0tZRXlZqA04wmw', 'o3woQWQ-0HxFftItIEeNdw', 'p7tSGmWpFV246aYhwODgBg', 'XyGRDrgCK0z4CiA6nhwEaw', 'dlOTtFJbcyN1m5PR2IDxOg', 'xwKYBPO0ByGlkvNcr8FdqQ', 'AL89lQXFfE0HpbTvpxuSkA']\n",
      "q1WM-IA7h9cUSQBTYvqfyw ['eGi7CE2YaN6YMiGyXNi8XQ', 'RIQ5ALCz1-oi98ViCO7kgQ', 'a_oRfgkNFnulTada--P_Tg', 'CJoO4HYD0tZRXlZqA04wmw', 'RHdEScVIAQ7xzFFMiQEnAQ', 'AL89lQXFfE0HpbTvpxuSkA', 'p7tSGmWpFV246aYhwODgBg', 'dlOTtFJbcyN1m5PR2IDxOg', 'XyGRDrgCK0z4CiA6nhwEaw', 'jZ1rUspubgkuZjwKJMhEEw']\n",
      "EAHCCgMFoJxlOPcCPQ91SQ ['eGi7CE2YaN6YMiGyXNi8XQ', 'RIQ5ALCz1-oi98ViCO7kgQ', 'CJoO4HYD0tZRXlZqA04wmw', 'AL89lQXFfE0HpbTvpxuSkA', 'p7tSGmWpFV246aYhwODgBg', 'XyGRDrgCK0z4CiA6nhwEaw', 'jZ1rUspubgkuZjwKJMhEEw', 'xwKYBPO0ByGlkvNcr8FdqQ', 'dlOTtFJbcyN1m5PR2IDxOg', '5CX7rtnwYnmqFCihOyWivg']\n",
      "_5swqa5xUdLar-Q-bBZSDA ['RIQ5ALCz1-oi98ViCO7kgQ', 'eGi7CE2YaN6YMiGyXNi8XQ', 'CJoO4HYD0tZRXlZqA04wmw', 'o3woQWQ-0HxFftItIEeNdw', 'a_oRfgkNFnulTada--P_Tg', 'RHdEScVIAQ7xzFFMiQEnAQ', 'p7tSGmWpFV246aYhwODgBg', 'AL89lQXFfE0HpbTvpxuSkA', 'XyGRDrgCK0z4CiA6nhwEaw', 'xwKYBPO0ByGlkvNcr8FdqQ']\n",
      "wiBJWa3RBh-Q7jM4J4dCEw ['eGi7CE2YaN6YMiGyXNi8XQ', 'a_oRfgkNFnulTada--P_Tg', 'RIQ5ALCz1-oi98ViCO7kgQ', 'p7tSGmWpFV246aYhwODgBg', 'o3woQWQ-0HxFftItIEeNdw', 'CJoO4HYD0tZRXlZqA04wmw', 'xwKYBPO0ByGlkvNcr8FdqQ', 'XyGRDrgCK0z4CiA6nhwEaw', 'KZA_HEOsBXf8dtrk9rqNJA', 'dlOTtFJbcyN1m5PR2IDxOg']\n",
      "-7qUbOVWJp2NT3f_TNuIBA ['eGi7CE2YaN6YMiGyXNi8XQ', 'RIQ5ALCz1-oi98ViCO7kgQ', 'RHdEScVIAQ7xzFFMiQEnAQ', 'AL89lQXFfE0HpbTvpxuSkA', 'CJoO4HYD0tZRXlZqA04wmw', 'o3woQWQ-0HxFftItIEeNdw', 'XyGRDrgCK0z4CiA6nhwEaw', 'p7tSGmWpFV246aYhwODgBg', 'xwKYBPO0ByGlkvNcr8FdqQ', '5CX7rtnwYnmqFCihOyWivg']\n",
      "pdKV8bzFP0itnRPzL0nhOQ ['eGi7CE2YaN6YMiGyXNi8XQ', 'RIQ5ALCz1-oi98ViCO7kgQ', 'CJoO4HYD0tZRXlZqA04wmw', 'RHdEScVIAQ7xzFFMiQEnAQ', 'o3woQWQ-0HxFftItIEeNdw', 'p7tSGmWpFV246aYhwODgBg', 'xwKYBPO0ByGlkvNcr8FdqQ', 'XyGRDrgCK0z4CiA6nhwEaw', 'AL89lQXFfE0HpbTvpxuSkA', 'dlOTtFJbcyN1m5PR2IDxOg']\n",
      "QwW8ucobuKovGhYRbmlGeg ['eGi7CE2YaN6YMiGyXNi8XQ', 'RIQ5ALCz1-oi98ViCO7kgQ', 'RHdEScVIAQ7xzFFMiQEnAQ', 'CJoO4HYD0tZRXlZqA04wmw', 'o3woQWQ-0HxFftItIEeNdw', 'AL89lQXFfE0HpbTvpxuSkA', 'XyGRDrgCK0z4CiA6nhwEaw', 'p7tSGmWpFV246aYhwODgBg', 'dlOTtFJbcyN1m5PR2IDxOg', 'xwKYBPO0ByGlkvNcr8FdqQ']\n",
      "gBIc-oHZefce84ySGCowHg ['eGi7CE2YaN6YMiGyXNi8XQ', 'CJoO4HYD0tZRXlZqA04wmw', 'XyGRDrgCK0z4CiA6nhwEaw', 'o3woQWQ-0HxFftItIEeNdw', 'AL89lQXFfE0HpbTvpxuSkA', 'p7tSGmWpFV246aYhwODgBg', 'dlOTtFJbcyN1m5PR2IDxOg', 'jZ1rUspubgkuZjwKJMhEEw', 'xwKYBPO0ByGlkvNcr8FdqQ', '5CX7rtnwYnmqFCihOyWivg']\n",
      "rqzcmK4ysvFA_sbgYaSmdg ['eGi7CE2YaN6YMiGyXNi8XQ', 'RIQ5ALCz1-oi98ViCO7kgQ', 'RHdEScVIAQ7xzFFMiQEnAQ', 'p7tSGmWpFV246aYhwODgBg', 'CJoO4HYD0tZRXlZqA04wmw', 'dlOTtFJbcyN1m5PR2IDxOg', 'o3woQWQ-0HxFftItIEeNdw', 'XyGRDrgCK0z4CiA6nhwEaw', 'AL89lQXFfE0HpbTvpxuSkA', 'xwKYBPO0ByGlkvNcr8FdqQ']\n",
      "f2S_7RqzSyozviwe7HvzRg ['eGi7CE2YaN6YMiGyXNi8XQ', 'RIQ5ALCz1-oi98ViCO7kgQ', 'a_oRfgkNFnulTada--P_Tg', 'CJoO4HYD0tZRXlZqA04wmw', 'RHdEScVIAQ7xzFFMiQEnAQ', 'XyGRDrgCK0z4CiA6nhwEaw', 'p7tSGmWpFV246aYhwODgBg', 'AL89lQXFfE0HpbTvpxuSkA', 'xwKYBPO0ByGlkvNcr8FdqQ', 'dlOTtFJbcyN1m5PR2IDxOg']\n",
      "N_4chbXJmMnhB42hs8MhkQ ['eGi7CE2YaN6YMiGyXNi8XQ', 'RIQ5ALCz1-oi98ViCO7kgQ', 'a_oRfgkNFnulTada--P_Tg', 'CJoO4HYD0tZRXlZqA04wmw', 'p7tSGmWpFV246aYhwODgBg', 'AL89lQXFfE0HpbTvpxuSkA', 'XyGRDrgCK0z4CiA6nhwEaw', 'o3woQWQ-0HxFftItIEeNdw', 'dlOTtFJbcyN1m5PR2IDxOg', 'jZ1rUspubgkuZjwKJMhEEw']\n",
      "2MkOdtDkfqjbue--keV-_g ['eGi7CE2YaN6YMiGyXNi8XQ', 'RIQ5ALCz1-oi98ViCO7kgQ', 'CJoO4HYD0tZRXlZqA04wmw', 'p7tSGmWpFV246aYhwODgBg', 'o3woQWQ-0HxFftItIEeNdw', 'AL89lQXFfE0HpbTvpxuSkA', 'xwKYBPO0ByGlkvNcr8FdqQ', 'XyGRDrgCK0z4CiA6nhwEaw', 'jZ1rUspubgkuZjwKJMhEEw', 'KZA_HEOsBXf8dtrk9rqNJA']\n",
      "1CBylrAKwx4rHV8B3t5BXQ ['eGi7CE2YaN6YMiGyXNi8XQ', 'a_oRfgkNFnulTada--P_Tg', 'RIQ5ALCz1-oi98ViCO7kgQ', 'RHdEScVIAQ7xzFFMiQEnAQ', 'o3woQWQ-0HxFftItIEeNdw', 'p7tSGmWpFV246aYhwODgBg', 'XyGRDrgCK0z4CiA6nhwEaw', 'AL89lQXFfE0HpbTvpxuSkA', 'dlOTtFJbcyN1m5PR2IDxOg', '5CX7rtnwYnmqFCihOyWivg']\n",
      "xyFtRXaTjhStZB3Zb9uFvA ['eGi7CE2YaN6YMiGyXNi8XQ', 'RIQ5ALCz1-oi98ViCO7kgQ', 'a_oRfgkNFnulTada--P_Tg', 'CJoO4HYD0tZRXlZqA04wmw', 'o3woQWQ-0HxFftItIEeNdw', 'RHdEScVIAQ7xzFFMiQEnAQ', 'p7tSGmWpFV246aYhwODgBg', 'AL89lQXFfE0HpbTvpxuSkA', 'xwKYBPO0ByGlkvNcr8FdqQ', 'XyGRDrgCK0z4CiA6nhwEaw']\n",
      "Z1z2CuqvlgrLkme_8lBoQA ['eGi7CE2YaN6YMiGyXNi8XQ', 'RIQ5ALCz1-oi98ViCO7kgQ', 'a_oRfgkNFnulTada--P_Tg', 'RHdEScVIAQ7xzFFMiQEnAQ', 'p7tSGmWpFV246aYhwODgBg', 'AL89lQXFfE0HpbTvpxuSkA', 'o3woQWQ-0HxFftItIEeNdw', 'XyGRDrgCK0z4CiA6nhwEaw', 'xwKYBPO0ByGlkvNcr8FdqQ', 'dlOTtFJbcyN1m5PR2IDxOg']\n",
      "KWLxxZKAcdUOBqBLMPW22w ['eGi7CE2YaN6YMiGyXNi8XQ', 'RIQ5ALCz1-oi98ViCO7kgQ', 'a_oRfgkNFnulTada--P_Tg', 'o3woQWQ-0HxFftItIEeNdw', 'XyGRDrgCK0z4CiA6nhwEaw', 'jZ1rUspubgkuZjwKJMhEEw', 'RHdEScVIAQ7xzFFMiQEnAQ', 'p7tSGmWpFV246aYhwODgBg', 'AL89lQXFfE0HpbTvpxuSkA', 'dlOTtFJbcyN1m5PR2IDxOg']\n",
      "ES12kMOR5fdoEnSXvxE0qw ['eGi7CE2YaN6YMiGyXNi8XQ', 'RIQ5ALCz1-oi98ViCO7kgQ', 'a_oRfgkNFnulTada--P_Tg', 'RHdEScVIAQ7xzFFMiQEnAQ', 'AL89lQXFfE0HpbTvpxuSkA', 'o3woQWQ-0HxFftItIEeNdw', 'XyGRDrgCK0z4CiA6nhwEaw', 'xwKYBPO0ByGlkvNcr8FdqQ', 'dlOTtFJbcyN1m5PR2IDxOg', 'p7tSGmWpFV246aYhwODgBg']\n",
      "U13tLFucJNz1fNv_Xgdj0g ['eGi7CE2YaN6YMiGyXNi8XQ', 'a_oRfgkNFnulTada--P_Tg', 'RIQ5ALCz1-oi98ViCO7kgQ', 'RHdEScVIAQ7xzFFMiQEnAQ', 'o3woQWQ-0HxFftItIEeNdw', 'p7tSGmWpFV246aYhwODgBg', 'AL89lQXFfE0HpbTvpxuSkA', 'XyGRDrgCK0z4CiA6nhwEaw', 'dlOTtFJbcyN1m5PR2IDxOg', 'xwKYBPO0ByGlkvNcr8FdqQ']\n",
      "sp_jVio5dOEKyKL1HppcFw ['eGi7CE2YaN6YMiGyXNi8XQ', 'RIQ5ALCz1-oi98ViCO7kgQ', 'a_oRfgkNFnulTada--P_Tg', 'p7tSGmWpFV246aYhwODgBg', 'RHdEScVIAQ7xzFFMiQEnAQ', 'XyGRDrgCK0z4CiA6nhwEaw', 'AL89lQXFfE0HpbTvpxuSkA', 'xwKYBPO0ByGlkvNcr8FdqQ', 'o3woQWQ-0HxFftItIEeNdw', 'dlOTtFJbcyN1m5PR2IDxOg']\n",
      "iyh0e8DUjnrnq2-kirK09g ['eGi7CE2YaN6YMiGyXNi8XQ', 'RIQ5ALCz1-oi98ViCO7kgQ', 'a_oRfgkNFnulTada--P_Tg', 'RHdEScVIAQ7xzFFMiQEnAQ', 'o3woQWQ-0HxFftItIEeNdw', 'p7tSGmWpFV246aYhwODgBg', 'AL89lQXFfE0HpbTvpxuSkA', 'XyGRDrgCK0z4CiA6nhwEaw', 'jZ1rUspubgkuZjwKJMhEEw', 'dlOTtFJbcyN1m5PR2IDxOg']\n",
      "c_eudHft3OL_6d_59thukA ['eGi7CE2YaN6YMiGyXNi8XQ', 'RHdEScVIAQ7xzFFMiQEnAQ', 'a_oRfgkNFnulTada--P_Tg', 'RIQ5ALCz1-oi98ViCO7kgQ', 'p7tSGmWpFV246aYhwODgBg', 'o3woQWQ-0HxFftItIEeNdw', 'AL89lQXFfE0HpbTvpxuSkA', 'XyGRDrgCK0z4CiA6nhwEaw', 'dlOTtFJbcyN1m5PR2IDxOg', 'xwKYBPO0ByGlkvNcr8FdqQ']\n",
      "AbOaXoif__VIBGEvNKXONQ ['eGi7CE2YaN6YMiGyXNi8XQ', 'RIQ5ALCz1-oi98ViCO7kgQ', 'a_oRfgkNFnulTada--P_Tg', 'RHdEScVIAQ7xzFFMiQEnAQ', 'p7tSGmWpFV246aYhwODgBg', 'xwKYBPO0ByGlkvNcr8FdqQ', 'o3woQWQ-0HxFftItIEeNdw', 'AL89lQXFfE0HpbTvpxuSkA', 'XyGRDrgCK0z4CiA6nhwEaw', '5CX7rtnwYnmqFCihOyWivg']\n",
      "NemUYqVe64qySsPPXPDX_g ['eGi7CE2YaN6YMiGyXNi8XQ', 'a_oRfgkNFnulTada--P_Tg', 'RHdEScVIAQ7xzFFMiQEnAQ', 'XyGRDrgCK0z4CiA6nhwEaw', 'o3woQWQ-0HxFftItIEeNdw', 'p7tSGmWpFV246aYhwODgBg', 'AL89lQXFfE0HpbTvpxuSkA', 'dlOTtFJbcyN1m5PR2IDxOg', 'xwKYBPO0ByGlkvNcr8FdqQ', 'KZA_HEOsBXf8dtrk9rqNJA']\n",
      "qbcYFwSQaMYvScAiaZlBOQ ['eGi7CE2YaN6YMiGyXNi8XQ', 'RIQ5ALCz1-oi98ViCO7kgQ', 'a_oRfgkNFnulTada--P_Tg', 'RHdEScVIAQ7xzFFMiQEnAQ', 'p7tSGmWpFV246aYhwODgBg', 'AL89lQXFfE0HpbTvpxuSkA', 'o3woQWQ-0HxFftItIEeNdw', 'XyGRDrgCK0z4CiA6nhwEaw', 'dlOTtFJbcyN1m5PR2IDxOg', 'KZA_HEOsBXf8dtrk9rqNJA']\n",
      "2HA_Ub0s2qACtlOkrTe1DQ ['RIQ5ALCz1-oi98ViCO7kgQ', 'RHdEScVIAQ7xzFFMiQEnAQ', 'a_oRfgkNFnulTada--P_Tg', 'p7tSGmWpFV246aYhwODgBg', 'o3woQWQ-0HxFftItIEeNdw', 'AL89lQXFfE0HpbTvpxuSkA', 'dlOTtFJbcyN1m5PR2IDxOg', 'XyGRDrgCK0z4CiA6nhwEaw', 'jZ1rUspubgkuZjwKJMhEEw', '5Ce3lZksYVkCbrihqylVHQ']\n",
      "YG-eYLLjy4hdblS2kzN74w ['eGi7CE2YaN6YMiGyXNi8XQ', 'a_oRfgkNFnulTada--P_Tg', 'RIQ5ALCz1-oi98ViCO7kgQ', 'p7tSGmWpFV246aYhwODgBg', 'o3woQWQ-0HxFftItIEeNdw', 'AL89lQXFfE0HpbTvpxuSkA', 'XyGRDrgCK0z4CiA6nhwEaw', 'dlOTtFJbcyN1m5PR2IDxOg', 'KZA_HEOsBXf8dtrk9rqNJA', 'jZ1rUspubgkuZjwKJMhEEw']\n",
      "uQSMq3_ovqrC7lMbMuCcMw ['eGi7CE2YaN6YMiGyXNi8XQ', 'a_oRfgkNFnulTada--P_Tg', 'RIQ5ALCz1-oi98ViCO7kgQ', 'AL89lQXFfE0HpbTvpxuSkA', 'RHdEScVIAQ7xzFFMiQEnAQ', 'XyGRDrgCK0z4CiA6nhwEaw', 'o3woQWQ-0HxFftItIEeNdw', 'p7tSGmWpFV246aYhwODgBg', 'jZ1rUspubgkuZjwKJMhEEw', 'dlOTtFJbcyN1m5PR2IDxOg']\n",
      "YqwMogZFyPma3duvK8n9vg ['eGi7CE2YaN6YMiGyXNi8XQ', 'a_oRfgkNFnulTada--P_Tg', 'RIQ5ALCz1-oi98ViCO7kgQ', 'o3woQWQ-0HxFftItIEeNdw', 'RHdEScVIAQ7xzFFMiQEnAQ', 'AL89lQXFfE0HpbTvpxuSkA', 'p7tSGmWpFV246aYhwODgBg', 'XyGRDrgCK0z4CiA6nhwEaw', 'dlOTtFJbcyN1m5PR2IDxOg', 'xwKYBPO0ByGlkvNcr8FdqQ']\n",
      "8rFBRygifIKwtObi18XbbA ['eGi7CE2YaN6YMiGyXNi8XQ', 'RIQ5ALCz1-oi98ViCO7kgQ', 'a_oRfgkNFnulTada--P_Tg', 'RHdEScVIAQ7xzFFMiQEnAQ', 'p7tSGmWpFV246aYhwODgBg', 'o3woQWQ-0HxFftItIEeNdw', 'XyGRDrgCK0z4CiA6nhwEaw', 'dlOTtFJbcyN1m5PR2IDxOg', 'AL89lQXFfE0HpbTvpxuSkA', 'xwKYBPO0ByGlkvNcr8FdqQ']\n",
      "ODiLDviznULKYAUPKWpKsg ['eGi7CE2YaN6YMiGyXNi8XQ', 'a_oRfgkNFnulTada--P_Tg', 'p7tSGmWpFV246aYhwODgBg', 'RIQ5ALCz1-oi98ViCO7kgQ', 'o3woQWQ-0HxFftItIEeNdw', 'dlOTtFJbcyN1m5PR2IDxOg', 'AL89lQXFfE0HpbTvpxuSkA', 'XyGRDrgCK0z4CiA6nhwEaw', 'jZ1rUspubgkuZjwKJMhEEw', '5Ce3lZksYVkCbrihqylVHQ']\n",
      "gUwNvcxv8POu1YA14h7vnQ ['eGi7CE2YaN6YMiGyXNi8XQ', 'RIQ5ALCz1-oi98ViCO7kgQ', 'a_oRfgkNFnulTada--P_Tg', 'RHdEScVIAQ7xzFFMiQEnAQ', 'o3woQWQ-0HxFftItIEeNdw', 'p7tSGmWpFV246aYhwODgBg', 'XyGRDrgCK0z4CiA6nhwEaw', 'AL89lQXFfE0HpbTvpxuSkA', 'jZ1rUspubgkuZjwKJMhEEw', 'dlOTtFJbcyN1m5PR2IDxOg']\n",
      "6OuKaAR3XAGeIQouC2IqNw ['eGi7CE2YaN6YMiGyXNi8XQ', 'RIQ5ALCz1-oi98ViCO7kgQ', 'a_oRfgkNFnulTada--P_Tg', 'o3woQWQ-0HxFftItIEeNdw', 'p7tSGmWpFV246aYhwODgBg', 'jZ1rUspubgkuZjwKJMhEEw', 'XyGRDrgCK0z4CiA6nhwEaw', 'AL89lQXFfE0HpbTvpxuSkA', 'xwKYBPO0ByGlkvNcr8FdqQ', 'dlOTtFJbcyN1m5PR2IDxOg']\n",
      "aU9Onn8eHwUcz-d-Tj0Qtg ['eGi7CE2YaN6YMiGyXNi8XQ', 'RIQ5ALCz1-oi98ViCO7kgQ', 'RHdEScVIAQ7xzFFMiQEnAQ', 'a_oRfgkNFnulTada--P_Tg', 'o3woQWQ-0HxFftItIEeNdw', 'p7tSGmWpFV246aYhwODgBg', 'AL89lQXFfE0HpbTvpxuSkA', 'jZ1rUspubgkuZjwKJMhEEw', 'dlOTtFJbcyN1m5PR2IDxOg', 'xwKYBPO0ByGlkvNcr8FdqQ']\n",
      "iJdknUsOPUDA2BTfTVE1Hg ['eGi7CE2YaN6YMiGyXNi8XQ', 'RIQ5ALCz1-oi98ViCO7kgQ', 'a_oRfgkNFnulTada--P_Tg', 'RHdEScVIAQ7xzFFMiQEnAQ', 'p7tSGmWpFV246aYhwODgBg', 'o3woQWQ-0HxFftItIEeNdw', 'AL89lQXFfE0HpbTvpxuSkA', 'XyGRDrgCK0z4CiA6nhwEaw', 'xwKYBPO0ByGlkvNcr8FdqQ', 'dlOTtFJbcyN1m5PR2IDxOg']\n",
      "Hy_ko_2hkLTxvO7G0pIGsw ['eGi7CE2YaN6YMiGyXNi8XQ', 'RIQ5ALCz1-oi98ViCO7kgQ', 'a_oRfgkNFnulTada--P_Tg', 'o3woQWQ-0HxFftItIEeNdw', 'RHdEScVIAQ7xzFFMiQEnAQ', 'p7tSGmWpFV246aYhwODgBg', 'jZ1rUspubgkuZjwKJMhEEw', 'XyGRDrgCK0z4CiA6nhwEaw', 'AL89lQXFfE0HpbTvpxuSkA', 'xwKYBPO0ByGlkvNcr8FdqQ']\n",
      "UwDEqX9KlMqYoQbJhRyJOg ['eGi7CE2YaN6YMiGyXNi8XQ', 'a_oRfgkNFnulTada--P_Tg', 'CJoO4HYD0tZRXlZqA04wmw', 'RHdEScVIAQ7xzFFMiQEnAQ', 'o3woQWQ-0HxFftItIEeNdw', 'p7tSGmWpFV246aYhwODgBg', 'AL89lQXFfE0HpbTvpxuSkA', 'XyGRDrgCK0z4CiA6nhwEaw', 'dlOTtFJbcyN1m5PR2IDxOg', 'xwKYBPO0ByGlkvNcr8FdqQ']\n",
      "pUaIRXeZgo_6oIw80OXVjg ['eGi7CE2YaN6YMiGyXNi8XQ', 'a_oRfgkNFnulTada--P_Tg', 'CJoO4HYD0tZRXlZqA04wmw', 'o3woQWQ-0HxFftItIEeNdw', 'AL89lQXFfE0HpbTvpxuSkA', 'RHdEScVIAQ7xzFFMiQEnAQ', 'XyGRDrgCK0z4CiA6nhwEaw', 'p7tSGmWpFV246aYhwODgBg', 'dlOTtFJbcyN1m5PR2IDxOg', 'xwKYBPO0ByGlkvNcr8FdqQ']\n",
      "khvn7hhX08g33N5niO676w ['eGi7CE2YaN6YMiGyXNi8XQ', 'a_oRfgkNFnulTada--P_Tg', 'RHdEScVIAQ7xzFFMiQEnAQ', 'CJoO4HYD0tZRXlZqA04wmw', 'o3woQWQ-0HxFftItIEeNdw', 'p7tSGmWpFV246aYhwODgBg', 'AL89lQXFfE0HpbTvpxuSkA', 'XyGRDrgCK0z4CiA6nhwEaw', 'dlOTtFJbcyN1m5PR2IDxOg', 'xwKYBPO0ByGlkvNcr8FdqQ']\n",
      "nVXQ1ScX2I6lw0dUKFGmKA ['eGi7CE2YaN6YMiGyXNi8XQ', 'a_oRfgkNFnulTada--P_Tg', 'CJoO4HYD0tZRXlZqA04wmw', 'o3woQWQ-0HxFftItIEeNdw', 'xwKYBPO0ByGlkvNcr8FdqQ', 'AL89lQXFfE0HpbTvpxuSkA', 'XyGRDrgCK0z4CiA6nhwEaw', 'p7tSGmWpFV246aYhwODgBg', 'dlOTtFJbcyN1m5PR2IDxOg', '5CX7rtnwYnmqFCihOyWivg']\n",
      "lAc_ndAVjOPYOTImfIma4A ['eGi7CE2YaN6YMiGyXNi8XQ', 'CJoO4HYD0tZRXlZqA04wmw', 'o3woQWQ-0HxFftItIEeNdw', 'RHdEScVIAQ7xzFFMiQEnAQ', 'XyGRDrgCK0z4CiA6nhwEaw', 'xwKYBPO0ByGlkvNcr8FdqQ', 'dlOTtFJbcyN1m5PR2IDxOg', 'p7tSGmWpFV246aYhwODgBg', 'AL89lQXFfE0HpbTvpxuSkA', 'KZA_HEOsBXf8dtrk9rqNJA']\n",
      "j33oNmDKsuicerZUp9w2Rg ['eGi7CE2YaN6YMiGyXNi8XQ', 'a_oRfgkNFnulTada--P_Tg', 'p7tSGmWpFV246aYhwODgBg', 'RHdEScVIAQ7xzFFMiQEnAQ', 'xwKYBPO0ByGlkvNcr8FdqQ', 'CJoO4HYD0tZRXlZqA04wmw', 'AL89lQXFfE0HpbTvpxuSkA', 'o3woQWQ-0HxFftItIEeNdw', 'XyGRDrgCK0z4CiA6nhwEaw', 'dlOTtFJbcyN1m5PR2IDxOg']\n",
      "VJT1WJScxt6VozKdBl_T0w ['eGi7CE2YaN6YMiGyXNi8XQ', 'CJoO4HYD0tZRXlZqA04wmw', 'a_oRfgkNFnulTada--P_Tg', 'AL89lQXFfE0HpbTvpxuSkA', 'p7tSGmWpFV246aYhwODgBg', 'jZ1rUspubgkuZjwKJMhEEw', 'XyGRDrgCK0z4CiA6nhwEaw', 'dlOTtFJbcyN1m5PR2IDxOg', 'xwKYBPO0ByGlkvNcr8FdqQ', '5CX7rtnwYnmqFCihOyWivg']\n",
      "HKIFN7bin1aKtQZ9k9tRlQ ['a_oRfgkNFnulTada--P_Tg', 'RIQ5ALCz1-oi98ViCO7kgQ', 'CJoO4HYD0tZRXlZqA04wmw', 'o3woQWQ-0HxFftItIEeNdw', 'RHdEScVIAQ7xzFFMiQEnAQ', 'p7tSGmWpFV246aYhwODgBg', 'XyGRDrgCK0z4CiA6nhwEaw', 'xwKYBPO0ByGlkvNcr8FdqQ', 'jZ1rUspubgkuZjwKJMhEEw', 'AL89lQXFfE0HpbTvpxuSkA']\n",
      "SEKTawcFfaIKntviucbhHQ ['eGi7CE2YaN6YMiGyXNi8XQ', 'RIQ5ALCz1-oi98ViCO7kgQ', 'CJoO4HYD0tZRXlZqA04wmw', 'p7tSGmWpFV246aYhwODgBg', 'AL89lQXFfE0HpbTvpxuSkA', 'jZ1rUspubgkuZjwKJMhEEw', 'XyGRDrgCK0z4CiA6nhwEaw', 'xwKYBPO0ByGlkvNcr8FdqQ', 'dlOTtFJbcyN1m5PR2IDxOg', 'KZA_HEOsBXf8dtrk9rqNJA']\n",
      "_ADnCcFfZrKuCUdv2SD-PA ['eGi7CE2YaN6YMiGyXNi8XQ', 'a_oRfgkNFnulTada--P_Tg', 'RIQ5ALCz1-oi98ViCO7kgQ', 'p7tSGmWpFV246aYhwODgBg', 'RHdEScVIAQ7xzFFMiQEnAQ', 'CJoO4HYD0tZRXlZqA04wmw', 'o3woQWQ-0HxFftItIEeNdw', 'XyGRDrgCK0z4CiA6nhwEaw', 'KZA_HEOsBXf8dtrk9rqNJA', 'jZ1rUspubgkuZjwKJMhEEw']\n",
      "_rX3HnkZLEp4yraAfXGYPw ['eGi7CE2YaN6YMiGyXNi8XQ', 'a_oRfgkNFnulTada--P_Tg', 'RIQ5ALCz1-oi98ViCO7kgQ', 'p7tSGmWpFV246aYhwODgBg', 'CJoO4HYD0tZRXlZqA04wmw', 'AL89lQXFfE0HpbTvpxuSkA', 'o3woQWQ-0HxFftItIEeNdw', 'dlOTtFJbcyN1m5PR2IDxOg', 'XyGRDrgCK0z4CiA6nhwEaw', 'xwKYBPO0ByGlkvNcr8FdqQ']\n",
      "bS7dmk_OX5oIQvAhTb-bcw ['eGi7CE2YaN6YMiGyXNi8XQ', 'a_oRfgkNFnulTada--P_Tg', 'CJoO4HYD0tZRXlZqA04wmw', 'RIQ5ALCz1-oi98ViCO7kgQ', 'p7tSGmWpFV246aYhwODgBg', 'XyGRDrgCK0z4CiA6nhwEaw', 'o3woQWQ-0HxFftItIEeNdw', 'AL89lQXFfE0HpbTvpxuSkA', 'xwKYBPO0ByGlkvNcr8FdqQ', 'KZA_HEOsBXf8dtrk9rqNJA']\n",
      "7h7SkRAIJMtynNSGntyxbw ['eGi7CE2YaN6YMiGyXNi8XQ', 'RIQ5ALCz1-oi98ViCO7kgQ', 'a_oRfgkNFnulTada--P_Tg', 'CJoO4HYD0tZRXlZqA04wmw', 'o3woQWQ-0HxFftItIEeNdw', 'p7tSGmWpFV246aYhwODgBg', 'XyGRDrgCK0z4CiA6nhwEaw', 'AL89lQXFfE0HpbTvpxuSkA', 'jZ1rUspubgkuZjwKJMhEEw', 'dlOTtFJbcyN1m5PR2IDxOg']\n",
      "uUH_58_pfFF6ZLqUmm2D8Q ['eGi7CE2YaN6YMiGyXNi8XQ', 'a_oRfgkNFnulTada--P_Tg', 'RIQ5ALCz1-oi98ViCO7kgQ', 'CJoO4HYD0tZRXlZqA04wmw', 'o3woQWQ-0HxFftItIEeNdw', 'p7tSGmWpFV246aYhwODgBg', 'XyGRDrgCK0z4CiA6nhwEaw', 'AL89lQXFfE0HpbTvpxuSkA', 'dlOTtFJbcyN1m5PR2IDxOg', 'xwKYBPO0ByGlkvNcr8FdqQ']\n",
      "nM6XHPpStNh7D1gcDXM-bQ ['eGi7CE2YaN6YMiGyXNi8XQ', 'RIQ5ALCz1-oi98ViCO7kgQ', 'a_oRfgkNFnulTada--P_Tg', 'p7tSGmWpFV246aYhwODgBg', 'o3woQWQ-0HxFftItIEeNdw', 'AL89lQXFfE0HpbTvpxuSkA', 'CJoO4HYD0tZRXlZqA04wmw', 'xwKYBPO0ByGlkvNcr8FdqQ', 'dlOTtFJbcyN1m5PR2IDxOg', 'XyGRDrgCK0z4CiA6nhwEaw']\n",
      "2puPZX4xSHgSisoBhPTRAw ['eGi7CE2YaN6YMiGyXNi8XQ', 'RIQ5ALCz1-oi98ViCO7kgQ', 'a_oRfgkNFnulTada--P_Tg', 'p7tSGmWpFV246aYhwODgBg', 'CJoO4HYD0tZRXlZqA04wmw', 'AL89lQXFfE0HpbTvpxuSkA', 'xwKYBPO0ByGlkvNcr8FdqQ', 'o3woQWQ-0HxFftItIEeNdw', 'XyGRDrgCK0z4CiA6nhwEaw', 'dlOTtFJbcyN1m5PR2IDxOg']\n",
      "_zOaeeS1HxRzCdDydMIe9g ['eGi7CE2YaN6YMiGyXNi8XQ', 'RIQ5ALCz1-oi98ViCO7kgQ', 'CJoO4HYD0tZRXlZqA04wmw', 'AL89lQXFfE0HpbTvpxuSkA', 'XyGRDrgCK0z4CiA6nhwEaw', 'p7tSGmWpFV246aYhwODgBg', 'xwKYBPO0ByGlkvNcr8FdqQ', 'jZ1rUspubgkuZjwKJMhEEw', 'dlOTtFJbcyN1m5PR2IDxOg', 'KZA_HEOsBXf8dtrk9rqNJA']\n",
      "aHiQYaTXrmQTeG6106l5wg ['eGi7CE2YaN6YMiGyXNi8XQ', 'RIQ5ALCz1-oi98ViCO7kgQ', 'a_oRfgkNFnulTada--P_Tg', 'CJoO4HYD0tZRXlZqA04wmw', 'XyGRDrgCK0z4CiA6nhwEaw', 'p7tSGmWpFV246aYhwODgBg', 'AL89lQXFfE0HpbTvpxuSkA', 'o3woQWQ-0HxFftItIEeNdw', 'KZA_HEOsBXf8dtrk9rqNJA', 'xwKYBPO0ByGlkvNcr8FdqQ']\n",
      "86pQYWQQUqUzlN0O-FmUHw ['eGi7CE2YaN6YMiGyXNi8XQ', 'RIQ5ALCz1-oi98ViCO7kgQ', 'a_oRfgkNFnulTada--P_Tg', 'p7tSGmWpFV246aYhwODgBg', 'o3woQWQ-0HxFftItIEeNdw', 'CJoO4HYD0tZRXlZqA04wmw', 'xwKYBPO0ByGlkvNcr8FdqQ', 'dlOTtFJbcyN1m5PR2IDxOg', 'XyGRDrgCK0z4CiA6nhwEaw', 'jZ1rUspubgkuZjwKJMhEEw']\n",
      "OKrzRxFVM0TPI8afVB8LiA ['eGi7CE2YaN6YMiGyXNi8XQ', 'a_oRfgkNFnulTada--P_Tg', 'RIQ5ALCz1-oi98ViCO7kgQ', 'CJoO4HYD0tZRXlZqA04wmw', 'o3woQWQ-0HxFftItIEeNdw', 'p7tSGmWpFV246aYhwODgBg', 'XyGRDrgCK0z4CiA6nhwEaw', 'AL89lQXFfE0HpbTvpxuSkA', 'xwKYBPO0ByGlkvNcr8FdqQ', 'dlOTtFJbcyN1m5PR2IDxOg']\n",
      "psAjVE1E1XEYyZ4yTfcdYA ['eGi7CE2YaN6YMiGyXNi8XQ', 'RIQ5ALCz1-oi98ViCO7kgQ', 'a_oRfgkNFnulTada--P_Tg', 'CJoO4HYD0tZRXlZqA04wmw', 'XyGRDrgCK0z4CiA6nhwEaw', 'AL89lQXFfE0HpbTvpxuSkA', 'p7tSGmWpFV246aYhwODgBg', 'o3woQWQ-0HxFftItIEeNdw', 'jZ1rUspubgkuZjwKJMhEEw', 'xwKYBPO0ByGlkvNcr8FdqQ']\n",
      "ma1MsTANyRHA640Kn4TzcA ['eGi7CE2YaN6YMiGyXNi8XQ', 'RIQ5ALCz1-oi98ViCO7kgQ', 'a_oRfgkNFnulTada--P_Tg', 'CJoO4HYD0tZRXlZqA04wmw', 'AL89lQXFfE0HpbTvpxuSkA', 'XyGRDrgCK0z4CiA6nhwEaw', 'o3woQWQ-0HxFftItIEeNdw', 'xwKYBPO0ByGlkvNcr8FdqQ', 'dlOTtFJbcyN1m5PR2IDxOg', 'p7tSGmWpFV246aYhwODgBg']\n",
      "IPcgVWB-KXlb5bqt8fqE0Q ['eGi7CE2YaN6YMiGyXNi8XQ', 'RIQ5ALCz1-oi98ViCO7kgQ', 'a_oRfgkNFnulTada--P_Tg', 'p7tSGmWpFV246aYhwODgBg', 'CJoO4HYD0tZRXlZqA04wmw', 'XyGRDrgCK0z4CiA6nhwEaw', 'AL89lQXFfE0HpbTvpxuSkA', 'o3woQWQ-0HxFftItIEeNdw', 'jZ1rUspubgkuZjwKJMhEEw', 'dlOTtFJbcyN1m5PR2IDxOg']\n",
      "wWA8rM0WPgAzcVr9X0GgNg ['eGi7CE2YaN6YMiGyXNi8XQ', 'RIQ5ALCz1-oi98ViCO7kgQ', 'CJoO4HYD0tZRXlZqA04wmw', 'o3woQWQ-0HxFftItIEeNdw', 'p7tSGmWpFV246aYhwODgBg', 'a_oRfgkNFnulTada--P_Tg', 'jZ1rUspubgkuZjwKJMhEEw', 'AL89lQXFfE0HpbTvpxuSkA', 'xwKYBPO0ByGlkvNcr8FdqQ', 'XyGRDrgCK0z4CiA6nhwEaw']\n",
      "MED21XODrPYG7aEIgkaCxg ['eGi7CE2YaN6YMiGyXNi8XQ', 'RIQ5ALCz1-oi98ViCO7kgQ', 'a_oRfgkNFnulTada--P_Tg', 'CJoO4HYD0tZRXlZqA04wmw', 'p7tSGmWpFV246aYhwODgBg', 'o3woQWQ-0HxFftItIEeNdw', 'AL89lQXFfE0HpbTvpxuSkA', 'XyGRDrgCK0z4CiA6nhwEaw', 'xwKYBPO0ByGlkvNcr8FdqQ', 'jZ1rUspubgkuZjwKJMhEEw']\n",
      "NkMEXcaG_BgCmPoEi6o-3A ['eGi7CE2YaN6YMiGyXNi8XQ', 'RIQ5ALCz1-oi98ViCO7kgQ', 'a_oRfgkNFnulTada--P_Tg', 'CJoO4HYD0tZRXlZqA04wmw', 'o3woQWQ-0HxFftItIEeNdw', 'p7tSGmWpFV246aYhwODgBg', 'AL89lQXFfE0HpbTvpxuSkA', 'jZ1rUspubgkuZjwKJMhEEw', 'dlOTtFJbcyN1m5PR2IDxOg', 'XyGRDrgCK0z4CiA6nhwEaw']\n",
      "T8se5FcRYdebV0K8Mmox-w ['eGi7CE2YaN6YMiGyXNi8XQ', 'RIQ5ALCz1-oi98ViCO7kgQ', 'CJoO4HYD0tZRXlZqA04wmw', 'a_oRfgkNFnulTada--P_Tg', 'o3woQWQ-0HxFftItIEeNdw', 'p7tSGmWpFV246aYhwODgBg', 'RHdEScVIAQ7xzFFMiQEnAQ', 'AL89lQXFfE0HpbTvpxuSkA', 'XyGRDrgCK0z4CiA6nhwEaw', 'xwKYBPO0ByGlkvNcr8FdqQ']\n",
      "rbLdo2R8m3OaInURQ1LxMg ['eGi7CE2YaN6YMiGyXNi8XQ', 'RIQ5ALCz1-oi98ViCO7kgQ', 'a_oRfgkNFnulTada--P_Tg', 'p7tSGmWpFV246aYhwODgBg', 'CJoO4HYD0tZRXlZqA04wmw', 'RHdEScVIAQ7xzFFMiQEnAQ', 'o3woQWQ-0HxFftItIEeNdw', 'AL89lQXFfE0HpbTvpxuSkA', 'xwKYBPO0ByGlkvNcr8FdqQ', 'XyGRDrgCK0z4CiA6nhwEaw']\n",
      "2MKtHnDEAVwKl0cOLU4uTA ['eGi7CE2YaN6YMiGyXNi8XQ', 'RHdEScVIAQ7xzFFMiQEnAQ', 'RIQ5ALCz1-oi98ViCO7kgQ', 'o3woQWQ-0HxFftItIEeNdw', 'p7tSGmWpFV246aYhwODgBg', 'CJoO4HYD0tZRXlZqA04wmw', 'AL89lQXFfE0HpbTvpxuSkA', 'dlOTtFJbcyN1m5PR2IDxOg', '5CX7rtnwYnmqFCihOyWivg', 'XyGRDrgCK0z4CiA6nhwEaw']\n",
      "zqCGiXSHzQeBiUiCjFmTtA ['eGi7CE2YaN6YMiGyXNi8XQ', 'RIQ5ALCz1-oi98ViCO7kgQ', 'a_oRfgkNFnulTada--P_Tg', 'CJoO4HYD0tZRXlZqA04wmw', 'RHdEScVIAQ7xzFFMiQEnAQ', 'p7tSGmWpFV246aYhwODgBg', 'o3woQWQ-0HxFftItIEeNdw', 'AL89lQXFfE0HpbTvpxuSkA', 'XyGRDrgCK0z4CiA6nhwEaw', 'dlOTtFJbcyN1m5PR2IDxOg']\n",
      "aakUfHsqjH8ZNHgCihwOFA ['eGi7CE2YaN6YMiGyXNi8XQ', 'a_oRfgkNFnulTada--P_Tg', 'RHdEScVIAQ7xzFFMiQEnAQ', 'RIQ5ALCz1-oi98ViCO7kgQ', 'CJoO4HYD0tZRXlZqA04wmw', 'o3woQWQ-0HxFftItIEeNdw', 'p7tSGmWpFV246aYhwODgBg', 'dlOTtFJbcyN1m5PR2IDxOg', 'AL89lQXFfE0HpbTvpxuSkA', 'XyGRDrgCK0z4CiA6nhwEaw']\n",
      "OQaneFUkS1rJJvqfUzjb6g ['eGi7CE2YaN6YMiGyXNi8XQ', 'RIQ5ALCz1-oi98ViCO7kgQ', 'a_oRfgkNFnulTada--P_Tg', 'o3woQWQ-0HxFftItIEeNdw', 'CJoO4HYD0tZRXlZqA04wmw', 'RHdEScVIAQ7xzFFMiQEnAQ', 'AL89lQXFfE0HpbTvpxuSkA', 'dlOTtFJbcyN1m5PR2IDxOg', 'p7tSGmWpFV246aYhwODgBg', 'xwKYBPO0ByGlkvNcr8FdqQ']\n",
      "R7NM7vIyUfSTXvMsw7jNTA ['eGi7CE2YaN6YMiGyXNi8XQ', 'RIQ5ALCz1-oi98ViCO7kgQ', 'a_oRfgkNFnulTada--P_Tg', 'RHdEScVIAQ7xzFFMiQEnAQ', 'o3woQWQ-0HxFftItIEeNdw', 'p7tSGmWpFV246aYhwODgBg', 'CJoO4HYD0tZRXlZqA04wmw', 'xwKYBPO0ByGlkvNcr8FdqQ', 'AL89lQXFfE0HpbTvpxuSkA', 'dlOTtFJbcyN1m5PR2IDxOg']\n",
      "-frybFHNHWnwd69LFXkOVQ ['eGi7CE2YaN6YMiGyXNi8XQ', 'a_oRfgkNFnulTada--P_Tg', 'RIQ5ALCz1-oi98ViCO7kgQ', 'CJoO4HYD0tZRXlZqA04wmw', 'RHdEScVIAQ7xzFFMiQEnAQ', 'p7tSGmWpFV246aYhwODgBg', 'AL89lQXFfE0HpbTvpxuSkA', 'XyGRDrgCK0z4CiA6nhwEaw', 'o3woQWQ-0HxFftItIEeNdw', 'dlOTtFJbcyN1m5PR2IDxOg']\n",
      "oX4qeKApLJh3syRpOw9DOg ['eGi7CE2YaN6YMiGyXNi8XQ', 'RIQ5ALCz1-oi98ViCO7kgQ', 'a_oRfgkNFnulTada--P_Tg', 'CJoO4HYD0tZRXlZqA04wmw', 'o3woQWQ-0HxFftItIEeNdw', 'RHdEScVIAQ7xzFFMiQEnAQ', 'XyGRDrgCK0z4CiA6nhwEaw', 'AL89lQXFfE0HpbTvpxuSkA', 'p7tSGmWpFV246aYhwODgBg', 'jZ1rUspubgkuZjwKJMhEEw']\n",
      "bylqouzRKDeGVYcIF07kwA ['eGi7CE2YaN6YMiGyXNi8XQ', 'RIQ5ALCz1-oi98ViCO7kgQ', 'p7tSGmWpFV246aYhwODgBg', 'RHdEScVIAQ7xzFFMiQEnAQ', 'CJoO4HYD0tZRXlZqA04wmw', 'o3woQWQ-0HxFftItIEeNdw', 'AL89lQXFfE0HpbTvpxuSkA', 'jZ1rUspubgkuZjwKJMhEEw', 'xwKYBPO0ByGlkvNcr8FdqQ', 'dlOTtFJbcyN1m5PR2IDxOg']\n",
      "1F5wbSbtUBzxS8IsM7fWsA ['eGi7CE2YaN6YMiGyXNi8XQ', 'RIQ5ALCz1-oi98ViCO7kgQ', 'a_oRfgkNFnulTada--P_Tg', 'CJoO4HYD0tZRXlZqA04wmw', 'RHdEScVIAQ7xzFFMiQEnAQ', 'o3woQWQ-0HxFftItIEeNdw', 'p7tSGmWpFV246aYhwODgBg', 'AL89lQXFfE0HpbTvpxuSkA', 'xwKYBPO0ByGlkvNcr8FdqQ', 'XyGRDrgCK0z4CiA6nhwEaw']\n",
      "fabc-n2X0PBEd_OsZDmSWg ['eGi7CE2YaN6YMiGyXNi8XQ', 'RIQ5ALCz1-oi98ViCO7kgQ', 'a_oRfgkNFnulTada--P_Tg', 'RHdEScVIAQ7xzFFMiQEnAQ', 'CJoO4HYD0tZRXlZqA04wmw', 'o3woQWQ-0HxFftItIEeNdw', 'p7tSGmWpFV246aYhwODgBg', 'AL89lQXFfE0HpbTvpxuSkA', 'jZ1rUspubgkuZjwKJMhEEw', 'XyGRDrgCK0z4CiA6nhwEaw']\n",
      "IsSAN8LbZDzAv8d5xfre5g ['a_oRfgkNFnulTada--P_Tg', 'eGi7CE2YaN6YMiGyXNi8XQ', 'RIQ5ALCz1-oi98ViCO7kgQ', 'CJoO4HYD0tZRXlZqA04wmw', 'p7tSGmWpFV246aYhwODgBg', 'RHdEScVIAQ7xzFFMiQEnAQ', 'XyGRDrgCK0z4CiA6nhwEaw', 'AL89lQXFfE0HpbTvpxuSkA', 'o3woQWQ-0HxFftItIEeNdw', 'jZ1rUspubgkuZjwKJMhEEw']\n",
      "Xb_fWQm_B4w0W4UW2qST2Q ['eGi7CE2YaN6YMiGyXNi8XQ', 'RIQ5ALCz1-oi98ViCO7kgQ', 'a_oRfgkNFnulTada--P_Tg', 'CJoO4HYD0tZRXlZqA04wmw', 'o3woQWQ-0HxFftItIEeNdw', 'RHdEScVIAQ7xzFFMiQEnAQ', 'p7tSGmWpFV246aYhwODgBg', 'XyGRDrgCK0z4CiA6nhwEaw', 'AL89lQXFfE0HpbTvpxuSkA', 'dlOTtFJbcyN1m5PR2IDxOg']\n",
      "3bI83kUo8BDRCIsrd1dOcQ ['a_oRfgkNFnulTada--P_Tg', 'RIQ5ALCz1-oi98ViCO7kgQ', 'CJoO4HYD0tZRXlZqA04wmw', 'RHdEScVIAQ7xzFFMiQEnAQ', 'o3woQWQ-0HxFftItIEeNdw', 'AL89lQXFfE0HpbTvpxuSkA', 'p7tSGmWpFV246aYhwODgBg', 'XyGRDrgCK0z4CiA6nhwEaw', 'dlOTtFJbcyN1m5PR2IDxOg', 'xwKYBPO0ByGlkvNcr8FdqQ']\n",
      "AXpwQ2orCGqlPEcuzgL8xA ['eGi7CE2YaN6YMiGyXNi8XQ', 'RIQ5ALCz1-oi98ViCO7kgQ', 'CJoO4HYD0tZRXlZqA04wmw', 'XyGRDrgCK0z4CiA6nhwEaw', 'a_oRfgkNFnulTada--P_Tg', 'AL89lQXFfE0HpbTvpxuSkA', 'p7tSGmWpFV246aYhwODgBg', 'jZ1rUspubgkuZjwKJMhEEw', 'RHdEScVIAQ7xzFFMiQEnAQ', 'xwKYBPO0ByGlkvNcr8FdqQ']\n",
      "XZc9pY8aMZTWF9zko2qF7Q ['eGi7CE2YaN6YMiGyXNi8XQ', 'RIQ5ALCz1-oi98ViCO7kgQ', 'RHdEScVIAQ7xzFFMiQEnAQ', 'p7tSGmWpFV246aYhwODgBg', 'CJoO4HYD0tZRXlZqA04wmw', 'AL89lQXFfE0HpbTvpxuSkA', 'XyGRDrgCK0z4CiA6nhwEaw', 'jZ1rUspubgkuZjwKJMhEEw', 'xwKYBPO0ByGlkvNcr8FdqQ', 'KZA_HEOsBXf8dtrk9rqNJA']\n",
      "-rGU3wo4fgEnGRboYdMTjw ['eGi7CE2YaN6YMiGyXNi8XQ', 'a_oRfgkNFnulTada--P_Tg', 'RIQ5ALCz1-oi98ViCO7kgQ', 'RHdEScVIAQ7xzFFMiQEnAQ', 'CJoO4HYD0tZRXlZqA04wmw', 'o3woQWQ-0HxFftItIEeNdw', 'p7tSGmWpFV246aYhwODgBg', 'XyGRDrgCK0z4CiA6nhwEaw', '5CX7rtnwYnmqFCihOyWivg', 'AL89lQXFfE0HpbTvpxuSkA']\n",
      "G4DmqPshpisrNDToaafmCQ ['eGi7CE2YaN6YMiGyXNi8XQ', 'RIQ5ALCz1-oi98ViCO7kgQ', 'a_oRfgkNFnulTada--P_Tg', 'CJoO4HYD0tZRXlZqA04wmw', 'RHdEScVIAQ7xzFFMiQEnAQ', 'p7tSGmWpFV246aYhwODgBg', 'xwKYBPO0ByGlkvNcr8FdqQ', 'o3woQWQ-0HxFftItIEeNdw', 'dlOTtFJbcyN1m5PR2IDxOg', 'AL89lQXFfE0HpbTvpxuSkA']\n",
      "b_ageNklK5855Bbrs11ztQ ['eGi7CE2YaN6YMiGyXNi8XQ', 'RIQ5ALCz1-oi98ViCO7kgQ', 'a_oRfgkNFnulTada--P_Tg', 'CJoO4HYD0tZRXlZqA04wmw', 'o3woQWQ-0HxFftItIEeNdw', 'RHdEScVIAQ7xzFFMiQEnAQ', 'AL89lQXFfE0HpbTvpxuSkA', 'p7tSGmWpFV246aYhwODgBg', 'dlOTtFJbcyN1m5PR2IDxOg', 'XyGRDrgCK0z4CiA6nhwEaw']\n",
      "rU9-rnZLccL5YHkAOH4SOw ['eGi7CE2YaN6YMiGyXNi8XQ', 'RHdEScVIAQ7xzFFMiQEnAQ', 'a_oRfgkNFnulTada--P_Tg', 'p7tSGmWpFV246aYhwODgBg', 'o3woQWQ-0HxFftItIEeNdw', 'RIQ5ALCz1-oi98ViCO7kgQ', 'CJoO4HYD0tZRXlZqA04wmw', 'AL89lQXFfE0HpbTvpxuSkA', 'dlOTtFJbcyN1m5PR2IDxOg', 'XyGRDrgCK0z4CiA6nhwEaw']\n",
      "N8nlG4XpbAcB74jEWUVQlg ['eGi7CE2YaN6YMiGyXNi8XQ', 'RIQ5ALCz1-oi98ViCO7kgQ', 'a_oRfgkNFnulTada--P_Tg', 'RHdEScVIAQ7xzFFMiQEnAQ', 'p7tSGmWpFV246aYhwODgBg', 'CJoO4HYD0tZRXlZqA04wmw', 'o3woQWQ-0HxFftItIEeNdw', 'dlOTtFJbcyN1m5PR2IDxOg', 'xwKYBPO0ByGlkvNcr8FdqQ', 'XyGRDrgCK0z4CiA6nhwEaw']\n",
      "cJQVHINlgnA1q_XcrwryUA ['eGi7CE2YaN6YMiGyXNi8XQ', 'RIQ5ALCz1-oi98ViCO7kgQ', 'CJoO4HYD0tZRXlZqA04wmw', 'o3woQWQ-0HxFftItIEeNdw', 'XyGRDrgCK0z4CiA6nhwEaw', 'RHdEScVIAQ7xzFFMiQEnAQ', 'dlOTtFJbcyN1m5PR2IDxOg', 'AL89lQXFfE0HpbTvpxuSkA', 'p7tSGmWpFV246aYhwODgBg', '5CX7rtnwYnmqFCihOyWivg']\n",
      "nmHv7qlE1J4qu-KFfcq1jw ['eGi7CE2YaN6YMiGyXNi8XQ', 'RIQ5ALCz1-oi98ViCO7kgQ', 'o3woQWQ-0HxFftItIEeNdw', 'RHdEScVIAQ7xzFFMiQEnAQ', 'CJoO4HYD0tZRXlZqA04wmw', 'xwKYBPO0ByGlkvNcr8FdqQ', 'p7tSGmWpFV246aYhwODgBg', 'AL89lQXFfE0HpbTvpxuSkA', 'dlOTtFJbcyN1m5PR2IDxOg', 'XyGRDrgCK0z4CiA6nhwEaw']\n",
      "uyv47azu0RDhJLyWU-lTtg ['eGi7CE2YaN6YMiGyXNi8XQ', 'RIQ5ALCz1-oi98ViCO7kgQ', 'RHdEScVIAQ7xzFFMiQEnAQ', 'o3woQWQ-0HxFftItIEeNdw', 'p7tSGmWpFV246aYhwODgBg', 'CJoO4HYD0tZRXlZqA04wmw', 'AL89lQXFfE0HpbTvpxuSkA', 'xwKYBPO0ByGlkvNcr8FdqQ', 'KZA_HEOsBXf8dtrk9rqNJA', 'dlOTtFJbcyN1m5PR2IDxOg']\n",
      "N6ZTMIue-2b30CJv2tyPGg ['eGi7CE2YaN6YMiGyXNi8XQ', 'RIQ5ALCz1-oi98ViCO7kgQ', 'a_oRfgkNFnulTada--P_Tg', 'RHdEScVIAQ7xzFFMiQEnAQ', 'p7tSGmWpFV246aYhwODgBg', 'CJoO4HYD0tZRXlZqA04wmw', 'AL89lQXFfE0HpbTvpxuSkA', 'o3woQWQ-0HxFftItIEeNdw', 'XyGRDrgCK0z4CiA6nhwEaw', 'xwKYBPO0ByGlkvNcr8FdqQ']\n",
      "zBWSORvlWDmwtcx6627qWQ ['eGi7CE2YaN6YMiGyXNi8XQ', 'a_oRfgkNFnulTada--P_Tg', 'RHdEScVIAQ7xzFFMiQEnAQ', 'RIQ5ALCz1-oi98ViCO7kgQ', 'CJoO4HYD0tZRXlZqA04wmw', 'p7tSGmWpFV246aYhwODgBg', 'o3woQWQ-0HxFftItIEeNdw', 'dlOTtFJbcyN1m5PR2IDxOg', 'KZA_HEOsBXf8dtrk9rqNJA', 'AL89lQXFfE0HpbTvpxuSkA']\n",
      "p9liSefYJbUmwzhCBuFqJQ ['eGi7CE2YaN6YMiGyXNi8XQ', 'RIQ5ALCz1-oi98ViCO7kgQ', 'a_oRfgkNFnulTada--P_Tg', 'CJoO4HYD0tZRXlZqA04wmw', 'RHdEScVIAQ7xzFFMiQEnAQ', 'o3woQWQ-0HxFftItIEeNdw', 'p7tSGmWpFV246aYhwODgBg', 'XyGRDrgCK0z4CiA6nhwEaw', 'xwKYBPO0ByGlkvNcr8FdqQ', 'AL89lQXFfE0HpbTvpxuSkA']\n",
      "HdOr1TRuBz2svboJUUlmIA ['eGi7CE2YaN6YMiGyXNi8XQ', 'a_oRfgkNFnulTada--P_Tg', 'RIQ5ALCz1-oi98ViCO7kgQ', 'CJoO4HYD0tZRXlZqA04wmw', 'RHdEScVIAQ7xzFFMiQEnAQ', 'o3woQWQ-0HxFftItIEeNdw', 'XyGRDrgCK0z4CiA6nhwEaw', 'dlOTtFJbcyN1m5PR2IDxOg', 'p7tSGmWpFV246aYhwODgBg', 'AL89lQXFfE0HpbTvpxuSkA']\n"
     ]
    }
   ],
   "source": [
    "# Build out anti-testset in order to generate recommendations\n",
    "full_trainset = data_3.build_full_trainset()\n",
    "algo = SVD(n_factors=20,\n",
    "             n_epochs=25,\n",
    "             lr_all=0.006,\n",
    "             reg_all=0.08)\n",
    "algo.fit(full_trainset)\n",
    "full_testset = full_trainset.build_anti_testset()\n",
    "full_predictions = algo.test(full_testset)\n",
    "top_n = get_top_n(full_predictions, n=10)\n",
    "\n",
    "# Print the recommended items for each user\n",
    "for uid, user_ratings in top_n.items():\n",
    "    print(uid, [iid for (iid, _) in user_ratings])"
   ]
  },
  {
   "cell_type": "code",
   "execution_count": 238,
   "metadata": {
    "ExecuteTime": {
     "end_time": "2023-10-08T21:03:15.257306900Z",
     "start_time": "2023-10-08T21:03:15.210467Z"
    }
   },
   "outputs": [
    {
     "data": {
      "text/plain": "[('eGi7CE2YaN6YMiGyXNi8XQ', 4.900631757237933),\n ('RIQ5ALCz1-oi98ViCO7kgQ', 4.7282533340360295),\n ('a_oRfgkNFnulTada--P_Tg', 4.643903005583707),\n ('CJoO4HYD0tZRXlZqA04wmw', 4.6317326163903445),\n ('RHdEScVIAQ7xzFFMiQEnAQ', 4.58858745987313),\n ('o3woQWQ-0HxFftItIEeNdw', 4.521214421856598),\n ('AL89lQXFfE0HpbTvpxuSkA', 4.508791327999613),\n ('XyGRDrgCK0z4CiA6nhwEaw', 4.496283870326185),\n ('xwKYBPO0ByGlkvNcr8FdqQ', 4.488894551250106),\n ('jZ1rUspubgkuZjwKJMhEEw', 4.446985635597712)]"
     },
     "execution_count": 238,
     "metadata": {},
     "output_type": "execute_result"
    }
   ],
   "source": [
    "top_n['Po4BCvGrKtP_OfZwMUp87g']"
   ]
  },
  {
   "cell_type": "code",
   "execution_count": 239,
   "metadata": {
    "ExecuteTime": {
     "end_time": "2023-10-08T21:03:15.283497500Z",
     "start_time": "2023-10-08T21:03:15.226091200Z"
    }
   },
   "outputs": [
    {
     "data": {
      "text/plain": "Empty DataFrame\nColumns: [user_id, business_id, review_stars]\nIndex: []",
      "text/html": "<div>\n<style scoped>\n    .dataframe tbody tr th:only-of-type {\n        vertical-align: middle;\n    }\n\n    .dataframe tbody tr th {\n        vertical-align: top;\n    }\n\n    .dataframe thead th {\n        text-align: right;\n    }\n</style>\n<table border=\"1\" class=\"dataframe\">\n  <thead>\n    <tr style=\"text-align: right;\">\n      <th></th>\n      <th>user_id</th>\n      <th>business_id</th>\n      <th>review_stars</th>\n    </tr>\n  </thead>\n  <tbody>\n  </tbody>\n</table>\n</div>"
     },
     "execution_count": 239,
     "metadata": {},
     "output_type": "execute_result"
    }
   ],
   "source": [
    "utility_3[utility_3['user_id'] == '4Uh27DgGzsp6PqrH913giQ']"
   ]
  },
  {
   "cell_type": "code",
   "execution_count": 240,
   "metadata": {
    "ExecuteTime": {
     "end_time": "2023-10-08T21:03:15.304694400Z",
     "start_time": "2023-10-08T21:03:15.241715100Z"
    }
   },
   "outputs": [],
   "source": [
    "def find_and_compare(user_id, top_n):\n",
    "    '''\n",
    "    Returns the raw user id associated with a given Surprise inner id\n",
    "\n",
    "    Arguments:\n",
    "    user_id (string): user_id string\n",
    "    top_n (dict): top_n dictionary generated from get_top_n\n",
    "\n",
    "    Returns:\n",
    "    reviewed_businesses_df (dataframe): dataframe of businesses reviewed by\n",
    "    the given user\n",
    "    recommended_df (dataframe): dataframe of recommended restaurants\n",
    "    '''\n",
    "    reviewed_df = utility_3[utility_3['user_id'] == user_id]\n",
    "    merged_reviewed_df = reviewed_df.merge(right=business_df,\n",
    "                                           how='left',\n",
    "                                           left_on='business_id',\n",
    "                                           right_on='business_id')\n",
    "    reviewed_businesses_df = merged_reviewed_df[['business_name',\n",
    "                                                 'review_stars',\n",
    "                                                 'categories']]\n",
    "\n",
    "    top_n_df = pd.DataFrame(columns=['business_id', 'predicted'])\n",
    "    i = 0\n",
    "    for business, predicted in top_n[user_id]:\n",
    "        top_n_df.loc[i] = [business, predicted]\n",
    "        i += 1\n",
    "    top_n_businesses_df = top_n_df.merge(right=business_df,\n",
    "                                         how='left',\n",
    "                                         left_on='business_id',\n",
    "                                         right_on='business_id')\n",
    "    recommended_df = top_n_businesses_df[['business_name',\n",
    "                                          'predicted',\n",
    "                                          'categories']]\n",
    "\n",
    "    return reviewed_businesses_df, recommended_df"
   ]
  },
  {
   "cell_type": "code",
   "execution_count": 241,
   "metadata": {
    "ExecuteTime": {
     "end_time": "2023-10-08T21:03:15.351510400Z",
     "start_time": "2023-10-08T21:03:15.257306900Z"
    }
   },
   "outputs": [
    {
     "data": {
      "text/plain": "4.004201680672269"
     },
     "execution_count": 241,
     "metadata": {},
     "output_type": "execute_result"
    }
   ],
   "source": [
    "# Average number of reviews left by a user\n",
    "utility_3['user_id'].value_counts().mean()"
   ]
  },
  {
   "cell_type": "code",
   "execution_count": 242,
   "metadata": {
    "ExecuteTime": {
     "end_time": "2023-10-08T21:03:15.367136800Z",
     "start_time": "2023-10-08T21:03:15.272933100Z"
    }
   },
   "outputs": [],
   "source": [
    "# Compare/contrast recommended restaurants and actual reviews provided\n",
    "actual_df, recommended_df = find_and_compare('Po4BCvGrKtP_OfZwMUp87g', top_n)"
   ]
  },
  {
   "cell_type": "code",
   "execution_count": 243,
   "metadata": {
    "ExecuteTime": {
     "end_time": "2023-10-08T21:03:15.398861100Z",
     "start_time": "2023-10-08T21:03:15.304694400Z"
    }
   },
   "outputs": [
    {
     "data": {
      "text/plain": "            business_name  review_stars  \\\n0              Sushi Nara             4   \n1      O Sushi Restaurant             5   \n2  Prep & Pastry on Grant             5   \n\n                                        categories  \n0                Sushi Bars, Japanese, Restaurants  \n1                Sushi Bars, Restaurants, Japanese  \n2  American (New), Restaurants, Breakfast & Brunch  ",
      "text/html": "<div>\n<style scoped>\n    .dataframe tbody tr th:only-of-type {\n        vertical-align: middle;\n    }\n\n    .dataframe tbody tr th {\n        vertical-align: top;\n    }\n\n    .dataframe thead th {\n        text-align: right;\n    }\n</style>\n<table border=\"1\" class=\"dataframe\">\n  <thead>\n    <tr style=\"text-align: right;\">\n      <th></th>\n      <th>business_name</th>\n      <th>review_stars</th>\n      <th>categories</th>\n    </tr>\n  </thead>\n  <tbody>\n    <tr>\n      <th>0</th>\n      <td>Sushi Nara</td>\n      <td>4</td>\n      <td>Sushi Bars, Japanese, Restaurants</td>\n    </tr>\n    <tr>\n      <th>1</th>\n      <td>O Sushi Restaurant</td>\n      <td>5</td>\n      <td>Sushi Bars, Restaurants, Japanese</td>\n    </tr>\n    <tr>\n      <th>2</th>\n      <td>Prep &amp; Pastry on Grant</td>\n      <td>5</td>\n      <td>American (New), Restaurants, Breakfast &amp; Brunch</td>\n    </tr>\n  </tbody>\n</table>\n</div>"
     },
     "execution_count": 243,
     "metadata": {},
     "output_type": "execute_result"
    }
   ],
   "source": [
    "actual_df"
   ]
  },
  {
   "cell_type": "code",
   "execution_count": 244,
   "metadata": {
    "ExecuteTime": {
     "end_time": "2023-10-08T21:03:15.430153200Z",
     "start_time": "2023-10-08T21:03:15.335927Z"
    }
   },
   "outputs": [
    {
     "data": {
      "text/plain": "                 business_name  predicted  \\\n0  Spice Garden Indian Cuisine   4.900632   \n1       La Baguette Parisienne   4.728253   \n2       Sonoran Brunch Company   4.643903   \n3             Crave Coffee Bar   4.631733   \n4              The Quesadillas   4.588587   \n5                   El Rustico   4.521214   \n6     Bob's Steak & Chop House   4.508791   \n7     Persian Room Fine Dining   4.496284   \n8               Le Rendez-vous   4.488895   \n9                    MOD Pizza   4.446986   \n\n                                    categories  \n0              Restaurants, Indian, Vegetarian  \n1                  Bakeries, Food, Restaurants  \n2     Restaurants, Mexican, Breakfast & Brunch  \n3              Food, Coffee & Tea, Restaurants  \n4                  Tacos, Restaurants, Mexican  \n5                  Tacos, Mexican, Restaurants  \n6            Restaurants, Seafood, Steakhouses  \n7  Restaurants, Persian/Iranian, Mediterranean  \n8      Restaurants, French, Tapas/Small Plates  \n9                Fast Food, Restaurants, Pizza  ",
      "text/html": "<div>\n<style scoped>\n    .dataframe tbody tr th:only-of-type {\n        vertical-align: middle;\n    }\n\n    .dataframe tbody tr th {\n        vertical-align: top;\n    }\n\n    .dataframe thead th {\n        text-align: right;\n    }\n</style>\n<table border=\"1\" class=\"dataframe\">\n  <thead>\n    <tr style=\"text-align: right;\">\n      <th></th>\n      <th>business_name</th>\n      <th>predicted</th>\n      <th>categories</th>\n    </tr>\n  </thead>\n  <tbody>\n    <tr>\n      <th>0</th>\n      <td>Spice Garden Indian Cuisine</td>\n      <td>4.900632</td>\n      <td>Restaurants, Indian, Vegetarian</td>\n    </tr>\n    <tr>\n      <th>1</th>\n      <td>La Baguette Parisienne</td>\n      <td>4.728253</td>\n      <td>Bakeries, Food, Restaurants</td>\n    </tr>\n    <tr>\n      <th>2</th>\n      <td>Sonoran Brunch Company</td>\n      <td>4.643903</td>\n      <td>Restaurants, Mexican, Breakfast &amp; Brunch</td>\n    </tr>\n    <tr>\n      <th>3</th>\n      <td>Crave Coffee Bar</td>\n      <td>4.631733</td>\n      <td>Food, Coffee &amp; Tea, Restaurants</td>\n    </tr>\n    <tr>\n      <th>4</th>\n      <td>The Quesadillas</td>\n      <td>4.588587</td>\n      <td>Tacos, Restaurants, Mexican</td>\n    </tr>\n    <tr>\n      <th>5</th>\n      <td>El Rustico</td>\n      <td>4.521214</td>\n      <td>Tacos, Mexican, Restaurants</td>\n    </tr>\n    <tr>\n      <th>6</th>\n      <td>Bob's Steak &amp; Chop House</td>\n      <td>4.508791</td>\n      <td>Restaurants, Seafood, Steakhouses</td>\n    </tr>\n    <tr>\n      <th>7</th>\n      <td>Persian Room Fine Dining</td>\n      <td>4.496284</td>\n      <td>Restaurants, Persian/Iranian, Mediterranean</td>\n    </tr>\n    <tr>\n      <th>8</th>\n      <td>Le Rendez-vous</td>\n      <td>4.488895</td>\n      <td>Restaurants, French, Tapas/Small Plates</td>\n    </tr>\n    <tr>\n      <th>9</th>\n      <td>MOD Pizza</td>\n      <td>4.446986</td>\n      <td>Fast Food, Restaurants, Pizza</td>\n    </tr>\n  </tbody>\n</table>\n</div>"
     },
     "execution_count": 244,
     "metadata": {},
     "output_type": "execute_result"
    }
   ],
   "source": [
    "recommended_df"
   ]
  },
  {
   "cell_type": "code",
   "execution_count": 245,
   "metadata": {
    "ExecuteTime": {
     "end_time": "2023-10-08T21:03:15.445747400Z",
     "start_time": "2023-10-08T21:03:15.351510400Z"
    }
   },
   "outputs": [],
   "source": [
    "def get_user_totals(uid):\n",
    "    '''\n",
    "    Returns the number of items rated by given user\n",
    "    \n",
    "    Arguments: \n",
    "    uid (string): the id of the user\n",
    "    \n",
    "    Returns: \n",
    "    (int): the number of items rated by the user\n",
    "    '''\n",
    "    try:\n",
    "        return len(trainset_3.ur[trainset_3.to_inner_uid(uid)])\n",
    "    except ValueError: # user was not part of the trainset\n",
    "        return 0\n",
    "    \n",
    "def get_item_totals(iid):\n",
    "    '''\n",
    "    Returns the number of users that have rated a given item\n",
    "    \n",
    "    Arguments:\n",
    "    iid (string): the raw id of the item\n",
    "      \n",
    "    Returns:\n",
    "    (int): the number of users that have rated the item.\n",
    "    '''\n",
    "    try: \n",
    "        return len(trainset_3.ir[trainset_3.to_inner_iid(iid)])\n",
    "    except ValueError:\n",
    "        return 0"
   ]
  },
  {
   "cell_type": "code",
   "execution_count": 246,
   "metadata": {
    "ExecuteTime": {
     "end_time": "2023-10-08T21:03:15.445747400Z",
     "start_time": "2023-10-08T21:03:15.367136800Z"
    }
   },
   "outputs": [],
   "source": [
    "# Generate the best/worst predictions by absolute error\n",
    "predictions_df['user_totals'] = predictions_df['uid'].apply(get_user_totals)\n",
    "predictions_df['item_totals'] = predictions_df['iid'].apply(get_item_totals)\n",
    "predictions_df['err'] = abs(predictions_df['predicted'] -\n",
    "                            predictions_df['true'])\n",
    "best_predictions = predictions_df.sort_values(by='err')[:50]\n",
    "worst_predictions = predictions_df.sort_values(by='err')[-50:]"
   ]
  },
  {
   "cell_type": "code",
   "execution_count": 247,
   "metadata": {
    "ExecuteTime": {
     "end_time": "2023-10-08T21:03:15.684219100Z",
     "start_time": "2023-10-08T21:03:15.383825400Z"
    }
   },
   "outputs": [
    {
     "name": "stderr",
     "output_type": "stream",
     "text": [
      "C:\\ProgramData\\Anaconda3\\lib\\site-packages\\seaborn\\distributions.py:2619: FutureWarning: `distplot` is a deprecated function and will be removed in a future version. Please adapt your code to use either `displot` (a figure-level function with similar flexibility) or `histplot` (an axes-level function for histograms).\n",
      "  warnings.warn(msg, FutureWarning)\n"
     ]
    },
    {
     "data": {
      "text/plain": "[Text(0, 0, '1'),\n Text(1, 0, '2'),\n Text(2, 0, '3'),\n Text(3, 0, '4'),\n Text(4, 0, '5')]"
     },
     "execution_count": 247,
     "metadata": {},
     "output_type": "execute_result"
    },
    {
     "data": {
      "text/plain": "<Figure size 1000x500 with 2 Axes>",
      "image/png": "[encoded data removed]"
     },
     "metadata": {},
     "output_type": "display_data"
    }
   ],
   "source": [
    "# Plot prediction distributions via histogram & violin plot\n",
    "fig, axs = plt.subplots(1, 2, figsize=(10, 5))\n",
    "\n",
    "sns.distplot(predictions_df['predicted'], bins=25, norm_hist=False,\n",
    "             color='coral', ax=axs[0], kde=False)\n",
    "axs[0].set_title('Distribution of Predicted Ratings')\n",
    "axs[0].set_xlabel('Predicted Ratings')\n",
    "axs[0].set_ylabel('Count')\n",
    "\n",
    "pred_data = ([predictions_df['predicted'][predictions_df['true'] == rating]\n",
    "              .values for rating in range(1, 6)])\n",
    "sns.violinplot(data=pred_data, ax=axs[1], color='coral')\n",
    "axs[1].set_title('Actual vs. Recommender Predicted Ratings')\n",
    "axs[1].set_xlabel('Actual Ratings')\n",
    "axs[1].set_ylabel('Predicted Ratings')\n",
    "axs[1].set_xticklabels(np.arange(1,6))\n"
   ]
  },
  {
   "cell_type": "code",
   "execution_count": 248,
   "metadata": {
    "scrolled": true,
    "ExecuteTime": {
     "end_time": "2023-10-08T21:03:15.741644700Z",
     "start_time": "2023-10-08T21:03:15.678704600Z"
    }
   },
   "outputs": [
    {
     "data": {
      "text/plain": "                        uid                     iid  true  predicted  \\\n189  G-DzOxoh7tniSa5K7apy-g  5CX7rtnwYnmqFCihOyWivg   4.0   3.976888   \n45   ig0NAzZ9J_6cF0gChtvJuA  5Ce3lZksYVkCbrihqylVHQ   4.0   4.025017   \n83   glv7NwPTYMEuq90lQhhnlw  l8yqThofpWGUs6lxOeIdOA   4.0   4.058061   \n73   OKrzRxFVM0TPI8afVB8LiA  IJ5N0TNgDDFP0UauRmepDg   4.0   3.931275   \n150  aakUfHsqjH8ZNHgCihwOFA  jZ1rUspubgkuZjwKJMhEEw   4.0   4.080251   \n136  R7NM7vIyUfSTXvMsw7jNTA  A93_XS0xZu1OtfQPTIJeqw   4.0   3.913585   \n177  1viszljzsa8W7VnYPuWosw  dlOTtFJbcyN1m5PR2IDxOg   4.0   4.097983   \n17   9Y1YkloHk2MAE3hkwYdFKA  5CX7rtnwYnmqFCihOyWivg   4.0   3.891404   \n153  xdEEatG19QPNdRw_ovDeFg  Wp9D-r8Ap1Fv0IIM0zGfoQ   4.0   3.887972   \n162  ow1YVonkr8G-8kFUKo-bJg  CJoO4HYD0tZRXlZqA04wmw   4.0   4.118150   \n133  srhTOSgTBtvHeISgwd_mgw  o3woQWQ-0HxFftItIEeNdw   4.0   4.119997   \n87   srhTOSgTBtvHeISgwd_mgw  dlOTtFJbcyN1m5PR2IDxOg   4.0   4.120202   \n9    QwW8ucobuKovGhYRbmlGeg  A93_XS0xZu1OtfQPTIJeqw   4.0   3.879472   \n185  2YKkLFeOx-0zRcWp0KUv_Q  eaNouTpxnIu7M80xdeLxFw   4.0   4.120805   \n30   I06gY9An4o81XpejLWD9DA  dlOTtFJbcyN1m5PR2IDxOg   4.0   3.871705   \n66   UqA28T4JXvnMLWHMlQNHOg  5CX7rtnwYnmqFCihOyWivg   4.0   4.132870   \n27   nmHv7qlE1J4qu-KFfcq1jw  IJ5N0TNgDDFP0UauRmepDg   4.0   3.863441   \n96   FBepvOKdCoLvg2ufO8Xxew  l8yqThofpWGUs6lxOeIdOA   4.0   4.148121   \n137  IRc32xCXlHDQjezcG5jj2Q  jZ1rUspubgkuZjwKJMhEEw   4.0   4.153865   \n32   lHqA_D7nAK9xw_Xg08dM_w  SVJJIoAiW3vHwoSpVnUcLQ   4.0   4.155021   \n76   Dp28gTTUp-YL7V_8Wx7wNw  IJ5N0TNgDDFP0UauRmepDg   4.0   3.827257   \n77   PeYXmSr3Yx-xQ3ohKJQo5A  5Ce3lZksYVkCbrihqylVHQ   4.0   4.179609   \n54   pdKV8bzFP0itnRPzL0nhOQ  l8yqThofpWGUs6lxOeIdOA   4.0   4.179884   \n180  iIZxL_saR2aRXzIdWLsbmQ  hzXAxu35F32Ob9uVCh-dIQ   4.0   3.812281   \n99   vp5WGQhdv9JmaR2VapdH9Q  eaNouTpxnIu7M80xdeLxFw   4.0   4.187860   \n53   3bI83kUo8BDRCIsrd1dOcQ  nEaTbGFlU7d9eLU2kl6KBw   4.0   3.807037   \n67   2MkOdtDkfqjbue--keV-_g  a_oRfgkNFnulTada--P_Tg   5.0   4.796289   \n25   SEKTawcFfaIKntviucbhHQ  gtuoRlBPqoTIEPrcfbIP-g   4.0   3.789955   \n97   j33oNmDKsuicerZUp9w2Rg  RIQ5ALCz1-oi98ViCO7kgQ   5.0   4.779359   \n95   2puPZX4xSHgSisoBhPTRAw  RHdEScVIAQ7xzFFMiQEnAQ   4.0   4.226650   \n155  6ObFF8-uKnOAlXuSH4TlyQ  RHdEScVIAQ7xzFFMiQEnAQ   5.0   4.772369   \n166  FBepvOKdCoLvg2ufO8Xxew  5CX7rtnwYnmqFCihOyWivg   4.0   4.247528   \n179  ma1MsTANyRHA640Kn4TzcA  nEaTbGFlU7d9eLU2kl6KBw   5.0   4.749337   \n148  1CBylrAKwx4rHV8B3t5BXQ  CJoO4HYD0tZRXlZqA04wmw   5.0   4.747196   \n115  gUwNvcxv8POu1YA14h7vnQ  hzXAxu35F32Ob9uVCh-dIQ   4.0   3.745014   \n63   9Y1YkloHk2MAE3hkwYdFKA  SVJJIoAiW3vHwoSpVnUcLQ   4.0   3.743312   \n13   I06gY9An4o81XpejLWD9DA  5CX7rtnwYnmqFCihOyWivg   4.0   3.735673   \n107  3EMhDUcXIu5j7fj_M8sfnQ  5CX7rtnwYnmqFCihOyWivg   5.0   4.730842   \n104  0yrF14nWVAFeI0fG29a63g  KZA_HEOsBXf8dtrk9rqNJA   4.0   4.287075   \n157  p9liSefYJbUmwzhCBuFqJQ  hzXAxu35F32Ob9uVCh-dIQ   4.0   4.287763   \n4    WjsZSsBbUTwkGUIkv7TpjQ  gtuoRlBPqoTIEPrcfbIP-g   3.0   3.293492   \n146  ig0NAzZ9J_6cF0gChtvJuA  KZA_HEOsBXf8dtrk9rqNJA   4.0   4.299718   \n51   2MkOdtDkfqjbue--keV-_g  RHdEScVIAQ7xzFFMiQEnAQ   5.0   4.699337   \n130  q1WM-IA7h9cUSQBTYvqfyw  o3woQWQ-0HxFftItIEeNdw   4.0   4.308691   \n79   cJQVHINlgnA1q_XcrwryUA  a_oRfgkNFnulTada--P_Tg   5.0   4.687011   \n122  cJQVHINlgnA1q_XcrwryUA  a_oRfgkNFnulTada--P_Tg   5.0   4.687011   \n142  EnFRwa9xPq9QaE4jBjFhlw  eGi7CE2YaN6YMiGyXNi8XQ   4.0   3.680870   \n46   2jDq1qdBpMexpsf0iDu_rg  a_oRfgkNFnulTada--P_Tg   5.0   4.678876   \n118  Crl7HrLxzRlyFSjbtKbrVA  RHdEScVIAQ7xzFFMiQEnAQ   5.0   4.670850   \n100  ODiLDviznULKYAUPKWpKsg  RHdEScVIAQ7xzFFMiQEnAQ   5.0   4.668668   \n\n     user_totals  item_totals       err  \n189            1           41  0.023112  \n45             1           26  0.025017  \n83             7           46  0.058061  \n73             1           30  0.068725  \n150            2           38  0.080251  \n136            2            8  0.086415  \n177           10           21  0.097983  \n17            13           41  0.108596  \n153            2           26  0.112028  \n162            2           41  0.118150  \n133            5           15  0.119997  \n87             5           21  0.120202  \n9              3            8  0.120528  \n185            8           18  0.120805  \n30            12           21  0.128295  \n66             1           41  0.132870  \n27             2           30  0.136559  \n96             1           46  0.148121  \n137            3           38  0.153865  \n32             2           35  0.155021  \n76             1           30  0.172743  \n77             1           26  0.179609  \n54             2           46  0.179884  \n180            1           29  0.187719  \n99             2           18  0.187860  \n53             2           40  0.192963  \n67             2           36  0.203711  \n25             2           15  0.210045  \n97             2           18  0.220641  \n95             2           49  0.226650  \n155            5           49  0.227631  \n166            1           41  0.247528  \n179            6           40  0.250663  \n148            3           41  0.252804  \n115            2           29  0.254986  \n63            13           35  0.256688  \n13            12           41  0.264327  \n107            2           41  0.269158  \n104            9           71  0.287075  \n157            2           29  0.287763  \n4              4           15  0.293492  \n146            1           71  0.299718  \n51             2           49  0.300663  \n130            2           15  0.308691  \n79             1           36  0.312989  \n122            1           36  0.312989  \n142           13           12  0.319130  \n46             4           36  0.321124  \n118            3           49  0.329150  \n100            2           49  0.331332  ",
      "text/html": "<div>\n<style scoped>\n    .dataframe tbody tr th:only-of-type {\n        vertical-align: middle;\n    }\n\n    .dataframe tbody tr th {\n        vertical-align: top;\n    }\n\n    .dataframe thead th {\n        text-align: right;\n    }\n</style>\n<table border=\"1\" class=\"dataframe\">\n  <thead>\n    <tr style=\"text-align: right;\">\n      <th></th>\n      <th>uid</th>\n      <th>iid</th>\n      <th>true</th>\n      <th>predicted</th>\n      <th>user_totals</th>\n      <th>item_totals</th>\n      <th>err</th>\n    </tr>\n  </thead>\n  <tbody>\n    <tr>\n      <th>189</th>\n      <td>G-DzOxoh7tniSa5K7apy-g</td>\n      <td>5CX7rtnwYnmqFCihOyWivg</td>\n      <td>4.0</td>\n      <td>3.976888</td>\n      <td>1</td>\n      <td>41</td>\n      <td>0.023112</td>\n    </tr>\n    <tr>\n      <th>45</th>\n      <td>ig0NAzZ9J_6cF0gChtvJuA</td>\n      <td>5Ce3lZksYVkCbrihqylVHQ</td>\n      <td>4.0</td>\n      <td>4.025017</td>\n      <td>1</td>\n      <td>26</td>\n      <td>0.025017</td>\n    </tr>\n    <tr>\n      <th>83</th>\n      <td>glv7NwPTYMEuq90lQhhnlw</td>\n      <td>l8yqThofpWGUs6lxOeIdOA</td>\n      <td>4.0</td>\n      <td>4.058061</td>\n      <td>7</td>\n      <td>46</td>\n      <td>0.058061</td>\n    </tr>\n    <tr>\n      <th>73</th>\n      <td>OKrzRxFVM0TPI8afVB8LiA</td>\n      <td>IJ5N0TNgDDFP0UauRmepDg</td>\n      <td>4.0</td>\n      <td>3.931275</td>\n      <td>1</td>\n      <td>30</td>\n      <td>0.068725</td>\n    </tr>\n    <tr>\n      <th>150</th>\n      <td>aakUfHsqjH8ZNHgCihwOFA</td>\n      <td>jZ1rUspubgkuZjwKJMhEEw</td>\n      <td>4.0</td>\n      <td>4.080251</td>\n      <td>2</td>\n      <td>38</td>\n      <td>0.080251</td>\n    </tr>\n    <tr>\n      <th>136</th>\n      <td>R7NM7vIyUfSTXvMsw7jNTA</td>\n      <td>A93_XS0xZu1OtfQPTIJeqw</td>\n      <td>4.0</td>\n      <td>3.913585</td>\n      <td>2</td>\n      <td>8</td>\n      <td>0.086415</td>\n    </tr>\n    <tr>\n      <th>177</th>\n      <td>1viszljzsa8W7VnYPuWosw</td>\n      <td>dlOTtFJbcyN1m5PR2IDxOg</td>\n      <td>4.0</td>\n      <td>4.097983</td>\n      <td>10</td>\n      <td>21</td>\n      <td>0.097983</td>\n    </tr>\n    <tr>\n      <th>17</th>\n      <td>9Y1YkloHk2MAE3hkwYdFKA</td>\n      <td>5CX7rtnwYnmqFCihOyWivg</td>\n      <td>4.0</td>\n      <td>3.891404</td>\n      <td>13</td>\n      <td>41</td>\n      <td>0.108596</td>\n    </tr>\n    <tr>\n      <th>153</th>\n      <td>xdEEatG19QPNdRw_ovDeFg</td>\n      <td>Wp9D-r8Ap1Fv0IIM0zGfoQ</td>\n      <td>4.0</td>\n      <td>3.887972</td>\n      <td>2</td>\n      <td>26</td>\n      <td>0.112028</td>\n    </tr>\n    <tr>\n      <th>162</th>\n      <td>ow1YVonkr8G-8kFUKo-bJg</td>\n      <td>CJoO4HYD0tZRXlZqA04wmw</td>\n      <td>4.0</td>\n      <td>4.118150</td>\n      <td>2</td>\n      <td>41</td>\n      <td>0.118150</td>\n    </tr>\n    <tr>\n      <th>133</th>\n      <td>srhTOSgTBtvHeISgwd_mgw</td>\n      <td>o3woQWQ-0HxFftItIEeNdw</td>\n      <td>4.0</td>\n      <td>4.119997</td>\n      <td>5</td>\n      <td>15</td>\n      <td>0.119997</td>\n    </tr>\n    <tr>\n      <th>87</th>\n      <td>srhTOSgTBtvHeISgwd_mgw</td>\n      <td>dlOTtFJbcyN1m5PR2IDxOg</td>\n      <td>4.0</td>\n      <td>4.120202</td>\n      <td>5</td>\n      <td>21</td>\n      <td>0.120202</td>\n    </tr>\n    <tr>\n      <th>9</th>\n      <td>QwW8ucobuKovGhYRbmlGeg</td>\n      <td>A93_XS0xZu1OtfQPTIJeqw</td>\n      <td>4.0</td>\n      <td>3.879472</td>\n      <td>3</td>\n      <td>8</td>\n      <td>0.120528</td>\n    </tr>\n    <tr>\n      <th>185</th>\n      <td>2YKkLFeOx-0zRcWp0KUv_Q</td>\n      <td>eaNouTpxnIu7M80xdeLxFw</td>\n      <td>4.0</td>\n      <td>4.120805</td>\n      <td>8</td>\n      <td>18</td>\n      <td>0.120805</td>\n    </tr>\n    <tr>\n      <th>30</th>\n      <td>I06gY9An4o81XpejLWD9DA</td>\n      <td>dlOTtFJbcyN1m5PR2IDxOg</td>\n      <td>4.0</td>\n      <td>3.871705</td>\n      <td>12</td>\n      <td>21</td>\n      <td>0.128295</td>\n    </tr>\n    <tr>\n      <th>66</th>\n      <td>UqA28T4JXvnMLWHMlQNHOg</td>\n      <td>5CX7rtnwYnmqFCihOyWivg</td>\n      <td>4.0</td>\n      <td>4.132870</td>\n      <td>1</td>\n      <td>41</td>\n      <td>0.132870</td>\n    </tr>\n    <tr>\n      <th>27</th>\n      <td>nmHv7qlE1J4qu-KFfcq1jw</td>\n      <td>IJ5N0TNgDDFP0UauRmepDg</td>\n      <td>4.0</td>\n      <td>3.863441</td>\n      <td>2</td>\n      <td>30</td>\n      <td>0.136559</td>\n    </tr>\n    <tr>\n      <th>96</th>\n      <td>FBepvOKdCoLvg2ufO8Xxew</td>\n      <td>l8yqThofpWGUs6lxOeIdOA</td>\n      <td>4.0</td>\n      <td>4.148121</td>\n      <td>1</td>\n      <td>46</td>\n      <td>0.148121</td>\n    </tr>\n    <tr>\n      <th>137</th>\n      <td>IRc32xCXlHDQjezcG5jj2Q</td>\n      <td>jZ1rUspubgkuZjwKJMhEEw</td>\n      <td>4.0</td>\n      <td>4.153865</td>\n      <td>3</td>\n      <td>38</td>\n      <td>0.153865</td>\n    </tr>\n    <tr>\n      <th>32</th>\n      <td>lHqA_D7nAK9xw_Xg08dM_w</td>\n      <td>SVJJIoAiW3vHwoSpVnUcLQ</td>\n      <td>4.0</td>\n      <td>4.155021</td>\n      <td>2</td>\n      <td>35</td>\n      <td>0.155021</td>\n    </tr>\n    <tr>\n      <th>76</th>\n      <td>Dp28gTTUp-YL7V_8Wx7wNw</td>\n      <td>IJ5N0TNgDDFP0UauRmepDg</td>\n      <td>4.0</td>\n      <td>3.827257</td>\n      <td>1</td>\n      <td>30</td>\n      <td>0.172743</td>\n    </tr>\n    <tr>\n      <th>77</th>\n      <td>PeYXmSr3Yx-xQ3ohKJQo5A</td>\n      <td>5Ce3lZksYVkCbrihqylVHQ</td>\n      <td>4.0</td>\n      <td>4.179609</td>\n      <td>1</td>\n      <td>26</td>\n      <td>0.179609</td>\n    </tr>\n    <tr>\n      <th>54</th>\n      <td>pdKV8bzFP0itnRPzL0nhOQ</td>\n      <td>l8yqThofpWGUs6lxOeIdOA</td>\n      <td>4.0</td>\n      <td>4.179884</td>\n      <td>2</td>\n      <td>46</td>\n      <td>0.179884</td>\n    </tr>\n    <tr>\n      <th>180</th>\n      <td>iIZxL_saR2aRXzIdWLsbmQ</td>\n      <td>hzXAxu35F32Ob9uVCh-dIQ</td>\n      <td>4.0</td>\n      <td>3.812281</td>\n      <td>1</td>\n      <td>29</td>\n      <td>0.187719</td>\n    </tr>\n    <tr>\n      <th>99</th>\n      <td>vp5WGQhdv9JmaR2VapdH9Q</td>\n      <td>eaNouTpxnIu7M80xdeLxFw</td>\n      <td>4.0</td>\n      <td>4.187860</td>\n      <td>2</td>\n      <td>18</td>\n      <td>0.187860</td>\n    </tr>\n    <tr>\n      <th>53</th>\n      <td>3bI83kUo8BDRCIsrd1dOcQ</td>\n      <td>nEaTbGFlU7d9eLU2kl6KBw</td>\n      <td>4.0</td>\n      <td>3.807037</td>\n      <td>2</td>\n      <td>40</td>\n      <td>0.192963</td>\n    </tr>\n    <tr>\n      <th>67</th>\n      <td>2MkOdtDkfqjbue--keV-_g</td>\n      <td>a_oRfgkNFnulTada--P_Tg</td>\n      <td>5.0</td>\n      <td>4.796289</td>\n      <td>2</td>\n      <td>36</td>\n      <td>0.203711</td>\n    </tr>\n    <tr>\n      <th>25</th>\n      <td>SEKTawcFfaIKntviucbhHQ</td>\n      <td>gtuoRlBPqoTIEPrcfbIP-g</td>\n      <td>4.0</td>\n      <td>3.789955</td>\n      <td>2</td>\n      <td>15</td>\n      <td>0.210045</td>\n    </tr>\n    <tr>\n      <th>97</th>\n      <td>j33oNmDKsuicerZUp9w2Rg</td>\n      <td>RIQ5ALCz1-oi98ViCO7kgQ</td>\n      <td>5.0</td>\n      <td>4.779359</td>\n      <td>2</td>\n      <td>18</td>\n      <td>0.220641</td>\n    </tr>\n    <tr>\n      <th>95</th>\n      <td>2puPZX4xSHgSisoBhPTRAw</td>\n      <td>RHdEScVIAQ7xzFFMiQEnAQ</td>\n      <td>4.0</td>\n      <td>4.226650</td>\n      <td>2</td>\n      <td>49</td>\n      <td>0.226650</td>\n    </tr>\n    <tr>\n      <th>155</th>\n      <td>6ObFF8-uKnOAlXuSH4TlyQ</td>\n      <td>RHdEScVIAQ7xzFFMiQEnAQ</td>\n      <td>5.0</td>\n      <td>4.772369</td>\n      <td>5</td>\n      <td>49</td>\n      <td>0.227631</td>\n    </tr>\n    <tr>\n      <th>166</th>\n      <td>FBepvOKdCoLvg2ufO8Xxew</td>\n      <td>5CX7rtnwYnmqFCihOyWivg</td>\n      <td>4.0</td>\n      <td>4.247528</td>\n      <td>1</td>\n      <td>41</td>\n      <td>0.247528</td>\n    </tr>\n    <tr>\n      <th>179</th>\n      <td>ma1MsTANyRHA640Kn4TzcA</td>\n      <td>nEaTbGFlU7d9eLU2kl6KBw</td>\n      <td>5.0</td>\n      <td>4.749337</td>\n      <td>6</td>\n      <td>40</td>\n      <td>0.250663</td>\n    </tr>\n    <tr>\n      <th>148</th>\n      <td>1CBylrAKwx4rHV8B3t5BXQ</td>\n      <td>CJoO4HYD0tZRXlZqA04wmw</td>\n      <td>5.0</td>\n      <td>4.747196</td>\n      <td>3</td>\n      <td>41</td>\n      <td>0.252804</td>\n    </tr>\n    <tr>\n      <th>115</th>\n      <td>gUwNvcxv8POu1YA14h7vnQ</td>\n      <td>hzXAxu35F32Ob9uVCh-dIQ</td>\n      <td>4.0</td>\n      <td>3.745014</td>\n      <td>2</td>\n      <td>29</td>\n      <td>0.254986</td>\n    </tr>\n    <tr>\n      <th>63</th>\n      <td>9Y1YkloHk2MAE3hkwYdFKA</td>\n      <td>SVJJIoAiW3vHwoSpVnUcLQ</td>\n      <td>4.0</td>\n      <td>3.743312</td>\n      <td>13</td>\n      <td>35</td>\n      <td>0.256688</td>\n    </tr>\n    <tr>\n      <th>13</th>\n      <td>I06gY9An4o81XpejLWD9DA</td>\n      <td>5CX7rtnwYnmqFCihOyWivg</td>\n      <td>4.0</td>\n      <td>3.735673</td>\n      <td>12</td>\n      <td>41</td>\n      <td>0.264327</td>\n    </tr>\n    <tr>\n      <th>107</th>\n      <td>3EMhDUcXIu5j7fj_M8sfnQ</td>\n      <td>5CX7rtnwYnmqFCihOyWivg</td>\n      <td>5.0</td>\n      <td>4.730842</td>\n      <td>2</td>\n      <td>41</td>\n      <td>0.269158</td>\n    </tr>\n    <tr>\n      <th>104</th>\n      <td>0yrF14nWVAFeI0fG29a63g</td>\n      <td>KZA_HEOsBXf8dtrk9rqNJA</td>\n      <td>4.0</td>\n      <td>4.287075</td>\n      <td>9</td>\n      <td>71</td>\n      <td>0.287075</td>\n    </tr>\n    <tr>\n      <th>157</th>\n      <td>p9liSefYJbUmwzhCBuFqJQ</td>\n      <td>hzXAxu35F32Ob9uVCh-dIQ</td>\n      <td>4.0</td>\n      <td>4.287763</td>\n      <td>2</td>\n      <td>29</td>\n      <td>0.287763</td>\n    </tr>\n    <tr>\n      <th>4</th>\n      <td>WjsZSsBbUTwkGUIkv7TpjQ</td>\n      <td>gtuoRlBPqoTIEPrcfbIP-g</td>\n      <td>3.0</td>\n      <td>3.293492</td>\n      <td>4</td>\n      <td>15</td>\n      <td>0.293492</td>\n    </tr>\n    <tr>\n      <th>146</th>\n      <td>ig0NAzZ9J_6cF0gChtvJuA</td>\n      <td>KZA_HEOsBXf8dtrk9rqNJA</td>\n      <td>4.0</td>\n      <td>4.299718</td>\n      <td>1</td>\n      <td>71</td>\n      <td>0.299718</td>\n    </tr>\n    <tr>\n      <th>51</th>\n      <td>2MkOdtDkfqjbue--keV-_g</td>\n      <td>RHdEScVIAQ7xzFFMiQEnAQ</td>\n      <td>5.0</td>\n      <td>4.699337</td>\n      <td>2</td>\n      <td>49</td>\n      <td>0.300663</td>\n    </tr>\n    <tr>\n      <th>130</th>\n      <td>q1WM-IA7h9cUSQBTYvqfyw</td>\n      <td>o3woQWQ-0HxFftItIEeNdw</td>\n      <td>4.0</td>\n      <td>4.308691</td>\n      <td>2</td>\n      <td>15</td>\n      <td>0.308691</td>\n    </tr>\n    <tr>\n      <th>79</th>\n      <td>cJQVHINlgnA1q_XcrwryUA</td>\n      <td>a_oRfgkNFnulTada--P_Tg</td>\n      <td>5.0</td>\n      <td>4.687011</td>\n      <td>1</td>\n      <td>36</td>\n      <td>0.312989</td>\n    </tr>\n    <tr>\n      <th>122</th>\n      <td>cJQVHINlgnA1q_XcrwryUA</td>\n      <td>a_oRfgkNFnulTada--P_Tg</td>\n      <td>5.0</td>\n      <td>4.687011</td>\n      <td>1</td>\n      <td>36</td>\n      <td>0.312989</td>\n    </tr>\n    <tr>\n      <th>142</th>\n      <td>EnFRwa9xPq9QaE4jBjFhlw</td>\n      <td>eGi7CE2YaN6YMiGyXNi8XQ</td>\n      <td>4.0</td>\n      <td>3.680870</td>\n      <td>13</td>\n      <td>12</td>\n      <td>0.319130</td>\n    </tr>\n    <tr>\n      <th>46</th>\n      <td>2jDq1qdBpMexpsf0iDu_rg</td>\n      <td>a_oRfgkNFnulTada--P_Tg</td>\n      <td>5.0</td>\n      <td>4.678876</td>\n      <td>4</td>\n      <td>36</td>\n      <td>0.321124</td>\n    </tr>\n    <tr>\n      <th>118</th>\n      <td>Crl7HrLxzRlyFSjbtKbrVA</td>\n      <td>RHdEScVIAQ7xzFFMiQEnAQ</td>\n      <td>5.0</td>\n      <td>4.670850</td>\n      <td>3</td>\n      <td>49</td>\n      <td>0.329150</td>\n    </tr>\n    <tr>\n      <th>100</th>\n      <td>ODiLDviznULKYAUPKWpKsg</td>\n      <td>RHdEScVIAQ7xzFFMiQEnAQ</td>\n      <td>5.0</td>\n      <td>4.668668</td>\n      <td>2</td>\n      <td>49</td>\n      <td>0.331332</td>\n    </tr>\n  </tbody>\n</table>\n</div>"
     },
     "execution_count": 248,
     "metadata": {},
     "output_type": "execute_result"
    }
   ],
   "source": [
    "best_predictions"
   ]
  },
  {
   "cell_type": "code",
   "execution_count": 249,
   "metadata": {
    "ExecuteTime": {
     "end_time": "2023-10-08T21:03:15.772861100Z",
     "start_time": "2023-10-08T21:03:15.725988100Z"
    }
   },
   "outputs": [
    {
     "data": {
      "text/plain": "                        uid                     iid  true  predicted  \\\n48   srx_nUpba8cwwzdcZunaCA  Wp9D-r8Ap1Fv0IIM0zGfoQ   3.0   3.888545   \n109  Fz8uo7UVvueCbx48qAI5fw  5Ce3lZksYVkCbrihqylVHQ   5.0   4.102507   \n64   aHiQYaTXrmQTeG6106l5wg  nEaTbGFlU7d9eLU2kl6KBw   3.0   3.898328   \n171  IJN-45eOGi1gUihoYAc5jQ  IJ5N0TNgDDFP0UauRmepDg   5.0   4.093141   \n181  PeYXmSr3Yx-xQ3ohKJQo5A  vtbAuFCR8ugUaajtF_wDEQ   5.0   4.089215   \n170  IPcgVWB-KXlb5bqt8fqE0Q  RHdEScVIAQ7xzFFMiQEnAQ   3.0   3.931334   \n164  W67nXodRWTIa-d1NJlncvA  KZA_HEOsBXf8dtrk9rqNJA   5.0   4.067910   \n110  fdFgZQQYQJeEAshH4lxSfQ  nEaTbGFlU7d9eLU2kl6KBw   5.0   4.051320   \n18   L2U4I05dvNsgCpm0NIxkJA  KZA_HEOsBXf8dtrk9rqNJA   3.0   3.986241   \n20   gUwNvcxv8POu1YA14h7vnQ  nEaTbGFlU7d9eLU2kl6KBw   5.0   4.008092   \n86   Fz8uo7UVvueCbx48qAI5fw  IJ5N0TNgDDFP0UauRmepDg   3.0   3.997772   \n84   QwW8ucobuKovGhYRbmlGeg  g9DDXMuDwaW-GtD2f6xl6A   5.0   3.993212   \n127  i9ka8QjB_dlk80v8Bw2yqQ  nEaTbGFlU7d9eLU2kl6KBw   5.0   3.991082   \n112  UCXxqX1TXzv-cnAG5fYiJA  eaNouTpxnIu7M80xdeLxFw   3.0   4.035293   \n90   L2U4I05dvNsgCpm0NIxkJA  nEaTbGFlU7d9eLU2kl6KBw   5.0   3.958316   \n8    -frybFHNHWnwd69LFXkOVQ  l8yqThofpWGUs6lxOeIdOA   5.0   3.923613   \n82   PB12rXSugGTOAiLYPA08mA  SVJJIoAiW3vHwoSpVnUcLQ   5.0   3.910908   \n49   iIZxL_saR2aRXzIdWLsbmQ  Wp9D-r8Ap1Fv0IIM0zGfoQ   5.0   3.899612   \n117  fabc-n2X0PBEd_OsZDmSWg  nEaTbGFlU7d9eLU2kl6KBw   5.0   3.895571   \n152  psAjVE1E1XEYyZ4yTfcdYA  IJ5N0TNgDDFP0UauRmepDg   5.0   3.845896   \n56   PB12rXSugGTOAiLYPA08mA  A93_XS0xZu1OtfQPTIJeqw   5.0   3.844612   \n44   86pQYWQQUqUzlN0O-FmUHw  RHdEScVIAQ7xzFFMiQEnAQ   3.0   4.221238   \n128  EnFRwa9xPq9QaE4jBjFhlw  5CX7rtnwYnmqFCihOyWivg   4.0   2.773605   \n74   LQLdM-gdZFA7sOK_AUebjw  hzXAxu35F32Ob9uVCh-dIQ   5.0   3.740750   \n111  zBWSORvlWDmwtcx6627qWQ  hzXAxu35F32Ob9uVCh-dIQ   2.0   3.295015   \n36   kA6H0FTukkmTXv5H3S9XCg  g9DDXMuDwaW-GtD2f6xl6A   5.0   3.703810   \n144  _ADnCcFfZrKuCUdv2SD-PA  IJ5N0TNgDDFP0UauRmepDg   5.0   3.648832   \n6    9Y1YkloHk2MAE3hkwYdFKA  XyGRDrgCK0z4CiA6nhwEaw   3.0   4.353474   \n61   AFLID_qyrrbEepehgVvbSg  jZ1rUspubgkuZjwKJMhEEw   3.0   4.378200   \n173  aakUfHsqjH8ZNHgCihwOFA  IJ5N0TNgDDFP0UauRmepDg   5.0   3.550107   \n62   jL41h4Ez98PZfqiKzbbY1w  SVJJIoAiW3vHwoSpVnUcLQ   2.0   3.456203   \n190  A66EvH_nWJJb7d-F9FlJUw  A93_XS0xZu1OtfQPTIJeqw   5.0   3.506143   \n93   H9UDyc6ztdw6LSINhJMqzQ  Wp9D-r8Ap1Fv0IIM0zGfoQ   5.0   3.499548   \n151  E3R01ki3iaic1nonV83yng  Wp9D-r8Ap1Fv0IIM0zGfoQ   5.0   3.436886   \n69   1lTOxVtP12J6rtdRmfiMPQ  KZA_HEOsBXf8dtrk9rqNJA   3.0   4.641787   \n35   AjaC09DfJ8h5__fgqOMvGA  IJ5N0TNgDDFP0UauRmepDg   2.0   3.685695   \n2    srhTOSgTBtvHeISgwd_mgw  l8yqThofpWGUs6lxOeIdOA   2.0   3.731258   \n68   _5swqa5xUdLar-Q-bBZSDA  yRs15dgEYvxGatbDyeVXiA   1.0   2.731728   \n3    HKIFN7bin1aKtQZ9k9tRlQ  gtuoRlBPqoTIEPrcfbIP-g   2.0   3.741197   \n0    aHiQYaTXrmQTeG6106l5wg  RHdEScVIAQ7xzFFMiQEnAQ   3.0   4.794630   \n39   jOmykVsmYxE9N_ATjCLEmQ  hzXAxu35F32Ob9uVCh-dIQ   2.0   3.938145   \n81   AXpwQ2orCGqlPEcuzgL8xA  yRs15dgEYvxGatbDyeVXiA   1.0   2.943611   \n11   8eC6EOsLTmfVk_35t3ZQqg  IJ5N0TNgDDFP0UauRmepDg   2.0   3.977022   \n33   G-DzOxoh7tniSa5K7apy-g  SVJJIoAiW3vHwoSpVnUcLQ   2.0   4.096930   \n168  ETWISuSphgjc3puFAplnJg  hzXAxu35F32Ob9uVCh-dIQ   2.0   4.130447   \n114  fgGm3h80eQRXZuQttD-jPQ  xwKYBPO0ByGlkvNcr8FdqQ   2.0   4.160007   \n94   wiBJWa3RBh-Q7jM4J4dCEw  gtuoRlBPqoTIEPrcfbIP-g   1.0   3.245968   \n24   uUH_58_pfFF6ZLqUmm2D8Q  l8yqThofpWGUs6lxOeIdOA   1.0   3.721231   \n57   HKIFN7bin1aKtQZ9k9tRlQ  gtuoRlBPqoTIEPrcfbIP-g   1.0   3.741197   \n165  PB12rXSugGTOAiLYPA08mA  jZ1rUspubgkuZjwKJMhEEw   1.0   4.293278   \n\n     user_totals  item_totals       err  \n48             2           26  0.888545  \n109            1           26  0.897493  \n64             1           40  0.898328  \n171            2           30  0.906859  \n181            1           14  0.910785  \n170            3           49  0.931334  \n164            2           71  0.932090  \n110            4           40  0.948680  \n18             6           71  0.986241  \n20             2           40  0.991908  \n86             1           30  0.997772  \n84             3           11  1.006788  \n127            2           40  1.008918  \n112            1           18  1.035293  \n90             6           40  1.041684  \n8              3           46  1.076387  \n82             0           35  1.089092  \n49             1           26  1.100388  \n117            2           40  1.104429  \n152            4           30  1.154104  \n56             0            8  1.155388  \n44             2           49  1.221238  \n128           13           41  1.226395  \n74             6           29  1.259250  \n111            2           29  1.295015  \n36             3           11  1.296190  \n144            1           30  1.351168  \n6             13           27  1.353474  \n61             3           38  1.378200  \n173            2           30  1.449893  \n62             7           35  1.456203  \n190            4            8  1.493857  \n93             3           26  1.500452  \n151            2           26  1.563114  \n69             4           71  1.641787  \n35             2           30  1.685695  \n2              5           46  1.731258  \n68             3           23  1.731728  \n3              1           15  1.741197  \n0              1           49  1.794630  \n39             2           29  1.938145  \n81             3           23  1.943611  \n11             3           30  1.977022  \n33             1           35  2.096930  \n168            2           29  2.130447  \n114            2           27  2.160007  \n94             2           15  2.245968  \n24             4           46  2.721231  \n57             1           15  2.741197  \n165            0           38  3.293278  ",
      "text/html": "<div>\n<style scoped>\n    .dataframe tbody tr th:only-of-type {\n        vertical-align: middle;\n    }\n\n    .dataframe tbody tr th {\n        vertical-align: top;\n    }\n\n    .dataframe thead th {\n        text-align: right;\n    }\n</style>\n<table border=\"1\" class=\"dataframe\">\n  <thead>\n    <tr style=\"text-align: right;\">\n      <th></th>\n      <th>uid</th>\n      <th>iid</th>\n      <th>true</th>\n      <th>predicted</th>\n      <th>user_totals</th>\n      <th>item_totals</th>\n      <th>err</th>\n    </tr>\n  </thead>\n  <tbody>\n    <tr>\n      <th>48</th>\n      <td>srx_nUpba8cwwzdcZunaCA</td>\n      <td>Wp9D-r8Ap1Fv0IIM0zGfoQ</td>\n      <td>3.0</td>\n      <td>3.888545</td>\n      <td>2</td>\n      <td>26</td>\n      <td>0.888545</td>\n    </tr>\n    <tr>\n      <th>109</th>\n      <td>Fz8uo7UVvueCbx48qAI5fw</td>\n      <td>5Ce3lZksYVkCbrihqylVHQ</td>\n      <td>5.0</td>\n      <td>4.102507</td>\n      <td>1</td>\n      <td>26</td>\n      <td>0.897493</td>\n    </tr>\n    <tr>\n      <th>64</th>\n      <td>aHiQYaTXrmQTeG6106l5wg</td>\n      <td>nEaTbGFlU7d9eLU2kl6KBw</td>\n      <td>3.0</td>\n      <td>3.898328</td>\n      <td>1</td>\n      <td>40</td>\n      <td>0.898328</td>\n    </tr>\n    <tr>\n      <th>171</th>\n      <td>IJN-45eOGi1gUihoYAc5jQ</td>\n      <td>IJ5N0TNgDDFP0UauRmepDg</td>\n      <td>5.0</td>\n      <td>4.093141</td>\n      <td>2</td>\n      <td>30</td>\n      <td>0.906859</td>\n    </tr>\n    <tr>\n      <th>181</th>\n      <td>PeYXmSr3Yx-xQ3ohKJQo5A</td>\n      <td>vtbAuFCR8ugUaajtF_wDEQ</td>\n      <td>5.0</td>\n      <td>4.089215</td>\n      <td>1</td>\n      <td>14</td>\n      <td>0.910785</td>\n    </tr>\n    <tr>\n      <th>170</th>\n      <td>IPcgVWB-KXlb5bqt8fqE0Q</td>\n      <td>RHdEScVIAQ7xzFFMiQEnAQ</td>\n      <td>3.0</td>\n      <td>3.931334</td>\n      <td>3</td>\n      <td>49</td>\n      <td>0.931334</td>\n    </tr>\n    <tr>\n      <th>164</th>\n      <td>W67nXodRWTIa-d1NJlncvA</td>\n      <td>KZA_HEOsBXf8dtrk9rqNJA</td>\n      <td>5.0</td>\n      <td>4.067910</td>\n      <td>2</td>\n      <td>71</td>\n      <td>0.932090</td>\n    </tr>\n    <tr>\n      <th>110</th>\n      <td>fdFgZQQYQJeEAshH4lxSfQ</td>\n      <td>nEaTbGFlU7d9eLU2kl6KBw</td>\n      <td>5.0</td>\n      <td>4.051320</td>\n      <td>4</td>\n      <td>40</td>\n      <td>0.948680</td>\n    </tr>\n    <tr>\n      <th>18</th>\n      <td>L2U4I05dvNsgCpm0NIxkJA</td>\n      <td>KZA_HEOsBXf8dtrk9rqNJA</td>\n      <td>3.0</td>\n      <td>3.986241</td>\n      <td>6</td>\n      <td>71</td>\n      <td>0.986241</td>\n    </tr>\n    <tr>\n      <th>20</th>\n      <td>gUwNvcxv8POu1YA14h7vnQ</td>\n      <td>nEaTbGFlU7d9eLU2kl6KBw</td>\n      <td>5.0</td>\n      <td>4.008092</td>\n      <td>2</td>\n      <td>40</td>\n      <td>0.991908</td>\n    </tr>\n    <tr>\n      <th>86</th>\n      <td>Fz8uo7UVvueCbx48qAI5fw</td>\n      <td>IJ5N0TNgDDFP0UauRmepDg</td>\n      <td>3.0</td>\n      <td>3.997772</td>\n      <td>1</td>\n      <td>30</td>\n      <td>0.997772</td>\n    </tr>\n    <tr>\n      <th>84</th>\n      <td>QwW8ucobuKovGhYRbmlGeg</td>\n      <td>g9DDXMuDwaW-GtD2f6xl6A</td>\n      <td>5.0</td>\n      <td>3.993212</td>\n      <td>3</td>\n      <td>11</td>\n      <td>1.006788</td>\n    </tr>\n    <tr>\n      <th>127</th>\n      <td>i9ka8QjB_dlk80v8Bw2yqQ</td>\n      <td>nEaTbGFlU7d9eLU2kl6KBw</td>\n      <td>5.0</td>\n      <td>3.991082</td>\n      <td>2</td>\n      <td>40</td>\n      <td>1.008918</td>\n    </tr>\n    <tr>\n      <th>112</th>\n      <td>UCXxqX1TXzv-cnAG5fYiJA</td>\n      <td>eaNouTpxnIu7M80xdeLxFw</td>\n      <td>3.0</td>\n      <td>4.035293</td>\n      <td>1</td>\n      <td>18</td>\n      <td>1.035293</td>\n    </tr>\n    <tr>\n      <th>90</th>\n      <td>L2U4I05dvNsgCpm0NIxkJA</td>\n      <td>nEaTbGFlU7d9eLU2kl6KBw</td>\n      <td>5.0</td>\n      <td>3.958316</td>\n      <td>6</td>\n      <td>40</td>\n      <td>1.041684</td>\n    </tr>\n    <tr>\n      <th>8</th>\n      <td>-frybFHNHWnwd69LFXkOVQ</td>\n      <td>l8yqThofpWGUs6lxOeIdOA</td>\n      <td>5.0</td>\n      <td>3.923613</td>\n      <td>3</td>\n      <td>46</td>\n      <td>1.076387</td>\n    </tr>\n    <tr>\n      <th>82</th>\n      <td>PB12rXSugGTOAiLYPA08mA</td>\n      <td>SVJJIoAiW3vHwoSpVnUcLQ</td>\n      <td>5.0</td>\n      <td>3.910908</td>\n      <td>0</td>\n      <td>35</td>\n      <td>1.089092</td>\n    </tr>\n    <tr>\n      <th>49</th>\n      <td>iIZxL_saR2aRXzIdWLsbmQ</td>\n      <td>Wp9D-r8Ap1Fv0IIM0zGfoQ</td>\n      <td>5.0</td>\n      <td>3.899612</td>\n      <td>1</td>\n      <td>26</td>\n      <td>1.100388</td>\n    </tr>\n    <tr>\n      <th>117</th>\n      <td>fabc-n2X0PBEd_OsZDmSWg</td>\n      <td>nEaTbGFlU7d9eLU2kl6KBw</td>\n      <td>5.0</td>\n      <td>3.895571</td>\n      <td>2</td>\n      <td>40</td>\n      <td>1.104429</td>\n    </tr>\n    <tr>\n      <th>152</th>\n      <td>psAjVE1E1XEYyZ4yTfcdYA</td>\n      <td>IJ5N0TNgDDFP0UauRmepDg</td>\n      <td>5.0</td>\n      <td>3.845896</td>\n      <td>4</td>\n      <td>30</td>\n      <td>1.154104</td>\n    </tr>\n    <tr>\n      <th>56</th>\n      <td>PB12rXSugGTOAiLYPA08mA</td>\n      <td>A93_XS0xZu1OtfQPTIJeqw</td>\n      <td>5.0</td>\n      <td>3.844612</td>\n      <td>0</td>\n      <td>8</td>\n      <td>1.155388</td>\n    </tr>\n    <tr>\n      <th>44</th>\n      <td>86pQYWQQUqUzlN0O-FmUHw</td>\n      <td>RHdEScVIAQ7xzFFMiQEnAQ</td>\n      <td>3.0</td>\n      <td>4.221238</td>\n      <td>2</td>\n      <td>49</td>\n      <td>1.221238</td>\n    </tr>\n    <tr>\n      <th>128</th>\n      <td>EnFRwa9xPq9QaE4jBjFhlw</td>\n      <td>5CX7rtnwYnmqFCihOyWivg</td>\n      <td>4.0</td>\n      <td>2.773605</td>\n      <td>13</td>\n      <td>41</td>\n      <td>1.226395</td>\n    </tr>\n    <tr>\n      <th>74</th>\n      <td>LQLdM-gdZFA7sOK_AUebjw</td>\n      <td>hzXAxu35F32Ob9uVCh-dIQ</td>\n      <td>5.0</td>\n      <td>3.740750</td>\n      <td>6</td>\n      <td>29</td>\n      <td>1.259250</td>\n    </tr>\n    <tr>\n      <th>111</th>\n      <td>zBWSORvlWDmwtcx6627qWQ</td>\n      <td>hzXAxu35F32Ob9uVCh-dIQ</td>\n      <td>2.0</td>\n      <td>3.295015</td>\n      <td>2</td>\n      <td>29</td>\n      <td>1.295015</td>\n    </tr>\n    <tr>\n      <th>36</th>\n      <td>kA6H0FTukkmTXv5H3S9XCg</td>\n      <td>g9DDXMuDwaW-GtD2f6xl6A</td>\n      <td>5.0</td>\n      <td>3.703810</td>\n      <td>3</td>\n      <td>11</td>\n      <td>1.296190</td>\n    </tr>\n    <tr>\n      <th>144</th>\n      <td>_ADnCcFfZrKuCUdv2SD-PA</td>\n      <td>IJ5N0TNgDDFP0UauRmepDg</td>\n      <td>5.0</td>\n      <td>3.648832</td>\n      <td>1</td>\n      <td>30</td>\n      <td>1.351168</td>\n    </tr>\n    <tr>\n      <th>6</th>\n      <td>9Y1YkloHk2MAE3hkwYdFKA</td>\n      <td>XyGRDrgCK0z4CiA6nhwEaw</td>\n      <td>3.0</td>\n      <td>4.353474</td>\n      <td>13</td>\n      <td>27</td>\n      <td>1.353474</td>\n    </tr>\n    <tr>\n      <th>61</th>\n      <td>AFLID_qyrrbEepehgVvbSg</td>\n      <td>jZ1rUspubgkuZjwKJMhEEw</td>\n      <td>3.0</td>\n      <td>4.378200</td>\n      <td>3</td>\n      <td>38</td>\n      <td>1.378200</td>\n    </tr>\n    <tr>\n      <th>173</th>\n      <td>aakUfHsqjH8ZNHgCihwOFA</td>\n      <td>IJ5N0TNgDDFP0UauRmepDg</td>\n      <td>5.0</td>\n      <td>3.550107</td>\n      <td>2</td>\n      <td>30</td>\n      <td>1.449893</td>\n    </tr>\n    <tr>\n      <th>62</th>\n      <td>jL41h4Ez98PZfqiKzbbY1w</td>\n      <td>SVJJIoAiW3vHwoSpVnUcLQ</td>\n      <td>2.0</td>\n      <td>3.456203</td>\n      <td>7</td>\n      <td>35</td>\n      <td>1.456203</td>\n    </tr>\n    <tr>\n      <th>190</th>\n      <td>A66EvH_nWJJb7d-F9FlJUw</td>\n      <td>A93_XS0xZu1OtfQPTIJeqw</td>\n      <td>5.0</td>\n      <td>3.506143</td>\n      <td>4</td>\n      <td>8</td>\n      <td>1.493857</td>\n    </tr>\n    <tr>\n      <th>93</th>\n      <td>H9UDyc6ztdw6LSINhJMqzQ</td>\n      <td>Wp9D-r8Ap1Fv0IIM0zGfoQ</td>\n      <td>5.0</td>\n      <td>3.499548</td>\n      <td>3</td>\n      <td>26</td>\n      <td>1.500452</td>\n    </tr>\n    <tr>\n      <th>151</th>\n      <td>E3R01ki3iaic1nonV83yng</td>\n      <td>Wp9D-r8Ap1Fv0IIM0zGfoQ</td>\n      <td>5.0</td>\n      <td>3.436886</td>\n      <td>2</td>\n      <td>26</td>\n      <td>1.563114</td>\n    </tr>\n    <tr>\n      <th>69</th>\n      <td>1lTOxVtP12J6rtdRmfiMPQ</td>\n      <td>KZA_HEOsBXf8dtrk9rqNJA</td>\n      <td>3.0</td>\n      <td>4.641787</td>\n      <td>4</td>\n      <td>71</td>\n      <td>1.641787</td>\n    </tr>\n    <tr>\n      <th>35</th>\n      <td>AjaC09DfJ8h5__fgqOMvGA</td>\n      <td>IJ5N0TNgDDFP0UauRmepDg</td>\n      <td>2.0</td>\n      <td>3.685695</td>\n      <td>2</td>\n      <td>30</td>\n      <td>1.685695</td>\n    </tr>\n    <tr>\n      <th>2</th>\n      <td>srhTOSgTBtvHeISgwd_mgw</td>\n      <td>l8yqThofpWGUs6lxOeIdOA</td>\n      <td>2.0</td>\n      <td>3.731258</td>\n      <td>5</td>\n      <td>46</td>\n      <td>1.731258</td>\n    </tr>\n    <tr>\n      <th>68</th>\n      <td>_5swqa5xUdLar-Q-bBZSDA</td>\n      <td>yRs15dgEYvxGatbDyeVXiA</td>\n      <td>1.0</td>\n      <td>2.731728</td>\n      <td>3</td>\n      <td>23</td>\n      <td>1.731728</td>\n    </tr>\n    <tr>\n      <th>3</th>\n      <td>HKIFN7bin1aKtQZ9k9tRlQ</td>\n      <td>gtuoRlBPqoTIEPrcfbIP-g</td>\n      <td>2.0</td>\n      <td>3.741197</td>\n      <td>1</td>\n      <td>15</td>\n      <td>1.741197</td>\n    </tr>\n    <tr>\n      <th>0</th>\n      <td>aHiQYaTXrmQTeG6106l5wg</td>\n      <td>RHdEScVIAQ7xzFFMiQEnAQ</td>\n      <td>3.0</td>\n      <td>4.794630</td>\n      <td>1</td>\n      <td>49</td>\n      <td>1.794630</td>\n    </tr>\n    <tr>\n      <th>39</th>\n      <td>jOmykVsmYxE9N_ATjCLEmQ</td>\n      <td>hzXAxu35F32Ob9uVCh-dIQ</td>\n      <td>2.0</td>\n      <td>3.938145</td>\n      <td>2</td>\n      <td>29</td>\n      <td>1.938145</td>\n    </tr>\n    <tr>\n      <th>81</th>\n      <td>AXpwQ2orCGqlPEcuzgL8xA</td>\n      <td>yRs15dgEYvxGatbDyeVXiA</td>\n      <td>1.0</td>\n      <td>2.943611</td>\n      <td>3</td>\n      <td>23</td>\n      <td>1.943611</td>\n    </tr>\n    <tr>\n      <th>11</th>\n      <td>8eC6EOsLTmfVk_35t3ZQqg</td>\n      <td>IJ5N0TNgDDFP0UauRmepDg</td>\n      <td>2.0</td>\n      <td>3.977022</td>\n      <td>3</td>\n      <td>30</td>\n      <td>1.977022</td>\n    </tr>\n    <tr>\n      <th>33</th>\n      <td>G-DzOxoh7tniSa5K7apy-g</td>\n      <td>SVJJIoAiW3vHwoSpVnUcLQ</td>\n      <td>2.0</td>\n      <td>4.096930</td>\n      <td>1</td>\n      <td>35</td>\n      <td>2.096930</td>\n    </tr>\n    <tr>\n      <th>168</th>\n      <td>ETWISuSphgjc3puFAplnJg</td>\n      <td>hzXAxu35F32Ob9uVCh-dIQ</td>\n      <td>2.0</td>\n      <td>4.130447</td>\n      <td>2</td>\n      <td>29</td>\n      <td>2.130447</td>\n    </tr>\n    <tr>\n      <th>114</th>\n      <td>fgGm3h80eQRXZuQttD-jPQ</td>\n      <td>xwKYBPO0ByGlkvNcr8FdqQ</td>\n      <td>2.0</td>\n      <td>4.160007</td>\n      <td>2</td>\n      <td>27</td>\n      <td>2.160007</td>\n    </tr>\n    <tr>\n      <th>94</th>\n      <td>wiBJWa3RBh-Q7jM4J4dCEw</td>\n      <td>gtuoRlBPqoTIEPrcfbIP-g</td>\n      <td>1.0</td>\n      <td>3.245968</td>\n      <td>2</td>\n      <td>15</td>\n      <td>2.245968</td>\n    </tr>\n    <tr>\n      <th>24</th>\n      <td>uUH_58_pfFF6ZLqUmm2D8Q</td>\n      <td>l8yqThofpWGUs6lxOeIdOA</td>\n      <td>1.0</td>\n      <td>3.721231</td>\n      <td>4</td>\n      <td>46</td>\n      <td>2.721231</td>\n    </tr>\n    <tr>\n      <th>57</th>\n      <td>HKIFN7bin1aKtQZ9k9tRlQ</td>\n      <td>gtuoRlBPqoTIEPrcfbIP-g</td>\n      <td>1.0</td>\n      <td>3.741197</td>\n      <td>1</td>\n      <td>15</td>\n      <td>2.741197</td>\n    </tr>\n    <tr>\n      <th>165</th>\n      <td>PB12rXSugGTOAiLYPA08mA</td>\n      <td>jZ1rUspubgkuZjwKJMhEEw</td>\n      <td>1.0</td>\n      <td>4.293278</td>\n      <td>0</td>\n      <td>38</td>\n      <td>3.293278</td>\n    </tr>\n  </tbody>\n</table>\n</div>"
     },
     "execution_count": 249,
     "metadata": {},
     "output_type": "execute_result"
    }
   ],
   "source": [
    "worst_predictions"
   ]
  },
  {
   "cell_type": "code",
   "execution_count": 250,
   "metadata": {
    "ExecuteTime": {
     "end_time": "2023-10-08T21:03:16.278799500Z",
     "start_time": "2023-10-08T21:03:15.741644700Z"
    }
   },
   "outputs": [
    {
     "name": "stderr",
     "output_type": "stream",
     "text": [
      "C:\\ProgramData\\Anaconda3\\lib\\site-packages\\seaborn\\distributions.py:2619: FutureWarning: `distplot` is a deprecated function and will be removed in a future version. Please adapt your code to use either `displot` (a figure-level function with similar flexibility) or `histplot` (an axes-level function for histograms).\n",
      "  warnings.warn(msg, FutureWarning)\n"
     ]
    },
    {
     "data": {
      "text/plain": "Text(0, 0.5, 'Counts (Log)')"
     },
     "execution_count": 250,
     "metadata": {},
     "output_type": "execute_result"
    },
    {
     "data": {
      "text/plain": "<Figure size 1000x500 with 2 Axes>",
      "image/png": "[encoded data removed]"
     },
     "metadata": {},
     "output_type": "display_data"
    }
   ],
   "source": [
    "# Plots of user/restaurant review counts\n",
    "fig, axs = plt.subplots(1,2,figsize=(10,5), sharey=True)\n",
    "\n",
    "sns.distplot(utility_user_ratings, kde=False, color='red', norm_hist=False,\n",
    "             ax=axs[0], bins=40)\n",
    "axs[0].set_title('Distribution of User Review Counts')\n",
    "axs[0].set_yscale('log')\n",
    "axs[0].set_xlabel('Number of Ratings by User')\n",
    "axs[0].set_ylabel('Counts (Log)')\n",
    "\n",
    "sns.distplot(utility_rest_ratings, color='darkorange', norm_hist=False,\n",
    "             kde=False, ax=axs[1], bins=40)\n",
    "axs[1].set_yscale('log')\n",
    "axs[1].set_title('Distribution of Restaurant Review Counts')\n",
    "axs[1].set_xlabel('Number of Reviews per Restaurant')\n",
    "axs[1].set_ylabel('Counts (Log)')\n",
    "\n"
   ]
  },
  {
   "cell_type": "code",
   "execution_count": 251,
   "metadata": {
    "ExecuteTime": {
     "end_time": "2023-10-08T21:03:16.396858900Z",
     "start_time": "2023-10-08T21:03:16.278799500Z"
    }
   },
   "outputs": [
    {
     "data": {
      "text/plain": "Text(0, 0.5, 'Counts')"
     },
     "execution_count": 251,
     "metadata": {},
     "output_type": "execute_result"
    },
    {
     "data": {
      "text/plain": "<Figure size 1000x800 with 1 Axes>",
      "image/png": "[encoded data removed]"
     },
     "metadata": {},
     "output_type": "display_data"
    }
   ],
   "source": [
    "# Bar plot of counts of review stars\n",
    "fig, ax = plt.subplots(figsize=(10, 8))\n",
    "utility_review_stars = (utility_3['review_stars']\n",
    "                        .value_counts(ascending=True))\n",
    "sns.barplot(x='index', y='review_stars',\n",
    "            data=utility_review_stars.reset_index(), palette='Oranges',\n",
    "            ax=ax)\n",
    "ax.set_title('Distribution of Review Stars')\n",
    "ax.set_xlabel('Stars')\n",
    "ax.set_ylabel('Counts')\n",
    "\n"
   ]
  },
  {
   "cell_type": "code",
   "execution_count": 252,
   "metadata": {
    "ExecuteTime": {
     "end_time": "2023-10-08T21:03:16.412489900Z",
     "start_time": "2023-10-08T21:03:16.396858900Z"
    }
   },
   "outputs": [
    {
     "data": {
      "text/plain": "                        uid                     iid  true  predicted  \\\n167  Po4BCvGrKtP_OfZwMUp87g  KZA_HEOsBXf8dtrk9rqNJA   5.0   4.204946   \n\n     user_totals  item_totals       err  \n167            2           71  0.795054  ",
      "text/html": "<div>\n<style scoped>\n    .dataframe tbody tr th:only-of-type {\n        vertical-align: middle;\n    }\n\n    .dataframe tbody tr th {\n        vertical-align: top;\n    }\n\n    .dataframe thead th {\n        text-align: right;\n    }\n</style>\n<table border=\"1\" class=\"dataframe\">\n  <thead>\n    <tr style=\"text-align: right;\">\n      <th></th>\n      <th>uid</th>\n      <th>iid</th>\n      <th>true</th>\n      <th>predicted</th>\n      <th>user_totals</th>\n      <th>item_totals</th>\n      <th>err</th>\n    </tr>\n  </thead>\n  <tbody>\n    <tr>\n      <th>167</th>\n      <td>Po4BCvGrKtP_OfZwMUp87g</td>\n      <td>KZA_HEOsBXf8dtrk9rqNJA</td>\n      <td>5.0</td>\n      <td>4.204946</td>\n      <td>2</td>\n      <td>71</td>\n      <td>0.795054</td>\n    </tr>\n  </tbody>\n</table>\n</div>"
     },
     "execution_count": 252,
     "metadata": {},
     "output_type": "execute_result"
    }
   ],
   "source": [
    "# The following cells evaluate predictions on a user by user basis\n",
    "# Looking to see how error changes depending on presence in testset\n",
    "predictions_df[predictions_df['uid'] == 'Po4BCvGrKtP_OfZwMUp87g']"
   ]
  },
  {
   "cell_type": "code",
   "execution_count": 253,
   "metadata": {
    "ExecuteTime": {
     "end_time": "2023-10-08T21:03:16.485501300Z",
     "start_time": "2023-10-08T21:03:16.412489900Z"
    }
   },
   "outputs": [
    {
     "data": {
      "text/plain": "                        uid                     iid  true  predicted  \\\n167  Po4BCvGrKtP_OfZwMUp87g  KZA_HEOsBXf8dtrk9rqNJA   5.0   4.204946   \n\n     user_totals  item_totals       err  \n167            2           71  0.795054  ",
      "text/html": "<div>\n<style scoped>\n    .dataframe tbody tr th:only-of-type {\n        vertical-align: middle;\n    }\n\n    .dataframe tbody tr th {\n        vertical-align: top;\n    }\n\n    .dataframe thead th {\n        text-align: right;\n    }\n</style>\n<table border=\"1\" class=\"dataframe\">\n  <thead>\n    <tr style=\"text-align: right;\">\n      <th></th>\n      <th>uid</th>\n      <th>iid</th>\n      <th>true</th>\n      <th>predicted</th>\n      <th>user_totals</th>\n      <th>item_totals</th>\n      <th>err</th>\n    </tr>\n  </thead>\n  <tbody>\n    <tr>\n      <th>167</th>\n      <td>Po4BCvGrKtP_OfZwMUp87g</td>\n      <td>KZA_HEOsBXf8dtrk9rqNJA</td>\n      <td>5.0</td>\n      <td>4.204946</td>\n      <td>2</td>\n      <td>71</td>\n      <td>0.795054</td>\n    </tr>\n  </tbody>\n</table>\n</div>"
     },
     "execution_count": 253,
     "metadata": {},
     "output_type": "execute_result"
    }
   ],
   "source": [
    "calc_rmse = predictions_df[predictions_df['uid'] == 'Po4BCvGrKtP_OfZwMUp87g']\n",
    "predictions_df[predictions_df['uid'] == 'Po4BCvGrKtP_OfZwMUp87g']"
   ]
  },
  {
   "cell_type": "code",
   "execution_count": 254,
   "metadata": {
    "ExecuteTime": {
     "end_time": "2023-10-08T21:03:16.491006800Z",
     "start_time": "2023-10-08T21:03:16.428117900Z"
    }
   },
   "outputs": [
    {
     "data": {
      "text/plain": "(1, 7)"
     },
     "execution_count": 254,
     "metadata": {},
     "output_type": "execute_result"
    }
   ],
   "source": [
    "predictions_df[predictions_df['uid'] == 'Po4BCvGrKtP_OfZwMUp87g'].shape"
   ]
  },
  {
   "cell_type": "code",
   "execution_count": 255,
   "metadata": {
    "ExecuteTime": {
     "end_time": "2023-10-08T21:03:16.491006800Z",
     "start_time": "2023-10-08T21:03:16.443741200Z"
    }
   },
   "outputs": [
    {
     "data": {
      "text/plain": "0.795054024085136"
     },
     "execution_count": 255,
     "metadata": {},
     "output_type": "execute_result"
    }
   ],
   "source": [
    "predictions_df[predictions_df['uid'] == 'Po4BCvGrKtP_OfZwMUp87g']['err'].mean()"
   ]
  },
  {
   "cell_type": "code",
   "execution_count": 256,
   "metadata": {
    "ExecuteTime": {
     "end_time": "2023-10-08T21:03:16.506640700Z",
     "start_time": "2023-10-08T21:03:16.459365Z"
    }
   },
   "outputs": [
    {
     "data": {
      "text/plain": "0.795054024085136"
     },
     "execution_count": 256,
     "metadata": {},
     "output_type": "execute_result"
    }
   ],
   "source": [
    "((calc_rmse.true - calc_rmse.predicted) ** 2).mean() ** .5"
   ]
  },
  {
   "cell_type": "code",
   "execution_count": 257,
   "metadata": {
    "ExecuteTime": {
     "end_time": "2023-10-08T21:03:16.522303900Z",
     "start_time": "2023-10-08T21:03:16.485501300Z"
    }
   },
   "outputs": [
    {
     "data": {
      "text/plain": "                     user_id user_name  review_count        yelping_since  \\\n1238  Po4BCvGrKtP_OfZwMUp87g   Preston            40  2015-12-07 02:28:47   \n\n      average_stars  \n1238            2.6  ",
      "text/html": "<div>\n<style scoped>\n    .dataframe tbody tr th:only-of-type {\n        vertical-align: middle;\n    }\n\n    .dataframe tbody tr th {\n        vertical-align: top;\n    }\n\n    .dataframe thead th {\n        text-align: right;\n    }\n</style>\n<table border=\"1\" class=\"dataframe\">\n  <thead>\n    <tr style=\"text-align: right;\">\n      <th></th>\n      <th>user_id</th>\n      <th>user_name</th>\n      <th>review_count</th>\n      <th>yelping_since</th>\n      <th>average_stars</th>\n    </tr>\n  </thead>\n  <tbody>\n    <tr>\n      <th>1238</th>\n      <td>Po4BCvGrKtP_OfZwMUp87g</td>\n      <td>Preston</td>\n      <td>40</td>\n      <td>2015-12-07 02:28:47</td>\n      <td>2.6</td>\n    </tr>\n  </tbody>\n</table>\n</div>"
     },
     "execution_count": 257,
     "metadata": {},
     "output_type": "execute_result"
    }
   ],
   "source": [
    "user_df[user_df['user_id'] == 'Po4BCvGrKtP_OfZwMUp87g']"
   ]
  },
  {
   "cell_type": "code",
   "execution_count": 258,
   "metadata": {
    "ExecuteTime": {
     "end_time": "2023-10-08T21:03:16.751829800Z",
     "start_time": "2023-10-08T21:03:16.491006800Z"
    }
   },
   "outputs": [
    {
     "name": "stderr",
     "output_type": "stream",
     "text": [
      "C:\\ProgramData\\Anaconda3\\lib\\site-packages\\seaborn\\distributions.py:2619: FutureWarning: `distplot` is a deprecated function and will be removed in a future version. Please adapt your code to use either `displot` (a figure-level function with similar flexibility) or `histplot` (an axes-level function for histograms).\n",
      "  warnings.warn(msg, FutureWarning)\n",
      "C:\\ProgramData\\Anaconda3\\lib\\site-packages\\seaborn\\distributions.py:2657: RuntimeWarning: Mean of empty slice.\n",
      "  line, = ax.plot(a.mean(), 0)\n",
      "C:\\ProgramData\\Anaconda3\\lib\\site-packages\\numpy\\core\\_methods.py:189: RuntimeWarning: invalid value encountered in double_scalars\n",
      "  ret = ret.dtype.type(ret / rcount)\n",
      "C:\\ProgramData\\Anaconda3\\lib\\site-packages\\numpy\\lib\\histograms.py:906: RuntimeWarning: invalid value encountered in true_divide\n",
      "  return n/db/n.sum(), bin_edges\n"
     ]
    },
    {
     "data": {
      "text/plain": "<matplotlib.legend.Legend at 0x20bd2b654f0>"
     },
     "execution_count": 258,
     "metadata": {},
     "output_type": "execute_result"
    },
    {
     "data": {
      "text/plain": "<Figure size 900x700 with 1 Axes>",
      "image/png": "[encoded data removed]"
     },
     "metadata": {},
     "output_type": "display_data"
    }
   ],
   "source": [
    "fig, ax = plt.subplots(figsize=(9,7))\n",
    "user_under = predictions_df[predictions_df['user_totals'] <= 10]\n",
    "user_over = predictions_df[predictions_df['user_totals'] >= 50]\n",
    "sns.distplot(user_under['err'], label='<= 10 Reviews in Testset',\n",
    "             bins=25, ax=ax, norm_hist=True, kde=False)\n",
    "sns.distplot(user_over['err'], label='>= 50 Reviews in Testset',\n",
    "             bins=25, ax=ax, norm_hist=True, kde=False)\n",
    "ax.set_title('Distribution of Prediction Errors')\n",
    "ax.set_xlabel('Absolute Error')\n",
    "ax.set_ylabel('Density')\n",
    "ax.legend()\n"
   ]
  },
  {
   "cell_type": "code",
   "execution_count": 259,
   "metadata": {
    "ExecuteTime": {
     "end_time": "2023-10-08T21:03:16.955967300Z",
     "start_time": "2023-10-08T21:03:16.720546300Z"
    }
   },
   "outputs": [
    {
     "data": {
      "text/plain": "(0.0, 1.03)"
     },
     "execution_count": 259,
     "metadata": {},
     "output_type": "execute_result"
    },
    {
     "data": {
      "text/plain": "<Figure size 900x700 with 1 Axes>",
      "image/png": "[encoded data removed]"
     },
     "metadata": {},
     "output_type": "display_data"
    }
   ],
   "source": [
    "fig, ax = plt.subplots(figsize=(9,7))\n",
    "sns.distplot(user_under['err'], label='<= 10 Reviews in Testset',\n",
    "             bins=25, ax=ax, norm_hist=True, kde=False)\n",
    "ax.set_title('Distribution of Prediction Errors')\n",
    "ax.set_xlabel('Absolute Error')\n",
    "ax.set_ylabel('Density')\n",
    "ax.legend()\n",
    "ax.set_ylim(0, 1.03)"
   ]
  },
  {
   "cell_type": "code",
   "execution_count": 259,
   "outputs": [],
   "source": [],
   "metadata": {
    "collapsed": false,
    "ExecuteTime": {
     "end_time": "2023-10-08T21:03:16.955967300Z",
     "start_time": "2023-10-08T21:03:16.909135100Z"
    }
   }
  }
 ],
 "metadata": {
  "kernelspec": {
   "display_name": "Python 3",
   "language": "python",
   "name": "python3"
  },
  "language_info": {
   "codemirror_mode": {
    "name": "ipython",
    "version": 3
   },
   "file_extension": ".py",
   "mimetype": "text/x-python",
   "name": "python",
   "nbconvert_exporter": "python",
   "pygments_lexer": "ipython3",
   "version": "3.7.6"
  },
  "toc": {
   "base_numbering": 1,
   "nav_menu": {},
   "number_sections": true,
   "sideBar": true,
   "skip_h1_title": false,
   "title_cell": "Table of Contents",
   "title_sidebar": "Contents",
   "toc_cell": false,
   "toc_position": {},
   "toc_section_display": true,
   "toc_window_display": false
  },
  "varInspector": {
   "cols": {
    "lenName": 16,
    "lenType": 16,
    "lenVar": 40
   },
   "kernels_config": {
    "python": {
     "delete_cmd_postfix": "",
     "delete_cmd_prefix": "del ",
     "library": "var_list.py",
     "varRefreshCmd": "print(var_dic_list())"
    },
    "r": {
     "delete_cmd_postfix": ") ",
     "delete_cmd_prefix": "rm(",
     "library": "var_list.r",
     "varRefreshCmd": "cat(var_dic_list()) "
    }
   },
   "types_to_exclude": [
    "module",
    "function",
    "builtin_function_or_method",
    "instance",
    "_Feature"
   ],
   "window_display": false
  }
 },
 "nbformat": 4,
 "nbformat_minor": 4
}
