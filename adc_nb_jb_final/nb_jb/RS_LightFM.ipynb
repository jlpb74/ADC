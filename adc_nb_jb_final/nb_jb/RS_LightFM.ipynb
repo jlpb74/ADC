{
 "cells": [
  {
   "cell_type": "code",
   "execution_count": 1,
   "metadata": {
    "ExecuteTime": {
     "end_time": "2023-10-08T21:08:14.180724700Z",
     "start_time": "2023-10-08T21:08:14.165148200Z"
    }
   },
   "outputs": [],
   "source": [
    "import pandas as pd\n",
    "import numpy as np"
   ]
  },
  {
   "cell_type": "code",
   "execution_count": 2,
   "metadata": {
    "ExecuteTime": {
     "end_time": "2023-10-08T21:08:16.023546400Z",
     "start_time": "2023-10-08T21:08:14.180724700Z"
    }
   },
   "outputs": [],
   "source": [
    "# Load Data\n",
    "df_b = pd.read_csv('../datasets/filter_data/tucson_business.csv')\n",
    "df= pd.read_csv('../datasets/filter_data/tucson_reviews.csv')\n",
    "users = pd.read_csv('../datasets/filter_data/tucson_users.csv')"
   ]
  },
  {
   "cell_type": "code",
   "execution_count": 3,
   "metadata": {
    "ExecuteTime": {
     "end_time": "2023-10-08T21:08:16.070706200Z",
     "start_time": "2023-10-08T21:08:16.023546400Z"
    }
   },
   "outputs": [
    {
     "data": {
      "text/plain": "                review_id                 user_id             business_id  \\\n0  UBp0zWyH60Hmw6Fsasei7w  4Uh27DgGzsp6PqrH913giQ  otQS34_MymijPTdNBoBdCw   \n1  ymhbOMW63B_vGaRFR3XT0A  yZdAhQ_KmKuCZmbBy9YDQg  5Ce3lZksYVkCbrihqylVHQ   \n2  ypFqmURIY41F4pWaMW1VrQ  hToW2eoTAYlOcuNz7I73Cg  7L1kXfwU5XM6f6Jxo_L7Yg   \n3  M7h8K7PrLrN8yQb3RhHLdA  CysTz612pTix75Fye6-D4Q  WLiqfxv_GhFFA5sm878a2w   \n4  _u331rYIp7qJ7aWvLup9Ug  BUpAhzsbbKbTqyBjT8YnNQ  wa_bwyY57etHjtJ2Fw0E3g   \n\n   stars  useful  funny  cool  \\\n0      4       0      2     0   \n1      5       0      0     0   \n2      5       1      0     0   \n3      5       0      1     1   \n4      5       0      0     0   \n\n                                                text                 date  \n0  The bun makes the Sonoran Dog. It's like a snu...  2011-10-27 17:12:05  \n1  I just started going to Sushi Nara this month ...  2014-07-25 17:56:26  \n2  We've been coming here since I was a kid. The ...  2015-07-03 22:36:04  \n3  Blew $80 on food for the family was worth it f...  2013-12-29 03:15:34  \n4  Called in a Mediterranean chicken shawarma. Go...  2014-04-01 05:00:09  ",
      "text/html": "<div>\n<style scoped>\n    .dataframe tbody tr th:only-of-type {\n        vertical-align: middle;\n    }\n\n    .dataframe tbody tr th {\n        vertical-align: top;\n    }\n\n    .dataframe thead th {\n        text-align: right;\n    }\n</style>\n<table border=\"1\" class=\"dataframe\">\n  <thead>\n    <tr style=\"text-align: right;\">\n      <th></th>\n      <th>review_id</th>\n      <th>user_id</th>\n      <th>business_id</th>\n      <th>stars</th>\n      <th>useful</th>\n      <th>funny</th>\n      <th>cool</th>\n      <th>text</th>\n      <th>date</th>\n    </tr>\n  </thead>\n  <tbody>\n    <tr>\n      <th>0</th>\n      <td>UBp0zWyH60Hmw6Fsasei7w</td>\n      <td>4Uh27DgGzsp6PqrH913giQ</td>\n      <td>otQS34_MymijPTdNBoBdCw</td>\n      <td>4</td>\n      <td>0</td>\n      <td>2</td>\n      <td>0</td>\n      <td>The bun makes the Sonoran Dog. It's like a snu...</td>\n      <td>2011-10-27 17:12:05</td>\n    </tr>\n    <tr>\n      <th>1</th>\n      <td>ymhbOMW63B_vGaRFR3XT0A</td>\n      <td>yZdAhQ_KmKuCZmbBy9YDQg</td>\n      <td>5Ce3lZksYVkCbrihqylVHQ</td>\n      <td>5</td>\n      <td>0</td>\n      <td>0</td>\n      <td>0</td>\n      <td>I just started going to Sushi Nara this month ...</td>\n      <td>2014-07-25 17:56:26</td>\n    </tr>\n    <tr>\n      <th>2</th>\n      <td>ypFqmURIY41F4pWaMW1VrQ</td>\n      <td>hToW2eoTAYlOcuNz7I73Cg</td>\n      <td>7L1kXfwU5XM6f6Jxo_L7Yg</td>\n      <td>5</td>\n      <td>1</td>\n      <td>0</td>\n      <td>0</td>\n      <td>We've been coming here since I was a kid. The ...</td>\n      <td>2015-07-03 22:36:04</td>\n    </tr>\n    <tr>\n      <th>3</th>\n      <td>M7h8K7PrLrN8yQb3RhHLdA</td>\n      <td>CysTz612pTix75Fye6-D4Q</td>\n      <td>WLiqfxv_GhFFA5sm878a2w</td>\n      <td>5</td>\n      <td>0</td>\n      <td>1</td>\n      <td>1</td>\n      <td>Blew $80 on food for the family was worth it f...</td>\n      <td>2013-12-29 03:15:34</td>\n    </tr>\n    <tr>\n      <th>4</th>\n      <td>_u331rYIp7qJ7aWvLup9Ug</td>\n      <td>BUpAhzsbbKbTqyBjT8YnNQ</td>\n      <td>wa_bwyY57etHjtJ2Fw0E3g</td>\n      <td>5</td>\n      <td>0</td>\n      <td>0</td>\n      <td>0</td>\n      <td>Called in a Mediterranean chicken shawarma. Go...</td>\n      <td>2014-04-01 05:00:09</td>\n    </tr>\n  </tbody>\n</table>\n</div>"
     },
     "execution_count": 3,
     "metadata": {},
     "output_type": "execute_result"
    }
   ],
   "source": [
    "df.head()"
   ]
  },
  {
   "cell_type": "code",
   "execution_count": 4,
   "metadata": {
    "ExecuteTime": {
     "end_time": "2023-10-08T21:08:16.117583200Z",
     "start_time": "2023-10-08T21:08:16.055076500Z"
    }
   },
   "outputs": [
    {
     "data": {
      "text/plain": "              business_id                      name  \\\n0  f82dhKNiUXsDVPMLqKYiIQ             Sher-e-Punjab   \n1  Y3ZCO17N1_T_Ms1JmswwzA    Taqueria Pico De Gallo   \n2  lhsQkb5nhf-Kd5OvgB9MNg             Sachiko Sushi   \n3  XyGRDrgCK0z4CiA6nhwEaw  Persian Room Fine Dining   \n4  -3-6BB10tIWNKGEF0Es2BA     The 81 Hong Kong Cafe   \n\n                         address    city state  postal_code   latitude  \\\n0              853 East Grant Rd  Tucson    AZ        85719  32.250960   \n1                 2618 S 6th Ave  Tucson    AZ        85713  32.192017   \n2             3210 E Valencia Rd  Tucson    AZ        85706  32.133679   \n3  9290 N Thornydale Rd, Ste 100  Tucson    AZ        85742  32.375016   \n4      625 E Wetmore Rd, Ste 109  Tucson    AZ        85705  32.288540   \n\n    longitude  stars  review_count  is_open  \\\n0 -110.959158    4.0           446        1   \n1 -110.968540    4.0           397        1   \n2 -110.923443    3.5           191        1   \n3 -111.046320    4.5           258        1   \n4 -110.963144    4.0           133        1   \n\n                                          attributes  \\\n0  {'RestaurantsAttire': \"'casual'\", 'BusinessAcc...   \n1  {'RestaurantsGoodForGroups': 'True', 'Caters':...   \n2  {'RestaurantsPriceRange2': '2', 'BusinessAccep...   \n3  {'Alcohol': \"'full_bar'\", 'GoodForMeal': \"{'de...   \n4  {'Alcohol': \"u'none'\", 'DogsAllowed': 'False',...   \n\n                                          categories  \\\n0  Restaurants, Salad, Pakistani, Indian, Cocktai...   \n1                               Mexican, Restaurants   \n2                  Japanese, Restaurants, Sushi Bars   \n3        Restaurants, Persian/Iranian, Mediterranean   \n4  Coffee & Tea, Asian Fusion, Food, Bubble Tea, ...   \n\n                                               hours  \n0  {'Tuesday': '16:0-21:0', 'Wednesday': '16:0-21...  \n1  {'Monday': '9:0-21:0', 'Tuesday': '9:0-21:0', ...  \n2  {'Monday': '11:0-20:0', 'Tuesday': '11:0-20:0'...  \n3  {'Monday': '11:0-21:30', 'Tuesday': '11:0-21:3...  \n4  {'Monday': '0:0-0:0', 'Wednesday': '10:0-21:0'...  ",
      "text/html": "<div>\n<style scoped>\n    .dataframe tbody tr th:only-of-type {\n        vertical-align: middle;\n    }\n\n    .dataframe tbody tr th {\n        vertical-align: top;\n    }\n\n    .dataframe thead th {\n        text-align: right;\n    }\n</style>\n<table border=\"1\" class=\"dataframe\">\n  <thead>\n    <tr style=\"text-align: right;\">\n      <th></th>\n      <th>business_id</th>\n      <th>name</th>\n      <th>address</th>\n      <th>city</th>\n      <th>state</th>\n      <th>postal_code</th>\n      <th>latitude</th>\n      <th>longitude</th>\n      <th>stars</th>\n      <th>review_count</th>\n      <th>is_open</th>\n      <th>attributes</th>\n      <th>categories</th>\n      <th>hours</th>\n    </tr>\n  </thead>\n  <tbody>\n    <tr>\n      <th>0</th>\n      <td>f82dhKNiUXsDVPMLqKYiIQ</td>\n      <td>Sher-e-Punjab</td>\n      <td>853 East Grant Rd</td>\n      <td>Tucson</td>\n      <td>AZ</td>\n      <td>85719</td>\n      <td>32.250960</td>\n      <td>-110.959158</td>\n      <td>4.0</td>\n      <td>446</td>\n      <td>1</td>\n      <td>{'RestaurantsAttire': \"'casual'\", 'BusinessAcc...</td>\n      <td>Restaurants, Salad, Pakistani, Indian, Cocktai...</td>\n      <td>{'Tuesday': '16:0-21:0', 'Wednesday': '16:0-21...</td>\n    </tr>\n    <tr>\n      <th>1</th>\n      <td>Y3ZCO17N1_T_Ms1JmswwzA</td>\n      <td>Taqueria Pico De Gallo</td>\n      <td>2618 S 6th Ave</td>\n      <td>Tucson</td>\n      <td>AZ</td>\n      <td>85713</td>\n      <td>32.192017</td>\n      <td>-110.968540</td>\n      <td>4.0</td>\n      <td>397</td>\n      <td>1</td>\n      <td>{'RestaurantsGoodForGroups': 'True', 'Caters':...</td>\n      <td>Mexican, Restaurants</td>\n      <td>{'Monday': '9:0-21:0', 'Tuesday': '9:0-21:0', ...</td>\n    </tr>\n    <tr>\n      <th>2</th>\n      <td>lhsQkb5nhf-Kd5OvgB9MNg</td>\n      <td>Sachiko Sushi</td>\n      <td>3210 E Valencia Rd</td>\n      <td>Tucson</td>\n      <td>AZ</td>\n      <td>85706</td>\n      <td>32.133679</td>\n      <td>-110.923443</td>\n      <td>3.5</td>\n      <td>191</td>\n      <td>1</td>\n      <td>{'RestaurantsPriceRange2': '2', 'BusinessAccep...</td>\n      <td>Japanese, Restaurants, Sushi Bars</td>\n      <td>{'Monday': '11:0-20:0', 'Tuesday': '11:0-20:0'...</td>\n    </tr>\n    <tr>\n      <th>3</th>\n      <td>XyGRDrgCK0z4CiA6nhwEaw</td>\n      <td>Persian Room Fine Dining</td>\n      <td>9290 N Thornydale Rd, Ste 100</td>\n      <td>Tucson</td>\n      <td>AZ</td>\n      <td>85742</td>\n      <td>32.375016</td>\n      <td>-111.046320</td>\n      <td>4.5</td>\n      <td>258</td>\n      <td>1</td>\n      <td>{'Alcohol': \"'full_bar'\", 'GoodForMeal': \"{'de...</td>\n      <td>Restaurants, Persian/Iranian, Mediterranean</td>\n      <td>{'Monday': '11:0-21:30', 'Tuesday': '11:0-21:3...</td>\n    </tr>\n    <tr>\n      <th>4</th>\n      <td>-3-6BB10tIWNKGEF0Es2BA</td>\n      <td>The 81 Hong Kong Cafe</td>\n      <td>625 E Wetmore Rd, Ste 109</td>\n      <td>Tucson</td>\n      <td>AZ</td>\n      <td>85705</td>\n      <td>32.288540</td>\n      <td>-110.963144</td>\n      <td>4.0</td>\n      <td>133</td>\n      <td>1</td>\n      <td>{'Alcohol': \"u'none'\", 'DogsAllowed': 'False',...</td>\n      <td>Coffee &amp; Tea, Asian Fusion, Food, Bubble Tea, ...</td>\n      <td>{'Monday': '0:0-0:0', 'Wednesday': '10:0-21:0'...</td>\n    </tr>\n  </tbody>\n</table>\n</div>"
     },
     "execution_count": 4,
     "metadata": {},
     "output_type": "execute_result"
    }
   ],
   "source": [
    "df_b.head()"
   ]
  },
  {
   "cell_type": "code",
   "execution_count": 5,
   "outputs": [
    {
     "data": {
      "text/plain": "                  user_id     name  review_count        yelping_since  useful  \\\n0  AUi8MPWJ0mLkMfwbui27lg     John           109  2010-01-07 18:32:04     154   \n1  x7YtLnBW2dUnrrpwaofVQQ  Ronskee            37  2010-05-06 00:40:56      56   \n2  XLs_PhrJ7Qwn_RfgMM7Djw    Weili            90  2009-07-12 14:34:54      71   \n3  QJI9OSEn6ujRCtrX06vs1w        J          1982  2007-03-19 18:15:32   14004   \n4  KXZ8A8h7Q9ZJRU5TM9asjw   Joanne           102  2010-03-20 17:40:40     150   \n\n   funny  cool elite                                            friends  fans  \\\n0     20    23   NaN  gy5fWeSv3Gamuq9Ox4MV4g, lMr3LWU6kPFLTmCpDkACxg...     4   \n1     29    29   NaN  EPBLDry-ObheloH-NuvbvQ, 0GHsxjCk-Ynzx4Ihj8tjPQ...     9   \n2     21    19   NaN  gTX68_Us2eI2KjY21aOQ7g, e4nHt3ErihX7II-MHXVM1w...     1   \n3   6466  9879  2010  RyPeT_ICAtX8ah9dhDpEFw, W8r4aKPZFT3GPIQQDbqB6Q...   316   \n4     42    30   NaN  2N4UPgpSHFYJ1OZ0WcvTEQ, JgZ1-9Ii2wCzHE2ylZb6qQ...     7   \n\n   ...  compliment_more  compliment_profile  compliment_cute  compliment_list  \\\n0  ...                0                   0                0                0   \n1  ...                1                   0                0                0   \n2  ...                0                   0                0                0   \n3  ...               98                 156               52               68   \n4  ...                0                   0                0                0   \n\n   compliment_note  compliment_plain  compliment_cool  compliment_funny  \\\n0                1                 6                3                 3   \n1               12                33               66                66   \n2                1                 3                0                 0   \n3              786              3674             2093              2093   \n4                5                 6                2                 2   \n\n   compliment_writer  compliment_photos  \n0                  0                  0  \n1                  1                 12  \n2                  0                  0  \n3                562               1509  \n4                  0                  2  \n\n[5 rows x 22 columns]",
      "text/html": "<div>\n<style scoped>\n    .dataframe tbody tr th:only-of-type {\n        vertical-align: middle;\n    }\n\n    .dataframe tbody tr th {\n        vertical-align: top;\n    }\n\n    .dataframe thead th {\n        text-align: right;\n    }\n</style>\n<table border=\"1\" class=\"dataframe\">\n  <thead>\n    <tr style=\"text-align: right;\">\n      <th></th>\n      <th>user_id</th>\n      <th>name</th>\n      <th>review_count</th>\n      <th>yelping_since</th>\n      <th>useful</th>\n      <th>funny</th>\n      <th>cool</th>\n      <th>elite</th>\n      <th>friends</th>\n      <th>fans</th>\n      <th>...</th>\n      <th>compliment_more</th>\n      <th>compliment_profile</th>\n      <th>compliment_cute</th>\n      <th>compliment_list</th>\n      <th>compliment_note</th>\n      <th>compliment_plain</th>\n      <th>compliment_cool</th>\n      <th>compliment_funny</th>\n      <th>compliment_writer</th>\n      <th>compliment_photos</th>\n    </tr>\n  </thead>\n  <tbody>\n    <tr>\n      <th>0</th>\n      <td>AUi8MPWJ0mLkMfwbui27lg</td>\n      <td>John</td>\n      <td>109</td>\n      <td>2010-01-07 18:32:04</td>\n      <td>154</td>\n      <td>20</td>\n      <td>23</td>\n      <td>NaN</td>\n      <td>gy5fWeSv3Gamuq9Ox4MV4g, lMr3LWU6kPFLTmCpDkACxg...</td>\n      <td>4</td>\n      <td>...</td>\n      <td>0</td>\n      <td>0</td>\n      <td>0</td>\n      <td>0</td>\n      <td>1</td>\n      <td>6</td>\n      <td>3</td>\n      <td>3</td>\n      <td>0</td>\n      <td>0</td>\n    </tr>\n    <tr>\n      <th>1</th>\n      <td>x7YtLnBW2dUnrrpwaofVQQ</td>\n      <td>Ronskee</td>\n      <td>37</td>\n      <td>2010-05-06 00:40:56</td>\n      <td>56</td>\n      <td>29</td>\n      <td>29</td>\n      <td>NaN</td>\n      <td>EPBLDry-ObheloH-NuvbvQ, 0GHsxjCk-Ynzx4Ihj8tjPQ...</td>\n      <td>9</td>\n      <td>...</td>\n      <td>1</td>\n      <td>0</td>\n      <td>0</td>\n      <td>0</td>\n      <td>12</td>\n      <td>33</td>\n      <td>66</td>\n      <td>66</td>\n      <td>1</td>\n      <td>12</td>\n    </tr>\n    <tr>\n      <th>2</th>\n      <td>XLs_PhrJ7Qwn_RfgMM7Djw</td>\n      <td>Weili</td>\n      <td>90</td>\n      <td>2009-07-12 14:34:54</td>\n      <td>71</td>\n      <td>21</td>\n      <td>19</td>\n      <td>NaN</td>\n      <td>gTX68_Us2eI2KjY21aOQ7g, e4nHt3ErihX7II-MHXVM1w...</td>\n      <td>1</td>\n      <td>...</td>\n      <td>0</td>\n      <td>0</td>\n      <td>0</td>\n      <td>0</td>\n      <td>1</td>\n      <td>3</td>\n      <td>0</td>\n      <td>0</td>\n      <td>0</td>\n      <td>0</td>\n    </tr>\n    <tr>\n      <th>3</th>\n      <td>QJI9OSEn6ujRCtrX06vs1w</td>\n      <td>J</td>\n      <td>1982</td>\n      <td>2007-03-19 18:15:32</td>\n      <td>14004</td>\n      <td>6466</td>\n      <td>9879</td>\n      <td>2010</td>\n      <td>RyPeT_ICAtX8ah9dhDpEFw, W8r4aKPZFT3GPIQQDbqB6Q...</td>\n      <td>316</td>\n      <td>...</td>\n      <td>98</td>\n      <td>156</td>\n      <td>52</td>\n      <td>68</td>\n      <td>786</td>\n      <td>3674</td>\n      <td>2093</td>\n      <td>2093</td>\n      <td>562</td>\n      <td>1509</td>\n    </tr>\n    <tr>\n      <th>4</th>\n      <td>KXZ8A8h7Q9ZJRU5TM9asjw</td>\n      <td>Joanne</td>\n      <td>102</td>\n      <td>2010-03-20 17:40:40</td>\n      <td>150</td>\n      <td>42</td>\n      <td>30</td>\n      <td>NaN</td>\n      <td>2N4UPgpSHFYJ1OZ0WcvTEQ, JgZ1-9Ii2wCzHE2ylZb6qQ...</td>\n      <td>7</td>\n      <td>...</td>\n      <td>0</td>\n      <td>0</td>\n      <td>0</td>\n      <td>0</td>\n      <td>5</td>\n      <td>6</td>\n      <td>2</td>\n      <td>2</td>\n      <td>0</td>\n      <td>2</td>\n    </tr>\n  </tbody>\n</table>\n<p>5 rows × 22 columns</p>\n</div>"
     },
     "execution_count": 5,
     "metadata": {},
     "output_type": "execute_result"
    }
   ],
   "source": [
    "users.head()"
   ],
   "metadata": {
    "collapsed": false,
    "ExecuteTime": {
     "end_time": "2023-10-08T21:08:16.164921300Z",
     "start_time": "2023-10-08T21:08:16.070706200Z"
    }
   }
  },
  {
   "cell_type": "code",
   "execution_count": 6,
   "outputs": [
    {
     "data": {
      "text/plain": "                review_id                 user_id             business_id  \\\n0  UBp0zWyH60Hmw6Fsasei7w  4Uh27DgGzsp6PqrH913giQ  otQS34_MymijPTdNBoBdCw   \n1  jlvaJo1I56NrZ1Q1CUuuRw  17jzGkFYCvB5Q0fjJEzVAA  otQS34_MymijPTdNBoBdCw   \n2  50Lt-rPZMc5Er87Cgx-vXg  zzeRzizkihWHz9bVAvbcVw  otQS34_MymijPTdNBoBdCw   \n3  a1dUT4LsiNr-l2PHUPdSHg  oCCyoiv1E9sdGvyBRbVhjQ  otQS34_MymijPTdNBoBdCw   \n4  jkHR06nAg_zc5t3sl05low  aEawmwSYEchuKSS8psHiMw  otQS34_MymijPTdNBoBdCw   \n5  Jdv79tiBnTKHKZoMih_Fqg  NiEs4XaVXTPLPCvuBu0DpA  otQS34_MymijPTdNBoBdCw   \n6  gUSBzQd61OMtzt7LLBD48w  T-5xuMYhAaq5RgY7G-jVYQ  otQS34_MymijPTdNBoBdCw   \n7  QcHd9AWK7a0H6seEZSFyAg  qrrcGq6CF5MkSjz5_dhRfw  otQS34_MymijPTdNBoBdCw   \n8  rSrHaeGwbdHIQcfCniCOhw  W_T-Mh6TR0MSQfaczrcYqQ  otQS34_MymijPTdNBoBdCw   \n9  rHe82CFjUH_tcDMXvxHs4Q  Fax_SozRp6wuzTOdFt1zUA  otQS34_MymijPTdNBoBdCw   \n\n   stars  useful  funny  cool  \\\n0      4       0      2     0   \n1      4       0      0     0   \n2      4       0      0     0   \n3      5       1      0     0   \n4      5       0      0     0   \n5      3       2      0     0   \n6      3       0      0     0   \n7      2       2      1     0   \n8      5       0      0     0   \n9      3       0      0     0   \n\n                                                text                 date  \\\n0  The bun makes the Sonoran Dog. It's like a snu...  2011-10-27 17:12:05   \n1  I was told this place is a must for a Sonoran ...  2017-06-17 17:17:29   \n2  This place is a very nice sit down or take out...  2015-03-18 23:51:12   \n3  Quality ingredients. \\n\\nFirst off, BK Carne A...  2015-06-21 06:02:00   \n4  This place is the best, it's fantastic. 1$ bee...  2016-05-19 17:21:36   \n5  I consider myself a connoisseur of both Mexica...  2011-09-25 23:56:50   \n6  We were feeling hungry after a long day and de...  2016-02-24 01:24:08   \n7  Let me start by saying I have been eating at B...  2016-02-24 00:29:40   \n8  We ordered:\\n-bean burro\\n-caramelo de pollo\\n...  2014-06-29 07:36:06   \n9  it was just ok kind of slow on service when th...  2012-08-16 02:53:24   \n\n       name  \n0  BK Tacos  \n1  BK Tacos  \n2  BK Tacos  \n3  BK Tacos  \n4  BK Tacos  \n5  BK Tacos  \n6  BK Tacos  \n7  BK Tacos  \n8  BK Tacos  \n9  BK Tacos  ",
      "text/html": "<div>\n<style scoped>\n    .dataframe tbody tr th:only-of-type {\n        vertical-align: middle;\n    }\n\n    .dataframe tbody tr th {\n        vertical-align: top;\n    }\n\n    .dataframe thead th {\n        text-align: right;\n    }\n</style>\n<table border=\"1\" class=\"dataframe\">\n  <thead>\n    <tr style=\"text-align: right;\">\n      <th></th>\n      <th>review_id</th>\n      <th>user_id</th>\n      <th>business_id</th>\n      <th>stars</th>\n      <th>useful</th>\n      <th>funny</th>\n      <th>cool</th>\n      <th>text</th>\n      <th>date</th>\n      <th>name</th>\n    </tr>\n  </thead>\n  <tbody>\n    <tr>\n      <th>0</th>\n      <td>UBp0zWyH60Hmw6Fsasei7w</td>\n      <td>4Uh27DgGzsp6PqrH913giQ</td>\n      <td>otQS34_MymijPTdNBoBdCw</td>\n      <td>4</td>\n      <td>0</td>\n      <td>2</td>\n      <td>0</td>\n      <td>The bun makes the Sonoran Dog. It's like a snu...</td>\n      <td>2011-10-27 17:12:05</td>\n      <td>BK Tacos</td>\n    </tr>\n    <tr>\n      <th>1</th>\n      <td>jlvaJo1I56NrZ1Q1CUuuRw</td>\n      <td>17jzGkFYCvB5Q0fjJEzVAA</td>\n      <td>otQS34_MymijPTdNBoBdCw</td>\n      <td>4</td>\n      <td>0</td>\n      <td>0</td>\n      <td>0</td>\n      <td>I was told this place is a must for a Sonoran ...</td>\n      <td>2017-06-17 17:17:29</td>\n      <td>BK Tacos</td>\n    </tr>\n    <tr>\n      <th>2</th>\n      <td>50Lt-rPZMc5Er87Cgx-vXg</td>\n      <td>zzeRzizkihWHz9bVAvbcVw</td>\n      <td>otQS34_MymijPTdNBoBdCw</td>\n      <td>4</td>\n      <td>0</td>\n      <td>0</td>\n      <td>0</td>\n      <td>This place is a very nice sit down or take out...</td>\n      <td>2015-03-18 23:51:12</td>\n      <td>BK Tacos</td>\n    </tr>\n    <tr>\n      <th>3</th>\n      <td>a1dUT4LsiNr-l2PHUPdSHg</td>\n      <td>oCCyoiv1E9sdGvyBRbVhjQ</td>\n      <td>otQS34_MymijPTdNBoBdCw</td>\n      <td>5</td>\n      <td>1</td>\n      <td>0</td>\n      <td>0</td>\n      <td>Quality ingredients. \\n\\nFirst off, BK Carne A...</td>\n      <td>2015-06-21 06:02:00</td>\n      <td>BK Tacos</td>\n    </tr>\n    <tr>\n      <th>4</th>\n      <td>jkHR06nAg_zc5t3sl05low</td>\n      <td>aEawmwSYEchuKSS8psHiMw</td>\n      <td>otQS34_MymijPTdNBoBdCw</td>\n      <td>5</td>\n      <td>0</td>\n      <td>0</td>\n      <td>0</td>\n      <td>This place is the best, it's fantastic. 1$ bee...</td>\n      <td>2016-05-19 17:21:36</td>\n      <td>BK Tacos</td>\n    </tr>\n    <tr>\n      <th>5</th>\n      <td>Jdv79tiBnTKHKZoMih_Fqg</td>\n      <td>NiEs4XaVXTPLPCvuBu0DpA</td>\n      <td>otQS34_MymijPTdNBoBdCw</td>\n      <td>3</td>\n      <td>2</td>\n      <td>0</td>\n      <td>0</td>\n      <td>I consider myself a connoisseur of both Mexica...</td>\n      <td>2011-09-25 23:56:50</td>\n      <td>BK Tacos</td>\n    </tr>\n    <tr>\n      <th>6</th>\n      <td>gUSBzQd61OMtzt7LLBD48w</td>\n      <td>T-5xuMYhAaq5RgY7G-jVYQ</td>\n      <td>otQS34_MymijPTdNBoBdCw</td>\n      <td>3</td>\n      <td>0</td>\n      <td>0</td>\n      <td>0</td>\n      <td>We were feeling hungry after a long day and de...</td>\n      <td>2016-02-24 01:24:08</td>\n      <td>BK Tacos</td>\n    </tr>\n    <tr>\n      <th>7</th>\n      <td>QcHd9AWK7a0H6seEZSFyAg</td>\n      <td>qrrcGq6CF5MkSjz5_dhRfw</td>\n      <td>otQS34_MymijPTdNBoBdCw</td>\n      <td>2</td>\n      <td>2</td>\n      <td>1</td>\n      <td>0</td>\n      <td>Let me start by saying I have been eating at B...</td>\n      <td>2016-02-24 00:29:40</td>\n      <td>BK Tacos</td>\n    </tr>\n    <tr>\n      <th>8</th>\n      <td>rSrHaeGwbdHIQcfCniCOhw</td>\n      <td>W_T-Mh6TR0MSQfaczrcYqQ</td>\n      <td>otQS34_MymijPTdNBoBdCw</td>\n      <td>5</td>\n      <td>0</td>\n      <td>0</td>\n      <td>0</td>\n      <td>We ordered:\\n-bean burro\\n-caramelo de pollo\\n...</td>\n      <td>2014-06-29 07:36:06</td>\n      <td>BK Tacos</td>\n    </tr>\n    <tr>\n      <th>9</th>\n      <td>rHe82CFjUH_tcDMXvxHs4Q</td>\n      <td>Fax_SozRp6wuzTOdFt1zUA</td>\n      <td>otQS34_MymijPTdNBoBdCw</td>\n      <td>3</td>\n      <td>0</td>\n      <td>0</td>\n      <td>0</td>\n      <td>it was just ok kind of slow on service when th...</td>\n      <td>2012-08-16 02:53:24</td>\n      <td>BK Tacos</td>\n    </tr>\n  </tbody>\n</table>\n</div>"
     },
     "execution_count": 6,
     "metadata": {},
     "output_type": "execute_result"
    }
   ],
   "source": [
    "df_join=df.merge(df_b[[\"business_id\",\"name\"]],how=\"inner\",on=\"business_id\")\n",
    "df_join.head(10)"
   ],
   "metadata": {
    "collapsed": false,
    "ExecuteTime": {
     "end_time": "2023-10-08T21:08:16.305957700Z",
     "start_time": "2023-10-08T21:08:16.086344300Z"
    }
   }
  },
  {
   "cell_type": "code",
   "execution_count": 7,
   "outputs": [
    {
     "data": {
      "text/plain": "                  user_id             business_id  stars      name\n0  4Uh27DgGzsp6PqrH913giQ  otQS34_MymijPTdNBoBdCw      4  BK Tacos\n1  17jzGkFYCvB5Q0fjJEzVAA  otQS34_MymijPTdNBoBdCw      4  BK Tacos\n2  zzeRzizkihWHz9bVAvbcVw  otQS34_MymijPTdNBoBdCw      4  BK Tacos\n3  oCCyoiv1E9sdGvyBRbVhjQ  otQS34_MymijPTdNBoBdCw      5  BK Tacos\n4  aEawmwSYEchuKSS8psHiMw  otQS34_MymijPTdNBoBdCw      5  BK Tacos",
      "text/html": "<div>\n<style scoped>\n    .dataframe tbody tr th:only-of-type {\n        vertical-align: middle;\n    }\n\n    .dataframe tbody tr th {\n        vertical-align: top;\n    }\n\n    .dataframe thead th {\n        text-align: right;\n    }\n</style>\n<table border=\"1\" class=\"dataframe\">\n  <thead>\n    <tr style=\"text-align: right;\">\n      <th></th>\n      <th>user_id</th>\n      <th>business_id</th>\n      <th>stars</th>\n      <th>name</th>\n    </tr>\n  </thead>\n  <tbody>\n    <tr>\n      <th>0</th>\n      <td>4Uh27DgGzsp6PqrH913giQ</td>\n      <td>otQS34_MymijPTdNBoBdCw</td>\n      <td>4</td>\n      <td>BK Tacos</td>\n    </tr>\n    <tr>\n      <th>1</th>\n      <td>17jzGkFYCvB5Q0fjJEzVAA</td>\n      <td>otQS34_MymijPTdNBoBdCw</td>\n      <td>4</td>\n      <td>BK Tacos</td>\n    </tr>\n    <tr>\n      <th>2</th>\n      <td>zzeRzizkihWHz9bVAvbcVw</td>\n      <td>otQS34_MymijPTdNBoBdCw</td>\n      <td>4</td>\n      <td>BK Tacos</td>\n    </tr>\n    <tr>\n      <th>3</th>\n      <td>oCCyoiv1E9sdGvyBRbVhjQ</td>\n      <td>otQS34_MymijPTdNBoBdCw</td>\n      <td>5</td>\n      <td>BK Tacos</td>\n    </tr>\n    <tr>\n      <th>4</th>\n      <td>aEawmwSYEchuKSS8psHiMw</td>\n      <td>otQS34_MymijPTdNBoBdCw</td>\n      <td>5</td>\n      <td>BK Tacos</td>\n    </tr>\n  </tbody>\n</table>\n</div>"
     },
     "execution_count": 7,
     "metadata": {},
     "output_type": "execute_result"
    }
   ],
   "source": [
    "df_join_2=df_join.drop(columns=['review_id','useful', 'funny','cool', 'text', 'date'])\n",
    "df_join_2.head()"
   ],
   "metadata": {
    "collapsed": false,
    "ExecuteTime": {
     "end_time": "2023-10-08T21:08:16.305957700Z",
     "start_time": "2023-10-08T21:08:16.196136300Z"
    }
   }
  },
  {
   "cell_type": "markdown",
   "source": [
    "## Every Restaruant has an avg users rating of 2.85"
   ],
   "metadata": {
    "collapsed": false
   }
  },
  {
   "cell_type": "code",
   "execution_count": 8,
   "metadata": {
    "ExecuteTime": {
     "end_time": "2023-10-08T21:08:16.400101Z",
     "start_time": "2023-10-08T21:08:16.211761600Z"
    }
   },
   "outputs": [
    {
     "data": {
      "text/plain": "2.7784513840428007"
     },
     "execution_count": 8,
     "metadata": {},
     "output_type": "execute_result"
    }
   ],
   "source": [
    "df_join_2.groupby('user_id')['stars'].count().mean()"
   ]
  },
  {
   "cell_type": "code",
   "execution_count": 9,
   "metadata": {
    "ExecuteTime": {
     "end_time": "2023-10-08T21:08:16.478617800Z",
     "start_time": "2023-10-08T21:08:16.305957700Z"
    }
   },
   "outputs": [],
   "source": [
    "ratings = df_join_2['stars']\n",
    "users = df_join_2['user_id']\n",
    "items = df_join_2['business_id']\n"
   ]
  },
  {
   "cell_type": "code",
   "execution_count": 10,
   "metadata": {
    "ExecuteTime": {
     "end_time": "2023-10-08T21:08:16.746659800Z",
     "start_time": "2023-10-08T21:08:16.321618400Z"
    }
   },
   "outputs": [],
   "source": [
    "from sklearn.preprocessing import LabelEncoder\n",
    "\n",
    "# heavy lifting encoders\n",
    "user_encoder = LabelEncoder()\n",
    "item_encoder = LabelEncoder()\n",
    "\n",
    "# preparation for the csr matrix\n",
    "u = user_encoder.fit_transform(users)\n",
    "i = item_encoder.fit_transform(items)\n",
    "lu = len(np.unique(u))\n",
    "li = len(np.unique(i))"
   ]
  },
  {
   "cell_type": "code",
   "execution_count": 11,
   "metadata": {
    "ExecuteTime": {
     "end_time": "2023-10-08T21:08:16.746659800Z",
     "start_time": "2023-10-08T21:08:16.713403900Z"
    }
   },
   "outputs": [],
   "source": [
    "from scipy.sparse import csr_matrix\n",
    "\n",
    "class InteractionMachine:\n",
    "    def __init__(self):\n",
    "        self.user_encoder = LabelEncoder()\n",
    "        self.item_encoder = LabelEncoder()\n",
    "\n",
    "    def __repr__(self):\n",
    "        return 'InteractionMachine()'\n",
    "\n",
    "    def build(self, users, items, ratings):\n",
    "        u = self.user_encoder.fit_transform(users)\n",
    "        i = self.item_encoder.fit_transform(items)\n",
    "        self.n_users = len(np.unique(u))\n",
    "        self.n_items = len(np.unique(i))\n",
    "        self.interactions = csr_matrix((ratings, (u, i)), shape=(self.n_users, self.n_items))\n",
    "        return self"
   ]
  },
  {
   "cell_type": "code",
   "execution_count": 12,
   "metadata": {
    "ExecuteTime": {
     "end_time": "2023-10-08T21:08:16.938006300Z",
     "start_time": "2023-10-08T21:08:16.744655500Z"
    }
   },
   "outputs": [],
   "source": [
    "im = InteractionMachine()\n",
    "\n",
    "im.build(df_join_2['user_id'], df_join_2['business_id'], df_join_2['stars'])\n",
    "\n",
    "interactions = im.interactions"
   ]
  },
  {
   "cell_type": "code",
   "execution_count": 13,
   "metadata": {
    "ExecuteTime": {
     "end_time": "2023-10-08T21:08:17.016547300Z",
     "start_time": "2023-10-08T21:08:16.938006300Z"
    }
   },
   "outputs": [
    {
     "data": {
      "text/plain": "array([[0, 0, 0, ..., 0, 0, 0],\n       [0, 0, 0, ..., 0, 0, 0],\n       [0, 0, 0, ..., 0, 0, 5],\n       ...,\n       [0, 0, 0, ..., 0, 0, 0],\n       [0, 0, 0, ..., 0, 0, 0],\n       [0, 0, 0, ..., 0, 0, 0]], dtype=int64)"
     },
     "execution_count": 13,
     "metadata": {},
     "output_type": "execute_result"
    }
   ],
   "source": [
    "interactions.toarray()"
   ]
  },
  {
   "cell_type": "code",
   "execution_count": 14,
   "metadata": {
    "ExecuteTime": {
     "end_time": "2023-10-08T21:08:17.211774200Z",
     "start_time": "2023-10-08T21:08:17.016547300Z"
    }
   },
   "outputs": [
    {
     "name": "stderr",
     "output_type": "stream",
     "text": [
      "C:\\ProgramData\\Anaconda3\\lib\\site-packages\\lightfm\\_lightfm_fast.py:9: UserWarning: LightFM was compiled without OpenMP support. Only a single thread will be used.\n",
      "  warnings.warn(\n"
     ]
    }
   ],
   "source": [
    "from lightfm import LightFM\n",
    "from lightfm.datasets import fetch_movielens\n",
    "from lightfm.evaluation import precision_at_k"
   ]
  },
  {
   "cell_type": "code",
   "execution_count": 15,
   "metadata": {
    "ExecuteTime": {
     "end_time": "2023-10-08T21:08:17.211774200Z",
     "start_time": "2023-10-08T21:08:17.180539500Z"
    }
   },
   "outputs": [],
   "source": [
    "from scipy.sparse import csr_matrix"
   ]
  },
  {
   "cell_type": "code",
   "execution_count": 16,
   "metadata": {
    "ExecuteTime": {
     "end_time": "2023-10-08T21:08:17.211774200Z",
     "start_time": "2023-10-08T21:08:17.196145500Z"
    }
   },
   "outputs": [],
   "source": [
    "# do this\n",
    "from lightfm.cross_validation import random_train_test_split"
   ]
  },
  {
   "cell_type": "code",
   "execution_count": 17,
   "metadata": {
    "ExecuteTime": {
     "end_time": "2023-10-08T21:08:17.227395200Z",
     "start_time": "2023-10-08T21:08:17.211774200Z"
    }
   },
   "outputs": [],
   "source": [
    "seed = 1001\n",
    "train, test = random_train_test_split(interactions, test_percentage=0.2)"
   ]
  },
  {
   "cell_type": "code",
   "execution_count": 18,
   "metadata": {
    "ExecuteTime": {
     "end_time": "2023-10-08T21:08:17.337162200Z",
     "start_time": "2023-10-08T21:08:17.227395200Z"
    }
   },
   "outputs": [
    {
     "data": {
      "text/plain": "<68784x702 sparse matrix of type '<class 'numpy.int64'>'\n\twith 146066 stored elements in COOrdinate format>"
     },
     "execution_count": 18,
     "metadata": {},
     "output_type": "execute_result"
    }
   ],
   "source": [
    "train"
   ]
  },
  {
   "cell_type": "code",
   "execution_count": 19,
   "metadata": {
    "ExecuteTime": {
     "end_time": "2023-10-08T21:08:17.353170800Z",
     "start_time": "2023-10-08T21:08:17.243021200Z"
    }
   },
   "outputs": [
    {
     "data": {
      "text/plain": "<68784x702 sparse matrix of type '<class 'numpy.int64'>'\n\twith 36517 stored elements in COOrdinate format>"
     },
     "execution_count": 19,
     "metadata": {},
     "output_type": "execute_result"
    }
   ],
   "source": [
    "test"
   ]
  },
  {
   "cell_type": "code",
   "execution_count": 20,
   "metadata": {
    "ExecuteTime": {
     "end_time": "2023-10-08T21:08:29.512830Z",
     "start_time": "2023-10-08T21:08:17.259032Z"
    }
   },
   "outputs": [
    {
     "data": {
      "text/plain": "<lightfm.lightfm.LightFM at 0x2102f58d880>"
     },
     "execution_count": 20,
     "metadata": {},
     "output_type": "execute_result"
    }
   ],
   "source": [
    "model = LightFM()\n",
    "model.fit(train, epochs=50)"
   ]
  },
  {
   "cell_type": "code",
   "execution_count": 21,
   "metadata": {
    "ExecuteTime": {
     "end_time": "2023-10-08T21:08:29.575752600Z",
     "start_time": "2023-10-08T21:08:29.512830Z"
    }
   },
   "outputs": [],
   "source": [
    "from lightfm.evaluation import auc_score, precision_at_k"
   ]
  },
  {
   "cell_type": "code",
   "execution_count": 22,
   "metadata": {
    "ExecuteTime": {
     "end_time": "2023-10-08T21:08:30.243962700Z",
     "start_time": "2023-10-08T21:08:29.528420500Z"
    }
   },
   "outputs": [
    {
     "data": {
      "text/plain": "0.6775829"
     },
     "execution_count": 22,
     "metadata": {},
     "output_type": "execute_result"
    }
   ],
   "source": [
    "auc_score(model, test).mean()"
   ]
  },
  {
   "cell_type": "code",
   "execution_count": 23,
   "metadata": {
    "ExecuteTime": {
     "end_time": "2023-10-08T21:08:30.322485400Z",
     "start_time": "2023-10-08T21:08:30.243962700Z"
    }
   },
   "outputs": [
    {
     "data": {
      "text/plain": "                       user_id             business_id  stars  \\\n16734   onS4xr-XkYCAT_V9qOr24A  -3-6BB10tIWNKGEF0Es2BA      5   \n103349  usG7MqL3wkKw1MGHLSJ8jQ  14QP5lOdrTAVVCDDuHIAUg      4   \n121144  wpjZ1hqXIg1PiQXOh24QXA  u6P6I5PZnSlnILY5nFWBJA      4   \n9222    nadQDvwqxvoKU8DtBJ6pMA  3StNEgKAwpCFR1q0urmJrw      4   \n29925   hzxPlmuJ06a5bPjCpS7Zug  yl0yqngQGbW2hPmf5L427g      1   \n\n                                             name  \n16734                       The 81 Hong Kong Cafe  \n103349                      Tucson Tamale Company  \n121144                                 Calle Tepa  \n9222                                 Raijin Ramen  \n29925   Rusty's Family Restaurant & Sports Grille  ",
      "text/html": "<div>\n<style scoped>\n    .dataframe tbody tr th:only-of-type {\n        vertical-align: middle;\n    }\n\n    .dataframe tbody tr th {\n        vertical-align: top;\n    }\n\n    .dataframe thead th {\n        text-align: right;\n    }\n</style>\n<table border=\"1\" class=\"dataframe\">\n  <thead>\n    <tr style=\"text-align: right;\">\n      <th></th>\n      <th>user_id</th>\n      <th>business_id</th>\n      <th>stars</th>\n      <th>name</th>\n    </tr>\n  </thead>\n  <tbody>\n    <tr>\n      <th>16734</th>\n      <td>onS4xr-XkYCAT_V9qOr24A</td>\n      <td>-3-6BB10tIWNKGEF0Es2BA</td>\n      <td>5</td>\n      <td>The 81 Hong Kong Cafe</td>\n    </tr>\n    <tr>\n      <th>103349</th>\n      <td>usG7MqL3wkKw1MGHLSJ8jQ</td>\n      <td>14QP5lOdrTAVVCDDuHIAUg</td>\n      <td>4</td>\n      <td>Tucson Tamale Company</td>\n    </tr>\n    <tr>\n      <th>121144</th>\n      <td>wpjZ1hqXIg1PiQXOh24QXA</td>\n      <td>u6P6I5PZnSlnILY5nFWBJA</td>\n      <td>4</td>\n      <td>Calle Tepa</td>\n    </tr>\n    <tr>\n      <th>9222</th>\n      <td>nadQDvwqxvoKU8DtBJ6pMA</td>\n      <td>3StNEgKAwpCFR1q0urmJrw</td>\n      <td>4</td>\n      <td>Raijin Ramen</td>\n    </tr>\n    <tr>\n      <th>29925</th>\n      <td>hzxPlmuJ06a5bPjCpS7Zug</td>\n      <td>yl0yqngQGbW2hPmf5L427g</td>\n      <td>1</td>\n      <td>Rusty's Family Restaurant &amp; Sports Grille</td>\n    </tr>\n  </tbody>\n</table>\n</div>"
     },
     "execution_count": 23,
     "metadata": {},
     "output_type": "execute_result"
    }
   ],
   "source": [
    "df_join_2.sample(n=5)"
   ]
  },
  {
   "cell_type": "code",
   "execution_count": 24,
   "metadata": {
    "ExecuteTime": {
     "end_time": "2023-10-08T21:08:30.322485400Z",
     "start_time": "2023-10-08T21:08:30.291262800Z"
    }
   },
   "outputs": [
    {
     "data": {
      "text/plain": "                      user_id             business_id  stars  \\\n48374  XnDfNeY1xESGV_hwXReYvg  c4xAYwO_s8HEmOfCLVAhCA      4   \n54246  XnDfNeY1xESGV_hwXReYvg  Hi4AgS-uR-lEOF4oZl546g      4   \n\n                    name  \n48374        Ha Long Bay  \n54246  China Pasta House  ",
      "text/html": "<div>\n<style scoped>\n    .dataframe tbody tr th:only-of-type {\n        vertical-align: middle;\n    }\n\n    .dataframe tbody tr th {\n        vertical-align: top;\n    }\n\n    .dataframe thead th {\n        text-align: right;\n    }\n</style>\n<table border=\"1\" class=\"dataframe\">\n  <thead>\n    <tr style=\"text-align: right;\">\n      <th></th>\n      <th>user_id</th>\n      <th>business_id</th>\n      <th>stars</th>\n      <th>name</th>\n    </tr>\n  </thead>\n  <tbody>\n    <tr>\n      <th>48374</th>\n      <td>XnDfNeY1xESGV_hwXReYvg</td>\n      <td>c4xAYwO_s8HEmOfCLVAhCA</td>\n      <td>4</td>\n      <td>Ha Long Bay</td>\n    </tr>\n    <tr>\n      <th>54246</th>\n      <td>XnDfNeY1xESGV_hwXReYvg</td>\n      <td>Hi4AgS-uR-lEOF4oZl546g</td>\n      <td>4</td>\n      <td>China Pasta House</td>\n    </tr>\n  </tbody>\n</table>\n</div>"
     },
     "execution_count": 24,
     "metadata": {},
     "output_type": "execute_result"
    }
   ],
   "source": [
    "df_join_2[df_join_2['user_id'] == 'XnDfNeY1xESGV_hwXReYvg']"
   ]
  },
  {
   "cell_type": "code",
   "execution_count": 25,
   "outputs": [],
   "source": [
    "one_user = 'XnDfNeY1xESGV_hwXReYvg'"
   ],
   "metadata": {
    "collapsed": false,
    "ExecuteTime": {
     "end_time": "2023-10-08T21:08:30.322485400Z",
     "start_time": "2023-10-08T21:08:30.306890200Z"
    }
   }
  },
  {
   "cell_type": "code",
   "execution_count": 26,
   "metadata": {
    "ExecuteTime": {
     "end_time": "2023-10-08T21:08:30.465585900Z",
     "start_time": "2023-10-08T21:08:30.322485400Z"
    }
   },
   "outputs": [
    {
     "data": {
      "text/plain": "37401"
     },
     "execution_count": 26,
     "metadata": {},
     "output_type": "execute_result"
    }
   ],
   "source": [
    "user_num = int(im.user_encoder.transform([one_user])[0])\n",
    "user_num"
   ]
  },
  {
   "cell_type": "code",
   "execution_count": 27,
   "outputs": [
    {
     "data": {
      "text/plain": "         pred             business_id\n333  6.310380  UCMSWPqzXjd7QHq7v8PJjQ\n252  6.077551  LZzDvgfpkd4nI3E4L9wF1w\n612  5.832349  tV46IhCfHbsx_af-pMupiw\n697  5.798071  zZ01WQlcpI1_n806WKV3bA\n549  5.747546  muxda1cSVtplETqTfYVgZA\n356  5.716430  WSx9-iYYyST_umny9sJBFg\n314  5.678778  Rv8bW3pkzpi5dZu5ckbgtA\n495  5.640721  hyeo7JQr5uLp-St1MibYAA\n664  5.520570  wj8XtPyuREj8_0GQz3LZ6w\n508  5.468550  j8feOxyJqlIJWOi8su2qzw",
      "text/html": "<div>\n<style scoped>\n    .dataframe tbody tr th:only-of-type {\n        vertical-align: middle;\n    }\n\n    .dataframe tbody tr th {\n        vertical-align: top;\n    }\n\n    .dataframe thead th {\n        text-align: right;\n    }\n</style>\n<table border=\"1\" class=\"dataframe\">\n  <thead>\n    <tr style=\"text-align: right;\">\n      <th></th>\n      <th>pred</th>\n      <th>business_id</th>\n    </tr>\n  </thead>\n  <tbody>\n    <tr>\n      <th>333</th>\n      <td>6.310380</td>\n      <td>UCMSWPqzXjd7QHq7v8PJjQ</td>\n    </tr>\n    <tr>\n      <th>252</th>\n      <td>6.077551</td>\n      <td>LZzDvgfpkd4nI3E4L9wF1w</td>\n    </tr>\n    <tr>\n      <th>612</th>\n      <td>5.832349</td>\n      <td>tV46IhCfHbsx_af-pMupiw</td>\n    </tr>\n    <tr>\n      <th>697</th>\n      <td>5.798071</td>\n      <td>zZ01WQlcpI1_n806WKV3bA</td>\n    </tr>\n    <tr>\n      <th>549</th>\n      <td>5.747546</td>\n      <td>muxda1cSVtplETqTfYVgZA</td>\n    </tr>\n    <tr>\n      <th>356</th>\n      <td>5.716430</td>\n      <td>WSx9-iYYyST_umny9sJBFg</td>\n    </tr>\n    <tr>\n      <th>314</th>\n      <td>5.678778</td>\n      <td>Rv8bW3pkzpi5dZu5ckbgtA</td>\n    </tr>\n    <tr>\n      <th>495</th>\n      <td>5.640721</td>\n      <td>hyeo7JQr5uLp-St1MibYAA</td>\n    </tr>\n    <tr>\n      <th>664</th>\n      <td>5.520570</td>\n      <td>wj8XtPyuREj8_0GQz3LZ6w</td>\n    </tr>\n    <tr>\n      <th>508</th>\n      <td>5.468550</td>\n      <td>j8feOxyJqlIJWOi8su2qzw</td>\n    </tr>\n  </tbody>\n</table>\n</div>"
     },
     "execution_count": 27,
     "metadata": {},
     "output_type": "execute_result"
    }
   ],
   "source": [
    "preds = model.predict(user_num, list(range(im.n_items)))\n",
    "preds = pd.DataFrame(zip(preds, im.item_encoder.classes_), columns=['pred', 'business_id'])\n",
    "preds = preds.sort_values('pred', ascending=False)\n",
    "preds.head(10)"
   ],
   "metadata": {
    "collapsed": false,
    "ExecuteTime": {
     "end_time": "2023-10-08T21:08:30.526471100Z",
     "start_time": "2023-10-08T21:08:30.385385600Z"
    }
   }
  },
  {
   "cell_type": "code",
   "execution_count": 28,
   "outputs": [
    {
     "data": {
      "text/plain": "           pred             business_id                           name\n0      6.310380  UCMSWPqzXjd7QHq7v8PJjQ                  Prep & Pastry\n2230   6.077551  LZzDvgfpkd4nI3E4L9wF1w                 El Charro Cafe\n3847   5.832349  tV46IhCfHbsx_af-pMupiw                 Cafe Poca Cosa\n5178   5.798071  zZ01WQlcpI1_n806WKV3bA               Culinary Dropout\n6533   5.747546  muxda1cSVtplETqTfYVgZA  HUB Restaurant & Ice Creamery\n7862   5.716430  WSx9-iYYyST_umny9sJBFg                     The Parish\n9115   5.678778  Rv8bW3pkzpi5dZu5ckbgtA     Guadalajara Original Grill\n10268  5.640721  hyeo7JQr5uLp-St1MibYAA                      Baja Cafe\n11398  5.520570  wj8XtPyuREj8_0GQz3LZ6w              Wild Garlic Grill\n12423  5.468550  j8feOxyJqlIJWOi8su2qzw                Serial Grillers",
      "text/html": "<div>\n<style scoped>\n    .dataframe tbody tr th:only-of-type {\n        vertical-align: middle;\n    }\n\n    .dataframe tbody tr th {\n        vertical-align: top;\n    }\n\n    .dataframe thead th {\n        text-align: right;\n    }\n</style>\n<table border=\"1\" class=\"dataframe\">\n  <thead>\n    <tr style=\"text-align: right;\">\n      <th></th>\n      <th>pred</th>\n      <th>business_id</th>\n      <th>name</th>\n    </tr>\n  </thead>\n  <tbody>\n    <tr>\n      <th>0</th>\n      <td>6.310380</td>\n      <td>UCMSWPqzXjd7QHq7v8PJjQ</td>\n      <td>Prep &amp; Pastry</td>\n    </tr>\n    <tr>\n      <th>2230</th>\n      <td>6.077551</td>\n      <td>LZzDvgfpkd4nI3E4L9wF1w</td>\n      <td>El Charro Cafe</td>\n    </tr>\n    <tr>\n      <th>3847</th>\n      <td>5.832349</td>\n      <td>tV46IhCfHbsx_af-pMupiw</td>\n      <td>Cafe Poca Cosa</td>\n    </tr>\n    <tr>\n      <th>5178</th>\n      <td>5.798071</td>\n      <td>zZ01WQlcpI1_n806WKV3bA</td>\n      <td>Culinary Dropout</td>\n    </tr>\n    <tr>\n      <th>6533</th>\n      <td>5.747546</td>\n      <td>muxda1cSVtplETqTfYVgZA</td>\n      <td>HUB Restaurant &amp; Ice Creamery</td>\n    </tr>\n    <tr>\n      <th>7862</th>\n      <td>5.716430</td>\n      <td>WSx9-iYYyST_umny9sJBFg</td>\n      <td>The Parish</td>\n    </tr>\n    <tr>\n      <th>9115</th>\n      <td>5.678778</td>\n      <td>Rv8bW3pkzpi5dZu5ckbgtA</td>\n      <td>Guadalajara Original Grill</td>\n    </tr>\n    <tr>\n      <th>10268</th>\n      <td>5.640721</td>\n      <td>hyeo7JQr5uLp-St1MibYAA</td>\n      <td>Baja Cafe</td>\n    </tr>\n    <tr>\n      <th>11398</th>\n      <td>5.520570</td>\n      <td>wj8XtPyuREj8_0GQz3LZ6w</td>\n      <td>Wild Garlic Grill</td>\n    </tr>\n    <tr>\n      <th>12423</th>\n      <td>5.468550</td>\n      <td>j8feOxyJqlIJWOi8su2qzw</td>\n      <td>Serial Grillers</td>\n    </tr>\n  </tbody>\n</table>\n</div>"
     },
     "execution_count": 28,
     "metadata": {},
     "output_type": "execute_result"
    }
   ],
   "source": [
    "resultado=preds.merge(df_join_2[[\"business_id\",\"name\"]],how=\"inner\",on=\"business_id\")\n",
    "resultado.drop_duplicates(inplace=True)\n",
    "resultado.head(10)"
   ],
   "metadata": {
    "collapsed": false,
    "ExecuteTime": {
     "end_time": "2023-10-08T21:08:30.620613100Z",
     "start_time": "2023-10-08T21:08:30.401012300Z"
    }
   }
  },
  {
   "cell_type": "code",
   "execution_count": 29,
   "outputs": [
    {
     "name": "stdout",
     "output_type": "stream",
     "text": [
      "Epoch: 0, Train AUC=0.966, Test AUC=0.675\n",
      "Epoch: 1, Train AUC=0.980, Test AUC=0.665\n",
      "Epoch: 2, Train AUC=0.983, Test AUC=0.664\n",
      "Epoch: 3, Train AUC=0.984, Test AUC=0.664\n",
      "Epoch: 4, Train AUC=0.985, Test AUC=0.665\n",
      "Epoch: 5, Train AUC=0.985, Test AUC=0.666\n",
      "Epoch: 6, Train AUC=0.986, Test AUC=0.667\n"
     ]
    }
   ],
   "source": [
    "from copy import deepcopy\n",
    "\n",
    "model = LightFM(loss='warp')\n",
    "\n",
    "count = 0\n",
    "best = 0\n",
    "scores = []\n",
    "for e in range(100):\n",
    "    if count > 5: # patience\n",
    "        break\n",
    "    model.fit_partial(train, epochs=10)\n",
    "    auc_train = auc_score(model, train).mean()\n",
    "    auc_test = auc_score(model, test).mean()\n",
    "    print(f'Epoch: {e}, Train AUC={auc_train:.3f}, Test AUC={auc_test:.3f}')\n",
    "    scores.append((auc_train, auc_test))\n",
    "    if auc_test > best:\n",
    "        best_model = deepcopy(model)\n",
    "        best = auc_test\n",
    "    else:\n",
    "        count += 1\n",
    "\n",
    "model = deepcopy(best_model)"
   ],
   "metadata": {
    "collapsed": false,
    "ExecuteTime": {
     "end_time": "2023-10-08T21:09:05.079703300Z",
     "start_time": "2023-10-08T21:08:30.479590400Z"
    }
   }
  },
  {
   "cell_type": "code",
   "execution_count": 30,
   "outputs": [
    {
     "name": "stdout",
     "output_type": "stream",
     "text": [
      "Wall time: 15.1 s\n",
      "Collaborative filtering train AUC: 0.68298215\n",
      "Collaborative filtering test AUC: 0.67751235\n",
      "Train precision: 0.0202\n",
      "Test precision: 0.0146\n"
     ]
    }
   ],
   "source": [
    "# Set the number of threads; you can increase this if you have more physical cores available.\n",
    "\n",
    "## These parameters are obtained after tunning for specific loss through skopt in the bottom chunk\n",
    "NUM_THREADS = 25\n",
    "NUM_COMPONENTS = 43\n",
    "NUM_EPOCHS = 18\n",
    "ITEM_ALPHA = 2.88752e-6\n",
    "learning_rate=0.06652\n",
    "k = 5 # for precision at k\n",
    "\n",
    "## Pure Collaborative Filtering models\n",
    "\n",
    "# Logistic loss\n",
    "model_1 = LightFM(loss='logistic',random_state=seed,\n",
    "                  item_alpha=ITEM_ALPHA,\n",
    "                  no_components=NUM_COMPONENTS,\n",
    "                  learning_rate=learning_rate)\n",
    "\n",
    "# time it.\n",
    "%time model_1 = model_1.fit(train,epochs=NUM_EPOCHS,num_threads=NUM_THREADS)\n",
    "\n",
    "\n",
    "# Import the evaluation routines\n",
    "from lightfm.evaluation import auc_score\n",
    "\n",
    "# Compute and print the AUC score\n",
    "train_auc = auc_score(model_1, train, num_threads=NUM_THREADS).mean()\n",
    "print('Collaborative filtering train AUC: %s' % train_auc)\n",
    "\n",
    "test_auc = auc_score(model_1, test,num_threads=NUM_THREADS).mean()\n",
    "print('Collaborative filtering test AUC: %s' % test_auc)\n",
    "\n",
    "from lightfm.evaluation import precision_at_k,recall_at_k\n",
    "\n",
    "print(\"Train precision: %.4f\" % precision_at_k(model_1, train, k=k,num_threads=NUM_THREADS).mean())\n",
    "print(\"Test precision: %.4f\" % precision_at_k(model_1, test,train_interactions=train, k=k,num_threads=NUM_THREADS).mean())"
   ],
   "metadata": {
    "collapsed": false,
    "ExecuteTime": {
     "end_time": "2023-10-08T21:09:29.899553300Z",
     "start_time": "2023-10-08T21:09:05.079703300Z"
    }
   }
  },
  {
   "cell_type": "code",
   "execution_count": 31,
   "outputs": [
    {
     "name": "stdout",
     "output_type": "stream",
     "text": [
      "Wall time: 57 s\n",
      "Collaborative filtering train AUC: 0.9711549\n",
      "Collaborative filtering test AUC: 0.53978294\n",
      "Train precision: 0.2132\n",
      "Test precision: 0.0119\n"
     ]
    }
   ],
   "source": [
    "NUM_THREADS = 25\n",
    "NUM_COMPONENTS = 45\n",
    "NUM_EPOCHS = 43\n",
    "ITEM_ALPHA = 1.3846e-6\n",
    "learning_rate=0.0161445\n",
    "\n",
    "# BPR loss\n",
    "model = LightFM(loss='bpr',random_state=seed,\n",
    "                item_alpha=ITEM_ALPHA,\n",
    "                no_components=NUM_COMPONENTS,\n",
    "                learning_rate=learning_rate)\n",
    "\n",
    "# time it.\n",
    "%time model = model.fit(train,epochs=NUM_EPOCHS,num_threads=NUM_THREADS)\n",
    "\n",
    "\n",
    "# Compute and print the AUC score\n",
    "train_auc = auc_score(model, train, num_threads=NUM_THREADS).mean()\n",
    "print('Collaborative filtering train AUC: %s' % train_auc)\n",
    "\n",
    "test_auc = auc_score(model, test,num_threads=NUM_THREADS).mean()\n",
    "print('Collaborative filtering test AUC: %s' % test_auc)\n",
    "\n",
    "print(\"Train precision: %.4f\" % precision_at_k(model, train, k=k,num_threads=NUM_THREADS).mean())\n",
    "print(\"Test precision: %.4f\" % precision_at_k(model, test,train_interactions=train, k=k,num_threads=NUM_THREADS).mean())"
   ],
   "metadata": {
    "collapsed": false,
    "ExecuteTime": {
     "end_time": "2023-10-08T21:10:36.626537900Z",
     "start_time": "2023-10-08T21:09:29.906328400Z"
    }
   }
  },
  {
   "cell_type": "code",
   "execution_count": 32,
   "outputs": [
    {
     "name": "stdout",
     "output_type": "stream",
     "text": [
      "Wall time: 8.66 s\n",
      "Collaborative filtering train AUC: 0.98854816\n",
      "Collaborative filtering test AUC: 0.684455\n",
      "Train precision: 0.2454\n",
      "Test precision: 0.0154\n"
     ]
    }
   ],
   "source": [
    "NUM_THREADS = 25\n",
    "NUM_COMPONENTS = 21\n",
    "NUM_EPOCHS = 16\n",
    "ITEM_ALPHA = 5.97967e-6\n",
    "learning_rate=0.033\n",
    "\n",
    "# Let's fit a WARP model\n",
    "model = LightFM(loss='warp',random_state=seed,\n",
    "                item_alpha=ITEM_ALPHA,\n",
    "                no_components=NUM_COMPONENTS,\n",
    "                learning_rate=learning_rate)\n",
    "\n",
    "#  time it.\n",
    "%time model = model.fit(train,epochs=NUM_EPOCHS,num_threads=NUM_THREADS)\n",
    "\n",
    "\n",
    "\n",
    "# Compute and print the AUC score\n",
    "train_auc = auc_score(model, train, num_threads=NUM_THREADS).mean()\n",
    "print('Collaborative filtering train AUC: %s' % train_auc)\n",
    "\n",
    "test_auc = auc_score(model, test,num_threads=NUM_THREADS).mean()\n",
    "print('Collaborative filtering test AUC: %s' % test_auc)\n",
    "\n",
    "\n",
    "print(\"Train precision: %.4f\" % precision_at_k(model, train, k=k,num_threads=NUM_THREADS).mean())\n",
    "print(\"Test precision: %.4f\" % precision_at_k(model, test,train_interactions=train, k=k,num_threads=NUM_THREADS).mean())"
   ],
   "metadata": {
    "collapsed": false,
    "ExecuteTime": {
     "end_time": "2023-10-08T21:10:51.613364600Z",
     "start_time": "2023-10-08T21:10:36.626537900Z"
    }
   }
  },
  {
   "cell_type": "code",
   "execution_count": 32,
   "outputs": [],
   "source": [],
   "metadata": {
    "collapsed": false,
    "ExecuteTime": {
     "end_time": "2023-10-08T21:10:51.628991200Z",
     "start_time": "2023-10-08T21:10:51.613364600Z"
    }
   }
  },
  {
   "cell_type": "code",
   "execution_count": 33,
   "metadata": {
    "scrolled": true,
    "ExecuteTime": {
     "end_time": "2023-10-08T21:10:51.707229500Z",
     "start_time": "2023-10-08T21:10:51.628991200Z"
    }
   },
   "outputs": [
    {
     "data": {
      "text/plain": "                       user_id             business_id  stars  \\\n22175   JQWH6DhhTYPCWNZkfUGEoQ  LgWlFdHfW2ZD8M-2vaMULg      3   \n22176   cm2iopWNL67Me2dF3R-yZA  LgWlFdHfW2ZD8M-2vaMULg      3   \n22177   pSFrdEZgE-DzGmHCl7P9lw  LgWlFdHfW2ZD8M-2vaMULg      4   \n22178   _LSt8ZGpTUsZAVYZqta7jA  LgWlFdHfW2ZD8M-2vaMULg      5   \n22179   QtpTcaZpt2bIrRZWrLUv4A  LgWlFdHfW2ZD8M-2vaMULg      4   \n...                        ...                     ...    ...   \n182654  0DsL6Q1frr0vJ3YpV7pxOg  va0yjjOMfnX_L1P0mWZg8A      5   \n182655  LktM6BhTBjJRT5L-ZBqfNw  va0yjjOMfnX_L1P0mWZg8A      4   \n182656  5I1SaGRqxjh0TUDlspCv7w  va0yjjOMfnX_L1P0mWZg8A      5   \n182657  icjvjcPzt13hZDydUnBTow  va0yjjOMfnX_L1P0mWZg8A      2   \n182658  1f45sImkXIxGVKu4FJmnuw  va0yjjOMfnX_L1P0mWZg8A      4   \n\n                          name  \n22175   Kababeque Indian Grill  \n22176   Kababeque Indian Grill  \n22177   Kababeque Indian Grill  \n22178   Kababeque Indian Grill  \n22179   Kababeque Indian Grill  \n...                        ...  \n182654              India Oven  \n182655              India Oven  \n182656              India Oven  \n182657              India Oven  \n182658              India Oven  \n\n[1151 rows x 4 columns]",
      "text/html": "<div>\n<style scoped>\n    .dataframe tbody tr th:only-of-type {\n        vertical-align: middle;\n    }\n\n    .dataframe tbody tr th {\n        vertical-align: top;\n    }\n\n    .dataframe thead th {\n        text-align: right;\n    }\n</style>\n<table border=\"1\" class=\"dataframe\">\n  <thead>\n    <tr style=\"text-align: right;\">\n      <th></th>\n      <th>user_id</th>\n      <th>business_id</th>\n      <th>stars</th>\n      <th>name</th>\n    </tr>\n  </thead>\n  <tbody>\n    <tr>\n      <th>22175</th>\n      <td>JQWH6DhhTYPCWNZkfUGEoQ</td>\n      <td>LgWlFdHfW2ZD8M-2vaMULg</td>\n      <td>3</td>\n      <td>Kababeque Indian Grill</td>\n    </tr>\n    <tr>\n      <th>22176</th>\n      <td>cm2iopWNL67Me2dF3R-yZA</td>\n      <td>LgWlFdHfW2ZD8M-2vaMULg</td>\n      <td>3</td>\n      <td>Kababeque Indian Grill</td>\n    </tr>\n    <tr>\n      <th>22177</th>\n      <td>pSFrdEZgE-DzGmHCl7P9lw</td>\n      <td>LgWlFdHfW2ZD8M-2vaMULg</td>\n      <td>4</td>\n      <td>Kababeque Indian Grill</td>\n    </tr>\n    <tr>\n      <th>22178</th>\n      <td>_LSt8ZGpTUsZAVYZqta7jA</td>\n      <td>LgWlFdHfW2ZD8M-2vaMULg</td>\n      <td>5</td>\n      <td>Kababeque Indian Grill</td>\n    </tr>\n    <tr>\n      <th>22179</th>\n      <td>QtpTcaZpt2bIrRZWrLUv4A</td>\n      <td>LgWlFdHfW2ZD8M-2vaMULg</td>\n      <td>4</td>\n      <td>Kababeque Indian Grill</td>\n    </tr>\n    <tr>\n      <th>...</th>\n      <td>...</td>\n      <td>...</td>\n      <td>...</td>\n      <td>...</td>\n    </tr>\n    <tr>\n      <th>182654</th>\n      <td>0DsL6Q1frr0vJ3YpV7pxOg</td>\n      <td>va0yjjOMfnX_L1P0mWZg8A</td>\n      <td>5</td>\n      <td>India Oven</td>\n    </tr>\n    <tr>\n      <th>182655</th>\n      <td>LktM6BhTBjJRT5L-ZBqfNw</td>\n      <td>va0yjjOMfnX_L1P0mWZg8A</td>\n      <td>4</td>\n      <td>India Oven</td>\n    </tr>\n    <tr>\n      <th>182656</th>\n      <td>5I1SaGRqxjh0TUDlspCv7w</td>\n      <td>va0yjjOMfnX_L1P0mWZg8A</td>\n      <td>5</td>\n      <td>India Oven</td>\n    </tr>\n    <tr>\n      <th>182657</th>\n      <td>icjvjcPzt13hZDydUnBTow</td>\n      <td>va0yjjOMfnX_L1P0mWZg8A</td>\n      <td>2</td>\n      <td>India Oven</td>\n    </tr>\n    <tr>\n      <th>182658</th>\n      <td>1f45sImkXIxGVKu4FJmnuw</td>\n      <td>va0yjjOMfnX_L1P0mWZg8A</td>\n      <td>4</td>\n      <td>India Oven</td>\n    </tr>\n  </tbody>\n</table>\n<p>1151 rows × 4 columns</p>\n</div>"
     },
     "execution_count": 33,
     "metadata": {},
     "output_type": "execute_result"
    }
   ],
   "source": [
    "df_join_2[df_join_2['name'].str.contains('India')]"
   ]
  },
  {
   "cell_type": "code",
   "execution_count": 34,
   "metadata": {
    "ExecuteTime": {
     "end_time": "2023-10-08T21:10:51.770120Z",
     "start_time": "2023-10-08T21:10:51.707229500Z"
    }
   },
   "outputs": [
    {
     "data": {
      "text/plain": "                      user_id             business_id  stars  \\\n22175  JQWH6DhhTYPCWNZkfUGEoQ  LgWlFdHfW2ZD8M-2vaMULg      3   \n43202  JQWH6DhhTYPCWNZkfUGEoQ  yvBDnfgVQy_hCDGj3Hy00w      2   \n43303  JQWH6DhhTYPCWNZkfUGEoQ  C-9LDLDx0n2_3VPddBsGwA      5   \n53597  JQWH6DhhTYPCWNZkfUGEoQ  xHm8DE6x8Qrn_hI6hDlVBw      4   \n84351  JQWH6DhhTYPCWNZkfUGEoQ  JVdRFZ0fZmd36f-s3FtS5A      5   \n\n                                         name  \n22175                  Kababeque Indian Grill  \n43202                           BrushFire BBQ  \n43303                   Tucson Tamale Company  \n53597  Freddy's Frozen Custard & Steakburgers  \n84351                           Choice Greens  ",
      "text/html": "<div>\n<style scoped>\n    .dataframe tbody tr th:only-of-type {\n        vertical-align: middle;\n    }\n\n    .dataframe tbody tr th {\n        vertical-align: top;\n    }\n\n    .dataframe thead th {\n        text-align: right;\n    }\n</style>\n<table border=\"1\" class=\"dataframe\">\n  <thead>\n    <tr style=\"text-align: right;\">\n      <th></th>\n      <th>user_id</th>\n      <th>business_id</th>\n      <th>stars</th>\n      <th>name</th>\n    </tr>\n  </thead>\n  <tbody>\n    <tr>\n      <th>22175</th>\n      <td>JQWH6DhhTYPCWNZkfUGEoQ</td>\n      <td>LgWlFdHfW2ZD8M-2vaMULg</td>\n      <td>3</td>\n      <td>Kababeque Indian Grill</td>\n    </tr>\n    <tr>\n      <th>43202</th>\n      <td>JQWH6DhhTYPCWNZkfUGEoQ</td>\n      <td>yvBDnfgVQy_hCDGj3Hy00w</td>\n      <td>2</td>\n      <td>BrushFire BBQ</td>\n    </tr>\n    <tr>\n      <th>43303</th>\n      <td>JQWH6DhhTYPCWNZkfUGEoQ</td>\n      <td>C-9LDLDx0n2_3VPddBsGwA</td>\n      <td>5</td>\n      <td>Tucson Tamale Company</td>\n    </tr>\n    <tr>\n      <th>53597</th>\n      <td>JQWH6DhhTYPCWNZkfUGEoQ</td>\n      <td>xHm8DE6x8Qrn_hI6hDlVBw</td>\n      <td>4</td>\n      <td>Freddy's Frozen Custard &amp; Steakburgers</td>\n    </tr>\n    <tr>\n      <th>84351</th>\n      <td>JQWH6DhhTYPCWNZkfUGEoQ</td>\n      <td>JVdRFZ0fZmd36f-s3FtS5A</td>\n      <td>5</td>\n      <td>Choice Greens</td>\n    </tr>\n  </tbody>\n</table>\n</div>"
     },
     "execution_count": 34,
     "metadata": {},
     "output_type": "execute_result"
    }
   ],
   "source": [
    "df_join_2[df_join_2['user_id'] == 'JQWH6DhhTYPCWNZkfUGEoQ']"
   ]
  },
  {
   "cell_type": "code",
   "execution_count": 35,
   "metadata": {
    "ExecuteTime": {
     "end_time": "2023-10-08T21:10:51.911268100Z",
     "start_time": "2023-10-08T21:10:51.770120Z"
    }
   },
   "outputs": [
    {
     "data": {
      "text/plain": "         pred             business_id\n213  1.485415  JFShrvfR86GnWUaITaGRkA\n170  1.225386  EIKbEHnsVg6dcsWopW4lkg\n595  1.200820  rwZ_nSNpRtkgzuc2ah27wA\n659  1.053652  wa_bwyY57etHjtJ2Fw0E3g\n423  0.980932  bXjnfT69E8DJinX-ifOofA\n156  0.962767  D44IBRDtEScaWELey5IfCA\n671  0.961220  xHm8DE6x8Qrn_hI6hDlVBw\n204  0.947357  IWP46EWxNGk81HV7NdahcA\n408  0.941423  a8q8Kd7KubA-qHpPAAH81g\n345  0.941400  V9XlikTxq0My4gE8LULsjw",
      "text/html": "<div>\n<style scoped>\n    .dataframe tbody tr th:only-of-type {\n        vertical-align: middle;\n    }\n\n    .dataframe tbody tr th {\n        vertical-align: top;\n    }\n\n    .dataframe thead th {\n        text-align: right;\n    }\n</style>\n<table border=\"1\" class=\"dataframe\">\n  <thead>\n    <tr style=\"text-align: right;\">\n      <th></th>\n      <th>pred</th>\n      <th>business_id</th>\n    </tr>\n  </thead>\n  <tbody>\n    <tr>\n      <th>213</th>\n      <td>1.485415</td>\n      <td>JFShrvfR86GnWUaITaGRkA</td>\n    </tr>\n    <tr>\n      <th>170</th>\n      <td>1.225386</td>\n      <td>EIKbEHnsVg6dcsWopW4lkg</td>\n    </tr>\n    <tr>\n      <th>595</th>\n      <td>1.200820</td>\n      <td>rwZ_nSNpRtkgzuc2ah27wA</td>\n    </tr>\n    <tr>\n      <th>659</th>\n      <td>1.053652</td>\n      <td>wa_bwyY57etHjtJ2Fw0E3g</td>\n    </tr>\n    <tr>\n      <th>423</th>\n      <td>0.980932</td>\n      <td>bXjnfT69E8DJinX-ifOofA</td>\n    </tr>\n    <tr>\n      <th>156</th>\n      <td>0.962767</td>\n      <td>D44IBRDtEScaWELey5IfCA</td>\n    </tr>\n    <tr>\n      <th>671</th>\n      <td>0.961220</td>\n      <td>xHm8DE6x8Qrn_hI6hDlVBw</td>\n    </tr>\n    <tr>\n      <th>204</th>\n      <td>0.947357</td>\n      <td>IWP46EWxNGk81HV7NdahcA</td>\n    </tr>\n    <tr>\n      <th>408</th>\n      <td>0.941423</td>\n      <td>a8q8Kd7KubA-qHpPAAH81g</td>\n    </tr>\n    <tr>\n      <th>345</th>\n      <td>0.941400</td>\n      <td>V9XlikTxq0My4gE8LULsjw</td>\n    </tr>\n  </tbody>\n</table>\n</div>"
     },
     "execution_count": 35,
     "metadata": {},
     "output_type": "execute_result"
    }
   ],
   "source": [
    "one_user = 'JQWH6DhhTYPCWNZkfUGEoQ'\n",
    "user_num = int(im.user_encoder.transform([one_user])[0])\n",
    "preds = model.predict(user_num, list(range(im.n_items)))\n",
    "preds = pd.DataFrame(zip(preds, im.item_encoder.classes_), columns=['pred', 'business_id'])\n",
    "preds = preds.sort_values('pred', ascending=False)\n",
    "preds.head(10)"
   ]
  },
  {
   "cell_type": "code",
   "execution_count": 36,
   "metadata": {
    "ExecuteTime": {
     "end_time": "2023-10-08T21:10:51.942441Z",
     "start_time": "2023-10-08T21:10:51.801375800Z"
    }
   },
   "outputs": [
    {
     "data": {
      "text/plain": "         pred             business_id\n603  1.956434  szad9yEwckNw0P3L5FGyNQ\n559  1.674333  no8Sj8Eflgka2LFdrYFG_Q\n170  1.641273  EIKbEHnsVg6dcsWopW4lkg\n253  1.623609  LgWlFdHfW2ZD8M-2vaMULg\n435  1.434646  dHpHptXgn1gpuxr_4DrMYQ",
      "text/html": "<div>\n<style scoped>\n    .dataframe tbody tr th:only-of-type {\n        vertical-align: middle;\n    }\n\n    .dataframe tbody tr th {\n        vertical-align: top;\n    }\n\n    .dataframe thead th {\n        text-align: right;\n    }\n</style>\n<table border=\"1\" class=\"dataframe\">\n  <thead>\n    <tr style=\"text-align: right;\">\n      <th></th>\n      <th>pred</th>\n      <th>business_id</th>\n    </tr>\n  </thead>\n  <tbody>\n    <tr>\n      <th>603</th>\n      <td>1.956434</td>\n      <td>szad9yEwckNw0P3L5FGyNQ</td>\n    </tr>\n    <tr>\n      <th>559</th>\n      <td>1.674333</td>\n      <td>no8Sj8Eflgka2LFdrYFG_Q</td>\n    </tr>\n    <tr>\n      <th>170</th>\n      <td>1.641273</td>\n      <td>EIKbEHnsVg6dcsWopW4lkg</td>\n    </tr>\n    <tr>\n      <th>253</th>\n      <td>1.623609</td>\n      <td>LgWlFdHfW2ZD8M-2vaMULg</td>\n    </tr>\n    <tr>\n      <th>435</th>\n      <td>1.434646</td>\n      <td>dHpHptXgn1gpuxr_4DrMYQ</td>\n    </tr>\n  </tbody>\n</table>\n</div>"
     },
     "execution_count": 36,
     "metadata": {},
     "output_type": "execute_result"
    }
   ],
   "source": [
    "one_user = 'QtpTcaZpt2bIrRZWrLUv4A'\n",
    "user_num = int(im.user_encoder.transform([one_user])[0])\n",
    "preds = model.predict(user_num, list(range(im.n_items)))\n",
    "preds = pd.DataFrame(zip(preds, im.item_encoder.classes_), columns=['pred', 'business_id'])\n",
    "preds = preds.sort_values('pred', ascending=False)\n",
    "preds.head()"
   ]
  },
  {
   "cell_type": "code",
   "execution_count": 37,
   "metadata": {
    "ExecuteTime": {
     "end_time": "2023-10-08T21:10:51.989724300Z",
     "start_time": "2023-10-08T21:10:51.864305800Z"
    }
   },
   "outputs": [
    {
     "data": {
      "text/plain": "              business_id                      name  \\\n0  f82dhKNiUXsDVPMLqKYiIQ             Sher-e-Punjab   \n1  Y3ZCO17N1_T_Ms1JmswwzA    Taqueria Pico De Gallo   \n2  lhsQkb5nhf-Kd5OvgB9MNg             Sachiko Sushi   \n3  XyGRDrgCK0z4CiA6nhwEaw  Persian Room Fine Dining   \n4  -3-6BB10tIWNKGEF0Es2BA     The 81 Hong Kong Cafe   \n\n                         address    city state  postal_code   latitude  \\\n0              853 East Grant Rd  Tucson    AZ        85719  32.250960   \n1                 2618 S 6th Ave  Tucson    AZ        85713  32.192017   \n2             3210 E Valencia Rd  Tucson    AZ        85706  32.133679   \n3  9290 N Thornydale Rd, Ste 100  Tucson    AZ        85742  32.375016   \n4      625 E Wetmore Rd, Ste 109  Tucson    AZ        85705  32.288540   \n\n    longitude  stars  review_count  is_open  \\\n0 -110.959158    4.0           446        1   \n1 -110.968540    4.0           397        1   \n2 -110.923443    3.5           191        1   \n3 -111.046320    4.5           258        1   \n4 -110.963144    4.0           133        1   \n\n                                          attributes  \\\n0  {'RestaurantsAttire': \"'casual'\", 'BusinessAcc...   \n1  {'RestaurantsGoodForGroups': 'True', 'Caters':...   \n2  {'RestaurantsPriceRange2': '2', 'BusinessAccep...   \n3  {'Alcohol': \"'full_bar'\", 'GoodForMeal': \"{'de...   \n4  {'Alcohol': \"u'none'\", 'DogsAllowed': 'False',...   \n\n                                          categories  \\\n0  Restaurants, Salad, Pakistani, Indian, Cocktai...   \n1                               Mexican, Restaurants   \n2                  Japanese, Restaurants, Sushi Bars   \n3        Restaurants, Persian/Iranian, Mediterranean   \n4  Coffee & Tea, Asian Fusion, Food, Bubble Tea, ...   \n\n                                               hours  \n0  {'Tuesday': '16:0-21:0', 'Wednesday': '16:0-21...  \n1  {'Monday': '9:0-21:0', 'Tuesday': '9:0-21:0', ...  \n2  {'Monday': '11:0-20:0', 'Tuesday': '11:0-20:0'...  \n3  {'Monday': '11:0-21:30', 'Tuesday': '11:0-21:3...  \n4  {'Monday': '0:0-0:0', 'Wednesday': '10:0-21:0'...  ",
      "text/html": "<div>\n<style scoped>\n    .dataframe tbody tr th:only-of-type {\n        vertical-align: middle;\n    }\n\n    .dataframe tbody tr th {\n        vertical-align: top;\n    }\n\n    .dataframe thead th {\n        text-align: right;\n    }\n</style>\n<table border=\"1\" class=\"dataframe\">\n  <thead>\n    <tr style=\"text-align: right;\">\n      <th></th>\n      <th>business_id</th>\n      <th>name</th>\n      <th>address</th>\n      <th>city</th>\n      <th>state</th>\n      <th>postal_code</th>\n      <th>latitude</th>\n      <th>longitude</th>\n      <th>stars</th>\n      <th>review_count</th>\n      <th>is_open</th>\n      <th>attributes</th>\n      <th>categories</th>\n      <th>hours</th>\n    </tr>\n  </thead>\n  <tbody>\n    <tr>\n      <th>0</th>\n      <td>f82dhKNiUXsDVPMLqKYiIQ</td>\n      <td>Sher-e-Punjab</td>\n      <td>853 East Grant Rd</td>\n      <td>Tucson</td>\n      <td>AZ</td>\n      <td>85719</td>\n      <td>32.250960</td>\n      <td>-110.959158</td>\n      <td>4.0</td>\n      <td>446</td>\n      <td>1</td>\n      <td>{'RestaurantsAttire': \"'casual'\", 'BusinessAcc...</td>\n      <td>Restaurants, Salad, Pakistani, Indian, Cocktai...</td>\n      <td>{'Tuesday': '16:0-21:0', 'Wednesday': '16:0-21...</td>\n    </tr>\n    <tr>\n      <th>1</th>\n      <td>Y3ZCO17N1_T_Ms1JmswwzA</td>\n      <td>Taqueria Pico De Gallo</td>\n      <td>2618 S 6th Ave</td>\n      <td>Tucson</td>\n      <td>AZ</td>\n      <td>85713</td>\n      <td>32.192017</td>\n      <td>-110.968540</td>\n      <td>4.0</td>\n      <td>397</td>\n      <td>1</td>\n      <td>{'RestaurantsGoodForGroups': 'True', 'Caters':...</td>\n      <td>Mexican, Restaurants</td>\n      <td>{'Monday': '9:0-21:0', 'Tuesday': '9:0-21:0', ...</td>\n    </tr>\n    <tr>\n      <th>2</th>\n      <td>lhsQkb5nhf-Kd5OvgB9MNg</td>\n      <td>Sachiko Sushi</td>\n      <td>3210 E Valencia Rd</td>\n      <td>Tucson</td>\n      <td>AZ</td>\n      <td>85706</td>\n      <td>32.133679</td>\n      <td>-110.923443</td>\n      <td>3.5</td>\n      <td>191</td>\n      <td>1</td>\n      <td>{'RestaurantsPriceRange2': '2', 'BusinessAccep...</td>\n      <td>Japanese, Restaurants, Sushi Bars</td>\n      <td>{'Monday': '11:0-20:0', 'Tuesday': '11:0-20:0'...</td>\n    </tr>\n    <tr>\n      <th>3</th>\n      <td>XyGRDrgCK0z4CiA6nhwEaw</td>\n      <td>Persian Room Fine Dining</td>\n      <td>9290 N Thornydale Rd, Ste 100</td>\n      <td>Tucson</td>\n      <td>AZ</td>\n      <td>85742</td>\n      <td>32.375016</td>\n      <td>-111.046320</td>\n      <td>4.5</td>\n      <td>258</td>\n      <td>1</td>\n      <td>{'Alcohol': \"'full_bar'\", 'GoodForMeal': \"{'de...</td>\n      <td>Restaurants, Persian/Iranian, Mediterranean</td>\n      <td>{'Monday': '11:0-21:30', 'Tuesday': '11:0-21:3...</td>\n    </tr>\n    <tr>\n      <th>4</th>\n      <td>-3-6BB10tIWNKGEF0Es2BA</td>\n      <td>The 81 Hong Kong Cafe</td>\n      <td>625 E Wetmore Rd, Ste 109</td>\n      <td>Tucson</td>\n      <td>AZ</td>\n      <td>85705</td>\n      <td>32.288540</td>\n      <td>-110.963144</td>\n      <td>4.0</td>\n      <td>133</td>\n      <td>1</td>\n      <td>{'Alcohol': \"u'none'\", 'DogsAllowed': 'False',...</td>\n      <td>Coffee &amp; Tea, Asian Fusion, Food, Bubble Tea, ...</td>\n      <td>{'Monday': '0:0-0:0', 'Wednesday': '10:0-21:0'...</td>\n    </tr>\n  </tbody>\n</table>\n</div>"
     },
     "execution_count": 37,
     "metadata": {},
     "output_type": "execute_result"
    }
   ],
   "source": [
    "df_b.head()"
   ]
  },
  {
   "cell_type": "code",
   "execution_count": 38,
   "metadata": {
    "ExecuteTime": {
     "end_time": "2023-10-08T21:10:52.020974800Z",
     "start_time": "2023-10-08T21:10:51.879939400Z"
    }
   },
   "outputs": [],
   "source": [
    "category = []\n",
    "for i, x in df_b.iterrows():\n",
    "    lis = x['categories'].split(', ')\n",
    "    for j in lis:\n",
    "        if any(substring in j for substring in ['Restaurants','Food']):\n",
    "            pass\n",
    "        else:\n",
    "            value = j\n",
    "            break\n",
    "    if value:\n",
    "        value.strip()\n",
    "        category.append(value)\n",
    "    else:\n",
    "        category = 'None'"
   ]
  },
  {
   "cell_type": "code",
   "execution_count": 39,
   "metadata": {
    "ExecuteTime": {
     "end_time": "2023-10-08T21:10:52.036599500Z",
     "start_time": "2023-10-08T21:10:51.911268100Z"
    }
   },
   "outputs": [
    {
     "data": {
      "text/plain": "['Salad',\n 'Mexican',\n 'Japanese',\n 'Persian/Iranian',\n 'Coffee & Tea',\n 'Cocktail Bars',\n 'Sports Bars',\n 'Nightlife',\n 'Sushi Bars',\n 'Delis',\n 'Dim Sum',\n 'Beer',\n 'Mexican',\n 'Breakfast & Brunch',\n 'Mexican',\n 'Arts & Entertainment',\n 'Vegetarian',\n 'Tacos',\n 'Chicken Wings',\n 'Mexican',\n 'Barbeque',\n 'Grocery',\n 'Vegetarian',\n 'Salad',\n 'Mexican',\n 'Mexican',\n 'Burgers',\n 'Seafood',\n 'Latin American',\n 'Italian',\n 'Nightlife',\n 'Mexican',\n 'Chinese',\n 'Cafes',\n 'Bars',\n 'Italian',\n 'French',\n 'Breakfast & Brunch',\n 'Italian',\n 'Mexican',\n 'Salad',\n 'Hot Dogs',\n 'Noodles',\n 'Bakeries',\n 'Sandwiches',\n 'Nightlife',\n 'Cheesesteaks',\n 'Nightlife',\n 'Sports Bars',\n 'Event Planning & Services',\n 'Diners',\n 'Diners',\n 'Chinese',\n 'Diners',\n 'Japanese',\n 'Italian',\n 'Pizza',\n 'Caribbean',\n 'Gastropubs',\n 'Mexican',\n 'Bars',\n 'Wine Bars',\n 'Cafes',\n 'American (New)',\n 'Sandwiches',\n 'Pubs',\n 'American (New)',\n 'Street Vendors',\n 'Breakfast & Brunch',\n 'Vietnamese',\n 'American (New)',\n 'Seafood',\n 'Steakhouses',\n 'Sushi Bars',\n 'Tex-Mex',\n 'Mexican',\n 'Donuts',\n 'Nightlife',\n 'American (Traditional)',\n 'Meat Shops',\n 'Indian',\n 'Thai',\n 'Mexican',\n 'Latin American',\n 'Mexican',\n 'Mexican',\n 'Bars',\n 'Event Planning & Services',\n 'Mexican',\n 'American (Traditional)',\n 'Tacos',\n 'Buffets',\n 'Teppanyaki',\n 'Chinese',\n 'Breweries',\n 'Chicken Wings',\n 'Chinese',\n 'African',\n 'Nightlife',\n 'Sports Bars',\n 'Japanese',\n 'Ramen',\n 'Pizza',\n 'Noodles',\n 'Burgers',\n 'Vietnamese',\n 'American (Traditional)',\n 'American (Traditional)',\n 'American (New)',\n 'Cafes',\n 'Mediterranean',\n 'Greek',\n 'Seafood',\n 'Bars',\n 'Italian',\n 'American (Traditional)',\n 'Beer',\n 'Poke',\n 'Mediterranean',\n 'Caterers',\n 'Wine Bars',\n 'Breakfast & Brunch',\n 'Breakfast & Brunch',\n 'Barbeque',\n 'Lounges',\n 'Vegetarian',\n 'Coffee & Tea',\n 'Breakfast & Brunch',\n 'Vietnamese',\n 'Seafood',\n 'Latin American',\n 'Pizza',\n 'American (Traditional)',\n 'Mediterranean',\n 'Asian Fusion',\n 'Event Planning & Services',\n 'Asian Fusion',\n 'Polish',\n 'Breakfast & Brunch',\n 'Bars',\n 'Mexican',\n 'Mexican',\n 'American (Traditional)',\n 'Mexican',\n 'Seafood',\n 'Beer',\n 'Sandwiches',\n 'Noodles',\n 'Japanese',\n 'Mexican',\n 'Mediterranean',\n 'Dim Sum',\n 'Beer',\n 'American (Traditional)',\n 'Coffee & Tea',\n 'American (New)',\n 'Salad',\n 'Event Planning & Services',\n 'Breakfast & Brunch',\n 'Cheesesteaks',\n 'Gluten-Free',\n 'Coffee & Tea',\n 'Burgers',\n 'American (Traditional)',\n 'Beer',\n 'Coffee & Tea',\n 'Italian',\n 'Sandwiches',\n 'Korean',\n 'Nightlife',\n 'Barbeque',\n 'Burgers',\n 'Bakeries',\n 'Barbeque',\n 'Coffee & Tea',\n 'Juice Bars & Smoothies',\n 'Chicken Wings',\n 'Cafes',\n 'Nightlife',\n 'Mexican',\n 'Salad',\n 'Vietnamese',\n 'American (Traditional)',\n 'American (New)',\n 'American (New)',\n 'Barbeque',\n 'Coffee & Tea',\n 'Mexican',\n 'Mexican',\n 'Pizza',\n 'Steakhouses',\n 'Desserts',\n 'Breakfast & Brunch',\n 'Mexican',\n 'Wine Bars',\n 'Italian',\n 'Mexican',\n 'Japanese',\n 'Local Flavor',\n 'Donuts',\n 'Chicken Shop',\n 'Themed Cafes',\n 'Horseback Riding',\n 'Barbeque',\n 'Mexican',\n 'Chinese',\n 'Cafes',\n 'Burgers',\n 'Pizza',\n 'Pizza',\n 'Steakhouses',\n 'Breakfast & Brunch',\n 'Japanese',\n 'Salad',\n 'Hot Dogs',\n 'Bars',\n 'Nightlife',\n 'Steakhouses',\n 'Mediterranean',\n 'American (Traditional)',\n 'Bars',\n 'Breakfast & Brunch',\n 'French',\n 'Gluten-Free',\n 'Event Planning & Services',\n 'Japanese',\n 'American (Traditional)',\n 'Gluten-Free',\n 'Tapas/Small Plates',\n 'Tacos',\n 'American (Traditional)',\n 'American (Traditional)',\n 'Mediterranean',\n 'Nightlife',\n 'Smokehouse',\n 'Nightlife',\n 'Sports Bars',\n 'American (New)',\n 'Burgers',\n 'Cafes',\n 'Bars',\n 'Lounges',\n 'Thai',\n 'Beer',\n 'Grocery',\n 'Pizza',\n 'Mexican',\n 'Seafood',\n 'Sandwiches',\n 'Venues & Event Spaces',\n 'Nightlife',\n 'Sandwiches',\n 'Tacos',\n 'Burgers',\n 'Hotels & Travel',\n 'Breakfast & Brunch',\n 'Mexican',\n 'Pizza',\n 'Tacos',\n 'Steakhouses',\n 'Salad',\n 'American (Traditional)',\n 'Italian',\n 'Mexican',\n 'Pizza',\n 'Sandwiches',\n 'Pubs',\n 'Caterers',\n 'American (Traditional)',\n 'Cocktail Bars',\n 'Sandwiches',\n 'Nightlife',\n 'Japanese',\n 'Sandwiches',\n 'Vegetarian',\n 'Cards & Stationery',\n 'Coffee & Tea',\n 'Nightlife',\n 'Burgers',\n 'Nightlife',\n 'Butcher',\n 'Thai',\n 'Nightlife',\n 'Cafes',\n 'Chinese',\n 'Coffee & Tea',\n 'Mexican',\n 'Event Planning & Services',\n 'Automotive',\n 'Mexican',\n 'Breakfast & Brunch',\n 'Event Planning & Services',\n 'Cocktail Bars',\n 'Coffee & Tea',\n 'Ethnic Grocery',\n 'Shanghainese',\n 'Sushi Bars',\n 'Italian',\n 'Italian',\n 'American (New)',\n 'Sandwiches',\n 'Pizza',\n 'Mexican',\n 'Hotels & Travel',\n 'Italian',\n 'Steakhouses',\n 'Chicken Wings',\n 'Mexican',\n 'Vegan',\n 'Sandwiches',\n 'Poke',\n 'Delis',\n 'Breakfast & Brunch',\n 'Ethiopian',\n 'Indian',\n 'American (New)',\n 'Tex-Mex',\n 'Desserts',\n 'Chinese',\n 'Beer Bar',\n 'Asian Fusion',\n 'Hotels',\n 'Seafood',\n 'Sushi Bars',\n 'Flowers & Gifts',\n 'Burgers',\n 'Diners',\n 'Thai',\n 'Salad',\n 'Steakhouses',\n 'Breakfast & Brunch',\n 'American (Traditional)',\n 'Mexican',\n 'Diners',\n 'Cafes',\n 'Event Planning & Services',\n 'Cafes',\n 'Syrian',\n 'Sushi Bars',\n 'Vegan',\n 'Chinese',\n 'Cafes',\n 'Sushi Bars',\n 'Caribbean',\n 'Chinese',\n 'Diners',\n 'Burgers',\n 'Sandwiches',\n 'American (Traditional)',\n 'Fish & Chips',\n 'Indian',\n 'Breakfast & Brunch',\n 'Religious Organizations',\n 'Chinese',\n 'Asian Fusion',\n 'Japanese',\n 'Middle Eastern',\n 'Nightlife',\n 'Burgers',\n 'Sushi Bars',\n 'Mexican',\n 'Burgers',\n 'Sandwiches',\n 'Burgers',\n 'Nightlife',\n 'American (Traditional)',\n 'Japanese',\n 'American (Traditional)',\n 'American (New)',\n 'Event Planning & Services',\n 'Mexican',\n 'Vegetarian',\n 'Seafood',\n 'Beauty & Spas',\n 'Sports Bars',\n 'Ice Cream & Frozen Yogurt',\n 'Mexican',\n 'Bars',\n 'Indian',\n 'Mexican',\n 'Mexican',\n 'Gluten-Free',\n 'American (Traditional)',\n 'Nightlife',\n 'Thai',\n 'American (New)',\n 'Pizza',\n 'Salad',\n 'Breakfast & Brunch',\n 'Burgers',\n 'Chinese',\n 'Tacos',\n 'Nightlife',\n 'Nightlife',\n 'Breakfast & Brunch',\n 'Sandwiches',\n 'Meat Shops',\n 'Breakfast & Brunch',\n 'Sandwiches',\n 'Bakeries',\n 'Sushi Bars',\n 'Thai',\n 'Local Flavor',\n 'Barbeque',\n 'Pizza',\n 'American (Traditional)',\n 'Gastropubs',\n 'American (Traditional)',\n 'Mexican',\n 'Japanese Curry',\n 'Beer Bar',\n 'Breakfast & Brunch',\n 'American (Traditional)',\n 'Steakhouses',\n 'Golf',\n 'Teppanyaki',\n 'Korean',\n 'Bars',\n 'American (New)',\n 'Greek',\n 'Mexican',\n 'Italian',\n 'Asian Fusion',\n 'Mexican',\n 'Bars',\n 'Cajun/Creole',\n 'Sandwiches',\n 'Delis',\n 'Steakhouses',\n 'Indian',\n 'Italian',\n 'Burgers',\n 'Pasta Shops',\n 'Sushi Bars',\n 'Mexican',\n 'Chicken Wings',\n 'Breakfast & Brunch',\n 'Mexican',\n 'Arts & Entertainment',\n 'Nightlife',\n 'Nightlife',\n 'Mexican',\n 'Seafood',\n 'Italian',\n 'Nightlife',\n 'Nightlife',\n 'Bars',\n 'Burgers',\n 'Mexican',\n 'Gastropubs',\n 'Asian Fusion',\n 'Seafood',\n 'Gluten-Free',\n 'Soup',\n 'Pizza',\n 'American (New)',\n 'Burgers',\n 'Hotels',\n 'Italian',\n 'Vietnamese',\n 'Coffee & Tea',\n 'Barbeque',\n 'Sports Bars',\n 'Mexican',\n 'Basque',\n 'Breakfast & Brunch',\n 'Bars',\n 'Asian Fusion',\n 'Diners',\n 'Delis',\n 'Korean',\n 'Breakfast & Brunch',\n 'Latin American',\n 'Gastropubs',\n 'American (New)',\n 'Arts & Entertainment',\n 'Pizza',\n 'Sandwiches',\n 'Bars',\n 'Beer Gardens',\n 'American (New)',\n 'Beer',\n 'Thai',\n 'Pizza',\n 'Pizza',\n 'Italian',\n 'Chinese',\n 'Mexican',\n 'Bars',\n 'Desserts',\n 'Mediterranean',\n 'Mexican',\n 'Caterers',\n 'Ethiopian',\n 'Sushi Bars',\n 'Breakfast & Brunch',\n 'Nightlife',\n 'Mexican',\n 'Coffee & Tea',\n 'Cocktail Bars',\n 'Tea Rooms',\n 'Vietnamese',\n 'Salad',\n 'Middle Eastern',\n 'Soup',\n 'Cafes',\n 'Bars',\n 'Nightlife',\n 'Chicken Wings',\n 'Mexican',\n 'Soup',\n 'Mexican',\n 'Mexican',\n 'Mexican',\n 'Vietnamese',\n 'Mexican',\n 'Pubs',\n 'Asian Fusion',\n 'Donuts',\n 'Event Planning & Services',\n 'Chinese',\n 'Steakhouses',\n 'Salad',\n 'Waffles',\n 'Korean',\n 'Noodles',\n 'Burgers',\n 'Juice Bars & Smoothies',\n 'Mexican',\n 'Bars',\n 'Thai',\n 'Japanese',\n 'Chinese',\n 'Chinese',\n 'Pizza',\n 'Mediterranean',\n 'Seafood',\n 'Thai',\n 'Noodles',\n 'American (New)',\n 'Breakfast & Brunch',\n 'Italian',\n 'Breakfast & Brunch',\n 'Sports Bars',\n 'Burgers',\n 'Sandwiches',\n 'American (New)',\n 'Italian',\n 'Seafood',\n 'Pizza',\n 'Mediterranean',\n 'Pizza',\n 'Burgers',\n 'Breakfast & Brunch',\n 'Italian',\n 'American (Traditional)',\n 'American (Traditional)',\n 'Japanese',\n 'Nightlife',\n 'Italian',\n 'Pizza',\n 'Latin American',\n 'Japanese',\n 'Cheese Shops',\n 'Burgers',\n 'Tapas/Small Plates',\n 'Salad',\n 'Mexican',\n 'Desserts',\n 'Fondue',\n 'Mexican',\n 'Steakhouses',\n 'Caribbean',\n 'Bars',\n 'American (New)',\n 'Salad',\n 'Asian Fusion',\n 'Barbeque',\n 'Vietnamese',\n 'Delis',\n 'Tex-Mex',\n 'Bakeries',\n 'Mexican',\n 'Caribbean',\n 'Pizza',\n 'Nightlife',\n 'Sports Bars',\n 'Seafood',\n 'Sushi Bars',\n 'Tacos',\n 'Buffets',\n 'Soup',\n 'Chinese',\n 'Burgers',\n 'Chicken Shop',\n 'Steakhouses',\n 'Mediterranean',\n 'Local Flavor',\n 'Breweries',\n 'Sushi Bars',\n 'Desserts',\n 'Vietnamese',\n 'Desserts',\n 'American (Traditional)',\n 'Bars',\n 'American (Traditional)',\n 'Mexican',\n 'Sushi Bars',\n 'Buffets',\n 'Pizza',\n 'Chinese',\n 'Mexican',\n 'Nightlife',\n 'Burgers',\n 'Caterers',\n 'Breweries',\n 'Pizza',\n 'Bakeries',\n 'Japanese',\n 'Mexican',\n 'Vietnamese',\n 'Bars',\n 'Breakfast & Brunch',\n 'American (Traditional)',\n 'Asian Fusion',\n 'Beer',\n 'Coffee & Tea',\n 'Hotels & Travel',\n 'American (Traditional)',\n 'Poke',\n 'Salad',\n 'African',\n 'Caterers',\n 'Cocktail Bars',\n 'Cajun/Creole',\n 'Barbeque',\n 'Hawaiian',\n 'American (New)',\n 'Beer',\n 'American (New)',\n 'Sandwiches',\n 'Hawaiian',\n 'Nightlife',\n 'American (Traditional)',\n 'Street Vendors',\n 'Event Planning & Services',\n 'Thai',\n 'Bakeries',\n 'Diners',\n 'Indian',\n 'Mexican',\n 'Sports Bars',\n 'Italian',\n 'Sushi Bars',\n 'American (New)',\n 'Chinese',\n 'Sandwiches',\n 'Sushi Bars',\n 'Greek',\n 'Mexican',\n 'Salad',\n 'Japanese',\n 'American (Traditional)',\n 'Mexican',\n 'Steakhouses',\n 'Diners',\n 'Hawaiian',\n 'Mexican',\n 'American (New)',\n 'Italian',\n 'Sandwiches',\n 'Burgers',\n 'Delis',\n 'Mexican',\n 'Chinese',\n 'Desserts',\n 'Burgers',\n 'Mexican',\n 'Italian',\n 'Steakhouses',\n 'Bars',\n 'Gluten-Free',\n 'American (Traditional)',\n 'Pizza',\n 'Candy Stores',\n 'Middle Eastern',\n 'Italian',\n 'Burgers',\n 'Desserts',\n 'Sushi Bars',\n 'Caribbean',\n 'Bars',\n 'Mexican',\n 'Bars',\n 'Peruvian',\n 'Coffee & Tea',\n 'Burgers',\n 'Sandwiches',\n 'Korean',\n 'Coffee & Tea',\n 'Bakeries',\n 'Bars']"
     },
     "execution_count": 39,
     "metadata": {},
     "output_type": "execute_result"
    }
   ],
   "source": [
    "category"
   ]
  },
  {
   "cell_type": "code",
   "execution_count": 40,
   "metadata": {
    "ExecuteTime": {
     "end_time": "2023-10-08T21:10:52.083891500Z",
     "start_time": "2023-10-08T21:10:51.926850400Z"
    }
   },
   "outputs": [
    {
     "data": {
      "text/plain": "                business_id                           name  \\\n387  pBl1CSeYKbWMSrqgglIMDw                       Teaspoon   \n282  vr1I1RkSL-m6c-LCAd3O7A  HiFalutin Rapid Western Grill   \n281  kuE88EeEQZLNG_GfDbib4w            Karuna's Thai Plate   \n288  HoKH4Rk7wHfVT-60aYIYwA               Hotrods Old Vail   \n493  U_NCpKQDf3z7qSBjvv4U0Q                     Cafe Desta   \n470  7PbJjm9Oeq9LqM9zKsF-8g                  Seoul Kitchen   \n327  KyxAss4DMrT_GMzcOLE2yg               Pho Can Tho By 1   \n688  AXoq_ze4DyyPDjJk-Ba9Pw                     Curry Leaf   \n89   g4NSr9I8ZWGPTwki5q0ArA    Red's Smokehouse & Tap Room   \n234  KWKKnD3dSoY8hjJPbIlC4g                    Fox & Hound   \n\n                            address    city state  postal_code   latitude  \\\n387                7053 N Oracle Rd  Tucson    AZ        85704  32.335672   \n282                6780 N Oracle Rd  Tucson    AZ        85704  32.330196   \n281                 1917 E Grant Rd  Tucson    AZ        85719  32.250456   \n288             10500 E Old Vail Rd  Tucson    AZ        85747  32.080879   \n493                 758 S Stone Ave  Tucson    AZ        85701  32.212212   \n470            6255 E Golf Links Rd  Tucson    AZ        85711  32.192690   \n327             2746 N Campbell Ave  Tucson    AZ        85719  32.256699   \n688        2510 E Grant Rd, Ste 100  Tucson    AZ        85716  32.249948   \n89   943 E University Blvd, Ste 125  Tucson    AZ        85719  32.232040   \n234           7625 N La Cholla Blvd  Tucson    AZ        85741  32.344371   \n\n      longitude  stars  review_count  is_open  \\\n387 -110.978364    4.0           356        1   \n282 -110.975951    4.0           239        1   \n281 -110.943392    4.0           240        0   \n288 -110.768988    2.5           283        1   \n493 -110.969059    4.5           291        1   \n470 -110.859158    3.5           172        0   \n327 -110.943515    4.0           111        1   \n688 -110.934740    3.5           128        0   \n89  -110.957230    3.5           116        0   \n234 -111.013375    3.0           112        0   \n\n                                            attributes  \\\n387  {'GoodForMeal': \"{'dessert': False, 'latenight...   \n282  {'BusinessParking': \"{'garage': False, 'street...   \n281  {'BikeParking': 'True', 'Alcohol': \"u'none'\", ...   \n288  {'RestaurantsAttire': \"u'casual'\", 'HasTV': 'T...   \n493  {'BusinessAcceptsCreditCards': 'True', 'Restau...   \n470  {'GoodForKids': 'True', 'BusinessAcceptsCredit...   \n327  {'RestaurantsPriceRange2': '2', 'BusinessAccep...   \n688  {'RestaurantsReservations': 'True', 'Restauran...   \n89   {'GoodForDancing': 'False', 'BusinessParking':...   \n234  {'Ambience': \"{'romantic': False, 'intimate': ...   \n\n                                            categories  \\\n387  Food, Restaurants, Salad, Breakfast & Brunch, ...   \n282  Nightlife, Mexican, Barbeque, American (New), ...   \n281                                  Thai, Restaurants   \n288  Automotive, Bars, Restaurants, American (Tradi...   \n493  Ethiopian, Ethnic Food, Food, Specialty Food, ...   \n470                          Food, Korean, Restaurants   \n327  Thai, Vegetarian, Vietnamese, Restaurants, Cof...   \n688  Restaurants, Desserts, Vegetarian, Chicken Sho...   \n89   Restaurants, Food, American (Traditional), Bar...   \n234  Restaurants, Smokehouse, Buffets, American (Tr...   \n\n                                                 hours                category  \n387  {'Monday': '0:0-0:0', 'Tuesday': '8:0-15:0', '...                   Salad  \n282  {'Monday': '11:0-20:30', 'Tuesday': '16:0-21:0...               Nightlife  \n281  {'Tuesday': '17:0-21:0', 'Wednesday': '17:0-21...                    Thai  \n288  {'Wednesday': '11:0-21:0', 'Thursday': '11:0-2...              Automotive  \n493  {'Monday': '11:0-21:0', 'Tuesday': '11:0-21:0'...               Ethiopian  \n470  {'Monday': '11:0-21:0', 'Tuesday': '11:0-21:0'...                  Korean  \n327  {'Monday': '11:0-20:0', 'Tuesday': '11:0-20:0'...                    Thai  \n688  {'Monday': '0:0-0:0', 'Tuesday': '17:0-21:0', ...                Desserts  \n89   {'Monday': '11:0-0:0', 'Tuesday': '11:0-0:0', ...  American (Traditional)  \n234  {'Monday': '11:0-2:0', 'Tuesday': '11:0-2:0', ...              Smokehouse  ",
      "text/html": "<div>\n<style scoped>\n    .dataframe tbody tr th:only-of-type {\n        vertical-align: middle;\n    }\n\n    .dataframe tbody tr th {\n        vertical-align: top;\n    }\n\n    .dataframe thead th {\n        text-align: right;\n    }\n</style>\n<table border=\"1\" class=\"dataframe\">\n  <thead>\n    <tr style=\"text-align: right;\">\n      <th></th>\n      <th>business_id</th>\n      <th>name</th>\n      <th>address</th>\n      <th>city</th>\n      <th>state</th>\n      <th>postal_code</th>\n      <th>latitude</th>\n      <th>longitude</th>\n      <th>stars</th>\n      <th>review_count</th>\n      <th>is_open</th>\n      <th>attributes</th>\n      <th>categories</th>\n      <th>hours</th>\n      <th>category</th>\n    </tr>\n  </thead>\n  <tbody>\n    <tr>\n      <th>387</th>\n      <td>pBl1CSeYKbWMSrqgglIMDw</td>\n      <td>Teaspoon</td>\n      <td>7053 N Oracle Rd</td>\n      <td>Tucson</td>\n      <td>AZ</td>\n      <td>85704</td>\n      <td>32.335672</td>\n      <td>-110.978364</td>\n      <td>4.0</td>\n      <td>356</td>\n      <td>1</td>\n      <td>{'GoodForMeal': \"{'dessert': False, 'latenight...</td>\n      <td>Food, Restaurants, Salad, Breakfast &amp; Brunch, ...</td>\n      <td>{'Monday': '0:0-0:0', 'Tuesday': '8:0-15:0', '...</td>\n      <td>Salad</td>\n    </tr>\n    <tr>\n      <th>282</th>\n      <td>vr1I1RkSL-m6c-LCAd3O7A</td>\n      <td>HiFalutin Rapid Western Grill</td>\n      <td>6780 N Oracle Rd</td>\n      <td>Tucson</td>\n      <td>AZ</td>\n      <td>85704</td>\n      <td>32.330196</td>\n      <td>-110.975951</td>\n      <td>4.0</td>\n      <td>239</td>\n      <td>1</td>\n      <td>{'BusinessParking': \"{'garage': False, 'street...</td>\n      <td>Nightlife, Mexican, Barbeque, American (New), ...</td>\n      <td>{'Monday': '11:0-20:30', 'Tuesday': '16:0-21:0...</td>\n      <td>Nightlife</td>\n    </tr>\n    <tr>\n      <th>281</th>\n      <td>kuE88EeEQZLNG_GfDbib4w</td>\n      <td>Karuna's Thai Plate</td>\n      <td>1917 E Grant Rd</td>\n      <td>Tucson</td>\n      <td>AZ</td>\n      <td>85719</td>\n      <td>32.250456</td>\n      <td>-110.943392</td>\n      <td>4.0</td>\n      <td>240</td>\n      <td>0</td>\n      <td>{'BikeParking': 'True', 'Alcohol': \"u'none'\", ...</td>\n      <td>Thai, Restaurants</td>\n      <td>{'Tuesday': '17:0-21:0', 'Wednesday': '17:0-21...</td>\n      <td>Thai</td>\n    </tr>\n    <tr>\n      <th>288</th>\n      <td>HoKH4Rk7wHfVT-60aYIYwA</td>\n      <td>Hotrods Old Vail</td>\n      <td>10500 E Old Vail Rd</td>\n      <td>Tucson</td>\n      <td>AZ</td>\n      <td>85747</td>\n      <td>32.080879</td>\n      <td>-110.768988</td>\n      <td>2.5</td>\n      <td>283</td>\n      <td>1</td>\n      <td>{'RestaurantsAttire': \"u'casual'\", 'HasTV': 'T...</td>\n      <td>Automotive, Bars, Restaurants, American (Tradi...</td>\n      <td>{'Wednesday': '11:0-21:0', 'Thursday': '11:0-2...</td>\n      <td>Automotive</td>\n    </tr>\n    <tr>\n      <th>493</th>\n      <td>U_NCpKQDf3z7qSBjvv4U0Q</td>\n      <td>Cafe Desta</td>\n      <td>758 S Stone Ave</td>\n      <td>Tucson</td>\n      <td>AZ</td>\n      <td>85701</td>\n      <td>32.212212</td>\n      <td>-110.969059</td>\n      <td>4.5</td>\n      <td>291</td>\n      <td>1</td>\n      <td>{'BusinessAcceptsCreditCards': 'True', 'Restau...</td>\n      <td>Ethiopian, Ethnic Food, Food, Specialty Food, ...</td>\n      <td>{'Monday': '11:0-21:0', 'Tuesday': '11:0-21:0'...</td>\n      <td>Ethiopian</td>\n    </tr>\n    <tr>\n      <th>470</th>\n      <td>7PbJjm9Oeq9LqM9zKsF-8g</td>\n      <td>Seoul Kitchen</td>\n      <td>6255 E Golf Links Rd</td>\n      <td>Tucson</td>\n      <td>AZ</td>\n      <td>85711</td>\n      <td>32.192690</td>\n      <td>-110.859158</td>\n      <td>3.5</td>\n      <td>172</td>\n      <td>0</td>\n      <td>{'GoodForKids': 'True', 'BusinessAcceptsCredit...</td>\n      <td>Food, Korean, Restaurants</td>\n      <td>{'Monday': '11:0-21:0', 'Tuesday': '11:0-21:0'...</td>\n      <td>Korean</td>\n    </tr>\n    <tr>\n      <th>327</th>\n      <td>KyxAss4DMrT_GMzcOLE2yg</td>\n      <td>Pho Can Tho By 1</td>\n      <td>2746 N Campbell Ave</td>\n      <td>Tucson</td>\n      <td>AZ</td>\n      <td>85719</td>\n      <td>32.256699</td>\n      <td>-110.943515</td>\n      <td>4.0</td>\n      <td>111</td>\n      <td>1</td>\n      <td>{'RestaurantsPriceRange2': '2', 'BusinessAccep...</td>\n      <td>Thai, Vegetarian, Vietnamese, Restaurants, Cof...</td>\n      <td>{'Monday': '11:0-20:0', 'Tuesday': '11:0-20:0'...</td>\n      <td>Thai</td>\n    </tr>\n    <tr>\n      <th>688</th>\n      <td>AXoq_ze4DyyPDjJk-Ba9Pw</td>\n      <td>Curry Leaf</td>\n      <td>2510 E Grant Rd, Ste 100</td>\n      <td>Tucson</td>\n      <td>AZ</td>\n      <td>85716</td>\n      <td>32.249948</td>\n      <td>-110.934740</td>\n      <td>3.5</td>\n      <td>128</td>\n      <td>0</td>\n      <td>{'RestaurantsReservations': 'True', 'Restauran...</td>\n      <td>Restaurants, Desserts, Vegetarian, Chicken Sho...</td>\n      <td>{'Monday': '0:0-0:0', 'Tuesday': '17:0-21:0', ...</td>\n      <td>Desserts</td>\n    </tr>\n    <tr>\n      <th>89</th>\n      <td>g4NSr9I8ZWGPTwki5q0ArA</td>\n      <td>Red's Smokehouse &amp; Tap Room</td>\n      <td>943 E University Blvd, Ste 125</td>\n      <td>Tucson</td>\n      <td>AZ</td>\n      <td>85719</td>\n      <td>32.232040</td>\n      <td>-110.957230</td>\n      <td>3.5</td>\n      <td>116</td>\n      <td>0</td>\n      <td>{'GoodForDancing': 'False', 'BusinessParking':...</td>\n      <td>Restaurants, Food, American (Traditional), Bar...</td>\n      <td>{'Monday': '11:0-0:0', 'Tuesday': '11:0-0:0', ...</td>\n      <td>American (Traditional)</td>\n    </tr>\n    <tr>\n      <th>234</th>\n      <td>KWKKnD3dSoY8hjJPbIlC4g</td>\n      <td>Fox &amp; Hound</td>\n      <td>7625 N La Cholla Blvd</td>\n      <td>Tucson</td>\n      <td>AZ</td>\n      <td>85741</td>\n      <td>32.344371</td>\n      <td>-111.013375</td>\n      <td>3.0</td>\n      <td>112</td>\n      <td>0</td>\n      <td>{'Ambience': \"{'romantic': False, 'intimate': ...</td>\n      <td>Restaurants, Smokehouse, Buffets, American (Tr...</td>\n      <td>{'Monday': '11:0-2:0', 'Tuesday': '11:0-2:0', ...</td>\n      <td>Smokehouse</td>\n    </tr>\n  </tbody>\n</table>\n</div>"
     },
     "execution_count": 40,
     "metadata": {},
     "output_type": "execute_result"
    }
   ],
   "source": [
    "df_b['category'] = category\n",
    "df_b.sample(n=10)"
   ]
  },
  {
   "cell_type": "code",
   "execution_count": 41,
   "metadata": {
    "ExecuteTime": {
     "end_time": "2023-10-08T21:10:52.083891500Z",
     "start_time": "2023-10-08T21:10:51.942441Z"
    }
   },
   "outputs": [
    {
     "data": {
      "text/plain": "array(['Salad', 'Mexican', 'Japanese', 'Persian/Iranian', 'Coffee & Tea',\n       'Cocktail Bars', 'Sports Bars', 'Nightlife', 'Sushi Bars', 'Delis',\n       'Dim Sum', 'Beer', 'Breakfast & Brunch', 'Arts & Entertainment',\n       'Vegetarian', 'Tacos', 'Chicken Wings', 'Barbeque', 'Grocery',\n       'Burgers', 'Seafood', 'Latin American', 'Italian', 'Chinese',\n       'Cafes', 'Bars', 'French', 'Hot Dogs', 'Noodles', 'Bakeries',\n       'Sandwiches', 'Cheesesteaks', 'Event Planning & Services',\n       'Diners', 'Pizza', 'Caribbean', 'Gastropubs', 'Wine Bars',\n       'American (New)', 'Pubs', 'Street Vendors', 'Vietnamese',\n       'Steakhouses', 'Tex-Mex', 'Donuts', 'American (Traditional)',\n       'Meat Shops', 'Indian', 'Thai', 'Buffets', 'Teppanyaki',\n       'Breweries', 'African', 'Ramen', 'Mediterranean', 'Greek', 'Poke',\n       'Caterers', 'Lounges', 'Asian Fusion', 'Polish', 'Gluten-Free',\n       'Korean', 'Juice Bars & Smoothies', 'Desserts', 'Local Flavor',\n       'Chicken Shop', 'Themed Cafes', 'Horseback Riding',\n       'Tapas/Small Plates', 'Smokehouse', 'Venues & Event Spaces',\n       'Hotels & Travel', 'Cards & Stationery', 'Butcher', 'Automotive',\n       'Ethnic Grocery', 'Shanghainese', 'Vegan', 'Ethiopian', 'Beer Bar',\n       'Hotels', 'Flowers & Gifts', 'Syrian', 'Fish & Chips',\n       'Religious Organizations', 'Middle Eastern', 'Beauty & Spas',\n       'Ice Cream & Frozen Yogurt', 'Japanese Curry', 'Golf',\n       'Cajun/Creole', 'Pasta Shops', 'Soup', 'Basque', 'Beer Gardens',\n       'Tea Rooms', 'Waffles', 'Cheese Shops', 'Fondue', 'Hawaiian',\n       'Candy Stores', 'Peruvian'], dtype=object)"
     },
     "execution_count": 41,
     "metadata": {},
     "output_type": "execute_result"
    }
   ],
   "source": [
    "df_b['category'].unique()"
   ]
  },
  {
   "cell_type": "code",
   "execution_count": 42,
   "metadata": {
    "ExecuteTime": {
     "end_time": "2023-10-08T21:10:52.099524700Z",
     "start_time": "2023-10-08T21:10:51.962569900Z"
    }
   },
   "outputs": [],
   "source": [
    "df_b = df_b[df_b['category'].isin(['Italian', 'Mexican', 'Ice Cream & Frozen Yogurt', 'Chinese',\n",
    "       'Pizza', 'French', 'Buffets', 'Bars', 'Sandwiches',\n",
    "       'Middle Eastern', 'Dive Bars', 'Delis', 'American (Traditional)',\n",
    "       'Steakhouses', 'Seafood', 'Bakeries', 'Coffee & Tea', 'Japanese',\n",
    "       'Thai', 'Tapas/Small Plates', 'Southern', 'Korean',\n",
    "       'Chicken Wings', 'Breakfast & Brunch', 'Street Vendors', 'Burgers',\n",
    "       'Vegetarian', 'Ramen', 'Filipino', 'Vietnamese'\n",
    "       'Desserts', 'American (New)', 'Asian Fusion', 'Noodles', 'Tex-Mex', 'Ethiopian', 'Soup', 'Sushi Bars', 'Gluten-Free', 'Beer',\n",
    "       'Pubs', 'Barbeque', 'Poke', 'Hot Dogs',  'Caribbean','Chicken Shop', 'Cafes', 'Hookah Bars', 'Hawaiian', 'Diners',\n",
    "       'Waffles', 'Brazilian', 'Latin American', 'Wine Bars',\n",
    "       'Salad', 'Bagels', 'Argentine', 'Gastropubs', \n",
    "       'Lounges', 'Cheesesteaks', 'Tapas Bars', 'Grocery', 'Indian',\n",
    "       'Butcher', 'Cajun/Creole', 'Modern European', 'Gelato', 'Donuts',\n",
    "        'Dentists', 'Pasta Shops', 'Greek', 'Mongolian',\n",
    "       'Bistros', 'Arabian', 'Tacos', 'Cocktail Bars', \n",
    "       'Mediterranean', 'Sports Bars',\n",
    "       'Cantonese','Cafeteria', 'Wineries', 'Taiwanese',\n",
    "       'Peruvian', 'Szechuan', 'Vegan', 'Coffee Roasteries',\n",
    "        'Shaved Ice', 'Custom Cakes', 'Patisserie/Cake Shop', 'Spanish',\n",
    "       'Fish & Chips', 'Tea Rooms', 'Cuban', 'Breweries', 'Shanghainese', 'Bubble Tea',\n",
    "       'Themed Cafes', 'Teppanyaki', 'Venezuelan', 'Pretzels', 'Creperies', 'Pakistani',\n",
    "       'Brasseries', 'Singaporean',\n",
    "       'Japanese Curry', 'German', 'Afghan', 'New Mexican Cuisine',\n",
    "       'Pan Asian', 'Gay Bars', 'Beer Bar', 'Hot Pot',\n",
    "       'Seafood Markets', 'Persian/Iranian',\n",
    "       'Irish', 'Conveyor Belt Sushi','Turkish',\n",
    "       'Guamanian', 'Falafel', 'Ukrainian', 'Russian',\n",
    "       'Laotian', 'Smokehouse', 'Puerto Rican',\n",
    "       'Dinner Theater', 'Piano Bars', 'Beer Gardens','British', 'Lebanese',\n",
    "        'African', 'Malaysian', 'South African',\n",
    "       'Belgian', 'Kebab', 'Coffeeshops',\n",
    "       'Colombian', 'Moroccan',\n",
    "       'Acai Bowls'])]"
   ]
  },
  {
   "cell_type": "code",
   "execution_count": 43,
   "metadata": {
    "ExecuteTime": {
     "end_time": "2023-10-08T21:10:52.115152900Z",
     "start_time": "2023-10-08T21:10:51.974087300Z"
    }
   },
   "outputs": [
    {
     "data": {
      "text/plain": "605"
     },
     "execution_count": 43,
     "metadata": {},
     "output_type": "execute_result"
    }
   ],
   "source": [
    "len(df_b)"
   ]
  },
  {
   "cell_type": "code",
   "execution_count": 44,
   "metadata": {
    "ExecuteTime": {
     "end_time": "2023-10-08T21:10:52.130739600Z",
     "start_time": "2023-10-08T21:10:51.989724300Z"
    }
   },
   "outputs": [],
   "source": [
    "df_join_3= df_join_2[df_join_2['business_id'].isin(df_b['business_id'])]"
   ]
  },
  {
   "cell_type": "code",
   "execution_count": 45,
   "metadata": {
    "ExecuteTime": {
     "end_time": "2023-10-08T21:10:52.130739600Z",
     "start_time": "2023-10-08T21:10:52.020974800Z"
    }
   },
   "outputs": [
    {
     "data": {
      "text/plain": "166498"
     },
     "execution_count": 45,
     "metadata": {},
     "output_type": "execute_result"
    }
   ],
   "source": [
    "len(df_join_3)"
   ]
  },
  {
   "cell_type": "code",
   "execution_count": 46,
   "metadata": {
    "ExecuteTime": {
     "end_time": "2023-10-08T21:10:52.263140300Z",
     "start_time": "2023-10-08T21:10:52.036599500Z"
    }
   },
   "outputs": [
    {
     "data": {
      "text/plain": "array(['Tacos', 'Sushi Bars', 'Latin American', 'Chinese', 'Vegetarian',\n       'Cafes', 'Breakfast & Brunch', 'Cocktail Bars', 'Mexican',\n       'Diners', 'Salad', 'Grocery', 'Noodles', 'Bakeries', 'Italian',\n       'Sandwiches', 'Bars', 'Delis', 'Barbeque', 'Persian/Iranian',\n       'Beer', 'French', 'Chicken Wings', 'Japanese', 'Sports Bars',\n       'Hot Dogs', 'Cheesesteaks', 'Burgers', 'Seafood', 'Coffee & Tea',\n       'American (Traditional)', 'Pubs', 'Street Vendors', 'Wine Bars',\n       'Tex-Mex', 'Greek', 'Steakhouses', 'Gastropubs', 'Ramen',\n       'Caribbean', 'Thai', 'Indian', 'Buffets', 'African', 'Teppanyaki',\n       'Poke', 'American (New)', 'Donuts', 'Pizza', 'Breweries',\n       'Mediterranean', 'Lounges', 'Gluten-Free', 'Chicken Shop',\n       'Asian Fusion', 'Korean', 'Themed Cafes', 'Tapas/Small Plates',\n       'Smokehouse', 'Butcher', 'Vegan', 'Beer Bar', 'Shanghainese',\n       'Ethiopian', 'Fish & Chips', 'Ice Cream & Frozen Yogurt',\n       'Cajun/Creole', 'Middle Eastern', 'Japanese Curry', 'Soup',\n       'Pasta Shops', 'Beer Gardens', 'Waffles', 'Tea Rooms', 'Hawaiian',\n       'Peruvian'], dtype=object)"
     },
     "execution_count": 46,
     "metadata": {},
     "output_type": "execute_result"
    }
   ],
   "source": [
    "df_temp = pd.merge(df_join_3, df_b[['business_id','category']], on='business_id')\n",
    "df_temp['category'].unique()"
   ]
  },
  {
   "cell_type": "code",
   "execution_count": 46,
   "metadata": {
    "ExecuteTime": {
     "end_time": "2023-10-08T21:10:52.272144300Z",
     "start_time": "2023-10-08T21:10:52.083891500Z"
    }
   },
   "outputs": [],
   "source": []
  }
 ],
 "metadata": {
  "kernelspec": {
   "display_name": "Python 3",
   "language": "python",
   "name": "python3"
  },
  "language_info": {
   "codemirror_mode": {
    "name": "ipython",
    "version": 3
   },
   "file_extension": ".py",
   "mimetype": "text/x-python",
   "name": "python",
   "nbconvert_exporter": "python",
   "pygments_lexer": "ipython3",
   "version": "3.7.4"
  }
 },
 "nbformat": 4,
 "nbformat_minor": 2
}
