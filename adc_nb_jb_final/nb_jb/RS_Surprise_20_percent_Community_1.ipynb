{
 "cells": [
  {
   "cell_type": "code",
   "execution_count": 1,
   "id": "initial_id",
   "metadata": {
    "collapsed": true,
    "ExecuteTime": {
     "end_time": "2023-10-08T21:38:04.164739500Z",
     "start_time": "2023-10-08T21:38:03.667154400Z"
    }
   },
   "outputs": [],
   "source": [
    "# !pip install tqdm"
   ]
  },
  {
   "cell_type": "code",
   "execution_count": 2,
   "outputs": [],
   "source": [
    "import pandas as pd\n",
    "import tarfile\n",
    "from tqdm import tqdm, tqdm_notebook, tnrange\n",
    "import json\n",
    "import numpy as np\n",
    "import time\n",
    "from copy import deepcopy"
   ],
   "metadata": {
    "collapsed": false,
    "ExecuteTime": {
     "end_time": "2023-10-08T21:38:04.164739500Z",
     "start_time": "2023-10-08T21:38:03.682778700Z"
    }
   },
   "id": "e7538409b4c33560"
  },
  {
   "cell_type": "code",
   "execution_count": 3,
   "outputs": [],
   "source": [
    "## The restaurants in the five candidate cities\n",
    "df_res_bus = pd.read_csv('../datasets/comunidades/business_community_1.csv')\n",
    "reviews = pd.read_csv('../datasets/comunidades/review_community_1.csv')\n",
    "users = pd.read_csv('../datasets/comunidades/user_community_1.csv')\n"
   ],
   "metadata": {
    "collapsed": false,
    "ExecuteTime": {
     "end_time": "2023-10-08T21:38:04.164739500Z",
     "start_time": "2023-10-08T21:38:03.698372300Z"
    }
   },
   "id": "c169db1ae9d571f1"
  },
  {
   "cell_type": "code",
   "execution_count": 4,
   "outputs": [],
   "source": [
    "df_res_bus = df_res_bus.rename(columns={\"name\":\"restaurant\"})"
   ],
   "metadata": {
    "collapsed": false,
    "ExecuteTime": {
     "end_time": "2023-10-08T21:38:04.164739500Z",
     "start_time": "2023-10-08T21:38:03.839939900Z"
    }
   },
   "id": "24138e44ef2d9f8a"
  },
  {
   "cell_type": "code",
   "execution_count": 5,
   "outputs": [
    {
     "data": {
      "text/plain": "              business_id                restaurant  \\\n0  XyGRDrgCK0z4CiA6nhwEaw  Persian Room Fine Dining   \n1  5Ce3lZksYVkCbrihqylVHQ                Sushi Nara   \n2  xwKYBPO0ByGlkvNcr8FdqQ            Le Rendez-vous   \n3  SVJJIoAiW3vHwoSpVnUcLQ    Pastiche Modern Eatery   \n4  p7tSGmWpFV246aYhwODgBg        O Sushi Restaurant   \n\n                         address    city state  postal_code   latitude  \\\n0  9290 N Thornydale Rd, Ste 100  Tucson    AZ        85742  32.375016   \n1               64 N Harrison Rd  Tucson    AZ        85748  32.222552   \n2          3844 E Fort Lowell Rd  Tucson    AZ        85716  32.264930   \n3            3025 N Campbell Ave  Tucson    AZ        85719  32.261920   \n4           4689 E Speedway Blvd  Tucson    AZ        85712  32.236944   \n\n    longitude  stars  review_count  is_open  \\\n0 -111.046320    4.5           258        1   \n1 -110.788132    4.5           159        1   \n2 -110.910544    4.0           223        1   \n3 -110.944474    3.5           313        1   \n4 -110.892965    4.5           199        1   \n\n                                          attributes  \\\n0  {'Alcohol': \"'full_bar'\", 'GoodForMeal': \"{'de...   \n1  {'RestaurantsPriceRange2': '2', 'HasTV': 'True...   \n2  {'BusinessParking': \"{'garage': False, 'street...   \n3  {'WiFi': \"'free'\", 'HasTV': 'True', 'Restauran...   \n4  {'RestaurantsGoodForGroups': 'True', 'Restaura...   \n\n                                          categories  \\\n0        Restaurants, Persian/Iranian, Mediterranean   \n1                  Sushi Bars, Japanese, Restaurants   \n2            Restaurants, French, Tapas/Small Plates   \n3  American (New), American (Traditional), Restau...   \n4                  Sushi Bars, Restaurants, Japanese   \n\n                                               hours  \n0  {'Monday': '11:0-21:30', 'Tuesday': '11:0-21:3...  \n1  {'Monday': '16:30-20:0', 'Tuesday': '16:30-20:...  \n2  {'Wednesday': '16:0-21:0', 'Thursday': '16:0-2...  \n3  {'Monday': '7:0-21:0', 'Tuesday': '7:0-21:0', ...  \n4  {'Monday': '16:30-20:30', 'Tuesday': '16:30-20...  ",
      "text/html": "<div>\n<style scoped>\n    .dataframe tbody tr th:only-of-type {\n        vertical-align: middle;\n    }\n\n    .dataframe tbody tr th {\n        vertical-align: top;\n    }\n\n    .dataframe thead th {\n        text-align: right;\n    }\n</style>\n<table border=\"1\" class=\"dataframe\">\n  <thead>\n    <tr style=\"text-align: right;\">\n      <th></th>\n      <th>business_id</th>\n      <th>restaurant</th>\n      <th>address</th>\n      <th>city</th>\n      <th>state</th>\n      <th>postal_code</th>\n      <th>latitude</th>\n      <th>longitude</th>\n      <th>stars</th>\n      <th>review_count</th>\n      <th>is_open</th>\n      <th>attributes</th>\n      <th>categories</th>\n      <th>hours</th>\n    </tr>\n  </thead>\n  <tbody>\n    <tr>\n      <th>0</th>\n      <td>XyGRDrgCK0z4CiA6nhwEaw</td>\n      <td>Persian Room Fine Dining</td>\n      <td>9290 N Thornydale Rd, Ste 100</td>\n      <td>Tucson</td>\n      <td>AZ</td>\n      <td>85742</td>\n      <td>32.375016</td>\n      <td>-111.046320</td>\n      <td>4.5</td>\n      <td>258</td>\n      <td>1</td>\n      <td>{'Alcohol': \"'full_bar'\", 'GoodForMeal': \"{'de...</td>\n      <td>Restaurants, Persian/Iranian, Mediterranean</td>\n      <td>{'Monday': '11:0-21:30', 'Tuesday': '11:0-21:3...</td>\n    </tr>\n    <tr>\n      <th>1</th>\n      <td>5Ce3lZksYVkCbrihqylVHQ</td>\n      <td>Sushi Nara</td>\n      <td>64 N Harrison Rd</td>\n      <td>Tucson</td>\n      <td>AZ</td>\n      <td>85748</td>\n      <td>32.222552</td>\n      <td>-110.788132</td>\n      <td>4.5</td>\n      <td>159</td>\n      <td>1</td>\n      <td>{'RestaurantsPriceRange2': '2', 'HasTV': 'True...</td>\n      <td>Sushi Bars, Japanese, Restaurants</td>\n      <td>{'Monday': '16:30-20:0', 'Tuesday': '16:30-20:...</td>\n    </tr>\n    <tr>\n      <th>2</th>\n      <td>xwKYBPO0ByGlkvNcr8FdqQ</td>\n      <td>Le Rendez-vous</td>\n      <td>3844 E Fort Lowell Rd</td>\n      <td>Tucson</td>\n      <td>AZ</td>\n      <td>85716</td>\n      <td>32.264930</td>\n      <td>-110.910544</td>\n      <td>4.0</td>\n      <td>223</td>\n      <td>1</td>\n      <td>{'BusinessParking': \"{'garage': False, 'street...</td>\n      <td>Restaurants, French, Tapas/Small Plates</td>\n      <td>{'Wednesday': '16:0-21:0', 'Thursday': '16:0-2...</td>\n    </tr>\n    <tr>\n      <th>3</th>\n      <td>SVJJIoAiW3vHwoSpVnUcLQ</td>\n      <td>Pastiche Modern Eatery</td>\n      <td>3025 N Campbell Ave</td>\n      <td>Tucson</td>\n      <td>AZ</td>\n      <td>85719</td>\n      <td>32.261920</td>\n      <td>-110.944474</td>\n      <td>3.5</td>\n      <td>313</td>\n      <td>1</td>\n      <td>{'WiFi': \"'free'\", 'HasTV': 'True', 'Restauran...</td>\n      <td>American (New), American (Traditional), Restau...</td>\n      <td>{'Monday': '7:0-21:0', 'Tuesday': '7:0-21:0', ...</td>\n    </tr>\n    <tr>\n      <th>4</th>\n      <td>p7tSGmWpFV246aYhwODgBg</td>\n      <td>O Sushi Restaurant</td>\n      <td>4689 E Speedway Blvd</td>\n      <td>Tucson</td>\n      <td>AZ</td>\n      <td>85712</td>\n      <td>32.236944</td>\n      <td>-110.892965</td>\n      <td>4.5</td>\n      <td>199</td>\n      <td>1</td>\n      <td>{'RestaurantsGoodForGroups': 'True', 'Restaura...</td>\n      <td>Sushi Bars, Restaurants, Japanese</td>\n      <td>{'Monday': '16:30-20:30', 'Tuesday': '16:30-20...</td>\n    </tr>\n  </tbody>\n</table>\n</div>"
     },
     "execution_count": 5,
     "metadata": {},
     "output_type": "execute_result"
    }
   ],
   "source": [
    "df_res_bus.head()"
   ],
   "metadata": {
    "collapsed": false,
    "ExecuteTime": {
     "end_time": "2023-10-08T21:38:04.164739500Z",
     "start_time": "2023-10-08T21:38:03.855529700Z"
    }
   },
   "id": "acfc65879c217ddf"
  },
  {
   "cell_type": "code",
   "execution_count": 6,
   "outputs": [],
   "source": [
    "reviews = reviews.rename(columns={\"stars\":\"rating\"})\n"
   ],
   "metadata": {
    "collapsed": false,
    "ExecuteTime": {
     "end_time": "2023-10-08T21:38:04.164739500Z",
     "start_time": "2023-10-08T21:38:03.886821600Z"
    }
   },
   "id": "e1aae387435eb41f"
  },
  {
   "cell_type": "code",
   "execution_count": 7,
   "outputs": [
    {
     "data": {
      "text/plain": "                review_id                 user_id             business_id  \\\n0  ymhbOMW63B_vGaRFR3XT0A  yZdAhQ_KmKuCZmbBy9YDQg  5Ce3lZksYVkCbrihqylVHQ   \n1  9ntCEU8M_YBa0TIxxM1roA  BMXA8HiAuOQboRikPt6Xgg  XyGRDrgCK0z4CiA6nhwEaw   \n2  KubhmZ6MADKfAh0TucXZeQ  iW4scl2ezCV6IGfOk6OtyQ  xwKYBPO0ByGlkvNcr8FdqQ   \n3  jT0mpPypQH_eFoyIHhuM6A  To1Pq4io8oCT8f6ryRdPeQ  5Ce3lZksYVkCbrihqylVHQ   \n4  mr8-n6rmPXqgAe0O5YG0jQ  4RZJaKdymRQ5z59ZMFznTQ  xwKYBPO0ByGlkvNcr8FdqQ   \n\n   rating  useful  funny  cool  \\\n0       5       0      0     0   \n1       3       3      2     0   \n2       5       0      0     0   \n3       5       2      0     3   \n4       5       2      0     1   \n\n                                                text                 date  \n0  I just started going to Sushi Nara this month ...  2014-07-25 17:56:26  \n1  Ok. I have had Persian food before as it is on...  2018-07-17 02:44:51  \n2  Always outstanding. This evening, they were a ...  2017-04-30 03:57:53  \n3  My kitty and I love this sushi place!! We love...  2015-10-07 23:33:00  \n4  I took my gf for our one year anniversary here...  2014-09-10 04:16:53  ",
      "text/html": "<div>\n<style scoped>\n    .dataframe tbody tr th:only-of-type {\n        vertical-align: middle;\n    }\n\n    .dataframe tbody tr th {\n        vertical-align: top;\n    }\n\n    .dataframe thead th {\n        text-align: right;\n    }\n</style>\n<table border=\"1\" class=\"dataframe\">\n  <thead>\n    <tr style=\"text-align: right;\">\n      <th></th>\n      <th>review_id</th>\n      <th>user_id</th>\n      <th>business_id</th>\n      <th>rating</th>\n      <th>useful</th>\n      <th>funny</th>\n      <th>cool</th>\n      <th>text</th>\n      <th>date</th>\n    </tr>\n  </thead>\n  <tbody>\n    <tr>\n      <th>0</th>\n      <td>ymhbOMW63B_vGaRFR3XT0A</td>\n      <td>yZdAhQ_KmKuCZmbBy9YDQg</td>\n      <td>5Ce3lZksYVkCbrihqylVHQ</td>\n      <td>5</td>\n      <td>0</td>\n      <td>0</td>\n      <td>0</td>\n      <td>I just started going to Sushi Nara this month ...</td>\n      <td>2014-07-25 17:56:26</td>\n    </tr>\n    <tr>\n      <th>1</th>\n      <td>9ntCEU8M_YBa0TIxxM1roA</td>\n      <td>BMXA8HiAuOQboRikPt6Xgg</td>\n      <td>XyGRDrgCK0z4CiA6nhwEaw</td>\n      <td>3</td>\n      <td>3</td>\n      <td>2</td>\n      <td>0</td>\n      <td>Ok. I have had Persian food before as it is on...</td>\n      <td>2018-07-17 02:44:51</td>\n    </tr>\n    <tr>\n      <th>2</th>\n      <td>KubhmZ6MADKfAh0TucXZeQ</td>\n      <td>iW4scl2ezCV6IGfOk6OtyQ</td>\n      <td>xwKYBPO0ByGlkvNcr8FdqQ</td>\n      <td>5</td>\n      <td>0</td>\n      <td>0</td>\n      <td>0</td>\n      <td>Always outstanding. This evening, they were a ...</td>\n      <td>2017-04-30 03:57:53</td>\n    </tr>\n    <tr>\n      <th>3</th>\n      <td>jT0mpPypQH_eFoyIHhuM6A</td>\n      <td>To1Pq4io8oCT8f6ryRdPeQ</td>\n      <td>5Ce3lZksYVkCbrihqylVHQ</td>\n      <td>5</td>\n      <td>2</td>\n      <td>0</td>\n      <td>3</td>\n      <td>My kitty and I love this sushi place!! We love...</td>\n      <td>2015-10-07 23:33:00</td>\n    </tr>\n    <tr>\n      <th>4</th>\n      <td>mr8-n6rmPXqgAe0O5YG0jQ</td>\n      <td>4RZJaKdymRQ5z59ZMFznTQ</td>\n      <td>xwKYBPO0ByGlkvNcr8FdqQ</td>\n      <td>5</td>\n      <td>2</td>\n      <td>0</td>\n      <td>1</td>\n      <td>I took my gf for our one year anniversary here...</td>\n      <td>2014-09-10 04:16:53</td>\n    </tr>\n  </tbody>\n</table>\n</div>"
     },
     "execution_count": 7,
     "metadata": {},
     "output_type": "execute_result"
    }
   ],
   "source": [
    "reviews.head()"
   ],
   "metadata": {
    "collapsed": false,
    "ExecuteTime": {
     "end_time": "2023-10-08T21:38:04.164739500Z",
     "start_time": "2023-10-08T21:38:03.902404400Z"
    }
   },
   "id": "873c21c96297c555"
  },
  {
   "cell_type": "code",
   "execution_count": 8,
   "outputs": [
    {
     "name": "stdout",
     "output_type": "stream",
     "text": [
      "Unique Users: 5598, unique restaurants: 34\n"
     ]
    }
   ],
   "source": [
    "#number of unique users and restaurants\n",
    "n_users = len(reviews.user_id.unique())\n",
    "n_restaurants = len(reviews.business_id.unique())\n",
    "print('Unique Users: {0}, unique restaurants: {1}'.format(n_users, n_restaurants))"
   ],
   "metadata": {
    "collapsed": false,
    "ExecuteTime": {
     "end_time": "2023-10-08T21:38:04.164739500Z",
     "start_time": "2023-10-08T21:38:03.918452600Z"
    }
   },
   "id": "bf0c0592cb18e310"
  },
  {
   "cell_type": "code",
   "execution_count": 9,
   "outputs": [
    {
     "data": {
      "text/plain": "                  user_id      name  review_count        yelping_since  \\\n0  1sGYXSkJHPhJ6wQtc-RbZw  Kimberly           820  2009-07-12 01:03:14   \n1  2YKkLFeOx-0zRcWp0KUv_Q      Mark           564  2010-06-07 21:08:02   \n2  5BpJEC8YVi80ecWT5CtlfQ     Jenny          2739  2008-09-11 01:51:00   \n3  kF2sEC2B1nJlxVFr_jaEQA      Lara           198  2009-02-06 16:15:32   \n4  zdw1jwmw1TNLZgu_is_Seg       Pam           108  2011-03-21 03:27:57   \n\n   useful  funny   cool                                              elite  \\\n0    5441   2976   4264  2009,2010,2011,2012,2013,2014,2015,2016,2017,2...   \n1    2158   1026   1068  2011,2012,2013,2014,2015,2016,2017,2018,2019,2...   \n2   17333  11441  14336  2010,2011,2012,2013,2014,2015,2016,2017,2018,2...   \n3     305     56    121                                          2010,2011   \n4     214     52     85                                     2011,2012,2013   \n\n                                             friends  fans  ...  \\\n0  9w4vI3LRTA4JdJyzOxeEMw, fNSGyM1NJ91CTO_VfJ5asQ...   149  ...   \n1  qumjKpb34tsSJ26Y2aaTPg, fHxHETYCW-hJhPrEVNN3hA...    63  ...   \n2  nqyyLmjNdS22H0yKSu6-YQ, eVUmxx1kN-Acni0t7gcg3g...   427  ...   \n3  -MRW5b_OiA4833cL4v53jQ, eW-IQGFyOcqg-aKuhxKf3g...    10  ...   \n4  fwOSFdqvyvG4B-jNaseceQ, 0ED7A-Tae6OKYL1hkD4tSA...     8  ...   \n\n   compliment_more  compliment_profile  compliment_cute  compliment_list  \\\n0               31                  43               12                8   \n1               11                   3                2               17   \n2              190                 168               52               75   \n3                3                   2                0                0   \n4                0                   0                1                0   \n\n   compliment_note  compliment_plain  compliment_cool  compliment_funny  \\\n0              154               403              541               541   \n1              102               288              260               260   \n2              508              1564             2415              2415   \n3               14                17               14                14   \n4               15                 2               18                18   \n\n   compliment_writer  compliment_photos  \n0                265                148  \n1                126                  6  \n2               1035               1139  \n3                  8                  1  \n4                  5                  2  \n\n[5 rows x 22 columns]",
      "text/html": "<div>\n<style scoped>\n    .dataframe tbody tr th:only-of-type {\n        vertical-align: middle;\n    }\n\n    .dataframe tbody tr th {\n        vertical-align: top;\n    }\n\n    .dataframe thead th {\n        text-align: right;\n    }\n</style>\n<table border=\"1\" class=\"dataframe\">\n  <thead>\n    <tr style=\"text-align: right;\">\n      <th></th>\n      <th>user_id</th>\n      <th>name</th>\n      <th>review_count</th>\n      <th>yelping_since</th>\n      <th>useful</th>\n      <th>funny</th>\n      <th>cool</th>\n      <th>elite</th>\n      <th>friends</th>\n      <th>fans</th>\n      <th>...</th>\n      <th>compliment_more</th>\n      <th>compliment_profile</th>\n      <th>compliment_cute</th>\n      <th>compliment_list</th>\n      <th>compliment_note</th>\n      <th>compliment_plain</th>\n      <th>compliment_cool</th>\n      <th>compliment_funny</th>\n      <th>compliment_writer</th>\n      <th>compliment_photos</th>\n    </tr>\n  </thead>\n  <tbody>\n    <tr>\n      <th>0</th>\n      <td>1sGYXSkJHPhJ6wQtc-RbZw</td>\n      <td>Kimberly</td>\n      <td>820</td>\n      <td>2009-07-12 01:03:14</td>\n      <td>5441</td>\n      <td>2976</td>\n      <td>4264</td>\n      <td>2009,2010,2011,2012,2013,2014,2015,2016,2017,2...</td>\n      <td>9w4vI3LRTA4JdJyzOxeEMw, fNSGyM1NJ91CTO_VfJ5asQ...</td>\n      <td>149</td>\n      <td>...</td>\n      <td>31</td>\n      <td>43</td>\n      <td>12</td>\n      <td>8</td>\n      <td>154</td>\n      <td>403</td>\n      <td>541</td>\n      <td>541</td>\n      <td>265</td>\n      <td>148</td>\n    </tr>\n    <tr>\n      <th>1</th>\n      <td>2YKkLFeOx-0zRcWp0KUv_Q</td>\n      <td>Mark</td>\n      <td>564</td>\n      <td>2010-06-07 21:08:02</td>\n      <td>2158</td>\n      <td>1026</td>\n      <td>1068</td>\n      <td>2011,2012,2013,2014,2015,2016,2017,2018,2019,2...</td>\n      <td>qumjKpb34tsSJ26Y2aaTPg, fHxHETYCW-hJhPrEVNN3hA...</td>\n      <td>63</td>\n      <td>...</td>\n      <td>11</td>\n      <td>3</td>\n      <td>2</td>\n      <td>17</td>\n      <td>102</td>\n      <td>288</td>\n      <td>260</td>\n      <td>260</td>\n      <td>126</td>\n      <td>6</td>\n    </tr>\n    <tr>\n      <th>2</th>\n      <td>5BpJEC8YVi80ecWT5CtlfQ</td>\n      <td>Jenny</td>\n      <td>2739</td>\n      <td>2008-09-11 01:51:00</td>\n      <td>17333</td>\n      <td>11441</td>\n      <td>14336</td>\n      <td>2010,2011,2012,2013,2014,2015,2016,2017,2018,2...</td>\n      <td>nqyyLmjNdS22H0yKSu6-YQ, eVUmxx1kN-Acni0t7gcg3g...</td>\n      <td>427</td>\n      <td>...</td>\n      <td>190</td>\n      <td>168</td>\n      <td>52</td>\n      <td>75</td>\n      <td>508</td>\n      <td>1564</td>\n      <td>2415</td>\n      <td>2415</td>\n      <td>1035</td>\n      <td>1139</td>\n    </tr>\n    <tr>\n      <th>3</th>\n      <td>kF2sEC2B1nJlxVFr_jaEQA</td>\n      <td>Lara</td>\n      <td>198</td>\n      <td>2009-02-06 16:15:32</td>\n      <td>305</td>\n      <td>56</td>\n      <td>121</td>\n      <td>2010,2011</td>\n      <td>-MRW5b_OiA4833cL4v53jQ, eW-IQGFyOcqg-aKuhxKf3g...</td>\n      <td>10</td>\n      <td>...</td>\n      <td>3</td>\n      <td>2</td>\n      <td>0</td>\n      <td>0</td>\n      <td>14</td>\n      <td>17</td>\n      <td>14</td>\n      <td>14</td>\n      <td>8</td>\n      <td>1</td>\n    </tr>\n    <tr>\n      <th>4</th>\n      <td>zdw1jwmw1TNLZgu_is_Seg</td>\n      <td>Pam</td>\n      <td>108</td>\n      <td>2011-03-21 03:27:57</td>\n      <td>214</td>\n      <td>52</td>\n      <td>85</td>\n      <td>2011,2012,2013</td>\n      <td>fwOSFdqvyvG4B-jNaseceQ, 0ED7A-Tae6OKYL1hkD4tSA...</td>\n      <td>8</td>\n      <td>...</td>\n      <td>0</td>\n      <td>0</td>\n      <td>1</td>\n      <td>0</td>\n      <td>15</td>\n      <td>2</td>\n      <td>18</td>\n      <td>18</td>\n      <td>5</td>\n      <td>2</td>\n    </tr>\n  </tbody>\n</table>\n<p>5 rows × 22 columns</p>\n</div>"
     },
     "execution_count": 9,
     "metadata": {},
     "output_type": "execute_result"
    }
   ],
   "source": [
    "users.head()"
   ],
   "metadata": {
    "collapsed": false,
    "ExecuteTime": {
     "end_time": "2023-10-08T21:38:04.164739500Z",
     "start_time": "2023-10-08T21:38:03.934116800Z"
    }
   },
   "id": "9e09f6c23ac9f6f2"
  },
  {
   "cell_type": "markdown",
   "source": [
    "Train Test Split"
   ],
   "metadata": {
    "collapsed": false
   },
   "id": "55b1495aab196eb5"
  },
  {
   "cell_type": "code",
   "execution_count": 10,
   "outputs": [],
   "source": [
    "SAMPLING_RATE = 1/5"
   ],
   "metadata": {
    "collapsed": false,
    "ExecuteTime": {
     "end_time": "2023-10-08T21:38:04.164739500Z",
     "start_time": "2023-10-08T21:38:03.949710200Z"
    }
   },
   "id": "e860f160caeefe9f"
  },
  {
   "cell_type": "code",
   "execution_count": 11,
   "outputs": [
    {
     "data": {
      "text/plain": "                review_id                 user_id             business_id  \\\n0  mr8-n6rmPXqgAe0O5YG0jQ  4RZJaKdymRQ5z59ZMFznTQ  xwKYBPO0ByGlkvNcr8FdqQ   \n1  36eovmCnRloGn8oEOV5KrA  7Yy-wEDqUWYUGNQHkJ_Jcg  xwKYBPO0ByGlkvNcr8FdqQ   \n2  1a4BtVOSqEKIr3zZfZZFBg  zAFgnKwrygxSp1kXzdvMMA  XyGRDrgCK0z4CiA6nhwEaw   \n3  RkpAuBy0Oi-zqGvfh76Tuw  fGYAraOy6CFZeg8-YRyMxw  5Ce3lZksYVkCbrihqylVHQ   \n4  s7gRAfoy33vvsKHzqIf-bQ  dXmmyBCImZmzBwqZ6nh4hg  xwKYBPO0ByGlkvNcr8FdqQ   \n\n   rating  useful  funny  cool  \\\n0       5       2      0     1   \n1       4       0      0     0   \n2       3       0      0     0   \n3       5       3      0     0   \n4       5       3      0     1   \n\n                                                text                 date  \n0  I took my gf for our one year anniversary here...  2014-09-10 04:16:53  \n1  Their food was excellent! I was surprised it w...  2014-04-19 16:17:23  \n2  My family and I were super excited that Persia...  2018-07-17 15:26:09  \n3  Great bang for your buck, sushi was fresh and ...  2018-06-09 03:48:32  \n4  We came with the meetup.com group and the serv...  2015-09-12 02:53:48  ",
      "text/html": "<div>\n<style scoped>\n    .dataframe tbody tr th:only-of-type {\n        vertical-align: middle;\n    }\n\n    .dataframe tbody tr th {\n        vertical-align: top;\n    }\n\n    .dataframe thead th {\n        text-align: right;\n    }\n</style>\n<table border=\"1\" class=\"dataframe\">\n  <thead>\n    <tr style=\"text-align: right;\">\n      <th></th>\n      <th>review_id</th>\n      <th>user_id</th>\n      <th>business_id</th>\n      <th>rating</th>\n      <th>useful</th>\n      <th>funny</th>\n      <th>cool</th>\n      <th>text</th>\n      <th>date</th>\n    </tr>\n  </thead>\n  <tbody>\n    <tr>\n      <th>0</th>\n      <td>mr8-n6rmPXqgAe0O5YG0jQ</td>\n      <td>4RZJaKdymRQ5z59ZMFznTQ</td>\n      <td>xwKYBPO0ByGlkvNcr8FdqQ</td>\n      <td>5</td>\n      <td>2</td>\n      <td>0</td>\n      <td>1</td>\n      <td>I took my gf for our one year anniversary here...</td>\n      <td>2014-09-10 04:16:53</td>\n    </tr>\n    <tr>\n      <th>1</th>\n      <td>36eovmCnRloGn8oEOV5KrA</td>\n      <td>7Yy-wEDqUWYUGNQHkJ_Jcg</td>\n      <td>xwKYBPO0ByGlkvNcr8FdqQ</td>\n      <td>4</td>\n      <td>0</td>\n      <td>0</td>\n      <td>0</td>\n      <td>Their food was excellent! I was surprised it w...</td>\n      <td>2014-04-19 16:17:23</td>\n    </tr>\n    <tr>\n      <th>2</th>\n      <td>1a4BtVOSqEKIr3zZfZZFBg</td>\n      <td>zAFgnKwrygxSp1kXzdvMMA</td>\n      <td>XyGRDrgCK0z4CiA6nhwEaw</td>\n      <td>3</td>\n      <td>0</td>\n      <td>0</td>\n      <td>0</td>\n      <td>My family and I were super excited that Persia...</td>\n      <td>2018-07-17 15:26:09</td>\n    </tr>\n    <tr>\n      <th>3</th>\n      <td>RkpAuBy0Oi-zqGvfh76Tuw</td>\n      <td>fGYAraOy6CFZeg8-YRyMxw</td>\n      <td>5Ce3lZksYVkCbrihqylVHQ</td>\n      <td>5</td>\n      <td>3</td>\n      <td>0</td>\n      <td>0</td>\n      <td>Great bang for your buck, sushi was fresh and ...</td>\n      <td>2018-06-09 03:48:32</td>\n    </tr>\n    <tr>\n      <th>4</th>\n      <td>s7gRAfoy33vvsKHzqIf-bQ</td>\n      <td>dXmmyBCImZmzBwqZ6nh4hg</td>\n      <td>xwKYBPO0ByGlkvNcr8FdqQ</td>\n      <td>5</td>\n      <td>3</td>\n      <td>0</td>\n      <td>1</td>\n      <td>We came with the meetup.com group and the serv...</td>\n      <td>2015-09-12 02:53:48</td>\n    </tr>\n  </tbody>\n</table>\n</div>"
     },
     "execution_count": 11,
     "metadata": {},
     "output_type": "execute_result"
    }
   ],
   "source": [
    "# Downsample by users\n",
    "user_id_unique = reviews.user_id.unique()\n",
    "user_id_sample = pd.DataFrame(user_id_unique, columns=['unique_user_id']) \\\n",
    "    .sample(frac= SAMPLING_RATE, replace=False, random_state=1)\n",
    "\n",
    "reviews_sample = reviews.merge(user_id_sample, left_on='user_id', right_on='unique_user_id') \\\n",
    "   .drop(['unique_user_id'], axis=1)\n",
    "reviews_sample.head()\n",
    "#print(reviews_sample.shape)"
   ],
   "metadata": {
    "collapsed": false,
    "ExecuteTime": {
     "end_time": "2023-10-08T21:38:04.164739500Z",
     "start_time": "2023-10-08T21:38:03.965374800Z"
    }
   },
   "id": "45af3e7f9ed6f8ac"
  },
  {
   "cell_type": "code",
   "execution_count": 12,
   "outputs": [
    {
     "name": "stdout",
     "output_type": "stream",
     "text": [
      "Unique Users: 1120, unique restaurants: 34\n"
     ]
    }
   ],
   "source": [
    "#number of unique users and restaurants\n",
    "n_users = len(reviews_sample.user_id.unique())\n",
    "n_restaurants = len(reviews_sample.business_id.unique())\n",
    "print('Unique Users: {0}, unique restaurants: {1}'.format(n_users, n_restaurants))"
   ],
   "metadata": {
    "collapsed": false,
    "ExecuteTime": {
     "end_time": "2023-10-08T21:38:04.164739500Z",
     "start_time": "2023-10-08T21:38:03.980959300Z"
    }
   },
   "id": "171180033cbaa990"
  },
  {
   "cell_type": "code",
   "execution_count": 13,
   "outputs": [
    {
     "name": "stdout",
     "output_type": "stream",
     "text": [
      "There are 126 rows, 9 columns in training set.\n",
      "There are 58 rows, 9 columns in training set.\n",
      "There are 58 rows, 9 columns in holdout set.\n"
     ]
    }
   ],
   "source": [
    "# hold out last review\n",
    "reviews_user_date = reviews_sample.loc[:, ['user_id', 'date']]\n",
    "reviews_user_date.date = pd.to_datetime(reviews_user_date.date)\n",
    "index_holdout = reviews_user_date.groupby(['user_id'], sort=False)['date'].transform(max) == reviews_user_date['date']\n",
    "reviews_holdout_ = reviews_sample[index_holdout]\n",
    "reviews_traincv_ = reviews_sample[~index_holdout]\n",
    "\n",
    "reviews_user_date = reviews_traincv_.loc[:, ['user_id', 'date']]\n",
    "index_holdout = reviews_user_date.groupby(['user_id'], sort=False)['date'].transform(max) == reviews_user_date['date']\n",
    "reviews_cv_ = reviews_traincv_[index_holdout]\n",
    "reviews_train_ = reviews_traincv_[~index_holdout]\n",
    "\n",
    "# remove the user that has fake reviews \n",
    "\n",
    "cv_users_del = set(reviews_cv_.user_id) - set(reviews_train_.user_id)\n",
    "holdout_users_del = set(reviews_holdout_.user_id) - set(reviews_train_.user_id)\n",
    "reviews_cv_ = reviews_cv_[~reviews_cv_.user_id.isin(cv_users_del)]\n",
    "reviews_holdout_ = reviews_holdout_[~reviews_holdout_.user_id.isin(holdout_users_del)]\n",
    "\n",
    "# ratings_cv_ = ratings_cv_[~ratings_cv_.user_id.isin(['HiT9sg9pvDiEVMFHJYihXg'])]\n",
    "# ratings_holdout_ = ratings_holdout_[~ratings_holdout_.user_id.isin(['HiT9sg9pvDiEVMFHJYihXg'])]\n",
    "\n",
    "print('There are {0} rows, {1} columns in training set.'.format(reviews_train_.shape[0], reviews_train_.shape[1]))\n",
    "print('There are {0} rows, {1} columns in training set.'.format(reviews_cv_.shape[0], reviews_cv_.shape[1]))\n",
    "print('There are {0} rows, {1} columns in holdout set.'.format(reviews_holdout_.shape[0], reviews_holdout_.shape[1]))\n"
   ],
   "metadata": {
    "collapsed": false,
    "ExecuteTime": {
     "end_time": "2023-10-08T21:38:04.164739500Z",
     "start_time": "2023-10-08T21:38:03.996618300Z"
    }
   },
   "id": "bb29e53840ad54bc"
  },
  {
   "cell_type": "code",
   "execution_count": 14,
   "outputs": [
    {
     "data": {
      "text/plain": "                 review_id                 user_id             business_id  \\\n18  4bkjMeCA_kXEbLx9Qk6f_Q  s3qxdQoNyVd2Q_Ub9HstXg  xwKYBPO0ByGlkvNcr8FdqQ   \n41  FJHHC0uSPzsNT1RlFMAdKw  P2FNLDMpSpdo92ydQlw7-g  wzPc5d1l0PpxQLQDhh8T2w   \n50  nFyTc29sBNtyG0wm_RwijA  _Y28vILK64Nh5FpKom-GHA  IJ5N0TNgDDFP0UauRmepDg   \n54  Z9F2Krv-WOAgGu46ooCGGg  srhTOSgTBtvHeISgwd_mgw  l8yqThofpWGUs6lxOeIdOA   \n66  ODBg2SqECdigos5RuP40Mw  ZZPaQmmnEiL1fyN-4qtvJg  CJoO4HYD0tZRXlZqA04wmw   \n\n    rating  useful  funny  cool  \\\n18       5       5      0     1   \n41       1       9      7     2   \n50       4       1      0     0   \n54       2       1      0     1   \n66       4       4      5     3   \n\n                                                 text                 date  \n18  The four most recent reviews have been far fro...  2010-01-07 04:07:01  \n41  I spent a long time looking forward to Toro Lo...  2019-08-08 20:15:42  \n50  This is a great little place with really delic...  2015-01-25 02:55:06  \n54  I see this place still hasn't changed their wa...  2019-10-22 13:43:27  \n66  They know what I want when I walked in the doo...  2013-06-24 05:01:09  ",
      "text/html": "<div>\n<style scoped>\n    .dataframe tbody tr th:only-of-type {\n        vertical-align: middle;\n    }\n\n    .dataframe tbody tr th {\n        vertical-align: top;\n    }\n\n    .dataframe thead th {\n        text-align: right;\n    }\n</style>\n<table border=\"1\" class=\"dataframe\">\n  <thead>\n    <tr style=\"text-align: right;\">\n      <th></th>\n      <th>review_id</th>\n      <th>user_id</th>\n      <th>business_id</th>\n      <th>rating</th>\n      <th>useful</th>\n      <th>funny</th>\n      <th>cool</th>\n      <th>text</th>\n      <th>date</th>\n    </tr>\n  </thead>\n  <tbody>\n    <tr>\n      <th>18</th>\n      <td>4bkjMeCA_kXEbLx9Qk6f_Q</td>\n      <td>s3qxdQoNyVd2Q_Ub9HstXg</td>\n      <td>xwKYBPO0ByGlkvNcr8FdqQ</td>\n      <td>5</td>\n      <td>5</td>\n      <td>0</td>\n      <td>1</td>\n      <td>The four most recent reviews have been far fro...</td>\n      <td>2010-01-07 04:07:01</td>\n    </tr>\n    <tr>\n      <th>41</th>\n      <td>FJHHC0uSPzsNT1RlFMAdKw</td>\n      <td>P2FNLDMpSpdo92ydQlw7-g</td>\n      <td>wzPc5d1l0PpxQLQDhh8T2w</td>\n      <td>1</td>\n      <td>9</td>\n      <td>7</td>\n      <td>2</td>\n      <td>I spent a long time looking forward to Toro Lo...</td>\n      <td>2019-08-08 20:15:42</td>\n    </tr>\n    <tr>\n      <th>50</th>\n      <td>nFyTc29sBNtyG0wm_RwijA</td>\n      <td>_Y28vILK64Nh5FpKom-GHA</td>\n      <td>IJ5N0TNgDDFP0UauRmepDg</td>\n      <td>4</td>\n      <td>1</td>\n      <td>0</td>\n      <td>0</td>\n      <td>This is a great little place with really delic...</td>\n      <td>2015-01-25 02:55:06</td>\n    </tr>\n    <tr>\n      <th>54</th>\n      <td>Z9F2Krv-WOAgGu46ooCGGg</td>\n      <td>srhTOSgTBtvHeISgwd_mgw</td>\n      <td>l8yqThofpWGUs6lxOeIdOA</td>\n      <td>2</td>\n      <td>1</td>\n      <td>0</td>\n      <td>1</td>\n      <td>I see this place still hasn't changed their wa...</td>\n      <td>2019-10-22 13:43:27</td>\n    </tr>\n    <tr>\n      <th>66</th>\n      <td>ODBg2SqECdigos5RuP40Mw</td>\n      <td>ZZPaQmmnEiL1fyN-4qtvJg</td>\n      <td>CJoO4HYD0tZRXlZqA04wmw</td>\n      <td>4</td>\n      <td>4</td>\n      <td>5</td>\n      <td>3</td>\n      <td>They know what I want when I walked in the doo...</td>\n      <td>2013-06-24 05:01:09</td>\n    </tr>\n  </tbody>\n</table>\n</div>"
     },
     "execution_count": 14,
     "metadata": {},
     "output_type": "execute_result"
    }
   ],
   "source": [
    "reviews_cv_2=reviews_cv_\n",
    "reviews_cv_2.head()"
   ],
   "metadata": {
    "collapsed": false,
    "ExecuteTime": {
     "end_time": "2023-10-08T21:38:04.164739500Z",
     "start_time": "2023-10-08T21:38:04.030626500Z"
    }
   },
   "id": "b0b1c9694d4dd945"
  },
  {
   "cell_type": "code",
   "execution_count": 15,
   "outputs": [
    {
     "name": "stdout",
     "output_type": "stream",
     "text": [
      "58\n"
     ]
    }
   ],
   "source": [
    "# check if we have a enough user sample size (> 3000)\n",
    "number_of_unique_users = len(reviews_train_.user_id.unique())\n",
    "print(number_of_unique_users)"
   ],
   "metadata": {
    "collapsed": false,
    "ExecuteTime": {
     "end_time": "2023-10-08T21:38:04.164739500Z",
     "start_time": "2023-10-08T21:38:04.045631600Z"
    }
   },
   "id": "5fdb63b333729311"
  },
  {
   "cell_type": "markdown",
   "source": [
    "Evaluation Metrics"
   ],
   "metadata": {
    "collapsed": false
   },
   "id": "94f128bdfbf66625"
  },
  {
   "cell_type": "code",
   "execution_count": 16,
   "outputs": [],
   "source": [
    "def process(df):\n",
    "    df['date']  = pd.to_datetime(df['date'])\n",
    "    df['week_day'] = df['date'].dt.weekday\n",
    "    df['month'] = df['date'].dt.month\n",
    "    df['hour'] = df['date'].dt.hour\n",
    "    df = df.merge(users, on = 'user_id')\n",
    "    df = df.merge(df_res_bus, on = 'business_id')\n",
    "    rename_dict = {'business_longitude': 'longitude', 'business_latitude': 'latitude',\n",
    "                   'business_state':'state','business_city':'city', 'business_address': 'address'}\n",
    "    df = df.rename(columns = rename_dict)\n",
    "    return df\n",
    "\n",
    "reviews_train = process(reviews_train_.copy())\n",
    "reviews_holdout = process(reviews_holdout_.copy())\n",
    "reviews_val = process(reviews_cv_.copy())"
   ],
   "metadata": {
    "collapsed": false,
    "ExecuteTime": {
     "end_time": "2023-10-08T21:38:04.164739500Z",
     "start_time": "2023-10-08T21:38:04.061262100Z"
    }
   },
   "id": "754921a4e14ee377"
  },
  {
   "cell_type": "code",
   "execution_count": 17,
   "outputs": [
    {
     "name": "stderr",
     "output_type": "stream",
     "text": [
      "C:\\Users\\joaqu\\AppData\\Local\\Temp\\ipykernel_16920\\2588244626.py:1: FutureWarning: The frame.append method is deprecated and will be removed from pandas in a future version. Use pandas.concat instead.\n",
      "  reviews_train_final = reviews_train.append(reviews_val)\n",
      "C:\\Users\\joaqu\\AppData\\Local\\Temp\\ipykernel_16920\\2588244626.py:2: FutureWarning: The frame.append method is deprecated and will be removed from pandas in a future version. Use pandas.concat instead.\n",
      "  reviews_entire_df = reviews_train.append(reviews_val).append(reviews_holdout)\n",
      "C:\\Users\\joaqu\\AppData\\Local\\Temp\\ipykernel_16920\\2588244626.py:2: FutureWarning: The frame.append method is deprecated and will be removed from pandas in a future version. Use pandas.concat instead.\n",
      "  reviews_entire_df = reviews_train.append(reviews_val).append(reviews_holdout)\n"
     ]
    }
   ],
   "source": [
    "reviews_train_final = reviews_train.append(reviews_val)\n",
    "reviews_entire_df = reviews_train.append(reviews_val).append(reviews_holdout)"
   ],
   "metadata": {
    "collapsed": false,
    "ExecuteTime": {
     "end_time": "2023-10-08T21:38:04.164739500Z",
     "start_time": "2023-10-08T21:38:04.092545600Z"
    }
   },
   "id": "b1b354337efc105c"
  },
  {
   "cell_type": "code",
   "execution_count": 18,
   "outputs": [
    {
     "data": {
      "text/plain": "                review_id                 user_id             business_id  \\\n0  qx8317ZjR3A6VkEwmNTBQw  s3qxdQoNyVd2Q_Ub9HstXg  xwKYBPO0ByGlkvNcr8FdqQ   \n1  ItUWjCPGZMzPwnBYJWvIMA  P2FNLDMpSpdo92ydQlw7-g  xwKYBPO0ByGlkvNcr8FdqQ   \n2  yUG9pDv7RUfmfwTPpoU0rg  Qaa2sxNfZyTUcmu2hpGTgw  xwKYBPO0ByGlkvNcr8FdqQ   \n3  PMrXIWpT3r4fH4HKUlMMYA  jL41h4Ez98PZfqiKzbbY1w  xwKYBPO0ByGlkvNcr8FdqQ   \n4  jgNeBmzXFT0TTw0J4AJ3CA  P2FNLDMpSpdo92ydQlw7-g  LXR1f2ayOSq7w-Ux7UPUtg   \n\n   rating  useful_x  funny_x  cool_x  \\\n0       5         2        0       2   \n1       5         6        0       0   \n2       5         3        0       0   \n3       4         4        1       1   \n4       5         2        0       1   \n\n                                                text                date  \\\n0  Tucson's best restaurant, and has been for at ... 2009-08-13 22:35:41   \n1  I came to Le Rendez-vous for my birthday, and ... 2015-03-31 16:48:35   \n2  We just went here for my boyfriends birthday. ... 2015-08-26 05:24:49   \n3  Let's start with dessert, the best place for a... 2019-07-23 23:09:26   \n4  Delicious sushi on the east side. The price se... 2014-02-08 22:23:24   \n\n   week_day  ...  state  postal_code   latitude   longitude stars  \\\n0         3  ...     AZ        85716  32.264930 -110.910544   4.0   \n1         1  ...     AZ        85716  32.264930 -110.910544   4.0   \n2         2  ...     AZ        85716  32.264930 -110.910544   4.0   \n3         1  ...     AZ        85716  32.264930 -110.910544   4.0   \n4         5  ...     AZ        85748  32.222546 -110.788133   3.5   \n\n   review_count_y  is_open                                         attributes  \\\n0             223        1  {'BusinessParking': \"{'garage': False, 'street...   \n1             223        1  {'BusinessParking': \"{'garage': False, 'street...   \n2             223        1  {'BusinessParking': \"{'garage': False, 'street...   \n3             223        1  {'BusinessParking': \"{'garage': False, 'street...   \n4             103        0  {'RestaurantsPriceRange2': '2', 'BusinessAccep...   \n\n                                categories  \\\n0  Restaurants, French, Tapas/Small Plates   \n1  Restaurants, French, Tapas/Small Plates   \n2  Restaurants, French, Tapas/Small Plates   \n3  Restaurants, French, Tapas/Small Plates   \n4        Japanese, Sushi Bars, Restaurants   \n\n                                               hours  \n0  {'Wednesday': '16:0-21:0', 'Thursday': '16:0-2...  \n1  {'Wednesday': '16:0-21:0', 'Thursday': '16:0-2...  \n2  {'Wednesday': '16:0-21:0', 'Thursday': '16:0-2...  \n3  {'Wednesday': '16:0-21:0', 'Thursday': '16:0-2...  \n4  {'Monday': '11:30-21:30', 'Tuesday': '11:30-21...  \n\n[5 rows x 46 columns]",
      "text/html": "<div>\n<style scoped>\n    .dataframe tbody tr th:only-of-type {\n        vertical-align: middle;\n    }\n\n    .dataframe tbody tr th {\n        vertical-align: top;\n    }\n\n    .dataframe thead th {\n        text-align: right;\n    }\n</style>\n<table border=\"1\" class=\"dataframe\">\n  <thead>\n    <tr style=\"text-align: right;\">\n      <th></th>\n      <th>review_id</th>\n      <th>user_id</th>\n      <th>business_id</th>\n      <th>rating</th>\n      <th>useful_x</th>\n      <th>funny_x</th>\n      <th>cool_x</th>\n      <th>text</th>\n      <th>date</th>\n      <th>week_day</th>\n      <th>...</th>\n      <th>state</th>\n      <th>postal_code</th>\n      <th>latitude</th>\n      <th>longitude</th>\n      <th>stars</th>\n      <th>review_count_y</th>\n      <th>is_open</th>\n      <th>attributes</th>\n      <th>categories</th>\n      <th>hours</th>\n    </tr>\n  </thead>\n  <tbody>\n    <tr>\n      <th>0</th>\n      <td>qx8317ZjR3A6VkEwmNTBQw</td>\n      <td>s3qxdQoNyVd2Q_Ub9HstXg</td>\n      <td>xwKYBPO0ByGlkvNcr8FdqQ</td>\n      <td>5</td>\n      <td>2</td>\n      <td>0</td>\n      <td>2</td>\n      <td>Tucson's best restaurant, and has been for at ...</td>\n      <td>2009-08-13 22:35:41</td>\n      <td>3</td>\n      <td>...</td>\n      <td>AZ</td>\n      <td>85716</td>\n      <td>32.264930</td>\n      <td>-110.910544</td>\n      <td>4.0</td>\n      <td>223</td>\n      <td>1</td>\n      <td>{'BusinessParking': \"{'garage': False, 'street...</td>\n      <td>Restaurants, French, Tapas/Small Plates</td>\n      <td>{'Wednesday': '16:0-21:0', 'Thursday': '16:0-2...</td>\n    </tr>\n    <tr>\n      <th>1</th>\n      <td>ItUWjCPGZMzPwnBYJWvIMA</td>\n      <td>P2FNLDMpSpdo92ydQlw7-g</td>\n      <td>xwKYBPO0ByGlkvNcr8FdqQ</td>\n      <td>5</td>\n      <td>6</td>\n      <td>0</td>\n      <td>0</td>\n      <td>I came to Le Rendez-vous for my birthday, and ...</td>\n      <td>2015-03-31 16:48:35</td>\n      <td>1</td>\n      <td>...</td>\n      <td>AZ</td>\n      <td>85716</td>\n      <td>32.264930</td>\n      <td>-110.910544</td>\n      <td>4.0</td>\n      <td>223</td>\n      <td>1</td>\n      <td>{'BusinessParking': \"{'garage': False, 'street...</td>\n      <td>Restaurants, French, Tapas/Small Plates</td>\n      <td>{'Wednesday': '16:0-21:0', 'Thursday': '16:0-2...</td>\n    </tr>\n    <tr>\n      <th>2</th>\n      <td>yUG9pDv7RUfmfwTPpoU0rg</td>\n      <td>Qaa2sxNfZyTUcmu2hpGTgw</td>\n      <td>xwKYBPO0ByGlkvNcr8FdqQ</td>\n      <td>5</td>\n      <td>3</td>\n      <td>0</td>\n      <td>0</td>\n      <td>We just went here for my boyfriends birthday. ...</td>\n      <td>2015-08-26 05:24:49</td>\n      <td>2</td>\n      <td>...</td>\n      <td>AZ</td>\n      <td>85716</td>\n      <td>32.264930</td>\n      <td>-110.910544</td>\n      <td>4.0</td>\n      <td>223</td>\n      <td>1</td>\n      <td>{'BusinessParking': \"{'garage': False, 'street...</td>\n      <td>Restaurants, French, Tapas/Small Plates</td>\n      <td>{'Wednesday': '16:0-21:0', 'Thursday': '16:0-2...</td>\n    </tr>\n    <tr>\n      <th>3</th>\n      <td>PMrXIWpT3r4fH4HKUlMMYA</td>\n      <td>jL41h4Ez98PZfqiKzbbY1w</td>\n      <td>xwKYBPO0ByGlkvNcr8FdqQ</td>\n      <td>4</td>\n      <td>4</td>\n      <td>1</td>\n      <td>1</td>\n      <td>Let's start with dessert, the best place for a...</td>\n      <td>2019-07-23 23:09:26</td>\n      <td>1</td>\n      <td>...</td>\n      <td>AZ</td>\n      <td>85716</td>\n      <td>32.264930</td>\n      <td>-110.910544</td>\n      <td>4.0</td>\n      <td>223</td>\n      <td>1</td>\n      <td>{'BusinessParking': \"{'garage': False, 'street...</td>\n      <td>Restaurants, French, Tapas/Small Plates</td>\n      <td>{'Wednesday': '16:0-21:0', 'Thursday': '16:0-2...</td>\n    </tr>\n    <tr>\n      <th>4</th>\n      <td>jgNeBmzXFT0TTw0J4AJ3CA</td>\n      <td>P2FNLDMpSpdo92ydQlw7-g</td>\n      <td>LXR1f2ayOSq7w-Ux7UPUtg</td>\n      <td>5</td>\n      <td>2</td>\n      <td>0</td>\n      <td>1</td>\n      <td>Delicious sushi on the east side. The price se...</td>\n      <td>2014-02-08 22:23:24</td>\n      <td>5</td>\n      <td>...</td>\n      <td>AZ</td>\n      <td>85748</td>\n      <td>32.222546</td>\n      <td>-110.788133</td>\n      <td>3.5</td>\n      <td>103</td>\n      <td>0</td>\n      <td>{'RestaurantsPriceRange2': '2', 'BusinessAccep...</td>\n      <td>Japanese, Sushi Bars, Restaurants</td>\n      <td>{'Monday': '11:30-21:30', 'Tuesday': '11:30-21...</td>\n    </tr>\n  </tbody>\n</table>\n<p>5 rows × 46 columns</p>\n</div>"
     },
     "execution_count": 18,
     "metadata": {},
     "output_type": "execute_result"
    }
   ],
   "source": [
    "reviews_entire_df.head()\n"
   ],
   "metadata": {
    "collapsed": false,
    "ExecuteTime": {
     "end_time": "2023-10-08T21:38:04.164739500Z",
     "start_time": "2023-10-08T21:38:04.108051900Z"
    }
   },
   "id": "51f0b376cd5e12d3"
  },
  {
   "cell_type": "code",
   "execution_count": 19,
   "outputs": [
    {
     "name": "stderr",
     "output_type": "stream",
     "text": [
      "C:\\Users\\joaqu\\AppData\\Local\\Temp\\ipykernel_16920\\1404869436.py:13: FutureWarning: The frame.append method is deprecated and will be removed from pandas in a future version. Use pandas.concat instead.\n",
      "  out = out.append(row)\n"
     ]
    }
   ],
   "source": [
    "unique_city_businesses = reviews_entire_df[['city','business_id']].drop_duplicates()\n",
    "unique_cities = unique_city_businesses.groupby('city').count()['business_id']\n",
    "#unique_cities = unique_cities[unique_cities > 100]\n",
    "out = pd.DataFrame()\n",
    "for city in unique_cities.index:\n",
    "    tmp = reviews_holdout[(reviews_holdout['city'] ==city) &\n",
    "                          (reviews_holdout['rating'] >reviews_holdout['average_stars'])]\n",
    "    if len(tmp['user_id'].unique())>4:\n",
    "\n",
    "        ###this weird sampling technique is to ensure we dont' sample the same user twice in a same city\n",
    "        five_users = np.random.choice(tmp['user_id'].unique(),5, replace = False)\n",
    "        row = tmp[tmp['user_id'].isin(five_users)].groupby('user_id', group_keys=False).apply(lambda df: df.sample(1))\n",
    "        out = out.append(row)"
   ],
   "metadata": {
    "collapsed": false,
    "ExecuteTime": {
     "end_time": "2023-10-08T21:38:04.643429800Z",
     "start_time": "2023-10-08T21:38:04.164739500Z"
    }
   },
   "id": "a17ec39d6ec31012"
  },
  {
   "cell_type": "code",
   "execution_count": 20,
   "outputs": [],
   "source": [
    "predict_df = out[['user_id','city','state']]\n",
    "predict_df = predict_df.merge(unique_city_businesses, on = 'city')\n",
    "predict_df.to_csv('../datasets/filter_data/metric_sample.csv')"
   ],
   "metadata": {
    "collapsed": false,
    "ExecuteTime": {
     "end_time": "2023-10-08T21:38:04.643429800Z",
     "start_time": "2023-10-08T21:38:04.196011Z"
    }
   },
   "id": "70b9828696faf642"
  },
  {
   "cell_type": "code",
   "execution_count": 21,
   "outputs": [],
   "source": [
    "# random initialization, needs to be substituted by actual predictions later.\n",
    "predict_df['predictions'] = 2.5"
   ],
   "metadata": {
    "collapsed": false,
    "ExecuteTime": {
     "end_time": "2023-10-08T21:38:04.643429800Z",
     "start_time": "2023-10-08T21:38:04.212020500Z"
    }
   },
   "id": "97ddee1fdf88dbb7"
  },
  {
   "cell_type": "code",
   "execution_count": 22,
   "outputs": [],
   "source": [
    "def get_all_metrics(predict_df, validation_subsample, ratings_train_final):\n",
    "    top_10_recs = predict_df.groupby(['user_id','city'])['predictions'].nlargest(10).reset_index()\n",
    "    out = validation_subsample\n",
    "    cnt =0\n",
    "    serendipity = 0\n",
    "\n",
    "\n",
    "    for row in out.iterrows():\n",
    "        row_values = row[1]\n",
    "        top_10 = predict_df.loc[top_10_recs[top_10_recs['user_id'] == row_values['user_id']].level_2]['business_id']\n",
    "        ###In top 10\n",
    "        if row_values['business_id'] in top_10.values:\n",
    "            cnt+=1\n",
    "        user_history = ratings_train_final[ratings_train_final['user_id'] == row_values['user_id']]\n",
    "        been_there = [i for i in top_10.values if i in  user_history.business_id.values]\n",
    "        serendipity += 1-len(been_there)/10\n",
    "\n",
    "    top_10 = cnt/len(out)\n",
    "    serendipity = serendipity/len(out)\n",
    "\n",
    "    predict_df = predict_df.reset_index()\n",
    "\n",
    "    analysis_df = predict_df.merge(top_10_recs, left_on = ['user_id','city','index'], \\\n",
    "                                   right_on = ['user_id','city','level_2'])\n",
    "\n",
    "    coverage = (analysis_df.groupby('city')['business_id'].nunique()/50).values.mean()\n",
    "\n",
    "    predict_df['rankings']=predict_df.groupby(['city','user_id'])['predictions']. \\\n",
    "        rank(method=\"first\",ascending = False)\n",
    "    running_rankings =0\n",
    "    for row in out.iterrows():\n",
    "        row_values = row[1]\n",
    "        user_recs = predict_df[(predict_df['user_id']==row_values['user_id'])\n",
    "                               &(predict_df['city']==row_values['city'])\n",
    "                               & (predict_df['business_id']==row_values['business_id'])\n",
    "                               ]\n",
    "        assert len(user_recs)==1\n",
    "        running_rankings += user_recs['rankings'].sum()\n",
    "\n",
    "    avg_rank = running_rankings / len(out)\n",
    "    print(top_10, coverage, serendipity, avg_rank)\n",
    "\n",
    "    return top_10, coverage, serendipity, avg_rank\n"
   ],
   "metadata": {
    "collapsed": false,
    "ExecuteTime": {
     "end_time": "2023-10-08T21:38:04.643429800Z",
     "start_time": "2023-10-08T21:38:04.227651700Z"
    }
   },
   "id": "efbc80be8bc1dcf4"
  },
  {
   "cell_type": "markdown",
   "source": [
    "Baseline models\n",
    "Baseline 1: Bias Baseline"
   ],
   "metadata": {
    "collapsed": false
   },
   "id": "fdcc85d3c0e57f08"
  },
  {
   "cell_type": "code",
   "execution_count": 23,
   "outputs": [],
   "source": [
    "from surprise import SVD\n",
    "from surprise import accuracy\n",
    "from surprise import Reader\n",
    "from surprise.model_selection import GridSearchCV\n",
    "from surprise import Dataset\n",
    "from surprise import BaselineOnly\n",
    "\n",
    "from sklearn.metrics import r2_score\n",
    "from sklearn.metrics import mean_absolute_error"
   ],
   "metadata": {
    "collapsed": false,
    "ExecuteTime": {
     "end_time": "2023-10-08T21:38:04.643429800Z",
     "start_time": "2023-10-08T21:38:04.243308700Z"
    }
   },
   "id": "6bce4e9a1be2c300"
  },
  {
   "cell_type": "code",
   "execution_count": 24,
   "outputs": [],
   "source": [
    "def process(df):\n",
    "    df['date']  = pd.to_datetime(df['date'])\n",
    "    df['week_day'] = df['date'].dt.weekday\n",
    "    df['month'] = df['date'].dt.month\n",
    "    df['hour'] = df['date'].dt.hour\n",
    "    df = df.merge(users, on = 'user_id')\n",
    "    df = df.merge(df_res_bus, on = 'business_id')\n",
    "    rename_dict = {'business_longitude': 'longitude', 'business_latitude': 'latitude',\n",
    "                   'business_state':'state','business_city':'city', 'business_address': 'address'}\n",
    "    df = df.rename(columns = rename_dict)\n",
    "    return df\n",
    "\n",
    "reviews_train = process(reviews_train_.copy())\n",
    "reviews_test = process(reviews_holdout_.copy())\n",
    "reviews_val = process(reviews_cv_.copy())"
   ],
   "metadata": {
    "collapsed": false,
    "ExecuteTime": {
     "end_time": "2023-10-08T21:38:04.643429800Z",
     "start_time": "2023-10-08T21:38:04.353048900Z"
    }
   },
   "id": "70bc4806c7a325cc"
  },
  {
   "cell_type": "code",
   "execution_count": 25,
   "outputs": [],
   "source": [
    "# remove observations that may cause cold-start problem, which breaks the model.\n",
    "reviews_test = reviews_test.loc[reviews_test.business_id.isin(reviews_train.business_id)]\n",
    "reviews_val = reviews_val.loc[reviews_val.business_id.isin(reviews_train.business_id)]"
   ],
   "metadata": {
    "collapsed": false,
    "ExecuteTime": {
     "end_time": "2023-10-08T21:38:04.643429800Z",
     "start_time": "2023-10-08T21:38:04.384329700Z"
    }
   },
   "id": "36f646f32928b3c4"
  },
  {
   "cell_type": "code",
   "execution_count": 26,
   "outputs": [],
   "source": [
    "trainset = reviews_train.loc[:,['user_id', 'business_id', 'rating']]\n",
    "trainset.columns = ['userID', 'itemID','rating']\n",
    "valset = reviews_val.loc[:, ['user_id', 'business_id', 'rating']]\n",
    "valset.columns = ['userID', 'itemID','rating']\n",
    "testset = reviews_holdout.loc[:, ['user_id', 'business_id', 'rating']]\n",
    "testset.columns = ['userID', 'itemID','rating']"
   ],
   "metadata": {
    "collapsed": false,
    "ExecuteTime": {
     "end_time": "2023-10-08T21:38:04.643429800Z",
     "start_time": "2023-10-08T21:38:04.399955500Z"
    }
   },
   "id": "37a60e7e457716e0"
  },
  {
   "cell_type": "code",
   "execution_count": 27,
   "outputs": [],
   "source": [
    "reader = Reader(rating_scale = (0.0, 5.0))\n",
    "train_data = Dataset.load_from_df(trainset[['userID','itemID','rating']], reader)\n",
    "val_data = Dataset.load_from_df(valset[['userID','itemID','rating']], reader)\n",
    "test_data = Dataset.load_from_df(testset[['userID','itemID','rating']], reader)\n",
    "\n",
    "train_sr = train_data.build_full_trainset()\n",
    "val_sr_before = val_data.build_full_trainset()\n",
    "val_sr = val_sr_before.build_testset()\n",
    "test_sr_before = test_data.build_full_trainset()\n",
    "test_sr = test_sr_before.build_testset()"
   ],
   "metadata": {
    "collapsed": false,
    "ExecuteTime": {
     "end_time": "2023-10-08T21:38:04.643429800Z",
     "start_time": "2023-10-08T21:38:04.416001100Z"
    }
   },
   "id": "a53b753c4bba6701"
  },
  {
   "cell_type": "code",
   "execution_count": 28,
   "outputs": [
    {
     "name": "stdout",
     "output_type": "stream",
     "text": [
      "Estimating biases using als...\n",
      "MAE:  0.8861\n",
      "RMSE: 1.0836\n"
     ]
    },
    {
     "data": {
      "text/plain": "1.0835728317188933"
     },
     "execution_count": 28,
     "metadata": {},
     "output_type": "execute_result"
    }
   ],
   "source": [
    "bsl_options = {'method': 'als', 'n_epochs':3}\n",
    "bias_baseline = BaselineOnly(bsl_options)\n",
    "bias_baseline.fit(train_sr)\n",
    "predictions = bias_baseline.test(val_sr)\n",
    "accuracy.mae(predictions)\n",
    "accuracy.rmse(predictions)"
   ],
   "metadata": {
    "collapsed": false,
    "ExecuteTime": {
     "end_time": "2023-10-08T21:38:04.643429800Z",
     "start_time": "2023-10-08T21:38:04.431632800Z"
    }
   },
   "id": "d5e5a27f754a63b7"
  },
  {
   "cell_type": "code",
   "execution_count": 29,
   "outputs": [],
   "source": [
    "#predictions_B1=pd.head()"
   ],
   "metadata": {
    "collapsed": false,
    "ExecuteTime": {
     "end_time": "2023-10-08T21:38:04.643429800Z",
     "start_time": "2023-10-08T21:38:04.447257800Z"
    }
   },
   "id": "14e05b27df03b08"
  },
  {
   "cell_type": "code",
   "execution_count": 30,
   "outputs": [
    {
     "name": "stdout",
     "output_type": "stream",
     "text": [
      "Estimating biases using als...\n",
      "MAE:  0.8860\n",
      "RMSE: 1.0836\n"
     ]
    },
    {
     "data": {
      "text/plain": "1.083570397238404"
     },
     "execution_count": 30,
     "metadata": {},
     "output_type": "execute_result"
    }
   ],
   "source": [
    "bsl_options = {'method': 'als', 'n_epochs':5}\n",
    "bias_baseline = BaselineOnly(bsl_options)\n",
    "bias_baseline.fit(train_sr)\n",
    "predictions = bias_baseline.test(val_sr)\n",
    "accuracy.mae(predictions)\n",
    "accuracy.rmse(predictions)"
   ],
   "metadata": {
    "collapsed": false,
    "ExecuteTime": {
     "end_time": "2023-10-08T21:38:04.643429800Z",
     "start_time": "2023-10-08T21:38:04.462945500Z"
    }
   },
   "id": "840458a846f13da6"
  },
  {
   "cell_type": "code",
   "execution_count": 31,
   "outputs": [
    {
     "name": "stdout",
     "output_type": "stream",
     "text": [
      "Estimating biases using als...\n",
      "MAE:  0.8860\n",
      "RMSE: 1.0836\n"
     ]
    },
    {
     "data": {
      "text/plain": "1.0835703915170394"
     },
     "execution_count": 31,
     "metadata": {},
     "output_type": "execute_result"
    }
   ],
   "source": [
    "bsl_options = {'method': 'als', 'n_epochs':9}\n",
    "bias_baseline = BaselineOnly(bsl_options)\n",
    "bias_baseline.fit(train_sr)\n",
    "predictions = bias_baseline.test(val_sr)\n",
    "accuracy.mae(predictions)\n",
    "accuracy.rmse(predictions)"
   ],
   "metadata": {
    "collapsed": false,
    "ExecuteTime": {
     "end_time": "2023-10-08T21:38:04.643429800Z",
     "start_time": "2023-10-08T21:38:04.478542Z"
    }
   },
   "id": "62b73d7ec45ca73a"
  },
  {
   "cell_type": "markdown",
   "source": [
    "Observation: It seems different hyperparameters all performs the same result; the team just uses default."
   ],
   "metadata": {
    "collapsed": false
   },
   "id": "4b0986df2f112fe9"
  },
  {
   "cell_type": "markdown",
   "source": [
    "Evaluation\n",
    "Note: evaluated 20%, 50%, 100% training data respectively. For readability, only result on 20% data is displayed."
   ],
   "metadata": {
    "collapsed": false
   },
   "id": "51420419d0bfc09e"
  },
  {
   "cell_type": "code",
   "execution_count": 32,
   "outputs": [
    {
     "name": "stdout",
     "output_type": "stream",
     "text": [
      "Estimating biases using als...\n",
      "--- 0.0 seconds ---\n"
     ]
    }
   ],
   "source": [
    "# runtime on 20% data\n",
    "start_time = time.time()\n",
    "bias_baseline.fit(train_sr)\n",
    "print(\"--- %s seconds ---\" % (time.time() - start_time))"
   ],
   "metadata": {
    "collapsed": false,
    "ExecuteTime": {
     "end_time": "2023-10-08T21:38:04.643429800Z",
     "start_time": "2023-10-08T21:38:04.494133Z"
    }
   },
   "id": "4e8612f3c3eacd40"
  },
  {
   "cell_type": "code",
   "execution_count": 33,
   "outputs": [
    {
     "name": "stdout",
     "output_type": "stream",
     "text": [
      "RMSE: 1.1242\n",
      "R^2 (with 20% data):  -0.09553905286842501\n",
      "MAE (with 20% data):  0.9339870236252058\n",
      "--- 0.0 seconds ---\n"
     ]
    }
   ],
   "source": [
    "# Regression metrics \n",
    "bbase_p = bias_baseline.test(test_sr)\n",
    "start_time = time.time()\n",
    "bbase_20_df = pd.DataFrame(bbase_p, columns = ['userId','itemId','rating','pred_rating','x'])\n",
    "accuracy.rmse(bbase_p)\n",
    "print('R^2 (with 20% data): ', r2_score(bbase_20_df.rating , bbase_20_df.pred_rating))\n",
    "print('MAE (with 20% data): ', mean_absolute_error(bbase_20_df.rating, bbase_20_df.pred_rating))\n",
    "print(\"--- %s seconds ---\" % (time.time() - start_time))"
   ],
   "metadata": {
    "collapsed": false,
    "ExecuteTime": {
     "end_time": "2023-10-08T21:38:04.643429800Z",
     "start_time": "2023-10-08T21:38:04.510310700Z"
    }
   },
   "id": "20361909dc473de7"
  },
  {
   "cell_type": "code",
   "execution_count": 34,
   "outputs": [
    {
     "name": "stdout",
     "output_type": "stream",
     "text": [
      "Estimating biases using als...\n"
     ]
    }
   ],
   "source": [
    "# Ranking + coverage + novelty metrics\n",
    "predict_df_baseline = predict_df.copy()\n",
    "eval_set = Dataset.load_from_df(predict_df_baseline[['user_id','business_id','predictions']], reader)\n",
    "\n",
    "bias_basline = BaselineOnly({'method': 'als', 'n_epochs':9})\n",
    "eval_before = eval_set.build_full_trainset()\n",
    "eval_sr = eval_before.build_testset()\n",
    "bias_basline.fit(train_sr)\n",
    "eval_pred = bias_basline.test(eval_sr)\n",
    "#accuracy.rmse(predictions_50)\n",
    "baseline_20 = pd.DataFrame(eval_pred, columns = ['userId','itemId','rating','pred_rating','x'])\n",
    "predict_df_baseline['predictions'] = baseline_20.pred_rating"
   ],
   "metadata": {
    "collapsed": false,
    "ExecuteTime": {
     "end_time": "2023-10-08T21:38:04.643429800Z",
     "start_time": "2023-10-08T21:38:04.525951100Z"
    }
   },
   "id": "a7d5e3a06cba6178"
  },
  {
   "cell_type": "code",
   "execution_count": 35,
   "outputs": [
    {
     "name": "stdout",
     "output_type": "stream",
     "text": [
      "0.4 0.2 0.9199999999999999 16.6\n"
     ]
    }
   ],
   "source": [
    "top_10, coverage, serendipity, avg_rank = get_all_metrics(predict_df_baseline, out, reviews_train_final)"
   ],
   "metadata": {
    "collapsed": false,
    "ExecuteTime": {
     "end_time": "2023-10-08T21:38:04.784981800Z",
     "start_time": "2023-10-08T21:38:04.541613100Z"
    }
   },
   "id": "282bbb3647b42821"
  },
  {
   "cell_type": "code",
   "execution_count": 36,
   "outputs": [
    {
     "data": {
      "text/plain": "                   user_id    city state             business_id  predictions\n0   8dUbErn76KcD2Sj_iMOWag  Tucson    AZ  xwKYBPO0ByGlkvNcr8FdqQ     4.237067\n1   8dUbErn76KcD2Sj_iMOWag  Tucson    AZ  LXR1f2ayOSq7w-Ux7UPUtg     3.765504\n2   8dUbErn76KcD2Sj_iMOWag  Tucson    AZ  RHdEScVIAQ7xzFFMiQEnAQ     3.949817\n3   8dUbErn76KcD2Sj_iMOWag  Tucson    AZ  l8yqThofpWGUs6lxOeIdOA     4.183969\n4   8dUbErn76KcD2Sj_iMOWag  Tucson    AZ  XyGRDrgCK0z4CiA6nhwEaw     4.210074\n5   8dUbErn76KcD2Sj_iMOWag  Tucson    AZ  5CX7rtnwYnmqFCihOyWivg     4.067190\n6   8dUbErn76KcD2Sj_iMOWag  Tucson    AZ  aDL_KdxbDRT5s51Jtn9V5g     3.976353\n7   8dUbErn76KcD2Sj_iMOWag  Tucson    AZ  7PbJjm9Oeq9LqM9zKsF-8g     3.529265\n8   8dUbErn76KcD2Sj_iMOWag  Tucson    AZ  nEaTbGFlU7d9eLU2kl6KBw     4.043599\n9   8dUbErn76KcD2Sj_iMOWag  Tucson    AZ  FjRH6l8aQOmfXuo00lheLA     3.724462\n10  8dUbErn76KcD2Sj_iMOWag  Tucson    AZ  dlOTtFJbcyN1m5PR2IDxOg     4.217758\n11  8dUbErn76KcD2Sj_iMOWag  Tucson    AZ  jLnIvbbXUg4s7CP9G-Whvw     4.037819\n12  8dUbErn76KcD2Sj_iMOWag  Tucson    AZ  gtuoRlBPqoTIEPrcfbIP-g     3.942027\n13  8dUbErn76KcD2Sj_iMOWag  Tucson    AZ  RIQ5ALCz1-oi98ViCO7kgQ     4.038077\n14  8dUbErn76KcD2Sj_iMOWag  Tucson    AZ  5Ce3lZksYVkCbrihqylVHQ     4.093140\n15  8dUbErn76KcD2Sj_iMOWag  Tucson    AZ  wzPc5d1l0PpxQLQDhh8T2w     4.111027\n16  8dUbErn76KcD2Sj_iMOWag  Tucson    AZ  SVJJIoAiW3vHwoSpVnUcLQ     3.960584\n17  8dUbErn76KcD2Sj_iMOWag  Tucson    AZ  CJoO4HYD0tZRXlZqA04wmw     4.230498\n18  8dUbErn76KcD2Sj_iMOWag  Tucson    AZ  AbeWP7_Vxhp45I9IPZ7Otg     3.888821\n19  8dUbErn76KcD2Sj_iMOWag  Tucson    AZ  Wp9D-r8Ap1Fv0IIM0zGfoQ     3.947994",
      "text/html": "<div>\n<style scoped>\n    .dataframe tbody tr th:only-of-type {\n        vertical-align: middle;\n    }\n\n    .dataframe tbody tr th {\n        vertical-align: top;\n    }\n\n    .dataframe thead th {\n        text-align: right;\n    }\n</style>\n<table border=\"1\" class=\"dataframe\">\n  <thead>\n    <tr style=\"text-align: right;\">\n      <th></th>\n      <th>user_id</th>\n      <th>city</th>\n      <th>state</th>\n      <th>business_id</th>\n      <th>predictions</th>\n    </tr>\n  </thead>\n  <tbody>\n    <tr>\n      <th>0</th>\n      <td>8dUbErn76KcD2Sj_iMOWag</td>\n      <td>Tucson</td>\n      <td>AZ</td>\n      <td>xwKYBPO0ByGlkvNcr8FdqQ</td>\n      <td>4.237067</td>\n    </tr>\n    <tr>\n      <th>1</th>\n      <td>8dUbErn76KcD2Sj_iMOWag</td>\n      <td>Tucson</td>\n      <td>AZ</td>\n      <td>LXR1f2ayOSq7w-Ux7UPUtg</td>\n      <td>3.765504</td>\n    </tr>\n    <tr>\n      <th>2</th>\n      <td>8dUbErn76KcD2Sj_iMOWag</td>\n      <td>Tucson</td>\n      <td>AZ</td>\n      <td>RHdEScVIAQ7xzFFMiQEnAQ</td>\n      <td>3.949817</td>\n    </tr>\n    <tr>\n      <th>3</th>\n      <td>8dUbErn76KcD2Sj_iMOWag</td>\n      <td>Tucson</td>\n      <td>AZ</td>\n      <td>l8yqThofpWGUs6lxOeIdOA</td>\n      <td>4.183969</td>\n    </tr>\n    <tr>\n      <th>4</th>\n      <td>8dUbErn76KcD2Sj_iMOWag</td>\n      <td>Tucson</td>\n      <td>AZ</td>\n      <td>XyGRDrgCK0z4CiA6nhwEaw</td>\n      <td>4.210074</td>\n    </tr>\n    <tr>\n      <th>5</th>\n      <td>8dUbErn76KcD2Sj_iMOWag</td>\n      <td>Tucson</td>\n      <td>AZ</td>\n      <td>5CX7rtnwYnmqFCihOyWivg</td>\n      <td>4.067190</td>\n    </tr>\n    <tr>\n      <th>6</th>\n      <td>8dUbErn76KcD2Sj_iMOWag</td>\n      <td>Tucson</td>\n      <td>AZ</td>\n      <td>aDL_KdxbDRT5s51Jtn9V5g</td>\n      <td>3.976353</td>\n    </tr>\n    <tr>\n      <th>7</th>\n      <td>8dUbErn76KcD2Sj_iMOWag</td>\n      <td>Tucson</td>\n      <td>AZ</td>\n      <td>7PbJjm9Oeq9LqM9zKsF-8g</td>\n      <td>3.529265</td>\n    </tr>\n    <tr>\n      <th>8</th>\n      <td>8dUbErn76KcD2Sj_iMOWag</td>\n      <td>Tucson</td>\n      <td>AZ</td>\n      <td>nEaTbGFlU7d9eLU2kl6KBw</td>\n      <td>4.043599</td>\n    </tr>\n    <tr>\n      <th>9</th>\n      <td>8dUbErn76KcD2Sj_iMOWag</td>\n      <td>Tucson</td>\n      <td>AZ</td>\n      <td>FjRH6l8aQOmfXuo00lheLA</td>\n      <td>3.724462</td>\n    </tr>\n    <tr>\n      <th>10</th>\n      <td>8dUbErn76KcD2Sj_iMOWag</td>\n      <td>Tucson</td>\n      <td>AZ</td>\n      <td>dlOTtFJbcyN1m5PR2IDxOg</td>\n      <td>4.217758</td>\n    </tr>\n    <tr>\n      <th>11</th>\n      <td>8dUbErn76KcD2Sj_iMOWag</td>\n      <td>Tucson</td>\n      <td>AZ</td>\n      <td>jLnIvbbXUg4s7CP9G-Whvw</td>\n      <td>4.037819</td>\n    </tr>\n    <tr>\n      <th>12</th>\n      <td>8dUbErn76KcD2Sj_iMOWag</td>\n      <td>Tucson</td>\n      <td>AZ</td>\n      <td>gtuoRlBPqoTIEPrcfbIP-g</td>\n      <td>3.942027</td>\n    </tr>\n    <tr>\n      <th>13</th>\n      <td>8dUbErn76KcD2Sj_iMOWag</td>\n      <td>Tucson</td>\n      <td>AZ</td>\n      <td>RIQ5ALCz1-oi98ViCO7kgQ</td>\n      <td>4.038077</td>\n    </tr>\n    <tr>\n      <th>14</th>\n      <td>8dUbErn76KcD2Sj_iMOWag</td>\n      <td>Tucson</td>\n      <td>AZ</td>\n      <td>5Ce3lZksYVkCbrihqylVHQ</td>\n      <td>4.093140</td>\n    </tr>\n    <tr>\n      <th>15</th>\n      <td>8dUbErn76KcD2Sj_iMOWag</td>\n      <td>Tucson</td>\n      <td>AZ</td>\n      <td>wzPc5d1l0PpxQLQDhh8T2w</td>\n      <td>4.111027</td>\n    </tr>\n    <tr>\n      <th>16</th>\n      <td>8dUbErn76KcD2Sj_iMOWag</td>\n      <td>Tucson</td>\n      <td>AZ</td>\n      <td>SVJJIoAiW3vHwoSpVnUcLQ</td>\n      <td>3.960584</td>\n    </tr>\n    <tr>\n      <th>17</th>\n      <td>8dUbErn76KcD2Sj_iMOWag</td>\n      <td>Tucson</td>\n      <td>AZ</td>\n      <td>CJoO4HYD0tZRXlZqA04wmw</td>\n      <td>4.230498</td>\n    </tr>\n    <tr>\n      <th>18</th>\n      <td>8dUbErn76KcD2Sj_iMOWag</td>\n      <td>Tucson</td>\n      <td>AZ</td>\n      <td>AbeWP7_Vxhp45I9IPZ7Otg</td>\n      <td>3.888821</td>\n    </tr>\n    <tr>\n      <th>19</th>\n      <td>8dUbErn76KcD2Sj_iMOWag</td>\n      <td>Tucson</td>\n      <td>AZ</td>\n      <td>Wp9D-r8Ap1Fv0IIM0zGfoQ</td>\n      <td>3.947994</td>\n    </tr>\n  </tbody>\n</table>\n</div>"
     },
     "execution_count": 36,
     "metadata": {},
     "output_type": "execute_result"
    }
   ],
   "source": [
    "predict_df_baseline.head(20)"
   ],
   "metadata": {
    "collapsed": false,
    "ExecuteTime": {
     "end_time": "2023-10-08T21:38:04.816730500Z",
     "start_time": "2023-10-08T21:38:04.580464100Z"
    }
   },
   "id": "b465f5f9666b3325"
  },
  {
   "cell_type": "code",
   "execution_count": 37,
   "outputs": [
    {
     "data": {
      "text/plain": "business_id\nxwKYBPO0ByGlkvNcr8FdqQ    4.140940\nCJoO4HYD0tZRXlZqA04wmw    4.134371\ndlOTtFJbcyN1m5PR2IDxOg    4.121631\nXyGRDrgCK0z4CiA6nhwEaw    4.113947\nvtbAuFCR8ugUaajtF_wDEQ    4.103778\nl8yqThofpWGUs6lxOeIdOA    4.087842\nyRs15dgEYvxGatbDyeVXiA    4.033280\nwzPc5d1l0PpxQLQDhh8T2w    4.014900\np7tSGmWpFV246aYhwODgBg    4.006801\n5Ce3lZksYVkCbrihqylVHQ    3.997013\nName: predictions, dtype: float64"
     },
     "execution_count": 37,
     "metadata": {},
     "output_type": "execute_result"
    }
   ],
   "source": [
    "top10_baseline=predict_df_baseline.groupby('business_id')[\"predictions\"].mean()\n",
    "top10_baseline.sort_values(ascending=False).head(10)"
   ],
   "metadata": {
    "collapsed": false,
    "ExecuteTime": {
     "end_time": "2023-10-08T21:38:04.832361400Z",
     "start_time": "2023-10-08T21:38:04.596123400Z"
    }
   },
   "id": "4fd1e053d7d4e096"
  },
  {
   "cell_type": "code",
   "execution_count": 38,
   "outputs": [
    {
     "name": "stdout",
     "output_type": "stream",
     "text": [
      "<class 'pandas.core.frame.DataFrame'>\n"
     ]
    }
   ],
   "source": [
    "resultado_baseline=top10_baseline.to_frame()\n",
    "print(type(resultado_baseline))"
   ],
   "metadata": {
    "collapsed": false,
    "ExecuteTime": {
     "end_time": "2023-10-08T21:38:04.879271500Z",
     "start_time": "2023-10-08T21:38:04.612140800Z"
    }
   },
   "id": "8a055601d58a291d"
  },
  {
   "cell_type": "code",
   "execution_count": 39,
   "outputs": [
    {
     "data": {
      "text/plain": "              business_id  predictions                         restaurant\n0  5CX7rtnwYnmqFCihOyWivg     3.971063  Opa's Best Greek American Cuisine\n1  5Ce3lZksYVkCbrihqylVHQ     3.997013                         Sushi Nara\n2  7PbJjm9Oeq9LqM9zKsF-8g     3.433138                      Seoul Kitchen\n3  A93_XS0xZu1OtfQPTIJeqw     3.829553                   Jimmy's Pizzeria\n4  AL89lQXFfE0HpbTvpxuSkA     3.910505           Bob's Steak & Chop House\n5  AbeWP7_Vxhp45I9IPZ7Otg     3.792694                    Mosaic Cafe Dos\n6  CJoO4HYD0tZRXlZqA04wmw     4.134371                   Crave Coffee Bar\n7  FjRH6l8aQOmfXuo00lheLA     3.628336                Broadway Pizza Cafe\n8  IJ5N0TNgDDFP0UauRmepDg     3.988634        Luckie's Thai-Asian Cuisine\n9  KZA_HEOsBXf8dtrk9rqNJA     3.918936             Prep & Pastry on Grant",
      "text/html": "<div>\n<style scoped>\n    .dataframe tbody tr th:only-of-type {\n        vertical-align: middle;\n    }\n\n    .dataframe tbody tr th {\n        vertical-align: top;\n    }\n\n    .dataframe thead th {\n        text-align: right;\n    }\n</style>\n<table border=\"1\" class=\"dataframe\">\n  <thead>\n    <tr style=\"text-align: right;\">\n      <th></th>\n      <th>business_id</th>\n      <th>predictions</th>\n      <th>restaurant</th>\n    </tr>\n  </thead>\n  <tbody>\n    <tr>\n      <th>0</th>\n      <td>5CX7rtnwYnmqFCihOyWivg</td>\n      <td>3.971063</td>\n      <td>Opa's Best Greek American Cuisine</td>\n    </tr>\n    <tr>\n      <th>1</th>\n      <td>5Ce3lZksYVkCbrihqylVHQ</td>\n      <td>3.997013</td>\n      <td>Sushi Nara</td>\n    </tr>\n    <tr>\n      <th>2</th>\n      <td>7PbJjm9Oeq9LqM9zKsF-8g</td>\n      <td>3.433138</td>\n      <td>Seoul Kitchen</td>\n    </tr>\n    <tr>\n      <th>3</th>\n      <td>A93_XS0xZu1OtfQPTIJeqw</td>\n      <td>3.829553</td>\n      <td>Jimmy's Pizzeria</td>\n    </tr>\n    <tr>\n      <th>4</th>\n      <td>AL89lQXFfE0HpbTvpxuSkA</td>\n      <td>3.910505</td>\n      <td>Bob's Steak &amp; Chop House</td>\n    </tr>\n    <tr>\n      <th>5</th>\n      <td>AbeWP7_Vxhp45I9IPZ7Otg</td>\n      <td>3.792694</td>\n      <td>Mosaic Cafe Dos</td>\n    </tr>\n    <tr>\n      <th>6</th>\n      <td>CJoO4HYD0tZRXlZqA04wmw</td>\n      <td>4.134371</td>\n      <td>Crave Coffee Bar</td>\n    </tr>\n    <tr>\n      <th>7</th>\n      <td>FjRH6l8aQOmfXuo00lheLA</td>\n      <td>3.628336</td>\n      <td>Broadway Pizza Cafe</td>\n    </tr>\n    <tr>\n      <th>8</th>\n      <td>IJ5N0TNgDDFP0UauRmepDg</td>\n      <td>3.988634</td>\n      <td>Luckie's Thai-Asian Cuisine</td>\n    </tr>\n    <tr>\n      <th>9</th>\n      <td>KZA_HEOsBXf8dtrk9rqNJA</td>\n      <td>3.918936</td>\n      <td>Prep &amp; Pastry on Grant</td>\n    </tr>\n  </tbody>\n</table>\n</div>"
     },
     "execution_count": 39,
     "metadata": {},
     "output_type": "execute_result"
    }
   ],
   "source": [
    "df_join_baseline=resultado_baseline.merge(df_res_bus[[\"business_id\",\"restaurant\"]],how=\"inner\",on=\"business_id\")\n",
    "df_join_baseline.head(10)"
   ],
   "metadata": {
    "collapsed": false,
    "ExecuteTime": {
     "end_time": "2023-10-08T21:38:04.879271500Z",
     "start_time": "2023-10-08T21:38:04.627773800Z"
    }
   },
   "id": "916302a4ee3deee0"
  },
  {
   "cell_type": "code",
   "execution_count": 40,
   "outputs": [
    {
     "data": {
      "text/plain": "               business_id  predictions                         restaurant\n32  xwKYBPO0ByGlkvNcr8FdqQ     4.140940                     Le Rendez-vous\n6   CJoO4HYD0tZRXlZqA04wmw     4.134371                   Crave Coffee Bar\n18  dlOTtFJbcyN1m5PR2IDxOg     4.121631               Selena's Salvadorian\n15  XyGRDrgCK0z4CiA6nhwEaw     4.113947           Persian Room Fine Dining\n30  vtbAuFCR8ugUaajtF_wDEQ     4.103778                     New York Pizza\n26  l8yqThofpWGUs6lxOeIdOA     4.087842        Shish Kebab House of Tucson\n33  yRs15dgEYvxGatbDyeVXiA     4.033280                         Costa Vida\n31  wzPc5d1l0PpxQLQDhh8T2w     4.014900                          Toro Loco\n29  p7tSGmWpFV246aYhwODgBg     4.006801                 O Sushi Restaurant\n1   5Ce3lZksYVkCbrihqylVHQ     3.997013                         Sushi Nara\n8   IJ5N0TNgDDFP0UauRmepDg     3.988634        Luckie's Thai-Asian Cuisine\n0   5CX7rtnwYnmqFCihOyWivg     3.971063  Opa's Best Greek American Cuisine\n25  jZ1rUspubgkuZjwKJMhEEw     3.956896                          MOD Pizza\n27  nEaTbGFlU7d9eLU2kl6KBw     3.947472               Taqueria El Pueblito\n12  RIQ5ALCz1-oi98ViCO7kgQ     3.941951             La Baguette Parisienne\n24  jLnIvbbXUg4s7CP9G-Whvw     3.941693                   Harvest on River\n9   KZA_HEOsBXf8dtrk9rqNJA     3.918936             Prep & Pastry on Grant\n28  o3woQWQ-0HxFftItIEeNdw     3.917037                         El Rustico\n17  a_oRfgkNFnulTada--P_Tg     3.915267             Sonoran Brunch Company\n19  eGi7CE2YaN6YMiGyXNi8XQ     3.910505        Spice Garden Indian Cuisine\n21  g9DDXMuDwaW-GtD2f6xl6A     3.910505                     Breakfast Stop\n4   AL89lQXFfE0HpbTvpxuSkA     3.910505           Bob's Steak & Chop House\n16  aDL_KdxbDRT5s51Jtn9V5g     3.880226                     Charro del Rey\n13  SVJJIoAiW3vHwoSpVnUcLQ     3.864457             Pastiche Modern Eatery\n11  RHdEScVIAQ7xzFFMiQEnAQ     3.853691                    The Quesadillas\n14  Wp9D-r8Ap1Fv0IIM0zGfoQ     3.851867              Bisbee Breakfast Club\n22  gtuoRlBPqoTIEPrcfbIP-g     3.845900                        Korea House\n23  hzXAxu35F32Ob9uVCh-dIQ     3.830701                  Thai China Bistro\n3   A93_XS0xZu1OtfQPTIJeqw     3.829553                   Jimmy's Pizzeria\n5   AbeWP7_Vxhp45I9IPZ7Otg     3.792694                    Mosaic Cafe Dos\n10  LXR1f2ayOSq7w-Ux7UPUtg     3.669377        Ichiban Japanese Restaurant\n20  eaNouTpxnIu7M80xdeLxFw     3.651538        Tequila's Mexican & Seafood\n7   FjRH6l8aQOmfXuo00lheLA     3.628336                Broadway Pizza Cafe\n2   7PbJjm9Oeq9LqM9zKsF-8g     3.433138                      Seoul Kitchen",
      "text/html": "<div>\n<style scoped>\n    .dataframe tbody tr th:only-of-type {\n        vertical-align: middle;\n    }\n\n    .dataframe tbody tr th {\n        vertical-align: top;\n    }\n\n    .dataframe thead th {\n        text-align: right;\n    }\n</style>\n<table border=\"1\" class=\"dataframe\">\n  <thead>\n    <tr style=\"text-align: right;\">\n      <th></th>\n      <th>business_id</th>\n      <th>predictions</th>\n      <th>restaurant</th>\n    </tr>\n  </thead>\n  <tbody>\n    <tr>\n      <th>32</th>\n      <td>xwKYBPO0ByGlkvNcr8FdqQ</td>\n      <td>4.140940</td>\n      <td>Le Rendez-vous</td>\n    </tr>\n    <tr>\n      <th>6</th>\n      <td>CJoO4HYD0tZRXlZqA04wmw</td>\n      <td>4.134371</td>\n      <td>Crave Coffee Bar</td>\n    </tr>\n    <tr>\n      <th>18</th>\n      <td>dlOTtFJbcyN1m5PR2IDxOg</td>\n      <td>4.121631</td>\n      <td>Selena's Salvadorian</td>\n    </tr>\n    <tr>\n      <th>15</th>\n      <td>XyGRDrgCK0z4CiA6nhwEaw</td>\n      <td>4.113947</td>\n      <td>Persian Room Fine Dining</td>\n    </tr>\n    <tr>\n      <th>30</th>\n      <td>vtbAuFCR8ugUaajtF_wDEQ</td>\n      <td>4.103778</td>\n      <td>New York Pizza</td>\n    </tr>\n    <tr>\n      <th>26</th>\n      <td>l8yqThofpWGUs6lxOeIdOA</td>\n      <td>4.087842</td>\n      <td>Shish Kebab House of Tucson</td>\n    </tr>\n    <tr>\n      <th>33</th>\n      <td>yRs15dgEYvxGatbDyeVXiA</td>\n      <td>4.033280</td>\n      <td>Costa Vida</td>\n    </tr>\n    <tr>\n      <th>31</th>\n      <td>wzPc5d1l0PpxQLQDhh8T2w</td>\n      <td>4.014900</td>\n      <td>Toro Loco</td>\n    </tr>\n    <tr>\n      <th>29</th>\n      <td>p7tSGmWpFV246aYhwODgBg</td>\n      <td>4.006801</td>\n      <td>O Sushi Restaurant</td>\n    </tr>\n    <tr>\n      <th>1</th>\n      <td>5Ce3lZksYVkCbrihqylVHQ</td>\n      <td>3.997013</td>\n      <td>Sushi Nara</td>\n    </tr>\n    <tr>\n      <th>8</th>\n      <td>IJ5N0TNgDDFP0UauRmepDg</td>\n      <td>3.988634</td>\n      <td>Luckie's Thai-Asian Cuisine</td>\n    </tr>\n    <tr>\n      <th>0</th>\n      <td>5CX7rtnwYnmqFCihOyWivg</td>\n      <td>3.971063</td>\n      <td>Opa's Best Greek American Cuisine</td>\n    </tr>\n    <tr>\n      <th>25</th>\n      <td>jZ1rUspubgkuZjwKJMhEEw</td>\n      <td>3.956896</td>\n      <td>MOD Pizza</td>\n    </tr>\n    <tr>\n      <th>27</th>\n      <td>nEaTbGFlU7d9eLU2kl6KBw</td>\n      <td>3.947472</td>\n      <td>Taqueria El Pueblito</td>\n    </tr>\n    <tr>\n      <th>12</th>\n      <td>RIQ5ALCz1-oi98ViCO7kgQ</td>\n      <td>3.941951</td>\n      <td>La Baguette Parisienne</td>\n    </tr>\n    <tr>\n      <th>24</th>\n      <td>jLnIvbbXUg4s7CP9G-Whvw</td>\n      <td>3.941693</td>\n      <td>Harvest on River</td>\n    </tr>\n    <tr>\n      <th>9</th>\n      <td>KZA_HEOsBXf8dtrk9rqNJA</td>\n      <td>3.918936</td>\n      <td>Prep &amp; Pastry on Grant</td>\n    </tr>\n    <tr>\n      <th>28</th>\n      <td>o3woQWQ-0HxFftItIEeNdw</td>\n      <td>3.917037</td>\n      <td>El Rustico</td>\n    </tr>\n    <tr>\n      <th>17</th>\n      <td>a_oRfgkNFnulTada--P_Tg</td>\n      <td>3.915267</td>\n      <td>Sonoran Brunch Company</td>\n    </tr>\n    <tr>\n      <th>19</th>\n      <td>eGi7CE2YaN6YMiGyXNi8XQ</td>\n      <td>3.910505</td>\n      <td>Spice Garden Indian Cuisine</td>\n    </tr>\n    <tr>\n      <th>21</th>\n      <td>g9DDXMuDwaW-GtD2f6xl6A</td>\n      <td>3.910505</td>\n      <td>Breakfast Stop</td>\n    </tr>\n    <tr>\n      <th>4</th>\n      <td>AL89lQXFfE0HpbTvpxuSkA</td>\n      <td>3.910505</td>\n      <td>Bob's Steak &amp; Chop House</td>\n    </tr>\n    <tr>\n      <th>16</th>\n      <td>aDL_KdxbDRT5s51Jtn9V5g</td>\n      <td>3.880226</td>\n      <td>Charro del Rey</td>\n    </tr>\n    <tr>\n      <th>13</th>\n      <td>SVJJIoAiW3vHwoSpVnUcLQ</td>\n      <td>3.864457</td>\n      <td>Pastiche Modern Eatery</td>\n    </tr>\n    <tr>\n      <th>11</th>\n      <td>RHdEScVIAQ7xzFFMiQEnAQ</td>\n      <td>3.853691</td>\n      <td>The Quesadillas</td>\n    </tr>\n    <tr>\n      <th>14</th>\n      <td>Wp9D-r8Ap1Fv0IIM0zGfoQ</td>\n      <td>3.851867</td>\n      <td>Bisbee Breakfast Club</td>\n    </tr>\n    <tr>\n      <th>22</th>\n      <td>gtuoRlBPqoTIEPrcfbIP-g</td>\n      <td>3.845900</td>\n      <td>Korea House</td>\n    </tr>\n    <tr>\n      <th>23</th>\n      <td>hzXAxu35F32Ob9uVCh-dIQ</td>\n      <td>3.830701</td>\n      <td>Thai China Bistro</td>\n    </tr>\n    <tr>\n      <th>3</th>\n      <td>A93_XS0xZu1OtfQPTIJeqw</td>\n      <td>3.829553</td>\n      <td>Jimmy's Pizzeria</td>\n    </tr>\n    <tr>\n      <th>5</th>\n      <td>AbeWP7_Vxhp45I9IPZ7Otg</td>\n      <td>3.792694</td>\n      <td>Mosaic Cafe Dos</td>\n    </tr>\n    <tr>\n      <th>10</th>\n      <td>LXR1f2ayOSq7w-Ux7UPUtg</td>\n      <td>3.669377</td>\n      <td>Ichiban Japanese Restaurant</td>\n    </tr>\n    <tr>\n      <th>20</th>\n      <td>eaNouTpxnIu7M80xdeLxFw</td>\n      <td>3.651538</td>\n      <td>Tequila's Mexican &amp; Seafood</td>\n    </tr>\n    <tr>\n      <th>7</th>\n      <td>FjRH6l8aQOmfXuo00lheLA</td>\n      <td>3.628336</td>\n      <td>Broadway Pizza Cafe</td>\n    </tr>\n    <tr>\n      <th>2</th>\n      <td>7PbJjm9Oeq9LqM9zKsF-8g</td>\n      <td>3.433138</td>\n      <td>Seoul Kitchen</td>\n    </tr>\n  </tbody>\n</table>\n</div>"
     },
     "execution_count": 40,
     "metadata": {},
     "output_type": "execute_result"
    }
   ],
   "source": [
    "df_join_baseline.sort_values(by=\"predictions\", ascending=False)"
   ],
   "metadata": {
    "collapsed": false,
    "ExecuteTime": {
     "end_time": "2023-10-08T21:38:05.177758300Z",
     "start_time": "2023-10-08T21:38:04.643429800Z"
    }
   },
   "id": "ff50f2f6d5379720"
  },
  {
   "cell_type": "markdown",
   "source": [
    "Baseline 2: Collaborative Filtering via SVD"
   ],
   "metadata": {
    "collapsed": false
   },
   "id": "3f2b1b6d13c54821"
  },
  {
   "cell_type": "code",
   "execution_count": 41,
   "outputs": [],
   "source": [
    "import matplotlib.pyplot as plt\n",
    "import json\n",
    "from tqdm import tqdm"
   ],
   "metadata": {
    "collapsed": false,
    "ExecuteTime": {
     "end_time": "2023-10-08T21:38:05.393901500Z",
     "start_time": "2023-10-08T21:38:04.659054800Z"
    }
   },
   "id": "de3b4eaef82c3707"
  },
  {
   "cell_type": "code",
   "execution_count": 42,
   "outputs": [],
   "source": [
    "def process(df):\n",
    "    df['date']  = pd.to_datetime(df['date'])\n",
    "    df['week_day'] = df['date'].dt.weekday\n",
    "    df['month'] = df['date'].dt.month\n",
    "    df['hour'] = df['date'].dt.hour\n",
    "    df = df.merge(users, on = 'user_id')\n",
    "    df = df.merge(df_res_bus, on = 'business_id')\n",
    "    rename_dict = {'business_longitude': 'longitude', 'business_latitude': 'latitude',\n",
    "                   'business_state':'state','business_city':'city', 'business_address': 'address'}\n",
    "    df = df.rename(columns = rename_dict)\n",
    "    return df\n",
    "\n",
    "reviews_train = process(reviews_train_.copy())\n",
    "reviews_holdout = process(reviews_holdout_.copy())\n",
    "reviews_val = process(reviews_cv_.copy())"
   ],
   "metadata": {
    "collapsed": false,
    "ExecuteTime": {
     "end_time": "2023-10-08T21:38:05.441242900Z",
     "start_time": "2023-10-08T21:38:04.674648400Z"
    }
   },
   "id": "c99564e74e23ae86"
  },
  {
   "cell_type": "code",
   "execution_count": 43,
   "outputs": [],
   "source": [
    "# remove observations that may cause cold-start problem, which breaks the model.\n",
    "reviews_test = reviews_test.loc[reviews_test.business_id.isin(reviews_train.business_id)]\n",
    "reviews_val = reviews_val.loc[reviews_val.business_id.isin(reviews_train.business_id)]"
   ],
   "metadata": {
    "collapsed": false,
    "ExecuteTime": {
     "end_time": "2023-10-08T21:38:05.456834600Z",
     "start_time": "2023-10-08T21:38:04.722018900Z"
    }
   },
   "id": "44c2bbcc64b6f977"
  },
  {
   "cell_type": "code",
   "execution_count": 44,
   "outputs": [],
   "source": [
    "trainset = reviews_train.loc[:,['user_id', 'business_id', 'rating']]\n",
    "trainset.columns = ['userID', 'itemID','rating']\n",
    "valset = reviews_val.loc[:, ['user_id', 'business_id', 'rating']]\n",
    "valset.columns = ['userID', 'itemID','rating']\n",
    "testset = reviews_holdout.loc[:, ['user_id', 'business_id', 'rating']]\n",
    "testset.columns = ['userID', 'itemID','rating']"
   ],
   "metadata": {
    "collapsed": false,
    "ExecuteTime": {
     "end_time": "2023-10-08T21:38:05.519785Z",
     "start_time": "2023-10-08T21:38:04.738098200Z"
    }
   },
   "id": "921213bf94c5e9c9"
  },
  {
   "cell_type": "code",
   "execution_count": 45,
   "outputs": [],
   "source": [
    "reader = Reader(rating_scale = (0.0, 5.0))\n",
    "train_data = Dataset.load_from_df(trainset[['userID','itemID','rating']], reader)\n",
    "val_data = Dataset.load_from_df(valset[['userID','itemID','rating']], reader)\n",
    "test_data = Dataset.load_from_df(testset[['userID','itemID','rating']], reader)\n",
    "\n",
    "train_sr = train_data.build_full_trainset()\n",
    "val_sr_before = val_data.build_full_trainset()\n",
    "val_sr = val_sr_before.build_testset()\n",
    "test_sr_before = test_data.build_full_trainset()\n",
    "test_sr = test_sr_before.build_testset()"
   ],
   "metadata": {
    "collapsed": false,
    "ExecuteTime": {
     "end_time": "2023-10-08T21:38:05.519785Z",
     "start_time": "2023-10-08T21:38:04.753726300Z"
    }
   },
   "id": "882d1f37b794c68d"
  },
  {
   "cell_type": "markdown",
   "source": [
    "Hyperparameter Tuning"
   ],
   "metadata": {
    "collapsed": false
   },
   "id": "da871e2335a1ffbd"
  },
  {
   "cell_type": "code",
   "execution_count": 46,
   "outputs": [
    {
     "name": "stdout",
     "output_type": "stream",
     "text": [
      "Fitting n: 10, l: 0.001, r: 0.02\n",
      "RMSE: 1.0966\n",
      "Fitting n: 10, l: 0.001, r: 0.05\n",
      "RMSE: 1.1178\n",
      "Fitting n: 10, l: 0.001, r: 0.1\n",
      "RMSE: 1.1517\n",
      "Fitting n: 10, l: 0.001, r: 0.4\n",
      "RMSE: 1.1057\n",
      "Fitting n: 10, l: 0.001, r: 0.5\n",
      "RMSE: 1.0981\n",
      "Fitting n: 10, l: 0.003, r: 0.02\n",
      "RMSE: 1.0915\n",
      "Fitting n: 10, l: 0.003, r: 0.05\n",
      "RMSE: 1.0810\n",
      "Fitting n: 10, l: 0.003, r: 0.1\n",
      "RMSE: 1.0831\n",
      "Fitting n: 10, l: 0.003, r: 0.4\n",
      "RMSE: 1.0900\n",
      "Fitting n: 10, l: 0.003, r: 0.5\n",
      "RMSE: 1.0986\n",
      "Fitting n: 10, l: 0.005, r: 0.02\n",
      "RMSE: 1.0897\n",
      "Fitting n: 10, l: 0.005, r: 0.05\n",
      "RMSE: 1.0809\n",
      "Fitting n: 10, l: 0.005, r: 0.1\n",
      "RMSE: 1.0951\n",
      "Fitting n: 10, l: 0.005, r: 0.4\n",
      "RMSE: 1.0701\n",
      "Fitting n: 10, l: 0.005, r: 0.5\n",
      "RMSE: 1.0848\n",
      "Fitting n: 20, l: 0.001, r: 0.02\n",
      "RMSE: 1.1095\n",
      "Fitting n: 20, l: 0.001, r: 0.05\n",
      "RMSE: 1.0845\n",
      "Fitting n: 20, l: 0.001, r: 0.1\n",
      "RMSE: 1.1228\n",
      "Fitting n: 20, l: 0.001, r: 0.4\n",
      "RMSE: 1.1150\n",
      "Fitting n: 20, l: 0.001, r: 0.5\n",
      "RMSE: 1.1034\n",
      "Fitting n: 20, l: 0.003, r: 0.02\n",
      "RMSE: 1.0875\n",
      "Fitting n: 20, l: 0.003, r: 0.05\n",
      "RMSE: 1.0929\n",
      "Fitting n: 20, l: 0.003, r: 0.1\n",
      "RMSE: 1.0996\n",
      "Fitting n: 20, l: 0.003, r: 0.4\n",
      "RMSE: 1.0788\n",
      "Fitting n: 20, l: 0.003, r: 0.5\n",
      "RMSE: 1.0530\n",
      "Fitting n: 20, l: 0.005, r: 0.02\n",
      "RMSE: 1.0497\n",
      "Fitting n: 20, l: 0.005, r: 0.05\n",
      "RMSE: 1.0536\n",
      "Fitting n: 20, l: 0.005, r: 0.1\n",
      "RMSE: 1.0556\n",
      "Fitting n: 20, l: 0.005, r: 0.4\n",
      "RMSE: 1.0643\n",
      "Fitting n: 20, l: 0.005, r: 0.5\n",
      "RMSE: 1.0568\n",
      "Fitting n: 30, l: 0.001, r: 0.02\n",
      "RMSE: 1.0888\n",
      "Fitting n: 30, l: 0.001, r: 0.05\n",
      "RMSE: 1.1083\n",
      "Fitting n: 30, l: 0.001, r: 0.1\n",
      "RMSE: 1.1013\n",
      "Fitting n: 30, l: 0.001, r: 0.4\n",
      "RMSE: 1.0924\n",
      "Fitting n: 30, l: 0.001, r: 0.5\n",
      "RMSE: 1.0774\n",
      "Fitting n: 30, l: 0.003, r: 0.02\n",
      "RMSE: 1.0667\n",
      "Fitting n: 30, l: 0.003, r: 0.05\n",
      "RMSE: 1.1028\n",
      "Fitting n: 30, l: 0.003, r: 0.1\n",
      "RMSE: 1.0757\n",
      "Fitting n: 30, l: 0.003, r: 0.4\n",
      "RMSE: 1.0735\n",
      "Fitting n: 30, l: 0.003, r: 0.5\n",
      "RMSE: 1.0764\n",
      "Fitting n: 30, l: 0.005, r: 0.02\n",
      "RMSE: 1.0633\n",
      "Fitting n: 30, l: 0.005, r: 0.05\n",
      "RMSE: 1.0414\n",
      "Fitting n: 30, l: 0.005, r: 0.1\n",
      "RMSE: 1.0418\n",
      "Fitting n: 30, l: 0.005, r: 0.4\n",
      "RMSE: 1.0715\n",
      "Fitting n: 30, l: 0.005, r: 0.5\n",
      "RMSE: 1.0647\n"
     ]
    }
   ],
   "source": [
    "RMSE_tune = {}\n",
    "n_epochs = [10, 20, 30]  # the number of iteration of the SGD procedure\n",
    "lr_all = [0.001, 0.003, 0.005] # the learning rate for all parameters\n",
    "reg_all =  [0.02, 0.05, 0.1, 0.4, 0.5] # the regularization term for all parameters\n",
    "\n",
    "for n in n_epochs:\n",
    "    for l in lr_all:\n",
    "        for r in reg_all:\n",
    "            print('Fitting n: {0}, l: {1}, r: {2}'.format(n, l, r))\n",
    "            algo = SVD(n_epochs = n, lr_all = l, reg_all = r)\n",
    "            algo.fit(train_sr)\n",
    "            predictions = algo.test(val_sr)\n",
    "            RMSE_tune[n,l,r] = accuracy.rmse(predictions)"
   ],
   "metadata": {
    "collapsed": false,
    "ExecuteTime": {
     "end_time": "2023-10-08T21:38:05.753189200Z",
     "start_time": "2023-10-08T21:38:04.769353200Z"
    }
   },
   "id": "bb4638e51d92f8b3"
  },
  {
   "cell_type": "code",
   "execution_count": 47,
   "outputs": [
    {
     "data": {
      "text/plain": "(30, 0.005, 0.05)"
     },
     "execution_count": 47,
     "metadata": {},
     "output_type": "execute_result"
    }
   ],
   "source": [
    "import operator\n",
    "min(RMSE_tune.items(), key=operator.itemgetter(1))[0]"
   ],
   "metadata": {
    "collapsed": false,
    "ExecuteTime": {
     "end_time": "2023-10-08T21:38:05.753189200Z",
     "start_time": "2023-10-08T21:38:05.041571400Z"
    }
   },
   "id": "c62338ceee96ca06"
  },
  {
   "cell_type": "markdown",
   "source": [
    "Evaluation"
   ],
   "metadata": {
    "collapsed": false
   },
   "id": "41fb8bdfd3b90c02"
  },
  {
   "cell_type": "code",
   "execution_count": 67,
   "outputs": [],
   "source": [
    "# train and test on the optimal parameter\n",
    "start_time = time.time()\n",
    "algo_real = SVD(n_epochs = 20, lr_all = 0.005, reg_all = 0.05)\n",
    "algo_real.fit(train_sr)\n",
    "predictions = algo_real.test(test_sr)"
   ],
   "metadata": {
    "collapsed": false,
    "ExecuteTime": {
     "end_time": "2023-10-08T21:38:53.310720700Z",
     "start_time": "2023-10-08T21:38:52.581146800Z"
    }
   },
   "id": "c809642d664b3e10"
  },
  {
   "cell_type": "code",
   "execution_count": 68,
   "outputs": [
    {
     "name": "stdout",
     "output_type": "stream",
     "text": [
      "--- 0.015628576278686523 seconds ---\n"
     ]
    }
   ],
   "source": [
    "print(\"--- %s seconds ---\" % (time.time() - start_time))"
   ],
   "metadata": {
    "collapsed": false,
    "ExecuteTime": {
     "end_time": "2023-10-08T21:38:53.379807700Z",
     "start_time": "2023-10-08T21:38:52.596775300Z"
    }
   },
   "id": "f8ce0c5400e1100c"
  },
  {
   "cell_type": "code",
   "execution_count": 69,
   "outputs": [
    {
     "name": "stdout",
     "output_type": "stream",
     "text": [
      "RMSE: 1.0964\n"
     ]
    },
    {
     "data": {
      "text/plain": "1.096364475574629"
     },
     "execution_count": 69,
     "metadata": {},
     "output_type": "execute_result"
    }
   ],
   "source": [
    "accuracy.rmse(predictions)"
   ],
   "metadata": {
    "collapsed": false,
    "ExecuteTime": {
     "end_time": "2023-10-08T21:38:53.395408900Z",
     "start_time": "2023-10-08T21:38:52.612854900Z"
    }
   },
   "id": "3d2ed37a02ec8cdf"
  },
  {
   "cell_type": "code",
   "execution_count": 70,
   "outputs": [
    {
     "name": "stdout",
     "output_type": "stream",
     "text": [
      "MAE:  0.9123\n"
     ]
    },
    {
     "data": {
      "text/plain": "0.9122662605605533"
     },
     "execution_count": 70,
     "metadata": {},
     "output_type": "execute_result"
    }
   ],
   "source": [
    "accuracy.mae(predictions)"
   ],
   "metadata": {
    "collapsed": false,
    "ExecuteTime": {
     "end_time": "2023-10-08T21:38:53.395408900Z",
     "start_time": "2023-10-08T21:38:52.628486900Z"
    }
   },
   "id": "4300dbdc72698fd2"
  },
  {
   "cell_type": "code",
   "execution_count": 71,
   "outputs": [
    {
     "data": {
      "text/plain": "-0.041890923202276165"
     },
     "execution_count": 71,
     "metadata": {},
     "output_type": "execute_result"
    }
   ],
   "source": [
    "r2_score([t[2] for t in predictions], [t[3] for t in predictions])"
   ],
   "metadata": {
    "collapsed": false,
    "ExecuteTime": {
     "end_time": "2023-10-08T21:38:53.395408900Z",
     "start_time": "2023-10-08T21:38:52.644111100Z"
    }
   },
   "id": "913902901e54e7d7"
  },
  {
   "cell_type": "code",
   "execution_count": 72,
   "outputs": [],
   "source": [
    "# To evaluate coverage and serendipity metrics, use evaluation set created earlier.\n",
    "predict_df_20 = pd.read_csv('../datasets/filter_data/metric_sample.csv', index_col=0)\n",
    "predict_df_20['predictions'] = 2.5 # fill in this value temporally\n",
    "eval_20 = Dataset.load_from_df(predict_df_20[['user_id','business_id','predictions']], reader)"
   ],
   "metadata": {
    "collapsed": false,
    "ExecuteTime": {
     "end_time": "2023-10-08T21:38:53.395408900Z",
     "start_time": "2023-10-08T21:38:52.659769800Z"
    }
   },
   "id": "ab1efd75e08cc78c"
  },
  {
   "cell_type": "code",
   "execution_count": 73,
   "outputs": [],
   "source": [
    "eval_before_20 = eval_20.build_full_trainset()\n",
    "eval_sr_20 = eval_before_20.build_testset()\n",
    "eval_pred_20 = algo_real.test(eval_sr_20)\n",
    "\n",
    "baseline_20 = pd.DataFrame(eval_pred_20, columns = ['userId','business_id','rating','pred_rating','x'])\n",
    "predict_df_20['predictions'] = baseline_20.pred_rating"
   ],
   "metadata": {
    "collapsed": false,
    "ExecuteTime": {
     "end_time": "2023-10-08T21:38:53.395408900Z",
     "start_time": "2023-10-08T21:38:52.675393900Z"
    }
   },
   "id": "c5b706aaa74522bd"
  },
  {
   "cell_type": "code",
   "execution_count": 74,
   "outputs": [
    {
     "name": "stdout",
     "output_type": "stream",
     "text": [
      "0.2 0.36 0.86 13.2\n"
     ]
    }
   ],
   "source": [
    "top_10, coverage, serendipity, avg_rank = get_all_metrics(predict_df_20, out, reviews_train_final)"
   ],
   "metadata": {
    "collapsed": false,
    "ExecuteTime": {
     "end_time": "2023-10-08T21:38:53.395408900Z",
     "start_time": "2023-10-08T21:38:52.691023200Z"
    }
   },
   "id": "d70b399a64f1502e"
  },
  {
   "cell_type": "code",
   "execution_count": 75,
   "outputs": [
    {
     "data": {
      "text/plain": "                   user_id    city state             business_id  predictions\n0   8dUbErn76KcD2Sj_iMOWag  Tucson    AZ  xwKYBPO0ByGlkvNcr8FdqQ     4.118759\n1   8dUbErn76KcD2Sj_iMOWag  Tucson    AZ  LXR1f2ayOSq7w-Ux7UPUtg     3.615065\n2   8dUbErn76KcD2Sj_iMOWag  Tucson    AZ  RHdEScVIAQ7xzFFMiQEnAQ     4.152578\n3   8dUbErn76KcD2Sj_iMOWag  Tucson    AZ  l8yqThofpWGUs6lxOeIdOA     4.265540\n4   8dUbErn76KcD2Sj_iMOWag  Tucson    AZ  XyGRDrgCK0z4CiA6nhwEaw     4.067497\n5   8dUbErn76KcD2Sj_iMOWag  Tucson    AZ  5CX7rtnwYnmqFCihOyWivg     4.296358\n6   8dUbErn76KcD2Sj_iMOWag  Tucson    AZ  aDL_KdxbDRT5s51Jtn9V5g     4.098340\n7   8dUbErn76KcD2Sj_iMOWag  Tucson    AZ  7PbJjm9Oeq9LqM9zKsF-8g     3.652157\n8   8dUbErn76KcD2Sj_iMOWag  Tucson    AZ  nEaTbGFlU7d9eLU2kl6KBw     4.269680\n9   8dUbErn76KcD2Sj_iMOWag  Tucson    AZ  FjRH6l8aQOmfXuo00lheLA     3.810833\n10  8dUbErn76KcD2Sj_iMOWag  Tucson    AZ  dlOTtFJbcyN1m5PR2IDxOg     4.348585\n11  8dUbErn76KcD2Sj_iMOWag  Tucson    AZ  jLnIvbbXUg4s7CP9G-Whvw     4.217550\n12  8dUbErn76KcD2Sj_iMOWag  Tucson    AZ  gtuoRlBPqoTIEPrcfbIP-g     4.070350\n13  8dUbErn76KcD2Sj_iMOWag  Tucson    AZ  RIQ5ALCz1-oi98ViCO7kgQ     4.101776\n14  8dUbErn76KcD2Sj_iMOWag  Tucson    AZ  5Ce3lZksYVkCbrihqylVHQ     4.122488\n15  8dUbErn76KcD2Sj_iMOWag  Tucson    AZ  wzPc5d1l0PpxQLQDhh8T2w     4.024250\n16  8dUbErn76KcD2Sj_iMOWag  Tucson    AZ  SVJJIoAiW3vHwoSpVnUcLQ     4.067714\n17  8dUbErn76KcD2Sj_iMOWag  Tucson    AZ  CJoO4HYD0tZRXlZqA04wmw     4.311483\n18  8dUbErn76KcD2Sj_iMOWag  Tucson    AZ  AbeWP7_Vxhp45I9IPZ7Otg     3.781347\n19  8dUbErn76KcD2Sj_iMOWag  Tucson    AZ  Wp9D-r8Ap1Fv0IIM0zGfoQ     3.985450",
      "text/html": "<div>\n<style scoped>\n    .dataframe tbody tr th:only-of-type {\n        vertical-align: middle;\n    }\n\n    .dataframe tbody tr th {\n        vertical-align: top;\n    }\n\n    .dataframe thead th {\n        text-align: right;\n    }\n</style>\n<table border=\"1\" class=\"dataframe\">\n  <thead>\n    <tr style=\"text-align: right;\">\n      <th></th>\n      <th>user_id</th>\n      <th>city</th>\n      <th>state</th>\n      <th>business_id</th>\n      <th>predictions</th>\n    </tr>\n  </thead>\n  <tbody>\n    <tr>\n      <th>0</th>\n      <td>8dUbErn76KcD2Sj_iMOWag</td>\n      <td>Tucson</td>\n      <td>AZ</td>\n      <td>xwKYBPO0ByGlkvNcr8FdqQ</td>\n      <td>4.118759</td>\n    </tr>\n    <tr>\n      <th>1</th>\n      <td>8dUbErn76KcD2Sj_iMOWag</td>\n      <td>Tucson</td>\n      <td>AZ</td>\n      <td>LXR1f2ayOSq7w-Ux7UPUtg</td>\n      <td>3.615065</td>\n    </tr>\n    <tr>\n      <th>2</th>\n      <td>8dUbErn76KcD2Sj_iMOWag</td>\n      <td>Tucson</td>\n      <td>AZ</td>\n      <td>RHdEScVIAQ7xzFFMiQEnAQ</td>\n      <td>4.152578</td>\n    </tr>\n    <tr>\n      <th>3</th>\n      <td>8dUbErn76KcD2Sj_iMOWag</td>\n      <td>Tucson</td>\n      <td>AZ</td>\n      <td>l8yqThofpWGUs6lxOeIdOA</td>\n      <td>4.265540</td>\n    </tr>\n    <tr>\n      <th>4</th>\n      <td>8dUbErn76KcD2Sj_iMOWag</td>\n      <td>Tucson</td>\n      <td>AZ</td>\n      <td>XyGRDrgCK0z4CiA6nhwEaw</td>\n      <td>4.067497</td>\n    </tr>\n    <tr>\n      <th>5</th>\n      <td>8dUbErn76KcD2Sj_iMOWag</td>\n      <td>Tucson</td>\n      <td>AZ</td>\n      <td>5CX7rtnwYnmqFCihOyWivg</td>\n      <td>4.296358</td>\n    </tr>\n    <tr>\n      <th>6</th>\n      <td>8dUbErn76KcD2Sj_iMOWag</td>\n      <td>Tucson</td>\n      <td>AZ</td>\n      <td>aDL_KdxbDRT5s51Jtn9V5g</td>\n      <td>4.098340</td>\n    </tr>\n    <tr>\n      <th>7</th>\n      <td>8dUbErn76KcD2Sj_iMOWag</td>\n      <td>Tucson</td>\n      <td>AZ</td>\n      <td>7PbJjm9Oeq9LqM9zKsF-8g</td>\n      <td>3.652157</td>\n    </tr>\n    <tr>\n      <th>8</th>\n      <td>8dUbErn76KcD2Sj_iMOWag</td>\n      <td>Tucson</td>\n      <td>AZ</td>\n      <td>nEaTbGFlU7d9eLU2kl6KBw</td>\n      <td>4.269680</td>\n    </tr>\n    <tr>\n      <th>9</th>\n      <td>8dUbErn76KcD2Sj_iMOWag</td>\n      <td>Tucson</td>\n      <td>AZ</td>\n      <td>FjRH6l8aQOmfXuo00lheLA</td>\n      <td>3.810833</td>\n    </tr>\n    <tr>\n      <th>10</th>\n      <td>8dUbErn76KcD2Sj_iMOWag</td>\n      <td>Tucson</td>\n      <td>AZ</td>\n      <td>dlOTtFJbcyN1m5PR2IDxOg</td>\n      <td>4.348585</td>\n    </tr>\n    <tr>\n      <th>11</th>\n      <td>8dUbErn76KcD2Sj_iMOWag</td>\n      <td>Tucson</td>\n      <td>AZ</td>\n      <td>jLnIvbbXUg4s7CP9G-Whvw</td>\n      <td>4.217550</td>\n    </tr>\n    <tr>\n      <th>12</th>\n      <td>8dUbErn76KcD2Sj_iMOWag</td>\n      <td>Tucson</td>\n      <td>AZ</td>\n      <td>gtuoRlBPqoTIEPrcfbIP-g</td>\n      <td>4.070350</td>\n    </tr>\n    <tr>\n      <th>13</th>\n      <td>8dUbErn76KcD2Sj_iMOWag</td>\n      <td>Tucson</td>\n      <td>AZ</td>\n      <td>RIQ5ALCz1-oi98ViCO7kgQ</td>\n      <td>4.101776</td>\n    </tr>\n    <tr>\n      <th>14</th>\n      <td>8dUbErn76KcD2Sj_iMOWag</td>\n      <td>Tucson</td>\n      <td>AZ</td>\n      <td>5Ce3lZksYVkCbrihqylVHQ</td>\n      <td>4.122488</td>\n    </tr>\n    <tr>\n      <th>15</th>\n      <td>8dUbErn76KcD2Sj_iMOWag</td>\n      <td>Tucson</td>\n      <td>AZ</td>\n      <td>wzPc5d1l0PpxQLQDhh8T2w</td>\n      <td>4.024250</td>\n    </tr>\n    <tr>\n      <th>16</th>\n      <td>8dUbErn76KcD2Sj_iMOWag</td>\n      <td>Tucson</td>\n      <td>AZ</td>\n      <td>SVJJIoAiW3vHwoSpVnUcLQ</td>\n      <td>4.067714</td>\n    </tr>\n    <tr>\n      <th>17</th>\n      <td>8dUbErn76KcD2Sj_iMOWag</td>\n      <td>Tucson</td>\n      <td>AZ</td>\n      <td>CJoO4HYD0tZRXlZqA04wmw</td>\n      <td>4.311483</td>\n    </tr>\n    <tr>\n      <th>18</th>\n      <td>8dUbErn76KcD2Sj_iMOWag</td>\n      <td>Tucson</td>\n      <td>AZ</td>\n      <td>AbeWP7_Vxhp45I9IPZ7Otg</td>\n      <td>3.781347</td>\n    </tr>\n    <tr>\n      <th>19</th>\n      <td>8dUbErn76KcD2Sj_iMOWag</td>\n      <td>Tucson</td>\n      <td>AZ</td>\n      <td>Wp9D-r8Ap1Fv0IIM0zGfoQ</td>\n      <td>3.985450</td>\n    </tr>\n  </tbody>\n</table>\n</div>"
     },
     "execution_count": 75,
     "metadata": {},
     "output_type": "execute_result"
    }
   ],
   "source": [
    "predict_df_20.head(20)"
   ],
   "metadata": {
    "collapsed": false,
    "ExecuteTime": {
     "end_time": "2023-10-08T21:38:53.395408900Z",
     "start_time": "2023-10-08T21:38:52.722707Z"
    }
   },
   "id": "a177d1dafd7dacf8"
  },
  {
   "cell_type": "code",
   "execution_count": 76,
   "outputs": [
    {
     "data": {
      "text/plain": "business_id\nCJoO4HYD0tZRXlZqA04wmw    4.219513\nvtbAuFCR8ugUaajtF_wDEQ    4.143861\nxwKYBPO0ByGlkvNcr8FdqQ    4.130504\nl8yqThofpWGUs6lxOeIdOA    4.097425\ndlOTtFJbcyN1m5PR2IDxOg    4.092477\nIJ5N0TNgDDFP0UauRmepDg    4.085914\np7tSGmWpFV246aYhwODgBg    4.058259\nyRs15dgEYvxGatbDyeVXiA    4.050507\nXyGRDrgCK0z4CiA6nhwEaw    4.022851\njLnIvbbXUg4s7CP9G-Whvw    4.018111\nName: predictions, dtype: float64"
     },
     "execution_count": 76,
     "metadata": {},
     "output_type": "execute_result"
    }
   ],
   "source": [
    "top10=predict_df_20.groupby('business_id')[\"predictions\"].mean()\n",
    "top10.sort_values(ascending=False).head(10)"
   ],
   "metadata": {
    "collapsed": false,
    "ExecuteTime": {
     "end_time": "2023-10-08T21:38:53.395408900Z",
     "start_time": "2023-10-08T21:38:52.738340700Z"
    }
   },
   "id": "90ab522932e274"
  },
  {
   "cell_type": "code",
   "execution_count": 77,
   "outputs": [
    {
     "name": "stdout",
     "output_type": "stream",
     "text": [
      "<class 'pandas.core.frame.DataFrame'>\n"
     ]
    }
   ],
   "source": [
    "resultado=top10.to_frame()\n",
    "print(type(resultado))"
   ],
   "metadata": {
    "collapsed": false,
    "ExecuteTime": {
     "end_time": "2023-10-08T21:38:53.395408900Z",
     "start_time": "2023-10-08T21:38:52.754000600Z"
    }
   },
   "id": "51a3a9d57357c95b"
  },
  {
   "cell_type": "code",
   "execution_count": 78,
   "outputs": [
    {
     "data": {
      "text/plain": "              business_id  predictions                         restaurant\n0  5CX7rtnwYnmqFCihOyWivg     3.968531  Opa's Best Greek American Cuisine\n1  5Ce3lZksYVkCbrihqylVHQ     3.911790                         Sushi Nara\n2  7PbJjm9Oeq9LqM9zKsF-8g     3.450924                      Seoul Kitchen\n3  A93_XS0xZu1OtfQPTIJeqw     3.791771                   Jimmy's Pizzeria\n4  AL89lQXFfE0HpbTvpxuSkA     3.901890           Bob's Steak & Chop House\n5  AbeWP7_Vxhp45I9IPZ7Otg     3.778322                    Mosaic Cafe Dos\n6  CJoO4HYD0tZRXlZqA04wmw     4.219513                   Crave Coffee Bar\n7  FjRH6l8aQOmfXuo00lheLA     3.631218                Broadway Pizza Cafe\n8  IJ5N0TNgDDFP0UauRmepDg     4.085914        Luckie's Thai-Asian Cuisine\n9  KZA_HEOsBXf8dtrk9rqNJA     3.885965             Prep & Pastry on Grant",
      "text/html": "<div>\n<style scoped>\n    .dataframe tbody tr th:only-of-type {\n        vertical-align: middle;\n    }\n\n    .dataframe tbody tr th {\n        vertical-align: top;\n    }\n\n    .dataframe thead th {\n        text-align: right;\n    }\n</style>\n<table border=\"1\" class=\"dataframe\">\n  <thead>\n    <tr style=\"text-align: right;\">\n      <th></th>\n      <th>business_id</th>\n      <th>predictions</th>\n      <th>restaurant</th>\n    </tr>\n  </thead>\n  <tbody>\n    <tr>\n      <th>0</th>\n      <td>5CX7rtnwYnmqFCihOyWivg</td>\n      <td>3.968531</td>\n      <td>Opa's Best Greek American Cuisine</td>\n    </tr>\n    <tr>\n      <th>1</th>\n      <td>5Ce3lZksYVkCbrihqylVHQ</td>\n      <td>3.911790</td>\n      <td>Sushi Nara</td>\n    </tr>\n    <tr>\n      <th>2</th>\n      <td>7PbJjm9Oeq9LqM9zKsF-8g</td>\n      <td>3.450924</td>\n      <td>Seoul Kitchen</td>\n    </tr>\n    <tr>\n      <th>3</th>\n      <td>A93_XS0xZu1OtfQPTIJeqw</td>\n      <td>3.791771</td>\n      <td>Jimmy's Pizzeria</td>\n    </tr>\n    <tr>\n      <th>4</th>\n      <td>AL89lQXFfE0HpbTvpxuSkA</td>\n      <td>3.901890</td>\n      <td>Bob's Steak &amp; Chop House</td>\n    </tr>\n    <tr>\n      <th>5</th>\n      <td>AbeWP7_Vxhp45I9IPZ7Otg</td>\n      <td>3.778322</td>\n      <td>Mosaic Cafe Dos</td>\n    </tr>\n    <tr>\n      <th>6</th>\n      <td>CJoO4HYD0tZRXlZqA04wmw</td>\n      <td>4.219513</td>\n      <td>Crave Coffee Bar</td>\n    </tr>\n    <tr>\n      <th>7</th>\n      <td>FjRH6l8aQOmfXuo00lheLA</td>\n      <td>3.631218</td>\n      <td>Broadway Pizza Cafe</td>\n    </tr>\n    <tr>\n      <th>8</th>\n      <td>IJ5N0TNgDDFP0UauRmepDg</td>\n      <td>4.085914</td>\n      <td>Luckie's Thai-Asian Cuisine</td>\n    </tr>\n    <tr>\n      <th>9</th>\n      <td>KZA_HEOsBXf8dtrk9rqNJA</td>\n      <td>3.885965</td>\n      <td>Prep &amp; Pastry on Grant</td>\n    </tr>\n  </tbody>\n</table>\n</div>"
     },
     "execution_count": 78,
     "metadata": {},
     "output_type": "execute_result"
    }
   ],
   "source": [
    "df_join=resultado.merge(df_res_bus[[\"business_id\",\"restaurant\"]],how=\"inner\",on=\"business_id\")\n",
    "df_join.head(10)"
   ],
   "metadata": {
    "collapsed": false,
    "ExecuteTime": {
     "end_time": "2023-10-08T21:38:53.395408900Z",
     "start_time": "2023-10-08T21:38:52.769625300Z"
    }
   },
   "id": "a2fdfaea89934f20"
  },
  {
   "cell_type": "code",
   "execution_count": 79,
   "outputs": [
    {
     "data": {
      "text/plain": "               business_id  predictions                         restaurant\n6   CJoO4HYD0tZRXlZqA04wmw     4.219513                   Crave Coffee Bar\n30  vtbAuFCR8ugUaajtF_wDEQ     4.143861                     New York Pizza\n32  xwKYBPO0ByGlkvNcr8FdqQ     4.130504                     Le Rendez-vous\n26  l8yqThofpWGUs6lxOeIdOA     4.097425        Shish Kebab House of Tucson\n18  dlOTtFJbcyN1m5PR2IDxOg     4.092477               Selena's Salvadorian\n8   IJ5N0TNgDDFP0UauRmepDg     4.085914        Luckie's Thai-Asian Cuisine\n29  p7tSGmWpFV246aYhwODgBg     4.058259                 O Sushi Restaurant\n33  yRs15dgEYvxGatbDyeVXiA     4.050507                         Costa Vida\n15  XyGRDrgCK0z4CiA6nhwEaw     4.022851           Persian Room Fine Dining\n24  jLnIvbbXUg4s7CP9G-Whvw     4.018111                   Harvest on River\n31  wzPc5d1l0PpxQLQDhh8T2w     3.991818                          Toro Loco\n0   5CX7rtnwYnmqFCihOyWivg     3.968531  Opa's Best Greek American Cuisine\n12  RIQ5ALCz1-oi98ViCO7kgQ     3.944920             La Baguette Parisienne\n27  nEaTbGFlU7d9eLU2kl6KBw     3.940745               Taqueria El Pueblito\n16  aDL_KdxbDRT5s51Jtn9V5g     3.925595                     Charro del Rey\n25  jZ1rUspubgkuZjwKJMhEEw     3.919570                          MOD Pizza\n1   5Ce3lZksYVkCbrihqylVHQ     3.911790                         Sushi Nara\n4   AL89lQXFfE0HpbTvpxuSkA     3.901890           Bob's Steak & Chop House\n19  eGi7CE2YaN6YMiGyXNi8XQ     3.901890        Spice Garden Indian Cuisine\n21  g9DDXMuDwaW-GtD2f6xl6A     3.901890                     Breakfast Stop\n28  o3woQWQ-0HxFftItIEeNdw     3.886871                         El Rustico\n9   KZA_HEOsBXf8dtrk9rqNJA     3.885965             Prep & Pastry on Grant\n11  RHdEScVIAQ7xzFFMiQEnAQ     3.862995                    The Quesadillas\n22  gtuoRlBPqoTIEPrcfbIP-g     3.860547                        Korea House\n17  a_oRfgkNFnulTada--P_Tg     3.859874             Sonoran Brunch Company\n23  hzXAxu35F32Ob9uVCh-dIQ     3.845268                  Thai China Bistro\n14  Wp9D-r8Ap1Fv0IIM0zGfoQ     3.836342              Bisbee Breakfast Club\n13  SVJJIoAiW3vHwoSpVnUcLQ     3.812732             Pastiche Modern Eatery\n3   A93_XS0xZu1OtfQPTIJeqw     3.791771                   Jimmy's Pizzeria\n5   AbeWP7_Vxhp45I9IPZ7Otg     3.778322                    Mosaic Cafe Dos\n20  eaNouTpxnIu7M80xdeLxFw     3.705921        Tequila's Mexican & Seafood\n7   FjRH6l8aQOmfXuo00lheLA     3.631218                Broadway Pizza Cafe\n10  LXR1f2ayOSq7w-Ux7UPUtg     3.603547        Ichiban Japanese Restaurant\n2   7PbJjm9Oeq9LqM9zKsF-8g     3.450924                      Seoul Kitchen",
      "text/html": "<div>\n<style scoped>\n    .dataframe tbody tr th:only-of-type {\n        vertical-align: middle;\n    }\n\n    .dataframe tbody tr th {\n        vertical-align: top;\n    }\n\n    .dataframe thead th {\n        text-align: right;\n    }\n</style>\n<table border=\"1\" class=\"dataframe\">\n  <thead>\n    <tr style=\"text-align: right;\">\n      <th></th>\n      <th>business_id</th>\n      <th>predictions</th>\n      <th>restaurant</th>\n    </tr>\n  </thead>\n  <tbody>\n    <tr>\n      <th>6</th>\n      <td>CJoO4HYD0tZRXlZqA04wmw</td>\n      <td>4.219513</td>\n      <td>Crave Coffee Bar</td>\n    </tr>\n    <tr>\n      <th>30</th>\n      <td>vtbAuFCR8ugUaajtF_wDEQ</td>\n      <td>4.143861</td>\n      <td>New York Pizza</td>\n    </tr>\n    <tr>\n      <th>32</th>\n      <td>xwKYBPO0ByGlkvNcr8FdqQ</td>\n      <td>4.130504</td>\n      <td>Le Rendez-vous</td>\n    </tr>\n    <tr>\n      <th>26</th>\n      <td>l8yqThofpWGUs6lxOeIdOA</td>\n      <td>4.097425</td>\n      <td>Shish Kebab House of Tucson</td>\n    </tr>\n    <tr>\n      <th>18</th>\n      <td>dlOTtFJbcyN1m5PR2IDxOg</td>\n      <td>4.092477</td>\n      <td>Selena's Salvadorian</td>\n    </tr>\n    <tr>\n      <th>8</th>\n      <td>IJ5N0TNgDDFP0UauRmepDg</td>\n      <td>4.085914</td>\n      <td>Luckie's Thai-Asian Cuisine</td>\n    </tr>\n    <tr>\n      <th>29</th>\n      <td>p7tSGmWpFV246aYhwODgBg</td>\n      <td>4.058259</td>\n      <td>O Sushi Restaurant</td>\n    </tr>\n    <tr>\n      <th>33</th>\n      <td>yRs15dgEYvxGatbDyeVXiA</td>\n      <td>4.050507</td>\n      <td>Costa Vida</td>\n    </tr>\n    <tr>\n      <th>15</th>\n      <td>XyGRDrgCK0z4CiA6nhwEaw</td>\n      <td>4.022851</td>\n      <td>Persian Room Fine Dining</td>\n    </tr>\n    <tr>\n      <th>24</th>\n      <td>jLnIvbbXUg4s7CP9G-Whvw</td>\n      <td>4.018111</td>\n      <td>Harvest on River</td>\n    </tr>\n    <tr>\n      <th>31</th>\n      <td>wzPc5d1l0PpxQLQDhh8T2w</td>\n      <td>3.991818</td>\n      <td>Toro Loco</td>\n    </tr>\n    <tr>\n      <th>0</th>\n      <td>5CX7rtnwYnmqFCihOyWivg</td>\n      <td>3.968531</td>\n      <td>Opa's Best Greek American Cuisine</td>\n    </tr>\n    <tr>\n      <th>12</th>\n      <td>RIQ5ALCz1-oi98ViCO7kgQ</td>\n      <td>3.944920</td>\n      <td>La Baguette Parisienne</td>\n    </tr>\n    <tr>\n      <th>27</th>\n      <td>nEaTbGFlU7d9eLU2kl6KBw</td>\n      <td>3.940745</td>\n      <td>Taqueria El Pueblito</td>\n    </tr>\n    <tr>\n      <th>16</th>\n      <td>aDL_KdxbDRT5s51Jtn9V5g</td>\n      <td>3.925595</td>\n      <td>Charro del Rey</td>\n    </tr>\n    <tr>\n      <th>25</th>\n      <td>jZ1rUspubgkuZjwKJMhEEw</td>\n      <td>3.919570</td>\n      <td>MOD Pizza</td>\n    </tr>\n    <tr>\n      <th>1</th>\n      <td>5Ce3lZksYVkCbrihqylVHQ</td>\n      <td>3.911790</td>\n      <td>Sushi Nara</td>\n    </tr>\n    <tr>\n      <th>4</th>\n      <td>AL89lQXFfE0HpbTvpxuSkA</td>\n      <td>3.901890</td>\n      <td>Bob's Steak &amp; Chop House</td>\n    </tr>\n    <tr>\n      <th>19</th>\n      <td>eGi7CE2YaN6YMiGyXNi8XQ</td>\n      <td>3.901890</td>\n      <td>Spice Garden Indian Cuisine</td>\n    </tr>\n    <tr>\n      <th>21</th>\n      <td>g9DDXMuDwaW-GtD2f6xl6A</td>\n      <td>3.901890</td>\n      <td>Breakfast Stop</td>\n    </tr>\n    <tr>\n      <th>28</th>\n      <td>o3woQWQ-0HxFftItIEeNdw</td>\n      <td>3.886871</td>\n      <td>El Rustico</td>\n    </tr>\n    <tr>\n      <th>9</th>\n      <td>KZA_HEOsBXf8dtrk9rqNJA</td>\n      <td>3.885965</td>\n      <td>Prep &amp; Pastry on Grant</td>\n    </tr>\n    <tr>\n      <th>11</th>\n      <td>RHdEScVIAQ7xzFFMiQEnAQ</td>\n      <td>3.862995</td>\n      <td>The Quesadillas</td>\n    </tr>\n    <tr>\n      <th>22</th>\n      <td>gtuoRlBPqoTIEPrcfbIP-g</td>\n      <td>3.860547</td>\n      <td>Korea House</td>\n    </tr>\n    <tr>\n      <th>17</th>\n      <td>a_oRfgkNFnulTada--P_Tg</td>\n      <td>3.859874</td>\n      <td>Sonoran Brunch Company</td>\n    </tr>\n    <tr>\n      <th>23</th>\n      <td>hzXAxu35F32Ob9uVCh-dIQ</td>\n      <td>3.845268</td>\n      <td>Thai China Bistro</td>\n    </tr>\n    <tr>\n      <th>14</th>\n      <td>Wp9D-r8Ap1Fv0IIM0zGfoQ</td>\n      <td>3.836342</td>\n      <td>Bisbee Breakfast Club</td>\n    </tr>\n    <tr>\n      <th>13</th>\n      <td>SVJJIoAiW3vHwoSpVnUcLQ</td>\n      <td>3.812732</td>\n      <td>Pastiche Modern Eatery</td>\n    </tr>\n    <tr>\n      <th>3</th>\n      <td>A93_XS0xZu1OtfQPTIJeqw</td>\n      <td>3.791771</td>\n      <td>Jimmy's Pizzeria</td>\n    </tr>\n    <tr>\n      <th>5</th>\n      <td>AbeWP7_Vxhp45I9IPZ7Otg</td>\n      <td>3.778322</td>\n      <td>Mosaic Cafe Dos</td>\n    </tr>\n    <tr>\n      <th>20</th>\n      <td>eaNouTpxnIu7M80xdeLxFw</td>\n      <td>3.705921</td>\n      <td>Tequila's Mexican &amp; Seafood</td>\n    </tr>\n    <tr>\n      <th>7</th>\n      <td>FjRH6l8aQOmfXuo00lheLA</td>\n      <td>3.631218</td>\n      <td>Broadway Pizza Cafe</td>\n    </tr>\n    <tr>\n      <th>10</th>\n      <td>LXR1f2ayOSq7w-Ux7UPUtg</td>\n      <td>3.603547</td>\n      <td>Ichiban Japanese Restaurant</td>\n    </tr>\n    <tr>\n      <th>2</th>\n      <td>7PbJjm9Oeq9LqM9zKsF-8g</td>\n      <td>3.450924</td>\n      <td>Seoul Kitchen</td>\n    </tr>\n  </tbody>\n</table>\n</div>"
     },
     "execution_count": 79,
     "metadata": {},
     "output_type": "execute_result"
    }
   ],
   "source": [
    "df_join.sort_values(by=\"predictions\", ascending=False)"
   ],
   "metadata": {
    "collapsed": false,
    "ExecuteTime": {
     "end_time": "2023-10-08T21:38:53.395408900Z",
     "start_time": "2023-10-08T21:38:52.785246700Z"
    }
   },
   "id": "357eb34b24bd605f"
  },
  {
   "cell_type": "code",
   "execution_count": 80,
   "outputs": [
    {
     "name": "stdout",
     "output_type": "stream",
     "text": [
      "                     userId             business_id  rating  pred_rating  \\\n",
      "0    8dUbErn76KcD2Sj_iMOWag  xwKYBPO0ByGlkvNcr8FdqQ     2.5     4.118759   \n",
      "1    8dUbErn76KcD2Sj_iMOWag  LXR1f2ayOSq7w-Ux7UPUtg     2.5     3.615065   \n",
      "2    8dUbErn76KcD2Sj_iMOWag  RHdEScVIAQ7xzFFMiQEnAQ     2.5     4.152578   \n",
      "3    8dUbErn76KcD2Sj_iMOWag  l8yqThofpWGUs6lxOeIdOA     2.5     4.265540   \n",
      "4    8dUbErn76KcD2Sj_iMOWag  XyGRDrgCK0z4CiA6nhwEaw     2.5     4.067497   \n",
      "..                      ...                     ...     ...          ...   \n",
      "165  N6ZTMIue-2b30CJv2tyPGg  A93_XS0xZu1OtfQPTIJeqw     2.5     3.824168   \n",
      "166  N6ZTMIue-2b30CJv2tyPGg  a_oRfgkNFnulTada--P_Tg     2.5     3.906190   \n",
      "167  N6ZTMIue-2b30CJv2tyPGg  eGi7CE2YaN6YMiGyXNi8XQ     2.5     4.027764   \n",
      "168  N6ZTMIue-2b30CJv2tyPGg  g9DDXMuDwaW-GtD2f6xl6A     2.5     4.027764   \n",
      "169  N6ZTMIue-2b30CJv2tyPGg  AL89lQXFfE0HpbTvpxuSkA     2.5     4.027764   \n",
      "\n",
      "                             x  \n",
      "0    {'was_impossible': False}  \n",
      "1    {'was_impossible': False}  \n",
      "2    {'was_impossible': False}  \n",
      "3    {'was_impossible': False}  \n",
      "4    {'was_impossible': False}  \n",
      "..                         ...  \n",
      "165  {'was_impossible': False}  \n",
      "166  {'was_impossible': False}  \n",
      "167  {'was_impossible': False}  \n",
      "168  {'was_impossible': False}  \n",
      "169  {'was_impossible': False}  \n",
      "\n",
      "[170 rows x 5 columns]\n"
     ]
    }
   ],
   "source": [
    "print(baseline_20)"
   ],
   "metadata": {
    "collapsed": false,
    "ExecuteTime": {
     "end_time": "2023-10-08T21:38:53.395408900Z",
     "start_time": "2023-10-08T21:38:52.800839400Z"
    }
   },
   "id": "753ab55ae27948a3"
  },
  {
   "cell_type": "code",
   "execution_count": 81,
   "outputs": [],
   "source": [
    "# Define a custom sorting key based on the rating\n",
    "def pred_rating (baseline_20):\n",
    "    return baseline_20[\"pred_rating\"]"
   ],
   "metadata": {
    "collapsed": false,
    "ExecuteTime": {
     "end_time": "2023-10-08T21:38:53.395408900Z",
     "start_time": "2023-10-08T21:38:52.816853500Z"
    }
   },
   "id": "d1c6ec08ac06a1fc"
  },
  {
   "cell_type": "code",
   "execution_count": 82,
   "outputs": [
    {
     "data": {
      "text/plain": "business_id\nCJoO4HYD0tZRXlZqA04wmw    4.219513\nvtbAuFCR8ugUaajtF_wDEQ    4.143861\nxwKYBPO0ByGlkvNcr8FdqQ    4.130504\nl8yqThofpWGUs6lxOeIdOA    4.097425\ndlOTtFJbcyN1m5PR2IDxOg    4.092477\nIJ5N0TNgDDFP0UauRmepDg    4.085914\np7tSGmWpFV246aYhwODgBg    4.058259\nyRs15dgEYvxGatbDyeVXiA    4.050507\nXyGRDrgCK0z4CiA6nhwEaw    4.022851\njLnIvbbXUg4s7CP9G-Whvw    4.018111\nName: pred_rating, dtype: float64"
     },
     "execution_count": 82,
     "metadata": {},
     "output_type": "execute_result"
    }
   ],
   "source": [
    "top10_2=baseline_20.groupby('business_id')[\"pred_rating\"].mean()\n",
    "top10_2.sort_values(ascending=False).head(10)"
   ],
   "metadata": {
    "collapsed": false,
    "ExecuteTime": {
     "end_time": "2023-10-08T21:38:53.395408900Z",
     "start_time": "2023-10-08T21:38:52.832486200Z"
    }
   },
   "id": "9c0f3daf2fdf836c"
  },
  {
   "cell_type": "code",
   "execution_count": 83,
   "outputs": [
    {
     "name": "stdout",
     "output_type": "stream",
     "text": [
      "<class 'pandas.core.frame.DataFrame'>\n"
     ]
    }
   ],
   "source": [
    "resultado_2=top10_2.to_frame()\n",
    "print(type(resultado_2))"
   ],
   "metadata": {
    "collapsed": false,
    "ExecuteTime": {
     "end_time": "2023-10-08T21:38:53.395408900Z",
     "start_time": "2023-10-08T21:38:52.848142500Z"
    }
   },
   "id": "cf6241d104644cc2"
  },
  {
   "cell_type": "code",
   "execution_count": 84,
   "outputs": [
    {
     "data": {
      "text/plain": "              business_id  pred_rating                         restaurant\n0  5CX7rtnwYnmqFCihOyWivg     3.968531  Opa's Best Greek American Cuisine\n1  5Ce3lZksYVkCbrihqylVHQ     3.911790                         Sushi Nara\n2  7PbJjm9Oeq9LqM9zKsF-8g     3.450924                      Seoul Kitchen\n3  A93_XS0xZu1OtfQPTIJeqw     3.791771                   Jimmy's Pizzeria\n4  AL89lQXFfE0HpbTvpxuSkA     3.901890           Bob's Steak & Chop House\n5  AbeWP7_Vxhp45I9IPZ7Otg     3.778322                    Mosaic Cafe Dos\n6  CJoO4HYD0tZRXlZqA04wmw     4.219513                   Crave Coffee Bar\n7  FjRH6l8aQOmfXuo00lheLA     3.631218                Broadway Pizza Cafe\n8  IJ5N0TNgDDFP0UauRmepDg     4.085914        Luckie's Thai-Asian Cuisine\n9  KZA_HEOsBXf8dtrk9rqNJA     3.885965             Prep & Pastry on Grant",
      "text/html": "<div>\n<style scoped>\n    .dataframe tbody tr th:only-of-type {\n        vertical-align: middle;\n    }\n\n    .dataframe tbody tr th {\n        vertical-align: top;\n    }\n\n    .dataframe thead th {\n        text-align: right;\n    }\n</style>\n<table border=\"1\" class=\"dataframe\">\n  <thead>\n    <tr style=\"text-align: right;\">\n      <th></th>\n      <th>business_id</th>\n      <th>pred_rating</th>\n      <th>restaurant</th>\n    </tr>\n  </thead>\n  <tbody>\n    <tr>\n      <th>0</th>\n      <td>5CX7rtnwYnmqFCihOyWivg</td>\n      <td>3.968531</td>\n      <td>Opa's Best Greek American Cuisine</td>\n    </tr>\n    <tr>\n      <th>1</th>\n      <td>5Ce3lZksYVkCbrihqylVHQ</td>\n      <td>3.911790</td>\n      <td>Sushi Nara</td>\n    </tr>\n    <tr>\n      <th>2</th>\n      <td>7PbJjm9Oeq9LqM9zKsF-8g</td>\n      <td>3.450924</td>\n      <td>Seoul Kitchen</td>\n    </tr>\n    <tr>\n      <th>3</th>\n      <td>A93_XS0xZu1OtfQPTIJeqw</td>\n      <td>3.791771</td>\n      <td>Jimmy's Pizzeria</td>\n    </tr>\n    <tr>\n      <th>4</th>\n      <td>AL89lQXFfE0HpbTvpxuSkA</td>\n      <td>3.901890</td>\n      <td>Bob's Steak &amp; Chop House</td>\n    </tr>\n    <tr>\n      <th>5</th>\n      <td>AbeWP7_Vxhp45I9IPZ7Otg</td>\n      <td>3.778322</td>\n      <td>Mosaic Cafe Dos</td>\n    </tr>\n    <tr>\n      <th>6</th>\n      <td>CJoO4HYD0tZRXlZqA04wmw</td>\n      <td>4.219513</td>\n      <td>Crave Coffee Bar</td>\n    </tr>\n    <tr>\n      <th>7</th>\n      <td>FjRH6l8aQOmfXuo00lheLA</td>\n      <td>3.631218</td>\n      <td>Broadway Pizza Cafe</td>\n    </tr>\n    <tr>\n      <th>8</th>\n      <td>IJ5N0TNgDDFP0UauRmepDg</td>\n      <td>4.085914</td>\n      <td>Luckie's Thai-Asian Cuisine</td>\n    </tr>\n    <tr>\n      <th>9</th>\n      <td>KZA_HEOsBXf8dtrk9rqNJA</td>\n      <td>3.885965</td>\n      <td>Prep &amp; Pastry on Grant</td>\n    </tr>\n  </tbody>\n</table>\n</div>"
     },
     "execution_count": 84,
     "metadata": {},
     "output_type": "execute_result"
    }
   ],
   "source": [
    "df_join_2=resultado_2.merge(df_res_bus[[\"business_id\",\"restaurant\"]],how=\"inner\",on=\"business_id\")\n",
    "df_join_2.head(10)"
   ],
   "metadata": {
    "collapsed": false,
    "ExecuteTime": {
     "end_time": "2023-10-08T21:38:53.395408900Z",
     "start_time": "2023-10-08T21:38:52.863734600Z"
    }
   },
   "id": "893631b768f72d65"
  },
  {
   "cell_type": "code",
   "execution_count": 85,
   "outputs": [
    {
     "data": {
      "text/plain": "               business_id  pred_rating                         restaurant\n6   CJoO4HYD0tZRXlZqA04wmw     4.219513                   Crave Coffee Bar\n30  vtbAuFCR8ugUaajtF_wDEQ     4.143861                     New York Pizza\n32  xwKYBPO0ByGlkvNcr8FdqQ     4.130504                     Le Rendez-vous\n26  l8yqThofpWGUs6lxOeIdOA     4.097425        Shish Kebab House of Tucson\n18  dlOTtFJbcyN1m5PR2IDxOg     4.092477               Selena's Salvadorian\n8   IJ5N0TNgDDFP0UauRmepDg     4.085914        Luckie's Thai-Asian Cuisine\n29  p7tSGmWpFV246aYhwODgBg     4.058259                 O Sushi Restaurant\n33  yRs15dgEYvxGatbDyeVXiA     4.050507                         Costa Vida\n15  XyGRDrgCK0z4CiA6nhwEaw     4.022851           Persian Room Fine Dining\n24  jLnIvbbXUg4s7CP9G-Whvw     4.018111                   Harvest on River\n31  wzPc5d1l0PpxQLQDhh8T2w     3.991818                          Toro Loco\n0   5CX7rtnwYnmqFCihOyWivg     3.968531  Opa's Best Greek American Cuisine\n12  RIQ5ALCz1-oi98ViCO7kgQ     3.944920             La Baguette Parisienne\n27  nEaTbGFlU7d9eLU2kl6KBw     3.940745               Taqueria El Pueblito\n16  aDL_KdxbDRT5s51Jtn9V5g     3.925595                     Charro del Rey\n25  jZ1rUspubgkuZjwKJMhEEw     3.919570                          MOD Pizza\n1   5Ce3lZksYVkCbrihqylVHQ     3.911790                         Sushi Nara\n4   AL89lQXFfE0HpbTvpxuSkA     3.901890           Bob's Steak & Chop House\n19  eGi7CE2YaN6YMiGyXNi8XQ     3.901890        Spice Garden Indian Cuisine\n21  g9DDXMuDwaW-GtD2f6xl6A     3.901890                     Breakfast Stop\n28  o3woQWQ-0HxFftItIEeNdw     3.886871                         El Rustico\n9   KZA_HEOsBXf8dtrk9rqNJA     3.885965             Prep & Pastry on Grant\n11  RHdEScVIAQ7xzFFMiQEnAQ     3.862995                    The Quesadillas\n22  gtuoRlBPqoTIEPrcfbIP-g     3.860547                        Korea House\n17  a_oRfgkNFnulTada--P_Tg     3.859874             Sonoran Brunch Company\n23  hzXAxu35F32Ob9uVCh-dIQ     3.845268                  Thai China Bistro\n14  Wp9D-r8Ap1Fv0IIM0zGfoQ     3.836342              Bisbee Breakfast Club\n13  SVJJIoAiW3vHwoSpVnUcLQ     3.812732             Pastiche Modern Eatery\n3   A93_XS0xZu1OtfQPTIJeqw     3.791771                   Jimmy's Pizzeria\n5   AbeWP7_Vxhp45I9IPZ7Otg     3.778322                    Mosaic Cafe Dos\n20  eaNouTpxnIu7M80xdeLxFw     3.705921        Tequila's Mexican & Seafood\n7   FjRH6l8aQOmfXuo00lheLA     3.631218                Broadway Pizza Cafe\n10  LXR1f2ayOSq7w-Ux7UPUtg     3.603547        Ichiban Japanese Restaurant\n2   7PbJjm9Oeq9LqM9zKsF-8g     3.450924                      Seoul Kitchen",
      "text/html": "<div>\n<style scoped>\n    .dataframe tbody tr th:only-of-type {\n        vertical-align: middle;\n    }\n\n    .dataframe tbody tr th {\n        vertical-align: top;\n    }\n\n    .dataframe thead th {\n        text-align: right;\n    }\n</style>\n<table border=\"1\" class=\"dataframe\">\n  <thead>\n    <tr style=\"text-align: right;\">\n      <th></th>\n      <th>business_id</th>\n      <th>pred_rating</th>\n      <th>restaurant</th>\n    </tr>\n  </thead>\n  <tbody>\n    <tr>\n      <th>6</th>\n      <td>CJoO4HYD0tZRXlZqA04wmw</td>\n      <td>4.219513</td>\n      <td>Crave Coffee Bar</td>\n    </tr>\n    <tr>\n      <th>30</th>\n      <td>vtbAuFCR8ugUaajtF_wDEQ</td>\n      <td>4.143861</td>\n      <td>New York Pizza</td>\n    </tr>\n    <tr>\n      <th>32</th>\n      <td>xwKYBPO0ByGlkvNcr8FdqQ</td>\n      <td>4.130504</td>\n      <td>Le Rendez-vous</td>\n    </tr>\n    <tr>\n      <th>26</th>\n      <td>l8yqThofpWGUs6lxOeIdOA</td>\n      <td>4.097425</td>\n      <td>Shish Kebab House of Tucson</td>\n    </tr>\n    <tr>\n      <th>18</th>\n      <td>dlOTtFJbcyN1m5PR2IDxOg</td>\n      <td>4.092477</td>\n      <td>Selena's Salvadorian</td>\n    </tr>\n    <tr>\n      <th>8</th>\n      <td>IJ5N0TNgDDFP0UauRmepDg</td>\n      <td>4.085914</td>\n      <td>Luckie's Thai-Asian Cuisine</td>\n    </tr>\n    <tr>\n      <th>29</th>\n      <td>p7tSGmWpFV246aYhwODgBg</td>\n      <td>4.058259</td>\n      <td>O Sushi Restaurant</td>\n    </tr>\n    <tr>\n      <th>33</th>\n      <td>yRs15dgEYvxGatbDyeVXiA</td>\n      <td>4.050507</td>\n      <td>Costa Vida</td>\n    </tr>\n    <tr>\n      <th>15</th>\n      <td>XyGRDrgCK0z4CiA6nhwEaw</td>\n      <td>4.022851</td>\n      <td>Persian Room Fine Dining</td>\n    </tr>\n    <tr>\n      <th>24</th>\n      <td>jLnIvbbXUg4s7CP9G-Whvw</td>\n      <td>4.018111</td>\n      <td>Harvest on River</td>\n    </tr>\n    <tr>\n      <th>31</th>\n      <td>wzPc5d1l0PpxQLQDhh8T2w</td>\n      <td>3.991818</td>\n      <td>Toro Loco</td>\n    </tr>\n    <tr>\n      <th>0</th>\n      <td>5CX7rtnwYnmqFCihOyWivg</td>\n      <td>3.968531</td>\n      <td>Opa's Best Greek American Cuisine</td>\n    </tr>\n    <tr>\n      <th>12</th>\n      <td>RIQ5ALCz1-oi98ViCO7kgQ</td>\n      <td>3.944920</td>\n      <td>La Baguette Parisienne</td>\n    </tr>\n    <tr>\n      <th>27</th>\n      <td>nEaTbGFlU7d9eLU2kl6KBw</td>\n      <td>3.940745</td>\n      <td>Taqueria El Pueblito</td>\n    </tr>\n    <tr>\n      <th>16</th>\n      <td>aDL_KdxbDRT5s51Jtn9V5g</td>\n      <td>3.925595</td>\n      <td>Charro del Rey</td>\n    </tr>\n    <tr>\n      <th>25</th>\n      <td>jZ1rUspubgkuZjwKJMhEEw</td>\n      <td>3.919570</td>\n      <td>MOD Pizza</td>\n    </tr>\n    <tr>\n      <th>1</th>\n      <td>5Ce3lZksYVkCbrihqylVHQ</td>\n      <td>3.911790</td>\n      <td>Sushi Nara</td>\n    </tr>\n    <tr>\n      <th>4</th>\n      <td>AL89lQXFfE0HpbTvpxuSkA</td>\n      <td>3.901890</td>\n      <td>Bob's Steak &amp; Chop House</td>\n    </tr>\n    <tr>\n      <th>19</th>\n      <td>eGi7CE2YaN6YMiGyXNi8XQ</td>\n      <td>3.901890</td>\n      <td>Spice Garden Indian Cuisine</td>\n    </tr>\n    <tr>\n      <th>21</th>\n      <td>g9DDXMuDwaW-GtD2f6xl6A</td>\n      <td>3.901890</td>\n      <td>Breakfast Stop</td>\n    </tr>\n    <tr>\n      <th>28</th>\n      <td>o3woQWQ-0HxFftItIEeNdw</td>\n      <td>3.886871</td>\n      <td>El Rustico</td>\n    </tr>\n    <tr>\n      <th>9</th>\n      <td>KZA_HEOsBXf8dtrk9rqNJA</td>\n      <td>3.885965</td>\n      <td>Prep &amp; Pastry on Grant</td>\n    </tr>\n    <tr>\n      <th>11</th>\n      <td>RHdEScVIAQ7xzFFMiQEnAQ</td>\n      <td>3.862995</td>\n      <td>The Quesadillas</td>\n    </tr>\n    <tr>\n      <th>22</th>\n      <td>gtuoRlBPqoTIEPrcfbIP-g</td>\n      <td>3.860547</td>\n      <td>Korea House</td>\n    </tr>\n    <tr>\n      <th>17</th>\n      <td>a_oRfgkNFnulTada--P_Tg</td>\n      <td>3.859874</td>\n      <td>Sonoran Brunch Company</td>\n    </tr>\n    <tr>\n      <th>23</th>\n      <td>hzXAxu35F32Ob9uVCh-dIQ</td>\n      <td>3.845268</td>\n      <td>Thai China Bistro</td>\n    </tr>\n    <tr>\n      <th>14</th>\n      <td>Wp9D-r8Ap1Fv0IIM0zGfoQ</td>\n      <td>3.836342</td>\n      <td>Bisbee Breakfast Club</td>\n    </tr>\n    <tr>\n      <th>13</th>\n      <td>SVJJIoAiW3vHwoSpVnUcLQ</td>\n      <td>3.812732</td>\n      <td>Pastiche Modern Eatery</td>\n    </tr>\n    <tr>\n      <th>3</th>\n      <td>A93_XS0xZu1OtfQPTIJeqw</td>\n      <td>3.791771</td>\n      <td>Jimmy's Pizzeria</td>\n    </tr>\n    <tr>\n      <th>5</th>\n      <td>AbeWP7_Vxhp45I9IPZ7Otg</td>\n      <td>3.778322</td>\n      <td>Mosaic Cafe Dos</td>\n    </tr>\n    <tr>\n      <th>20</th>\n      <td>eaNouTpxnIu7M80xdeLxFw</td>\n      <td>3.705921</td>\n      <td>Tequila's Mexican &amp; Seafood</td>\n    </tr>\n    <tr>\n      <th>7</th>\n      <td>FjRH6l8aQOmfXuo00lheLA</td>\n      <td>3.631218</td>\n      <td>Broadway Pizza Cafe</td>\n    </tr>\n    <tr>\n      <th>10</th>\n      <td>LXR1f2ayOSq7w-Ux7UPUtg</td>\n      <td>3.603547</td>\n      <td>Ichiban Japanese Restaurant</td>\n    </tr>\n    <tr>\n      <th>2</th>\n      <td>7PbJjm9Oeq9LqM9zKsF-8g</td>\n      <td>3.450924</td>\n      <td>Seoul Kitchen</td>\n    </tr>\n  </tbody>\n</table>\n</div>"
     },
     "execution_count": 85,
     "metadata": {},
     "output_type": "execute_result"
    }
   ],
   "source": [
    "df_join_2.sort_values(by=\"pred_rating\", ascending=False)"
   ],
   "metadata": {
    "collapsed": false,
    "ExecuteTime": {
     "end_time": "2023-10-08T21:38:53.395408900Z",
     "start_time": "2023-10-08T21:38:52.879361100Z"
    }
   },
   "id": "8a2eabd3f17ab1af"
  },
  {
   "cell_type": "code",
   "execution_count": 85,
   "outputs": [],
   "source": [],
   "metadata": {
    "collapsed": false,
    "ExecuteTime": {
     "end_time": "2023-10-08T21:38:53.395408900Z",
     "start_time": "2023-10-08T21:38:52.895018500Z"
    }
   },
   "id": "a73ed1573fae737d"
  }
 ],
 "metadata": {
  "kernelspec": {
   "display_name": "Python 3",
   "language": "python",
   "name": "python3"
  },
  "language_info": {
   "codemirror_mode": {
    "name": "ipython",
    "version": 2
   },
   "file_extension": ".py",
   "mimetype": "text/x-python",
   "name": "python",
   "nbconvert_exporter": "python",
   "pygments_lexer": "ipython2",
   "version": "2.7.6"
  }
 },
 "nbformat": 4,
 "nbformat_minor": 5
}
