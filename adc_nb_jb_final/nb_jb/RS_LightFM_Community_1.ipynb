{
 "cells": [
  {
   "cell_type": "code",
   "execution_count": 4,
   "metadata": {
    "ExecuteTime": {
     "end_time": "2023-10-08T21:15:18.066215500Z",
     "start_time": "2023-10-08T21:15:17.823343200Z"
    }
   },
   "outputs": [],
   "source": [
    "import pandas as pd\n",
    "import numpy as np"
   ]
  },
  {
   "cell_type": "code",
   "execution_count": 5,
   "metadata": {
    "ExecuteTime": {
     "end_time": "2023-10-08T21:15:19.253716800Z",
     "start_time": "2023-10-08T21:15:17.830484600Z"
    }
   },
   "outputs": [],
   "source": [
    "# Load Data\n",
    "df_b = pd.read_csv('../datasets/comunidades/business_community_1.csv')\n",
    "df = pd.read_csv('../datasets/comunidades/review_community_1.csv')\n",
    "users = pd.read_csv('../datasets/comunidades/user_community_1.csv')"
   ]
  },
  {
   "cell_type": "code",
   "execution_count": 6,
   "metadata": {
    "ExecuteTime": {
     "end_time": "2023-10-08T21:15:19.258762600Z",
     "start_time": "2023-10-08T21:15:17.972039700Z"
    }
   },
   "outputs": [
    {
     "data": {
      "text/plain": "                review_id                 user_id             business_id  \\\n0  ymhbOMW63B_vGaRFR3XT0A  yZdAhQ_KmKuCZmbBy9YDQg  5Ce3lZksYVkCbrihqylVHQ   \n1  9ntCEU8M_YBa0TIxxM1roA  BMXA8HiAuOQboRikPt6Xgg  XyGRDrgCK0z4CiA6nhwEaw   \n2  KubhmZ6MADKfAh0TucXZeQ  iW4scl2ezCV6IGfOk6OtyQ  xwKYBPO0ByGlkvNcr8FdqQ   \n3  jT0mpPypQH_eFoyIHhuM6A  To1Pq4io8oCT8f6ryRdPeQ  5Ce3lZksYVkCbrihqylVHQ   \n4  mr8-n6rmPXqgAe0O5YG0jQ  4RZJaKdymRQ5z59ZMFznTQ  xwKYBPO0ByGlkvNcr8FdqQ   \n\n   stars  useful  funny  cool  \\\n0      5       0      0     0   \n1      3       3      2     0   \n2      5       0      0     0   \n3      5       2      0     3   \n4      5       2      0     1   \n\n                                                text                 date  \n0  I just started going to Sushi Nara this month ...  2014-07-25 17:56:26  \n1  Ok. I have had Persian food before as it is on...  2018-07-17 02:44:51  \n2  Always outstanding. This evening, they were a ...  2017-04-30 03:57:53  \n3  My kitty and I love this sushi place!! We love...  2015-10-07 23:33:00  \n4  I took my gf for our one year anniversary here...  2014-09-10 04:16:53  ",
      "text/html": "<div>\n<style scoped>\n    .dataframe tbody tr th:only-of-type {\n        vertical-align: middle;\n    }\n\n    .dataframe tbody tr th {\n        vertical-align: top;\n    }\n\n    .dataframe thead th {\n        text-align: right;\n    }\n</style>\n<table border=\"1\" class=\"dataframe\">\n  <thead>\n    <tr style=\"text-align: right;\">\n      <th></th>\n      <th>review_id</th>\n      <th>user_id</th>\n      <th>business_id</th>\n      <th>stars</th>\n      <th>useful</th>\n      <th>funny</th>\n      <th>cool</th>\n      <th>text</th>\n      <th>date</th>\n    </tr>\n  </thead>\n  <tbody>\n    <tr>\n      <th>0</th>\n      <td>ymhbOMW63B_vGaRFR3XT0A</td>\n      <td>yZdAhQ_KmKuCZmbBy9YDQg</td>\n      <td>5Ce3lZksYVkCbrihqylVHQ</td>\n      <td>5</td>\n      <td>0</td>\n      <td>0</td>\n      <td>0</td>\n      <td>I just started going to Sushi Nara this month ...</td>\n      <td>2014-07-25 17:56:26</td>\n    </tr>\n    <tr>\n      <th>1</th>\n      <td>9ntCEU8M_YBa0TIxxM1roA</td>\n      <td>BMXA8HiAuOQboRikPt6Xgg</td>\n      <td>XyGRDrgCK0z4CiA6nhwEaw</td>\n      <td>3</td>\n      <td>3</td>\n      <td>2</td>\n      <td>0</td>\n      <td>Ok. I have had Persian food before as it is on...</td>\n      <td>2018-07-17 02:44:51</td>\n    </tr>\n    <tr>\n      <th>2</th>\n      <td>KubhmZ6MADKfAh0TucXZeQ</td>\n      <td>iW4scl2ezCV6IGfOk6OtyQ</td>\n      <td>xwKYBPO0ByGlkvNcr8FdqQ</td>\n      <td>5</td>\n      <td>0</td>\n      <td>0</td>\n      <td>0</td>\n      <td>Always outstanding. This evening, they were a ...</td>\n      <td>2017-04-30 03:57:53</td>\n    </tr>\n    <tr>\n      <th>3</th>\n      <td>jT0mpPypQH_eFoyIHhuM6A</td>\n      <td>To1Pq4io8oCT8f6ryRdPeQ</td>\n      <td>5Ce3lZksYVkCbrihqylVHQ</td>\n      <td>5</td>\n      <td>2</td>\n      <td>0</td>\n      <td>3</td>\n      <td>My kitty and I love this sushi place!! We love...</td>\n      <td>2015-10-07 23:33:00</td>\n    </tr>\n    <tr>\n      <th>4</th>\n      <td>mr8-n6rmPXqgAe0O5YG0jQ</td>\n      <td>4RZJaKdymRQ5z59ZMFznTQ</td>\n      <td>xwKYBPO0ByGlkvNcr8FdqQ</td>\n      <td>5</td>\n      <td>2</td>\n      <td>0</td>\n      <td>1</td>\n      <td>I took my gf for our one year anniversary here...</td>\n      <td>2014-09-10 04:16:53</td>\n    </tr>\n  </tbody>\n</table>\n</div>"
     },
     "execution_count": 6,
     "metadata": {},
     "output_type": "execute_result"
    }
   ],
   "source": [
    "df.head()"
   ]
  },
  {
   "cell_type": "code",
   "execution_count": 7,
   "metadata": {
    "ExecuteTime": {
     "end_time": "2023-10-08T21:15:19.258762600Z",
     "start_time": "2023-10-08T21:15:17.987707Z"
    }
   },
   "outputs": [
    {
     "data": {
      "text/plain": "              business_id                      name  \\\n0  XyGRDrgCK0z4CiA6nhwEaw  Persian Room Fine Dining   \n1  5Ce3lZksYVkCbrihqylVHQ                Sushi Nara   \n2  xwKYBPO0ByGlkvNcr8FdqQ            Le Rendez-vous   \n3  SVJJIoAiW3vHwoSpVnUcLQ    Pastiche Modern Eatery   \n4  p7tSGmWpFV246aYhwODgBg        O Sushi Restaurant   \n\n                         address    city state  postal_code   latitude  \\\n0  9290 N Thornydale Rd, Ste 100  Tucson    AZ        85742  32.375016   \n1               64 N Harrison Rd  Tucson    AZ        85748  32.222552   \n2          3844 E Fort Lowell Rd  Tucson    AZ        85716  32.264930   \n3            3025 N Campbell Ave  Tucson    AZ        85719  32.261920   \n4           4689 E Speedway Blvd  Tucson    AZ        85712  32.236944   \n\n    longitude  stars  review_count  is_open  \\\n0 -111.046320    4.5           258        1   \n1 -110.788132    4.5           159        1   \n2 -110.910544    4.0           223        1   \n3 -110.944474    3.5           313        1   \n4 -110.892965    4.5           199        1   \n\n                                          attributes  \\\n0  {'Alcohol': \"'full_bar'\", 'GoodForMeal': \"{'de...   \n1  {'RestaurantsPriceRange2': '2', 'HasTV': 'True...   \n2  {'BusinessParking': \"{'garage': False, 'street...   \n3  {'WiFi': \"'free'\", 'HasTV': 'True', 'Restauran...   \n4  {'RestaurantsGoodForGroups': 'True', 'Restaura...   \n\n                                          categories  \\\n0        Restaurants, Persian/Iranian, Mediterranean   \n1                  Sushi Bars, Japanese, Restaurants   \n2            Restaurants, French, Tapas/Small Plates   \n3  American (New), American (Traditional), Restau...   \n4                  Sushi Bars, Restaurants, Japanese   \n\n                                               hours  \n0  {'Monday': '11:0-21:30', 'Tuesday': '11:0-21:3...  \n1  {'Monday': '16:30-20:0', 'Tuesday': '16:30-20:...  \n2  {'Wednesday': '16:0-21:0', 'Thursday': '16:0-2...  \n3  {'Monday': '7:0-21:0', 'Tuesday': '7:0-21:0', ...  \n4  {'Monday': '16:30-20:30', 'Tuesday': '16:30-20...  ",
      "text/html": "<div>\n<style scoped>\n    .dataframe tbody tr th:only-of-type {\n        vertical-align: middle;\n    }\n\n    .dataframe tbody tr th {\n        vertical-align: top;\n    }\n\n    .dataframe thead th {\n        text-align: right;\n    }\n</style>\n<table border=\"1\" class=\"dataframe\">\n  <thead>\n    <tr style=\"text-align: right;\">\n      <th></th>\n      <th>business_id</th>\n      <th>name</th>\n      <th>address</th>\n      <th>city</th>\n      <th>state</th>\n      <th>postal_code</th>\n      <th>latitude</th>\n      <th>longitude</th>\n      <th>stars</th>\n      <th>review_count</th>\n      <th>is_open</th>\n      <th>attributes</th>\n      <th>categories</th>\n      <th>hours</th>\n    </tr>\n  </thead>\n  <tbody>\n    <tr>\n      <th>0</th>\n      <td>XyGRDrgCK0z4CiA6nhwEaw</td>\n      <td>Persian Room Fine Dining</td>\n      <td>9290 N Thornydale Rd, Ste 100</td>\n      <td>Tucson</td>\n      <td>AZ</td>\n      <td>85742</td>\n      <td>32.375016</td>\n      <td>-111.046320</td>\n      <td>4.5</td>\n      <td>258</td>\n      <td>1</td>\n      <td>{'Alcohol': \"'full_bar'\", 'GoodForMeal': \"{'de...</td>\n      <td>Restaurants, Persian/Iranian, Mediterranean</td>\n      <td>{'Monday': '11:0-21:30', 'Tuesday': '11:0-21:3...</td>\n    </tr>\n    <tr>\n      <th>1</th>\n      <td>5Ce3lZksYVkCbrihqylVHQ</td>\n      <td>Sushi Nara</td>\n      <td>64 N Harrison Rd</td>\n      <td>Tucson</td>\n      <td>AZ</td>\n      <td>85748</td>\n      <td>32.222552</td>\n      <td>-110.788132</td>\n      <td>4.5</td>\n      <td>159</td>\n      <td>1</td>\n      <td>{'RestaurantsPriceRange2': '2', 'HasTV': 'True...</td>\n      <td>Sushi Bars, Japanese, Restaurants</td>\n      <td>{'Monday': '16:30-20:0', 'Tuesday': '16:30-20:...</td>\n    </tr>\n    <tr>\n      <th>2</th>\n      <td>xwKYBPO0ByGlkvNcr8FdqQ</td>\n      <td>Le Rendez-vous</td>\n      <td>3844 E Fort Lowell Rd</td>\n      <td>Tucson</td>\n      <td>AZ</td>\n      <td>85716</td>\n      <td>32.264930</td>\n      <td>-110.910544</td>\n      <td>4.0</td>\n      <td>223</td>\n      <td>1</td>\n      <td>{'BusinessParking': \"{'garage': False, 'street...</td>\n      <td>Restaurants, French, Tapas/Small Plates</td>\n      <td>{'Wednesday': '16:0-21:0', 'Thursday': '16:0-2...</td>\n    </tr>\n    <tr>\n      <th>3</th>\n      <td>SVJJIoAiW3vHwoSpVnUcLQ</td>\n      <td>Pastiche Modern Eatery</td>\n      <td>3025 N Campbell Ave</td>\n      <td>Tucson</td>\n      <td>AZ</td>\n      <td>85719</td>\n      <td>32.261920</td>\n      <td>-110.944474</td>\n      <td>3.5</td>\n      <td>313</td>\n      <td>1</td>\n      <td>{'WiFi': \"'free'\", 'HasTV': 'True', 'Restauran...</td>\n      <td>American (New), American (Traditional), Restau...</td>\n      <td>{'Monday': '7:0-21:0', 'Tuesday': '7:0-21:0', ...</td>\n    </tr>\n    <tr>\n      <th>4</th>\n      <td>p7tSGmWpFV246aYhwODgBg</td>\n      <td>O Sushi Restaurant</td>\n      <td>4689 E Speedway Blvd</td>\n      <td>Tucson</td>\n      <td>AZ</td>\n      <td>85712</td>\n      <td>32.236944</td>\n      <td>-110.892965</td>\n      <td>4.5</td>\n      <td>199</td>\n      <td>1</td>\n      <td>{'RestaurantsGoodForGroups': 'True', 'Restaura...</td>\n      <td>Sushi Bars, Restaurants, Japanese</td>\n      <td>{'Monday': '16:30-20:30', 'Tuesday': '16:30-20...</td>\n    </tr>\n  </tbody>\n</table>\n</div>"
     },
     "execution_count": 7,
     "metadata": {},
     "output_type": "execute_result"
    }
   ],
   "source": [
    "df_b.head()"
   ]
  },
  {
   "cell_type": "code",
   "execution_count": 8,
   "outputs": [
    {
     "data": {
      "text/plain": "                  user_id      name  review_count        yelping_since  \\\n0  1sGYXSkJHPhJ6wQtc-RbZw  Kimberly           820  2009-07-12 01:03:14   \n1  2YKkLFeOx-0zRcWp0KUv_Q      Mark           564  2010-06-07 21:08:02   \n2  5BpJEC8YVi80ecWT5CtlfQ     Jenny          2739  2008-09-11 01:51:00   \n3  kF2sEC2B1nJlxVFr_jaEQA      Lara           198  2009-02-06 16:15:32   \n4  zdw1jwmw1TNLZgu_is_Seg       Pam           108  2011-03-21 03:27:57   \n\n   useful  funny   cool                                              elite  \\\n0    5441   2976   4264  2009,2010,2011,2012,2013,2014,2015,2016,2017,2...   \n1    2158   1026   1068  2011,2012,2013,2014,2015,2016,2017,2018,2019,2...   \n2   17333  11441  14336  2010,2011,2012,2013,2014,2015,2016,2017,2018,2...   \n3     305     56    121                                          2010,2011   \n4     214     52     85                                     2011,2012,2013   \n\n                                             friends  fans  ...  \\\n0  9w4vI3LRTA4JdJyzOxeEMw, fNSGyM1NJ91CTO_VfJ5asQ...   149  ...   \n1  qumjKpb34tsSJ26Y2aaTPg, fHxHETYCW-hJhPrEVNN3hA...    63  ...   \n2  nqyyLmjNdS22H0yKSu6-YQ, eVUmxx1kN-Acni0t7gcg3g...   427  ...   \n3  -MRW5b_OiA4833cL4v53jQ, eW-IQGFyOcqg-aKuhxKf3g...    10  ...   \n4  fwOSFdqvyvG4B-jNaseceQ, 0ED7A-Tae6OKYL1hkD4tSA...     8  ...   \n\n   compliment_more  compliment_profile  compliment_cute  compliment_list  \\\n0               31                  43               12                8   \n1               11                   3                2               17   \n2              190                 168               52               75   \n3                3                   2                0                0   \n4                0                   0                1                0   \n\n   compliment_note  compliment_plain  compliment_cool  compliment_funny  \\\n0              154               403              541               541   \n1              102               288              260               260   \n2              508              1564             2415              2415   \n3               14                17               14                14   \n4               15                 2               18                18   \n\n   compliment_writer  compliment_photos  \n0                265                148  \n1                126                  6  \n2               1035               1139  \n3                  8                  1  \n4                  5                  2  \n\n[5 rows x 22 columns]",
      "text/html": "<div>\n<style scoped>\n    .dataframe tbody tr th:only-of-type {\n        vertical-align: middle;\n    }\n\n    .dataframe tbody tr th {\n        vertical-align: top;\n    }\n\n    .dataframe thead th {\n        text-align: right;\n    }\n</style>\n<table border=\"1\" class=\"dataframe\">\n  <thead>\n    <tr style=\"text-align: right;\">\n      <th></th>\n      <th>user_id</th>\n      <th>name</th>\n      <th>review_count</th>\n      <th>yelping_since</th>\n      <th>useful</th>\n      <th>funny</th>\n      <th>cool</th>\n      <th>elite</th>\n      <th>friends</th>\n      <th>fans</th>\n      <th>...</th>\n      <th>compliment_more</th>\n      <th>compliment_profile</th>\n      <th>compliment_cute</th>\n      <th>compliment_list</th>\n      <th>compliment_note</th>\n      <th>compliment_plain</th>\n      <th>compliment_cool</th>\n      <th>compliment_funny</th>\n      <th>compliment_writer</th>\n      <th>compliment_photos</th>\n    </tr>\n  </thead>\n  <tbody>\n    <tr>\n      <th>0</th>\n      <td>1sGYXSkJHPhJ6wQtc-RbZw</td>\n      <td>Kimberly</td>\n      <td>820</td>\n      <td>2009-07-12 01:03:14</td>\n      <td>5441</td>\n      <td>2976</td>\n      <td>4264</td>\n      <td>2009,2010,2011,2012,2013,2014,2015,2016,2017,2...</td>\n      <td>9w4vI3LRTA4JdJyzOxeEMw, fNSGyM1NJ91CTO_VfJ5asQ...</td>\n      <td>149</td>\n      <td>...</td>\n      <td>31</td>\n      <td>43</td>\n      <td>12</td>\n      <td>8</td>\n      <td>154</td>\n      <td>403</td>\n      <td>541</td>\n      <td>541</td>\n      <td>265</td>\n      <td>148</td>\n    </tr>\n    <tr>\n      <th>1</th>\n      <td>2YKkLFeOx-0zRcWp0KUv_Q</td>\n      <td>Mark</td>\n      <td>564</td>\n      <td>2010-06-07 21:08:02</td>\n      <td>2158</td>\n      <td>1026</td>\n      <td>1068</td>\n      <td>2011,2012,2013,2014,2015,2016,2017,2018,2019,2...</td>\n      <td>qumjKpb34tsSJ26Y2aaTPg, fHxHETYCW-hJhPrEVNN3hA...</td>\n      <td>63</td>\n      <td>...</td>\n      <td>11</td>\n      <td>3</td>\n      <td>2</td>\n      <td>17</td>\n      <td>102</td>\n      <td>288</td>\n      <td>260</td>\n      <td>260</td>\n      <td>126</td>\n      <td>6</td>\n    </tr>\n    <tr>\n      <th>2</th>\n      <td>5BpJEC8YVi80ecWT5CtlfQ</td>\n      <td>Jenny</td>\n      <td>2739</td>\n      <td>2008-09-11 01:51:00</td>\n      <td>17333</td>\n      <td>11441</td>\n      <td>14336</td>\n      <td>2010,2011,2012,2013,2014,2015,2016,2017,2018,2...</td>\n      <td>nqyyLmjNdS22H0yKSu6-YQ, eVUmxx1kN-Acni0t7gcg3g...</td>\n      <td>427</td>\n      <td>...</td>\n      <td>190</td>\n      <td>168</td>\n      <td>52</td>\n      <td>75</td>\n      <td>508</td>\n      <td>1564</td>\n      <td>2415</td>\n      <td>2415</td>\n      <td>1035</td>\n      <td>1139</td>\n    </tr>\n    <tr>\n      <th>3</th>\n      <td>kF2sEC2B1nJlxVFr_jaEQA</td>\n      <td>Lara</td>\n      <td>198</td>\n      <td>2009-02-06 16:15:32</td>\n      <td>305</td>\n      <td>56</td>\n      <td>121</td>\n      <td>2010,2011</td>\n      <td>-MRW5b_OiA4833cL4v53jQ, eW-IQGFyOcqg-aKuhxKf3g...</td>\n      <td>10</td>\n      <td>...</td>\n      <td>3</td>\n      <td>2</td>\n      <td>0</td>\n      <td>0</td>\n      <td>14</td>\n      <td>17</td>\n      <td>14</td>\n      <td>14</td>\n      <td>8</td>\n      <td>1</td>\n    </tr>\n    <tr>\n      <th>4</th>\n      <td>zdw1jwmw1TNLZgu_is_Seg</td>\n      <td>Pam</td>\n      <td>108</td>\n      <td>2011-03-21 03:27:57</td>\n      <td>214</td>\n      <td>52</td>\n      <td>85</td>\n      <td>2011,2012,2013</td>\n      <td>fwOSFdqvyvG4B-jNaseceQ, 0ED7A-Tae6OKYL1hkD4tSA...</td>\n      <td>8</td>\n      <td>...</td>\n      <td>0</td>\n      <td>0</td>\n      <td>1</td>\n      <td>0</td>\n      <td>15</td>\n      <td>2</td>\n      <td>18</td>\n      <td>18</td>\n      <td>5</td>\n      <td>2</td>\n    </tr>\n  </tbody>\n</table>\n<p>5 rows × 22 columns</p>\n</div>"
     },
     "execution_count": 8,
     "metadata": {},
     "output_type": "execute_result"
    }
   ],
   "source": [
    "users.head()"
   ],
   "metadata": {
    "collapsed": false,
    "ExecuteTime": {
     "end_time": "2023-10-08T21:15:19.301242300Z",
     "start_time": "2023-10-08T21:15:18.003328300Z"
    }
   }
  },
  {
   "cell_type": "code",
   "execution_count": 9,
   "outputs": [
    {
     "data": {
      "text/plain": "                review_id                 user_id             business_id  \\\n0  ymhbOMW63B_vGaRFR3XT0A  yZdAhQ_KmKuCZmbBy9YDQg  5Ce3lZksYVkCbrihqylVHQ   \n1  jT0mpPypQH_eFoyIHhuM6A  To1Pq4io8oCT8f6ryRdPeQ  5Ce3lZksYVkCbrihqylVHQ   \n2  RkpAuBy0Oi-zqGvfh76Tuw  fGYAraOy6CFZeg8-YRyMxw  5Ce3lZksYVkCbrihqylVHQ   \n3  VI3-W_oNX1ROBHgUZWs2cw  pHmgeQkvhJPDGdqVw7AmtQ  5Ce3lZksYVkCbrihqylVHQ   \n4  7HtOcNgZXEmikXjB3bFfhA  Gu5NAzjgp6hwuxMHgQL0ng  5Ce3lZksYVkCbrihqylVHQ   \n5  HVXgyuEYfpPzG9vZ-rTpGQ  LUrY9f-pEudeBwTkbw4JWw  5Ce3lZksYVkCbrihqylVHQ   \n6  KJ1TrX11MTRsz8OhhGLdiQ  dmsz__xB7hIh2KPhUfSPBw  5Ce3lZksYVkCbrihqylVHQ   \n7  6nyPiHlFJSR91pcQzSfHDg  cJmzXpTlAgTyTx4YFC1MKg  5Ce3lZksYVkCbrihqylVHQ   \n8  Nf3jZC1jYKkQS1ohnBeEuQ  fRdb00MgeCElpJule1YLhQ  5Ce3lZksYVkCbrihqylVHQ   \n9  JSBIDtK_XifkMl2AMmbY6Q  Po4BCvGrKtP_OfZwMUp87g  5Ce3lZksYVkCbrihqylVHQ   \n\n   stars  useful  funny  cool  \\\n0      5       0      0     0   \n1      5       2      0     3   \n2      5       3      0     0   \n3      5       2      0     0   \n4      4       8      0     8   \n5      3       1      3     0   \n6      4       5      0     4   \n7      5       2      0     2   \n8      5       2      0     2   \n9      4       1      0     0   \n\n                                                text                 date  \\\n0  I just started going to Sushi Nara this month ...  2014-07-25 17:56:26   \n1  My kitty and I love this sushi place!! We love...  2015-10-07 23:33:00   \n2  Great bang for your buck, sushi was fresh and ...  2018-06-09 03:48:32   \n3  Good service and nice a quit at lunch time eve...  2018-07-17 20:19:21   \n4  A welcome addition to the growing number of ex...  2014-12-01 22:58:17   \n5  ....meh....\\n\\n my husband and I are big sushi...  2015-05-17 02:29:56   \n6  Based on the exceptional reviews, my wife and ...  2015-02-07 04:31:33   \n7  Sushi Nara is awesome- always fresh, well prep...  2016-04-26 05:14:03   \n8  Great little sushi place, especially for a nov...  2015-09-26 03:33:45   \n9  Great sushi. Nice service. Long wait if it's a...  2017-03-17 02:56:09   \n\n         name  \n0  Sushi Nara  \n1  Sushi Nara  \n2  Sushi Nara  \n3  Sushi Nara  \n4  Sushi Nara  \n5  Sushi Nara  \n6  Sushi Nara  \n7  Sushi Nara  \n8  Sushi Nara  \n9  Sushi Nara  ",
      "text/html": "<div>\n<style scoped>\n    .dataframe tbody tr th:only-of-type {\n        vertical-align: middle;\n    }\n\n    .dataframe tbody tr th {\n        vertical-align: top;\n    }\n\n    .dataframe thead th {\n        text-align: right;\n    }\n</style>\n<table border=\"1\" class=\"dataframe\">\n  <thead>\n    <tr style=\"text-align: right;\">\n      <th></th>\n      <th>review_id</th>\n      <th>user_id</th>\n      <th>business_id</th>\n      <th>stars</th>\n      <th>useful</th>\n      <th>funny</th>\n      <th>cool</th>\n      <th>text</th>\n      <th>date</th>\n      <th>name</th>\n    </tr>\n  </thead>\n  <tbody>\n    <tr>\n      <th>0</th>\n      <td>ymhbOMW63B_vGaRFR3XT0A</td>\n      <td>yZdAhQ_KmKuCZmbBy9YDQg</td>\n      <td>5Ce3lZksYVkCbrihqylVHQ</td>\n      <td>5</td>\n      <td>0</td>\n      <td>0</td>\n      <td>0</td>\n      <td>I just started going to Sushi Nara this month ...</td>\n      <td>2014-07-25 17:56:26</td>\n      <td>Sushi Nara</td>\n    </tr>\n    <tr>\n      <th>1</th>\n      <td>jT0mpPypQH_eFoyIHhuM6A</td>\n      <td>To1Pq4io8oCT8f6ryRdPeQ</td>\n      <td>5Ce3lZksYVkCbrihqylVHQ</td>\n      <td>5</td>\n      <td>2</td>\n      <td>0</td>\n      <td>3</td>\n      <td>My kitty and I love this sushi place!! We love...</td>\n      <td>2015-10-07 23:33:00</td>\n      <td>Sushi Nara</td>\n    </tr>\n    <tr>\n      <th>2</th>\n      <td>RkpAuBy0Oi-zqGvfh76Tuw</td>\n      <td>fGYAraOy6CFZeg8-YRyMxw</td>\n      <td>5Ce3lZksYVkCbrihqylVHQ</td>\n      <td>5</td>\n      <td>3</td>\n      <td>0</td>\n      <td>0</td>\n      <td>Great bang for your buck, sushi was fresh and ...</td>\n      <td>2018-06-09 03:48:32</td>\n      <td>Sushi Nara</td>\n    </tr>\n    <tr>\n      <th>3</th>\n      <td>VI3-W_oNX1ROBHgUZWs2cw</td>\n      <td>pHmgeQkvhJPDGdqVw7AmtQ</td>\n      <td>5Ce3lZksYVkCbrihqylVHQ</td>\n      <td>5</td>\n      <td>2</td>\n      <td>0</td>\n      <td>0</td>\n      <td>Good service and nice a quit at lunch time eve...</td>\n      <td>2018-07-17 20:19:21</td>\n      <td>Sushi Nara</td>\n    </tr>\n    <tr>\n      <th>4</th>\n      <td>7HtOcNgZXEmikXjB3bFfhA</td>\n      <td>Gu5NAzjgp6hwuxMHgQL0ng</td>\n      <td>5Ce3lZksYVkCbrihqylVHQ</td>\n      <td>4</td>\n      <td>8</td>\n      <td>0</td>\n      <td>8</td>\n      <td>A welcome addition to the growing number of ex...</td>\n      <td>2014-12-01 22:58:17</td>\n      <td>Sushi Nara</td>\n    </tr>\n    <tr>\n      <th>5</th>\n      <td>HVXgyuEYfpPzG9vZ-rTpGQ</td>\n      <td>LUrY9f-pEudeBwTkbw4JWw</td>\n      <td>5Ce3lZksYVkCbrihqylVHQ</td>\n      <td>3</td>\n      <td>1</td>\n      <td>3</td>\n      <td>0</td>\n      <td>....meh....\\n\\n my husband and I are big sushi...</td>\n      <td>2015-05-17 02:29:56</td>\n      <td>Sushi Nara</td>\n    </tr>\n    <tr>\n      <th>6</th>\n      <td>KJ1TrX11MTRsz8OhhGLdiQ</td>\n      <td>dmsz__xB7hIh2KPhUfSPBw</td>\n      <td>5Ce3lZksYVkCbrihqylVHQ</td>\n      <td>4</td>\n      <td>5</td>\n      <td>0</td>\n      <td>4</td>\n      <td>Based on the exceptional reviews, my wife and ...</td>\n      <td>2015-02-07 04:31:33</td>\n      <td>Sushi Nara</td>\n    </tr>\n    <tr>\n      <th>7</th>\n      <td>6nyPiHlFJSR91pcQzSfHDg</td>\n      <td>cJmzXpTlAgTyTx4YFC1MKg</td>\n      <td>5Ce3lZksYVkCbrihqylVHQ</td>\n      <td>5</td>\n      <td>2</td>\n      <td>0</td>\n      <td>2</td>\n      <td>Sushi Nara is awesome- always fresh, well prep...</td>\n      <td>2016-04-26 05:14:03</td>\n      <td>Sushi Nara</td>\n    </tr>\n    <tr>\n      <th>8</th>\n      <td>Nf3jZC1jYKkQS1ohnBeEuQ</td>\n      <td>fRdb00MgeCElpJule1YLhQ</td>\n      <td>5Ce3lZksYVkCbrihqylVHQ</td>\n      <td>5</td>\n      <td>2</td>\n      <td>0</td>\n      <td>2</td>\n      <td>Great little sushi place, especially for a nov...</td>\n      <td>2015-09-26 03:33:45</td>\n      <td>Sushi Nara</td>\n    </tr>\n    <tr>\n      <th>9</th>\n      <td>JSBIDtK_XifkMl2AMmbY6Q</td>\n      <td>Po4BCvGrKtP_OfZwMUp87g</td>\n      <td>5Ce3lZksYVkCbrihqylVHQ</td>\n      <td>4</td>\n      <td>1</td>\n      <td>0</td>\n      <td>0</td>\n      <td>Great sushi. Nice service. Long wait if it's a...</td>\n      <td>2017-03-17 02:56:09</td>\n      <td>Sushi Nara</td>\n    </tr>\n  </tbody>\n</table>\n</div>"
     },
     "execution_count": 9,
     "metadata": {},
     "output_type": "execute_result"
    }
   ],
   "source": [
    "df_join=df.merge(df_b[[\"business_id\",\"name\"]],how=\"inner\",on=\"business_id\")\n",
    "df_join.head(10)"
   ],
   "metadata": {
    "collapsed": false,
    "ExecuteTime": {
     "end_time": "2023-10-08T21:15:19.301242300Z",
     "start_time": "2023-10-08T21:15:18.018953600Z"
    }
   }
  },
  {
   "cell_type": "code",
   "execution_count": 10,
   "outputs": [
    {
     "data": {
      "text/plain": "                  user_id             business_id  stars        name\n0  yZdAhQ_KmKuCZmbBy9YDQg  5Ce3lZksYVkCbrihqylVHQ      5  Sushi Nara\n1  To1Pq4io8oCT8f6ryRdPeQ  5Ce3lZksYVkCbrihqylVHQ      5  Sushi Nara\n2  fGYAraOy6CFZeg8-YRyMxw  5Ce3lZksYVkCbrihqylVHQ      5  Sushi Nara\n3  pHmgeQkvhJPDGdqVw7AmtQ  5Ce3lZksYVkCbrihqylVHQ      5  Sushi Nara\n4  Gu5NAzjgp6hwuxMHgQL0ng  5Ce3lZksYVkCbrihqylVHQ      4  Sushi Nara",
      "text/html": "<div>\n<style scoped>\n    .dataframe tbody tr th:only-of-type {\n        vertical-align: middle;\n    }\n\n    .dataframe tbody tr th {\n        vertical-align: top;\n    }\n\n    .dataframe thead th {\n        text-align: right;\n    }\n</style>\n<table border=\"1\" class=\"dataframe\">\n  <thead>\n    <tr style=\"text-align: right;\">\n      <th></th>\n      <th>user_id</th>\n      <th>business_id</th>\n      <th>stars</th>\n      <th>name</th>\n    </tr>\n  </thead>\n  <tbody>\n    <tr>\n      <th>0</th>\n      <td>yZdAhQ_KmKuCZmbBy9YDQg</td>\n      <td>5Ce3lZksYVkCbrihqylVHQ</td>\n      <td>5</td>\n      <td>Sushi Nara</td>\n    </tr>\n    <tr>\n      <th>1</th>\n      <td>To1Pq4io8oCT8f6ryRdPeQ</td>\n      <td>5Ce3lZksYVkCbrihqylVHQ</td>\n      <td>5</td>\n      <td>Sushi Nara</td>\n    </tr>\n    <tr>\n      <th>2</th>\n      <td>fGYAraOy6CFZeg8-YRyMxw</td>\n      <td>5Ce3lZksYVkCbrihqylVHQ</td>\n      <td>5</td>\n      <td>Sushi Nara</td>\n    </tr>\n    <tr>\n      <th>3</th>\n      <td>pHmgeQkvhJPDGdqVw7AmtQ</td>\n      <td>5Ce3lZksYVkCbrihqylVHQ</td>\n      <td>5</td>\n      <td>Sushi Nara</td>\n    </tr>\n    <tr>\n      <th>4</th>\n      <td>Gu5NAzjgp6hwuxMHgQL0ng</td>\n      <td>5Ce3lZksYVkCbrihqylVHQ</td>\n      <td>4</td>\n      <td>Sushi Nara</td>\n    </tr>\n  </tbody>\n</table>\n</div>"
     },
     "execution_count": 10,
     "metadata": {},
     "output_type": "execute_result"
    }
   ],
   "source": [
    "df_join_2=df_join.drop(columns=['review_id','useful', 'funny','cool', 'text', 'date'])\n",
    "df_join_2.head()"
   ],
   "metadata": {
    "collapsed": false,
    "ExecuteTime": {
     "end_time": "2023-10-08T21:15:19.301242300Z",
     "start_time": "2023-10-08T21:15:18.034578200Z"
    }
   }
  },
  {
   "cell_type": "markdown",
   "source": [
    "## Every Restaruant has an avg users rating of 2.85"
   ],
   "metadata": {
    "collapsed": false
   }
  },
  {
   "cell_type": "code",
   "execution_count": 11,
   "metadata": {
    "ExecuteTime": {
     "end_time": "2023-10-08T21:15:19.301242300Z",
     "start_time": "2023-10-08T21:15:18.050205Z"
    }
   },
   "outputs": [
    {
     "data": {
      "text/plain": "1.2842086459449804"
     },
     "execution_count": 11,
     "metadata": {},
     "output_type": "execute_result"
    }
   ],
   "source": [
    "df_join_2.groupby('user_id')['stars'].count().mean()"
   ]
  },
  {
   "cell_type": "code",
   "execution_count": 12,
   "metadata": {
    "ExecuteTime": {
     "end_time": "2023-10-08T21:15:19.301242300Z",
     "start_time": "2023-10-08T21:15:18.066215500Z"
    }
   },
   "outputs": [],
   "source": [
    "ratings = df_join_2['stars']\n",
    "users = df_join_2['user_id']\n",
    "items = df_join_2['business_id']\n"
   ]
  },
  {
   "cell_type": "code",
   "execution_count": 13,
   "metadata": {
    "ExecuteTime": {
     "end_time": "2023-10-08T21:15:19.301242300Z",
     "start_time": "2023-10-08T21:15:18.081847Z"
    }
   },
   "outputs": [],
   "source": [
    "from sklearn.preprocessing import LabelEncoder\n",
    "\n",
    "# heavy lifting encoders\n",
    "user_encoder = LabelEncoder()\n",
    "item_encoder = LabelEncoder()\n",
    "\n",
    "# preparation for the csr matrix\n",
    "u = user_encoder.fit_transform(users)\n",
    "i = item_encoder.fit_transform(items)\n",
    "lu = len(np.unique(u))\n",
    "li = len(np.unique(i))"
   ]
  },
  {
   "cell_type": "code",
   "execution_count": 14,
   "metadata": {
    "ExecuteTime": {
     "end_time": "2023-10-08T21:15:19.301242300Z",
     "start_time": "2023-10-08T21:15:18.207357800Z"
    }
   },
   "outputs": [],
   "source": [
    "from scipy.sparse import csr_matrix\n",
    "\n",
    "class InteractionMachine:\n",
    "    def __init__(self):\n",
    "        self.user_encoder = LabelEncoder()\n",
    "        self.item_encoder = LabelEncoder()\n",
    "\n",
    "    def __repr__(self):\n",
    "        return 'InteractionMachine()'\n",
    "\n",
    "    def build(self, users, items, ratings):\n",
    "        u = self.user_encoder.fit_transform(users)\n",
    "        i = self.item_encoder.fit_transform(items)\n",
    "        self.n_users = len(np.unique(u))\n",
    "        self.n_items = len(np.unique(i))\n",
    "        self.interactions = csr_matrix((ratings, (u, i)), shape=(self.n_users, self.n_items))\n",
    "        return self"
   ]
  },
  {
   "cell_type": "code",
   "execution_count": 15,
   "metadata": {
    "ExecuteTime": {
     "end_time": "2023-10-08T21:15:19.301242300Z",
     "start_time": "2023-10-08T21:15:18.222976300Z"
    }
   },
   "outputs": [],
   "source": [
    "im = InteractionMachine()\n",
    "\n",
    "im.build(df_join_2['user_id'], df_join_2['business_id'], df_join_2['stars'])\n",
    "\n",
    "interactions = im.interactions"
   ]
  },
  {
   "cell_type": "code",
   "execution_count": 16,
   "metadata": {
    "ExecuteTime": {
     "end_time": "2023-10-08T21:15:19.301242300Z",
     "start_time": "2023-10-08T21:15:18.242914800Z"
    }
   },
   "outputs": [
    {
     "data": {
      "text/plain": "array([[0, 0, 0, ..., 0, 0, 0],\n       [0, 0, 0, ..., 0, 0, 0],\n       [0, 0, 0, ..., 0, 0, 0],\n       ...,\n       [0, 0, 0, ..., 0, 0, 0],\n       [0, 0, 0, ..., 0, 5, 0],\n       [0, 0, 0, ..., 0, 0, 0]], dtype=int64)"
     },
     "execution_count": 16,
     "metadata": {},
     "output_type": "execute_result"
    }
   ],
   "source": [
    "interactions.toarray()"
   ]
  },
  {
   "cell_type": "code",
   "execution_count": 17,
   "metadata": {
    "ExecuteTime": {
     "end_time": "2023-10-08T21:15:19.301242300Z",
     "start_time": "2023-10-08T21:15:18.259795600Z"
    }
   },
   "outputs": [
    {
     "name": "stderr",
     "output_type": "stream",
     "text": [
      "C:\\ProgramData\\Anaconda3\\lib\\site-packages\\lightfm\\_lightfm_fast.py:9: UserWarning: LightFM was compiled without OpenMP support. Only a single thread will be used.\n",
      "  warnings.warn(\n"
     ]
    }
   ],
   "source": [
    "from lightfm import LightFM\n",
    "from lightfm.datasets import fetch_movielens\n",
    "from lightfm.evaluation import precision_at_k"
   ]
  },
  {
   "cell_type": "code",
   "execution_count": 18,
   "metadata": {
    "ExecuteTime": {
     "end_time": "2023-10-08T21:15:19.301242300Z",
     "start_time": "2023-10-08T21:15:18.375538100Z"
    }
   },
   "outputs": [],
   "source": [
    "from scipy.sparse import csr_matrix"
   ]
  },
  {
   "cell_type": "code",
   "execution_count": 19,
   "metadata": {
    "ExecuteTime": {
     "end_time": "2023-10-08T21:15:19.301242300Z",
     "start_time": "2023-10-08T21:15:18.391166500Z"
    }
   },
   "outputs": [],
   "source": [
    "# do this\n",
    "from lightfm.cross_validation import random_train_test_split"
   ]
  },
  {
   "cell_type": "code",
   "execution_count": 20,
   "metadata": {
    "ExecuteTime": {
     "end_time": "2023-10-08T21:15:19.301242300Z",
     "start_time": "2023-10-08T21:15:18.406789100Z"
    }
   },
   "outputs": [],
   "source": [
    "seed = 1001\n",
    "train, test = random_train_test_split(interactions, test_percentage=0.2)"
   ]
  },
  {
   "cell_type": "code",
   "execution_count": 21,
   "metadata": {
    "ExecuteTime": {
     "end_time": "2023-10-08T21:15:19.301242300Z",
     "start_time": "2023-10-08T21:15:18.422412800Z"
    }
   },
   "outputs": [
    {
     "data": {
      "text/plain": "<5598x34 sparse matrix of type '<class 'numpy.int64'>'\n\twith 5507 stored elements in COOrdinate format>"
     },
     "execution_count": 21,
     "metadata": {},
     "output_type": "execute_result"
    }
   ],
   "source": [
    "train"
   ]
  },
  {
   "cell_type": "code",
   "execution_count": 22,
   "metadata": {
    "ExecuteTime": {
     "end_time": "2023-10-08T21:15:19.301242300Z",
     "start_time": "2023-10-08T21:15:18.438043400Z"
    }
   },
   "outputs": [
    {
     "data": {
      "text/plain": "<5598x34 sparse matrix of type '<class 'numpy.int64'>'\n\twith 1377 stored elements in COOrdinate format>"
     },
     "execution_count": 22,
     "metadata": {},
     "output_type": "execute_result"
    }
   ],
   "source": [
    "test"
   ]
  },
  {
   "cell_type": "code",
   "execution_count": 23,
   "metadata": {
    "ExecuteTime": {
     "end_time": "2023-10-08T21:15:19.301242300Z",
     "start_time": "2023-10-08T21:15:18.457176400Z"
    }
   },
   "outputs": [
    {
     "data": {
      "text/plain": "<lightfm.lightfm.LightFM at 0x1db95e00e50>"
     },
     "execution_count": 23,
     "metadata": {},
     "output_type": "execute_result"
    }
   ],
   "source": [
    "model = LightFM()\n",
    "model.fit(train, epochs=50)"
   ]
  },
  {
   "cell_type": "code",
   "execution_count": 24,
   "metadata": {
    "ExecuteTime": {
     "end_time": "2023-10-08T21:15:19.301242300Z",
     "start_time": "2023-10-08T21:15:18.908542200Z"
    }
   },
   "outputs": [],
   "source": [
    "from lightfm.evaluation import auc_score, precision_at_k"
   ]
  },
  {
   "cell_type": "code",
   "execution_count": 25,
   "metadata": {
    "ExecuteTime": {
     "end_time": "2023-10-08T21:15:19.301242300Z",
     "start_time": "2023-10-08T21:15:18.924200200Z"
    }
   },
   "outputs": [
    {
     "data": {
      "text/plain": "0.66149276"
     },
     "execution_count": 25,
     "metadata": {},
     "output_type": "execute_result"
    }
   ],
   "source": [
    "auc_score(model, test).mean()"
   ]
  },
  {
   "cell_type": "code",
   "execution_count": 26,
   "metadata": {
    "ExecuteTime": {
     "end_time": "2023-10-08T21:15:19.301242300Z",
     "start_time": "2023-10-08T21:15:18.939826200Z"
    }
   },
   "outputs": [
    {
     "data": {
      "text/plain": "                     user_id             business_id  stars  \\\n4706  lgxCqDMnowyx1Q5fLdLPCA  7PbJjm9Oeq9LqM9zKsF-8g      4   \n1636  pOi89mLu4ivFmcoxMcBjfw  aDL_KdxbDRT5s51Jtn9V5g      5   \n4834  FF7w5iaWZQy1JnrO7hKXEw  KZA_HEOsBXf8dtrk9rqNJA      5   \n3378  fLXQEc1n_R5_smkyV17PyQ  jZ1rUspubgkuZjwKJMhEEw      5   \n6648  y0Grq0WeLf7wYUhQ44z4iA  g9DDXMuDwaW-GtD2f6xl6A      5   \n\n                        name  \n4706           Seoul Kitchen  \n1636          Charro del Rey  \n4834  Prep & Pastry on Grant  \n3378               MOD Pizza  \n6648          Breakfast Stop  ",
      "text/html": "<div>\n<style scoped>\n    .dataframe tbody tr th:only-of-type {\n        vertical-align: middle;\n    }\n\n    .dataframe tbody tr th {\n        vertical-align: top;\n    }\n\n    .dataframe thead th {\n        text-align: right;\n    }\n</style>\n<table border=\"1\" class=\"dataframe\">\n  <thead>\n    <tr style=\"text-align: right;\">\n      <th></th>\n      <th>user_id</th>\n      <th>business_id</th>\n      <th>stars</th>\n      <th>name</th>\n    </tr>\n  </thead>\n  <tbody>\n    <tr>\n      <th>4706</th>\n      <td>lgxCqDMnowyx1Q5fLdLPCA</td>\n      <td>7PbJjm9Oeq9LqM9zKsF-8g</td>\n      <td>4</td>\n      <td>Seoul Kitchen</td>\n    </tr>\n    <tr>\n      <th>1636</th>\n      <td>pOi89mLu4ivFmcoxMcBjfw</td>\n      <td>aDL_KdxbDRT5s51Jtn9V5g</td>\n      <td>5</td>\n      <td>Charro del Rey</td>\n    </tr>\n    <tr>\n      <th>4834</th>\n      <td>FF7w5iaWZQy1JnrO7hKXEw</td>\n      <td>KZA_HEOsBXf8dtrk9rqNJA</td>\n      <td>5</td>\n      <td>Prep &amp; Pastry on Grant</td>\n    </tr>\n    <tr>\n      <th>3378</th>\n      <td>fLXQEc1n_R5_smkyV17PyQ</td>\n      <td>jZ1rUspubgkuZjwKJMhEEw</td>\n      <td>5</td>\n      <td>MOD Pizza</td>\n    </tr>\n    <tr>\n      <th>6648</th>\n      <td>y0Grq0WeLf7wYUhQ44z4iA</td>\n      <td>g9DDXMuDwaW-GtD2f6xl6A</td>\n      <td>5</td>\n      <td>Breakfast Stop</td>\n    </tr>\n  </tbody>\n</table>\n</div>"
     },
     "execution_count": 26,
     "metadata": {},
     "output_type": "execute_result"
    }
   ],
   "source": [
    "df_join_2.sample(n=5)"
   ]
  },
  {
   "cell_type": "code",
   "execution_count": 30,
   "metadata": {
    "ExecuteTime": {
     "end_time": "2023-10-08T21:15:46.219544Z",
     "start_time": "2023-10-08T21:15:45.547584200Z"
    }
   },
   "outputs": [
    {
     "data": {
      "text/plain": "                     user_id             business_id  stars           name\n4706  lgxCqDMnowyx1Q5fLdLPCA  7PbJjm9Oeq9LqM9zKsF-8g      4  Seoul Kitchen",
      "text/html": "<div>\n<style scoped>\n    .dataframe tbody tr th:only-of-type {\n        vertical-align: middle;\n    }\n\n    .dataframe tbody tr th {\n        vertical-align: top;\n    }\n\n    .dataframe thead th {\n        text-align: right;\n    }\n</style>\n<table border=\"1\" class=\"dataframe\">\n  <thead>\n    <tr style=\"text-align: right;\">\n      <th></th>\n      <th>user_id</th>\n      <th>business_id</th>\n      <th>stars</th>\n      <th>name</th>\n    </tr>\n  </thead>\n  <tbody>\n    <tr>\n      <th>4706</th>\n      <td>lgxCqDMnowyx1Q5fLdLPCA</td>\n      <td>7PbJjm9Oeq9LqM9zKsF-8g</td>\n      <td>4</td>\n      <td>Seoul Kitchen</td>\n    </tr>\n  </tbody>\n</table>\n</div>"
     },
     "execution_count": 30,
     "metadata": {},
     "output_type": "execute_result"
    }
   ],
   "source": [
    "df_join_2[df_join_2['user_id'] == 'lgxCqDMnowyx1Q5fLdLPCA']"
   ]
  },
  {
   "cell_type": "code",
   "execution_count": 31,
   "outputs": [],
   "source": [
    "one_user = 'lgxCqDMnowyx1Q5fLdLPCA'"
   ],
   "metadata": {
    "collapsed": false,
    "ExecuteTime": {
     "end_time": "2023-10-08T21:15:46.219544Z",
     "start_time": "2023-10-08T21:15:45.578872700Z"
    }
   }
  },
  {
   "cell_type": "code",
   "execution_count": 32,
   "metadata": {
    "ExecuteTime": {
     "end_time": "2023-10-08T21:15:46.219544Z",
     "start_time": "2023-10-08T21:15:45.594466Z"
    }
   },
   "outputs": [
    {
     "data": {
      "text/plain": "4361"
     },
     "execution_count": 32,
     "metadata": {},
     "output_type": "execute_result"
    }
   ],
   "source": [
    "user_num = int(im.user_encoder.transform([one_user])[0])\n",
    "user_num"
   ]
  },
  {
   "cell_type": "code",
   "execution_count": 33,
   "outputs": [
    {
     "data": {
      "text/plain": "        pred             business_id\n9   5.180359  KZA_HEOsBXf8dtrk9rqNJA\n11  4.910201  RHdEScVIAQ7xzFFMiQEnAQ\n6   4.794450  CJoO4HYD0tZRXlZqA04wmw\n27  4.595120  nEaTbGFlU7d9eLU2kl6KBw\n13  4.460433  SVJJIoAiW3vHwoSpVnUcLQ\n15  4.305081  XyGRDrgCK0z4CiA6nhwEaw\n26  4.218268  l8yqThofpWGUs6lxOeIdOA\n23  4.204150  hzXAxu35F32Ob9uVCh-dIQ\n0   4.132064  5CX7rtnwYnmqFCihOyWivg\n32  4.123035  xwKYBPO0ByGlkvNcr8FdqQ",
      "text/html": "<div>\n<style scoped>\n    .dataframe tbody tr th:only-of-type {\n        vertical-align: middle;\n    }\n\n    .dataframe tbody tr th {\n        vertical-align: top;\n    }\n\n    .dataframe thead th {\n        text-align: right;\n    }\n</style>\n<table border=\"1\" class=\"dataframe\">\n  <thead>\n    <tr style=\"text-align: right;\">\n      <th></th>\n      <th>pred</th>\n      <th>business_id</th>\n    </tr>\n  </thead>\n  <tbody>\n    <tr>\n      <th>9</th>\n      <td>5.180359</td>\n      <td>KZA_HEOsBXf8dtrk9rqNJA</td>\n    </tr>\n    <tr>\n      <th>11</th>\n      <td>4.910201</td>\n      <td>RHdEScVIAQ7xzFFMiQEnAQ</td>\n    </tr>\n    <tr>\n      <th>6</th>\n      <td>4.794450</td>\n      <td>CJoO4HYD0tZRXlZqA04wmw</td>\n    </tr>\n    <tr>\n      <th>27</th>\n      <td>4.595120</td>\n      <td>nEaTbGFlU7d9eLU2kl6KBw</td>\n    </tr>\n    <tr>\n      <th>13</th>\n      <td>4.460433</td>\n      <td>SVJJIoAiW3vHwoSpVnUcLQ</td>\n    </tr>\n    <tr>\n      <th>15</th>\n      <td>4.305081</td>\n      <td>XyGRDrgCK0z4CiA6nhwEaw</td>\n    </tr>\n    <tr>\n      <th>26</th>\n      <td>4.218268</td>\n      <td>l8yqThofpWGUs6lxOeIdOA</td>\n    </tr>\n    <tr>\n      <th>23</th>\n      <td>4.204150</td>\n      <td>hzXAxu35F32Ob9uVCh-dIQ</td>\n    </tr>\n    <tr>\n      <th>0</th>\n      <td>4.132064</td>\n      <td>5CX7rtnwYnmqFCihOyWivg</td>\n    </tr>\n    <tr>\n      <th>32</th>\n      <td>4.123035</td>\n      <td>xwKYBPO0ByGlkvNcr8FdqQ</td>\n    </tr>\n  </tbody>\n</table>\n</div>"
     },
     "execution_count": 33,
     "metadata": {},
     "output_type": "execute_result"
    }
   ],
   "source": [
    "preds = model.predict(user_num, list(range(im.n_items)))\n",
    "preds = pd.DataFrame(zip(preds, im.item_encoder.classes_), columns=['pred', 'business_id'])\n",
    "preds = preds.sort_values('pred', ascending=False)\n",
    "preds.head(10)"
   ],
   "metadata": {
    "collapsed": false,
    "ExecuteTime": {
     "end_time": "2023-10-08T21:15:46.219544Z",
     "start_time": "2023-10-08T21:15:45.610477400Z"
    }
   }
  },
  {
   "cell_type": "code",
   "execution_count": 34,
   "outputs": [
    {
     "data": {
      "text/plain": "          pred             business_id                               name\n0     5.180359  KZA_HEOsBXf8dtrk9rqNJA             Prep & Pastry on Grant\n670   4.910201  RHdEScVIAQ7xzFFMiQEnAQ                    The Quesadillas\n1187  4.794450  CJoO4HYD0tZRXlZqA04wmw                   Crave Coffee Bar\n1635  4.595120  nEaTbGFlU7d9eLU2kl6KBw               Taqueria El Pueblito\n2012  4.460433  SVJJIoAiW3vHwoSpVnUcLQ             Pastiche Modern Eatery\n2345  4.305081  XyGRDrgCK0z4CiA6nhwEaw           Persian Room Fine Dining\n2613  4.218268  l8yqThofpWGUs6lxOeIdOA        Shish Kebab House of Tucson\n2876  4.204150  hzXAxu35F32Ob9uVCh-dIQ                  Thai China Bistro\n3130  4.132064  5CX7rtnwYnmqFCihOyWivg  Opa's Best Greek American Cuisine\n3376  4.123035  xwKYBPO0ByGlkvNcr8FdqQ                     Le Rendez-vous",
      "text/html": "<div>\n<style scoped>\n    .dataframe tbody tr th:only-of-type {\n        vertical-align: middle;\n    }\n\n    .dataframe tbody tr th {\n        vertical-align: top;\n    }\n\n    .dataframe thead th {\n        text-align: right;\n    }\n</style>\n<table border=\"1\" class=\"dataframe\">\n  <thead>\n    <tr style=\"text-align: right;\">\n      <th></th>\n      <th>pred</th>\n      <th>business_id</th>\n      <th>name</th>\n    </tr>\n  </thead>\n  <tbody>\n    <tr>\n      <th>0</th>\n      <td>5.180359</td>\n      <td>KZA_HEOsBXf8dtrk9rqNJA</td>\n      <td>Prep &amp; Pastry on Grant</td>\n    </tr>\n    <tr>\n      <th>670</th>\n      <td>4.910201</td>\n      <td>RHdEScVIAQ7xzFFMiQEnAQ</td>\n      <td>The Quesadillas</td>\n    </tr>\n    <tr>\n      <th>1187</th>\n      <td>4.794450</td>\n      <td>CJoO4HYD0tZRXlZqA04wmw</td>\n      <td>Crave Coffee Bar</td>\n    </tr>\n    <tr>\n      <th>1635</th>\n      <td>4.595120</td>\n      <td>nEaTbGFlU7d9eLU2kl6KBw</td>\n      <td>Taqueria El Pueblito</td>\n    </tr>\n    <tr>\n      <th>2012</th>\n      <td>4.460433</td>\n      <td>SVJJIoAiW3vHwoSpVnUcLQ</td>\n      <td>Pastiche Modern Eatery</td>\n    </tr>\n    <tr>\n      <th>2345</th>\n      <td>4.305081</td>\n      <td>XyGRDrgCK0z4CiA6nhwEaw</td>\n      <td>Persian Room Fine Dining</td>\n    </tr>\n    <tr>\n      <th>2613</th>\n      <td>4.218268</td>\n      <td>l8yqThofpWGUs6lxOeIdOA</td>\n      <td>Shish Kebab House of Tucson</td>\n    </tr>\n    <tr>\n      <th>2876</th>\n      <td>4.204150</td>\n      <td>hzXAxu35F32Ob9uVCh-dIQ</td>\n      <td>Thai China Bistro</td>\n    </tr>\n    <tr>\n      <th>3130</th>\n      <td>4.132064</td>\n      <td>5CX7rtnwYnmqFCihOyWivg</td>\n      <td>Opa's Best Greek American Cuisine</td>\n    </tr>\n    <tr>\n      <th>3376</th>\n      <td>4.123035</td>\n      <td>xwKYBPO0ByGlkvNcr8FdqQ</td>\n      <td>Le Rendez-vous</td>\n    </tr>\n  </tbody>\n</table>\n</div>"
     },
     "execution_count": 34,
     "metadata": {},
     "output_type": "execute_result"
    }
   ],
   "source": [
    "resultado=preds.merge(df_join_2[[\"business_id\",\"name\"]],how=\"inner\",on=\"business_id\")\n",
    "resultado.drop_duplicates(inplace=True)\n",
    "resultado.head(10)"
   ],
   "metadata": {
    "collapsed": false,
    "ExecuteTime": {
     "end_time": "2023-10-08T21:15:46.219544Z",
     "start_time": "2023-10-08T21:15:45.626141900Z"
    }
   }
  },
  {
   "cell_type": "code",
   "execution_count": 35,
   "outputs": [
    {
     "name": "stdout",
     "output_type": "stream",
     "text": [
      "Epoch: 0, Train AUC=0.995, Test AUC=0.621\n",
      "Epoch: 1, Train AUC=0.998, Test AUC=0.613\n",
      "Epoch: 2, Train AUC=0.998, Test AUC=0.615\n",
      "Epoch: 3, Train AUC=0.999, Test AUC=0.616\n",
      "Epoch: 4, Train AUC=0.999, Test AUC=0.616\n",
      "Epoch: 5, Train AUC=0.999, Test AUC=0.616\n",
      "Epoch: 6, Train AUC=0.999, Test AUC=0.615\n"
     ]
    }
   ],
   "source": [
    "from copy import deepcopy\n",
    "\n",
    "model = LightFM(loss='warp')\n",
    "\n",
    "count = 0\n",
    "best = 0\n",
    "scores = []\n",
    "for e in range(100):\n",
    "    if count > 5: # patience\n",
    "        break\n",
    "    model.fit_partial(train, epochs=10)\n",
    "    auc_train = auc_score(model, train).mean()\n",
    "    auc_test = auc_score(model, test).mean()\n",
    "    print(f'Epoch: {e}, Train AUC={auc_train:.3f}, Test AUC={auc_test:.3f}')\n",
    "    scores.append((auc_train, auc_test))\n",
    "    if auc_test > best:\n",
    "        best_model = deepcopy(model)\n",
    "        best = auc_test\n",
    "    else:\n",
    "        count += 1\n",
    "\n",
    "model = deepcopy(best_model)"
   ],
   "metadata": {
    "collapsed": false,
    "ExecuteTime": {
     "end_time": "2023-10-08T21:15:46.219544Z",
     "start_time": "2023-10-08T21:15:45.641776Z"
    }
   }
  },
  {
   "cell_type": "code",
   "execution_count": 36,
   "outputs": [
    {
     "name": "stdout",
     "output_type": "stream",
     "text": [
      "Wall time: 628 ms\n",
      "Collaborative filtering train AUC: 0.65023124\n",
      "Collaborative filtering test AUC: 0.6609288\n",
      "Train precision: 0.0775\n",
      "Test precision: 0.0737\n"
     ]
    }
   ],
   "source": [
    "# Set the number of threads; you can increase this if you have more physical cores available.\n",
    "\n",
    "## These parameters are obtained after tunning for specific loss through skopt in the bottom chunk\n",
    "NUM_THREADS = 25\n",
    "NUM_COMPONENTS = 43\n",
    "NUM_EPOCHS = 18\n",
    "ITEM_ALPHA = 2.88752e-6\n",
    "learning_rate=0.06652\n",
    "k = 5 # for precision at k\n",
    "\n",
    "## Pure Collaborative Filtering models\n",
    "\n",
    "# Logistic loss\n",
    "model_1 = LightFM(loss='logistic',random_state=seed,\n",
    "                  item_alpha=ITEM_ALPHA,\n",
    "                  no_components=NUM_COMPONENTS,\n",
    "                  learning_rate=learning_rate)\n",
    "\n",
    "# time it.\n",
    "%time model_1 = model_1.fit(train,epochs=NUM_EPOCHS,num_threads=NUM_THREADS)\n",
    "\n",
    "\n",
    "# Import the evaluation routines\n",
    "from lightfm.evaluation import auc_score\n",
    "\n",
    "# Compute and print the AUC score\n",
    "train_auc = auc_score(model_1, train, num_threads=NUM_THREADS).mean()\n",
    "print('Collaborative filtering train AUC: %s' % train_auc)\n",
    "\n",
    "test_auc = auc_score(model_1, test,num_threads=NUM_THREADS).mean()\n",
    "print('Collaborative filtering test AUC: %s' % test_auc)\n",
    "\n",
    "from lightfm.evaluation import precision_at_k,recall_at_k\n",
    "\n",
    "print(\"Train precision: %.4f\" % precision_at_k(model_1, train, k=k,num_threads=NUM_THREADS).mean())\n",
    "print(\"Test precision: %.4f\" % precision_at_k(model_1, test,train_interactions=train, k=k,num_threads=NUM_THREADS).mean())"
   ],
   "metadata": {
    "collapsed": false,
    "ExecuteTime": {
     "end_time": "2023-10-08T21:15:46.803498200Z",
     "start_time": "2023-10-08T21:15:46.093592700Z"
    }
   }
  },
  {
   "cell_type": "code",
   "execution_count": 37,
   "outputs": [
    {
     "name": "stdout",
     "output_type": "stream",
     "text": [
      "Wall time: 2.56 s\n",
      "Collaborative filtering train AUC: 0.9757559\n",
      "Collaborative filtering test AUC: 0.43597123\n",
      "Train precision: 0.2185\n",
      "Test precision: 0.0385\n"
     ]
    }
   ],
   "source": [
    "NUM_THREADS = 25\n",
    "NUM_COMPONENTS = 45\n",
    "NUM_EPOCHS = 43\n",
    "ITEM_ALPHA = 1.3846e-6\n",
    "learning_rate=0.0161445\n",
    "\n",
    "# BPR loss\n",
    "model = LightFM(loss='bpr',random_state=seed,\n",
    "                item_alpha=ITEM_ALPHA,\n",
    "                no_components=NUM_COMPONENTS,\n",
    "                learning_rate=learning_rate)\n",
    "\n",
    "# time it.\n",
    "%time model = model.fit(train,epochs=NUM_EPOCHS,num_threads=NUM_THREADS)\n",
    "\n",
    "\n",
    "# Compute and print the AUC score\n",
    "train_auc = auc_score(model, train, num_threads=NUM_THREADS).mean()\n",
    "print('Collaborative filtering train AUC: %s' % train_auc)\n",
    "\n",
    "test_auc = auc_score(model, test,num_threads=NUM_THREADS).mean()\n",
    "print('Collaborative filtering test AUC: %s' % test_auc)\n",
    "\n",
    "print(\"Train precision: %.4f\" % precision_at_k(model, train, k=k,num_threads=NUM_THREADS).mean())\n",
    "print(\"Test precision: %.4f\" % precision_at_k(model, test,train_interactions=train, k=k,num_threads=NUM_THREADS).mean())"
   ],
   "metadata": {
    "collapsed": false,
    "ExecuteTime": {
     "end_time": "2023-10-08T21:15:49.404134600Z",
     "start_time": "2023-10-08T21:15:46.787760800Z"
    }
   }
  },
  {
   "cell_type": "code",
   "execution_count": 38,
   "outputs": [
    {
     "name": "stdout",
     "output_type": "stream",
     "text": [
      "Wall time: 236 ms\n",
      "Collaborative filtering train AUC: 0.99972314\n",
      "Collaborative filtering test AUC: 0.62366384\n",
      "Train precision: 0.2366\n",
      "Test precision: 0.0652\n"
     ]
    }
   ],
   "source": [
    "NUM_THREADS = 25\n",
    "NUM_COMPONENTS = 21\n",
    "NUM_EPOCHS = 16\n",
    "ITEM_ALPHA = 5.97967e-6\n",
    "learning_rate=0.033\n",
    "\n",
    "# Let's fit a WARP model\n",
    "model = LightFM(loss='warp',random_state=seed,\n",
    "                item_alpha=ITEM_ALPHA,\n",
    "                no_components=NUM_COMPONENTS,\n",
    "                learning_rate=learning_rate)\n",
    "\n",
    "#  time it.\n",
    "%time model = model.fit(train,epochs=NUM_EPOCHS,num_threads=NUM_THREADS)\n",
    "\n",
    "\n",
    "\n",
    "# Compute and print the AUC score\n",
    "train_auc = auc_score(model, train, num_threads=NUM_THREADS).mean()\n",
    "print('Collaborative filtering train AUC: %s' % train_auc)\n",
    "\n",
    "test_auc = auc_score(model, test,num_threads=NUM_THREADS).mean()\n",
    "print('Collaborative filtering test AUC: %s' % test_auc)\n",
    "\n",
    "\n",
    "print(\"Train precision: %.4f\" % precision_at_k(model, train, k=k,num_threads=NUM_THREADS).mean())\n",
    "print(\"Test precision: %.4f\" % precision_at_k(model, test,train_interactions=train, k=k,num_threads=NUM_THREADS).mean())"
   ],
   "metadata": {
    "collapsed": false,
    "ExecuteTime": {
     "end_time": "2023-10-08T21:15:49.686812500Z",
     "start_time": "2023-10-08T21:15:49.404134600Z"
    }
   }
  },
  {
   "cell_type": "code",
   "execution_count": 38,
   "outputs": [],
   "source": [],
   "metadata": {
    "collapsed": false,
    "ExecuteTime": {
     "end_time": "2023-10-08T21:15:49.749733300Z",
     "start_time": "2023-10-08T21:15:49.686812500Z"
    }
   }
  },
  {
   "cell_type": "code",
   "execution_count": 39,
   "metadata": {
    "scrolled": true,
    "ExecuteTime": {
     "end_time": "2023-10-08T21:15:49.749733300Z",
     "start_time": "2023-10-08T21:15:49.702440Z"
    }
   },
   "outputs": [
    {
     "data": {
      "text/plain": "                     user_id             business_id  stars  \\\n3897  QHV7uihQRPTp2CycrUMDEw  eGi7CE2YaN6YMiGyXNi8XQ      5   \n3898  NnYg5enyiFnwvnIeJqptzw  eGi7CE2YaN6YMiGyXNi8XQ      5   \n3899  FmKnD1wxnjoK0UMpgujzOg  eGi7CE2YaN6YMiGyXNi8XQ      5   \n3900  -BT7yKvo-CY0apW8xzNntg  eGi7CE2YaN6YMiGyXNi8XQ      5   \n3901  iDqGoOiOGlNHZgU6TWqBtA  eGi7CE2YaN6YMiGyXNi8XQ      5   \n...                      ...                     ...    ...   \n4004  AsKvg4uvDRRQ2nfrqOinsA  eGi7CE2YaN6YMiGyXNi8XQ      5   \n4005  uqYMlKdwgh6nRo7rY1Mi5A  eGi7CE2YaN6YMiGyXNi8XQ      2   \n4006  uK2L7X8zmHP1JfDQAzuKNg  eGi7CE2YaN6YMiGyXNi8XQ      3   \n4007  saZJk7eOLxTWCHwubJDXpw  eGi7CE2YaN6YMiGyXNi8XQ      5   \n4008  VTUxik1f0cSRGBsUa2rb-Q  eGi7CE2YaN6YMiGyXNi8XQ      5   \n\n                             name  \n3897  Spice Garden Indian Cuisine  \n3898  Spice Garden Indian Cuisine  \n3899  Spice Garden Indian Cuisine  \n3900  Spice Garden Indian Cuisine  \n3901  Spice Garden Indian Cuisine  \n...                           ...  \n4004  Spice Garden Indian Cuisine  \n4005  Spice Garden Indian Cuisine  \n4006  Spice Garden Indian Cuisine  \n4007  Spice Garden Indian Cuisine  \n4008  Spice Garden Indian Cuisine  \n\n[112 rows x 4 columns]",
      "text/html": "<div>\n<style scoped>\n    .dataframe tbody tr th:only-of-type {\n        vertical-align: middle;\n    }\n\n    .dataframe tbody tr th {\n        vertical-align: top;\n    }\n\n    .dataframe thead th {\n        text-align: right;\n    }\n</style>\n<table border=\"1\" class=\"dataframe\">\n  <thead>\n    <tr style=\"text-align: right;\">\n      <th></th>\n      <th>user_id</th>\n      <th>business_id</th>\n      <th>stars</th>\n      <th>name</th>\n    </tr>\n  </thead>\n  <tbody>\n    <tr>\n      <th>3897</th>\n      <td>QHV7uihQRPTp2CycrUMDEw</td>\n      <td>eGi7CE2YaN6YMiGyXNi8XQ</td>\n      <td>5</td>\n      <td>Spice Garden Indian Cuisine</td>\n    </tr>\n    <tr>\n      <th>3898</th>\n      <td>NnYg5enyiFnwvnIeJqptzw</td>\n      <td>eGi7CE2YaN6YMiGyXNi8XQ</td>\n      <td>5</td>\n      <td>Spice Garden Indian Cuisine</td>\n    </tr>\n    <tr>\n      <th>3899</th>\n      <td>FmKnD1wxnjoK0UMpgujzOg</td>\n      <td>eGi7CE2YaN6YMiGyXNi8XQ</td>\n      <td>5</td>\n      <td>Spice Garden Indian Cuisine</td>\n    </tr>\n    <tr>\n      <th>3900</th>\n      <td>-BT7yKvo-CY0apW8xzNntg</td>\n      <td>eGi7CE2YaN6YMiGyXNi8XQ</td>\n      <td>5</td>\n      <td>Spice Garden Indian Cuisine</td>\n    </tr>\n    <tr>\n      <th>3901</th>\n      <td>iDqGoOiOGlNHZgU6TWqBtA</td>\n      <td>eGi7CE2YaN6YMiGyXNi8XQ</td>\n      <td>5</td>\n      <td>Spice Garden Indian Cuisine</td>\n    </tr>\n    <tr>\n      <th>...</th>\n      <td>...</td>\n      <td>...</td>\n      <td>...</td>\n      <td>...</td>\n    </tr>\n    <tr>\n      <th>4004</th>\n      <td>AsKvg4uvDRRQ2nfrqOinsA</td>\n      <td>eGi7CE2YaN6YMiGyXNi8XQ</td>\n      <td>5</td>\n      <td>Spice Garden Indian Cuisine</td>\n    </tr>\n    <tr>\n      <th>4005</th>\n      <td>uqYMlKdwgh6nRo7rY1Mi5A</td>\n      <td>eGi7CE2YaN6YMiGyXNi8XQ</td>\n      <td>2</td>\n      <td>Spice Garden Indian Cuisine</td>\n    </tr>\n    <tr>\n      <th>4006</th>\n      <td>uK2L7X8zmHP1JfDQAzuKNg</td>\n      <td>eGi7CE2YaN6YMiGyXNi8XQ</td>\n      <td>3</td>\n      <td>Spice Garden Indian Cuisine</td>\n    </tr>\n    <tr>\n      <th>4007</th>\n      <td>saZJk7eOLxTWCHwubJDXpw</td>\n      <td>eGi7CE2YaN6YMiGyXNi8XQ</td>\n      <td>5</td>\n      <td>Spice Garden Indian Cuisine</td>\n    </tr>\n    <tr>\n      <th>4008</th>\n      <td>VTUxik1f0cSRGBsUa2rb-Q</td>\n      <td>eGi7CE2YaN6YMiGyXNi8XQ</td>\n      <td>5</td>\n      <td>Spice Garden Indian Cuisine</td>\n    </tr>\n  </tbody>\n</table>\n<p>112 rows × 4 columns</p>\n</div>"
     },
     "execution_count": 39,
     "metadata": {},
     "output_type": "execute_result"
    }
   ],
   "source": [
    "df_join_2[df_join_2['name'].str.contains('India')]"
   ]
  },
  {
   "cell_type": "code",
   "execution_count": 42,
   "metadata": {
    "ExecuteTime": {
     "end_time": "2023-10-08T21:16:33.065046700Z",
     "start_time": "2023-10-08T21:16:32.688357200Z"
    }
   },
   "outputs": [
    {
     "data": {
      "text/plain": "                     user_id             business_id  stars  \\\n3897  QHV7uihQRPTp2CycrUMDEw  eGi7CE2YaN6YMiGyXNi8XQ      5   \n\n                             name  \n3897  Spice Garden Indian Cuisine  ",
      "text/html": "<div>\n<style scoped>\n    .dataframe tbody tr th:only-of-type {\n        vertical-align: middle;\n    }\n\n    .dataframe tbody tr th {\n        vertical-align: top;\n    }\n\n    .dataframe thead th {\n        text-align: right;\n    }\n</style>\n<table border=\"1\" class=\"dataframe\">\n  <thead>\n    <tr style=\"text-align: right;\">\n      <th></th>\n      <th>user_id</th>\n      <th>business_id</th>\n      <th>stars</th>\n      <th>name</th>\n    </tr>\n  </thead>\n  <tbody>\n    <tr>\n      <th>3897</th>\n      <td>QHV7uihQRPTp2CycrUMDEw</td>\n      <td>eGi7CE2YaN6YMiGyXNi8XQ</td>\n      <td>5</td>\n      <td>Spice Garden Indian Cuisine</td>\n    </tr>\n  </tbody>\n</table>\n</div>"
     },
     "execution_count": 42,
     "metadata": {},
     "output_type": "execute_result"
    }
   ],
   "source": [
    "df_join_2[df_join_2['user_id'] == 'QHV7uihQRPTp2CycrUMDEw']"
   ]
  },
  {
   "cell_type": "code",
   "execution_count": 43,
   "metadata": {
    "ExecuteTime": {
     "end_time": "2023-10-08T21:16:33.065046700Z",
     "start_time": "2023-10-08T21:16:32.720043300Z"
    }
   },
   "outputs": [
    {
     "data": {
      "text/plain": "        pred             business_id\n19  1.824517  eGi7CE2YaN6YMiGyXNi8XQ\n16  0.628615  aDL_KdxbDRT5s51Jtn9V5g\n33  0.532321  yRs15dgEYvxGatbDyeVXiA\n0   0.306343  5CX7rtnwYnmqFCihOyWivg\n5   0.239239  AbeWP7_Vxhp45I9IPZ7Otg\n9   0.178162  KZA_HEOsBXf8dtrk9rqNJA\n13  0.122106  SVJJIoAiW3vHwoSpVnUcLQ\n21  0.074926  g9DDXMuDwaW-GtD2f6xl6A\n12  0.027211  RIQ5ALCz1-oi98ViCO7kgQ\n6   0.021005  CJoO4HYD0tZRXlZqA04wmw",
      "text/html": "<div>\n<style scoped>\n    .dataframe tbody tr th:only-of-type {\n        vertical-align: middle;\n    }\n\n    .dataframe tbody tr th {\n        vertical-align: top;\n    }\n\n    .dataframe thead th {\n        text-align: right;\n    }\n</style>\n<table border=\"1\" class=\"dataframe\">\n  <thead>\n    <tr style=\"text-align: right;\">\n      <th></th>\n      <th>pred</th>\n      <th>business_id</th>\n    </tr>\n  </thead>\n  <tbody>\n    <tr>\n      <th>19</th>\n      <td>1.824517</td>\n      <td>eGi7CE2YaN6YMiGyXNi8XQ</td>\n    </tr>\n    <tr>\n      <th>16</th>\n      <td>0.628615</td>\n      <td>aDL_KdxbDRT5s51Jtn9V5g</td>\n    </tr>\n    <tr>\n      <th>33</th>\n      <td>0.532321</td>\n      <td>yRs15dgEYvxGatbDyeVXiA</td>\n    </tr>\n    <tr>\n      <th>0</th>\n      <td>0.306343</td>\n      <td>5CX7rtnwYnmqFCihOyWivg</td>\n    </tr>\n    <tr>\n      <th>5</th>\n      <td>0.239239</td>\n      <td>AbeWP7_Vxhp45I9IPZ7Otg</td>\n    </tr>\n    <tr>\n      <th>9</th>\n      <td>0.178162</td>\n      <td>KZA_HEOsBXf8dtrk9rqNJA</td>\n    </tr>\n    <tr>\n      <th>13</th>\n      <td>0.122106</td>\n      <td>SVJJIoAiW3vHwoSpVnUcLQ</td>\n    </tr>\n    <tr>\n      <th>21</th>\n      <td>0.074926</td>\n      <td>g9DDXMuDwaW-GtD2f6xl6A</td>\n    </tr>\n    <tr>\n      <th>12</th>\n      <td>0.027211</td>\n      <td>RIQ5ALCz1-oi98ViCO7kgQ</td>\n    </tr>\n    <tr>\n      <th>6</th>\n      <td>0.021005</td>\n      <td>CJoO4HYD0tZRXlZqA04wmw</td>\n    </tr>\n  </tbody>\n</table>\n</div>"
     },
     "execution_count": 43,
     "metadata": {},
     "output_type": "execute_result"
    }
   ],
   "source": [
    "one_user = 'QHV7uihQRPTp2CycrUMDEw'\n",
    "user_num = int(im.user_encoder.transform([one_user])[0])\n",
    "preds = model.predict(user_num, list(range(im.n_items)))\n",
    "preds = pd.DataFrame(zip(preds, im.item_encoder.classes_), columns=['pred', 'business_id'])\n",
    "preds = preds.sort_values('pred', ascending=False)\n",
    "preds.head(10)"
   ]
  },
  {
   "cell_type": "code",
   "execution_count": 44,
   "metadata": {
    "ExecuteTime": {
     "end_time": "2023-10-08T21:16:33.065046700Z",
     "start_time": "2023-10-08T21:16:32.735707Z"
    }
   },
   "outputs": [
    {
     "data": {
      "text/plain": "        pred             business_id\n19  1.824517  eGi7CE2YaN6YMiGyXNi8XQ\n16  0.628615  aDL_KdxbDRT5s51Jtn9V5g\n33  0.532321  yRs15dgEYvxGatbDyeVXiA\n0   0.306343  5CX7rtnwYnmqFCihOyWivg\n5   0.239239  AbeWP7_Vxhp45I9IPZ7Otg",
      "text/html": "<div>\n<style scoped>\n    .dataframe tbody tr th:only-of-type {\n        vertical-align: middle;\n    }\n\n    .dataframe tbody tr th {\n        vertical-align: top;\n    }\n\n    .dataframe thead th {\n        text-align: right;\n    }\n</style>\n<table border=\"1\" class=\"dataframe\">\n  <thead>\n    <tr style=\"text-align: right;\">\n      <th></th>\n      <th>pred</th>\n      <th>business_id</th>\n    </tr>\n  </thead>\n  <tbody>\n    <tr>\n      <th>19</th>\n      <td>1.824517</td>\n      <td>eGi7CE2YaN6YMiGyXNi8XQ</td>\n    </tr>\n    <tr>\n      <th>16</th>\n      <td>0.628615</td>\n      <td>aDL_KdxbDRT5s51Jtn9V5g</td>\n    </tr>\n    <tr>\n      <th>33</th>\n      <td>0.532321</td>\n      <td>yRs15dgEYvxGatbDyeVXiA</td>\n    </tr>\n    <tr>\n      <th>0</th>\n      <td>0.306343</td>\n      <td>5CX7rtnwYnmqFCihOyWivg</td>\n    </tr>\n    <tr>\n      <th>5</th>\n      <td>0.239239</td>\n      <td>AbeWP7_Vxhp45I9IPZ7Otg</td>\n    </tr>\n  </tbody>\n</table>\n</div>"
     },
     "execution_count": 44,
     "metadata": {},
     "output_type": "execute_result"
    }
   ],
   "source": [
    "one_user = 'QHV7uihQRPTp2CycrUMDEw'\n",
    "user_num = int(im.user_encoder.transform([one_user])[0])\n",
    "preds = model.predict(user_num, list(range(im.n_items)))\n",
    "preds = pd.DataFrame(zip(preds, im.item_encoder.classes_), columns=['pred', 'business_id'])\n",
    "preds = preds.sort_values('pred', ascending=False)\n",
    "preds.head()"
   ]
  },
  {
   "cell_type": "code",
   "execution_count": 45,
   "metadata": {
    "ExecuteTime": {
     "end_time": "2023-10-08T21:16:33.065046700Z",
     "start_time": "2023-10-08T21:16:32.751298700Z"
    }
   },
   "outputs": [
    {
     "data": {
      "text/plain": "              business_id                      name  \\\n0  XyGRDrgCK0z4CiA6nhwEaw  Persian Room Fine Dining   \n1  5Ce3lZksYVkCbrihqylVHQ                Sushi Nara   \n2  xwKYBPO0ByGlkvNcr8FdqQ            Le Rendez-vous   \n3  SVJJIoAiW3vHwoSpVnUcLQ    Pastiche Modern Eatery   \n4  p7tSGmWpFV246aYhwODgBg        O Sushi Restaurant   \n\n                         address    city state  postal_code   latitude  \\\n0  9290 N Thornydale Rd, Ste 100  Tucson    AZ        85742  32.375016   \n1               64 N Harrison Rd  Tucson    AZ        85748  32.222552   \n2          3844 E Fort Lowell Rd  Tucson    AZ        85716  32.264930   \n3            3025 N Campbell Ave  Tucson    AZ        85719  32.261920   \n4           4689 E Speedway Blvd  Tucson    AZ        85712  32.236944   \n\n    longitude  stars  review_count  is_open  \\\n0 -111.046320    4.5           258        1   \n1 -110.788132    4.5           159        1   \n2 -110.910544    4.0           223        1   \n3 -110.944474    3.5           313        1   \n4 -110.892965    4.5           199        1   \n\n                                          attributes  \\\n0  {'Alcohol': \"'full_bar'\", 'GoodForMeal': \"{'de...   \n1  {'RestaurantsPriceRange2': '2', 'HasTV': 'True...   \n2  {'BusinessParking': \"{'garage': False, 'street...   \n3  {'WiFi': \"'free'\", 'HasTV': 'True', 'Restauran...   \n4  {'RestaurantsGoodForGroups': 'True', 'Restaura...   \n\n                                          categories  \\\n0        Restaurants, Persian/Iranian, Mediterranean   \n1                  Sushi Bars, Japanese, Restaurants   \n2            Restaurants, French, Tapas/Small Plates   \n3  American (New), American (Traditional), Restau...   \n4                  Sushi Bars, Restaurants, Japanese   \n\n                                               hours  \n0  {'Monday': '11:0-21:30', 'Tuesday': '11:0-21:3...  \n1  {'Monday': '16:30-20:0', 'Tuesday': '16:30-20:...  \n2  {'Wednesday': '16:0-21:0', 'Thursday': '16:0-2...  \n3  {'Monday': '7:0-21:0', 'Tuesday': '7:0-21:0', ...  \n4  {'Monday': '16:30-20:30', 'Tuesday': '16:30-20...  ",
      "text/html": "<div>\n<style scoped>\n    .dataframe tbody tr th:only-of-type {\n        vertical-align: middle;\n    }\n\n    .dataframe tbody tr th {\n        vertical-align: top;\n    }\n\n    .dataframe thead th {\n        text-align: right;\n    }\n</style>\n<table border=\"1\" class=\"dataframe\">\n  <thead>\n    <tr style=\"text-align: right;\">\n      <th></th>\n      <th>business_id</th>\n      <th>name</th>\n      <th>address</th>\n      <th>city</th>\n      <th>state</th>\n      <th>postal_code</th>\n      <th>latitude</th>\n      <th>longitude</th>\n      <th>stars</th>\n      <th>review_count</th>\n      <th>is_open</th>\n      <th>attributes</th>\n      <th>categories</th>\n      <th>hours</th>\n    </tr>\n  </thead>\n  <tbody>\n    <tr>\n      <th>0</th>\n      <td>XyGRDrgCK0z4CiA6nhwEaw</td>\n      <td>Persian Room Fine Dining</td>\n      <td>9290 N Thornydale Rd, Ste 100</td>\n      <td>Tucson</td>\n      <td>AZ</td>\n      <td>85742</td>\n      <td>32.375016</td>\n      <td>-111.046320</td>\n      <td>4.5</td>\n      <td>258</td>\n      <td>1</td>\n      <td>{'Alcohol': \"'full_bar'\", 'GoodForMeal': \"{'de...</td>\n      <td>Restaurants, Persian/Iranian, Mediterranean</td>\n      <td>{'Monday': '11:0-21:30', 'Tuesday': '11:0-21:3...</td>\n    </tr>\n    <tr>\n      <th>1</th>\n      <td>5Ce3lZksYVkCbrihqylVHQ</td>\n      <td>Sushi Nara</td>\n      <td>64 N Harrison Rd</td>\n      <td>Tucson</td>\n      <td>AZ</td>\n      <td>85748</td>\n      <td>32.222552</td>\n      <td>-110.788132</td>\n      <td>4.5</td>\n      <td>159</td>\n      <td>1</td>\n      <td>{'RestaurantsPriceRange2': '2', 'HasTV': 'True...</td>\n      <td>Sushi Bars, Japanese, Restaurants</td>\n      <td>{'Monday': '16:30-20:0', 'Tuesday': '16:30-20:...</td>\n    </tr>\n    <tr>\n      <th>2</th>\n      <td>xwKYBPO0ByGlkvNcr8FdqQ</td>\n      <td>Le Rendez-vous</td>\n      <td>3844 E Fort Lowell Rd</td>\n      <td>Tucson</td>\n      <td>AZ</td>\n      <td>85716</td>\n      <td>32.264930</td>\n      <td>-110.910544</td>\n      <td>4.0</td>\n      <td>223</td>\n      <td>1</td>\n      <td>{'BusinessParking': \"{'garage': False, 'street...</td>\n      <td>Restaurants, French, Tapas/Small Plates</td>\n      <td>{'Wednesday': '16:0-21:0', 'Thursday': '16:0-2...</td>\n    </tr>\n    <tr>\n      <th>3</th>\n      <td>SVJJIoAiW3vHwoSpVnUcLQ</td>\n      <td>Pastiche Modern Eatery</td>\n      <td>3025 N Campbell Ave</td>\n      <td>Tucson</td>\n      <td>AZ</td>\n      <td>85719</td>\n      <td>32.261920</td>\n      <td>-110.944474</td>\n      <td>3.5</td>\n      <td>313</td>\n      <td>1</td>\n      <td>{'WiFi': \"'free'\", 'HasTV': 'True', 'Restauran...</td>\n      <td>American (New), American (Traditional), Restau...</td>\n      <td>{'Monday': '7:0-21:0', 'Tuesday': '7:0-21:0', ...</td>\n    </tr>\n    <tr>\n      <th>4</th>\n      <td>p7tSGmWpFV246aYhwODgBg</td>\n      <td>O Sushi Restaurant</td>\n      <td>4689 E Speedway Blvd</td>\n      <td>Tucson</td>\n      <td>AZ</td>\n      <td>85712</td>\n      <td>32.236944</td>\n      <td>-110.892965</td>\n      <td>4.5</td>\n      <td>199</td>\n      <td>1</td>\n      <td>{'RestaurantsGoodForGroups': 'True', 'Restaura...</td>\n      <td>Sushi Bars, Restaurants, Japanese</td>\n      <td>{'Monday': '16:30-20:30', 'Tuesday': '16:30-20...</td>\n    </tr>\n  </tbody>\n</table>\n</div>"
     },
     "execution_count": 45,
     "metadata": {},
     "output_type": "execute_result"
    }
   ],
   "source": [
    "df_b.head()"
   ]
  },
  {
   "cell_type": "code",
   "execution_count": 46,
   "metadata": {
    "ExecuteTime": {
     "end_time": "2023-10-08T21:16:33.065046700Z",
     "start_time": "2023-10-08T21:16:32.766923900Z"
    }
   },
   "outputs": [],
   "source": [
    "category = []\n",
    "for i, x in df_b.iterrows():\n",
    "    lis = x['categories'].split(', ')\n",
    "    for j in lis:\n",
    "        if any(substring in j for substring in ['Restaurants','Food']):\n",
    "            pass\n",
    "        else:\n",
    "            value = j\n",
    "            break\n",
    "    if value:\n",
    "        value.strip()\n",
    "        category.append(value)\n",
    "    else:\n",
    "        category = 'None'"
   ]
  },
  {
   "cell_type": "code",
   "execution_count": 47,
   "metadata": {
    "ExecuteTime": {
     "end_time": "2023-10-08T21:16:33.065046700Z",
     "start_time": "2023-10-08T21:16:32.782549600Z"
    }
   },
   "outputs": [
    {
     "data": {
      "text/plain": "['Persian/Iranian',\n 'Sushi Bars',\n 'French',\n 'American (New)',\n 'Sushi Bars',\n 'Mexican',\n 'Tacos',\n 'American (Traditional)',\n 'Mediterranean',\n 'Coffee & Tea',\n 'Korean',\n 'Bakeries',\n 'Japanese',\n 'Mediterranean',\n 'Tacos',\n 'Pizza',\n 'Mexican',\n 'Indian',\n 'Tacos',\n 'Mexican',\n 'Seafood',\n 'Korean',\n 'Latin American',\n 'American (New)',\n 'Pizza',\n 'Mexican',\n 'Salad',\n 'Thai',\n 'Seafood',\n 'Pizza',\n 'Mexican',\n 'Thai',\n 'Italian',\n 'Mexican']"
     },
     "execution_count": 47,
     "metadata": {},
     "output_type": "execute_result"
    }
   ],
   "source": [
    "category"
   ]
  },
  {
   "cell_type": "code",
   "execution_count": 48,
   "metadata": {
    "ExecuteTime": {
     "end_time": "2023-10-08T21:16:33.065046700Z",
     "start_time": "2023-10-08T21:16:32.798174400Z"
    }
   },
   "outputs": [
    {
     "data": {
      "text/plain": "               business_id                               name  \\\n1   5Ce3lZksYVkCbrihqylVHQ                         Sushi Nara   \n19  a_oRfgkNFnulTada--P_Tg             Sonoran Brunch Company   \n12  LXR1f2ayOSq7w-Ux7UPUtg        Ichiban Japanese Restaurant   \n30  g9DDXMuDwaW-GtD2f6xl6A                     Breakfast Stop   \n14  RHdEScVIAQ7xzFFMiQEnAQ                    The Quesadillas   \n8   5CX7rtnwYnmqFCihOyWivg  Opa's Best Greek American Cuisine   \n24  FjRH6l8aQOmfXuo00lheLA                Broadway Pizza Cafe   \n33  yRs15dgEYvxGatbDyeVXiA                         Costa Vida   \n23  KZA_HEOsBXf8dtrk9rqNJA             Prep & Pastry on Grant   \n20  AL89lQXFfE0HpbTvpxuSkA           Bob's Steak & Chop House   \n\n                      address    city state  postal_code   latitude  \\\n1            64 N Harrison Rd  Tucson    AZ        85748  32.222552   \n19             1060 S Kolb Rd  Tucson    AZ        85710  32.208003   \n12  64 N Harrison Rd, Ste 120  Tucson    AZ        85748  32.222546   \n30             6135 E 22nd St  Tucson    AZ        85711  32.207339   \n14        2418 N Craycroft Rd  Tucson    AZ        85712  32.251318   \n8        4590 E Broadway Blvd  Tucson    AZ        85711  32.221171   \n24       4558 E Broadway Blvd  Tucson    AZ        85711  32.220870   \n33       6307 E Broadway Blvd  Tucson    AZ        85710  32.222768   \n23   6450 E Grant Rd, Ste 160  Tucson    AZ        85715  32.250141   \n20             2727 W Club Dr  Tucson    AZ        85742  32.357854   \n\n     longitude  stars  review_count  is_open  \\\n1  -110.788132    4.5           159        1   \n19 -110.841514    4.5           163        1   \n12 -110.788133    3.5           103        0   \n30 -110.861564    4.0           103        1   \n14 -110.875013    4.5           499        1   \n8  -110.894790    4.5           230        1   \n24 -110.895320    4.5           134        0   \n33 -110.857586    4.0           106        1   \n23 -110.854983    4.5           649        1   \n20 -111.025531    4.0           112        1   \n\n                                           attributes  \\\n1   {'RestaurantsPriceRange2': '2', 'HasTV': 'True...   \n19  {'HasTV': 'True', 'BusinessAcceptsCreditCards'...   \n12  {'RestaurantsPriceRange2': '2', 'BusinessAccep...   \n30  {'BusinessAcceptsCreditCards': 'True', 'BikePa...   \n14  {'RestaurantsTableService': 'False', 'Restaura...   \n8   {'RestaurantsTakeOut': 'True', 'WheelchairAcce...   \n24  {'RestaurantsPriceRange2': '1', 'RestaurantsTa...   \n33  {'Alcohol': \"'none'\", 'RestaurantsTakeOut': 'T...   \n23  {'BusinessAcceptsBitcoin': 'False', 'BikeParki...   \n20  {'RestaurantsDelivery': 'False', 'WiFi': \"u'fr...   \n\n                                         categories  \\\n1                 Sushi Bars, Japanese, Restaurants   \n19         Restaurants, Mexican, Breakfast & Brunch   \n12                Japanese, Sushi Bars, Restaurants   \n30         Mexican, Breakfast & Brunch, Restaurants   \n14                      Tacos, Restaurants, Mexican   \n8                 Mediterranean, Restaurants, Greek   \n24                         Restaurants, Pizza, Food   \n33                      Mexican, Salad, Restaurants   \n23  American (New), Restaurants, Breakfast & Brunch   \n20                Restaurants, Seafood, Steakhouses   \n\n                                                hours        category  \n1   {'Monday': '16:30-20:0', 'Tuesday': '16:30-20:...      Sushi Bars  \n19  {'Thursday': '9:0-14:0', 'Friday': '9:0-14:0',...         Mexican  \n12  {'Monday': '11:30-21:30', 'Tuesday': '11:30-21...        Japanese  \n30  {'Monday': '0:0-0:0', 'Tuesday': '16:0-22:0', ...         Mexican  \n14  {'Monday': '0:0-0:0', 'Tuesday': '10:0-20:0', ...           Tacos  \n8   {'Monday': '0:0-0:0', 'Tuesday': '11:0-21:0', ...   Mediterranean  \n24  {'Monday': '0:0-0:0', 'Tuesday': '11:0-20:0', ...           Pizza  \n33  {'Monday': '0:0-0:0', 'Tuesday': '10:30-21:0',...         Mexican  \n23  {'Monday': '0:0-0:0', 'Tuesday': '7:0-15:0', '...  American (New)  \n20  {'Tuesday': '17:0-21:0', 'Wednesday': '17:0-21...         Seafood  ",
      "text/html": "<div>\n<style scoped>\n    .dataframe tbody tr th:only-of-type {\n        vertical-align: middle;\n    }\n\n    .dataframe tbody tr th {\n        vertical-align: top;\n    }\n\n    .dataframe thead th {\n        text-align: right;\n    }\n</style>\n<table border=\"1\" class=\"dataframe\">\n  <thead>\n    <tr style=\"text-align: right;\">\n      <th></th>\n      <th>business_id</th>\n      <th>name</th>\n      <th>address</th>\n      <th>city</th>\n      <th>state</th>\n      <th>postal_code</th>\n      <th>latitude</th>\n      <th>longitude</th>\n      <th>stars</th>\n      <th>review_count</th>\n      <th>is_open</th>\n      <th>attributes</th>\n      <th>categories</th>\n      <th>hours</th>\n      <th>category</th>\n    </tr>\n  </thead>\n  <tbody>\n    <tr>\n      <th>1</th>\n      <td>5Ce3lZksYVkCbrihqylVHQ</td>\n      <td>Sushi Nara</td>\n      <td>64 N Harrison Rd</td>\n      <td>Tucson</td>\n      <td>AZ</td>\n      <td>85748</td>\n      <td>32.222552</td>\n      <td>-110.788132</td>\n      <td>4.5</td>\n      <td>159</td>\n      <td>1</td>\n      <td>{'RestaurantsPriceRange2': '2', 'HasTV': 'True...</td>\n      <td>Sushi Bars, Japanese, Restaurants</td>\n      <td>{'Monday': '16:30-20:0', 'Tuesday': '16:30-20:...</td>\n      <td>Sushi Bars</td>\n    </tr>\n    <tr>\n      <th>19</th>\n      <td>a_oRfgkNFnulTada--P_Tg</td>\n      <td>Sonoran Brunch Company</td>\n      <td>1060 S Kolb Rd</td>\n      <td>Tucson</td>\n      <td>AZ</td>\n      <td>85710</td>\n      <td>32.208003</td>\n      <td>-110.841514</td>\n      <td>4.5</td>\n      <td>163</td>\n      <td>1</td>\n      <td>{'HasTV': 'True', 'BusinessAcceptsCreditCards'...</td>\n      <td>Restaurants, Mexican, Breakfast &amp; Brunch</td>\n      <td>{'Thursday': '9:0-14:0', 'Friday': '9:0-14:0',...</td>\n      <td>Mexican</td>\n    </tr>\n    <tr>\n      <th>12</th>\n      <td>LXR1f2ayOSq7w-Ux7UPUtg</td>\n      <td>Ichiban Japanese Restaurant</td>\n      <td>64 N Harrison Rd, Ste 120</td>\n      <td>Tucson</td>\n      <td>AZ</td>\n      <td>85748</td>\n      <td>32.222546</td>\n      <td>-110.788133</td>\n      <td>3.5</td>\n      <td>103</td>\n      <td>0</td>\n      <td>{'RestaurantsPriceRange2': '2', 'BusinessAccep...</td>\n      <td>Japanese, Sushi Bars, Restaurants</td>\n      <td>{'Monday': '11:30-21:30', 'Tuesday': '11:30-21...</td>\n      <td>Japanese</td>\n    </tr>\n    <tr>\n      <th>30</th>\n      <td>g9DDXMuDwaW-GtD2f6xl6A</td>\n      <td>Breakfast Stop</td>\n      <td>6135 E 22nd St</td>\n      <td>Tucson</td>\n      <td>AZ</td>\n      <td>85711</td>\n      <td>32.207339</td>\n      <td>-110.861564</td>\n      <td>4.0</td>\n      <td>103</td>\n      <td>1</td>\n      <td>{'BusinessAcceptsCreditCards': 'True', 'BikePa...</td>\n      <td>Mexican, Breakfast &amp; Brunch, Restaurants</td>\n      <td>{'Monday': '0:0-0:0', 'Tuesday': '16:0-22:0', ...</td>\n      <td>Mexican</td>\n    </tr>\n    <tr>\n      <th>14</th>\n      <td>RHdEScVIAQ7xzFFMiQEnAQ</td>\n      <td>The Quesadillas</td>\n      <td>2418 N Craycroft Rd</td>\n      <td>Tucson</td>\n      <td>AZ</td>\n      <td>85712</td>\n      <td>32.251318</td>\n      <td>-110.875013</td>\n      <td>4.5</td>\n      <td>499</td>\n      <td>1</td>\n      <td>{'RestaurantsTableService': 'False', 'Restaura...</td>\n      <td>Tacos, Restaurants, Mexican</td>\n      <td>{'Monday': '0:0-0:0', 'Tuesday': '10:0-20:0', ...</td>\n      <td>Tacos</td>\n    </tr>\n    <tr>\n      <th>8</th>\n      <td>5CX7rtnwYnmqFCihOyWivg</td>\n      <td>Opa's Best Greek American Cuisine</td>\n      <td>4590 E Broadway Blvd</td>\n      <td>Tucson</td>\n      <td>AZ</td>\n      <td>85711</td>\n      <td>32.221171</td>\n      <td>-110.894790</td>\n      <td>4.5</td>\n      <td>230</td>\n      <td>1</td>\n      <td>{'RestaurantsTakeOut': 'True', 'WheelchairAcce...</td>\n      <td>Mediterranean, Restaurants, Greek</td>\n      <td>{'Monday': '0:0-0:0', 'Tuesday': '11:0-21:0', ...</td>\n      <td>Mediterranean</td>\n    </tr>\n    <tr>\n      <th>24</th>\n      <td>FjRH6l8aQOmfXuo00lheLA</td>\n      <td>Broadway Pizza Cafe</td>\n      <td>4558 E Broadway Blvd</td>\n      <td>Tucson</td>\n      <td>AZ</td>\n      <td>85711</td>\n      <td>32.220870</td>\n      <td>-110.895320</td>\n      <td>4.5</td>\n      <td>134</td>\n      <td>0</td>\n      <td>{'RestaurantsPriceRange2': '1', 'RestaurantsTa...</td>\n      <td>Restaurants, Pizza, Food</td>\n      <td>{'Monday': '0:0-0:0', 'Tuesday': '11:0-20:0', ...</td>\n      <td>Pizza</td>\n    </tr>\n    <tr>\n      <th>33</th>\n      <td>yRs15dgEYvxGatbDyeVXiA</td>\n      <td>Costa Vida</td>\n      <td>6307 E Broadway Blvd</td>\n      <td>Tucson</td>\n      <td>AZ</td>\n      <td>85710</td>\n      <td>32.222768</td>\n      <td>-110.857586</td>\n      <td>4.0</td>\n      <td>106</td>\n      <td>1</td>\n      <td>{'Alcohol': \"'none'\", 'RestaurantsTakeOut': 'T...</td>\n      <td>Mexican, Salad, Restaurants</td>\n      <td>{'Monday': '0:0-0:0', 'Tuesday': '10:30-21:0',...</td>\n      <td>Mexican</td>\n    </tr>\n    <tr>\n      <th>23</th>\n      <td>KZA_HEOsBXf8dtrk9rqNJA</td>\n      <td>Prep &amp; Pastry on Grant</td>\n      <td>6450 E Grant Rd, Ste 160</td>\n      <td>Tucson</td>\n      <td>AZ</td>\n      <td>85715</td>\n      <td>32.250141</td>\n      <td>-110.854983</td>\n      <td>4.5</td>\n      <td>649</td>\n      <td>1</td>\n      <td>{'BusinessAcceptsBitcoin': 'False', 'BikeParki...</td>\n      <td>American (New), Restaurants, Breakfast &amp; Brunch</td>\n      <td>{'Monday': '0:0-0:0', 'Tuesday': '7:0-15:0', '...</td>\n      <td>American (New)</td>\n    </tr>\n    <tr>\n      <th>20</th>\n      <td>AL89lQXFfE0HpbTvpxuSkA</td>\n      <td>Bob's Steak &amp; Chop House</td>\n      <td>2727 W Club Dr</td>\n      <td>Tucson</td>\n      <td>AZ</td>\n      <td>85742</td>\n      <td>32.357854</td>\n      <td>-111.025531</td>\n      <td>4.0</td>\n      <td>112</td>\n      <td>1</td>\n      <td>{'RestaurantsDelivery': 'False', 'WiFi': \"u'fr...</td>\n      <td>Restaurants, Seafood, Steakhouses</td>\n      <td>{'Tuesday': '17:0-21:0', 'Wednesday': '17:0-21...</td>\n      <td>Seafood</td>\n    </tr>\n  </tbody>\n</table>\n</div>"
     },
     "execution_count": 48,
     "metadata": {},
     "output_type": "execute_result"
    }
   ],
   "source": [
    "df_b['category'] = category\n",
    "df_b.sample(n=10)"
   ]
  },
  {
   "cell_type": "code",
   "execution_count": 49,
   "metadata": {
    "ExecuteTime": {
     "end_time": "2023-10-08T21:16:33.065046700Z",
     "start_time": "2023-10-08T21:16:32.814219600Z"
    }
   },
   "outputs": [
    {
     "data": {
      "text/plain": "array(['Persian/Iranian', 'Sushi Bars', 'French', 'American (New)',\n       'Mexican', 'Tacos', 'American (Traditional)', 'Mediterranean',\n       'Coffee & Tea', 'Korean', 'Bakeries', 'Japanese', 'Pizza',\n       'Indian', 'Seafood', 'Latin American', 'Salad', 'Thai', 'Italian'],\n      dtype=object)"
     },
     "execution_count": 49,
     "metadata": {},
     "output_type": "execute_result"
    }
   ],
   "source": [
    "df_b['category'].unique()"
   ]
  },
  {
   "cell_type": "code",
   "execution_count": 50,
   "metadata": {
    "ExecuteTime": {
     "end_time": "2023-10-08T21:16:33.065046700Z",
     "start_time": "2023-10-08T21:16:32.829851500Z"
    }
   },
   "outputs": [],
   "source": [
    "df_b = df_b[df_b['category'].isin(['Italian', 'Mexican', 'Ice Cream & Frozen Yogurt', 'Chinese',\n",
    "       'Pizza', 'French', 'Buffets', 'Bars', 'Sandwiches',\n",
    "       'Middle Eastern', 'Dive Bars', 'Delis', 'American (Traditional)',\n",
    "       'Steakhouses', 'Seafood', 'Bakeries', 'Coffee & Tea', 'Japanese',\n",
    "       'Thai', 'Tapas/Small Plates', 'Southern', 'Korean',\n",
    "       'Chicken Wings', 'Breakfast & Brunch', 'Street Vendors', 'Burgers',\n",
    "       'Vegetarian', 'Ramen', 'Filipino', 'Vietnamese'\n",
    "       'Desserts', 'American (New)', 'Asian Fusion', 'Noodles', 'Tex-Mex', 'Ethiopian', 'Soup', 'Sushi Bars', 'Gluten-Free', 'Beer',\n",
    "       'Pubs', 'Barbeque', 'Poke', 'Hot Dogs',  'Caribbean','Chicken Shop', 'Cafes', 'Hookah Bars', 'Hawaiian', 'Diners',\n",
    "       'Waffles', 'Brazilian', 'Latin American', 'Wine Bars',\n",
    "       'Salad', 'Bagels', 'Argentine', 'Gastropubs', \n",
    "       'Lounges', 'Cheesesteaks', 'Tapas Bars', 'Grocery', 'Indian',\n",
    "       'Butcher', 'Cajun/Creole', 'Modern European', 'Gelato', 'Donuts',\n",
    "        'Dentists', 'Pasta Shops', 'Greek', 'Mongolian',\n",
    "       'Bistros', 'Arabian', 'Tacos', 'Cocktail Bars', \n",
    "       'Mediterranean', 'Sports Bars',\n",
    "       'Cantonese','Cafeteria', 'Wineries', 'Taiwanese',\n",
    "       'Peruvian', 'Szechuan', 'Vegan', 'Coffee Roasteries',\n",
    "        'Shaved Ice', 'Custom Cakes', 'Patisserie/Cake Shop', 'Spanish',\n",
    "       'Fish & Chips', 'Tea Rooms', 'Cuban', 'Breweries', 'Shanghainese', 'Bubble Tea',\n",
    "       'Themed Cafes', 'Teppanyaki', 'Venezuelan', 'Pretzels', 'Creperies', 'Pakistani',\n",
    "       'Brasseries', 'Singaporean',\n",
    "       'Japanese Curry', 'German', 'Afghan', 'New Mexican Cuisine',\n",
    "       'Pan Asian', 'Gay Bars', 'Beer Bar', 'Hot Pot',\n",
    "       'Seafood Markets', 'Persian/Iranian',\n",
    "       'Irish', 'Conveyor Belt Sushi','Turkish',\n",
    "       'Guamanian', 'Falafel', 'Ukrainian', 'Russian',\n",
    "       'Laotian', 'Smokehouse', 'Puerto Rican',\n",
    "       'Dinner Theater', 'Piano Bars', 'Beer Gardens','British', 'Lebanese',\n",
    "        'African', 'Malaysian', 'South African',\n",
    "       'Belgian', 'Kebab', 'Coffeeshops',\n",
    "       'Colombian', 'Moroccan',\n",
    "       'Acai Bowls'])]"
   ]
  },
  {
   "cell_type": "code",
   "execution_count": 51,
   "metadata": {
    "ExecuteTime": {
     "end_time": "2023-10-08T21:16:33.065046700Z",
     "start_time": "2023-10-08T21:16:32.845476300Z"
    }
   },
   "outputs": [
    {
     "data": {
      "text/plain": "34"
     },
     "execution_count": 51,
     "metadata": {},
     "output_type": "execute_result"
    }
   ],
   "source": [
    "len(df_b)"
   ]
  },
  {
   "cell_type": "code",
   "execution_count": 52,
   "metadata": {
    "ExecuteTime": {
     "end_time": "2023-10-08T21:16:33.065046700Z",
     "start_time": "2023-10-08T21:16:32.861134Z"
    }
   },
   "outputs": [],
   "source": [
    "df_join_3= df_join_2[df_join_2['business_id'].isin(df_b['business_id'])]"
   ]
  },
  {
   "cell_type": "code",
   "execution_count": 53,
   "metadata": {
    "ExecuteTime": {
     "end_time": "2023-10-08T21:16:33.065046700Z",
     "start_time": "2023-10-08T21:16:32.876725700Z"
    }
   },
   "outputs": [
    {
     "data": {
      "text/plain": "7189"
     },
     "execution_count": 53,
     "metadata": {},
     "output_type": "execute_result"
    }
   ],
   "source": [
    "len(df_join_3)"
   ]
  },
  {
   "cell_type": "code",
   "execution_count": 54,
   "metadata": {
    "ExecuteTime": {
     "end_time": "2023-10-08T21:16:33.065046700Z",
     "start_time": "2023-10-08T21:16:32.892351500Z"
    }
   },
   "outputs": [
    {
     "data": {
      "text/plain": "array(['Sushi Bars', 'Persian/Iranian', 'French', 'American (New)',\n       'American (Traditional)', 'Mediterranean', 'Mexican', 'Tacos',\n       'Japanese', 'Coffee & Tea', 'Bakeries', 'Korean', 'Pizza',\n       'Indian', 'Seafood', 'Latin American', 'Salad', 'Thai', 'Italian'],\n      dtype=object)"
     },
     "execution_count": 54,
     "metadata": {},
     "output_type": "execute_result"
    }
   ],
   "source": [
    "df_temp = pd.merge(df_join_3, df_b[['business_id','category']], on='business_id')\n",
    "df_temp['category'].unique()"
   ]
  },
  {
   "cell_type": "code",
   "execution_count": 54,
   "metadata": {
    "ExecuteTime": {
     "end_time": "2023-10-08T21:16:33.065046700Z",
     "start_time": "2023-10-08T21:16:32.908367300Z"
    }
   },
   "outputs": [],
   "source": []
  }
 ],
 "metadata": {
  "kernelspec": {
   "display_name": "Python 3",
   "language": "python",
   "name": "python3"
  },
  "language_info": {
   "codemirror_mode": {
    "name": "ipython",
    "version": 3
   },
   "file_extension": ".py",
   "mimetype": "text/x-python",
   "name": "python",
   "nbconvert_exporter": "python",
   "pygments_lexer": "ipython3",
   "version": "3.7.4"
  }
 },
 "nbformat": 4,
 "nbformat_minor": 2
}
