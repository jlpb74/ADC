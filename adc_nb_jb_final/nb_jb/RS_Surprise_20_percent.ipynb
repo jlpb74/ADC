{
 "cells": [
  {
   "cell_type": "code",
   "execution_count": 110,
   "id": "initial_id",
   "metadata": {
    "collapsed": true,
    "ExecuteTime": {
     "end_time": "2023-10-08T21:28:58.106238500Z",
     "start_time": "2023-10-08T21:28:57.525552800Z"
    }
   },
   "outputs": [],
   "source": [
    "# !pip install tqdm"
   ]
  },
  {
   "cell_type": "code",
   "execution_count": 111,
   "outputs": [],
   "source": [
    "import pandas as pd\n",
    "import tarfile\n",
    "from tqdm import tqdm, tqdm_notebook, tnrange\n",
    "import json\n",
    "import numpy as np\n",
    "import time\n",
    "from copy import deepcopy"
   ],
   "metadata": {
    "collapsed": false,
    "ExecuteTime": {
     "end_time": "2023-10-08T21:28:58.341631100Z",
     "start_time": "2023-10-08T21:28:57.541217800Z"
    }
   },
   "id": "e7538409b4c33560"
  },
  {
   "cell_type": "code",
   "execution_count": 112,
   "outputs": [],
   "source": [
    "## The restaurants in the five candidate cities\n",
    "df_res_bus = pd.read_csv('../datasets/filter_data/tucson_business.csv')\n",
    "reviews = pd.read_csv('../datasets/filter_data/tucson_reviews.csv')\n",
    "users = pd.read_csv('../datasets/filter_data/tucson_users.csv')"
   ],
   "metadata": {
    "collapsed": false,
    "ExecuteTime": {
     "end_time": "2023-10-08T21:29:01.229904100Z",
     "start_time": "2023-10-08T21:28:57.556809600Z"
    }
   },
   "id": "c169db1ae9d571f1"
  },
  {
   "cell_type": "code",
   "execution_count": 113,
   "outputs": [],
   "source": [
    "df_res_bus = df_res_bus.rename(columns={\"name\":\"restaurant\"})"
   ],
   "metadata": {
    "collapsed": false,
    "ExecuteTime": {
     "end_time": "2023-10-08T21:29:01.261154700Z",
     "start_time": "2023-10-08T21:28:59.508772100Z"
    }
   },
   "id": "24138e44ef2d9f8a"
  },
  {
   "cell_type": "code",
   "execution_count": 114,
   "outputs": [
    {
     "data": {
      "text/plain": "              business_id                restaurant  \\\n0  f82dhKNiUXsDVPMLqKYiIQ             Sher-e-Punjab   \n1  Y3ZCO17N1_T_Ms1JmswwzA    Taqueria Pico De Gallo   \n2  lhsQkb5nhf-Kd5OvgB9MNg             Sachiko Sushi   \n3  XyGRDrgCK0z4CiA6nhwEaw  Persian Room Fine Dining   \n4  -3-6BB10tIWNKGEF0Es2BA     The 81 Hong Kong Cafe   \n\n                         address    city state  postal_code   latitude  \\\n0              853 East Grant Rd  Tucson    AZ        85719  32.250960   \n1                 2618 S 6th Ave  Tucson    AZ        85713  32.192017   \n2             3210 E Valencia Rd  Tucson    AZ        85706  32.133679   \n3  9290 N Thornydale Rd, Ste 100  Tucson    AZ        85742  32.375016   \n4      625 E Wetmore Rd, Ste 109  Tucson    AZ        85705  32.288540   \n\n    longitude  stars  review_count  is_open  \\\n0 -110.959158    4.0           446        1   \n1 -110.968540    4.0           397        1   \n2 -110.923443    3.5           191        1   \n3 -111.046320    4.5           258        1   \n4 -110.963144    4.0           133        1   \n\n                                          attributes  \\\n0  {'RestaurantsAttire': \"'casual'\", 'BusinessAcc...   \n1  {'RestaurantsGoodForGroups': 'True', 'Caters':...   \n2  {'RestaurantsPriceRange2': '2', 'BusinessAccep...   \n3  {'Alcohol': \"'full_bar'\", 'GoodForMeal': \"{'de...   \n4  {'Alcohol': \"u'none'\", 'DogsAllowed': 'False',...   \n\n                                          categories  \\\n0  Restaurants, Salad, Pakistani, Indian, Cocktai...   \n1                               Mexican, Restaurants   \n2                  Japanese, Restaurants, Sushi Bars   \n3        Restaurants, Persian/Iranian, Mediterranean   \n4  Coffee & Tea, Asian Fusion, Food, Bubble Tea, ...   \n\n                                               hours  \n0  {'Tuesday': '16:0-21:0', 'Wednesday': '16:0-21...  \n1  {'Monday': '9:0-21:0', 'Tuesday': '9:0-21:0', ...  \n2  {'Monday': '11:0-20:0', 'Tuesday': '11:0-20:0'...  \n3  {'Monday': '11:0-21:30', 'Tuesday': '11:0-21:3...  \n4  {'Monday': '0:0-0:0', 'Wednesday': '10:0-21:0'...  ",
      "text/html": "<div>\n<style scoped>\n    .dataframe tbody tr th:only-of-type {\n        vertical-align: middle;\n    }\n\n    .dataframe tbody tr th {\n        vertical-align: top;\n    }\n\n    .dataframe thead th {\n        text-align: right;\n    }\n</style>\n<table border=\"1\" class=\"dataframe\">\n  <thead>\n    <tr style=\"text-align: right;\">\n      <th></th>\n      <th>business_id</th>\n      <th>restaurant</th>\n      <th>address</th>\n      <th>city</th>\n      <th>state</th>\n      <th>postal_code</th>\n      <th>latitude</th>\n      <th>longitude</th>\n      <th>stars</th>\n      <th>review_count</th>\n      <th>is_open</th>\n      <th>attributes</th>\n      <th>categories</th>\n      <th>hours</th>\n    </tr>\n  </thead>\n  <tbody>\n    <tr>\n      <th>0</th>\n      <td>f82dhKNiUXsDVPMLqKYiIQ</td>\n      <td>Sher-e-Punjab</td>\n      <td>853 East Grant Rd</td>\n      <td>Tucson</td>\n      <td>AZ</td>\n      <td>85719</td>\n      <td>32.250960</td>\n      <td>-110.959158</td>\n      <td>4.0</td>\n      <td>446</td>\n      <td>1</td>\n      <td>{'RestaurantsAttire': \"'casual'\", 'BusinessAcc...</td>\n      <td>Restaurants, Salad, Pakistani, Indian, Cocktai...</td>\n      <td>{'Tuesday': '16:0-21:0', 'Wednesday': '16:0-21...</td>\n    </tr>\n    <tr>\n      <th>1</th>\n      <td>Y3ZCO17N1_T_Ms1JmswwzA</td>\n      <td>Taqueria Pico De Gallo</td>\n      <td>2618 S 6th Ave</td>\n      <td>Tucson</td>\n      <td>AZ</td>\n      <td>85713</td>\n      <td>32.192017</td>\n      <td>-110.968540</td>\n      <td>4.0</td>\n      <td>397</td>\n      <td>1</td>\n      <td>{'RestaurantsGoodForGroups': 'True', 'Caters':...</td>\n      <td>Mexican, Restaurants</td>\n      <td>{'Monday': '9:0-21:0', 'Tuesday': '9:0-21:0', ...</td>\n    </tr>\n    <tr>\n      <th>2</th>\n      <td>lhsQkb5nhf-Kd5OvgB9MNg</td>\n      <td>Sachiko Sushi</td>\n      <td>3210 E Valencia Rd</td>\n      <td>Tucson</td>\n      <td>AZ</td>\n      <td>85706</td>\n      <td>32.133679</td>\n      <td>-110.923443</td>\n      <td>3.5</td>\n      <td>191</td>\n      <td>1</td>\n      <td>{'RestaurantsPriceRange2': '2', 'BusinessAccep...</td>\n      <td>Japanese, Restaurants, Sushi Bars</td>\n      <td>{'Monday': '11:0-20:0', 'Tuesday': '11:0-20:0'...</td>\n    </tr>\n    <tr>\n      <th>3</th>\n      <td>XyGRDrgCK0z4CiA6nhwEaw</td>\n      <td>Persian Room Fine Dining</td>\n      <td>9290 N Thornydale Rd, Ste 100</td>\n      <td>Tucson</td>\n      <td>AZ</td>\n      <td>85742</td>\n      <td>32.375016</td>\n      <td>-111.046320</td>\n      <td>4.5</td>\n      <td>258</td>\n      <td>1</td>\n      <td>{'Alcohol': \"'full_bar'\", 'GoodForMeal': \"{'de...</td>\n      <td>Restaurants, Persian/Iranian, Mediterranean</td>\n      <td>{'Monday': '11:0-21:30', 'Tuesday': '11:0-21:3...</td>\n    </tr>\n    <tr>\n      <th>4</th>\n      <td>-3-6BB10tIWNKGEF0Es2BA</td>\n      <td>The 81 Hong Kong Cafe</td>\n      <td>625 E Wetmore Rd, Ste 109</td>\n      <td>Tucson</td>\n      <td>AZ</td>\n      <td>85705</td>\n      <td>32.288540</td>\n      <td>-110.963144</td>\n      <td>4.0</td>\n      <td>133</td>\n      <td>1</td>\n      <td>{'Alcohol': \"u'none'\", 'DogsAllowed': 'False',...</td>\n      <td>Coffee &amp; Tea, Asian Fusion, Food, Bubble Tea, ...</td>\n      <td>{'Monday': '0:0-0:0', 'Wednesday': '10:0-21:0'...</td>\n    </tr>\n  </tbody>\n</table>\n</div>"
     },
     "execution_count": 114,
     "metadata": {},
     "output_type": "execute_result"
    }
   ],
   "source": [
    "df_res_bus.head()"
   ],
   "metadata": {
    "collapsed": false,
    "ExecuteTime": {
     "end_time": "2023-10-08T21:29:01.261154700Z",
     "start_time": "2023-10-08T21:28:59.519239800Z"
    }
   },
   "id": "acfc65879c217ddf"
  },
  {
   "cell_type": "code",
   "execution_count": 115,
   "outputs": [],
   "source": [
    "reviews = reviews.rename(columns={\"stars\":\"rating\"})\n"
   ],
   "metadata": {
    "collapsed": false,
    "ExecuteTime": {
     "end_time": "2023-10-08T21:29:01.261154700Z",
     "start_time": "2023-10-08T21:28:59.534904300Z"
    }
   },
   "id": "e1aae387435eb41f"
  },
  {
   "cell_type": "code",
   "execution_count": 116,
   "outputs": [
    {
     "data": {
      "text/plain": "                review_id                 user_id             business_id  \\\n0  UBp0zWyH60Hmw6Fsasei7w  4Uh27DgGzsp6PqrH913giQ  otQS34_MymijPTdNBoBdCw   \n1  ymhbOMW63B_vGaRFR3XT0A  yZdAhQ_KmKuCZmbBy9YDQg  5Ce3lZksYVkCbrihqylVHQ   \n2  ypFqmURIY41F4pWaMW1VrQ  hToW2eoTAYlOcuNz7I73Cg  7L1kXfwU5XM6f6Jxo_L7Yg   \n3  M7h8K7PrLrN8yQb3RhHLdA  CysTz612pTix75Fye6-D4Q  WLiqfxv_GhFFA5sm878a2w   \n4  _u331rYIp7qJ7aWvLup9Ug  BUpAhzsbbKbTqyBjT8YnNQ  wa_bwyY57etHjtJ2Fw0E3g   \n\n   rating  useful  funny  cool  \\\n0       4       0      2     0   \n1       5       0      0     0   \n2       5       1      0     0   \n3       5       0      1     1   \n4       5       0      0     0   \n\n                                                text                 date  \n0  The bun makes the Sonoran Dog. It's like a snu...  2011-10-27 17:12:05  \n1  I just started going to Sushi Nara this month ...  2014-07-25 17:56:26  \n2  We've been coming here since I was a kid. The ...  2015-07-03 22:36:04  \n3  Blew $80 on food for the family was worth it f...  2013-12-29 03:15:34  \n4  Called in a Mediterranean chicken shawarma. Go...  2014-04-01 05:00:09  ",
      "text/html": "<div>\n<style scoped>\n    .dataframe tbody tr th:only-of-type {\n        vertical-align: middle;\n    }\n\n    .dataframe tbody tr th {\n        vertical-align: top;\n    }\n\n    .dataframe thead th {\n        text-align: right;\n    }\n</style>\n<table border=\"1\" class=\"dataframe\">\n  <thead>\n    <tr style=\"text-align: right;\">\n      <th></th>\n      <th>review_id</th>\n      <th>user_id</th>\n      <th>business_id</th>\n      <th>rating</th>\n      <th>useful</th>\n      <th>funny</th>\n      <th>cool</th>\n      <th>text</th>\n      <th>date</th>\n    </tr>\n  </thead>\n  <tbody>\n    <tr>\n      <th>0</th>\n      <td>UBp0zWyH60Hmw6Fsasei7w</td>\n      <td>4Uh27DgGzsp6PqrH913giQ</td>\n      <td>otQS34_MymijPTdNBoBdCw</td>\n      <td>4</td>\n      <td>0</td>\n      <td>2</td>\n      <td>0</td>\n      <td>The bun makes the Sonoran Dog. It's like a snu...</td>\n      <td>2011-10-27 17:12:05</td>\n    </tr>\n    <tr>\n      <th>1</th>\n      <td>ymhbOMW63B_vGaRFR3XT0A</td>\n      <td>yZdAhQ_KmKuCZmbBy9YDQg</td>\n      <td>5Ce3lZksYVkCbrihqylVHQ</td>\n      <td>5</td>\n      <td>0</td>\n      <td>0</td>\n      <td>0</td>\n      <td>I just started going to Sushi Nara this month ...</td>\n      <td>2014-07-25 17:56:26</td>\n    </tr>\n    <tr>\n      <th>2</th>\n      <td>ypFqmURIY41F4pWaMW1VrQ</td>\n      <td>hToW2eoTAYlOcuNz7I73Cg</td>\n      <td>7L1kXfwU5XM6f6Jxo_L7Yg</td>\n      <td>5</td>\n      <td>1</td>\n      <td>0</td>\n      <td>0</td>\n      <td>We've been coming here since I was a kid. The ...</td>\n      <td>2015-07-03 22:36:04</td>\n    </tr>\n    <tr>\n      <th>3</th>\n      <td>M7h8K7PrLrN8yQb3RhHLdA</td>\n      <td>CysTz612pTix75Fye6-D4Q</td>\n      <td>WLiqfxv_GhFFA5sm878a2w</td>\n      <td>5</td>\n      <td>0</td>\n      <td>1</td>\n      <td>1</td>\n      <td>Blew $80 on food for the family was worth it f...</td>\n      <td>2013-12-29 03:15:34</td>\n    </tr>\n    <tr>\n      <th>4</th>\n      <td>_u331rYIp7qJ7aWvLup9Ug</td>\n      <td>BUpAhzsbbKbTqyBjT8YnNQ</td>\n      <td>wa_bwyY57etHjtJ2Fw0E3g</td>\n      <td>5</td>\n      <td>0</td>\n      <td>0</td>\n      <td>0</td>\n      <td>Called in a Mediterranean chicken shawarma. Go...</td>\n      <td>2014-04-01 05:00:09</td>\n    </tr>\n  </tbody>\n</table>\n</div>"
     },
     "execution_count": 116,
     "metadata": {},
     "output_type": "execute_result"
    }
   ],
   "source": [
    "reviews.head()"
   ],
   "metadata": {
    "collapsed": false,
    "ExecuteTime": {
     "end_time": "2023-10-08T21:29:01.261154700Z",
     "start_time": "2023-10-08T21:28:59.566186600Z"
    }
   },
   "id": "873c21c96297c555"
  },
  {
   "cell_type": "code",
   "execution_count": 117,
   "outputs": [
    {
     "name": "stdout",
     "output_type": "stream",
     "text": [
      "Unique Users: 68784, unique restaurants: 702\n"
     ]
    }
   ],
   "source": [
    "#number of unique users and restaurants\n",
    "n_users = len(reviews.user_id.unique())\n",
    "n_restaurants = len(reviews.business_id.unique())\n",
    "print('Unique Users: {0}, unique restaurants: {1}'.format(n_users, n_restaurants))"
   ],
   "metadata": {
    "collapsed": false,
    "ExecuteTime": {
     "end_time": "2023-10-08T21:29:01.261154700Z",
     "start_time": "2023-10-08T21:28:59.582235600Z"
    }
   },
   "id": "bf0c0592cb18e310"
  },
  {
   "cell_type": "code",
   "execution_count": 118,
   "outputs": [
    {
     "data": {
      "text/plain": "                  user_id     name  review_count        yelping_since  useful  \\\n0  AUi8MPWJ0mLkMfwbui27lg     John           109  2010-01-07 18:32:04     154   \n1  x7YtLnBW2dUnrrpwaofVQQ  Ronskee            37  2010-05-06 00:40:56      56   \n2  XLs_PhrJ7Qwn_RfgMM7Djw    Weili            90  2009-07-12 14:34:54      71   \n3  QJI9OSEn6ujRCtrX06vs1w        J          1982  2007-03-19 18:15:32   14004   \n4  KXZ8A8h7Q9ZJRU5TM9asjw   Joanne           102  2010-03-20 17:40:40     150   \n\n   funny  cool elite                                            friends  fans  \\\n0     20    23   NaN  gy5fWeSv3Gamuq9Ox4MV4g, lMr3LWU6kPFLTmCpDkACxg...     4   \n1     29    29   NaN  EPBLDry-ObheloH-NuvbvQ, 0GHsxjCk-Ynzx4Ihj8tjPQ...     9   \n2     21    19   NaN  gTX68_Us2eI2KjY21aOQ7g, e4nHt3ErihX7II-MHXVM1w...     1   \n3   6466  9879  2010  RyPeT_ICAtX8ah9dhDpEFw, W8r4aKPZFT3GPIQQDbqB6Q...   316   \n4     42    30   NaN  2N4UPgpSHFYJ1OZ0WcvTEQ, JgZ1-9Ii2wCzHE2ylZb6qQ...     7   \n\n   ...  compliment_more  compliment_profile  compliment_cute  compliment_list  \\\n0  ...                0                   0                0                0   \n1  ...                1                   0                0                0   \n2  ...                0                   0                0                0   \n3  ...               98                 156               52               68   \n4  ...                0                   0                0                0   \n\n   compliment_note  compliment_plain  compliment_cool  compliment_funny  \\\n0                1                 6                3                 3   \n1               12                33               66                66   \n2                1                 3                0                 0   \n3              786              3674             2093              2093   \n4                5                 6                2                 2   \n\n   compliment_writer  compliment_photos  \n0                  0                  0  \n1                  1                 12  \n2                  0                  0  \n3                562               1509  \n4                  0                  2  \n\n[5 rows x 22 columns]",
      "text/html": "<div>\n<style scoped>\n    .dataframe tbody tr th:only-of-type {\n        vertical-align: middle;\n    }\n\n    .dataframe tbody tr th {\n        vertical-align: top;\n    }\n\n    .dataframe thead th {\n        text-align: right;\n    }\n</style>\n<table border=\"1\" class=\"dataframe\">\n  <thead>\n    <tr style=\"text-align: right;\">\n      <th></th>\n      <th>user_id</th>\n      <th>name</th>\n      <th>review_count</th>\n      <th>yelping_since</th>\n      <th>useful</th>\n      <th>funny</th>\n      <th>cool</th>\n      <th>elite</th>\n      <th>friends</th>\n      <th>fans</th>\n      <th>...</th>\n      <th>compliment_more</th>\n      <th>compliment_profile</th>\n      <th>compliment_cute</th>\n      <th>compliment_list</th>\n      <th>compliment_note</th>\n      <th>compliment_plain</th>\n      <th>compliment_cool</th>\n      <th>compliment_funny</th>\n      <th>compliment_writer</th>\n      <th>compliment_photos</th>\n    </tr>\n  </thead>\n  <tbody>\n    <tr>\n      <th>0</th>\n      <td>AUi8MPWJ0mLkMfwbui27lg</td>\n      <td>John</td>\n      <td>109</td>\n      <td>2010-01-07 18:32:04</td>\n      <td>154</td>\n      <td>20</td>\n      <td>23</td>\n      <td>NaN</td>\n      <td>gy5fWeSv3Gamuq9Ox4MV4g, lMr3LWU6kPFLTmCpDkACxg...</td>\n      <td>4</td>\n      <td>...</td>\n      <td>0</td>\n      <td>0</td>\n      <td>0</td>\n      <td>0</td>\n      <td>1</td>\n      <td>6</td>\n      <td>3</td>\n      <td>3</td>\n      <td>0</td>\n      <td>0</td>\n    </tr>\n    <tr>\n      <th>1</th>\n      <td>x7YtLnBW2dUnrrpwaofVQQ</td>\n      <td>Ronskee</td>\n      <td>37</td>\n      <td>2010-05-06 00:40:56</td>\n      <td>56</td>\n      <td>29</td>\n      <td>29</td>\n      <td>NaN</td>\n      <td>EPBLDry-ObheloH-NuvbvQ, 0GHsxjCk-Ynzx4Ihj8tjPQ...</td>\n      <td>9</td>\n      <td>...</td>\n      <td>1</td>\n      <td>0</td>\n      <td>0</td>\n      <td>0</td>\n      <td>12</td>\n      <td>33</td>\n      <td>66</td>\n      <td>66</td>\n      <td>1</td>\n      <td>12</td>\n    </tr>\n    <tr>\n      <th>2</th>\n      <td>XLs_PhrJ7Qwn_RfgMM7Djw</td>\n      <td>Weili</td>\n      <td>90</td>\n      <td>2009-07-12 14:34:54</td>\n      <td>71</td>\n      <td>21</td>\n      <td>19</td>\n      <td>NaN</td>\n      <td>gTX68_Us2eI2KjY21aOQ7g, e4nHt3ErihX7II-MHXVM1w...</td>\n      <td>1</td>\n      <td>...</td>\n      <td>0</td>\n      <td>0</td>\n      <td>0</td>\n      <td>0</td>\n      <td>1</td>\n      <td>3</td>\n      <td>0</td>\n      <td>0</td>\n      <td>0</td>\n      <td>0</td>\n    </tr>\n    <tr>\n      <th>3</th>\n      <td>QJI9OSEn6ujRCtrX06vs1w</td>\n      <td>J</td>\n      <td>1982</td>\n      <td>2007-03-19 18:15:32</td>\n      <td>14004</td>\n      <td>6466</td>\n      <td>9879</td>\n      <td>2010</td>\n      <td>RyPeT_ICAtX8ah9dhDpEFw, W8r4aKPZFT3GPIQQDbqB6Q...</td>\n      <td>316</td>\n      <td>...</td>\n      <td>98</td>\n      <td>156</td>\n      <td>52</td>\n      <td>68</td>\n      <td>786</td>\n      <td>3674</td>\n      <td>2093</td>\n      <td>2093</td>\n      <td>562</td>\n      <td>1509</td>\n    </tr>\n    <tr>\n      <th>4</th>\n      <td>KXZ8A8h7Q9ZJRU5TM9asjw</td>\n      <td>Joanne</td>\n      <td>102</td>\n      <td>2010-03-20 17:40:40</td>\n      <td>150</td>\n      <td>42</td>\n      <td>30</td>\n      <td>NaN</td>\n      <td>2N4UPgpSHFYJ1OZ0WcvTEQ, JgZ1-9Ii2wCzHE2ylZb6qQ...</td>\n      <td>7</td>\n      <td>...</td>\n      <td>0</td>\n      <td>0</td>\n      <td>0</td>\n      <td>0</td>\n      <td>5</td>\n      <td>6</td>\n      <td>2</td>\n      <td>2</td>\n      <td>0</td>\n      <td>2</td>\n    </tr>\n  </tbody>\n</table>\n<p>5 rows × 22 columns</p>\n</div>"
     },
     "execution_count": 118,
     "metadata": {},
     "output_type": "execute_result"
    }
   ],
   "source": [
    "users.head()"
   ],
   "metadata": {
    "collapsed": false,
    "ExecuteTime": {
     "end_time": "2023-10-08T21:29:01.261154700Z",
     "start_time": "2023-10-08T21:28:59.629149600Z"
    }
   },
   "id": "9e09f6c23ac9f6f2"
  },
  {
   "cell_type": "markdown",
   "source": [
    "Train Test Split"
   ],
   "metadata": {
    "collapsed": false
   },
   "id": "55b1495aab196eb5"
  },
  {
   "cell_type": "code",
   "execution_count": 119,
   "outputs": [],
   "source": [
    "SAMPLING_RATE = 1/5"
   ],
   "metadata": {
    "collapsed": false,
    "ExecuteTime": {
     "end_time": "2023-10-08T21:29:01.261154700Z",
     "start_time": "2023-10-08T21:28:59.644774800Z"
    }
   },
   "id": "e860f160caeefe9f"
  },
  {
   "cell_type": "code",
   "execution_count": 120,
   "outputs": [
    {
     "data": {
      "text/plain": "                review_id                 user_id             business_id  \\\n0  chtDBb_3unH0Wcs3W2Iahw  gSp5C3BfIVAHdH27rzoCDQ  RhuYqAT45uIR2NNdDsolXQ   \n1  PeI3zaEKhNS2lEya-HgiXA  gSp5C3BfIVAHdH27rzoCDQ  U3aNQ5DsABPYyJQolsCbJg   \n2  XImtk866ERU81M8uDJH0xw  gSp5C3BfIVAHdH27rzoCDQ  WbA5ud4InNWkizW7HE5kRQ   \n3  fEQX7X9EWsZXYJnRRsQzvw  gSp5C3BfIVAHdH27rzoCDQ  sr5A1frZiTRediG8FLEkdw   \n4  o3ecI64RRJq47Crn7l9esg  gSp5C3BfIVAHdH27rzoCDQ  AVBqx8FaXza6x-bb_FLOTQ   \n\n   rating  useful  funny  cool  \\\n0       5       1      0     1   \n1       5       2      1     1   \n2       5       0      0     0   \n3       1       3      1     0   \n4       4       0      0     0   \n\n                                                text                 date  \n0  Some of the finest Mexican food I've had. The ...  2017-07-18 18:47:24  \n1  A friend took me here for a birthday dinner. T...  2016-10-15 04:45:14  \n2  Pence is a great place for a casual dinner or ...  2016-11-06 06:14:08  \n3  I live near this restaurant and decided to try...  2016-10-22 16:26:36  \n4  Anita's is excellent! The popovers are very go...  2017-07-18 18:44:39  ",
      "text/html": "<div>\n<style scoped>\n    .dataframe tbody tr th:only-of-type {\n        vertical-align: middle;\n    }\n\n    .dataframe tbody tr th {\n        vertical-align: top;\n    }\n\n    .dataframe thead th {\n        text-align: right;\n    }\n</style>\n<table border=\"1\" class=\"dataframe\">\n  <thead>\n    <tr style=\"text-align: right;\">\n      <th></th>\n      <th>review_id</th>\n      <th>user_id</th>\n      <th>business_id</th>\n      <th>rating</th>\n      <th>useful</th>\n      <th>funny</th>\n      <th>cool</th>\n      <th>text</th>\n      <th>date</th>\n    </tr>\n  </thead>\n  <tbody>\n    <tr>\n      <th>0</th>\n      <td>chtDBb_3unH0Wcs3W2Iahw</td>\n      <td>gSp5C3BfIVAHdH27rzoCDQ</td>\n      <td>RhuYqAT45uIR2NNdDsolXQ</td>\n      <td>5</td>\n      <td>1</td>\n      <td>0</td>\n      <td>1</td>\n      <td>Some of the finest Mexican food I've had. The ...</td>\n      <td>2017-07-18 18:47:24</td>\n    </tr>\n    <tr>\n      <th>1</th>\n      <td>PeI3zaEKhNS2lEya-HgiXA</td>\n      <td>gSp5C3BfIVAHdH27rzoCDQ</td>\n      <td>U3aNQ5DsABPYyJQolsCbJg</td>\n      <td>5</td>\n      <td>2</td>\n      <td>1</td>\n      <td>1</td>\n      <td>A friend took me here for a birthday dinner. T...</td>\n      <td>2016-10-15 04:45:14</td>\n    </tr>\n    <tr>\n      <th>2</th>\n      <td>XImtk866ERU81M8uDJH0xw</td>\n      <td>gSp5C3BfIVAHdH27rzoCDQ</td>\n      <td>WbA5ud4InNWkizW7HE5kRQ</td>\n      <td>5</td>\n      <td>0</td>\n      <td>0</td>\n      <td>0</td>\n      <td>Pence is a great place for a casual dinner or ...</td>\n      <td>2016-11-06 06:14:08</td>\n    </tr>\n    <tr>\n      <th>3</th>\n      <td>fEQX7X9EWsZXYJnRRsQzvw</td>\n      <td>gSp5C3BfIVAHdH27rzoCDQ</td>\n      <td>sr5A1frZiTRediG8FLEkdw</td>\n      <td>1</td>\n      <td>3</td>\n      <td>1</td>\n      <td>0</td>\n      <td>I live near this restaurant and decided to try...</td>\n      <td>2016-10-22 16:26:36</td>\n    </tr>\n    <tr>\n      <th>4</th>\n      <td>o3ecI64RRJq47Crn7l9esg</td>\n      <td>gSp5C3BfIVAHdH27rzoCDQ</td>\n      <td>AVBqx8FaXza6x-bb_FLOTQ</td>\n      <td>4</td>\n      <td>0</td>\n      <td>0</td>\n      <td>0</td>\n      <td>Anita's is excellent! The popovers are very go...</td>\n      <td>2017-07-18 18:44:39</td>\n    </tr>\n  </tbody>\n</table>\n</div>"
     },
     "execution_count": 120,
     "metadata": {},
     "output_type": "execute_result"
    }
   ],
   "source": [
    "# Downsample by users\n",
    "user_id_unique = reviews.user_id.unique()\n",
    "user_id_sample = pd.DataFrame(user_id_unique, columns=['unique_user_id']) \\\n",
    "    .sample(frac= SAMPLING_RATE, replace=False, random_state=1)\n",
    "\n",
    "reviews_sample = reviews.merge(user_id_sample, left_on='user_id', right_on='unique_user_id') \\\n",
    "   .drop(['unique_user_id'], axis=1)\n",
    "reviews_sample.head()\n",
    "#print(reviews_sample.shape)"
   ],
   "metadata": {
    "collapsed": false,
    "ExecuteTime": {
     "end_time": "2023-10-08T21:29:01.261154700Z",
     "start_time": "2023-10-08T21:28:59.660400200Z"
    }
   },
   "id": "45af3e7f9ed6f8ac"
  },
  {
   "cell_type": "code",
   "execution_count": 121,
   "outputs": [
    {
     "name": "stdout",
     "output_type": "stream",
     "text": [
      "Unique Users: 13757, unique restaurants: 702\n"
     ]
    }
   ],
   "source": [
    "#number of unique users and restaurants\n",
    "n_users = len(reviews_sample.user_id.unique())\n",
    "n_restaurants = len(reviews_sample.business_id.unique())\n",
    "print('Unique Users: {0}, unique restaurants: {1}'.format(n_users, n_restaurants))"
   ],
   "metadata": {
    "collapsed": false,
    "ExecuteTime": {
     "end_time": "2023-10-08T21:29:01.261154700Z",
     "start_time": "2023-10-08T21:28:59.770320900Z"
    }
   },
   "id": "171180033cbaa990"
  },
  {
   "cell_type": "code",
   "execution_count": 122,
   "outputs": [
    {
     "name": "stdout",
     "output_type": "stream",
     "text": [
      "There are 19947 rows, 9 columns in training set.\n",
      "There are 3109 rows, 9 columns in training set.\n",
      "There are 3109 rows, 9 columns in holdout set.\n"
     ]
    }
   ],
   "source": [
    "# hold out last review\n",
    "reviews_user_date = reviews_sample.loc[:, ['user_id', 'date']]\n",
    "reviews_user_date.date = pd.to_datetime(reviews_user_date.date)\n",
    "index_holdout = reviews_user_date.groupby(['user_id'], sort=False)['date'].transform(max) == reviews_user_date['date']\n",
    "reviews_holdout_ = reviews_sample[index_holdout]\n",
    "reviews_traincv_ = reviews_sample[~index_holdout]\n",
    "\n",
    "reviews_user_date = reviews_traincv_.loc[:, ['user_id', 'date']]\n",
    "index_holdout = reviews_user_date.groupby(['user_id'], sort=False)['date'].transform(max) == reviews_user_date['date']\n",
    "reviews_cv_ = reviews_traincv_[index_holdout]\n",
    "reviews_train_ = reviews_traincv_[~index_holdout]\n",
    "\n",
    "# remove the user that has fake reviews \n",
    "\n",
    "cv_users_del = set(reviews_cv_.user_id) - set(reviews_train_.user_id)\n",
    "holdout_users_del = set(reviews_holdout_.user_id) - set(reviews_train_.user_id)\n",
    "reviews_cv_ = reviews_cv_[~reviews_cv_.user_id.isin(cv_users_del)]\n",
    "reviews_holdout_ = reviews_holdout_[~reviews_holdout_.user_id.isin(holdout_users_del)]\n",
    "\n",
    "# ratings_cv_ = ratings_cv_[~ratings_cv_.user_id.isin(['HiT9sg9pvDiEVMFHJYihXg'])]\n",
    "# ratings_holdout_ = ratings_holdout_[~ratings_holdout_.user_id.isin(['HiT9sg9pvDiEVMFHJYihXg'])]\n",
    "\n",
    "print('There are {0} rows, {1} columns in training set.'.format(reviews_train_.shape[0], reviews_train_.shape[1]))\n",
    "print('There are {0} rows, {1} columns in training set.'.format(reviews_cv_.shape[0], reviews_cv_.shape[1]))\n",
    "print('There are {0} rows, {1} columns in holdout set.'.format(reviews_holdout_.shape[0], reviews_holdout_.shape[1]))\n"
   ],
   "metadata": {
    "collapsed": false,
    "ExecuteTime": {
     "end_time": "2023-10-08T21:29:01.261154700Z",
     "start_time": "2023-10-08T21:28:59.786438700Z"
    }
   },
   "id": "bb29e53840ad54bc"
  },
  {
   "cell_type": "code",
   "execution_count": 123,
   "outputs": [
    {
     "data": {
      "text/plain": "                  review_id                 user_id             business_id  \\\n8    ESs4GTLIog0tk0KkKjHmwA  gSp5C3BfIVAHdH27rzoCDQ  3qsHL1xuMPlPqQciHNYkeg   \n19   NB0K34PopuobnDs10MnboQ  qPORuflcC27780nm7s2UUg  9zlIJ7Q5W4AENjpGgaNSsQ   \n43   joh0gpkfhXckO3t6rNJ7GA  w8xOsHgh3xi4pHKO1Fs5Dw  THoNnFJFVzzjz7hyOIQFkQ   \n51   94CkieRKDzO0kHH4YuvY1A  d_fc9n5mQFFdoUxrOSeMAQ  muxda1cSVtplETqTfYVgZA   \n102  7RAbIaA1BmP9-Z4bKRTkfA  J0HY6uvoRL2Rh7bc8mvfqA  eGi7CE2YaN6YMiGyXNi8XQ   \n\n     rating  useful  funny  cool  \\\n8         4       0      0     0   \n19        1       2      2     0   \n43        4       2      0     1   \n51        5       0      0     0   \n102       5       1      0     0   \n\n                                                  text                 date  \n8    First off, I didn't have the pizza or dine in....  2018-02-18 05:54:44  \n19   So the person/s making the pizza last Wednesda...  2016-11-06 03:02:00  \n43   Taking a look at the menu it seems that one ca...  2017-01-09 03:00:22  \n51   Open a month, they've gotten as good as the re...  2011-03-14 22:02:15  \n102  This was my first time at Spice Garden, and wo...  2021-10-17 16:44:38  ",
      "text/html": "<div>\n<style scoped>\n    .dataframe tbody tr th:only-of-type {\n        vertical-align: middle;\n    }\n\n    .dataframe tbody tr th {\n        vertical-align: top;\n    }\n\n    .dataframe thead th {\n        text-align: right;\n    }\n</style>\n<table border=\"1\" class=\"dataframe\">\n  <thead>\n    <tr style=\"text-align: right;\">\n      <th></th>\n      <th>review_id</th>\n      <th>user_id</th>\n      <th>business_id</th>\n      <th>rating</th>\n      <th>useful</th>\n      <th>funny</th>\n      <th>cool</th>\n      <th>text</th>\n      <th>date</th>\n    </tr>\n  </thead>\n  <tbody>\n    <tr>\n      <th>8</th>\n      <td>ESs4GTLIog0tk0KkKjHmwA</td>\n      <td>gSp5C3BfIVAHdH27rzoCDQ</td>\n      <td>3qsHL1xuMPlPqQciHNYkeg</td>\n      <td>4</td>\n      <td>0</td>\n      <td>0</td>\n      <td>0</td>\n      <td>First off, I didn't have the pizza or dine in....</td>\n      <td>2018-02-18 05:54:44</td>\n    </tr>\n    <tr>\n      <th>19</th>\n      <td>NB0K34PopuobnDs10MnboQ</td>\n      <td>qPORuflcC27780nm7s2UUg</td>\n      <td>9zlIJ7Q5W4AENjpGgaNSsQ</td>\n      <td>1</td>\n      <td>2</td>\n      <td>2</td>\n      <td>0</td>\n      <td>So the person/s making the pizza last Wednesda...</td>\n      <td>2016-11-06 03:02:00</td>\n    </tr>\n    <tr>\n      <th>43</th>\n      <td>joh0gpkfhXckO3t6rNJ7GA</td>\n      <td>w8xOsHgh3xi4pHKO1Fs5Dw</td>\n      <td>THoNnFJFVzzjz7hyOIQFkQ</td>\n      <td>4</td>\n      <td>2</td>\n      <td>0</td>\n      <td>1</td>\n      <td>Taking a look at the menu it seems that one ca...</td>\n      <td>2017-01-09 03:00:22</td>\n    </tr>\n    <tr>\n      <th>51</th>\n      <td>94CkieRKDzO0kHH4YuvY1A</td>\n      <td>d_fc9n5mQFFdoUxrOSeMAQ</td>\n      <td>muxda1cSVtplETqTfYVgZA</td>\n      <td>5</td>\n      <td>0</td>\n      <td>0</td>\n      <td>0</td>\n      <td>Open a month, they've gotten as good as the re...</td>\n      <td>2011-03-14 22:02:15</td>\n    </tr>\n    <tr>\n      <th>102</th>\n      <td>7RAbIaA1BmP9-Z4bKRTkfA</td>\n      <td>J0HY6uvoRL2Rh7bc8mvfqA</td>\n      <td>eGi7CE2YaN6YMiGyXNi8XQ</td>\n      <td>5</td>\n      <td>1</td>\n      <td>0</td>\n      <td>0</td>\n      <td>This was my first time at Spice Garden, and wo...</td>\n      <td>2021-10-17 16:44:38</td>\n    </tr>\n  </tbody>\n</table>\n</div>"
     },
     "execution_count": 123,
     "metadata": {},
     "output_type": "execute_result"
    }
   ],
   "source": [
    "reviews_cv_2=reviews_cv_\n",
    "reviews_cv_2.head()"
   ],
   "metadata": {
    "collapsed": false,
    "ExecuteTime": {
     "end_time": "2023-10-08T21:29:01.261154700Z",
     "start_time": "2023-10-08T21:29:00.194314500Z"
    }
   },
   "id": "b0b1c9694d4dd945"
  },
  {
   "cell_type": "code",
   "execution_count": 124,
   "outputs": [
    {
     "name": "stdout",
     "output_type": "stream",
     "text": [
      "3109\n"
     ]
    }
   ],
   "source": [
    "# check if we have a enough user sample size (> 3000)\n",
    "number_of_unique_users = len(reviews_train_.user_id.unique())\n",
    "print(number_of_unique_users)"
   ],
   "metadata": {
    "collapsed": false,
    "ExecuteTime": {
     "end_time": "2023-10-08T21:29:01.261154700Z",
     "start_time": "2023-10-08T21:29:00.209979500Z"
    }
   },
   "id": "5fdb63b333729311"
  },
  {
   "cell_type": "markdown",
   "source": [
    "Evaluation Metrics"
   ],
   "metadata": {
    "collapsed": false
   },
   "id": "94f128bdfbf66625"
  },
  {
   "cell_type": "code",
   "execution_count": 125,
   "outputs": [],
   "source": [
    "def process(df):\n",
    "    df['date']  = pd.to_datetime(df['date'])\n",
    "    df['week_day'] = df['date'].dt.weekday\n",
    "    df['month'] = df['date'].dt.month\n",
    "    df['hour'] = df['date'].dt.hour\n",
    "    df = df.merge(users, on = 'user_id')\n",
    "    df = df.merge(df_res_bus, on = 'business_id')\n",
    "    rename_dict = {'business_longitude': 'longitude', 'business_latitude': 'latitude',\n",
    "                   'business_state':'state','business_city':'city', 'business_address': 'address'}\n",
    "    df = df.rename(columns = rename_dict)\n",
    "    return df\n",
    "\n",
    "reviews_train = process(reviews_train_.copy())\n",
    "reviews_holdout = process(reviews_holdout_.copy())\n",
    "reviews_val = process(reviews_cv_.copy())"
   ],
   "metadata": {
    "collapsed": false,
    "ExecuteTime": {
     "end_time": "2023-10-08T21:29:01.261154700Z",
     "start_time": "2023-10-08T21:29:00.225604200Z"
    }
   },
   "id": "754921a4e14ee377"
  },
  {
   "cell_type": "code",
   "execution_count": 126,
   "outputs": [
    {
     "name": "stderr",
     "output_type": "stream",
     "text": [
      "C:\\Users\\joaqu\\AppData\\Local\\Temp\\ipykernel_7580\\2588244626.py:1: FutureWarning: The frame.append method is deprecated and will be removed from pandas in a future version. Use pandas.concat instead.\n",
      "  reviews_train_final = reviews_train.append(reviews_val)\n",
      "C:\\Users\\joaqu\\AppData\\Local\\Temp\\ipykernel_7580\\2588244626.py:2: FutureWarning: The frame.append method is deprecated and will be removed from pandas in a future version. Use pandas.concat instead.\n",
      "  reviews_entire_df = reviews_train.append(reviews_val).append(reviews_holdout)\n",
      "C:\\Users\\joaqu\\AppData\\Local\\Temp\\ipykernel_7580\\2588244626.py:2: FutureWarning: The frame.append method is deprecated and will be removed from pandas in a future version. Use pandas.concat instead.\n",
      "  reviews_entire_df = reviews_train.append(reviews_val).append(reviews_holdout)\n"
     ]
    }
   ],
   "source": [
    "reviews_train_final = reviews_train.append(reviews_val)\n",
    "reviews_entire_df = reviews_train.append(reviews_val).append(reviews_holdout)"
   ],
   "metadata": {
    "collapsed": false,
    "ExecuteTime": {
     "end_time": "2023-10-08T21:29:01.283353Z",
     "start_time": "2023-10-08T21:29:00.414071100Z"
    }
   },
   "id": "b1b354337efc105c"
  },
  {
   "cell_type": "code",
   "execution_count": 127,
   "outputs": [
    {
     "data": {
      "text/plain": "                review_id                 user_id             business_id  \\\n0  chtDBb_3unH0Wcs3W2Iahw  gSp5C3BfIVAHdH27rzoCDQ  RhuYqAT45uIR2NNdDsolXQ   \n1  -TeVNybQzUNYV9pkKUALBA  dR5K7ybTFxf-PobaCwKQXg  RhuYqAT45uIR2NNdDsolXQ   \n2  pPwyoEMDEQ5U9koJ8bF9Dg  PAc93PtEbYDtytBQ9Dyjug  RhuYqAT45uIR2NNdDsolXQ   \n3  UjBziQ2hYBtDMQZxp-_3AQ  BeMrTqigcLyK6LnVj5pugw  RhuYqAT45uIR2NNdDsolXQ   \n4  TaiGNDz0vE8lVNVu08SFZQ  F76i3Syqc_jTR2m2vXGwuQ  RhuYqAT45uIR2NNdDsolXQ   \n\n   rating  useful_x  funny_x  cool_x  \\\n0       5         1        0       1   \n1       3         1        0       0   \n2       3         1        0       1   \n3       5         1        0       0   \n4       4         1        0       0   \n\n                                                text                date  \\\n0  Some of the finest Mexican food I've had. The ... 2017-07-18 18:47:24   \n1  As far as tortillas go they're definitely 4 st... 2012-09-30 14:02:26   \n2  I loved  visiting this west part of Tucson, ne... 2010-10-11 23:46:07   \n3  Aka St. Marys Mexican Food. \\n\\nThis place has... 2014-10-21 21:41:33   \n4  Finally, there service has come around.  As I ... 2015-02-04 15:00:47   \n\n   week_day  ...  state  postal_code  latitude   longitude stars  \\\n0         1  ...     AZ        85745  32.22999 -110.987571   4.0   \n1         6  ...     AZ        85745  32.22999 -110.987571   4.0   \n2         0  ...     AZ        85745  32.22999 -110.987571   4.0   \n3         1  ...     AZ        85745  32.22999 -110.987571   4.0   \n4         2  ...     AZ        85745  32.22999 -110.987571   4.0   \n\n   review_count_y  is_open                                         attributes  \\\n0             207        1  {'RestaurantsAttire': \"u'casual'\", 'Restaurant...   \n1             207        1  {'RestaurantsAttire': \"u'casual'\", 'Restaurant...   \n2             207        1  {'RestaurantsAttire': \"u'casual'\", 'Restaurant...   \n3             207        1  {'RestaurantsAttire': \"u'casual'\", 'Restaurant...   \n4             207        1  {'RestaurantsAttire': \"u'casual'\", 'Restaurant...   \n\n             categories                                              hours  \n0  Restaurants, Mexican  {'Monday': '8:0-19:0', 'Tuesday': '8:0-19:0', ...  \n1  Restaurants, Mexican  {'Monday': '8:0-19:0', 'Tuesday': '8:0-19:0', ...  \n2  Restaurants, Mexican  {'Monday': '8:0-19:0', 'Tuesday': '8:0-19:0', ...  \n3  Restaurants, Mexican  {'Monday': '8:0-19:0', 'Tuesday': '8:0-19:0', ...  \n4  Restaurants, Mexican  {'Monday': '8:0-19:0', 'Tuesday': '8:0-19:0', ...  \n\n[5 rows x 46 columns]",
      "text/html": "<div>\n<style scoped>\n    .dataframe tbody tr th:only-of-type {\n        vertical-align: middle;\n    }\n\n    .dataframe tbody tr th {\n        vertical-align: top;\n    }\n\n    .dataframe thead th {\n        text-align: right;\n    }\n</style>\n<table border=\"1\" class=\"dataframe\">\n  <thead>\n    <tr style=\"text-align: right;\">\n      <th></th>\n      <th>review_id</th>\n      <th>user_id</th>\n      <th>business_id</th>\n      <th>rating</th>\n      <th>useful_x</th>\n      <th>funny_x</th>\n      <th>cool_x</th>\n      <th>text</th>\n      <th>date</th>\n      <th>week_day</th>\n      <th>...</th>\n      <th>state</th>\n      <th>postal_code</th>\n      <th>latitude</th>\n      <th>longitude</th>\n      <th>stars</th>\n      <th>review_count_y</th>\n      <th>is_open</th>\n      <th>attributes</th>\n      <th>categories</th>\n      <th>hours</th>\n    </tr>\n  </thead>\n  <tbody>\n    <tr>\n      <th>0</th>\n      <td>chtDBb_3unH0Wcs3W2Iahw</td>\n      <td>gSp5C3BfIVAHdH27rzoCDQ</td>\n      <td>RhuYqAT45uIR2NNdDsolXQ</td>\n      <td>5</td>\n      <td>1</td>\n      <td>0</td>\n      <td>1</td>\n      <td>Some of the finest Mexican food I've had. The ...</td>\n      <td>2017-07-18 18:47:24</td>\n      <td>1</td>\n      <td>...</td>\n      <td>AZ</td>\n      <td>85745</td>\n      <td>32.22999</td>\n      <td>-110.987571</td>\n      <td>4.0</td>\n      <td>207</td>\n      <td>1</td>\n      <td>{'RestaurantsAttire': \"u'casual'\", 'Restaurant...</td>\n      <td>Restaurants, Mexican</td>\n      <td>{'Monday': '8:0-19:0', 'Tuesday': '8:0-19:0', ...</td>\n    </tr>\n    <tr>\n      <th>1</th>\n      <td>-TeVNybQzUNYV9pkKUALBA</td>\n      <td>dR5K7ybTFxf-PobaCwKQXg</td>\n      <td>RhuYqAT45uIR2NNdDsolXQ</td>\n      <td>3</td>\n      <td>1</td>\n      <td>0</td>\n      <td>0</td>\n      <td>As far as tortillas go they're definitely 4 st...</td>\n      <td>2012-09-30 14:02:26</td>\n      <td>6</td>\n      <td>...</td>\n      <td>AZ</td>\n      <td>85745</td>\n      <td>32.22999</td>\n      <td>-110.987571</td>\n      <td>4.0</td>\n      <td>207</td>\n      <td>1</td>\n      <td>{'RestaurantsAttire': \"u'casual'\", 'Restaurant...</td>\n      <td>Restaurants, Mexican</td>\n      <td>{'Monday': '8:0-19:0', 'Tuesday': '8:0-19:0', ...</td>\n    </tr>\n    <tr>\n      <th>2</th>\n      <td>pPwyoEMDEQ5U9koJ8bF9Dg</td>\n      <td>PAc93PtEbYDtytBQ9Dyjug</td>\n      <td>RhuYqAT45uIR2NNdDsolXQ</td>\n      <td>3</td>\n      <td>1</td>\n      <td>0</td>\n      <td>1</td>\n      <td>I loved  visiting this west part of Tucson, ne...</td>\n      <td>2010-10-11 23:46:07</td>\n      <td>0</td>\n      <td>...</td>\n      <td>AZ</td>\n      <td>85745</td>\n      <td>32.22999</td>\n      <td>-110.987571</td>\n      <td>4.0</td>\n      <td>207</td>\n      <td>1</td>\n      <td>{'RestaurantsAttire': \"u'casual'\", 'Restaurant...</td>\n      <td>Restaurants, Mexican</td>\n      <td>{'Monday': '8:0-19:0', 'Tuesday': '8:0-19:0', ...</td>\n    </tr>\n    <tr>\n      <th>3</th>\n      <td>UjBziQ2hYBtDMQZxp-_3AQ</td>\n      <td>BeMrTqigcLyK6LnVj5pugw</td>\n      <td>RhuYqAT45uIR2NNdDsolXQ</td>\n      <td>5</td>\n      <td>1</td>\n      <td>0</td>\n      <td>0</td>\n      <td>Aka St. Marys Mexican Food. \\n\\nThis place has...</td>\n      <td>2014-10-21 21:41:33</td>\n      <td>1</td>\n      <td>...</td>\n      <td>AZ</td>\n      <td>85745</td>\n      <td>32.22999</td>\n      <td>-110.987571</td>\n      <td>4.0</td>\n      <td>207</td>\n      <td>1</td>\n      <td>{'RestaurantsAttire': \"u'casual'\", 'Restaurant...</td>\n      <td>Restaurants, Mexican</td>\n      <td>{'Monday': '8:0-19:0', 'Tuesday': '8:0-19:0', ...</td>\n    </tr>\n    <tr>\n      <th>4</th>\n      <td>TaiGNDz0vE8lVNVu08SFZQ</td>\n      <td>F76i3Syqc_jTR2m2vXGwuQ</td>\n      <td>RhuYqAT45uIR2NNdDsolXQ</td>\n      <td>4</td>\n      <td>1</td>\n      <td>0</td>\n      <td>0</td>\n      <td>Finally, there service has come around.  As I ...</td>\n      <td>2015-02-04 15:00:47</td>\n      <td>2</td>\n      <td>...</td>\n      <td>AZ</td>\n      <td>85745</td>\n      <td>32.22999</td>\n      <td>-110.987571</td>\n      <td>4.0</td>\n      <td>207</td>\n      <td>1</td>\n      <td>{'RestaurantsAttire': \"u'casual'\", 'Restaurant...</td>\n      <td>Restaurants, Mexican</td>\n      <td>{'Monday': '8:0-19:0', 'Tuesday': '8:0-19:0', ...</td>\n    </tr>\n  </tbody>\n</table>\n<p>5 rows × 46 columns</p>\n</div>"
     },
     "execution_count": 127,
     "metadata": {},
     "output_type": "execute_result"
    }
   ],
   "source": [
    "reviews_entire_df.head()\n"
   ],
   "metadata": {
    "collapsed": false,
    "ExecuteTime": {
     "end_time": "2023-10-08T21:29:01.283353Z",
     "start_time": "2023-10-08T21:29:00.460937300Z"
    }
   },
   "id": "51f0b376cd5e12d3"
  },
  {
   "cell_type": "code",
   "execution_count": 128,
   "outputs": [
    {
     "name": "stderr",
     "output_type": "stream",
     "text": [
      "C:\\Users\\joaqu\\AppData\\Local\\Temp\\ipykernel_7580\\1404869436.py:13: FutureWarning: The frame.append method is deprecated and will be removed from pandas in a future version. Use pandas.concat instead.\n",
      "  out = out.append(row)\n"
     ]
    }
   ],
   "source": [
    "unique_city_businesses = reviews_entire_df[['city','business_id']].drop_duplicates()\n",
    "unique_cities = unique_city_businesses.groupby('city').count()['business_id']\n",
    "#unique_cities = unique_cities[unique_cities > 100]\n",
    "out = pd.DataFrame()\n",
    "for city in unique_cities.index:\n",
    "    tmp = reviews_holdout[(reviews_holdout['city'] ==city) &\n",
    "                          (reviews_holdout['rating'] >reviews_holdout['average_stars'])]\n",
    "    if len(tmp['user_id'].unique())>4:\n",
    "\n",
    "        ###this weird sampling technique is to ensure we dont' sample the same user twice in a same city\n",
    "        five_users = np.random.choice(tmp['user_id'].unique(),5, replace = False)\n",
    "        row = tmp[tmp['user_id'].isin(five_users)].groupby('user_id', group_keys=False).apply(lambda df: df.sample(1))\n",
    "        out = out.append(row)"
   ],
   "metadata": {
    "collapsed": false,
    "ExecuteTime": {
     "end_time": "2023-10-08T21:29:01.283353Z",
     "start_time": "2023-10-08T21:29:00.492591500Z"
    }
   },
   "id": "a17ec39d6ec31012"
  },
  {
   "cell_type": "code",
   "execution_count": 129,
   "outputs": [],
   "source": [
    "predict_df = out[['user_id','city','state']]\n",
    "predict_df = predict_df.merge(unique_city_businesses, on = 'city')\n",
    "predict_df.to_csv('../datasets/filter_data/metric_sample.csv')"
   ],
   "metadata": {
    "collapsed": false,
    "ExecuteTime": {
     "end_time": "2023-10-08T21:29:01.283353Z",
     "start_time": "2023-10-08T21:29:00.539506300Z"
    }
   },
   "id": "70b9828696faf642"
  },
  {
   "cell_type": "code",
   "execution_count": 130,
   "outputs": [],
   "source": [
    "# random initialization, needs to be substituted by actual predictions later.\n",
    "predict_df['predictions'] = 2.5"
   ],
   "metadata": {
    "collapsed": false,
    "ExecuteTime": {
     "end_time": "2023-10-08T21:29:01.283353Z",
     "start_time": "2023-10-08T21:29:00.555134Z"
    }
   },
   "id": "97ddee1fdf88dbb7"
  },
  {
   "cell_type": "code",
   "execution_count": 131,
   "outputs": [],
   "source": [
    "def get_all_metrics(predict_df, validation_subsample, ratings_train_final):\n",
    "    top_10_recs = predict_df.groupby(['user_id','city'])['predictions'].nlargest(10).reset_index()\n",
    "    out = validation_subsample\n",
    "    cnt =0\n",
    "    serendipity = 0\n",
    "\n",
    "\n",
    "    for row in out.iterrows():\n",
    "        row_values = row[1]\n",
    "        top_10 = predict_df.loc[top_10_recs[top_10_recs['user_id'] == row_values['user_id']].level_2]['business_id']\n",
    "        ###In top 10\n",
    "        if row_values['business_id'] in top_10.values:\n",
    "            cnt+=1\n",
    "        user_history = ratings_train_final[ratings_train_final['user_id'] == row_values['user_id']]\n",
    "        been_there = [i for i in top_10.values if i in  user_history.business_id.values]\n",
    "        serendipity += 1-len(been_there)/10\n",
    "\n",
    "    top_10 = cnt/len(out)\n",
    "    serendipity = serendipity/len(out)\n",
    "\n",
    "    predict_df = predict_df.reset_index()\n",
    "\n",
    "    analysis_df = predict_df.merge(top_10_recs, left_on = ['user_id','city','index'], \\\n",
    "                                   right_on = ['user_id','city','level_2'])\n",
    "\n",
    "    coverage = (analysis_df.groupby('city')['business_id'].nunique()/50).values.mean()\n",
    "\n",
    "    predict_df['rankings']=predict_df.groupby(['city','user_id'])['predictions']. \\\n",
    "        rank(method=\"first\",ascending = False)\n",
    "    running_rankings =0\n",
    "    for row in out.iterrows():\n",
    "        row_values = row[1]\n",
    "        user_recs = predict_df[(predict_df['user_id']==row_values['user_id'])\n",
    "                               &(predict_df['city']==row_values['city'])\n",
    "                               & (predict_df['business_id']==row_values['business_id'])\n",
    "                               ]\n",
    "        assert len(user_recs)==1\n",
    "        running_rankings += user_recs['rankings'].sum()\n",
    "\n",
    "    avg_rank = running_rankings / len(out)\n",
    "    print(top_10, coverage, serendipity, avg_rank)\n",
    "\n",
    "    return top_10, coverage, serendipity, avg_rank\n"
   ],
   "metadata": {
    "collapsed": false,
    "ExecuteTime": {
     "end_time": "2023-10-08T21:29:01.283353Z",
     "start_time": "2023-10-08T21:29:00.570757100Z"
    }
   },
   "id": "efbc80be8bc1dcf4"
  },
  {
   "cell_type": "markdown",
   "source": [
    "Baseline models\n",
    "Baseline 1: Bias Baseline"
   ],
   "metadata": {
    "collapsed": false
   },
   "id": "fdcc85d3c0e57f08"
  },
  {
   "cell_type": "code",
   "execution_count": 132,
   "outputs": [],
   "source": [
    "from surprise import SVD\n",
    "from surprise import accuracy\n",
    "from surprise import Reader\n",
    "from surprise.model_selection import GridSearchCV\n",
    "from surprise import Dataset\n",
    "from surprise import BaselineOnly\n",
    "\n",
    "from sklearn.metrics import r2_score\n",
    "from sklearn.metrics import mean_absolute_error"
   ],
   "metadata": {
    "collapsed": false,
    "ExecuteTime": {
     "end_time": "2023-10-08T21:29:01.283353Z",
     "start_time": "2023-10-08T21:29:00.586824900Z"
    }
   },
   "id": "6bce4e9a1be2c300"
  },
  {
   "cell_type": "code",
   "execution_count": 133,
   "outputs": [],
   "source": [
    "def process(df):\n",
    "    df['date']  = pd.to_datetime(df['date'])\n",
    "    df['week_day'] = df['date'].dt.weekday\n",
    "    df['month'] = df['date'].dt.month\n",
    "    df['hour'] = df['date'].dt.hour\n",
    "    df = df.merge(users, on = 'user_id')\n",
    "    df = df.merge(df_res_bus, on = 'business_id')\n",
    "    rename_dict = {'business_longitude': 'longitude', 'business_latitude': 'latitude',\n",
    "                   'business_state':'state','business_city':'city', 'business_address': 'address'}\n",
    "    df = df.rename(columns = rename_dict)\n",
    "    return df\n",
    "\n",
    "reviews_train = process(reviews_train_.copy())\n",
    "reviews_test = process(reviews_holdout_.copy())\n",
    "reviews_val = process(reviews_cv_.copy())"
   ],
   "metadata": {
    "collapsed": false,
    "ExecuteTime": {
     "end_time": "2023-10-08T21:29:01.283353Z",
     "start_time": "2023-10-08T21:29:00.602455900Z"
    }
   },
   "id": "70bc4806c7a325cc"
  },
  {
   "cell_type": "code",
   "execution_count": 134,
   "outputs": [],
   "source": [
    "# remove observations that may cause cold-start problem, which breaks the model.\n",
    "reviews_test = reviews_test.loc[reviews_test.business_id.isin(reviews_train.business_id)]\n",
    "reviews_val = reviews_val.loc[reviews_val.business_id.isin(reviews_train.business_id)]"
   ],
   "metadata": {
    "collapsed": false,
    "ExecuteTime": {
     "end_time": "2023-10-08T21:29:01.285057300Z",
     "start_time": "2023-10-08T21:29:00.774657100Z"
    }
   },
   "id": "36f646f32928b3c4"
  },
  {
   "cell_type": "code",
   "execution_count": 135,
   "outputs": [],
   "source": [
    "trainset = reviews_train.loc[:,['user_id', 'business_id', 'rating']]\n",
    "trainset.columns = ['userID', 'itemID','rating']\n",
    "valset = reviews_val.loc[:, ['user_id', 'business_id', 'rating']]\n",
    "valset.columns = ['userID', 'itemID','rating']\n",
    "testset = reviews_holdout.loc[:, ['user_id', 'business_id', 'rating']]\n",
    "testset.columns = ['userID', 'itemID','rating']"
   ],
   "metadata": {
    "collapsed": false,
    "ExecuteTime": {
     "end_time": "2023-10-08T21:29:01.285057300Z",
     "start_time": "2023-10-08T21:29:00.790709Z"
    }
   },
   "id": "37a60e7e457716e0"
  },
  {
   "cell_type": "code",
   "execution_count": 136,
   "outputs": [],
   "source": [
    "reader = Reader(rating_scale = (0.0, 5.0))\n",
    "train_data = Dataset.load_from_df(trainset[['userID','itemID','rating']], reader)\n",
    "val_data = Dataset.load_from_df(valset[['userID','itemID','rating']], reader)\n",
    "test_data = Dataset.load_from_df(testset[['userID','itemID','rating']], reader)\n",
    "\n",
    "train_sr = train_data.build_full_trainset()\n",
    "val_sr_before = val_data.build_full_trainset()\n",
    "val_sr = val_sr_before.build_testset()\n",
    "test_sr_before = test_data.build_full_trainset()\n",
    "test_sr = test_sr_before.build_testset()"
   ],
   "metadata": {
    "collapsed": false,
    "ExecuteTime": {
     "end_time": "2023-10-08T21:29:01.285057300Z",
     "start_time": "2023-10-08T21:29:00.806376900Z"
    }
   },
   "id": "a53b753c4bba6701"
  },
  {
   "cell_type": "code",
   "execution_count": 137,
   "outputs": [
    {
     "name": "stdout",
     "output_type": "stream",
     "text": [
      "Estimating biases using als...\n",
      "MAE:  1.0329\n",
      "RMSE: 1.2524\n"
     ]
    },
    {
     "data": {
      "text/plain": "1.252377613986122"
     },
     "execution_count": 137,
     "metadata": {},
     "output_type": "execute_result"
    }
   ],
   "source": [
    "bsl_options = {'method': 'als', 'n_epochs':3}\n",
    "bias_baseline = BaselineOnly(bsl_options)\n",
    "bias_baseline.fit(train_sr)\n",
    "predictions = bias_baseline.test(val_sr)\n",
    "accuracy.mae(predictions)\n",
    "accuracy.rmse(predictions)"
   ],
   "metadata": {
    "collapsed": false,
    "ExecuteTime": {
     "end_time": "2023-10-08T21:29:01.285444600Z",
     "start_time": "2023-10-08T21:29:00.868872900Z"
    }
   },
   "id": "d5e5a27f754a63b7"
  },
  {
   "cell_type": "code",
   "execution_count": 138,
   "outputs": [],
   "source": [
    "#predictions_B1=pd.head()"
   ],
   "metadata": {
    "collapsed": false,
    "ExecuteTime": {
     "end_time": "2023-10-08T21:29:01.285444600Z",
     "start_time": "2023-10-08T21:29:00.900555500Z"
    }
   },
   "id": "14e05b27df03b08"
  },
  {
   "cell_type": "code",
   "execution_count": 139,
   "outputs": [
    {
     "name": "stdout",
     "output_type": "stream",
     "text": [
      "Estimating biases using als...\n",
      "MAE:  1.0328\n",
      "RMSE: 1.2524\n"
     ]
    },
    {
     "data": {
      "text/plain": "1.2523559556843937"
     },
     "execution_count": 139,
     "metadata": {},
     "output_type": "execute_result"
    }
   ],
   "source": [
    "bsl_options = {'method': 'als', 'n_epochs':5}\n",
    "bias_baseline = BaselineOnly(bsl_options)\n",
    "bias_baseline.fit(train_sr)\n",
    "predictions = bias_baseline.test(val_sr)\n",
    "accuracy.mae(predictions)\n",
    "accuracy.rmse(predictions)"
   ],
   "metadata": {
    "collapsed": false,
    "ExecuteTime": {
     "end_time": "2023-10-08T21:29:01.285444600Z",
     "start_time": "2023-10-08T21:29:00.916179600Z"
    }
   },
   "id": "840458a846f13da6"
  },
  {
   "cell_type": "code",
   "execution_count": 140,
   "outputs": [
    {
     "name": "stdout",
     "output_type": "stream",
     "text": [
      "Estimating biases using als...\n",
      "MAE:  1.0328\n",
      "RMSE: 1.2524\n"
     ]
    },
    {
     "data": {
      "text/plain": "1.2523547149833716"
     },
     "execution_count": 140,
     "metadata": {},
     "output_type": "execute_result"
    }
   ],
   "source": [
    "bsl_options = {'method': 'als', 'n_epochs':9}\n",
    "bias_baseline = BaselineOnly(bsl_options)\n",
    "bias_baseline.fit(train_sr)\n",
    "predictions = bias_baseline.test(val_sr)\n",
    "accuracy.mae(predictions)\n",
    "accuracy.rmse(predictions)"
   ],
   "metadata": {
    "collapsed": false,
    "ExecuteTime": {
     "end_time": "2023-10-08T21:29:01.285444600Z",
     "start_time": "2023-10-08T21:29:00.947463300Z"
    }
   },
   "id": "62b73d7ec45ca73a"
  },
  {
   "cell_type": "markdown",
   "source": [
    "Observation: It seems different hyperparameters all performs the same result; the team just uses default."
   ],
   "metadata": {
    "collapsed": false
   },
   "id": "4b0986df2f112fe9"
  },
  {
   "cell_type": "markdown",
   "source": [
    "Evaluation\n",
    "Note: evaluated 20%, 50%, 100% training data respectively. For readability, only result on 20% data is displayed."
   ],
   "metadata": {
    "collapsed": false
   },
   "id": "51420419d0bfc09e"
  },
  {
   "cell_type": "code",
   "execution_count": 141,
   "outputs": [
    {
     "name": "stdout",
     "output_type": "stream",
     "text": [
      "Estimating biases using als...\n",
      "--- 0.004010438919067383 seconds ---\n"
     ]
    }
   ],
   "source": [
    "# runtime on 20% data\n",
    "start_time = time.time()\n",
    "bias_baseline.fit(train_sr)\n",
    "print(\"--- %s seconds ---\" % (time.time() - start_time))"
   ],
   "metadata": {
    "collapsed": false,
    "ExecuteTime": {
     "end_time": "2023-10-08T21:29:01.285444600Z",
     "start_time": "2023-10-08T21:29:00.978679800Z"
    }
   },
   "id": "4e8612f3c3eacd40"
  },
  {
   "cell_type": "code",
   "execution_count": 142,
   "outputs": [
    {
     "name": "stdout",
     "output_type": "stream",
     "text": [
      "RMSE: 1.3060\n",
      "R^2 (with 20% data):  0.13139060072584285\n",
      "MAE (with 20% data):  1.081724371886631\n",
      "--- 0.0 seconds ---\n"
     ]
    }
   ],
   "source": [
    "# Regression metrics \n",
    "bbase_p = bias_baseline.test(test_sr)\n",
    "start_time = time.time()\n",
    "bbase_20_df = pd.DataFrame(bbase_p, columns = ['userId','itemId','rating','pred_rating','x'])\n",
    "accuracy.rmse(bbase_p)\n",
    "print('R^2 (with 20% data): ', r2_score(bbase_20_df.rating , bbase_20_df.pred_rating))\n",
    "print('MAE (with 20% data): ', mean_absolute_error(bbase_20_df.rating, bbase_20_df.pred_rating))\n",
    "print(\"--- %s seconds ---\" % (time.time() - start_time))"
   ],
   "metadata": {
    "collapsed": false,
    "ExecuteTime": {
     "end_time": "2023-10-08T21:29:01.285444600Z",
     "start_time": "2023-10-08T21:29:00.994695900Z"
    }
   },
   "id": "20361909dc473de7"
  },
  {
   "cell_type": "code",
   "execution_count": 143,
   "outputs": [
    {
     "name": "stdout",
     "output_type": "stream",
     "text": [
      "Estimating biases using als...\n"
     ]
    }
   ],
   "source": [
    "# Ranking + coverage + novelty metrics\n",
    "predict_df_baseline = predict_df.copy()\n",
    "eval_set = Dataset.load_from_df(predict_df_baseline[['user_id','business_id','predictions']], reader)\n",
    "\n",
    "bias_basline = BaselineOnly({'method': 'als', 'n_epochs':9})\n",
    "eval_before = eval_set.build_full_trainset()\n",
    "eval_sr = eval_before.build_testset()\n",
    "bias_basline.fit(train_sr)\n",
    "eval_pred = bias_basline.test(eval_sr)\n",
    "#accuracy.rmse(predictions_50)\n",
    "baseline_20 = pd.DataFrame(eval_pred, columns = ['userId','itemId','rating','pred_rating','x'])\n",
    "predict_df_baseline['predictions'] = baseline_20.pred_rating"
   ],
   "metadata": {
    "collapsed": false,
    "ExecuteTime": {
     "end_time": "2023-10-08T21:29:01.285444600Z",
     "start_time": "2023-10-08T21:29:01.072827900Z"
    }
   },
   "id": "a7d5e3a06cba6178"
  },
  {
   "cell_type": "code",
   "execution_count": 144,
   "outputs": [
    {
     "name": "stdout",
     "output_type": "stream",
     "text": [
      "0.0 0.2 0.96 281.2\n"
     ]
    }
   ],
   "source": [
    "top_10, coverage, serendipity, avg_rank = get_all_metrics(predict_df_baseline, out, reviews_train_final)"
   ],
   "metadata": {
    "collapsed": false,
    "ExecuteTime": {
     "end_time": "2023-10-08T21:29:01.285444600Z",
     "start_time": "2023-10-08T21:29:01.120140Z"
    }
   },
   "id": "282bbb3647b42821"
  },
  {
   "cell_type": "code",
   "execution_count": 145,
   "outputs": [
    {
     "data": {
      "text/plain": "                   user_id    city state             business_id  predictions\n0   lL3xb3wLEk56V63w5B8v7g  Tucson    AZ  RhuYqAT45uIR2NNdDsolXQ     3.854539\n1   lL3xb3wLEk56V63w5B8v7g  Tucson    AZ  U3aNQ5DsABPYyJQolsCbJg     4.010968\n2   lL3xb3wLEk56V63w5B8v7g  Tucson    AZ  WbA5ud4InNWkizW7HE5kRQ     3.830000\n3   lL3xb3wLEk56V63w5B8v7g  Tucson    AZ  sr5A1frZiTRediG8FLEkdw     3.135780\n4   lL3xb3wLEk56V63w5B8v7g  Tucson    AZ  AVBqx8FaXza6x-bb_FLOTQ     4.431042\n5   lL3xb3wLEk56V63w5B8v7g  Tucson    AZ  UvDud4vaI7l_JlBV3E1mHg     3.916563\n6   lL3xb3wLEk56V63w5B8v7g  Tucson    AZ  4QMIJJWQOh7zpEwOXhFJqw     4.417232\n7   lL3xb3wLEk56V63w5B8v7g  Tucson    AZ  V9XlikTxq0My4gE8LULsjw     3.122705\n8   lL3xb3wLEk56V63w5B8v7g  Tucson    AZ  f82dhKNiUXsDVPMLqKYiIQ     4.345333\n9   lL3xb3wLEk56V63w5B8v7g  Tucson    AZ  wa_bwyY57etHjtJ2Fw0E3g     3.536158\n10  lL3xb3wLEk56V63w5B8v7g  Tucson    AZ  CA5BOxKRDPGJgdUQ8OUOpw     4.182759\n11  lL3xb3wLEk56V63w5B8v7g  Tucson    AZ  DK98TgLNmIguxMMPGlyb5w     4.148591\n12  lL3xb3wLEk56V63w5B8v7g  Tucson    AZ  1c93YzZL5pke1sJCFndPGw     3.687773\n13  lL3xb3wLEk56V63w5B8v7g  Tucson    AZ  ZCkc45yLiM93rWxroR54_Q     4.067240\n14  lL3xb3wLEk56V63w5B8v7g  Tucson    AZ  z0RrXXMvLyncxFmtxegK1Q     3.859250\n15  lL3xb3wLEk56V63w5B8v7g  Tucson    AZ  LZzDvgfpkd4nI3E4L9wF1w     3.776953\n16  lL3xb3wLEk56V63w5B8v7g  Tucson    AZ  dK10D96iGeHuTQzR8aG90Q     4.190270\n17  lL3xb3wLEk56V63w5B8v7g  Tucson    AZ  z67ktHxCJ3-Ebs3zooegSg     3.707815\n18  lL3xb3wLEk56V63w5B8v7g  Tucson    AZ  nmkch1Q89DdFRXF1a-OgIg     4.132627\n19  lL3xb3wLEk56V63w5B8v7g  Tucson    AZ  aAyCUTc7y9ZIN1OZ7tGe6Q     3.819708",
      "text/html": "<div>\n<style scoped>\n    .dataframe tbody tr th:only-of-type {\n        vertical-align: middle;\n    }\n\n    .dataframe tbody tr th {\n        vertical-align: top;\n    }\n\n    .dataframe thead th {\n        text-align: right;\n    }\n</style>\n<table border=\"1\" class=\"dataframe\">\n  <thead>\n    <tr style=\"text-align: right;\">\n      <th></th>\n      <th>user_id</th>\n      <th>city</th>\n      <th>state</th>\n      <th>business_id</th>\n      <th>predictions</th>\n    </tr>\n  </thead>\n  <tbody>\n    <tr>\n      <th>0</th>\n      <td>lL3xb3wLEk56V63w5B8v7g</td>\n      <td>Tucson</td>\n      <td>AZ</td>\n      <td>RhuYqAT45uIR2NNdDsolXQ</td>\n      <td>3.854539</td>\n    </tr>\n    <tr>\n      <th>1</th>\n      <td>lL3xb3wLEk56V63w5B8v7g</td>\n      <td>Tucson</td>\n      <td>AZ</td>\n      <td>U3aNQ5DsABPYyJQolsCbJg</td>\n      <td>4.010968</td>\n    </tr>\n    <tr>\n      <th>2</th>\n      <td>lL3xb3wLEk56V63w5B8v7g</td>\n      <td>Tucson</td>\n      <td>AZ</td>\n      <td>WbA5ud4InNWkizW7HE5kRQ</td>\n      <td>3.830000</td>\n    </tr>\n    <tr>\n      <th>3</th>\n      <td>lL3xb3wLEk56V63w5B8v7g</td>\n      <td>Tucson</td>\n      <td>AZ</td>\n      <td>sr5A1frZiTRediG8FLEkdw</td>\n      <td>3.135780</td>\n    </tr>\n    <tr>\n      <th>4</th>\n      <td>lL3xb3wLEk56V63w5B8v7g</td>\n      <td>Tucson</td>\n      <td>AZ</td>\n      <td>AVBqx8FaXza6x-bb_FLOTQ</td>\n      <td>4.431042</td>\n    </tr>\n    <tr>\n      <th>5</th>\n      <td>lL3xb3wLEk56V63w5B8v7g</td>\n      <td>Tucson</td>\n      <td>AZ</td>\n      <td>UvDud4vaI7l_JlBV3E1mHg</td>\n      <td>3.916563</td>\n    </tr>\n    <tr>\n      <th>6</th>\n      <td>lL3xb3wLEk56V63w5B8v7g</td>\n      <td>Tucson</td>\n      <td>AZ</td>\n      <td>4QMIJJWQOh7zpEwOXhFJqw</td>\n      <td>4.417232</td>\n    </tr>\n    <tr>\n      <th>7</th>\n      <td>lL3xb3wLEk56V63w5B8v7g</td>\n      <td>Tucson</td>\n      <td>AZ</td>\n      <td>V9XlikTxq0My4gE8LULsjw</td>\n      <td>3.122705</td>\n    </tr>\n    <tr>\n      <th>8</th>\n      <td>lL3xb3wLEk56V63w5B8v7g</td>\n      <td>Tucson</td>\n      <td>AZ</td>\n      <td>f82dhKNiUXsDVPMLqKYiIQ</td>\n      <td>4.345333</td>\n    </tr>\n    <tr>\n      <th>9</th>\n      <td>lL3xb3wLEk56V63w5B8v7g</td>\n      <td>Tucson</td>\n      <td>AZ</td>\n      <td>wa_bwyY57etHjtJ2Fw0E3g</td>\n      <td>3.536158</td>\n    </tr>\n    <tr>\n      <th>10</th>\n      <td>lL3xb3wLEk56V63w5B8v7g</td>\n      <td>Tucson</td>\n      <td>AZ</td>\n      <td>CA5BOxKRDPGJgdUQ8OUOpw</td>\n      <td>4.182759</td>\n    </tr>\n    <tr>\n      <th>11</th>\n      <td>lL3xb3wLEk56V63w5B8v7g</td>\n      <td>Tucson</td>\n      <td>AZ</td>\n      <td>DK98TgLNmIguxMMPGlyb5w</td>\n      <td>4.148591</td>\n    </tr>\n    <tr>\n      <th>12</th>\n      <td>lL3xb3wLEk56V63w5B8v7g</td>\n      <td>Tucson</td>\n      <td>AZ</td>\n      <td>1c93YzZL5pke1sJCFndPGw</td>\n      <td>3.687773</td>\n    </tr>\n    <tr>\n      <th>13</th>\n      <td>lL3xb3wLEk56V63w5B8v7g</td>\n      <td>Tucson</td>\n      <td>AZ</td>\n      <td>ZCkc45yLiM93rWxroR54_Q</td>\n      <td>4.067240</td>\n    </tr>\n    <tr>\n      <th>14</th>\n      <td>lL3xb3wLEk56V63w5B8v7g</td>\n      <td>Tucson</td>\n      <td>AZ</td>\n      <td>z0RrXXMvLyncxFmtxegK1Q</td>\n      <td>3.859250</td>\n    </tr>\n    <tr>\n      <th>15</th>\n      <td>lL3xb3wLEk56V63w5B8v7g</td>\n      <td>Tucson</td>\n      <td>AZ</td>\n      <td>LZzDvgfpkd4nI3E4L9wF1w</td>\n      <td>3.776953</td>\n    </tr>\n    <tr>\n      <th>16</th>\n      <td>lL3xb3wLEk56V63w5B8v7g</td>\n      <td>Tucson</td>\n      <td>AZ</td>\n      <td>dK10D96iGeHuTQzR8aG90Q</td>\n      <td>4.190270</td>\n    </tr>\n    <tr>\n      <th>17</th>\n      <td>lL3xb3wLEk56V63w5B8v7g</td>\n      <td>Tucson</td>\n      <td>AZ</td>\n      <td>z67ktHxCJ3-Ebs3zooegSg</td>\n      <td>3.707815</td>\n    </tr>\n    <tr>\n      <th>18</th>\n      <td>lL3xb3wLEk56V63w5B8v7g</td>\n      <td>Tucson</td>\n      <td>AZ</td>\n      <td>nmkch1Q89DdFRXF1a-OgIg</td>\n      <td>4.132627</td>\n    </tr>\n    <tr>\n      <th>19</th>\n      <td>lL3xb3wLEk56V63w5B8v7g</td>\n      <td>Tucson</td>\n      <td>AZ</td>\n      <td>aAyCUTc7y9ZIN1OZ7tGe6Q</td>\n      <td>3.819708</td>\n    </tr>\n  </tbody>\n</table>\n</div>"
     },
     "execution_count": 145,
     "metadata": {},
     "output_type": "execute_result"
    }
   ],
   "source": [
    "predict_df_baseline.head(20)"
   ],
   "metadata": {
    "collapsed": false,
    "ExecuteTime": {
     "end_time": "2023-10-08T21:29:01.285444600Z",
     "start_time": "2023-10-08T21:29:01.166985300Z"
    }
   },
   "id": "b465f5f9666b3325"
  },
  {
   "cell_type": "code",
   "execution_count": 146,
   "outputs": [
    {
     "data": {
      "text/plain": "business_id\nCJoO4HYD0tZRXlZqA04wmw    4.592382\n3qsHL1xuMPlPqQciHNYkeg    4.546472\nDVBJRvnCpkqaYl6nHroaMg    4.544858\njh8j-DWqgWkbRe_a2XtKFQ    4.527900\n6OwxdpajDSJi3DkMqkr2sw    4.499960\nLQcGL4hfJAeK6bk2ZdhmXw    4.469128\nH5nMeiXJmLpBALeV8A-FeQ    4.467040\nocjotK9u5F3E4CVXD_iNPw    4.434644\n2VPX222bhizLlWZrLQL3PQ    4.422286\niKLhnstKcsUILIaOHwhJ8Q    4.420906\nName: predictions, dtype: float64"
     },
     "execution_count": 146,
     "metadata": {},
     "output_type": "execute_result"
    }
   ],
   "source": [
    "top10_baseline=predict_df_baseline.groupby('business_id')[\"predictions\"].mean()\n",
    "top10_baseline.sort_values(ascending=False).head(10)"
   ],
   "metadata": {
    "collapsed": false,
    "ExecuteTime": {
     "end_time": "2023-10-08T21:29:01.285444600Z",
     "start_time": "2023-10-08T21:29:01.183129400Z"
    }
   },
   "id": "4fd1e053d7d4e096"
  },
  {
   "cell_type": "code",
   "execution_count": 147,
   "outputs": [
    {
     "name": "stdout",
     "output_type": "stream",
     "text": [
      "<class 'pandas.core.frame.DataFrame'>\n"
     ]
    }
   ],
   "source": [
    "resultado_baseline=top10_baseline.to_frame()\n",
    "print(type(resultado_baseline))"
   ],
   "metadata": {
    "collapsed": false,
    "ExecuteTime": {
     "end_time": "2023-10-08T21:29:01.285444600Z",
     "start_time": "2023-10-08T21:29:01.198635200Z"
    }
   },
   "id": "8a055601d58a291d"
  },
  {
   "cell_type": "code",
   "execution_count": 148,
   "outputs": [
    {
     "data": {
      "text/plain": "              business_id  predictions             restaurant\n0  -0G_6-KFGpCpxTUlVXCMYQ     3.783724               Gio Taco\n1  -1MhPXk1FglglUAmuPLIGg     4.059673      Red Garter Saloon\n2  -3-6BB10tIWNKGEF0Es2BA     3.628594  The 81 Hong Kong Cafe\n3  -OX0MJDPRHV0RCRvwYnvBQ     4.408467             NI HAO TEA\n4  -SZ-p4o6gJPOJ--HA3NKcw     3.451492          Nimbus Bistro\n5  -TzFN6nWvbVRARY2B11Epg     3.923597            Mimi's Cafe\n6  -iGzevsRYAi990-Lt-iMoQ     3.636908               US Fries\n7  -lHpvtlMkRu0oRIXJkystA     3.703990              Bistro 44\n8  -pRU97z3uPU_M7yUf5yzMg     3.582146                Micha's\n9  -xtnwq4VBA2XFobjDGz0Ww     3.581302            Red Lobster",
      "text/html": "<div>\n<style scoped>\n    .dataframe tbody tr th:only-of-type {\n        vertical-align: middle;\n    }\n\n    .dataframe tbody tr th {\n        vertical-align: top;\n    }\n\n    .dataframe thead th {\n        text-align: right;\n    }\n</style>\n<table border=\"1\" class=\"dataframe\">\n  <thead>\n    <tr style=\"text-align: right;\">\n      <th></th>\n      <th>business_id</th>\n      <th>predictions</th>\n      <th>restaurant</th>\n    </tr>\n  </thead>\n  <tbody>\n    <tr>\n      <th>0</th>\n      <td>-0G_6-KFGpCpxTUlVXCMYQ</td>\n      <td>3.783724</td>\n      <td>Gio Taco</td>\n    </tr>\n    <tr>\n      <th>1</th>\n      <td>-1MhPXk1FglglUAmuPLIGg</td>\n      <td>4.059673</td>\n      <td>Red Garter Saloon</td>\n    </tr>\n    <tr>\n      <th>2</th>\n      <td>-3-6BB10tIWNKGEF0Es2BA</td>\n      <td>3.628594</td>\n      <td>The 81 Hong Kong Cafe</td>\n    </tr>\n    <tr>\n      <th>3</th>\n      <td>-OX0MJDPRHV0RCRvwYnvBQ</td>\n      <td>4.408467</td>\n      <td>NI HAO TEA</td>\n    </tr>\n    <tr>\n      <th>4</th>\n      <td>-SZ-p4o6gJPOJ--HA3NKcw</td>\n      <td>3.451492</td>\n      <td>Nimbus Bistro</td>\n    </tr>\n    <tr>\n      <th>5</th>\n      <td>-TzFN6nWvbVRARY2B11Epg</td>\n      <td>3.923597</td>\n      <td>Mimi's Cafe</td>\n    </tr>\n    <tr>\n      <th>6</th>\n      <td>-iGzevsRYAi990-Lt-iMoQ</td>\n      <td>3.636908</td>\n      <td>US Fries</td>\n    </tr>\n    <tr>\n      <th>7</th>\n      <td>-lHpvtlMkRu0oRIXJkystA</td>\n      <td>3.703990</td>\n      <td>Bistro 44</td>\n    </tr>\n    <tr>\n      <th>8</th>\n      <td>-pRU97z3uPU_M7yUf5yzMg</td>\n      <td>3.582146</td>\n      <td>Micha's</td>\n    </tr>\n    <tr>\n      <th>9</th>\n      <td>-xtnwq4VBA2XFobjDGz0Ww</td>\n      <td>3.581302</td>\n      <td>Red Lobster</td>\n    </tr>\n  </tbody>\n</table>\n</div>"
     },
     "execution_count": 148,
     "metadata": {},
     "output_type": "execute_result"
    }
   ],
   "source": [
    "df_join_baseline=resultado_baseline.merge(df_res_bus[[\"business_id\",\"restaurant\"]],how=\"inner\",on=\"business_id\")\n",
    "df_join_baseline.head(10)"
   ],
   "metadata": {
    "collapsed": false,
    "ExecuteTime": {
     "end_time": "2023-10-08T21:29:01.285444600Z",
     "start_time": "2023-10-08T21:29:01.214267100Z"
    }
   },
   "id": "916302a4ee3deee0"
  },
  {
   "cell_type": "code",
   "execution_count": 149,
   "outputs": [
    {
     "data": {
      "text/plain": "                business_id  predictions                      restaurant\n151  CJoO4HYD0tZRXlZqA04wmw     4.592382                Crave Coffee Bar\n53   3qsHL1xuMPlPqQciHNYkeg     4.546472                          Anello\n160  DVBJRvnCpkqaYl6nHroaMg     4.544858                        Tumerico\n515  jh8j-DWqgWkbRe_a2XtKFQ     4.527900                    Barrio Bread\n90   6OwxdpajDSJi3DkMqkr2sw     4.499960              Barista Del Barrio\n..                      ...          ...                             ...\n94   6zxPHDdLUNhCSLSeHlCVNg     2.877809  Something Sweet Dessert Lounge\n475  gIIZQRP878_yceemj2bK_A     2.826082       HI FI Kitchen & Cocktails\n641  vpc5PFLMo0oJQzuNZaSlyA     2.814007          Applebee's Grill + Bar\n150  CJe2beFHYTOG0-0-dqAIrg     2.796827            Native Grill & Wings\n434  dEMsUFNB4ckBFdB90jKLEA     2.698528                      Fuku Sushi\n\n[702 rows x 3 columns]",
      "text/html": "<div>\n<style scoped>\n    .dataframe tbody tr th:only-of-type {\n        vertical-align: middle;\n    }\n\n    .dataframe tbody tr th {\n        vertical-align: top;\n    }\n\n    .dataframe thead th {\n        text-align: right;\n    }\n</style>\n<table border=\"1\" class=\"dataframe\">\n  <thead>\n    <tr style=\"text-align: right;\">\n      <th></th>\n      <th>business_id</th>\n      <th>predictions</th>\n      <th>restaurant</th>\n    </tr>\n  </thead>\n  <tbody>\n    <tr>\n      <th>151</th>\n      <td>CJoO4HYD0tZRXlZqA04wmw</td>\n      <td>4.592382</td>\n      <td>Crave Coffee Bar</td>\n    </tr>\n    <tr>\n      <th>53</th>\n      <td>3qsHL1xuMPlPqQciHNYkeg</td>\n      <td>4.546472</td>\n      <td>Anello</td>\n    </tr>\n    <tr>\n      <th>160</th>\n      <td>DVBJRvnCpkqaYl6nHroaMg</td>\n      <td>4.544858</td>\n      <td>Tumerico</td>\n    </tr>\n    <tr>\n      <th>515</th>\n      <td>jh8j-DWqgWkbRe_a2XtKFQ</td>\n      <td>4.527900</td>\n      <td>Barrio Bread</td>\n    </tr>\n    <tr>\n      <th>90</th>\n      <td>6OwxdpajDSJi3DkMqkr2sw</td>\n      <td>4.499960</td>\n      <td>Barista Del Barrio</td>\n    </tr>\n    <tr>\n      <th>...</th>\n      <td>...</td>\n      <td>...</td>\n      <td>...</td>\n    </tr>\n    <tr>\n      <th>94</th>\n      <td>6zxPHDdLUNhCSLSeHlCVNg</td>\n      <td>2.877809</td>\n      <td>Something Sweet Dessert Lounge</td>\n    </tr>\n    <tr>\n      <th>475</th>\n      <td>gIIZQRP878_yceemj2bK_A</td>\n      <td>2.826082</td>\n      <td>HI FI Kitchen &amp; Cocktails</td>\n    </tr>\n    <tr>\n      <th>641</th>\n      <td>vpc5PFLMo0oJQzuNZaSlyA</td>\n      <td>2.814007</td>\n      <td>Applebee's Grill + Bar</td>\n    </tr>\n    <tr>\n      <th>150</th>\n      <td>CJe2beFHYTOG0-0-dqAIrg</td>\n      <td>2.796827</td>\n      <td>Native Grill &amp; Wings</td>\n    </tr>\n    <tr>\n      <th>434</th>\n      <td>dEMsUFNB4ckBFdB90jKLEA</td>\n      <td>2.698528</td>\n      <td>Fuku Sushi</td>\n    </tr>\n  </tbody>\n</table>\n<p>702 rows × 3 columns</p>\n</div>"
     },
     "execution_count": 149,
     "metadata": {},
     "output_type": "execute_result"
    }
   ],
   "source": [
    "df_join_baseline.sort_values(by=\"predictions\", ascending=False)"
   ],
   "metadata": {
    "collapsed": false,
    "ExecuteTime": {
     "end_time": "2023-10-08T21:29:01.285444600Z",
     "start_time": "2023-10-08T21:29:01.229904100Z"
    }
   },
   "id": "ff50f2f6d5379720"
  },
  {
   "cell_type": "markdown",
   "source": [
    "Baseline 2: Collaborative Filtering via SVD"
   ],
   "metadata": {
    "collapsed": false
   },
   "id": "3f2b1b6d13c54821"
  },
  {
   "cell_type": "code",
   "execution_count": 150,
   "outputs": [],
   "source": [
    "import matplotlib.pyplot as plt\n",
    "import json\n",
    "from tqdm import tqdm"
   ],
   "metadata": {
    "collapsed": false,
    "ExecuteTime": {
     "end_time": "2023-10-08T21:29:01.503267700Z",
     "start_time": "2023-10-08T21:29:01.245539Z"
    }
   },
   "id": "de3b4eaef82c3707"
  },
  {
   "cell_type": "code",
   "execution_count": 151,
   "outputs": [],
   "source": [
    "def process(df):\n",
    "    df['date']  = pd.to_datetime(df['date'])\n",
    "    df['week_day'] = df['date'].dt.weekday\n",
    "    df['month'] = df['date'].dt.month\n",
    "    df['hour'] = df['date'].dt.hour\n",
    "    df = df.merge(users, on = 'user_id')\n",
    "    df = df.merge(df_res_bus, on = 'business_id')\n",
    "    rename_dict = {'business_longitude': 'longitude', 'business_latitude': 'latitude',\n",
    "                   'business_state':'state','business_city':'city', 'business_address': 'address'}\n",
    "    df = df.rename(columns = rename_dict)\n",
    "    return df\n",
    "\n",
    "reviews_train = process(reviews_train_.copy())\n",
    "reviews_holdout = process(reviews_holdout_.copy())\n",
    "reviews_val = process(reviews_cv_.copy())"
   ],
   "metadata": {
    "collapsed": false,
    "ExecuteTime": {
     "end_time": "2023-10-08T21:29:02.459693100Z",
     "start_time": "2023-10-08T21:29:01.261154700Z"
    }
   },
   "id": "c99564e74e23ae86"
  },
  {
   "cell_type": "code",
   "execution_count": 152,
   "outputs": [],
   "source": [
    "# remove observations that may cause cold-start problem, which breaks the model.\n",
    "reviews_test = reviews_test.loc[reviews_test.business_id.isin(reviews_train.business_id)]\n",
    "reviews_val = reviews_val.loc[reviews_val.business_id.isin(reviews_train.business_id)]"
   ],
   "metadata": {
    "collapsed": false,
    "ExecuteTime": {
     "end_time": "2023-10-08T21:29:02.506995700Z",
     "start_time": "2023-10-08T21:29:01.457828300Z"
    }
   },
   "id": "44c2bbcc64b6f977"
  },
  {
   "cell_type": "code",
   "execution_count": 153,
   "outputs": [],
   "source": [
    "trainset = reviews_train.loc[:,['user_id', 'business_id', 'rating']]\n",
    "trainset.columns = ['userID', 'itemID','rating']\n",
    "valset = reviews_val.loc[:, ['user_id', 'business_id', 'rating']]\n",
    "valset.columns = ['userID', 'itemID','rating']\n",
    "testset = reviews_holdout.loc[:, ['user_id', 'business_id', 'rating']]\n",
    "testset.columns = ['userID', 'itemID','rating']"
   ],
   "metadata": {
    "collapsed": false,
    "ExecuteTime": {
     "end_time": "2023-10-08T21:29:02.569498700Z",
     "start_time": "2023-10-08T21:29:01.471585100Z"
    }
   },
   "id": "921213bf94c5e9c9"
  },
  {
   "cell_type": "code",
   "execution_count": 154,
   "outputs": [],
   "source": [
    "reader = Reader(rating_scale = (0.0, 5.0))\n",
    "train_data = Dataset.load_from_df(trainset[['userID','itemID','rating']], reader)\n",
    "val_data = Dataset.load_from_df(valset[['userID','itemID','rating']], reader)\n",
    "test_data = Dataset.load_from_df(testset[['userID','itemID','rating']], reader)\n",
    "\n",
    "train_sr = train_data.build_full_trainset()\n",
    "val_sr_before = val_data.build_full_trainset()\n",
    "val_sr = val_sr_before.build_testset()\n",
    "test_sr_before = test_data.build_full_trainset()\n",
    "test_sr = test_sr_before.build_testset()"
   ],
   "metadata": {
    "collapsed": false,
    "ExecuteTime": {
     "end_time": "2023-10-08T21:29:02.679330500Z",
     "start_time": "2023-10-08T21:29:01.483592800Z"
    }
   },
   "id": "882d1f37b794c68d"
  },
  {
   "cell_type": "markdown",
   "source": [
    "Hyperparameter Tuning"
   ],
   "metadata": {
    "collapsed": false
   },
   "id": "da871e2335a1ffbd"
  },
  {
   "cell_type": "code",
   "execution_count": 155,
   "outputs": [
    {
     "name": "stdout",
     "output_type": "stream",
     "text": [
      "Fitting n: 10, l: 0.001, r: 0.02\n",
      "RMSE: 1.3106\n",
      "Fitting n: 10, l: 0.001, r: 0.05\n",
      "RMSE: 1.3111\n",
      "Fitting n: 10, l: 0.001, r: 0.1\n",
      "RMSE: 1.3098\n",
      "Fitting n: 10, l: 0.001, r: 0.4\n",
      "RMSE: 1.3125\n",
      "Fitting n: 10, l: 0.001, r: 0.5\n",
      "RMSE: 1.3133\n",
      "Fitting n: 10, l: 0.003, r: 0.02\n",
      "RMSE: 1.2692\n",
      "Fitting n: 10, l: 0.003, r: 0.05\n",
      "RMSE: 1.2755\n",
      "Fitting n: 10, l: 0.003, r: 0.1\n",
      "RMSE: 1.2747\n",
      "Fitting n: 10, l: 0.003, r: 0.4\n",
      "RMSE: 1.2768\n",
      "Fitting n: 10, l: 0.003, r: 0.5\n",
      "RMSE: 1.2785\n",
      "Fitting n: 10, l: 0.005, r: 0.02\n",
      "RMSE: 1.2604\n",
      "Fitting n: 10, l: 0.005, r: 0.05\n",
      "RMSE: 1.2561\n",
      "Fitting n: 10, l: 0.005, r: 0.1\n",
      "RMSE: 1.2592\n",
      "Fitting n: 10, l: 0.005, r: 0.4\n",
      "RMSE: 1.2608\n",
      "Fitting n: 10, l: 0.005, r: 0.5\n",
      "RMSE: 1.2632\n",
      "Fitting n: 20, l: 0.001, r: 0.02\n",
      "RMSE: 1.2880\n",
      "Fitting n: 20, l: 0.001, r: 0.05\n",
      "RMSE: 1.2881\n",
      "Fitting n: 20, l: 0.001, r: 0.1\n",
      "RMSE: 1.2875\n",
      "Fitting n: 20, l: 0.001, r: 0.4\n",
      "RMSE: 1.2882\n",
      "Fitting n: 20, l: 0.001, r: 0.5\n",
      "RMSE: 1.2918\n",
      "Fitting n: 20, l: 0.003, r: 0.02\n",
      "RMSE: 1.2559\n",
      "Fitting n: 20, l: 0.003, r: 0.05\n",
      "RMSE: 1.2488\n",
      "Fitting n: 20, l: 0.003, r: 0.1\n",
      "RMSE: 1.2538\n",
      "Fitting n: 20, l: 0.003, r: 0.4\n",
      "RMSE: 1.2581\n",
      "Fitting n: 20, l: 0.003, r: 0.5\n",
      "RMSE: 1.2614\n",
      "Fitting n: 20, l: 0.005, r: 0.02\n",
      "RMSE: 1.2445\n",
      "Fitting n: 20, l: 0.005, r: 0.05\n",
      "RMSE: 1.2428\n",
      "Fitting n: 20, l: 0.005, r: 0.1\n",
      "RMSE: 1.2438\n",
      "Fitting n: 20, l: 0.005, r: 0.4\n",
      "RMSE: 1.2461\n",
      "Fitting n: 20, l: 0.005, r: 0.5\n",
      "RMSE: 1.2485\n",
      "Fitting n: 30, l: 0.001, r: 0.02\n",
      "RMSE: 1.2718\n",
      "Fitting n: 30, l: 0.001, r: 0.05\n",
      "RMSE: 1.2778\n",
      "Fitting n: 30, l: 0.001, r: 0.1\n",
      "RMSE: 1.2764\n",
      "Fitting n: 30, l: 0.001, r: 0.4\n",
      "RMSE: 1.2765\n",
      "Fitting n: 30, l: 0.001, r: 0.5\n",
      "RMSE: 1.2800\n",
      "Fitting n: 30, l: 0.003, r: 0.02\n",
      "RMSE: 1.2479\n",
      "Fitting n: 30, l: 0.003, r: 0.05\n",
      "RMSE: 1.2443\n",
      "Fitting n: 30, l: 0.003, r: 0.1\n",
      "RMSE: 1.2463\n",
      "Fitting n: 30, l: 0.003, r: 0.4\n",
      "RMSE: 1.2493\n",
      "Fitting n: 30, l: 0.003, r: 0.5\n",
      "RMSE: 1.2517\n",
      "Fitting n: 30, l: 0.005, r: 0.02\n",
      "RMSE: 1.2425\n",
      "Fitting n: 30, l: 0.005, r: 0.05\n",
      "RMSE: 1.2444\n",
      "Fitting n: 30, l: 0.005, r: 0.1\n",
      "RMSE: 1.2408\n",
      "Fitting n: 30, l: 0.005, r: 0.4\n",
      "RMSE: 1.2418\n",
      "Fitting n: 30, l: 0.005, r: 0.5\n",
      "RMSE: 1.2437\n"
     ]
    }
   ],
   "source": [
    "RMSE_tune = {}\n",
    "n_epochs = [10, 20, 30]  # the number of iteration of the SGD procedure\n",
    "lr_all = [0.001, 0.003, 0.005] # the learning rate for all parameters\n",
    "reg_all =  [0.02, 0.05, 0.1, 0.4, 0.5] # the regularization term for all parameters\n",
    "\n",
    "for n in n_epochs:\n",
    "    for l in lr_all:\n",
    "        for r in reg_all:\n",
    "            print('Fitting n: {0}, l: {1}, r: {2}'.format(n, l, r))\n",
    "            algo = SVD(n_epochs = n, lr_all = l, reg_all = r)\n",
    "            algo.fit(train_sr)\n",
    "            predictions = algo.test(val_sr)\n",
    "            RMSE_tune[n,l,r] = accuracy.rmse(predictions)"
   ],
   "metadata": {
    "collapsed": false,
    "ExecuteTime": {
     "end_time": "2023-10-08T21:29:37.549202Z",
     "start_time": "2023-10-08T21:29:01.534521500Z"
    }
   },
   "id": "bb4638e51d92f8b3"
  },
  {
   "cell_type": "code",
   "execution_count": 156,
   "outputs": [
    {
     "data": {
      "text/plain": "(30, 0.005, 0.1)"
     },
     "execution_count": 156,
     "metadata": {},
     "output_type": "execute_result"
    }
   ],
   "source": [
    "import operator\n",
    "min(RMSE_tune.items(), key=operator.itemgetter(1))[0]"
   ],
   "metadata": {
    "collapsed": false,
    "ExecuteTime": {
     "end_time": "2023-10-08T21:29:37.565319600Z",
     "start_time": "2023-10-08T21:29:37.517950500Z"
    }
   },
   "id": "c62338ceee96ca06"
  },
  {
   "cell_type": "markdown",
   "source": [
    "Evaluation"
   ],
   "metadata": {
    "collapsed": false
   },
   "id": "41fb8bdfd3b90c02"
  },
  {
   "cell_type": "code",
   "execution_count": 157,
   "outputs": [],
   "source": [
    "# train and test on the optimal parameter\n",
    "start_time = time.time()\n",
    "algo_real = SVD(n_epochs = 20, lr_all = 0.005, reg_all = 0.1)\n",
    "algo_real.fit(train_sr)\n",
    "predictions = algo_real.test(test_sr)"
   ],
   "metadata": {
    "collapsed": false,
    "ExecuteTime": {
     "end_time": "2023-10-08T21:29:38.316061100Z",
     "start_time": "2023-10-08T21:29:37.533544700Z"
    }
   },
   "id": "c809642d664b3e10"
  },
  {
   "cell_type": "code",
   "execution_count": 158,
   "outputs": [
    {
     "name": "stdout",
     "output_type": "stream",
     "text": [
      "--- 0.7825164794921875 seconds ---\n"
     ]
    }
   ],
   "source": [
    "print(\"--- %s seconds ---\" % (time.time() - start_time))"
   ],
   "metadata": {
    "collapsed": false,
    "ExecuteTime": {
     "end_time": "2023-10-08T21:29:38.331531200Z",
     "start_time": "2023-10-08T21:29:38.316061100Z"
    }
   },
   "id": "f8ce0c5400e1100c"
  },
  {
   "cell_type": "code",
   "execution_count": 159,
   "outputs": [
    {
     "name": "stdout",
     "output_type": "stream",
     "text": [
      "RMSE: 1.2978\n"
     ]
    },
    {
     "data": {
      "text/plain": "1.2977540768865152"
     },
     "execution_count": 159,
     "metadata": {},
     "output_type": "execute_result"
    }
   ],
   "source": [
    "accuracy.rmse(predictions)"
   ],
   "metadata": {
    "collapsed": false,
    "ExecuteTime": {
     "end_time": "2023-10-08T21:29:38.441310700Z",
     "start_time": "2023-10-08T21:29:38.331531200Z"
    }
   },
   "id": "3d2ed37a02ec8cdf"
  },
  {
   "cell_type": "code",
   "execution_count": 160,
   "outputs": [
    {
     "name": "stdout",
     "output_type": "stream",
     "text": [
      "MAE:  1.0678\n"
     ]
    },
    {
     "data": {
      "text/plain": "1.067839758110035"
     },
     "execution_count": 160,
     "metadata": {},
     "output_type": "execute_result"
    }
   ],
   "source": [
    "accuracy.mae(predictions)"
   ],
   "metadata": {
    "collapsed": false,
    "ExecuteTime": {
     "end_time": "2023-10-08T21:29:38.457939Z",
     "start_time": "2023-10-08T21:29:38.347156100Z"
    }
   },
   "id": "4300dbdc72698fd2"
  },
  {
   "cell_type": "code",
   "execution_count": 161,
   "outputs": [
    {
     "data": {
      "text/plain": "0.14232687367769492"
     },
     "execution_count": 161,
     "metadata": {},
     "output_type": "execute_result"
    }
   ],
   "source": [
    "r2_score([t[2] for t in predictions], [t[3] for t in predictions])"
   ],
   "metadata": {
    "collapsed": false,
    "ExecuteTime": {
     "end_time": "2023-10-08T21:29:38.488615800Z",
     "start_time": "2023-10-08T21:29:38.363177900Z"
    }
   },
   "id": "913902901e54e7d7"
  },
  {
   "cell_type": "code",
   "execution_count": 163,
   "outputs": [],
   "source": [
    "# To evaluate coverage and serendipity metrics, use evaluation set created earlier.\n",
    "predict_df_20 = pd.read_csv('../datasets/filter_data/metric_sample.csv', index_col=0)\n",
    "predict_df_20['predictions'] = 2.5 # fill in this value temporally\n",
    "eval_20 = Dataset.load_from_df(predict_df_20[['user_id','business_id','predictions']], reader)"
   ],
   "metadata": {
    "collapsed": false,
    "ExecuteTime": {
     "end_time": "2023-10-08T21:31:02.476852Z",
     "start_time": "2023-10-08T21:31:02.401413400Z"
    }
   },
   "id": "ab1efd75e08cc78c"
  },
  {
   "cell_type": "code",
   "execution_count": 164,
   "outputs": [],
   "source": [
    "eval_before_20 = eval_20.build_full_trainset()\n",
    "eval_sr_20 = eval_before_20.build_testset()\n",
    "eval_pred_20 = algo_real.test(eval_sr_20)\n",
    "\n",
    "baseline_20 = pd.DataFrame(eval_pred_20, columns = ['userId','business_id','rating','pred_rating','x'])\n",
    "predict_df_20['predictions'] = baseline_20.pred_rating"
   ],
   "metadata": {
    "collapsed": false,
    "ExecuteTime": {
     "end_time": "2023-10-08T21:31:04.080851Z",
     "start_time": "2023-10-08T21:31:04.002713900Z"
    }
   },
   "id": "c5b706aaa74522bd"
  },
  {
   "cell_type": "code",
   "execution_count": 165,
   "outputs": [
    {
     "name": "stdout",
     "output_type": "stream",
     "text": [
      "0.0 0.44 0.9199999999999999 288.4\n"
     ]
    }
   ],
   "source": [
    "top_10, coverage, serendipity, avg_rank = get_all_metrics(predict_df_20, out, reviews_train_final)"
   ],
   "metadata": {
    "collapsed": false,
    "ExecuteTime": {
     "end_time": "2023-10-08T21:31:05.802996500Z",
     "start_time": "2023-10-08T21:31:05.693117300Z"
    }
   },
   "id": "d70b399a64f1502e"
  },
  {
   "cell_type": "code",
   "execution_count": 166,
   "outputs": [
    {
     "data": {
      "text/plain": "                   user_id    city state             business_id  predictions\n0   lL3xb3wLEk56V63w5B8v7g  Tucson    AZ  RhuYqAT45uIR2NNdDsolXQ     3.874971\n1   lL3xb3wLEk56V63w5B8v7g  Tucson    AZ  U3aNQ5DsABPYyJQolsCbJg     4.113562\n2   lL3xb3wLEk56V63w5B8v7g  Tucson    AZ  WbA5ud4InNWkizW7HE5kRQ     3.800229\n3   lL3xb3wLEk56V63w5B8v7g  Tucson    AZ  sr5A1frZiTRediG8FLEkdw     2.985905\n4   lL3xb3wLEk56V63w5B8v7g  Tucson    AZ  AVBqx8FaXza6x-bb_FLOTQ     4.640242\n5   lL3xb3wLEk56V63w5B8v7g  Tucson    AZ  UvDud4vaI7l_JlBV3E1mHg     3.940076\n6   lL3xb3wLEk56V63w5B8v7g  Tucson    AZ  4QMIJJWQOh7zpEwOXhFJqw     4.380881\n7   lL3xb3wLEk56V63w5B8v7g  Tucson    AZ  V9XlikTxq0My4gE8LULsjw     3.125076\n8   lL3xb3wLEk56V63w5B8v7g  Tucson    AZ  f82dhKNiUXsDVPMLqKYiIQ     4.485033\n9   lL3xb3wLEk56V63w5B8v7g  Tucson    AZ  wa_bwyY57etHjtJ2Fw0E3g     3.630444\n10  lL3xb3wLEk56V63w5B8v7g  Tucson    AZ  CA5BOxKRDPGJgdUQ8OUOpw     4.153121\n11  lL3xb3wLEk56V63w5B8v7g  Tucson    AZ  DK98TgLNmIguxMMPGlyb5w     4.233420\n12  lL3xb3wLEk56V63w5B8v7g  Tucson    AZ  1c93YzZL5pke1sJCFndPGw     3.806300\n13  lL3xb3wLEk56V63w5B8v7g  Tucson    AZ  ZCkc45yLiM93rWxroR54_Q     4.203235\n14  lL3xb3wLEk56V63w5B8v7g  Tucson    AZ  z0RrXXMvLyncxFmtxegK1Q     3.737385\n15  lL3xb3wLEk56V63w5B8v7g  Tucson    AZ  LZzDvgfpkd4nI3E4L9wF1w     3.746043\n16  lL3xb3wLEk56V63w5B8v7g  Tucson    AZ  dK10D96iGeHuTQzR8aG90Q     4.298821\n17  lL3xb3wLEk56V63w5B8v7g  Tucson    AZ  z67ktHxCJ3-Ebs3zooegSg     3.793904\n18  lL3xb3wLEk56V63w5B8v7g  Tucson    AZ  nmkch1Q89DdFRXF1a-OgIg     4.274535\n19  lL3xb3wLEk56V63w5B8v7g  Tucson    AZ  aAyCUTc7y9ZIN1OZ7tGe6Q     3.739140",
      "text/html": "<div>\n<style scoped>\n    .dataframe tbody tr th:only-of-type {\n        vertical-align: middle;\n    }\n\n    .dataframe tbody tr th {\n        vertical-align: top;\n    }\n\n    .dataframe thead th {\n        text-align: right;\n    }\n</style>\n<table border=\"1\" class=\"dataframe\">\n  <thead>\n    <tr style=\"text-align: right;\">\n      <th></th>\n      <th>user_id</th>\n      <th>city</th>\n      <th>state</th>\n      <th>business_id</th>\n      <th>predictions</th>\n    </tr>\n  </thead>\n  <tbody>\n    <tr>\n      <th>0</th>\n      <td>lL3xb3wLEk56V63w5B8v7g</td>\n      <td>Tucson</td>\n      <td>AZ</td>\n      <td>RhuYqAT45uIR2NNdDsolXQ</td>\n      <td>3.874971</td>\n    </tr>\n    <tr>\n      <th>1</th>\n      <td>lL3xb3wLEk56V63w5B8v7g</td>\n      <td>Tucson</td>\n      <td>AZ</td>\n      <td>U3aNQ5DsABPYyJQolsCbJg</td>\n      <td>4.113562</td>\n    </tr>\n    <tr>\n      <th>2</th>\n      <td>lL3xb3wLEk56V63w5B8v7g</td>\n      <td>Tucson</td>\n      <td>AZ</td>\n      <td>WbA5ud4InNWkizW7HE5kRQ</td>\n      <td>3.800229</td>\n    </tr>\n    <tr>\n      <th>3</th>\n      <td>lL3xb3wLEk56V63w5B8v7g</td>\n      <td>Tucson</td>\n      <td>AZ</td>\n      <td>sr5A1frZiTRediG8FLEkdw</td>\n      <td>2.985905</td>\n    </tr>\n    <tr>\n      <th>4</th>\n      <td>lL3xb3wLEk56V63w5B8v7g</td>\n      <td>Tucson</td>\n      <td>AZ</td>\n      <td>AVBqx8FaXza6x-bb_FLOTQ</td>\n      <td>4.640242</td>\n    </tr>\n    <tr>\n      <th>5</th>\n      <td>lL3xb3wLEk56V63w5B8v7g</td>\n      <td>Tucson</td>\n      <td>AZ</td>\n      <td>UvDud4vaI7l_JlBV3E1mHg</td>\n      <td>3.940076</td>\n    </tr>\n    <tr>\n      <th>6</th>\n      <td>lL3xb3wLEk56V63w5B8v7g</td>\n      <td>Tucson</td>\n      <td>AZ</td>\n      <td>4QMIJJWQOh7zpEwOXhFJqw</td>\n      <td>4.380881</td>\n    </tr>\n    <tr>\n      <th>7</th>\n      <td>lL3xb3wLEk56V63w5B8v7g</td>\n      <td>Tucson</td>\n      <td>AZ</td>\n      <td>V9XlikTxq0My4gE8LULsjw</td>\n      <td>3.125076</td>\n    </tr>\n    <tr>\n      <th>8</th>\n      <td>lL3xb3wLEk56V63w5B8v7g</td>\n      <td>Tucson</td>\n      <td>AZ</td>\n      <td>f82dhKNiUXsDVPMLqKYiIQ</td>\n      <td>4.485033</td>\n    </tr>\n    <tr>\n      <th>9</th>\n      <td>lL3xb3wLEk56V63w5B8v7g</td>\n      <td>Tucson</td>\n      <td>AZ</td>\n      <td>wa_bwyY57etHjtJ2Fw0E3g</td>\n      <td>3.630444</td>\n    </tr>\n    <tr>\n      <th>10</th>\n      <td>lL3xb3wLEk56V63w5B8v7g</td>\n      <td>Tucson</td>\n      <td>AZ</td>\n      <td>CA5BOxKRDPGJgdUQ8OUOpw</td>\n      <td>4.153121</td>\n    </tr>\n    <tr>\n      <th>11</th>\n      <td>lL3xb3wLEk56V63w5B8v7g</td>\n      <td>Tucson</td>\n      <td>AZ</td>\n      <td>DK98TgLNmIguxMMPGlyb5w</td>\n      <td>4.233420</td>\n    </tr>\n    <tr>\n      <th>12</th>\n      <td>lL3xb3wLEk56V63w5B8v7g</td>\n      <td>Tucson</td>\n      <td>AZ</td>\n      <td>1c93YzZL5pke1sJCFndPGw</td>\n      <td>3.806300</td>\n    </tr>\n    <tr>\n      <th>13</th>\n      <td>lL3xb3wLEk56V63w5B8v7g</td>\n      <td>Tucson</td>\n      <td>AZ</td>\n      <td>ZCkc45yLiM93rWxroR54_Q</td>\n      <td>4.203235</td>\n    </tr>\n    <tr>\n      <th>14</th>\n      <td>lL3xb3wLEk56V63w5B8v7g</td>\n      <td>Tucson</td>\n      <td>AZ</td>\n      <td>z0RrXXMvLyncxFmtxegK1Q</td>\n      <td>3.737385</td>\n    </tr>\n    <tr>\n      <th>15</th>\n      <td>lL3xb3wLEk56V63w5B8v7g</td>\n      <td>Tucson</td>\n      <td>AZ</td>\n      <td>LZzDvgfpkd4nI3E4L9wF1w</td>\n      <td>3.746043</td>\n    </tr>\n    <tr>\n      <th>16</th>\n      <td>lL3xb3wLEk56V63w5B8v7g</td>\n      <td>Tucson</td>\n      <td>AZ</td>\n      <td>dK10D96iGeHuTQzR8aG90Q</td>\n      <td>4.298821</td>\n    </tr>\n    <tr>\n      <th>17</th>\n      <td>lL3xb3wLEk56V63w5B8v7g</td>\n      <td>Tucson</td>\n      <td>AZ</td>\n      <td>z67ktHxCJ3-Ebs3zooegSg</td>\n      <td>3.793904</td>\n    </tr>\n    <tr>\n      <th>18</th>\n      <td>lL3xb3wLEk56V63w5B8v7g</td>\n      <td>Tucson</td>\n      <td>AZ</td>\n      <td>nmkch1Q89DdFRXF1a-OgIg</td>\n      <td>4.274535</td>\n    </tr>\n    <tr>\n      <th>19</th>\n      <td>lL3xb3wLEk56V63w5B8v7g</td>\n      <td>Tucson</td>\n      <td>AZ</td>\n      <td>aAyCUTc7y9ZIN1OZ7tGe6Q</td>\n      <td>3.739140</td>\n    </tr>\n  </tbody>\n</table>\n</div>"
     },
     "execution_count": 166,
     "metadata": {},
     "output_type": "execute_result"
    }
   ],
   "source": [
    "predict_df_20.head(20)"
   ],
   "metadata": {
    "collapsed": false,
    "ExecuteTime": {
     "end_time": "2023-10-08T21:31:08.102798600Z",
     "start_time": "2023-10-08T21:31:08.008541100Z"
    }
   },
   "id": "a177d1dafd7dacf8"
  },
  {
   "cell_type": "code",
   "execution_count": 167,
   "outputs": [
    {
     "data": {
      "text/plain": "business_id\nCJoO4HYD0tZRXlZqA04wmw    4.702745\njh8j-DWqgWkbRe_a2XtKFQ    4.688123\n6OwxdpajDSJi3DkMqkr2sw    4.643763\nLQcGL4hfJAeK6bk2ZdhmXw    4.582100\nDVBJRvnCpkqaYl6nHroaMg    4.580403\n3qsHL1xuMPlPqQciHNYkeg    4.574600\nH5nMeiXJmLpBALeV8A-FeQ    4.565709\nNggy_QUDxaLlrcQAQf7GnQ    4.535794\nDU2KrvS9kBBV-HwzE2fQrA    4.527644\n2VPX222bhizLlWZrLQL3PQ    4.480992\nName: predictions, dtype: float64"
     },
     "execution_count": 167,
     "metadata": {},
     "output_type": "execute_result"
    }
   ],
   "source": [
    "top10=predict_df_20.groupby('business_id')[\"predictions\"].mean()\n",
    "top10.sort_values(ascending=False).head(10)"
   ],
   "metadata": {
    "collapsed": false,
    "ExecuteTime": {
     "end_time": "2023-10-08T21:31:09.440165800Z",
     "start_time": "2023-10-08T21:31:09.361985900Z"
    }
   },
   "id": "90ab522932e274"
  },
  {
   "cell_type": "code",
   "execution_count": 168,
   "outputs": [
    {
     "name": "stdout",
     "output_type": "stream",
     "text": [
      "<class 'pandas.core.frame.DataFrame'>\n"
     ]
    }
   ],
   "source": [
    "resultado=top10.to_frame()\n",
    "print(type(resultado))"
   ],
   "metadata": {
    "collapsed": false,
    "ExecuteTime": {
     "end_time": "2023-10-08T21:31:10.605976800Z",
     "start_time": "2023-10-08T21:31:10.495849100Z"
    }
   },
   "id": "51a3a9d57357c95b"
  },
  {
   "cell_type": "code",
   "execution_count": 169,
   "outputs": [
    {
     "data": {
      "text/plain": "              business_id  predictions             restaurant\n0  -0G_6-KFGpCpxTUlVXCMYQ     3.759437               Gio Taco\n1  -1MhPXk1FglglUAmuPLIGg     4.083173      Red Garter Saloon\n2  -3-6BB10tIWNKGEF0Es2BA     3.578757  The 81 Hong Kong Cafe\n3  -OX0MJDPRHV0RCRvwYnvBQ     4.422769             NI HAO TEA\n4  -SZ-p4o6gJPOJ--HA3NKcw     3.421332          Nimbus Bistro\n5  -TzFN6nWvbVRARY2B11Epg     3.913971            Mimi's Cafe\n6  -iGzevsRYAi990-Lt-iMoQ     3.623673               US Fries\n7  -lHpvtlMkRu0oRIXJkystA     3.684716              Bistro 44\n8  -pRU97z3uPU_M7yUf5yzMg     3.559112                Micha's\n9  -xtnwq4VBA2XFobjDGz0Ww     3.516560            Red Lobster",
      "text/html": "<div>\n<style scoped>\n    .dataframe tbody tr th:only-of-type {\n        vertical-align: middle;\n    }\n\n    .dataframe tbody tr th {\n        vertical-align: top;\n    }\n\n    .dataframe thead th {\n        text-align: right;\n    }\n</style>\n<table border=\"1\" class=\"dataframe\">\n  <thead>\n    <tr style=\"text-align: right;\">\n      <th></th>\n      <th>business_id</th>\n      <th>predictions</th>\n      <th>restaurant</th>\n    </tr>\n  </thead>\n  <tbody>\n    <tr>\n      <th>0</th>\n      <td>-0G_6-KFGpCpxTUlVXCMYQ</td>\n      <td>3.759437</td>\n      <td>Gio Taco</td>\n    </tr>\n    <tr>\n      <th>1</th>\n      <td>-1MhPXk1FglglUAmuPLIGg</td>\n      <td>4.083173</td>\n      <td>Red Garter Saloon</td>\n    </tr>\n    <tr>\n      <th>2</th>\n      <td>-3-6BB10tIWNKGEF0Es2BA</td>\n      <td>3.578757</td>\n      <td>The 81 Hong Kong Cafe</td>\n    </tr>\n    <tr>\n      <th>3</th>\n      <td>-OX0MJDPRHV0RCRvwYnvBQ</td>\n      <td>4.422769</td>\n      <td>NI HAO TEA</td>\n    </tr>\n    <tr>\n      <th>4</th>\n      <td>-SZ-p4o6gJPOJ--HA3NKcw</td>\n      <td>3.421332</td>\n      <td>Nimbus Bistro</td>\n    </tr>\n    <tr>\n      <th>5</th>\n      <td>-TzFN6nWvbVRARY2B11Epg</td>\n      <td>3.913971</td>\n      <td>Mimi's Cafe</td>\n    </tr>\n    <tr>\n      <th>6</th>\n      <td>-iGzevsRYAi990-Lt-iMoQ</td>\n      <td>3.623673</td>\n      <td>US Fries</td>\n    </tr>\n    <tr>\n      <th>7</th>\n      <td>-lHpvtlMkRu0oRIXJkystA</td>\n      <td>3.684716</td>\n      <td>Bistro 44</td>\n    </tr>\n    <tr>\n      <th>8</th>\n      <td>-pRU97z3uPU_M7yUf5yzMg</td>\n      <td>3.559112</td>\n      <td>Micha's</td>\n    </tr>\n    <tr>\n      <th>9</th>\n      <td>-xtnwq4VBA2XFobjDGz0Ww</td>\n      <td>3.516560</td>\n      <td>Red Lobster</td>\n    </tr>\n  </tbody>\n</table>\n</div>"
     },
     "execution_count": 169,
     "metadata": {},
     "output_type": "execute_result"
    }
   ],
   "source": [
    "df_join=resultado.merge(df_res_bus[[\"business_id\",\"restaurant\"]],how=\"inner\",on=\"business_id\")\n",
    "df_join.head(10)"
   ],
   "metadata": {
    "collapsed": false,
    "ExecuteTime": {
     "end_time": "2023-10-08T21:31:12.457319600Z",
     "start_time": "2023-10-08T21:31:12.378700500Z"
    }
   },
   "id": "a2fdfaea89934f20"
  },
  {
   "cell_type": "code",
   "execution_count": 170,
   "outputs": [
    {
     "data": {
      "text/plain": "                business_id  predictions                      restaurant\n151  CJoO4HYD0tZRXlZqA04wmw     4.702745                Crave Coffee Bar\n515  jh8j-DWqgWkbRe_a2XtKFQ     4.688123                    Barrio Bread\n90   6OwxdpajDSJi3DkMqkr2sw     4.643763              Barista Del Barrio\n249  LQcGL4hfJAeK6bk2ZdhmXw     4.582100                Aqui Con El Nene\n160  DVBJRvnCpkqaYl6nHroaMg     4.580403                        Tumerico\n..                      ...          ...                             ...\n94   6zxPHDdLUNhCSLSeHlCVNg     2.803666  Something Sweet Dessert Lounge\n150  CJe2beFHYTOG0-0-dqAIrg     2.768887            Native Grill & Wings\n641  vpc5PFLMo0oJQzuNZaSlyA     2.757555          Applebee's Grill + Bar\n475  gIIZQRP878_yceemj2bK_A     2.615569       HI FI Kitchen & Cocktails\n434  dEMsUFNB4ckBFdB90jKLEA     2.512448                      Fuku Sushi\n\n[702 rows x 3 columns]",
      "text/html": "<div>\n<style scoped>\n    .dataframe tbody tr th:only-of-type {\n        vertical-align: middle;\n    }\n\n    .dataframe tbody tr th {\n        vertical-align: top;\n    }\n\n    .dataframe thead th {\n        text-align: right;\n    }\n</style>\n<table border=\"1\" class=\"dataframe\">\n  <thead>\n    <tr style=\"text-align: right;\">\n      <th></th>\n      <th>business_id</th>\n      <th>predictions</th>\n      <th>restaurant</th>\n    </tr>\n  </thead>\n  <tbody>\n    <tr>\n      <th>151</th>\n      <td>CJoO4HYD0tZRXlZqA04wmw</td>\n      <td>4.702745</td>\n      <td>Crave Coffee Bar</td>\n    </tr>\n    <tr>\n      <th>515</th>\n      <td>jh8j-DWqgWkbRe_a2XtKFQ</td>\n      <td>4.688123</td>\n      <td>Barrio Bread</td>\n    </tr>\n    <tr>\n      <th>90</th>\n      <td>6OwxdpajDSJi3DkMqkr2sw</td>\n      <td>4.643763</td>\n      <td>Barista Del Barrio</td>\n    </tr>\n    <tr>\n      <th>249</th>\n      <td>LQcGL4hfJAeK6bk2ZdhmXw</td>\n      <td>4.582100</td>\n      <td>Aqui Con El Nene</td>\n    </tr>\n    <tr>\n      <th>160</th>\n      <td>DVBJRvnCpkqaYl6nHroaMg</td>\n      <td>4.580403</td>\n      <td>Tumerico</td>\n    </tr>\n    <tr>\n      <th>...</th>\n      <td>...</td>\n      <td>...</td>\n      <td>...</td>\n    </tr>\n    <tr>\n      <th>94</th>\n      <td>6zxPHDdLUNhCSLSeHlCVNg</td>\n      <td>2.803666</td>\n      <td>Something Sweet Dessert Lounge</td>\n    </tr>\n    <tr>\n      <th>150</th>\n      <td>CJe2beFHYTOG0-0-dqAIrg</td>\n      <td>2.768887</td>\n      <td>Native Grill &amp; Wings</td>\n    </tr>\n    <tr>\n      <th>641</th>\n      <td>vpc5PFLMo0oJQzuNZaSlyA</td>\n      <td>2.757555</td>\n      <td>Applebee's Grill + Bar</td>\n    </tr>\n    <tr>\n      <th>475</th>\n      <td>gIIZQRP878_yceemj2bK_A</td>\n      <td>2.615569</td>\n      <td>HI FI Kitchen &amp; Cocktails</td>\n    </tr>\n    <tr>\n      <th>434</th>\n      <td>dEMsUFNB4ckBFdB90jKLEA</td>\n      <td>2.512448</td>\n      <td>Fuku Sushi</td>\n    </tr>\n  </tbody>\n</table>\n<p>702 rows × 3 columns</p>\n</div>"
     },
     "execution_count": 170,
     "metadata": {},
     "output_type": "execute_result"
    }
   ],
   "source": [
    "df_join.sort_values(by=\"predictions\", ascending=False)"
   ],
   "metadata": {
    "collapsed": false,
    "ExecuteTime": {
     "end_time": "2023-10-08T21:31:14.077040900Z",
     "start_time": "2023-10-08T21:31:13.967077600Z"
    }
   },
   "id": "357eb34b24bd605f"
  },
  {
   "cell_type": "code",
   "execution_count": 171,
   "outputs": [
    {
     "name": "stdout",
     "output_type": "stream",
     "text": [
      "                      userId             business_id  rating  pred_rating  \\\n",
      "0     lL3xb3wLEk56V63w5B8v7g  RhuYqAT45uIR2NNdDsolXQ     2.5     3.874971   \n",
      "1     lL3xb3wLEk56V63w5B8v7g  U3aNQ5DsABPYyJQolsCbJg     2.5     4.113562   \n",
      "2     lL3xb3wLEk56V63w5B8v7g  WbA5ud4InNWkizW7HE5kRQ     2.5     3.800229   \n",
      "3     lL3xb3wLEk56V63w5B8v7g  sr5A1frZiTRediG8FLEkdw     2.5     2.985905   \n",
      "4     lL3xb3wLEk56V63w5B8v7g  AVBqx8FaXza6x-bb_FLOTQ     2.5     4.640242   \n",
      "...                      ...                     ...     ...          ...   \n",
      "3505  qiApmQ6AskMorUe_v2tN4w  eGi7CE2YaN6YMiGyXNi8XQ     2.5     4.152725   \n",
      "3506  qiApmQ6AskMorUe_v2tN4w  kbjbMffGvyjIdJivotkIiw     2.5     3.697148   \n",
      "3507  qiApmQ6AskMorUe_v2tN4w  f6y6grP56Rdsx0jrdnvWeA     2.5     4.070442   \n",
      "3508  qiApmQ6AskMorUe_v2tN4w  L7J8aZmdz_DNhEwFb3QnBQ     2.5     4.003641   \n",
      "3509  qiApmQ6AskMorUe_v2tN4w  gowa-c0fpgvosQnRWF9V3g     2.5     3.587513   \n",
      "\n",
      "                              x  \n",
      "0     {'was_impossible': False}  \n",
      "1     {'was_impossible': False}  \n",
      "2     {'was_impossible': False}  \n",
      "3     {'was_impossible': False}  \n",
      "4     {'was_impossible': False}  \n",
      "...                         ...  \n",
      "3505  {'was_impossible': False}  \n",
      "3506  {'was_impossible': False}  \n",
      "3507  {'was_impossible': False}  \n",
      "3508  {'was_impossible': False}  \n",
      "3509  {'was_impossible': False}  \n",
      "\n",
      "[3510 rows x 5 columns]\n"
     ]
    }
   ],
   "source": [
    "print(baseline_20)"
   ],
   "metadata": {
    "collapsed": false,
    "ExecuteTime": {
     "end_time": "2023-10-08T21:31:16.461223800Z",
     "start_time": "2023-10-08T21:31:16.414060500Z"
    }
   },
   "id": "753ab55ae27948a3"
  },
  {
   "cell_type": "code",
   "execution_count": 172,
   "outputs": [],
   "source": [
    "# Define a custom sorting key based on the rating\n",
    "def pred_rating (baseline_20):\n",
    "    return baseline_20[\"pred_rating\"]"
   ],
   "metadata": {
    "collapsed": false,
    "ExecuteTime": {
     "end_time": "2023-10-08T21:31:18.343708100Z",
     "start_time": "2023-10-08T21:31:18.265400900Z"
    }
   },
   "id": "d1c6ec08ac06a1fc"
  },
  {
   "cell_type": "code",
   "execution_count": 173,
   "outputs": [
    {
     "data": {
      "text/plain": "business_id\nCJoO4HYD0tZRXlZqA04wmw    4.702745\njh8j-DWqgWkbRe_a2XtKFQ    4.688123\n6OwxdpajDSJi3DkMqkr2sw    4.643763\nLQcGL4hfJAeK6bk2ZdhmXw    4.582100\nDVBJRvnCpkqaYl6nHroaMg    4.580403\n3qsHL1xuMPlPqQciHNYkeg    4.574600\nH5nMeiXJmLpBALeV8A-FeQ    4.565709\nNggy_QUDxaLlrcQAQf7GnQ    4.535794\nDU2KrvS9kBBV-HwzE2fQrA    4.527644\n2VPX222bhizLlWZrLQL3PQ    4.480992\nName: pred_rating, dtype: float64"
     },
     "execution_count": 173,
     "metadata": {},
     "output_type": "execute_result"
    }
   ],
   "source": [
    "top10_2=baseline_20.groupby('business_id')[\"pred_rating\"].mean()\n",
    "top10_2.sort_values(ascending=False).head(10)"
   ],
   "metadata": {
    "collapsed": false,
    "ExecuteTime": {
     "end_time": "2023-10-08T21:31:19.794141400Z",
     "start_time": "2023-10-08T21:31:19.731171Z"
    }
   },
   "id": "9c0f3daf2fdf836c"
  },
  {
   "cell_type": "code",
   "execution_count": 174,
   "outputs": [
    {
     "name": "stdout",
     "output_type": "stream",
     "text": [
      "<class 'pandas.core.frame.DataFrame'>\n"
     ]
    }
   ],
   "source": [
    "resultado_2=top10_2.to_frame()\n",
    "print(type(resultado_2))"
   ],
   "metadata": {
    "collapsed": false,
    "ExecuteTime": {
     "end_time": "2023-10-08T21:31:22.608406600Z",
     "start_time": "2023-10-08T21:31:22.529827600Z"
    }
   },
   "id": "cf6241d104644cc2"
  },
  {
   "cell_type": "code",
   "execution_count": 175,
   "outputs": [
    {
     "data": {
      "text/plain": "              business_id  pred_rating             restaurant\n0  -0G_6-KFGpCpxTUlVXCMYQ     3.759437               Gio Taco\n1  -1MhPXk1FglglUAmuPLIGg     4.083173      Red Garter Saloon\n2  -3-6BB10tIWNKGEF0Es2BA     3.578757  The 81 Hong Kong Cafe\n3  -OX0MJDPRHV0RCRvwYnvBQ     4.422769             NI HAO TEA\n4  -SZ-p4o6gJPOJ--HA3NKcw     3.421332          Nimbus Bistro\n5  -TzFN6nWvbVRARY2B11Epg     3.913971            Mimi's Cafe\n6  -iGzevsRYAi990-Lt-iMoQ     3.623673               US Fries\n7  -lHpvtlMkRu0oRIXJkystA     3.684716              Bistro 44\n8  -pRU97z3uPU_M7yUf5yzMg     3.559112                Micha's\n9  -xtnwq4VBA2XFobjDGz0Ww     3.516560            Red Lobster",
      "text/html": "<div>\n<style scoped>\n    .dataframe tbody tr th:only-of-type {\n        vertical-align: middle;\n    }\n\n    .dataframe tbody tr th {\n        vertical-align: top;\n    }\n\n    .dataframe thead th {\n        text-align: right;\n    }\n</style>\n<table border=\"1\" class=\"dataframe\">\n  <thead>\n    <tr style=\"text-align: right;\">\n      <th></th>\n      <th>business_id</th>\n      <th>pred_rating</th>\n      <th>restaurant</th>\n    </tr>\n  </thead>\n  <tbody>\n    <tr>\n      <th>0</th>\n      <td>-0G_6-KFGpCpxTUlVXCMYQ</td>\n      <td>3.759437</td>\n      <td>Gio Taco</td>\n    </tr>\n    <tr>\n      <th>1</th>\n      <td>-1MhPXk1FglglUAmuPLIGg</td>\n      <td>4.083173</td>\n      <td>Red Garter Saloon</td>\n    </tr>\n    <tr>\n      <th>2</th>\n      <td>-3-6BB10tIWNKGEF0Es2BA</td>\n      <td>3.578757</td>\n      <td>The 81 Hong Kong Cafe</td>\n    </tr>\n    <tr>\n      <th>3</th>\n      <td>-OX0MJDPRHV0RCRvwYnvBQ</td>\n      <td>4.422769</td>\n      <td>NI HAO TEA</td>\n    </tr>\n    <tr>\n      <th>4</th>\n      <td>-SZ-p4o6gJPOJ--HA3NKcw</td>\n      <td>3.421332</td>\n      <td>Nimbus Bistro</td>\n    </tr>\n    <tr>\n      <th>5</th>\n      <td>-TzFN6nWvbVRARY2B11Epg</td>\n      <td>3.913971</td>\n      <td>Mimi's Cafe</td>\n    </tr>\n    <tr>\n      <th>6</th>\n      <td>-iGzevsRYAi990-Lt-iMoQ</td>\n      <td>3.623673</td>\n      <td>US Fries</td>\n    </tr>\n    <tr>\n      <th>7</th>\n      <td>-lHpvtlMkRu0oRIXJkystA</td>\n      <td>3.684716</td>\n      <td>Bistro 44</td>\n    </tr>\n    <tr>\n      <th>8</th>\n      <td>-pRU97z3uPU_M7yUf5yzMg</td>\n      <td>3.559112</td>\n      <td>Micha's</td>\n    </tr>\n    <tr>\n      <th>9</th>\n      <td>-xtnwq4VBA2XFobjDGz0Ww</td>\n      <td>3.516560</td>\n      <td>Red Lobster</td>\n    </tr>\n  </tbody>\n</table>\n</div>"
     },
     "execution_count": 175,
     "metadata": {},
     "output_type": "execute_result"
    }
   ],
   "source": [
    "df_join_2=resultado_2.merge(df_res_bus[[\"business_id\",\"restaurant\"]],how=\"inner\",on=\"business_id\")\n",
    "df_join_2.head(10)"
   ],
   "metadata": {
    "collapsed": false,
    "ExecuteTime": {
     "end_time": "2023-10-08T21:31:23.977936500Z",
     "start_time": "2023-10-08T21:31:23.870783300Z"
    }
   },
   "id": "893631b768f72d65"
  },
  {
   "cell_type": "code",
   "execution_count": 176,
   "outputs": [
    {
     "data": {
      "text/plain": "                business_id  pred_rating                      restaurant\n151  CJoO4HYD0tZRXlZqA04wmw     4.702745                Crave Coffee Bar\n515  jh8j-DWqgWkbRe_a2XtKFQ     4.688123                    Barrio Bread\n90   6OwxdpajDSJi3DkMqkr2sw     4.643763              Barista Del Barrio\n249  LQcGL4hfJAeK6bk2ZdhmXw     4.582100                Aqui Con El Nene\n160  DVBJRvnCpkqaYl6nHroaMg     4.580403                        Tumerico\n..                      ...          ...                             ...\n94   6zxPHDdLUNhCSLSeHlCVNg     2.803666  Something Sweet Dessert Lounge\n150  CJe2beFHYTOG0-0-dqAIrg     2.768887            Native Grill & Wings\n641  vpc5PFLMo0oJQzuNZaSlyA     2.757555          Applebee's Grill + Bar\n475  gIIZQRP878_yceemj2bK_A     2.615569       HI FI Kitchen & Cocktails\n434  dEMsUFNB4ckBFdB90jKLEA     2.512448                      Fuku Sushi\n\n[702 rows x 3 columns]",
      "text/html": "<div>\n<style scoped>\n    .dataframe tbody tr th:only-of-type {\n        vertical-align: middle;\n    }\n\n    .dataframe tbody tr th {\n        vertical-align: top;\n    }\n\n    .dataframe thead th {\n        text-align: right;\n    }\n</style>\n<table border=\"1\" class=\"dataframe\">\n  <thead>\n    <tr style=\"text-align: right;\">\n      <th></th>\n      <th>business_id</th>\n      <th>pred_rating</th>\n      <th>restaurant</th>\n    </tr>\n  </thead>\n  <tbody>\n    <tr>\n      <th>151</th>\n      <td>CJoO4HYD0tZRXlZqA04wmw</td>\n      <td>4.702745</td>\n      <td>Crave Coffee Bar</td>\n    </tr>\n    <tr>\n      <th>515</th>\n      <td>jh8j-DWqgWkbRe_a2XtKFQ</td>\n      <td>4.688123</td>\n      <td>Barrio Bread</td>\n    </tr>\n    <tr>\n      <th>90</th>\n      <td>6OwxdpajDSJi3DkMqkr2sw</td>\n      <td>4.643763</td>\n      <td>Barista Del Barrio</td>\n    </tr>\n    <tr>\n      <th>249</th>\n      <td>LQcGL4hfJAeK6bk2ZdhmXw</td>\n      <td>4.582100</td>\n      <td>Aqui Con El Nene</td>\n    </tr>\n    <tr>\n      <th>160</th>\n      <td>DVBJRvnCpkqaYl6nHroaMg</td>\n      <td>4.580403</td>\n      <td>Tumerico</td>\n    </tr>\n    <tr>\n      <th>...</th>\n      <td>...</td>\n      <td>...</td>\n      <td>...</td>\n    </tr>\n    <tr>\n      <th>94</th>\n      <td>6zxPHDdLUNhCSLSeHlCVNg</td>\n      <td>2.803666</td>\n      <td>Something Sweet Dessert Lounge</td>\n    </tr>\n    <tr>\n      <th>150</th>\n      <td>CJe2beFHYTOG0-0-dqAIrg</td>\n      <td>2.768887</td>\n      <td>Native Grill &amp; Wings</td>\n    </tr>\n    <tr>\n      <th>641</th>\n      <td>vpc5PFLMo0oJQzuNZaSlyA</td>\n      <td>2.757555</td>\n      <td>Applebee's Grill + Bar</td>\n    </tr>\n    <tr>\n      <th>475</th>\n      <td>gIIZQRP878_yceemj2bK_A</td>\n      <td>2.615569</td>\n      <td>HI FI Kitchen &amp; Cocktails</td>\n    </tr>\n    <tr>\n      <th>434</th>\n      <td>dEMsUFNB4ckBFdB90jKLEA</td>\n      <td>2.512448</td>\n      <td>Fuku Sushi</td>\n    </tr>\n  </tbody>\n</table>\n<p>702 rows × 3 columns</p>\n</div>"
     },
     "execution_count": 176,
     "metadata": {},
     "output_type": "execute_result"
    }
   ],
   "source": [
    "df_join_2.sort_values(by=\"pred_rating\", ascending=False)"
   ],
   "metadata": {
    "collapsed": false,
    "ExecuteTime": {
     "end_time": "2023-10-08T21:31:27.905823700Z",
     "start_time": "2023-10-08T21:31:27.811643800Z"
    }
   },
   "id": "8a2eabd3f17ab1af"
  },
  {
   "cell_type": "code",
   "execution_count": null,
   "outputs": [],
   "source": [],
   "metadata": {
    "collapsed": false,
    "ExecuteTime": {
     "start_time": "2023-10-08T21:29:38.441310700Z"
    }
   },
   "id": "a73ed1573fae737d"
  }
 ],
 "metadata": {
  "kernelspec": {
   "display_name": "Python 3",
   "language": "python",
   "name": "python3"
  },
  "language_info": {
   "codemirror_mode": {
    "name": "ipython",
    "version": 2
   },
   "file_extension": ".py",
   "mimetype": "text/x-python",
   "name": "python",
   "nbconvert_exporter": "python",
   "pygments_lexer": "ipython2",
   "version": "2.7.6"
  }
 },
 "nbformat": 4,
 "nbformat_minor": 5
}
